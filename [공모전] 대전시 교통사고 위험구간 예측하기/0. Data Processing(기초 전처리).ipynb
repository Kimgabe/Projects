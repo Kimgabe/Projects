{
 "cells": [
  {
   "cell_type": "code",
   "execution_count": 1,
   "id": "essential-relations",
   "metadata": {
    "scrolled": true
   },
   "outputs": [
    {
     "name": "stderr",
     "output_type": "stream",
     "text": [
      "/opt/app-root/lib/python3.6/site-packages/geopandas/_compat.py:110: UserWarning: The Shapely GEOS version (3.8.0-CAPI-1.13.1 ) is incompatible with the GEOS version PyGEOS was compiled with (3.9.0-CAPI-1.16.2). Conversions between both will be slow.\n",
      "  shapely_geos_version, geos_capi_version_string\n"
     ]
    }
   ],
   "source": [
    "# 필요한 라이브러리 import\n",
    "\n",
    "import folium\n",
    "import numpy as np\n",
    "import pandas as pd\n",
    "from tqdm import tqdm\n",
    "\n",
    "# 컬럼 전체 확인 가능하도록 출력 범위 설정\n",
    "pd.set_option('display.max_columns', 500)\n",
    "pd.set_option('display.width', 1000)\n",
    "\n",
    "\n",
    "import geopandas as gpd\n",
    "\n",
    "#시각화 모듈\n",
    "import matplotlib.pyplot as plt\n",
    "import matplotlib.font_manager as fm\n",
    "import seaborn as sns\n",
    "\n",
    "\n",
    "# 한글 글자 깨짐 방지\n",
    "plt.rcParams[\"font.family\"] = 'Nanum Gothic'\n",
    "sns.set(font=\"Malgun Gothic\", \n",
    "        rc={\"axes.unicode_minus\":False},\n",
    "        style='darkgrid')\n",
    "\n",
    "\n",
    "# 불필요한 경고 표시 생략\n",
    "import warnings\n",
    "warnings.filterwarnings(action = 'ignore')"
   ]
  },
  {
   "cell_type": "code",
   "execution_count": 2,
   "id": "crazy-cleaning",
   "metadata": {},
   "outputs": [],
   "source": [
    "# 결측치 확인용 함수\n",
    "\n",
    "def check_null(data):\n",
    "    return data.isnull().sum(axis=0)"
   ]
  },
  {
   "cell_type": "markdown",
   "id": "considerable-state",
   "metadata": {},
   "source": [
    "# Type 1. gid, geometry로 병합할 수 없는 데이터\n",
    "---\n",
    "**data1:** 16.대전광역시_기상데이터(2017~2019).csv"
   ]
  },
  {
   "cell_type": "code",
   "execution_count": 3,
   "id": "silver-ferry",
   "metadata": {},
   "outputs": [],
   "source": [
    "data1 = pd.read_csv('16.대전광역시_기상데이터(2017~2019).csv')"
   ]
  },
  {
   "cell_type": "markdown",
   "id": "composite-theme",
   "metadata": {},
   "source": [
    "## data1 - 날씨 데이터"
   ]
  },
  {
   "cell_type": "code",
   "execution_count": 4,
   "id": "hybrid-wrestling",
   "metadata": {},
   "outputs": [],
   "source": [
    "data1 = pd.read_csv('16.대전광역시_기상데이터(2017~2019).csv')"
   ]
  },
  {
   "cell_type": "code",
   "execution_count": 5,
   "id": "developmental-floor",
   "metadata": {
    "scrolled": true
   },
   "outputs": [
    {
     "data": {
      "text/plain": [
       "일시                   0\n",
       "평균기온(°C)             0\n",
       "최저기온(°C)             0\n",
       "최고기온(°C)             0\n",
       "일강수량(mm)           677\n",
       "최대 풍속(m/s)           0\n",
       "최대 풍속 풍향(16방위)       0\n",
       "평균 풍속(m/s)           2\n",
       "평균 상대습도(%)           0\n",
       "일 최심적설(cm)        1053\n",
       "평균 지면온도(°C)          0\n",
       "안개 계속시간(hr)       1045\n",
       "dtype: int64"
      ]
     },
     "execution_count": 5,
     "metadata": {},
     "output_type": "execute_result"
    }
   ],
   "source": [
    "check_null(data1)"
   ]
  },
  {
   "cell_type": "code",
   "execution_count": 6,
   "id": "studied-belly",
   "metadata": {},
   "outputs": [],
   "source": [
    "# 날씨 데이터상에 값이 없는 것은 누락된 것으로 판단(도메인 지식) -> 해당 값을 모두 0으로 치환\n",
    "# data1 = data1.fillna(0)로 처리할 수도 있으나 확실한 처리를 위해 각 컬럼별로 치환한뒤 fillna(0)처리\n",
    "\n",
    "def fill_empty_to_0(culumn):\n",
    "    data1[culumn].replace('', 0, inplace=True)\n",
    "    return data1"
   ]
  },
  {
   "cell_type": "code",
   "execution_count": 7,
   "id": "professional-intention",
   "metadata": {},
   "outputs": [],
   "source": [
    "has_0val_col = ['일강수량(mm)','평균 풍속(m/s)','일 최심적설(cm)','안개 계속시간(hr)']\n",
    "\n",
    "\n",
    "for i in has_0val_col:\n",
    "    fill_empty_to_0(i)\n",
    "\n",
    "data1 = data1.fillna(0)"
   ]
  },
  {
   "cell_type": "code",
   "execution_count": 8,
   "id": "qualified-active",
   "metadata": {},
   "outputs": [
    {
     "name": "stdout",
     "output_type": "stream",
     "text": [
      "<class 'pandas.core.frame.DataFrame'>\n",
      "RangeIndex: 1095 entries, 0 to 1094\n",
      "Data columns (total 12 columns):\n",
      " #   Column          Non-Null Count  Dtype  \n",
      "---  ------          --------------  -----  \n",
      " 0   사고일             1095 non-null   object \n",
      " 1   평균기온(°C)        1095 non-null   float64\n",
      " 2   최저기온(°C)        1095 non-null   float64\n",
      " 3   최고기온(°C)        1095 non-null   float64\n",
      " 4   일강수량(mm)        1095 non-null   float64\n",
      " 5   최대 풍속(m/s)      1095 non-null   float64\n",
      " 6   최대 풍속 풍향(16방위)  1095 non-null   int64  \n",
      " 7   평균 풍속(m/s)      1095 non-null   float64\n",
      " 8   평균 상대습도(%)      1095 non-null   float64\n",
      " 9   일 최심적설(cm)      1095 non-null   float64\n",
      " 10  평균 지면온도(°C)     1095 non-null   float64\n",
      " 11  안개 계속시간(hr)     1095 non-null   float64\n",
      "dtypes: float64(10), int64(1), object(1)\n",
      "memory usage: 102.8+ KB\n"
     ]
    }
   ],
   "source": [
    "# 2번 노트 (Data Processing) 에서 사고일과 병합때 사용하기 위해 일시 -> 사고일로 rename\n",
    "data1.rename(columns = {'일시' : '사고일'}, inplace = True)\n",
    "\n",
    "# 전처리 결과 확인\n",
    "data1.info()"
   ]
  },
  {
   "cell_type": "code",
   "execution_count": 9,
   "id": "virgin-groove",
   "metadata": {},
   "outputs": [],
   "source": [
    "data1.to_csv('weather_data.csv', index=False )"
   ]
  },
  {
   "cell_type": "markdown",
   "id": "incorrect-latter",
   "metadata": {},
   "source": [
    "# Type 2. 사고격자와 gid or geometry 로 병합 가능한 데이터\n",
    "---\n",
    "- gid or geometry 기준으로 병합\n",
    "\n",
    "\n",
    "**data2:** = 12.대전광역시_인구정보(총인구) \n",
    "\n",
    "**data3:** =  13.대전광역시_인구정보(고령) \n",
    "\n",
    "**data4:** =  14.대전광역시_인구정보(생산가능)  \n",
    "\n",
    "**data5:** =  15.대전광역시_인구정보(유소년)  \n",
    "\n",
    "**data6:** =  20.대전광역시_평일_일별_시간대별_추정교통량(2018) \n",
    "\n",
    "**data7:** =  21.대전광역시_평일_일별_혼잡빈도강도(2018) \n",
    "\n",
    "**data8:** =  22.대전광역시_평일_일별_혼잡시간강도(2018) "
   ]
  },
  {
   "cell_type": "code",
   "execution_count": 10,
   "id": "functioning-brush",
   "metadata": {},
   "outputs": [],
   "source": [
    "data2 = gpd.read_file('12.대전광역시_인구정보(총인구).geojson')\n",
    "data3 = gpd.read_file('13.대전광역시_인구정보(고령).geojson')\n",
    "data4 = gpd.read_file('14.대전광역시_인구정보(생산가능).geojson')\n",
    "data5 = gpd.read_file('15.대전광역시_인구정보(유소년).geojson')\n",
    "data6 = gpd.read_file('18.대전광역시_교통노드(2018).geojson')\n",
    "data7 = pd.read_csv('20.대전광역시_평일_일별_시간대별_추정교통량(2018).csv')\n",
    "data8 = pd.read_csv('21.대전광역시_평일_일별_혼잡빈도강도(2018).csv')\n",
    "data9 = pd.read_csv('22.대전광역시_평일_일별_혼잡시간강도(2018).csv')"
   ]
  },
  {
   "cell_type": "code",
   "execution_count": 11,
   "id": "original-greenhouse",
   "metadata": {},
   "outputs": [],
   "source": [
    "# 인구 데이터 전처리용 함수 생성\n",
    "# val에 있는 nan값 전처리 -> 거주 인구가 없는 지역이므로 0으로 처리(도메인 지식)\n",
    "\n",
    "def convert_null_zero(tabel):\n",
    "    isnull_sum = tabel.isnull().sum(axis=0)\n",
    "    col_name = []\n",
    "    \n",
    "    for i, z in enumerate(isnull_sum.values):\n",
    "        if z != 0:\n",
    "            print(\"{0}:     {1}\".format(isnull_sum.keys()[i], isnull_sum[i]))\n",
    "            col_name.append(isnull_sum.keys()[i])\n",
    "            \n",
    "    tabel[col_name] = tabel[col_name].fillna(0)\n",
    "    # 전처리 결과 출력\n",
    "    print(tabel.info())\n",
    "    return tabel"
   ]
  },
  {
   "cell_type": "markdown",
   "id": "competitive-mercy",
   "metadata": {},
   "source": [
    "# 데이터  2 : 총 인구 데이터\n",
    "|Col|Meaning|\n",
    "|:-|:-|\n",
    "|gid|격자 고유 번호|\n",
    "|val|해당 격자당 인구 수|\n",
    "|geometry|격자데이터|\n",
    "\n",
    "- 대전시 전체 격자를 기준으로 한 것이기 때문에 거주인구가 없는 격자는 NaN값이 발생할 수 있다."
   ]
  },
  {
   "cell_type": "code",
   "execution_count": 12,
   "id": "metropolitan-gender",
   "metadata": {},
   "outputs": [
    {
     "data": {
      "text/html": [
       "<div>\n",
       "<style scoped>\n",
       "    .dataframe tbody tr th:only-of-type {\n",
       "        vertical-align: middle;\n",
       "    }\n",
       "\n",
       "    .dataframe tbody tr th {\n",
       "        vertical-align: top;\n",
       "    }\n",
       "\n",
       "    .dataframe thead th {\n",
       "        text-align: right;\n",
       "    }\n",
       "</style>\n",
       "<table border=\"1\" class=\"dataframe\">\n",
       "  <thead>\n",
       "    <tr style=\"text-align: right;\">\n",
       "      <th></th>\n",
       "      <th>gid</th>\n",
       "      <th>val</th>\n",
       "      <th>geometry</th>\n",
       "    </tr>\n",
       "  </thead>\n",
       "  <tbody>\n",
       "    <tr>\n",
       "      <th>0</th>\n",
       "      <td>다마846996</td>\n",
       "      <td>NaN</td>\n",
       "      <td>MULTIPOLYGON (((127.32871 36.19342, 127.32871 ...</td>\n",
       "    </tr>\n",
       "    <tr>\n",
       "      <th>1</th>\n",
       "      <td>다마847995</td>\n",
       "      <td>NaN</td>\n",
       "      <td>MULTIPOLYGON (((127.32983 36.19252, 127.32982 ...</td>\n",
       "    </tr>\n",
       "    <tr>\n",
       "      <th>2</th>\n",
       "      <td>다마847996</td>\n",
       "      <td>NaN</td>\n",
       "      <td>MULTIPOLYGON (((127.32982 36.19342, 127.32982 ...</td>\n",
       "    </tr>\n",
       "    <tr>\n",
       "      <th>3</th>\n",
       "      <td>다마847997</td>\n",
       "      <td>NaN</td>\n",
       "      <td>MULTIPOLYGON (((127.32982 36.19432, 127.32982 ...</td>\n",
       "    </tr>\n",
       "    <tr>\n",
       "      <th>4</th>\n",
       "      <td>다마847998</td>\n",
       "      <td>NaN</td>\n",
       "      <td>MULTIPOLYGON (((127.32982 36.19522, 127.32982 ...</td>\n",
       "    </tr>\n",
       "  </tbody>\n",
       "</table>\n",
       "</div>"
      ],
      "text/plain": [
       "        gid  val                                           geometry\n",
       "0  다마846996  NaN  MULTIPOLYGON (((127.32871 36.19342, 127.32871 ...\n",
       "1  다마847995  NaN  MULTIPOLYGON (((127.32983 36.19252, 127.32982 ...\n",
       "2  다마847996  NaN  MULTIPOLYGON (((127.32982 36.19342, 127.32982 ...\n",
       "3  다마847997  NaN  MULTIPOLYGON (((127.32982 36.19432, 127.32982 ...\n",
       "4  다마847998  NaN  MULTIPOLYGON (((127.32982 36.19522, 127.32982 ..."
      ]
     },
     "execution_count": 12,
     "metadata": {},
     "output_type": "execute_result"
    }
   ],
   "source": [
    "data2.head()"
   ]
  },
  {
   "cell_type": "code",
   "execution_count": 13,
   "id": "accomplished-motion",
   "metadata": {},
   "outputs": [
    {
     "data": {
      "text/plain": [
       "gid             0\n",
       "val         43803\n",
       "geometry        0\n",
       "dtype: int64"
      ]
     },
     "execution_count": 13,
     "metadata": {},
     "output_type": "execute_result"
    }
   ],
   "source": [
    "check_null(data2)"
   ]
  },
  {
   "cell_type": "code",
   "execution_count": 14,
   "id": "auburn-casino",
   "metadata": {},
   "outputs": [
    {
     "name": "stdout",
     "output_type": "stream",
     "text": [
      "val:     43803\n",
      "<class 'geopandas.geodataframe.GeoDataFrame'>\n",
      "RangeIndex: 54912 entries, 0 to 54911\n",
      "Data columns (total 3 columns):\n",
      " #   Column    Non-Null Count  Dtype   \n",
      "---  ------    --------------  -----   \n",
      " 0   gid       54912 non-null  object  \n",
      " 1   val       54912 non-null  float64 \n",
      " 2   geometry  54912 non-null  geometry\n",
      "dtypes: float64(1), geometry(1), object(1)\n",
      "memory usage: 1.3+ MB\n",
      "None\n"
     ]
    }
   ],
   "source": [
    "data2 = convert_null_zero(data2)"
   ]
  },
  {
   "cell_type": "code",
   "execution_count": 15,
   "id": "concerned-grenada",
   "metadata": {},
   "outputs": [],
   "source": [
    "# 추가 전처리 위해 파일로 저장\n",
    "data2.to_file('total_population.geojson', driver= 'GeoJSON')"
   ]
  },
  {
   "cell_type": "markdown",
   "id": "rental-ending",
   "metadata": {},
   "source": [
    "# 데이터 3 : 고령자 데이터 \n",
    "\n",
    "|Col|Meaning|\n",
    "|:-|:-|\n",
    "|gid|격자 고유 번호|\n",
    "|val|해당 격자당 고령자 인구 수|\n",
    "|geometry|격자데이터|\n",
    "\n",
    "- 대전시 전체 격자를 기준으로 한 것이기 때문에 거주인구가 없는 격자는 NaN값이 발생할 수 있다."
   ]
  },
  {
   "cell_type": "code",
   "execution_count": 16,
   "id": "sufficient-karaoke",
   "metadata": {},
   "outputs": [
    {
     "data": {
      "text/html": [
       "<div>\n",
       "<style scoped>\n",
       "    .dataframe tbody tr th:only-of-type {\n",
       "        vertical-align: middle;\n",
       "    }\n",
       "\n",
       "    .dataframe tbody tr th {\n",
       "        vertical-align: top;\n",
       "    }\n",
       "\n",
       "    .dataframe thead th {\n",
       "        text-align: right;\n",
       "    }\n",
       "</style>\n",
       "<table border=\"1\" class=\"dataframe\">\n",
       "  <thead>\n",
       "    <tr style=\"text-align: right;\">\n",
       "      <th></th>\n",
       "      <th>gid</th>\n",
       "      <th>val</th>\n",
       "      <th>geometry</th>\n",
       "    </tr>\n",
       "  </thead>\n",
       "  <tbody>\n",
       "    <tr>\n",
       "      <th>0</th>\n",
       "      <td>다마846996</td>\n",
       "      <td>NaN</td>\n",
       "      <td>MULTIPOLYGON (((127.32871 36.19342, 127.32871 ...</td>\n",
       "    </tr>\n",
       "    <tr>\n",
       "      <th>1</th>\n",
       "      <td>다마847995</td>\n",
       "      <td>NaN</td>\n",
       "      <td>MULTIPOLYGON (((127.32983 36.19252, 127.32982 ...</td>\n",
       "    </tr>\n",
       "    <tr>\n",
       "      <th>2</th>\n",
       "      <td>다마847996</td>\n",
       "      <td>NaN</td>\n",
       "      <td>MULTIPOLYGON (((127.32982 36.19342, 127.32982 ...</td>\n",
       "    </tr>\n",
       "    <tr>\n",
       "      <th>3</th>\n",
       "      <td>다마847997</td>\n",
       "      <td>NaN</td>\n",
       "      <td>MULTIPOLYGON (((127.32982 36.19432, 127.32982 ...</td>\n",
       "    </tr>\n",
       "    <tr>\n",
       "      <th>4</th>\n",
       "      <td>다마847998</td>\n",
       "      <td>NaN</td>\n",
       "      <td>MULTIPOLYGON (((127.32982 36.19522, 127.32982 ...</td>\n",
       "    </tr>\n",
       "  </tbody>\n",
       "</table>\n",
       "</div>"
      ],
      "text/plain": [
       "        gid  val                                           geometry\n",
       "0  다마846996  NaN  MULTIPOLYGON (((127.32871 36.19342, 127.32871 ...\n",
       "1  다마847995  NaN  MULTIPOLYGON (((127.32983 36.19252, 127.32982 ...\n",
       "2  다마847996  NaN  MULTIPOLYGON (((127.32982 36.19342, 127.32982 ...\n",
       "3  다마847997  NaN  MULTIPOLYGON (((127.32982 36.19432, 127.32982 ...\n",
       "4  다마847998  NaN  MULTIPOLYGON (((127.32982 36.19522, 127.32982 ..."
      ]
     },
     "execution_count": 16,
     "metadata": {},
     "output_type": "execute_result"
    }
   ],
   "source": [
    "data3.head()"
   ]
  },
  {
   "cell_type": "code",
   "execution_count": 17,
   "id": "solved-colombia",
   "metadata": {},
   "outputs": [
    {
     "data": {
      "text/plain": [
       "gid             0\n",
       "val         45238\n",
       "geometry        0\n",
       "dtype: int64"
      ]
     },
     "execution_count": 17,
     "metadata": {},
     "output_type": "execute_result"
    }
   ],
   "source": [
    "check_null(data3)"
   ]
  },
  {
   "cell_type": "code",
   "execution_count": 18,
   "id": "illegal-disney",
   "metadata": {},
   "outputs": [
    {
     "name": "stdout",
     "output_type": "stream",
     "text": [
      "val:     45238\n",
      "<class 'geopandas.geodataframe.GeoDataFrame'>\n",
      "RangeIndex: 54912 entries, 0 to 54911\n",
      "Data columns (total 3 columns):\n",
      " #   Column    Non-Null Count  Dtype   \n",
      "---  ------    --------------  -----   \n",
      " 0   gid       54912 non-null  object  \n",
      " 1   val       54912 non-null  float64 \n",
      " 2   geometry  54912 non-null  geometry\n",
      "dtypes: float64(1), geometry(1), object(1)\n",
      "memory usage: 1.3+ MB\n",
      "None\n"
     ]
    }
   ],
   "source": [
    "data3 = convert_null_zero(data3)"
   ]
  },
  {
   "cell_type": "code",
   "execution_count": 19,
   "id": "russian-jersey",
   "metadata": {},
   "outputs": [],
   "source": [
    "data3.to_file('old_population.geojson', driver= 'GeoJSON')"
   ]
  },
  {
   "cell_type": "markdown",
   "id": "liked-danger",
   "metadata": {},
   "source": [
    "# 데이터 4 : 생산가능 인구\n",
    "\n",
    "|Col|Meaning|\n",
    "|:-|:-|\n",
    "|gid|격자 고유 번호|\n",
    "|val|해당 격자당 생산가능 인구 수|\n",
    "|geometry|격자데이터|\n",
    "\n",
    "- 대전시 전체 격자를 기준으로 한 것이기 때문에 거주인구가 없는 격자는 NaN값이 발생할 수 있다."
   ]
  },
  {
   "cell_type": "code",
   "execution_count": 20,
   "id": "formal-binding",
   "metadata": {},
   "outputs": [
    {
     "data": {
      "text/html": [
       "<div>\n",
       "<style scoped>\n",
       "    .dataframe tbody tr th:only-of-type {\n",
       "        vertical-align: middle;\n",
       "    }\n",
       "\n",
       "    .dataframe tbody tr th {\n",
       "        vertical-align: top;\n",
       "    }\n",
       "\n",
       "    .dataframe thead th {\n",
       "        text-align: right;\n",
       "    }\n",
       "</style>\n",
       "<table border=\"1\" class=\"dataframe\">\n",
       "  <thead>\n",
       "    <tr style=\"text-align: right;\">\n",
       "      <th></th>\n",
       "      <th>gid</th>\n",
       "      <th>val</th>\n",
       "      <th>geometry</th>\n",
       "    </tr>\n",
       "  </thead>\n",
       "  <tbody>\n",
       "    <tr>\n",
       "      <th>0</th>\n",
       "      <td>다마846996</td>\n",
       "      <td>NaN</td>\n",
       "      <td>MULTIPOLYGON (((127.32871 36.19342, 127.32871 ...</td>\n",
       "    </tr>\n",
       "    <tr>\n",
       "      <th>1</th>\n",
       "      <td>다마847995</td>\n",
       "      <td>NaN</td>\n",
       "      <td>MULTIPOLYGON (((127.32983 36.19252, 127.32982 ...</td>\n",
       "    </tr>\n",
       "    <tr>\n",
       "      <th>2</th>\n",
       "      <td>다마847996</td>\n",
       "      <td>NaN</td>\n",
       "      <td>MULTIPOLYGON (((127.32982 36.19342, 127.32982 ...</td>\n",
       "    </tr>\n",
       "    <tr>\n",
       "      <th>3</th>\n",
       "      <td>다마847997</td>\n",
       "      <td>NaN</td>\n",
       "      <td>MULTIPOLYGON (((127.32982 36.19432, 127.32982 ...</td>\n",
       "    </tr>\n",
       "    <tr>\n",
       "      <th>4</th>\n",
       "      <td>다마847998</td>\n",
       "      <td>NaN</td>\n",
       "      <td>MULTIPOLYGON (((127.32982 36.19522, 127.32982 ...</td>\n",
       "    </tr>\n",
       "  </tbody>\n",
       "</table>\n",
       "</div>"
      ],
      "text/plain": [
       "        gid  val                                           geometry\n",
       "0  다마846996  NaN  MULTIPOLYGON (((127.32871 36.19342, 127.32871 ...\n",
       "1  다마847995  NaN  MULTIPOLYGON (((127.32983 36.19252, 127.32982 ...\n",
       "2  다마847996  NaN  MULTIPOLYGON (((127.32982 36.19342, 127.32982 ...\n",
       "3  다마847997  NaN  MULTIPOLYGON (((127.32982 36.19432, 127.32982 ...\n",
       "4  다마847998  NaN  MULTIPOLYGON (((127.32982 36.19522, 127.32982 ..."
      ]
     },
     "execution_count": 20,
     "metadata": {},
     "output_type": "execute_result"
    }
   ],
   "source": [
    "data4.head()"
   ]
  },
  {
   "cell_type": "code",
   "execution_count": 21,
   "id": "fitting-lucas",
   "metadata": {},
   "outputs": [
    {
     "data": {
      "text/plain": [
       "gid             0\n",
       "val         44359\n",
       "geometry        0\n",
       "dtype: int64"
      ]
     },
     "execution_count": 21,
     "metadata": {},
     "output_type": "execute_result"
    }
   ],
   "source": [
    "check_null(data4)"
   ]
  },
  {
   "cell_type": "code",
   "execution_count": 22,
   "id": "raising-platform",
   "metadata": {},
   "outputs": [
    {
     "name": "stdout",
     "output_type": "stream",
     "text": [
      "val:     44359\n",
      "<class 'geopandas.geodataframe.GeoDataFrame'>\n",
      "RangeIndex: 54912 entries, 0 to 54911\n",
      "Data columns (total 3 columns):\n",
      " #   Column    Non-Null Count  Dtype   \n",
      "---  ------    --------------  -----   \n",
      " 0   gid       54912 non-null  object  \n",
      " 1   val       54912 non-null  float64 \n",
      " 2   geometry  54912 non-null  geometry\n",
      "dtypes: float64(1), geometry(1), object(1)\n",
      "memory usage: 1.3+ MB\n",
      "None\n"
     ]
    }
   ],
   "source": [
    "data4 = convert_null_zero(data4)"
   ]
  },
  {
   "cell_type": "code",
   "execution_count": 23,
   "id": "complete-locking",
   "metadata": {},
   "outputs": [],
   "source": [
    "data4.to_file('labor_population.geojson', driver= 'GeoJSON')"
   ]
  },
  {
   "cell_type": "markdown",
   "id": "parliamentary-blood",
   "metadata": {},
   "source": [
    "# 데이터 5 : 유소년 인구\n",
    "\n",
    "|Col|Meaning|\n",
    "|:-|:-|\n",
    "|gid|격자 고유 번호|\n",
    "|val|해당 격자당 유소년 인구 수|\n",
    "|geometry|격자데이터|\n",
    "\n",
    "- 대전시 전체 격자를 기준으로 한 것이기 때문에 거주인구가 없는 격자는 NaN값이 발생할 수 있다."
   ]
  },
  {
   "cell_type": "code",
   "execution_count": 24,
   "id": "adolescent-roman",
   "metadata": {},
   "outputs": [
    {
     "data": {
      "text/html": [
       "<div>\n",
       "<style scoped>\n",
       "    .dataframe tbody tr th:only-of-type {\n",
       "        vertical-align: middle;\n",
       "    }\n",
       "\n",
       "    .dataframe tbody tr th {\n",
       "        vertical-align: top;\n",
       "    }\n",
       "\n",
       "    .dataframe thead th {\n",
       "        text-align: right;\n",
       "    }\n",
       "</style>\n",
       "<table border=\"1\" class=\"dataframe\">\n",
       "  <thead>\n",
       "    <tr style=\"text-align: right;\">\n",
       "      <th></th>\n",
       "      <th>gid</th>\n",
       "      <th>val</th>\n",
       "      <th>geometry</th>\n",
       "    </tr>\n",
       "  </thead>\n",
       "  <tbody>\n",
       "    <tr>\n",
       "      <th>0</th>\n",
       "      <td>다마846996</td>\n",
       "      <td>NaN</td>\n",
       "      <td>MULTIPOLYGON (((127.32871 36.19342, 127.32871 ...</td>\n",
       "    </tr>\n",
       "    <tr>\n",
       "      <th>1</th>\n",
       "      <td>다마847995</td>\n",
       "      <td>NaN</td>\n",
       "      <td>MULTIPOLYGON (((127.32983 36.19252, 127.32982 ...</td>\n",
       "    </tr>\n",
       "    <tr>\n",
       "      <th>2</th>\n",
       "      <td>다마847996</td>\n",
       "      <td>NaN</td>\n",
       "      <td>MULTIPOLYGON (((127.32982 36.19342, 127.32982 ...</td>\n",
       "    </tr>\n",
       "    <tr>\n",
       "      <th>3</th>\n",
       "      <td>다마847997</td>\n",
       "      <td>NaN</td>\n",
       "      <td>MULTIPOLYGON (((127.32982 36.19432, 127.32982 ...</td>\n",
       "    </tr>\n",
       "    <tr>\n",
       "      <th>4</th>\n",
       "      <td>다마847998</td>\n",
       "      <td>NaN</td>\n",
       "      <td>MULTIPOLYGON (((127.32982 36.19522, 127.32982 ...</td>\n",
       "    </tr>\n",
       "  </tbody>\n",
       "</table>\n",
       "</div>"
      ],
      "text/plain": [
       "        gid  val                                           geometry\n",
       "0  다마846996  NaN  MULTIPOLYGON (((127.32871 36.19342, 127.32871 ...\n",
       "1  다마847995  NaN  MULTIPOLYGON (((127.32983 36.19252, 127.32982 ...\n",
       "2  다마847996  NaN  MULTIPOLYGON (((127.32982 36.19342, 127.32982 ...\n",
       "3  다마847997  NaN  MULTIPOLYGON (((127.32982 36.19432, 127.32982 ...\n",
       "4  다마847998  NaN  MULTIPOLYGON (((127.32982 36.19522, 127.32982 ..."
      ]
     },
     "execution_count": 24,
     "metadata": {},
     "output_type": "execute_result"
    }
   ],
   "source": [
    "data5.head()"
   ]
  },
  {
   "cell_type": "code",
   "execution_count": 25,
   "id": "everyday-mouse",
   "metadata": {},
   "outputs": [
    {
     "data": {
      "text/plain": [
       "gid             0\n",
       "val         48086\n",
       "geometry        0\n",
       "dtype: int64"
      ]
     },
     "execution_count": 25,
     "metadata": {},
     "output_type": "execute_result"
    }
   ],
   "source": [
    "check_null(data5)"
   ]
  },
  {
   "cell_type": "code",
   "execution_count": 26,
   "id": "concrete-shanghai",
   "metadata": {},
   "outputs": [
    {
     "name": "stdout",
     "output_type": "stream",
     "text": [
      "val:     48086\n",
      "<class 'geopandas.geodataframe.GeoDataFrame'>\n",
      "RangeIndex: 54912 entries, 0 to 54911\n",
      "Data columns (total 3 columns):\n",
      " #   Column    Non-Null Count  Dtype   \n",
      "---  ------    --------------  -----   \n",
      " 0   gid       54912 non-null  object  \n",
      " 1   val       54912 non-null  float64 \n",
      " 2   geometry  54912 non-null  geometry\n",
      "dtypes: float64(1), geometry(1), object(1)\n",
      "memory usage: 1.3+ MB\n",
      "None\n"
     ]
    }
   ],
   "source": [
    "data5 = convert_null_zero(data5)"
   ]
  },
  {
   "cell_type": "code",
   "execution_count": 27,
   "id": "answering-flower",
   "metadata": {},
   "outputs": [],
   "source": [
    "data5.to_file('youth_population.geojson', driver= 'GeoJSON')"
   ]
  },
  {
   "cell_type": "markdown",
   "id": "russian-private",
   "metadata": {},
   "source": [
    "# 데이터 6 : 교통노드 \n",
    "|Col|Meaning|\n",
    "|:-|:-|\n",
    "|NODE_ID|노드 ID값|\n",
    "|NODE_TYPE|노드의 유형코드 번호 : 7개 유형 (교차로, 행정경계, 도로시설물 등)|\n",
    "|NODE_NAME|노드의 이름|\n",
    "|TURN_P|회전제한 유무 코드 : 회전금지구간(1)|\n",
    "|REMAKR|노드관련 비고|\n",
    "|geometry|MULTIPOLYGON 데이터|"
   ]
  },
  {
   "cell_type": "markdown",
   "id": "reasonable-campbell",
   "metadata": {},
   "source": [
    "## 데이터 6-1 : 유턴금지구역"
   ]
  },
  {
   "cell_type": "code",
   "execution_count": 28,
   "id": "boxed-vegetation",
   "metadata": {},
   "outputs": [
    {
     "data": {
      "text/plain": [
       "NODE_ID         0\n",
       "NODE_TYPE       0\n",
       "NODE_NAME       0\n",
       "TURN_P          0\n",
       "REMARK       1836\n",
       "geometry        0\n",
       "dtype: int64"
      ]
     },
     "execution_count": 28,
     "metadata": {},
     "output_type": "execute_result"
    }
   ],
   "source": [
    "check_null(data6)"
   ]
  },
  {
   "cell_type": "code",
   "execution_count": 29,
   "id": "dramatic-excuse",
   "metadata": {},
   "outputs": [
    {
     "data": {
      "text/html": [
       "<div>\n",
       "<style scoped>\n",
       "    .dataframe tbody tr th:only-of-type {\n",
       "        vertical-align: middle;\n",
       "    }\n",
       "\n",
       "    .dataframe tbody tr th {\n",
       "        vertical-align: top;\n",
       "    }\n",
       "\n",
       "    .dataframe thead th {\n",
       "        text-align: right;\n",
       "    }\n",
       "</style>\n",
       "<table border=\"1\" class=\"dataframe\">\n",
       "  <thead>\n",
       "    <tr style=\"text-align: right;\">\n",
       "      <th></th>\n",
       "      <th>NODE_ID</th>\n",
       "      <th>NODE_TYPE</th>\n",
       "      <th>NODE_NAME</th>\n",
       "      <th>TURN_P</th>\n",
       "      <th>REMARK</th>\n",
       "      <th>geometry</th>\n",
       "    </tr>\n",
       "  </thead>\n",
       "  <tbody>\n",
       "    <tr>\n",
       "      <th>10</th>\n",
       "      <td>1850000900</td>\n",
       "      <td>101</td>\n",
       "      <td>진잠네거리</td>\n",
       "      <td>1</td>\n",
       "      <td>None</td>\n",
       "      <td>MULTIPOINT (127.32363 36.29869)</td>\n",
       "    </tr>\n",
       "    <tr>\n",
       "      <th>12</th>\n",
       "      <td>1850001300</td>\n",
       "      <td>101</td>\n",
       "      <td>-</td>\n",
       "      <td>1</td>\n",
       "      <td>None</td>\n",
       "      <td>MULTIPOINT (127.33709 36.30155)</td>\n",
       "    </tr>\n",
       "    <tr>\n",
       "      <th>13</th>\n",
       "      <td>1850001400</td>\n",
       "      <td>101</td>\n",
       "      <td>건양대네거리</td>\n",
       "      <td>1</td>\n",
       "      <td>None</td>\n",
       "      <td>MULTIPOINT (127.34046 36.30252)</td>\n",
       "    </tr>\n",
       "    <tr>\n",
       "      <th>14</th>\n",
       "      <td>1850001500</td>\n",
       "      <td>101</td>\n",
       "      <td>계룡아파트삼거리</td>\n",
       "      <td>1</td>\n",
       "      <td>None</td>\n",
       "      <td>MULTIPOINT (127.34935 36.30423)</td>\n",
       "    </tr>\n",
       "    <tr>\n",
       "      <th>15</th>\n",
       "      <td>1850001700</td>\n",
       "      <td>101</td>\n",
       "      <td>가수원네거리</td>\n",
       "      <td>1</td>\n",
       "      <td>None</td>\n",
       "      <td>MULTIPOINT (127.35327 36.30512)</td>\n",
       "    </tr>\n",
       "    <tr>\n",
       "      <th>...</th>\n",
       "      <td>...</td>\n",
       "      <td>...</td>\n",
       "      <td>...</td>\n",
       "      <td>...</td>\n",
       "      <td>...</td>\n",
       "      <td>...</td>\n",
       "    </tr>\n",
       "    <tr>\n",
       "      <th>2627</th>\n",
       "      <td>1850075200</td>\n",
       "      <td>101</td>\n",
       "      <td>원정동입구</td>\n",
       "      <td>1</td>\n",
       "      <td>좌회전금지</td>\n",
       "      <td>MULTIPOINT (127.33194 36.24935)</td>\n",
       "    </tr>\n",
       "    <tr>\n",
       "      <th>2630</th>\n",
       "      <td>1850076200</td>\n",
       "      <td>101</td>\n",
       "      <td>기성초등학교입구</td>\n",
       "      <td>1</td>\n",
       "      <td>비보호좌</td>\n",
       "      <td>MULTIPOINT (127.33618 36.25065)</td>\n",
       "    </tr>\n",
       "    <tr>\n",
       "      <th>2631</th>\n",
       "      <td>1850076300</td>\n",
       "      <td>101</td>\n",
       "      <td>승암골입구</td>\n",
       "      <td>1</td>\n",
       "      <td>비보호</td>\n",
       "      <td>MULTIPOINT (127.33880 36.25352)</td>\n",
       "    </tr>\n",
       "    <tr>\n",
       "      <th>2633</th>\n",
       "      <td>1850077200</td>\n",
       "      <td>101</td>\n",
       "      <td>사진개정류장앞</td>\n",
       "      <td>1</td>\n",
       "      <td>비보호좌</td>\n",
       "      <td>MULTIPOINT (127.34582 36.26184)</td>\n",
       "    </tr>\n",
       "    <tr>\n",
       "      <th>2634</th>\n",
       "      <td>1850077100</td>\n",
       "      <td>101</td>\n",
       "      <td>(구)벌곡로입구</td>\n",
       "      <td>1</td>\n",
       "      <td>None</td>\n",
       "      <td>MULTIPOINT (127.34580 36.26329)</td>\n",
       "    </tr>\n",
       "  </tbody>\n",
       "</table>\n",
       "<p>472 rows × 6 columns</p>\n",
       "</div>"
      ],
      "text/plain": [
       "         NODE_ID NODE_TYPE NODE_NAME TURN_P REMARK                         geometry\n",
       "10    1850000900       101     진잠네거리      1   None  MULTIPOINT (127.32363 36.29869)\n",
       "12    1850001300       101         -      1   None  MULTIPOINT (127.33709 36.30155)\n",
       "13    1850001400       101    건양대네거리      1   None  MULTIPOINT (127.34046 36.30252)\n",
       "14    1850001500       101  계룡아파트삼거리      1   None  MULTIPOINT (127.34935 36.30423)\n",
       "15    1850001700       101    가수원네거리      1   None  MULTIPOINT (127.35327 36.30512)\n",
       "...          ...       ...       ...    ...    ...                              ...\n",
       "2627  1850075200       101     원정동입구      1  좌회전금지  MULTIPOINT (127.33194 36.24935)\n",
       "2630  1850076200       101  기성초등학교입구      1   비보호좌  MULTIPOINT (127.33618 36.25065)\n",
       "2631  1850076300       101     승암골입구      1    비보호  MULTIPOINT (127.33880 36.25352)\n",
       "2633  1850077200       101   사진개정류장앞      1   비보호좌  MULTIPOINT (127.34582 36.26184)\n",
       "2634  1850077100       101  (구)벌곡로입구      1   None  MULTIPOINT (127.34580 36.26329)\n",
       "\n",
       "[472 rows x 6 columns]"
      ]
     },
     "execution_count": 29,
     "metadata": {},
     "output_type": "execute_result"
    }
   ],
   "source": [
    "turn_p =  data6[data6['TURN_P']=='1'] #유턴금지구역\n",
    "turn_p"
   ]
  },
  {
   "cell_type": "code",
   "execution_count": 30,
   "id": "distinct-drain",
   "metadata": {},
   "outputs": [
    {
     "data": {
      "text/plain": [
       "NODE_ID         0\n",
       "NODE_TYPE       0\n",
       "NODE_NAME       0\n",
       "TURN_P          0\n",
       "REMARK       1836\n",
       "geometry        0\n",
       "dtype: int64"
      ]
     },
     "execution_count": 30,
     "metadata": {},
     "output_type": "execute_result"
    }
   ],
   "source": [
    "check_null(data6)"
   ]
  },
  {
   "cell_type": "code",
   "execution_count": 31,
   "id": "married-success",
   "metadata": {},
   "outputs": [],
   "source": [
    "turn_p.to_file('turn_p.geojson', driver= 'GeoJSON')"
   ]
  },
  {
   "cell_type": "markdown",
   "id": "hourly-frank",
   "metadata": {},
   "source": [
    "## 데이터 6-2 : 교차로"
   ]
  },
  {
   "cell_type": "code",
   "execution_count": 32,
   "id": "further-beach",
   "metadata": {
    "scrolled": true
   },
   "outputs": [
    {
     "data": {
      "text/html": [
       "<div>\n",
       "<style scoped>\n",
       "    .dataframe tbody tr th:only-of-type {\n",
       "        vertical-align: middle;\n",
       "    }\n",
       "\n",
       "    .dataframe tbody tr th {\n",
       "        vertical-align: top;\n",
       "    }\n",
       "\n",
       "    .dataframe thead th {\n",
       "        text-align: right;\n",
       "    }\n",
       "</style>\n",
       "<table border=\"1\" class=\"dataframe\">\n",
       "  <thead>\n",
       "    <tr style=\"text-align: right;\">\n",
       "      <th></th>\n",
       "      <th>NODE_ID</th>\n",
       "      <th>NODE_TYPE</th>\n",
       "      <th>NODE_NAME</th>\n",
       "      <th>TURN_P</th>\n",
       "      <th>REMARK</th>\n",
       "      <th>geometry</th>\n",
       "    </tr>\n",
       "  </thead>\n",
       "  <tbody>\n",
       "    <tr>\n",
       "      <th>0</th>\n",
       "      <td>1860000303</td>\n",
       "      <td>101</td>\n",
       "      <td>두마IC</td>\n",
       "      <td>0</td>\n",
       "      <td>None</td>\n",
       "      <td>MULTIPOINT (127.26479 36.27539)</td>\n",
       "    </tr>\n",
       "    <tr>\n",
       "      <th>1</th>\n",
       "      <td>1850000703</td>\n",
       "      <td>101</td>\n",
       "      <td>서대전IC</td>\n",
       "      <td>0</td>\n",
       "      <td>None</td>\n",
       "      <td>MULTIPOINT (127.31957 36.28751)</td>\n",
       "    </tr>\n",
       "    <tr>\n",
       "      <th>2</th>\n",
       "      <td>1860000304</td>\n",
       "      <td>101</td>\n",
       "      <td>삿갓집입구</td>\n",
       "      <td>0</td>\n",
       "      <td>None</td>\n",
       "      <td>MULTIPOINT (127.28988 36.26759)</td>\n",
       "    </tr>\n",
       "    <tr>\n",
       "      <th>3</th>\n",
       "      <td>1860000602</td>\n",
       "      <td>101</td>\n",
       "      <td>방동대교앞</td>\n",
       "      <td>0</td>\n",
       "      <td>None</td>\n",
       "      <td>MULTIPOINT (127.30941 36.28333)</td>\n",
       "    </tr>\n",
       "    <tr>\n",
       "      <th>4</th>\n",
       "      <td>1860000501</td>\n",
       "      <td>101</td>\n",
       "      <td>방동사거리</td>\n",
       "      <td>0</td>\n",
       "      <td>None</td>\n",
       "      <td>MULTIPOINT (127.30034 36.28004)</td>\n",
       "    </tr>\n",
       "    <tr>\n",
       "      <th>...</th>\n",
       "      <td>...</td>\n",
       "      <td>...</td>\n",
       "      <td>...</td>\n",
       "      <td>...</td>\n",
       "      <td>...</td>\n",
       "      <td>...</td>\n",
       "    </tr>\n",
       "    <tr>\n",
       "      <th>2629</th>\n",
       "      <td>1850075800</td>\n",
       "      <td>101</td>\n",
       "      <td>교차로</td>\n",
       "      <td>0</td>\n",
       "      <td>None</td>\n",
       "      <td>MULTIPOINT (127.33395 36.24969)</td>\n",
       "    </tr>\n",
       "    <tr>\n",
       "      <th>2630</th>\n",
       "      <td>1850076200</td>\n",
       "      <td>101</td>\n",
       "      <td>기성초등학교입구</td>\n",
       "      <td>1</td>\n",
       "      <td>비보호좌</td>\n",
       "      <td>MULTIPOINT (127.33618 36.25065)</td>\n",
       "    </tr>\n",
       "    <tr>\n",
       "      <th>2631</th>\n",
       "      <td>1850076300</td>\n",
       "      <td>101</td>\n",
       "      <td>승암골입구</td>\n",
       "      <td>1</td>\n",
       "      <td>비보호</td>\n",
       "      <td>MULTIPOINT (127.33880 36.25352)</td>\n",
       "    </tr>\n",
       "    <tr>\n",
       "      <th>2633</th>\n",
       "      <td>1850077200</td>\n",
       "      <td>101</td>\n",
       "      <td>사진개정류장앞</td>\n",
       "      <td>1</td>\n",
       "      <td>비보호좌</td>\n",
       "      <td>MULTIPOINT (127.34582 36.26184)</td>\n",
       "    </tr>\n",
       "    <tr>\n",
       "      <th>2634</th>\n",
       "      <td>1850077100</td>\n",
       "      <td>101</td>\n",
       "      <td>(구)벌곡로입구</td>\n",
       "      <td>1</td>\n",
       "      <td>None</td>\n",
       "      <td>MULTIPOINT (127.34580 36.26329)</td>\n",
       "    </tr>\n",
       "  </tbody>\n",
       "</table>\n",
       "<p>1862 rows × 6 columns</p>\n",
       "</div>"
      ],
      "text/plain": [
       "         NODE_ID NODE_TYPE NODE_NAME TURN_P REMARK                         geometry\n",
       "0     1860000303       101      두마IC      0   None  MULTIPOINT (127.26479 36.27539)\n",
       "1     1850000703       101     서대전IC      0   None  MULTIPOINT (127.31957 36.28751)\n",
       "2     1860000304       101     삿갓집입구      0   None  MULTIPOINT (127.28988 36.26759)\n",
       "3     1860000602       101     방동대교앞      0   None  MULTIPOINT (127.30941 36.28333)\n",
       "4     1860000501       101     방동사거리      0   None  MULTIPOINT (127.30034 36.28004)\n",
       "...          ...       ...       ...    ...    ...                              ...\n",
       "2629  1850075800       101       교차로      0   None  MULTIPOINT (127.33395 36.24969)\n",
       "2630  1850076200       101  기성초등학교입구      1   비보호좌  MULTIPOINT (127.33618 36.25065)\n",
       "2631  1850076300       101     승암골입구      1    비보호  MULTIPOINT (127.33880 36.25352)\n",
       "2633  1850077200       101   사진개정류장앞      1   비보호좌  MULTIPOINT (127.34582 36.26184)\n",
       "2634  1850077100       101  (구)벌곡로입구      1   None  MULTIPOINT (127.34580 36.26329)\n",
       "\n",
       "[1862 rows x 6 columns]"
      ]
     },
     "execution_count": 32,
     "metadata": {},
     "output_type": "execute_result"
    }
   ],
   "source": [
    "instersections = data6[data6['NODE_TYPE']=='101'] # 교차로\n",
    "instersections"
   ]
  },
  {
   "cell_type": "code",
   "execution_count": 33,
   "id": "textile-ecuador",
   "metadata": {},
   "outputs": [
    {
     "data": {
      "text/plain": [
       "NODE_ID         0\n",
       "NODE_TYPE       0\n",
       "NODE_NAME       0\n",
       "TURN_P          0\n",
       "REMARK       1836\n",
       "geometry        0\n",
       "dtype: int64"
      ]
     },
     "execution_count": 33,
     "metadata": {},
     "output_type": "execute_result"
    }
   ],
   "source": [
    "check_null(data6)"
   ]
  },
  {
   "cell_type": "code",
   "execution_count": 34,
   "id": "contained-closer",
   "metadata": {},
   "outputs": [],
   "source": [
    "instersections.to_file('instersections.geojson', driver= 'GeoJSON')"
   ]
  },
  {
   "cell_type": "markdown",
   "id": "liable-milton",
   "metadata": {},
   "source": [
    "# 데이터 7 : 시간대별 추정교통량\n",
    "|Col|Meaning|\n",
    "|:-|:-|\n",
    "|상세도로망_LinkID|해당 링크의 ID ( 총 9자리, 맨마지막 2자리는 상행 & 하행을 구분)|\n",
    "|도로등급|해당 도로의 등급|\n",
    "|링크길이|해당 도로의 길이|\n",
    "|도로명|해당 도로명|\n",
    "|시도명|해당 시도명|\n",
    "|시군구명|해당 시군구명|\n",
    "|읍면동명|해당 읍면동명|\n",
    "|시간적범위|측정에 대한 시간적 범위 정보 ( fulltime, 1 ~ 23 으로 각 시간단위)|\n",
    "|전체_추정교통량|전체 교통량 추정치|\n",
    "|승용차_추정교통량|승용차의 교통량 추정치|\n",
    "|버스_추정교통량|버스의 교통량 추정치|\n",
    "|화물차_추정교통량|화물차의 교통량 추정치|"
   ]
  },
  {
   "cell_type": "code",
   "execution_count": 35,
   "id": "isolated-actor",
   "metadata": {
    "scrolled": true
   },
   "outputs": [
    {
     "data": {
      "text/plain": [
       "NODE_ID         0\n",
       "NODE_TYPE       0\n",
       "NODE_NAME       0\n",
       "TURN_P          0\n",
       "REMARK       1836\n",
       "geometry        0\n",
       "dtype: int64"
      ]
     },
     "execution_count": 35,
     "metadata": {},
     "output_type": "execute_result"
    }
   ],
   "source": [
    "check_null(data6)"
   ]
  },
  {
   "cell_type": "code",
   "execution_count": 36,
   "id": "revised-thing",
   "metadata": {},
   "outputs": [],
   "source": [
    "# 도로망 링크 전처리용 함수 생성\n",
    "\n",
    "def For_slicing(tabel):\n",
    "    tabel['상세도로망_LinkID'] = tabel['상세도로망_LinkID'].astype(str) #slicing을 위해 형변환\n",
    "    tabel['상세도로망_LinkID'] = tabel['상세도로망_LinkID'].str[:-2] # 상하행 구분이 필요없으므로 앞의 7자리로 도로만 구분하도록 변경\n",
    "    tabel['상세도로망_LinkID'] = tabel['상세도로망_LinkID'].astype(str) #slicing을 위해 형변환\n",
    "    return tabel"
   ]
  },
  {
   "cell_type": "code",
   "execution_count": 37,
   "id": "synthetic-oxygen",
   "metadata": {},
   "outputs": [],
   "source": [
    "data7 = For_slicing(data7)"
   ]
  },
  {
   "cell_type": "code",
   "execution_count": 38,
   "id": "fabulous-transcription",
   "metadata": {},
   "outputs": [],
   "source": [
    "# 시간적 범위는 범위값은 1 ~ 23인데 '' 이 붙은 값도 있고, '' 이없는 값도 있음\n",
    "# 해당 데이터에서 중요하게 보고싶은 것은 '교통량' 이므로 시간대를 fulltime으로 통일\n",
    "# 시간대의 차이에서 오는 데이터 불균형은 group by 를 mean으로 하여 전체 평균 으로 치환할 예정\n",
    "data7 = data7[data7['시간적범위']=='fulltime']"
   ]
  },
  {
   "cell_type": "code",
   "execution_count": 39,
   "id": "daily-asthma",
   "metadata": {},
   "outputs": [],
   "source": [
    "# 전체 시간 (24시간 대비 평균 교통량 계산)\n",
    "data7 = data7[['상세도로망_LinkID','전체_추정교통량','승용차_추정교통량', '버스_추정교통량', '화물차_추정교통량']].groupby(['상세도로망_LinkID']).mean()\n",
    "data7.reset_index(inplace=True)"
   ]
  },
  {
   "cell_type": "code",
   "execution_count": 40,
   "id": "eight-penetration",
   "metadata": {},
   "outputs": [
    {
     "data": {
      "text/html": [
       "<div>\n",
       "<style scoped>\n",
       "    .dataframe tbody tr th:only-of-type {\n",
       "        vertical-align: middle;\n",
       "    }\n",
       "\n",
       "    .dataframe tbody tr th {\n",
       "        vertical-align: top;\n",
       "    }\n",
       "\n",
       "    .dataframe thead th {\n",
       "        text-align: right;\n",
       "    }\n",
       "</style>\n",
       "<table border=\"1\" class=\"dataframe\">\n",
       "  <thead>\n",
       "    <tr style=\"text-align: right;\">\n",
       "      <th></th>\n",
       "      <th>상세도로망_LinkID</th>\n",
       "      <th>전체_추정교통량</th>\n",
       "      <th>승용차_추정교통량</th>\n",
       "      <th>버스_추정교통량</th>\n",
       "      <th>화물차_추정교통량</th>\n",
       "    </tr>\n",
       "  </thead>\n",
       "  <tbody>\n",
       "    <tr>\n",
       "      <th>0</th>\n",
       "      <td>553700043</td>\n",
       "      <td>695.0</td>\n",
       "      <td>458.0</td>\n",
       "      <td>19.0</td>\n",
       "      <td>218.0</td>\n",
       "    </tr>\n",
       "    <tr>\n",
       "      <th>1</th>\n",
       "      <td>553700273</td>\n",
       "      <td>3871.5</td>\n",
       "      <td>3449.0</td>\n",
       "      <td>22.0</td>\n",
       "      <td>401.0</td>\n",
       "    </tr>\n",
       "  </tbody>\n",
       "</table>\n",
       "</div>"
      ],
      "text/plain": [
       "  상세도로망_LinkID  전체_추정교통량  승용차_추정교통량  버스_추정교통량  화물차_추정교통량\n",
       "0    553700043     695.0      458.0      19.0      218.0\n",
       "1    553700273    3871.5     3449.0      22.0      401.0"
      ]
     },
     "execution_count": 40,
     "metadata": {},
     "output_type": "execute_result"
    }
   ],
   "source": [
    "data7.head(2)"
   ]
  },
  {
   "cell_type": "code",
   "execution_count": 41,
   "id": "offshore-spoke",
   "metadata": {},
   "outputs": [
    {
     "data": {
      "text/plain": [
       "상세도로망_LinkID    0\n",
       "전체_추정교통량        0\n",
       "승용차_추정교통량       0\n",
       "버스_추정교통량        0\n",
       "화물차_추정교통량       0\n",
       "dtype: int64"
      ]
     },
     "execution_count": 41,
     "metadata": {},
     "output_type": "execute_result"
    }
   ],
   "source": [
    "check_null(data7)"
   ]
  },
  {
   "cell_type": "code",
   "execution_count": 42,
   "id": "continuous-software",
   "metadata": {},
   "outputs": [],
   "source": [
    "data7.to_csv('volume_of_traffic.csv',index=False)"
   ]
  },
  {
   "cell_type": "markdown",
   "id": "lucky-sister",
   "metadata": {},
   "source": [
    "# 데이터 8 : 평일 일별 혼잡 빈도 강도\n",
    "---\n",
    "\n",
    "|Col|Meaning|\n",
    "|:-|:-|\n",
    "|상세도로망_LinkID|\t해당 링크의 ID|\n",
    "|도로등급|\t해당 도로의 등급|\n",
    "|링크길이|\t해당 도로의 길이|\n",
    "|도로명|\t해당 도로명|\n",
    "|시도명|\t해당 시도명|\n",
    "|시군구명| \t해당 시군구명|\n",
    "|읍면동명|\t해당 읍면동명|\n",
    "|혼잡빈도강도|해당 지점의 혼잡빈도 강도 (0.0 ~ 100 사이)|"
   ]
  },
  {
   "cell_type": "code",
   "execution_count": 43,
   "id": "behind-cemetery",
   "metadata": {
    "scrolled": true
   },
   "outputs": [
    {
     "name": "stdout",
     "output_type": "stream",
     "text": [
      "<class 'pandas.core.frame.DataFrame'>\n",
      "RangeIndex: 18044 entries, 0 to 18043\n",
      "Data columns (total 8 columns):\n",
      " #   Column        Non-Null Count  Dtype  \n",
      "---  ------        --------------  -----  \n",
      " 0   상세도로망_LinkID  18044 non-null  int64  \n",
      " 1   도로등급          18044 non-null  int64  \n",
      " 2   링크길이          18044 non-null  float64\n",
      " 3   도로명           15999 non-null  object \n",
      " 4   시도명           18044 non-null  object \n",
      " 5   시군구명          18044 non-null  object \n",
      " 6   읍면동명          18044 non-null  object \n",
      " 7   혼잡빈도강도        18044 non-null  float64\n",
      "dtypes: float64(2), int64(2), object(4)\n",
      "memory usage: 1.1+ MB\n"
     ]
    }
   ],
   "source": [
    "data8.info()"
   ]
  },
  {
   "cell_type": "code",
   "execution_count": 44,
   "id": "brilliant-handle",
   "metadata": {},
   "outputs": [
    {
     "data": {
      "text/plain": [
       "상세도로망_LinkID       0\n",
       "도로등급               0\n",
       "링크길이               0\n",
       "도로명             2045\n",
       "시도명                0\n",
       "시군구명               0\n",
       "읍면동명               0\n",
       "혼잡빈도강도             0\n",
       "dtype: int64"
      ]
     },
     "execution_count": 44,
     "metadata": {},
     "output_type": "execute_result"
    }
   ],
   "source": [
    "check_null(data8)"
   ]
  },
  {
   "cell_type": "code",
   "execution_count": 45,
   "id": "running-survival",
   "metadata": {},
   "outputs": [],
   "source": [
    "data8 = For_slicing(data8)\n",
    "\n",
    "data8 = data8[['상세도로망_LinkID','혼잡빈도강도']].groupby(['상세도로망_LinkID']).mean()\n",
    "data8.reset_index(inplace=True)"
   ]
  },
  {
   "cell_type": "code",
   "execution_count": 46,
   "id": "sufficient-episode",
   "metadata": {},
   "outputs": [
    {
     "data": {
      "text/html": [
       "<div>\n",
       "<style scoped>\n",
       "    .dataframe tbody tr th:only-of-type {\n",
       "        vertical-align: middle;\n",
       "    }\n",
       "\n",
       "    .dataframe tbody tr th {\n",
       "        vertical-align: top;\n",
       "    }\n",
       "\n",
       "    .dataframe thead th {\n",
       "        text-align: right;\n",
       "    }\n",
       "</style>\n",
       "<table border=\"1\" class=\"dataframe\">\n",
       "  <thead>\n",
       "    <tr style=\"text-align: right;\">\n",
       "      <th></th>\n",
       "      <th>상세도로망_LinkID</th>\n",
       "      <th>혼잡빈도강도</th>\n",
       "    </tr>\n",
       "  </thead>\n",
       "  <tbody>\n",
       "    <tr>\n",
       "      <th>0</th>\n",
       "      <td>553700273</td>\n",
       "      <td>5.340</td>\n",
       "    </tr>\n",
       "    <tr>\n",
       "      <th>1</th>\n",
       "      <td>553700308</td>\n",
       "      <td>1.705</td>\n",
       "    </tr>\n",
       "  </tbody>\n",
       "</table>\n",
       "</div>"
      ],
      "text/plain": [
       "  상세도로망_LinkID  혼잡빈도강도\n",
       "0    553700273   5.340\n",
       "1    553700308   1.705"
      ]
     },
     "execution_count": 46,
     "metadata": {},
     "output_type": "execute_result"
    }
   ],
   "source": [
    "data8.head(2)"
   ]
  },
  {
   "cell_type": "code",
   "execution_count": 47,
   "id": "restricted-component",
   "metadata": {},
   "outputs": [
    {
     "name": "stdout",
     "output_type": "stream",
     "text": [
      "<class 'pandas.core.frame.DataFrame'>\n",
      "RangeIndex: 10134 entries, 0 to 10133\n",
      "Data columns (total 2 columns):\n",
      " #   Column        Non-Null Count  Dtype  \n",
      "---  ------        --------------  -----  \n",
      " 0   상세도로망_LinkID  10134 non-null  object \n",
      " 1   혼잡빈도강도        10134 non-null  float64\n",
      "dtypes: float64(1), object(1)\n",
      "memory usage: 158.5+ KB\n"
     ]
    }
   ],
   "source": [
    "data8.info()"
   ]
  },
  {
   "cell_type": "code",
   "execution_count": 48,
   "id": "liquid-wonder",
   "metadata": {},
   "outputs": [],
   "source": [
    "data8.to_csv('honjap_frequency.csv', index=False)"
   ]
  },
  {
   "cell_type": "markdown",
   "id": "final-paintball",
   "metadata": {},
   "source": [
    "#  데이터 9 : 평일 일별 혼잡 시간 강도\n",
    "---\n",
    "\n",
    "|Col|Meaning|\n",
    "|:-|:-|\n",
    "|상세도로망_LinkID|\t해당 링크의 ID|\n",
    "|도로등급|\t해당 도로의 등급|\n",
    "|링크길이|\t해당 도로의 길이|\n",
    "|도로명|\t해당 도로명|\n",
    "|시도명|\t해당 시도명|\n",
    "|시군구명| \t해당 시군구명|\n",
    "|읍면동명|\t해당 읍면동명|\n",
    "|혼잡빈도강도|해당 지점의 혼잡빈도 강도 (0.0 ~ 100 사이)|"
   ]
  },
  {
   "cell_type": "code",
   "execution_count": 49,
   "id": "familiar-blame",
   "metadata": {},
   "outputs": [
    {
     "name": "stdout",
     "output_type": "stream",
     "text": [
      "<class 'pandas.core.frame.DataFrame'>\n",
      "RangeIndex: 18044 entries, 0 to 18043\n",
      "Data columns (total 8 columns):\n",
      " #   Column        Non-Null Count  Dtype  \n",
      "---  ------        --------------  -----  \n",
      " 0   상세도로망_LinkID  18044 non-null  int64  \n",
      " 1   도로등급          18044 non-null  int64  \n",
      " 2   링크길이          18044 non-null  float64\n",
      " 3   도로명           15999 non-null  object \n",
      " 4   시도명           18044 non-null  object \n",
      " 5   시군구명          18044 non-null  object \n",
      " 6   읍면동명          18044 non-null  object \n",
      " 7   혼잡시간강도        18044 non-null  float64\n",
      "dtypes: float64(2), int64(2), object(4)\n",
      "memory usage: 1.1+ MB\n"
     ]
    }
   ],
   "source": [
    "data9.info()"
   ]
  },
  {
   "cell_type": "code",
   "execution_count": 50,
   "id": "female-inspector",
   "metadata": {},
   "outputs": [
    {
     "data": {
      "text/plain": [
       "상세도로망_LinkID       0\n",
       "도로등급               0\n",
       "링크길이               0\n",
       "도로명             2045\n",
       "시도명                0\n",
       "시군구명               0\n",
       "읍면동명               0\n",
       "혼잡시간강도             0\n",
       "dtype: int64"
      ]
     },
     "execution_count": 50,
     "metadata": {},
     "output_type": "execute_result"
    }
   ],
   "source": [
    "check_null(data9)"
   ]
  },
  {
   "cell_type": "code",
   "execution_count": 51,
   "id": "mysterious-appliance",
   "metadata": {},
   "outputs": [],
   "source": [
    "data9 = For_slicing(data9)\n",
    "\n",
    "data9 = data9[['상세도로망_LinkID','혼잡시간강도']].groupby(['상세도로망_LinkID']).mean()\n",
    "data9.reset_index(inplace=True)"
   ]
  },
  {
   "cell_type": "code",
   "execution_count": 52,
   "id": "binding-pipeline",
   "metadata": {},
   "outputs": [
    {
     "data": {
      "text/html": [
       "<div>\n",
       "<style scoped>\n",
       "    .dataframe tbody tr th:only-of-type {\n",
       "        vertical-align: middle;\n",
       "    }\n",
       "\n",
       "    .dataframe tbody tr th {\n",
       "        vertical-align: top;\n",
       "    }\n",
       "\n",
       "    .dataframe thead th {\n",
       "        text-align: right;\n",
       "    }\n",
       "</style>\n",
       "<table border=\"1\" class=\"dataframe\">\n",
       "  <thead>\n",
       "    <tr style=\"text-align: right;\">\n",
       "      <th></th>\n",
       "      <th>상세도로망_LinkID</th>\n",
       "      <th>혼잡시간강도</th>\n",
       "    </tr>\n",
       "  </thead>\n",
       "  <tbody>\n",
       "    <tr>\n",
       "      <th>0</th>\n",
       "      <td>553700273</td>\n",
       "      <td>15.25</td>\n",
       "    </tr>\n",
       "    <tr>\n",
       "      <th>1</th>\n",
       "      <td>553700308</td>\n",
       "      <td>4.54</td>\n",
       "    </tr>\n",
       "  </tbody>\n",
       "</table>\n",
       "</div>"
      ],
      "text/plain": [
       "  상세도로망_LinkID  혼잡시간강도\n",
       "0    553700273   15.25\n",
       "1    553700308    4.54"
      ]
     },
     "execution_count": 52,
     "metadata": {},
     "output_type": "execute_result"
    }
   ],
   "source": [
    "data9.head(2)"
   ]
  },
  {
   "cell_type": "code",
   "execution_count": 53,
   "id": "comparative-sending",
   "metadata": {},
   "outputs": [
    {
     "name": "stdout",
     "output_type": "stream",
     "text": [
      "<class 'pandas.core.frame.DataFrame'>\n",
      "RangeIndex: 10134 entries, 0 to 10133\n",
      "Data columns (total 2 columns):\n",
      " #   Column        Non-Null Count  Dtype  \n",
      "---  ------        --------------  -----  \n",
      " 0   상세도로망_LinkID  10134 non-null  object \n",
      " 1   혼잡시간강도        10134 non-null  float64\n",
      "dtypes: float64(1), object(1)\n",
      "memory usage: 158.5+ KB\n"
     ]
    }
   ],
   "source": [
    "data9.info()"
   ]
  },
  {
   "cell_type": "code",
   "execution_count": 54,
   "id": "adjusted-archive",
   "metadata": {},
   "outputs": [],
   "source": [
    "data9.to_csv('honjap_intensity.csv',index=False)"
   ]
  }
 ],
 "metadata": {
  "kernelspec": {
   "display_name": "Python 3",
   "language": "python",
   "name": "python3"
  },
  "language_info": {
   "codemirror_mode": {
    "name": "ipython",
    "version": 3
   },
   "file_extension": ".py",
   "mimetype": "text/x-python",
   "name": "python",
   "nbconvert_exporter": "python",
   "pygments_lexer": "ipython3",
   "version": "3.6.9"
  },
  "toc": {
   "base_numbering": 1,
   "nav_menu": {},
   "number_sections": true,
   "sideBar": true,
   "skip_h1_title": false,
   "title_cell": "Table of Contents",
   "title_sidebar": "Contents",
   "toc_cell": false,
   "toc_position": {},
   "toc_section_display": true,
   "toc_window_display": false
  }
 },
 "nbformat": 4,
 "nbformat_minor": 5
}
