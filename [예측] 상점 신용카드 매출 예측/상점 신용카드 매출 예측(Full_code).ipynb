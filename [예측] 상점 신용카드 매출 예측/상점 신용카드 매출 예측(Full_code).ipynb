{
 "cells": [
  {
   "cell_type": "markdown",
   "metadata": {},
   "source": [
    "# 1. 주제 : 상점 신용카드 매출 예측\n",
    "\n",
    "- 2019.07 ~ 2019.10 에 DACON에서 주최한 상점 신용카드 매출 예측 경진대회의 데이터\n",
    "- 데이터 제공자 : 핀테크 기업 FUNDA \n",
    "\n",
    "\n",
    "- 문제 : 2019년 2월 28일까지의 카드 거래 데이터를 이용해 2019년 3월 1일 ~ 5월 31일 까지의 상점별 3개월 총 매출 예측하기"
   ]
  },
  {
   "cell_type": "markdown",
   "metadata": {},
   "source": [
    "# 2. 데이터 소개 및 문제 정의"
   ]
  },
  {
   "cell_type": "markdown",
   "metadata": {
    "ExecuteTime": {
     "end_time": "2021-07-07T04:41:03.708395Z",
     "start_time": "2021-07-07T04:41:03.700923Z"
    }
   },
   "source": [
    "## 데이터 소개\n",
    "[데이터 출처](https://dacon.io/competitions/official/140472/data) : DACON \n",
    "\n",
    "funda_train.csv : 모델 학습용 데이터\n",
    "- store_id : 상점의 고유id\n",
    "- card_id : 사용한 카드의 고유 id\n",
    "- card_company : 비식별화된 카드 회사\n",
    "- transcated_date : 거래 날짜\n",
    "- transacted_time : 거래 시간\n",
    "- installment_term : 할부 개월 수 \n",
    "- region : 상점이 위치한 지역\n",
    "- type_of_business : 상점 업종\n",
    "- amount : 거래액 (단위: 미상) "
   ]
  },
  {
   "cell_type": "markdown",
   "metadata": {},
   "source": [
    "## 문제 정의\n",
    "- 주어진 데이터는 거래액 (amount) 인데, 예측해야 할 값은 '상점 별 매출액' 이다.\n",
    "- 또한, store_id별 3월 1일 ~ 5월 31일 매출(3개월)의 총 합을 예측해야 한다.\n",
    "- 각 상점별 특정 기간 기준 매출 데이터의 특징을 기반으로 + 3개월 뒤의 매출액을 예측하는 식으로 모델이 구축되야 할 것 같다.\n",
    "- 그 특정 기간은 정답 format과 같은 3개월을 기준으로 상점별 특징을 잡는 것이 좋을 것 같다."
   ]
  },
  {
   "cell_type": "markdown",
   "metadata": {},
   "source": [
    "# 3. 데이터 로드 및 살펴보기"
   ]
  },
  {
   "cell_type": "markdown",
   "metadata": {},
   "source": [
    "## Train data 불러오기"
   ]
  },
  {
   "cell_type": "code",
   "execution_count": 1,
   "metadata": {
    "ExecuteTime": {
     "end_time": "2021-07-09T07:25:22.523584Z",
     "start_time": "2021-07-09T07:25:21.034566Z"
    }
   },
   "outputs": [],
   "source": [
    "import pandas as pd\n",
    "import matplotlib.pyplot as plt\n",
    "import seaborn as sns\n",
    "import os\n",
    "\n",
    "# 캔버스 사이즈 적용\n",
    "plt.rcParams[\"figure.figsize\"] = (12, 9)\n",
    "\n",
    "# 컬럼 전체 확인 가능하도록 출력 범위 설정\n",
    "pd.set_option('display.max_columns', 500)\n",
    "pd.set_option('display.width', 10000)\n",
    "\n",
    "# 불필요한 경고 표시 생략\n",
    "import warnings\n",
    "warnings.filterwarnings(action = 'ignore')\n",
    "\n",
    "# pandas 결과값의 표현 범위 소수점 2자리수로 변경\n",
    "pd.options.display.float_format = \"{:.2f}\".format\n",
    "\n",
    "# 파일 로드위한 directory 확인 및 현재 경로로 설정\n",
    "a = os.getcwd()\n",
    "os.chdir(a)"
   ]
  },
  {
   "cell_type": "code",
   "execution_count": 2,
   "metadata": {
    "ExecuteTime": {
     "end_time": "2021-07-09T07:25:28.714032Z",
     "start_time": "2021-07-09T07:25:22.530566Z"
    }
   },
   "outputs": [],
   "source": [
    "df = pd.read_csv(\"funda_train.csv\")"
   ]
  },
  {
   "cell_type": "code",
   "execution_count": 3,
   "metadata": {
    "ExecuteTime": {
     "end_time": "2021-07-09T07:25:29.395239Z",
     "start_time": "2021-07-09T07:25:28.716026Z"
    }
   },
   "outputs": [
    {
     "name": "stdout",
     "output_type": "stream",
     "text": [
      "<class 'pandas.core.frame.DataFrame'>\n",
      "RangeIndex: 6556613 entries, 0 to 6556612\n",
      "Data columns (total 9 columns):\n",
      " #   Column            Dtype  \n",
      "---  ------            -----  \n",
      " 0   store_id          int64  \n",
      " 1   card_id           int64  \n",
      " 2   card_company      object \n",
      " 3   transacted_date   object \n",
      " 4   transacted_time   object \n",
      " 5   installment_term  int64  \n",
      " 6   region            object \n",
      " 7   type_of_business  object \n",
      " 8   amount            float64\n",
      "dtypes: float64(1), int64(3), object(5)\n",
      "memory usage: 450.2+ MB\n",
      "None\n",
      "        store_id    card_id  installment_term      amount\n",
      "count 6556613.00 6556613.00        6556613.00  6556613.00\n",
      "mean     1084.93 2268127.02              0.14    10435.11\n",
      "std       615.22 1351057.85              1.19    31040.31\n",
      "min         0.00       0.00              0.00 -2771428.57\n",
      "25%       586.00 1088828.00              0.00     2142.86\n",
      "50%      1074.00 2239304.00              0.00     4285.71\n",
      "75%      1615.00 3438488.00              0.00     8571.43\n",
      "max      2136.00 4663856.00             93.00  5571428.57\n"
     ]
    },
    {
     "data": {
      "text/html": [
       "<div>\n",
       "<style scoped>\n",
       "    .dataframe tbody tr th:only-of-type {\n",
       "        vertical-align: middle;\n",
       "    }\n",
       "\n",
       "    .dataframe tbody tr th {\n",
       "        vertical-align: top;\n",
       "    }\n",
       "\n",
       "    .dataframe thead th {\n",
       "        text-align: right;\n",
       "    }\n",
       "</style>\n",
       "<table border=\"1\" class=\"dataframe\">\n",
       "  <thead>\n",
       "    <tr style=\"text-align: right;\">\n",
       "      <th></th>\n",
       "      <th>store_id</th>\n",
       "      <th>card_id</th>\n",
       "      <th>card_company</th>\n",
       "      <th>transacted_date</th>\n",
       "      <th>transacted_time</th>\n",
       "      <th>installment_term</th>\n",
       "      <th>region</th>\n",
       "      <th>type_of_business</th>\n",
       "      <th>amount</th>\n",
       "    </tr>\n",
       "  </thead>\n",
       "  <tbody>\n",
       "    <tr>\n",
       "      <th>0</th>\n",
       "      <td>0</td>\n",
       "      <td>0</td>\n",
       "      <td>b</td>\n",
       "      <td>2016-06-01</td>\n",
       "      <td>13:13</td>\n",
       "      <td>0</td>\n",
       "      <td>NaN</td>\n",
       "      <td>기타 미용업</td>\n",
       "      <td>1857.14</td>\n",
       "    </tr>\n",
       "    <tr>\n",
       "      <th>1</th>\n",
       "      <td>0</td>\n",
       "      <td>1</td>\n",
       "      <td>h</td>\n",
       "      <td>2016-06-01</td>\n",
       "      <td>18:12</td>\n",
       "      <td>0</td>\n",
       "      <td>NaN</td>\n",
       "      <td>기타 미용업</td>\n",
       "      <td>857.14</td>\n",
       "    </tr>\n",
       "    <tr>\n",
       "      <th>2</th>\n",
       "      <td>0</td>\n",
       "      <td>2</td>\n",
       "      <td>c</td>\n",
       "      <td>2016-06-01</td>\n",
       "      <td>18:52</td>\n",
       "      <td>0</td>\n",
       "      <td>NaN</td>\n",
       "      <td>기타 미용업</td>\n",
       "      <td>2000.00</td>\n",
       "    </tr>\n",
       "    <tr>\n",
       "      <th>3</th>\n",
       "      <td>0</td>\n",
       "      <td>3</td>\n",
       "      <td>a</td>\n",
       "      <td>2016-06-01</td>\n",
       "      <td>20:22</td>\n",
       "      <td>0</td>\n",
       "      <td>NaN</td>\n",
       "      <td>기타 미용업</td>\n",
       "      <td>7857.14</td>\n",
       "    </tr>\n",
       "    <tr>\n",
       "      <th>4</th>\n",
       "      <td>0</td>\n",
       "      <td>4</td>\n",
       "      <td>c</td>\n",
       "      <td>2016-06-02</td>\n",
       "      <td>11:06</td>\n",
       "      <td>0</td>\n",
       "      <td>NaN</td>\n",
       "      <td>기타 미용업</td>\n",
       "      <td>2000.00</td>\n",
       "    </tr>\n",
       "  </tbody>\n",
       "</table>\n",
       "</div>"
      ],
      "text/plain": [
       "   store_id  card_id card_company transacted_date transacted_time  installment_term region type_of_business  amount\n",
       "0         0        0            b      2016-06-01           13:13                 0    NaN           기타 미용업 1857.14\n",
       "1         0        1            h      2016-06-01           18:12                 0    NaN           기타 미용업  857.14\n",
       "2         0        2            c      2016-06-01           18:52                 0    NaN           기타 미용업 2000.00\n",
       "3         0        3            a      2016-06-01           20:22                 0    NaN           기타 미용업 7857.14\n",
       "4         0        4            c      2016-06-02           11:06                 0    NaN           기타 미용업 2000.00"
      ]
     },
     "execution_count": 3,
     "metadata": {},
     "output_type": "execute_result"
    }
   ],
   "source": [
    "print(df.info())\n",
    "print(df.describe())\n",
    "df.head()"
   ]
  },
  {
   "cell_type": "code",
   "execution_count": 4,
   "metadata": {
    "ExecuteTime": {
     "end_time": "2021-07-09T07:25:30.732634Z",
     "start_time": "2021-07-09T07:25:29.397205Z"
    }
   },
   "outputs": [
    {
     "data": {
      "text/plain": [
       "store_id                  0\n",
       "card_id                   0\n",
       "card_company              0\n",
       "transacted_date           0\n",
       "transacted_time           0\n",
       "installment_term          0\n",
       "region              2042766\n",
       "type_of_business    3952609\n",
       "amount                    0\n",
       "dtype: int64"
      ]
     },
     "execution_count": 4,
     "metadata": {},
     "output_type": "execute_result"
    }
   ],
   "source": [
    "df.isnull().sum()"
   ]
  },
  {
   "cell_type": "code",
   "execution_count": 5,
   "metadata": {
    "ExecuteTime": {
     "end_time": "2021-07-09T07:25:30.763552Z",
     "start_time": "2021-07-09T07:25:30.735626Z"
    }
   },
   "outputs": [
    {
     "name": "stdout",
     "output_type": "stream",
     "text": [
      "<class 'pandas.core.frame.DataFrame'>\n",
      "RangeIndex: 1967 entries, 0 to 1966\n",
      "Data columns (total 2 columns):\n",
      " #   Column    Non-Null Count  Dtype\n",
      "---  ------    --------------  -----\n",
      " 0   store_id  1967 non-null   int64\n",
      " 1   amount    1967 non-null   int64\n",
      "dtypes: int64(2)\n",
      "memory usage: 30.9 KB\n",
      "None\n"
     ]
    },
    {
     "data": {
      "text/html": [
       "<div>\n",
       "<style scoped>\n",
       "    .dataframe tbody tr th:only-of-type {\n",
       "        vertical-align: middle;\n",
       "    }\n",
       "\n",
       "    .dataframe tbody tr th {\n",
       "        vertical-align: top;\n",
       "    }\n",
       "\n",
       "    .dataframe thead th {\n",
       "        text-align: right;\n",
       "    }\n",
       "</style>\n",
       "<table border=\"1\" class=\"dataframe\">\n",
       "  <thead>\n",
       "    <tr style=\"text-align: right;\">\n",
       "      <th></th>\n",
       "      <th>store_id</th>\n",
       "      <th>amount</th>\n",
       "    </tr>\n",
       "  </thead>\n",
       "  <tbody>\n",
       "    <tr>\n",
       "      <th>0</th>\n",
       "      <td>0</td>\n",
       "      <td>0</td>\n",
       "    </tr>\n",
       "    <tr>\n",
       "      <th>1</th>\n",
       "      <td>1</td>\n",
       "      <td>0</td>\n",
       "    </tr>\n",
       "    <tr>\n",
       "      <th>2</th>\n",
       "      <td>2</td>\n",
       "      <td>0</td>\n",
       "    </tr>\n",
       "    <tr>\n",
       "      <th>3</th>\n",
       "      <td>4</td>\n",
       "      <td>0</td>\n",
       "    </tr>\n",
       "    <tr>\n",
       "      <th>4</th>\n",
       "      <td>5</td>\n",
       "      <td>0</td>\n",
       "    </tr>\n",
       "  </tbody>\n",
       "</table>\n",
       "</div>"
      ],
      "text/plain": [
       "   store_id  amount\n",
       "0         0       0\n",
       "1         1       0\n",
       "2         2       0\n",
       "3         4       0\n",
       "4         5       0"
      ]
     },
     "execution_count": 5,
     "metadata": {},
     "output_type": "execute_result"
    }
   ],
   "source": [
    "submission_df = pd.read_csv(\"submission.csv\")\n",
    "print(submission_df.info())\n",
    "submission_df.head()"
   ]
  },
  {
   "cell_type": "code",
   "execution_count": 6,
   "metadata": {
    "ExecuteTime": {
     "end_time": "2021-07-09T07:25:30.795466Z",
     "start_time": "2021-07-09T07:25:30.777516Z"
    }
   },
   "outputs": [
    {
     "data": {
      "text/plain": [
       "store_id    0\n",
       "amount      0\n",
       "dtype: int64"
      ]
     },
     "execution_count": 6,
     "metadata": {},
     "output_type": "execute_result"
    }
   ],
   "source": [
    "submission_df.isnull().sum()"
   ]
  },
  {
   "cell_type": "code",
   "execution_count": 7,
   "metadata": {
    "ExecuteTime": {
     "end_time": "2021-07-09T07:25:30.811423Z",
     "start_time": "2021-07-09T07:25:30.800453Z"
    }
   },
   "outputs": [
    {
     "data": {
      "text/plain": [
       "array([0], dtype=int64)"
      ]
     },
     "execution_count": 7,
     "metadata": {},
     "output_type": "execute_result"
    }
   ],
   "source": [
    "submission_df['amount'].unique()"
   ]
  },
  {
   "cell_type": "markdown",
   "metadata": {},
   "source": [
    "제출 파일인 submission_df의 amount가 모두 0인 것으로 보아, 예측한 결과값을 amount에 추가해야 할 것으로 보인다."
   ]
  },
  {
   "cell_type": "markdown",
   "metadata": {},
   "source": [
    "## EDA"
   ]
  },
  {
   "cell_type": "markdown",
   "metadata": {},
   "source": [
    "### store_id 데이터 탐색"
   ]
  },
  {
   "cell_type": "code",
   "execution_count": 8,
   "metadata": {
    "ExecuteTime": {
     "end_time": "2021-07-09T07:25:30.904175Z",
     "start_time": "2021-07-09T07:25:30.814415Z"
    }
   },
   "outputs": [
    {
     "name": "stdout",
     "output_type": "stream",
     "text": [
      "[   0    1    2 ... 2134 2135 2136]\n",
      "[   0    1    2 ... 2134 2135 2136]\n"
     ]
    }
   ],
   "source": [
    "print(df['store_id'].unique())\n",
    "print(submission_df['store_id'].unique())"
   ]
  },
  {
   "cell_type": "code",
   "execution_count": 9,
   "metadata": {
    "ExecuteTime": {
     "end_time": "2021-07-09T07:25:30.919135Z",
     "start_time": "2021-07-09T07:25:30.907168Z"
    }
   },
   "outputs": [
    {
     "name": "stdout",
     "output_type": "stream",
     "text": [
      "6556613\n",
      "1967\n"
     ]
    }
   ],
   "source": [
    "print(len(df['store_id']))\n",
    "print(len(submission_df['store_id']))"
   ]
  },
  {
   "cell_type": "markdown",
   "metadata": {},
   "source": [
    "- train의 store_id는 transcate_date 별 매출 (동일 매장에서 중복 매출 발생) 하여 수가 더 많음\n",
    "- 두 데이터 set의 unique() 값은 일치 -> 최종적으로 train 데이터를 통해 '매장 별 3개월간 총 매출' 형식으로 prediction 을 만들어야 함"
   ]
  },
  {
   "cell_type": "markdown",
   "metadata": {},
   "source": [
    "### card_id 데이터 탐색"
   ]
  },
  {
   "cell_type": "code",
   "execution_count": 10,
   "metadata": {
    "ExecuteTime": {
     "end_time": "2021-07-09T07:25:31.258229Z",
     "start_time": "2021-07-09T07:25:30.922127Z"
    }
   },
   "outputs": [
    {
     "data": {
      "text/plain": [
       "array([      0,       1,       2, ..., 4663854, 4663855, 4663856],\n",
       "      dtype=int64)"
      ]
     },
     "execution_count": 10,
     "metadata": {},
     "output_type": "execute_result"
    }
   ],
   "source": [
    "df['card_id'].unique()"
   ]
  },
  {
   "cell_type": "code",
   "execution_count": 11,
   "metadata": {
    "ExecuteTime": {
     "end_time": "2021-07-09T07:26:12.125978Z",
     "start_time": "2021-07-09T07:25:31.262218Z"
    }
   },
   "outputs": [
    {
     "data": {
      "image/png": "[encoded data removed]",
      "text/plain": [
       "<Figure size 360x360 with 1 Axes>"
      ]
     },
     "metadata": {
      "needs_background": "light"
     },
     "output_type": "display_data"
    }
   ],
   "source": [
    "sns.displot(x = df['card_id'], kde=True)\n",
    "plt.show()"
   ]
  },
  {
   "cell_type": "code",
   "execution_count": 12,
   "metadata": {
    "ExecuteTime": {
     "end_time": "2021-07-09T07:26:13.540257Z",
     "start_time": "2021-07-09T07:26:12.128942Z"
    }
   },
   "outputs": [
    {
     "data": {
      "image/png": "[encoded data removed]",
      "text/plain": [
       "<Figure size 864x648 with 1 Axes>"
      ]
     },
     "metadata": {
      "needs_background": "light"
     },
     "output_type": "display_data"
    }
   ],
   "source": [
    "# 데이터 범주가 너무 넓어서 상위 20개 분포만 재확인\n",
    "card_id = df['card_id'].value_counts()[:20].index\n",
    "counts = df['card_id'].value_counts()[:20]\n",
    "\n",
    "bar_plot = sns.barplot(x=card_id, y=counts, alpha=0.9, palette='rocket')\n",
    "plt.xticks(rotation=90)\n",
    "plt.show()"
   ]
  },
  {
   "cell_type": "markdown",
   "metadata": {},
   "source": [
    "- 전체 6556613 개의 데이터 중 겹치지 않는 자료가 4663856개\n",
    "- card_id는 한 고객이 여러개의 카드를 가질 가능성도 있고, 특정 카드를 사용할때 매출과 직접적으로 연관을 지을 수 있는 별도의 feature가 없음 \n",
    "- 만약, 카드별 할인율이나 , 프모로션 제도 등에 대한 feature가 있다면 활용이 가능할 수 도 있음.\n",
    "- 현재로선 예측 결과에 직접적인 영향을 주긴 어려운 feature일 것이라 판단됨.\n",
    "- drop 하는 것이 바람직해 보인다."
   ]
  },
  {
   "cell_type": "markdown",
   "metadata": {},
   "source": [
    "### card_company 데이터 탐색"
   ]
  },
  {
   "cell_type": "code",
   "execution_count": 13,
   "metadata": {
    "ExecuteTime": {
     "end_time": "2021-07-09T07:26:13.858422Z",
     "start_time": "2021-07-09T07:26:13.542226Z"
    }
   },
   "outputs": [
    {
     "data": {
      "text/plain": [
       "array(['b', 'h', 'c', 'a', 'f', 'e', 'g', 'd'], dtype=object)"
      ]
     },
     "execution_count": 13,
     "metadata": {},
     "output_type": "execute_result"
    }
   ],
   "source": [
    "df['card_company'].unique()"
   ]
  },
  {
   "cell_type": "code",
   "execution_count": 14,
   "metadata": {
    "ExecuteTime": {
     "end_time": "2021-07-09T07:26:15.085141Z",
     "start_time": "2021-07-09T07:26:13.861415Z"
    }
   },
   "outputs": [
    {
     "data": {
      "image/png": "[encoded data removed]",
      "text/plain": [
       "<Figure size 864x648 with 1 Axes>"
      ]
     },
     "metadata": {
      "needs_background": "light"
     },
     "output_type": "display_data"
    }
   ],
   "source": [
    "x = df['card_company'].value_counts().index\n",
    "y = df['card_company'].value_counts()\n",
    "sns.barplot(x=y, y=x, alpha=0.9, palette='mako');"
   ]
  },
  {
   "cell_type": "markdown",
   "metadata": {},
   "source": [
    "- 비식별화된 카드회사 정보인데, 알파벳 순 = value_counts()가 일치 \n",
    "    - 너무 짜여진 데이터 같음 => 모델이 잘못된 방식으로 데이터 인지할 가능성 우려\n",
    "- 추가적으로, card_id 와 동일한 이유로 활용하기도 어려움\n",
    "- drop 하는 것이 바람직해 보인다."
   ]
  },
  {
   "cell_type": "markdown",
   "metadata": {},
   "source": [
    "### transacted_date 데이터 탐색"
   ]
  },
  {
   "cell_type": "code",
   "execution_count": 15,
   "metadata": {
    "ExecuteTime": {
     "end_time": "2021-07-09T07:26:15.400328Z",
     "start_time": "2021-07-09T07:26:15.087136Z"
    }
   },
   "outputs": [
    {
     "name": "stdout",
     "output_type": "stream",
     "text": [
      "0          2016-06-01\n",
      "1          2016-06-01\n",
      "2          2016-06-01\n",
      "3          2016-06-01\n",
      "4          2016-06-02\n",
      "              ...    \n",
      "6556608    2019-02-28\n",
      "6556609    2019-02-28\n",
      "6556610    2019-02-28\n",
      "6556611    2019-02-28\n",
      "6556612    2019-02-28\n",
      "Name: transacted_date, Length: 6556613, dtype: object\n"
     ]
    },
    {
     "data": {
      "text/plain": [
       "transacted_date    0\n",
       "dtype: int64"
      ]
     },
     "execution_count": 15,
     "metadata": {},
     "output_type": "execute_result"
    }
   ],
   "source": [
    "print(df['transacted_date'])\n",
    "pd.DataFrame(df['transacted_date']).isnull().sum() #결측치 확인"
   ]
  },
  {
   "cell_type": "markdown",
   "metadata": {},
   "source": [
    "- df의 시간 범위: 2016-06-01 ~ 2019-02-28\n",
    "- 예측에 활용할 주요 feature\n",
    "- 예측은 매장 별 3개월 총 매출이므로 **'일 단위'** 를 **'월 단위'** 데이터로 통합해야 함"
   ]
  },
  {
   "cell_type": "markdown",
   "metadata": {},
   "source": [
    "### installment_term 데이터 탐색"
   ]
  },
  {
   "cell_type": "code",
   "execution_count": 16,
   "metadata": {
    "ExecuteTime": {
     "end_time": "2021-07-09T07:26:15.475130Z",
     "start_time": "2021-07-09T07:26:15.402294Z"
    }
   },
   "outputs": [
    {
     "data": {
      "text/plain": [
       "0     6327632\n",
       "3      134709\n",
       "2       42101\n",
       "5       23751\n",
       "6       10792\n",
       "10       6241\n",
       "4        4816\n",
       "12       2699\n",
       "60       1290\n",
       "7         553\n",
       "8         413\n",
       "24        404\n",
       "9         349\n",
       "18        332\n",
       "15        130\n",
       "20        116\n",
       "80         83\n",
       "11         47\n",
       "30         43\n",
       "36         36\n",
       "16         23\n",
       "14         12\n",
       "63          8\n",
       "83          6\n",
       "65          6\n",
       "19          4\n",
       "72          4\n",
       "13          3\n",
       "93          2\n",
       "23          2\n",
       "35          2\n",
       "82          2\n",
       "22          1\n",
       "17          1\n",
       "Name: installment_term, dtype: int64"
      ]
     },
     "execution_count": 16,
     "metadata": {},
     "output_type": "execute_result"
    }
   ],
   "source": [
    "df['installment_term'].value_counts(sort=True)"
   ]
  },
  {
   "cell_type": "code",
   "execution_count": 17,
   "metadata": {
    "ExecuteTime": {
     "end_time": "2021-07-09T07:26:15.550925Z",
     "start_time": "2021-07-09T07:26:15.477093Z"
    }
   },
   "outputs": [
    {
     "data": {
      "text/plain": [
       "installment_term    0\n",
       "dtype: int64"
      ]
     },
     "execution_count": 17,
     "metadata": {},
     "output_type": "execute_result"
    }
   ],
   "source": [
    "#결측치 확인\n",
    "pd.DataFrame(df['installment_term'].value_counts()).isnull().sum()"
   ]
  },
  {
   "cell_type": "markdown",
   "metadata": {},
   "source": [
    "- 전체 6556613 개의 데이터 중 일시불인 경우가 6327632 로 대부분이다.\n",
    "- 대부분이 일시불 값이므로 할부 T/F로 이진화 하여 feature로 사용하는 것이 더 유용할 것이다."
   ]
  },
  {
   "cell_type": "code",
   "execution_count": 18,
   "metadata": {
    "ExecuteTime": {
     "end_time": "2021-07-09T07:26:15.655647Z",
     "start_time": "2021-07-09T07:26:15.552892Z"
    }
   },
   "outputs": [],
   "source": [
    "# 시각화 위해 데이터 이진화\n",
    "df['installment_term2'] = (df['installment_term'] > 0).astype(int) # bool to int (True=1, False=0)\n",
    "installment = df['installment_term2'].value_counts() \n",
    "installment = list(installment)"
   ]
  },
  {
   "cell_type": "code",
   "execution_count": 19,
   "metadata": {
    "ExecuteTime": {
     "end_time": "2021-07-09T07:26:16.014685Z",
     "start_time": "2021-07-09T07:26:15.657611Z"
    }
   },
   "outputs": [
    {
     "data": {
      "image/png": "[encoded data removed]",
      "text/plain": [
       "<Figure size 1080x360 with 2 Axes>"
      ]
     },
     "metadata": {
      "needs_background": "light"
     },
     "output_type": "display_data"
    }
   ],
   "source": [
    "# canvas 크기 설정\n",
    "plt.figure(figsize=(15,5))\n",
    "\n",
    "\n",
    "# 그래프1\n",
    "plt.subplot(121)\n",
    "\n",
    "# 데이터 추출\n",
    "count_installment_terms = df['installment_term'].value_counts(sort=True)\n",
    "count_installment_terms = count_installment_terms[:5,]\n",
    "\n",
    "# 그래프 1 시각화\n",
    "sns.barplot(count_installment_terms.index, count_installment_terms.values, alpha=0.8)\n",
    "plt.title('Top5 Installment term', fontsize = 15)\n",
    "plt.ylabel('Counts', fontsize=12)\n",
    "plt.xlabel('installment term', fontsize=12)\n",
    "\n",
    "\n",
    "# 그래프2\n",
    "plt.subplot(122)\n",
    "x = ['Intallment_true', 'Installment_false']\n",
    "y = installment\n",
    "\n",
    "# 그래프2 시각화\n",
    "sns.barplot(x, y, alpha=0.8, palette='crest')\n",
    "plt.ylabel('Counts', fontsize=12)\n",
    "plt.title('Installment Payment Status (T/F)', fontsize=15)\n",
    "\n",
    "plt.show()"
   ]
  },
  {
   "cell_type": "markdown",
   "metadata": {},
   "source": [
    "### type_of_business 데이터 탐색"
   ]
  },
  {
   "cell_type": "code",
   "execution_count": 20,
   "metadata": {
    "ExecuteTime": {
     "end_time": "2021-07-09T07:26:16.974091Z",
     "start_time": "2021-07-09T07:26:16.016678Z"
    }
   },
   "outputs": [
    {
     "name": "stdout",
     "output_type": "stream",
     "text": [
      "한식 음식점업                     745905\n",
      "두발 미용업                      178475\n",
      "의복 소매업                      158234\n",
      "기타 주점업                      102413\n",
      "치킨 전문점                       89277\n",
      "                             ...  \n",
      "곡물 및 기타 식량작물 재배업               569\n",
      "주방용품 및 가정용 유리, 요업 제품 소매업       551\n",
      "배전반 및 전기 자동제어반 제조업             533\n",
      "그 외 기타 생활용품 도매업                519\n",
      "신선식품 및 단순 가공식품 도매업             231\n",
      "Name: type_of_business, Length: 145, dtype: int64\n"
     ]
    },
    {
     "data": {
      "text/plain": [
       "type_of_business    0\n",
       "dtype: int64"
      ]
     },
     "execution_count": 20,
     "metadata": {},
     "output_type": "execute_result"
    }
   ],
   "source": [
    "print((df['type_of_business'].value_counts())) #데이터 분포 확인\n",
    "pd.DataFrame(df['type_of_business'].value_counts()).isnull().sum() #결측치 확인"
   ]
  },
  {
   "cell_type": "code",
   "execution_count": 21,
   "metadata": {
    "ExecuteTime": {
     "end_time": "2021-07-09T07:26:18.233748Z",
     "start_time": "2021-07-09T07:26:16.976086Z"
    }
   },
   "outputs": [
    {
     "data": {
      "image/png": "[encoded data removed]",
      "text/plain": [
       "<Figure size 864x648 with 1 Axes>"
      ]
     },
     "metadata": {
      "needs_background": "light"
     },
     "output_type": "display_data"
    }
   ],
   "source": [
    "# 종류가 너무 많아 상위 20개만 확인\n",
    "x = df['type_of_business'].value_counts()[:20].index\n",
    "y = df['type_of_business'].value_counts()[:20]\n",
    "sns.barplot(x=y, y=x, alpha=0.9, palette='YlOrRd');"
   ]
  },
  {
   "cell_type": "markdown",
   "metadata": {},
   "source": [
    "- 범주형 변수\n",
    "- 업종 종류가 너무 다양해서 type of business raw 데이터로는 예측을 위한 특징으로 사용하기는 어려울 것으로 판단된다.\n",
    "- 그렇다고 dummy화 하기에는 수가 너무 많음\n",
    "- store_id와는 명확하게 매칭이 되는 데이터 -> transacted_date 기준으로 분류하면 사용이 가능 할 듯."
   ]
  },
  {
   "cell_type": "markdown",
   "metadata": {},
   "source": [
    "### region 데이터 탐색"
   ]
  },
  {
   "cell_type": "code",
   "execution_count": 22,
   "metadata": {
    "ExecuteTime": {
     "end_time": "2021-07-09T07:26:18.774277Z",
     "start_time": "2021-07-09T07:26:18.239706Z"
    }
   },
   "outputs": [
    {
     "data": {
      "text/plain": [
       "경기 수원시    122029\n",
       "충북 청주시    116766\n",
       "경남 창원시    107147\n",
       "경남 김해시    100673\n",
       "경기 평택시     82138\n",
       "Name: region, dtype: int64"
      ]
     },
     "execution_count": 22,
     "metadata": {},
     "output_type": "execute_result"
    }
   ],
   "source": [
    "df['region'].value_counts().head()"
   ]
  },
  {
   "cell_type": "code",
   "execution_count": 23,
   "metadata": {
    "ExecuteTime": {
     "end_time": "2021-07-09T07:26:19.597106Z",
     "start_time": "2021-07-09T07:26:18.778267Z"
    }
   },
   "outputs": [
    {
     "data": {
      "text/html": [
       "<div>\n",
       "<style scoped>\n",
       "    .dataframe tbody tr th:only-of-type {\n",
       "        vertical-align: middle;\n",
       "    }\n",
       "\n",
       "    .dataframe tbody tr th {\n",
       "        vertical-align: top;\n",
       "    }\n",
       "\n",
       "    .dataframe thead th {\n",
       "        text-align: right;\n",
       "    }\n",
       "</style>\n",
       "<table border=\"1\" class=\"dataframe\">\n",
       "  <thead>\n",
       "    <tr style=\"text-align: right;\">\n",
       "      <th></th>\n",
       "      <th>region</th>\n",
       "    </tr>\n",
       "  </thead>\n",
       "  <tbody>\n",
       "    <tr>\n",
       "      <th>count</th>\n",
       "      <td>4513847</td>\n",
       "    </tr>\n",
       "    <tr>\n",
       "      <th>unique</th>\n",
       "      <td>180</td>\n",
       "    </tr>\n",
       "    <tr>\n",
       "      <th>top</th>\n",
       "      <td>경기 수원시</td>\n",
       "    </tr>\n",
       "    <tr>\n",
       "      <th>freq</th>\n",
       "      <td>122029</td>\n",
       "    </tr>\n",
       "  </tbody>\n",
       "</table>\n",
       "</div>"
      ],
      "text/plain": [
       "         region\n",
       "count   4513847\n",
       "unique      180\n",
       "top      경기 수원시\n",
       "freq     122029"
      ]
     },
     "execution_count": 23,
     "metadata": {},
     "output_type": "execute_result"
    }
   ],
   "source": [
    "pd.DataFrame(df['region']).describe()"
   ]
  },
  {
   "cell_type": "code",
   "execution_count": 24,
   "metadata": {
    "ExecuteTime": {
     "end_time": "2021-07-09T07:26:19.896279Z",
     "start_time": "2021-07-09T07:26:19.599072Z"
    }
   },
   "outputs": [
    {
     "data": {
      "text/plain": [
       "region    2042766\n",
       "dtype: int64"
      ]
     },
     "execution_count": 24,
     "metadata": {},
     "output_type": "execute_result"
    }
   ],
   "source": [
    "# 결측치 확인\n",
    "pd.DataFrame(df['region']).isnull().sum()"
   ]
  },
  {
   "cell_type": "code",
   "execution_count": 25,
   "metadata": {
    "ExecuteTime": {
     "end_time": "2021-07-09T07:26:21.258665Z",
     "start_time": "2021-07-09T07:26:19.898272Z"
    }
   },
   "outputs": [
    {
     "data": {
      "image/png": "[encoded data removed]",
      "text/plain": [
       "<Figure size 864x648 with 1 Axes>"
      ]
     },
     "metadata": {
      "needs_background": "light"
     },
     "output_type": "display_data"
    }
   ],
   "source": [
    "# 지역이 너무 많아 상위 20개만 확인\n",
    "x = df['region'].value_counts()[:20].index\n",
    "y = df['region'].value_counts()[:20]\n",
    "sns.barplot(x=y, y=x, alpha=0.9, palette='viridis');"
   ]
  },
  {
   "cell_type": "markdown",
   "metadata": {},
   "source": [
    "- 범주형 변수\n",
    "- type of business 와 마찬가지로 지역의 unique value가 너무 많음 -> raw 데이터로는 예측을 위한 특징 으로 사용하기에 부적합\n",
    "- region별 매출 특성을 파악 하는 것에는 사용이 가능할 듯."
   ]
  },
  {
   "cell_type": "markdown",
   "metadata": {},
   "source": [
    "### 변수 탐색 결론"
   ]
  },
  {
   "cell_type": "markdown",
   "metadata": {},
   "source": [
    "- store_id : 각 상점을 구분지을 중요 feature. 변형없이 사용\n",
    "- card_id, card_company : 매장 별 매출액 분석에 유의미 하지 않으므로 drop (도메인지식 기반 판단)\n",
    "- intallment_term : 일시불(0)인 데이터가 압도적으로 많음 -> 일시불 / 할부 로 데이터 이원화 하는 것이 유용\n",
    "- type_of_business , region : 범주형 데이터, 다만 range가 너무 커서 dummy할 수는 없음. 시간 & store 기준으로 데이터를 병합하면 매출 특성을 구분하는데 사용할 수 있을 것으로 예상됨\n",
    "- transcade_time : 예측해야할 값은 '월 단위'. 특정 시간대의 매출 경향성이 전체 월 매출에 영향을 끼치지 않을 것이라 판단 \n",
    "    - 추가로 transcade_date 와 중복되는 경향이 있어 배제\n",
    "---\n",
    "- transcade_date : '일' 단위 데이터 -> '월 단위' 로 변경 필요 : group by의 기준이 되는 데이터가 되어야 함 (분석의 key value)\n",
    "    - standard_t(기준 월) 을 기준으로 매출 합계를 예측 해야 함\n",
    "    \n",
    "    - standard_t-2, standard_t-1, standard_t 3개의 데이터 기반 -> standard_t+1, standard_t+2, standard_t+3 을 예측 하는 방식\n",
    "    \n",
    "    - e.g) 2016년 1월 , 2016년 2월, 2016년 3월 매출 데이터 기반 -> 2016년 4월 매출, 2016년 5월 매출, 2016년 6월 매출을 예측하는 식으로 반복 학습 방식으로 3년치 데이터 기반으로 최종적으로 2019년 3월 ~ 5월 매출 예측 (중첩된 예측과 검증으로 예측력 상승을 기대)\n",
    "    \n",
    "    - 연도 & 월 로 하는 경우 데이터 구분이 명확하지 않을 가능성 있음. 특정 시점을 기준으로 Index 식으로 구분하는 것이 더 모델이 인지를 잘 할 것으로 예상"
   ]
  },
  {
   "cell_type": "markdown",
   "metadata": {},
   "source": [
    "# Data Processing - Train data"
   ]
  },
  {
   "cell_type": "markdown",
   "metadata": {},
   "source": [
    "## transcated_data - 파생변수 생성"
   ]
  },
  {
   "cell_type": "markdown",
   "metadata": {},
   "source": [
    "### 년/월 추출 "
   ]
  },
  {
   "cell_type": "code",
   "execution_count": 26,
   "metadata": {
    "ExecuteTime": {
     "end_time": "2021-07-09T07:26:59.813569Z",
     "start_time": "2021-07-09T07:26:21.260659Z"
    }
   },
   "outputs": [
    {
     "data": {
      "text/html": [
       "<div>\n",
       "<style scoped>\n",
       "    .dataframe tbody tr th:only-of-type {\n",
       "        vertical-align: middle;\n",
       "    }\n",
       "\n",
       "    .dataframe tbody tr th {\n",
       "        vertical-align: top;\n",
       "    }\n",
       "\n",
       "    .dataframe thead th {\n",
       "        text-align: right;\n",
       "    }\n",
       "</style>\n",
       "<table border=\"1\" class=\"dataframe\">\n",
       "  <thead>\n",
       "    <tr style=\"text-align: right;\">\n",
       "      <th></th>\n",
       "      <th>store_id</th>\n",
       "      <th>card_id</th>\n",
       "      <th>card_company</th>\n",
       "      <th>transacted_date</th>\n",
       "      <th>transacted_time</th>\n",
       "      <th>installment_term</th>\n",
       "      <th>region</th>\n",
       "      <th>type_of_business</th>\n",
       "      <th>amount</th>\n",
       "      <th>installment_term2</th>\n",
       "      <th>transacted_year</th>\n",
       "      <th>transacted_month</th>\n",
       "    </tr>\n",
       "  </thead>\n",
       "  <tbody>\n",
       "    <tr>\n",
       "      <th>0</th>\n",
       "      <td>0</td>\n",
       "      <td>0</td>\n",
       "      <td>b</td>\n",
       "      <td>2016-06-01</td>\n",
       "      <td>13:13</td>\n",
       "      <td>0</td>\n",
       "      <td>NaN</td>\n",
       "      <td>기타 미용업</td>\n",
       "      <td>1857.14</td>\n",
       "      <td>0</td>\n",
       "      <td>2016</td>\n",
       "      <td>6</td>\n",
       "    </tr>\n",
       "    <tr>\n",
       "      <th>1</th>\n",
       "      <td>0</td>\n",
       "      <td>1</td>\n",
       "      <td>h</td>\n",
       "      <td>2016-06-01</td>\n",
       "      <td>18:12</td>\n",
       "      <td>0</td>\n",
       "      <td>NaN</td>\n",
       "      <td>기타 미용업</td>\n",
       "      <td>857.14</td>\n",
       "      <td>0</td>\n",
       "      <td>2016</td>\n",
       "      <td>6</td>\n",
       "    </tr>\n",
       "    <tr>\n",
       "      <th>2</th>\n",
       "      <td>0</td>\n",
       "      <td>2</td>\n",
       "      <td>c</td>\n",
       "      <td>2016-06-01</td>\n",
       "      <td>18:52</td>\n",
       "      <td>0</td>\n",
       "      <td>NaN</td>\n",
       "      <td>기타 미용업</td>\n",
       "      <td>2000.00</td>\n",
       "      <td>0</td>\n",
       "      <td>2016</td>\n",
       "      <td>6</td>\n",
       "    </tr>\n",
       "    <tr>\n",
       "      <th>3</th>\n",
       "      <td>0</td>\n",
       "      <td>3</td>\n",
       "      <td>a</td>\n",
       "      <td>2016-06-01</td>\n",
       "      <td>20:22</td>\n",
       "      <td>0</td>\n",
       "      <td>NaN</td>\n",
       "      <td>기타 미용업</td>\n",
       "      <td>7857.14</td>\n",
       "      <td>0</td>\n",
       "      <td>2016</td>\n",
       "      <td>6</td>\n",
       "    </tr>\n",
       "    <tr>\n",
       "      <th>4</th>\n",
       "      <td>0</td>\n",
       "      <td>4</td>\n",
       "      <td>c</td>\n",
       "      <td>2016-06-02</td>\n",
       "      <td>11:06</td>\n",
       "      <td>0</td>\n",
       "      <td>NaN</td>\n",
       "      <td>기타 미용업</td>\n",
       "      <td>2000.00</td>\n",
       "      <td>0</td>\n",
       "      <td>2016</td>\n",
       "      <td>6</td>\n",
       "    </tr>\n",
       "  </tbody>\n",
       "</table>\n",
       "</div>"
      ],
      "text/plain": [
       "   store_id  card_id card_company transacted_date transacted_time  installment_term region type_of_business  amount  installment_term2  transacted_year  transacted_month\n",
       "0         0        0            b      2016-06-01           13:13                 0    NaN           기타 미용업 1857.14                  0             2016                 6\n",
       "1         0        1            h      2016-06-01           18:12                 0    NaN           기타 미용업  857.14                  0             2016                 6\n",
       "2         0        2            c      2016-06-01           18:52                 0    NaN           기타 미용업 2000.00                  0             2016                 6\n",
       "3         0        3            a      2016-06-01           20:22                 0    NaN           기타 미용업 7857.14                  0             2016                 6\n",
       "4         0        4            c      2016-06-02           11:06                 0    NaN           기타 미용업 2000.00                  0             2016                 6"
      ]
     },
     "execution_count": 26,
     "metadata": {},
     "output_type": "execute_result"
    }
   ],
   "source": [
    "# .str.split으로 년/월 추출\n",
    "\n",
    "# year\n",
    "df['transacted_year'] = df['transacted_date'].str.split('-', expand = True).iloc[:, 0].astype(int)\n",
    "\n",
    "# month\n",
    "df['transacted_month'] = df['transacted_date'].str.split('-', expand = True).iloc[:, 1].astype(int)\n",
    "df.head()"
   ]
  },
  {
   "cell_type": "markdown",
   "metadata": {},
   "source": [
    "- transacted_date의 시작점이 2016년 6월 1일 이므로 transacted_year에서 2016을 빼고 'month'를 기준으로 데이터를 분류하는 index번호처럼 생성\n",
    "계산 방식은 다음과 같다.\n",
    "\n",
    "```python\n",
    "standard_t = (연도-2016)*12 + '월'\n",
    "```\n",
    "- 2016년의 경우 6월 =6, 7월 =7\n",
    "- 2017년의 경우 1월 = 12, 2월 = 24\n",
    "- 위와 같이 각 연도별 월을 구분지을 수 있게 가공된다."
   ]
  },
  {
   "cell_type": "markdown",
   "metadata": {},
   "source": [
    "### 기준 시점이 될 std_mth (= standard_month) 생성"
   ]
  },
  {
   "cell_type": "code",
   "execution_count": 27,
   "metadata": {
    "ExecuteTime": {
     "end_time": "2021-07-09T07:27:00.255387Z",
     "start_time": "2021-07-09T07:26:59.815535Z"
    }
   },
   "outputs": [],
   "source": [
    "# 데이터 병합을 위해 시간 데이터를 standard_t 로 변경하고, 불필요한 컬럼은 drop\n",
    "df['std_mth'] = (df['transacted_year'] - 2016) * 12 + df['transacted_month']\n",
    "df.drop(['transacted_year', 'transacted_month', 'transacted_date', 'transacted_time'], axis = 1, inplace = True)"
   ]
  },
  {
   "cell_type": "code",
   "execution_count": 28,
   "metadata": {
    "ExecuteTime": {
     "end_time": "2021-07-09T07:27:00.345147Z",
     "start_time": "2021-07-09T07:27:00.257354Z"
    }
   },
   "outputs": [
    {
     "data": {
      "text/plain": [
       "array([ 6,  7,  8,  9, 10, 11, 12, 13, 14, 15, 16, 17, 18, 19, 20, 21, 22,\n",
       "       23, 24, 25, 26, 27, 28, 29, 30, 31, 32, 33, 34, 35, 36, 37, 38])"
      ]
     },
     "execution_count": 28,
     "metadata": {},
     "output_type": "execute_result"
    }
   ],
   "source": [
    "df['std_mth'].unique()"
   ]
  },
  {
   "cell_type": "markdown",
   "metadata": {},
   "source": [
    "## 업종 특성, 지역, 할부 평균 - 파생변수 생성"
   ]
  },
  {
   "cell_type": "markdown",
   "metadata": {},
   "source": [
    "### installment_term - 매장별 평균 할부 비율\n",
    "\n",
    "- EDA에서 본 바와 같이 대부분이 일시불이므로 일시불 / 할부로 범주를 이원화 하여 사용 (전체 할부 개월 수 로 하기엔 너무 범위가 큼)\n",
    "- 다만, 단순 할부 여부는 동일 매장에서 결제 건수가 여러건 발생 하므로 T/F로 입력할 수가 없다. -> 매장별 평균 할부개월 비율로 전처리"
   ]
  },
  {
   "cell_type": "code",
   "execution_count": 29,
   "metadata": {
    "ExecuteTime": {
     "end_time": "2021-07-09T07:27:00.479758Z",
     "start_time": "2021-07-09T07:27:00.347142Z"
    }
   },
   "outputs": [
    {
     "data": {
      "text/plain": [
       "0    6327632\n",
       "1     228981\n",
       "Name: installment_term, dtype: int64"
      ]
     },
     "execution_count": 29,
     "metadata": {},
     "output_type": "execute_result"
    }
   ],
   "source": [
    "df['installment_term'] = (df['installment_term'] > 0).astype(int) # bool to int (True=1, False=0)\n",
    "df['installment_term'].value_counts()"
   ]
  },
  {
   "cell_type": "code",
   "execution_count": 30,
   "metadata": {
    "ExecuteTime": {
     "end_time": "2021-07-09T07:27:00.659308Z",
     "start_time": "2021-07-09T07:27:00.481754Z"
    }
   },
   "outputs": [
    {
     "data": {
      "text/plain": [
       "store_id\n",
       "0   0.04\n",
       "1   0.00\n",
       "2   0.08\n",
       "4   0.00\n",
       "5   0.08\n",
       "Name: installment_term, dtype: float64"
      ]
     },
     "execution_count": 30,
     "metadata": {},
     "output_type": "execute_result"
    }
   ],
   "source": [
    "# 각 매장 기준으로 할부 기간의 평균 계산\n",
    "installment_term_per_store = df.groupby(['store_id'])['installment_term'].mean()\n",
    "installment_term_per_store.head()"
   ]
  },
  {
   "cell_type": "code",
   "execution_count": 31,
   "metadata": {
    "ExecuteTime": {
     "end_time": "2021-07-09T07:27:00.674268Z",
     "start_time": "2021-07-09T07:27:00.661273Z"
    }
   },
   "outputs": [
    {
     "data": {
      "text/plain": [
       "installment_term    0\n",
       "dtype: int64"
      ]
     },
     "execution_count": 31,
     "metadata": {},
     "output_type": "execute_result"
    }
   ],
   "source": [
    "# 결측치 확인\n",
    "pd.DataFrame(installment_term_per_store).isnull().sum()"
   ]
  },
  {
   "cell_type": "markdown",
   "metadata": {},
   "source": [
    "### region - group by로 데이터 셋팅"
   ]
  },
  {
   "cell_type": "markdown",
   "metadata": {},
   "source": [
    "- 범주형이지만, 종류가 너무 많아 dummy 하여 사용하기는 어려움 -> 활용을 위해 파생변수 생성 필요 (group by)\n",
    "- 결측치가 2042766 개 존재함\n",
    "- 결측치를 drop하기에는 너무 많은 데이터 -> 전처리를 통해 group by에 포함되도록 해야 함"
   ]
  },
  {
   "cell_type": "code",
   "execution_count": 32,
   "metadata": {
    "ExecuteTime": {
     "end_time": "2021-07-09T07:27:01.526990Z",
     "start_time": "2021-07-09T07:27:00.676234Z"
    }
   },
   "outputs": [
    {
     "data": {
      "text/plain": [
       "미분류       2042766\n",
       "경기 수원시     122029\n",
       "충북 청주시     116766\n",
       "경남 창원시     107147\n",
       "경남 김해시     100673\n",
       "Name: region, dtype: int64"
      ]
     },
     "execution_count": 32,
     "metadata": {},
     "output_type": "execute_result"
    }
   ],
   "source": [
    "# 결측치 전처리\n",
    "df['region'].fillna('미분류', inplace = True)\n",
    "df['region'].value_counts().head()"
   ]
  },
  {
   "cell_type": "code",
   "execution_count": 33,
   "metadata": {
    "ExecuteTime": {
     "end_time": "2021-07-09T07:27:02.111424Z",
     "start_time": "2021-07-09T07:27:01.528953Z"
    }
   },
   "outputs": [
    {
     "data": {
      "text/plain": [
       "0"
      ]
     },
     "execution_count": 33,
     "metadata": {},
     "output_type": "execute_result"
    }
   ],
   "source": [
    "# 결측치 재확인\n",
    "df['region'].value_counts().isnull().sum()"
   ]
  },
  {
   "cell_type": "markdown",
   "metadata": {},
   "source": [
    "### type_of_business - 데이터 셋팅\n",
    "- 범주형이지만, 종류가 너무 많아(145개) dummy 하여 사용하기는 어려움 -> 활용을 위해 파생변수 생성 필요 (group by)\n",
    "- 결측치가 3952609 개 존재함\n",
    "- 결측치를 drop하기에는 너무 많은 데이터 -> 전처리를 통해 group by에 포함되도록 해야 함"
   ]
  },
  {
   "cell_type": "code",
   "execution_count": 34,
   "metadata": {
    "ExecuteTime": {
     "end_time": "2021-07-09T07:27:02.935222Z",
     "start_time": "2021-07-09T07:27:02.113390Z"
    },
    "scrolled": true
   },
   "outputs": [
    {
     "data": {
      "text/plain": [
       "미분류        3952609\n",
       "한식 음식점업     745905\n",
       "두발 미용업      178475\n",
       "의복 소매업      158234\n",
       "기타 주점업      102413\n",
       "Name: type_of_business, dtype: int64"
      ]
     },
     "execution_count": 34,
     "metadata": {},
     "output_type": "execute_result"
    }
   ],
   "source": [
    "# groupby에 결측을 포함시키기 위해, 결측을 문자로 대체\n",
    "df['type_of_business'].fillna('미분류', inplace = True)\n",
    "df['type_of_business'].value_counts().head()"
   ]
  },
  {
   "cell_type": "code",
   "execution_count": 35,
   "metadata": {
    "ExecuteTime": {
     "end_time": "2021-07-09T07:27:03.489711Z",
     "start_time": "2021-07-09T07:27:02.937187Z"
    }
   },
   "outputs": [
    {
     "data": {
      "text/plain": [
       "0"
      ]
     },
     "execution_count": 35,
     "metadata": {},
     "output_type": "execute_result"
    }
   ],
   "source": [
    "# 결과 재확인\n",
    "df['type_of_business'].value_counts().isnull().sum()"
   ]
  },
  {
   "cell_type": "markdown",
   "metadata": {},
   "source": [
    "### 불필요한 변수 제거\n",
    "- card_id, card_company는 특징으로 사용하기에는 범주가 너무 세밀하고, 특징으로서 유의하지 않을 것이라 판단되므로 drop"
   ]
  },
  {
   "cell_type": "code",
   "execution_count": 36,
   "metadata": {
    "ExecuteTime": {
     "end_time": "2021-07-09T07:27:03.804897Z",
     "start_time": "2021-07-09T07:27:03.491706Z"
    }
   },
   "outputs": [],
   "source": [
    "df.drop(['card_id', 'card_company'], axis = 1, inplace = True)"
   ]
  },
  {
   "cell_type": "markdown",
   "metadata": {},
   "source": [
    "### 중복 데이터 처리"
   ]
  },
  {
   "cell_type": "code",
   "execution_count": 37,
   "metadata": {
    "ExecuteTime": {
     "end_time": "2021-07-09T07:27:05.261005Z",
     "start_time": "2021-07-09T07:27:03.806891Z"
    },
    "scrolled": true
   },
   "outputs": [
    {
     "data": {
      "text/html": [
       "<div>\n",
       "<style scoped>\n",
       "    .dataframe tbody tr th:only-of-type {\n",
       "        vertical-align: middle;\n",
       "    }\n",
       "\n",
       "    .dataframe tbody tr th {\n",
       "        vertical-align: top;\n",
       "    }\n",
       "\n",
       "    .dataframe thead th {\n",
       "        text-align: right;\n",
       "    }\n",
       "</style>\n",
       "<table border=\"1\" class=\"dataframe\">\n",
       "  <thead>\n",
       "    <tr style=\"text-align: right;\">\n",
       "      <th></th>\n",
       "      <th>store_id</th>\n",
       "      <th>region</th>\n",
       "      <th>type_of_business</th>\n",
       "      <th>std_mth</th>\n",
       "    </tr>\n",
       "  </thead>\n",
       "  <tbody>\n",
       "    <tr>\n",
       "      <th>0</th>\n",
       "      <td>0</td>\n",
       "      <td>미분류</td>\n",
       "      <td>기타 미용업</td>\n",
       "      <td>6</td>\n",
       "    </tr>\n",
       "    <tr>\n",
       "      <th>145</th>\n",
       "      <td>0</td>\n",
       "      <td>미분류</td>\n",
       "      <td>기타 미용업</td>\n",
       "      <td>7</td>\n",
       "    </tr>\n",
       "    <tr>\n",
       "      <th>323</th>\n",
       "      <td>0</td>\n",
       "      <td>미분류</td>\n",
       "      <td>기타 미용업</td>\n",
       "      <td>8</td>\n",
       "    </tr>\n",
       "    <tr>\n",
       "      <th>494</th>\n",
       "      <td>0</td>\n",
       "      <td>미분류</td>\n",
       "      <td>기타 미용업</td>\n",
       "      <td>9</td>\n",
       "    </tr>\n",
       "    <tr>\n",
       "      <th>654</th>\n",
       "      <td>0</td>\n",
       "      <td>미분류</td>\n",
       "      <td>기타 미용업</td>\n",
       "      <td>10</td>\n",
       "    </tr>\n",
       "  </tbody>\n",
       "</table>\n",
       "</div>"
      ],
      "text/plain": [
       "     store_id region type_of_business  std_mth\n",
       "0           0    미분류           기타 미용업        6\n",
       "145         0    미분류           기타 미용업        7\n",
       "323         0    미분류           기타 미용업        8\n",
       "494         0    미분류           기타 미용업        9\n",
       "654         0    미분류           기타 미용업       10"
      ]
     },
     "execution_count": 37,
     "metadata": {},
     "output_type": "execute_result"
    }
   ],
   "source": [
    "# 'store_id', 'region', 'type_of_business', 'std_mth'를 기준으로 중복 제거\n",
    "train_df = df.drop_duplicates(subset = ['store_id', 'region', 'type_of_business', 'std_mth'])[['store_id', 'region', 'type_of_business', 'std_mth']]\n",
    "train_df.head()"
   ]
  },
  {
   "cell_type": "markdown",
   "metadata": {},
   "source": [
    "### 평균 할부율 입력 to train_df"
   ]
  },
  {
   "cell_type": "code",
   "execution_count": 38,
   "metadata": {
    "ExecuteTime": {
     "end_time": "2021-07-09T07:27:06.083909Z",
     "start_time": "2021-07-09T07:27:05.262968Z"
    }
   },
   "outputs": [],
   "source": [
    "train_df['평균할부율'] = train_df['store_id'].replace(installment_term_per_store.to_dict())"
   ]
  },
  {
   "cell_type": "markdown",
   "metadata": {},
   "source": [
    "### std_mth(기준월)의 -1, -2, -3 시점에 대한 매장별 매출 / 지역별 매출 / 업종별 매출 파생변수 생성"
   ]
  },
  {
   "attachments": {
    "image.png": {
     "image/png": "[encoded data removed]"
    }
   },
   "cell_type": "markdown",
   "metadata": {},
   "source": [
    "- df1에서는 시점 t를, 다른 데이터에서는 시점 t+1 or t-1 을 붙여야 되는 상황\n",
    "- t가 유니크 하다면, df2를 shift()해서 공백을 만든 뒤 concat을 하면 된다. (시계열 데이터에서 많이 사용)\n",
    "- t가 유니크 하지 않은 경우는 새로운 변수( e.g: t_1)을 만들어서 merge한다.\n",
    "\n",
    "![image.png](attachment:image.png)\n",
    "\n",
    "---\n",
    "- 단, std_mth는 각 매장별로 값이 존재하고, 필요한 값은 기준 월(std_mth)을 중심으로 -1, -2, -3 개월의 매출 값이다.\n",
    "- 이를 위해 for문을 사용하여 i = 1, 2, 3 일때 각각 t_{i} 값이 들어가는 변수를 만들어서 병합할 것이다.\n",
    "- 중복 방지를 위해 병합한 변수명 변경 및 drop 작업도 함께 수행한다."
   ]
  },
  {
   "cell_type": "markdown",
   "metadata": {},
   "source": [
    "#### 각 시점별 매장의 월 매출 (파생변수)"
   ]
  },
  {
   "cell_type": "markdown",
   "metadata": {},
   "source": [
    "##### 각 store당 월별 amount 계산\n",
    "\n",
    "- standard_t (월): 6(2016년 6월) ~ 38 (2019년 2월)\n",
    "- 즉, store_id가 0이라는 매장의 standard_t가 6일때의 매출 , 7일때의 매출... 38일때의 매출을 각각 입력"
   ]
  },
  {
   "cell_type": "code",
   "execution_count": 39,
   "metadata": {
    "ExecuteTime": {
     "end_time": "2021-07-09T07:27:06.581578Z",
     "start_time": "2021-07-09T07:27:06.085873Z"
    },
    "scrolled": false
   },
   "outputs": [
    {
     "data": {
      "text/html": [
       "<div>\n",
       "<style scoped>\n",
       "    .dataframe tbody tr th:only-of-type {\n",
       "        vertical-align: middle;\n",
       "    }\n",
       "\n",
       "    .dataframe tbody tr th {\n",
       "        vertical-align: top;\n",
       "    }\n",
       "\n",
       "    .dataframe thead th {\n",
       "        text-align: right;\n",
       "    }\n",
       "</style>\n",
       "<table border=\"1\" class=\"dataframe\">\n",
       "  <thead>\n",
       "    <tr style=\"text-align: right;\">\n",
       "      <th></th>\n",
       "      <th>store_id</th>\n",
       "      <th>std_mth</th>\n",
       "      <th>amount</th>\n",
       "    </tr>\n",
       "  </thead>\n",
       "  <tbody>\n",
       "    <tr>\n",
       "      <th>0</th>\n",
       "      <td>0</td>\n",
       "      <td>6</td>\n",
       "      <td>747000.00</td>\n",
       "    </tr>\n",
       "    <tr>\n",
       "      <th>1</th>\n",
       "      <td>0</td>\n",
       "      <td>7</td>\n",
       "      <td>1005000.00</td>\n",
       "    </tr>\n",
       "    <tr>\n",
       "      <th>2</th>\n",
       "      <td>0</td>\n",
       "      <td>8</td>\n",
       "      <td>871571.43</td>\n",
       "    </tr>\n",
       "    <tr>\n",
       "      <th>3</th>\n",
       "      <td>0</td>\n",
       "      <td>9</td>\n",
       "      <td>897857.14</td>\n",
       "    </tr>\n",
       "    <tr>\n",
       "      <th>4</th>\n",
       "      <td>0</td>\n",
       "      <td>10</td>\n",
       "      <td>835428.57</td>\n",
       "    </tr>\n",
       "  </tbody>\n",
       "</table>\n",
       "</div>"
      ],
      "text/plain": [
       "   store_id  std_mth     amount\n",
       "0         0        6  747000.00\n",
       "1         0        7 1005000.00\n",
       "2         0        8  871571.43\n",
       "3         0        9  897857.14\n",
       "4         0       10  835428.57"
      ]
     },
     "execution_count": 39,
     "metadata": {},
     "output_type": "execute_result"
    }
   ],
   "source": [
    "# store_id와 standard_t에 따른 amount 합계 계산: total_amt_per_mth_and_store\n",
    "total_amt_per_mth_and_store = df.groupby(['store_id', 'std_mth'], as_index = False)['amount'].sum()\n",
    "total_amt_per_mth_and_store.head()"
   ]
  },
  {
   "cell_type": "markdown",
   "metadata": {},
   "source": [
    "- group by의 경우 지정한 조건에 해당하는 값이 없으면 건너뛴다.\n",
    "- 각 지점별로 '모든 월' 에 대한 amount가 들어가야 하므로, 매장별 매출에서 값이 생략된 월들은 0으로 값을 넣어줘야 한다.\n",
    "- 그렇지 않을 경우 다른 데이터와 merge 할 경우 에러 발생, 혹은 잘못된 값이 입력될 수 있다."
   ]
  },
  {
   "cell_type": "markdown",
   "metadata": {},
   "source": [
    "매장별로 결측된 월이 있는지 확인"
   ]
  },
  {
   "cell_type": "code",
   "execution_count": 40,
   "metadata": {
    "ExecuteTime": {
     "end_time": "2021-07-09T07:27:06.596537Z",
     "start_time": "2021-07-09T07:27:06.583542Z"
    }
   },
   "outputs": [
    {
     "data": {
      "text/plain": [
       "store_id\n",
       "0       33\n",
       "1       33\n",
       "2       33\n",
       "4       33\n",
       "5       33\n",
       "        ..\n",
       "2132    31\n",
       "2133    32\n",
       "2134    26\n",
       "2135    31\n",
       "2136    22\n",
       "Name: std_mth, Length: 1967, dtype: int64"
      ]
     },
     "execution_count": 40,
     "metadata": {},
     "output_type": "execute_result"
    }
   ],
   "source": [
    "total_amt_per_mth_and_store.groupby(['store_id'])['std_mth'].count()"
   ]
  },
  {
   "cell_type": "markdown",
   "metadata": {},
   "source": [
    "- 몇몇 store_id에서 누락된 값이 보인다.\n",
    "- group by에서 생략된 값이 실제 매출이 발생했는데 단순 누락된 값인지, 매장 운영이 되지 않은 기간이어서 0인건지 확인이 어렵다.\n",
    "- 이를 위해 pivot_table 활용\n",
    "---\n",
    "- 누락된 값이 연속적인 경우만 있다면 매출이 발생하지 않은 것으로 가정 하여 0으로 채운다.\n",
    "    - e.g) 시작점은 2016년 6월이지만, 누락된 매장들은 시작점 보다 늦게 개점하여 누락된 경우\n",
    "\n",
    "\n",
    "- 누락된 값이 불연속적이라면, 매출값이 누락된 것이라 가정하고 누락된 값의 '전/후' 값으로 채워넣는다."
   ]
  },
  {
   "cell_type": "code",
   "execution_count": 41,
   "metadata": {
    "ExecuteTime": {
     "end_time": "2021-07-09T07:27:07.195904Z",
     "start_time": "2021-07-09T07:27:06.598531Z"
    }
   },
   "outputs": [
    {
     "data": {
      "text/html": [
       "<div>\n",
       "<style scoped>\n",
       "    .dataframe tbody tr th:only-of-type {\n",
       "        vertical-align: middle;\n",
       "    }\n",
       "\n",
       "    .dataframe tbody tr th {\n",
       "        vertical-align: top;\n",
       "    }\n",
       "\n",
       "    .dataframe thead th {\n",
       "        text-align: right;\n",
       "    }\n",
       "</style>\n",
       "<table border=\"1\" class=\"dataframe\">\n",
       "  <thead>\n",
       "    <tr style=\"text-align: right;\">\n",
       "      <th>std_mth</th>\n",
       "      <th>6</th>\n",
       "      <th>7</th>\n",
       "      <th>8</th>\n",
       "      <th>9</th>\n",
       "      <th>10</th>\n",
       "      <th>11</th>\n",
       "      <th>12</th>\n",
       "      <th>13</th>\n",
       "      <th>14</th>\n",
       "      <th>15</th>\n",
       "      <th>16</th>\n",
       "      <th>17</th>\n",
       "      <th>18</th>\n",
       "      <th>19</th>\n",
       "      <th>20</th>\n",
       "      <th>21</th>\n",
       "      <th>22</th>\n",
       "      <th>23</th>\n",
       "      <th>24</th>\n",
       "      <th>25</th>\n",
       "      <th>26</th>\n",
       "      <th>27</th>\n",
       "      <th>28</th>\n",
       "      <th>29</th>\n",
       "      <th>30</th>\n",
       "      <th>31</th>\n",
       "      <th>32</th>\n",
       "      <th>33</th>\n",
       "      <th>34</th>\n",
       "      <th>35</th>\n",
       "      <th>36</th>\n",
       "      <th>37</th>\n",
       "      <th>38</th>\n",
       "    </tr>\n",
       "    <tr>\n",
       "      <th>store_id</th>\n",
       "      <th></th>\n",
       "      <th></th>\n",
       "      <th></th>\n",
       "      <th></th>\n",
       "      <th></th>\n",
       "      <th></th>\n",
       "      <th></th>\n",
       "      <th></th>\n",
       "      <th></th>\n",
       "      <th></th>\n",
       "      <th></th>\n",
       "      <th></th>\n",
       "      <th></th>\n",
       "      <th></th>\n",
       "      <th></th>\n",
       "      <th></th>\n",
       "      <th></th>\n",
       "      <th></th>\n",
       "      <th></th>\n",
       "      <th></th>\n",
       "      <th></th>\n",
       "      <th></th>\n",
       "      <th></th>\n",
       "      <th></th>\n",
       "      <th></th>\n",
       "      <th></th>\n",
       "      <th></th>\n",
       "      <th></th>\n",
       "      <th></th>\n",
       "      <th></th>\n",
       "      <th></th>\n",
       "      <th></th>\n",
       "      <th></th>\n",
       "    </tr>\n",
       "  </thead>\n",
       "  <tbody>\n",
       "    <tr>\n",
       "      <th>0</th>\n",
       "      <td>747000.00</td>\n",
       "      <td>1005000.00</td>\n",
       "      <td>871571.43</td>\n",
       "      <td>897857.14</td>\n",
       "      <td>835428.57</td>\n",
       "      <td>697000.00</td>\n",
       "      <td>761857.14</td>\n",
       "      <td>585642.86</td>\n",
       "      <td>794000.00</td>\n",
       "      <td>720257.14</td>\n",
       "      <td>685285.71</td>\n",
       "      <td>744428.57</td>\n",
       "      <td>682000.00</td>\n",
       "      <td>728285.71</td>\n",
       "      <td>749000.00</td>\n",
       "      <td>840857.14</td>\n",
       "      <td>600571.43</td>\n",
       "      <td>630857.14</td>\n",
       "      <td>812714.29</td>\n",
       "      <td>643142.86</td>\n",
       "      <td>685285.71</td>\n",
       "      <td>848428.57</td>\n",
       "      <td>636142.86</td>\n",
       "      <td>686428.57</td>\n",
       "      <td>707285.71</td>\n",
       "      <td>758714.29</td>\n",
       "      <td>679857.14</td>\n",
       "      <td>651857.14</td>\n",
       "      <td>739000.00</td>\n",
       "      <td>676000.00</td>\n",
       "      <td>874571.43</td>\n",
       "      <td>682857.14</td>\n",
       "      <td>515285.71</td>\n",
       "    </tr>\n",
       "    <tr>\n",
       "      <th>1</th>\n",
       "      <td>137214.29</td>\n",
       "      <td>163000.00</td>\n",
       "      <td>118142.86</td>\n",
       "      <td>90428.57</td>\n",
       "      <td>118071.43</td>\n",
       "      <td>111857.14</td>\n",
       "      <td>115571.43</td>\n",
       "      <td>129642.86</td>\n",
       "      <td>160214.29</td>\n",
       "      <td>168428.57</td>\n",
       "      <td>152571.43</td>\n",
       "      <td>107500.00</td>\n",
       "      <td>110357.14</td>\n",
       "      <td>132571.43</td>\n",
       "      <td>107642.86</td>\n",
       "      <td>131357.14</td>\n",
       "      <td>80142.86</td>\n",
       "      <td>110142.86</td>\n",
       "      <td>100714.29</td>\n",
       "      <td>109571.43</td>\n",
       "      <td>94214.29</td>\n",
       "      <td>108357.14</td>\n",
       "      <td>108857.14</td>\n",
       "      <td>80500.00</td>\n",
       "      <td>78285.71</td>\n",
       "      <td>100785.71</td>\n",
       "      <td>92142.86</td>\n",
       "      <td>63571.43</td>\n",
       "      <td>95000.00</td>\n",
       "      <td>80785.71</td>\n",
       "      <td>85285.71</td>\n",
       "      <td>148285.71</td>\n",
       "      <td>77428.57</td>\n",
       "    </tr>\n",
       "    <tr>\n",
       "      <th>2</th>\n",
       "      <td>260714.29</td>\n",
       "      <td>82857.14</td>\n",
       "      <td>131428.57</td>\n",
       "      <td>142857.14</td>\n",
       "      <td>109714.29</td>\n",
       "      <td>198571.43</td>\n",
       "      <td>160000.00</td>\n",
       "      <td>180714.29</td>\n",
       "      <td>154285.71</td>\n",
       "      <td>43571.43</td>\n",
       "      <td>201428.57</td>\n",
       "      <td>186428.57</td>\n",
       "      <td>120571.43</td>\n",
       "      <td>207142.86</td>\n",
       "      <td>190000.00</td>\n",
       "      <td>232857.14</td>\n",
       "      <td>266714.29</td>\n",
       "      <td>252857.14</td>\n",
       "      <td>238571.43</td>\n",
       "      <td>299714.29</td>\n",
       "      <td>312857.14</td>\n",
       "      <td>189714.29</td>\n",
       "      <td>283571.43</td>\n",
       "      <td>472857.14</td>\n",
       "      <td>354285.71</td>\n",
       "      <td>689285.71</td>\n",
       "      <td>457857.14</td>\n",
       "      <td>480714.29</td>\n",
       "      <td>510000.00</td>\n",
       "      <td>185428.57</td>\n",
       "      <td>340714.29</td>\n",
       "      <td>407857.14</td>\n",
       "      <td>496857.14</td>\n",
       "    </tr>\n",
       "    <tr>\n",
       "      <th>4</th>\n",
       "      <td>733428.57</td>\n",
       "      <td>768928.57</td>\n",
       "      <td>698428.57</td>\n",
       "      <td>936428.57</td>\n",
       "      <td>762714.29</td>\n",
       "      <td>859571.43</td>\n",
       "      <td>1069857.14</td>\n",
       "      <td>689142.86</td>\n",
       "      <td>1050142.86</td>\n",
       "      <td>970285.71</td>\n",
       "      <td>1085171.43</td>\n",
       "      <td>1035857.14</td>\n",
       "      <td>894142.86</td>\n",
       "      <td>1027285.71</td>\n",
       "      <td>1186857.14</td>\n",
       "      <td>972571.43</td>\n",
       "      <td>1060571.43</td>\n",
       "      <td>1189142.86</td>\n",
       "      <td>1010142.86</td>\n",
       "      <td>831571.43</td>\n",
       "      <td>651000.00</td>\n",
       "      <td>908000.00</td>\n",
       "      <td>792214.29</td>\n",
       "      <td>775428.57</td>\n",
       "      <td>881285.71</td>\n",
       "      <td>1050928.57</td>\n",
       "      <td>849285.71</td>\n",
       "      <td>698142.86</td>\n",
       "      <td>828428.57</td>\n",
       "      <td>883000.00</td>\n",
       "      <td>923857.14</td>\n",
       "      <td>944857.14</td>\n",
       "      <td>882285.71</td>\n",
       "    </tr>\n",
       "    <tr>\n",
       "      <th>5</th>\n",
       "      <td>342500.00</td>\n",
       "      <td>432714.29</td>\n",
       "      <td>263500.00</td>\n",
       "      <td>232142.86</td>\n",
       "      <td>211571.43</td>\n",
       "      <td>182085.71</td>\n",
       "      <td>147571.43</td>\n",
       "      <td>120957.14</td>\n",
       "      <td>186428.57</td>\n",
       "      <td>169000.00</td>\n",
       "      <td>312857.14</td>\n",
       "      <td>235342.86</td>\n",
       "      <td>475857.14</td>\n",
       "      <td>410914.29</td>\n",
       "      <td>297714.29</td>\n",
       "      <td>291428.57</td>\n",
       "      <td>396157.14</td>\n",
       "      <td>399285.71</td>\n",
       "      <td>441557.14</td>\n",
       "      <td>388428.57</td>\n",
       "      <td>316785.71</td>\n",
       "      <td>370142.86</td>\n",
       "      <td>297857.14</td>\n",
       "      <td>443857.14</td>\n",
       "      <td>563714.29</td>\n",
       "      <td>607071.43</td>\n",
       "      <td>482885.71</td>\n",
       "      <td>195000.00</td>\n",
       "      <td>324928.57</td>\n",
       "      <td>383300.00</td>\n",
       "      <td>399571.43</td>\n",
       "      <td>323000.00</td>\n",
       "      <td>215514.29</td>\n",
       "    </tr>\n",
       "    <tr>\n",
       "      <th>...</th>\n",
       "      <td>...</td>\n",
       "      <td>...</td>\n",
       "      <td>...</td>\n",
       "      <td>...</td>\n",
       "      <td>...</td>\n",
       "      <td>...</td>\n",
       "      <td>...</td>\n",
       "      <td>...</td>\n",
       "      <td>...</td>\n",
       "      <td>...</td>\n",
       "      <td>...</td>\n",
       "      <td>...</td>\n",
       "      <td>...</td>\n",
       "      <td>...</td>\n",
       "      <td>...</td>\n",
       "      <td>...</td>\n",
       "      <td>...</td>\n",
       "      <td>...</td>\n",
       "      <td>...</td>\n",
       "      <td>...</td>\n",
       "      <td>...</td>\n",
       "      <td>...</td>\n",
       "      <td>...</td>\n",
       "      <td>...</td>\n",
       "      <td>...</td>\n",
       "      <td>...</td>\n",
       "      <td>...</td>\n",
       "      <td>...</td>\n",
       "      <td>...</td>\n",
       "      <td>...</td>\n",
       "      <td>...</td>\n",
       "      <td>...</td>\n",
       "      <td>...</td>\n",
       "    </tr>\n",
       "    <tr>\n",
       "      <th>2132</th>\n",
       "      <td>nan</td>\n",
       "      <td>nan</td>\n",
       "      <td>281142.86</td>\n",
       "      <td>783428.57</td>\n",
       "      <td>822000.00</td>\n",
       "      <td>941142.86</td>\n",
       "      <td>731142.86</td>\n",
       "      <td>684571.43</td>\n",
       "      <td>701000.00</td>\n",
       "      <td>742428.57</td>\n",
       "      <td>624614.29</td>\n",
       "      <td>566857.14</td>\n",
       "      <td>742857.14</td>\n",
       "      <td>865285.71</td>\n",
       "      <td>898428.57</td>\n",
       "      <td>787857.14</td>\n",
       "      <td>531857.14</td>\n",
       "      <td>1095000.00</td>\n",
       "      <td>1014071.43</td>\n",
       "      <td>580785.71</td>\n",
       "      <td>703857.14</td>\n",
       "      <td>909142.86</td>\n",
       "      <td>938428.57</td>\n",
       "      <td>670571.43</td>\n",
       "      <td>757857.14</td>\n",
       "      <td>753428.57</td>\n",
       "      <td>524142.86</td>\n",
       "      <td>637714.29</td>\n",
       "      <td>938571.43</td>\n",
       "      <td>729857.14</td>\n",
       "      <td>474285.71</td>\n",
       "      <td>571142.86</td>\n",
       "      <td>630428.57</td>\n",
       "    </tr>\n",
       "    <tr>\n",
       "      <th>2133</th>\n",
       "      <td>85000.00</td>\n",
       "      <td>367857.14</td>\n",
       "      <td>743571.43</td>\n",
       "      <td>494714.29</td>\n",
       "      <td>178571.43</td>\n",
       "      <td>124285.71</td>\n",
       "      <td>36285.71</td>\n",
       "      <td>31857.14</td>\n",
       "      <td>145114.29</td>\n",
       "      <td>313128.57</td>\n",
       "      <td>300685.71</td>\n",
       "      <td>384057.14</td>\n",
       "      <td>524342.86</td>\n",
       "      <td>425342.86</td>\n",
       "      <td>438257.14</td>\n",
       "      <td>493757.14</td>\n",
       "      <td>421214.29</td>\n",
       "      <td>646628.57</td>\n",
       "      <td>601171.43</td>\n",
       "      <td>433414.29</td>\n",
       "      <td>277342.86</td>\n",
       "      <td>308485.71</td>\n",
       "      <td>484071.43</td>\n",
       "      <td>626071.43</td>\n",
       "      <td>395700.00</td>\n",
       "      <td>421614.29</td>\n",
       "      <td>548942.86</td>\n",
       "      <td>310971.43</td>\n",
       "      <td>192700.00</td>\n",
       "      <td>84714.29</td>\n",
       "      <td>nan</td>\n",
       "      <td>84000.00</td>\n",
       "      <td>116285.71</td>\n",
       "    </tr>\n",
       "    <tr>\n",
       "      <th>2134</th>\n",
       "      <td>nan</td>\n",
       "      <td>nan</td>\n",
       "      <td>nan</td>\n",
       "      <td>nan</td>\n",
       "      <td>nan</td>\n",
       "      <td>393000.00</td>\n",
       "      <td>678214.29</td>\n",
       "      <td>459071.43</td>\n",
       "      <td>463428.57</td>\n",
       "      <td>446285.71</td>\n",
       "      <td>363571.43</td>\n",
       "      <td>580285.71</td>\n",
       "      <td>486857.14</td>\n",
       "      <td>503642.86</td>\n",
       "      <td>467785.71</td>\n",
       "      <td>431642.86</td>\n",
       "      <td>248714.29</td>\n",
       "      <td>355714.29</td>\n",
       "      <td>374142.86</td>\n",
       "      <td>313785.71</td>\n",
       "      <td>171857.14</td>\n",
       "      <td>245571.43</td>\n",
       "      <td>72357.14</td>\n",
       "      <td>216142.86</td>\n",
       "      <td>209785.71</td>\n",
       "      <td>140714.29</td>\n",
       "      <td>nan</td>\n",
       "      <td>nan</td>\n",
       "      <td>84428.57</td>\n",
       "      <td>60785.71</td>\n",
       "      <td>4285.71</td>\n",
       "      <td>209428.57</td>\n",
       "      <td>166000.00</td>\n",
       "    </tr>\n",
       "    <tr>\n",
       "      <th>2135</th>\n",
       "      <td>nan</td>\n",
       "      <td>nan</td>\n",
       "      <td>357428.57</td>\n",
       "      <td>786000.00</td>\n",
       "      <td>760285.71</td>\n",
       "      <td>751428.57</td>\n",
       "      <td>682857.14</td>\n",
       "      <td>544000.00</td>\n",
       "      <td>656000.00</td>\n",
       "      <td>631000.00</td>\n",
       "      <td>698571.43</td>\n",
       "      <td>611714.29</td>\n",
       "      <td>763857.14</td>\n",
       "      <td>675857.14</td>\n",
       "      <td>575714.29</td>\n",
       "      <td>575857.14</td>\n",
       "      <td>473714.29</td>\n",
       "      <td>505285.71</td>\n",
       "      <td>521857.14</td>\n",
       "      <td>563714.29</td>\n",
       "      <td>443928.57</td>\n",
       "      <td>468285.71</td>\n",
       "      <td>445142.86</td>\n",
       "      <td>577571.43</td>\n",
       "      <td>714428.57</td>\n",
       "      <td>438428.57</td>\n",
       "      <td>566142.86</td>\n",
       "      <td>509857.14</td>\n",
       "      <td>850428.57</td>\n",
       "      <td>589428.57</td>\n",
       "      <td>541857.14</td>\n",
       "      <td>462285.71</td>\n",
       "      <td>404285.71</td>\n",
       "    </tr>\n",
       "    <tr>\n",
       "      <th>2136</th>\n",
       "      <td>nan</td>\n",
       "      <td>nan</td>\n",
       "      <td>nan</td>\n",
       "      <td>nan</td>\n",
       "      <td>nan</td>\n",
       "      <td>nan</td>\n",
       "      <td>nan</td>\n",
       "      <td>nan</td>\n",
       "      <td>nan</td>\n",
       "      <td>nan</td>\n",
       "      <td>nan</td>\n",
       "      <td>469214.29</td>\n",
       "      <td>2713814.29</td>\n",
       "      <td>2967357.14</td>\n",
       "      <td>3364357.14</td>\n",
       "      <td>3190642.86</td>\n",
       "      <td>3364285.71</td>\n",
       "      <td>2706714.29</td>\n",
       "      <td>2869571.43</td>\n",
       "      <td>1877857.14</td>\n",
       "      <td>2023642.86</td>\n",
       "      <td>2352071.43</td>\n",
       "      <td>2197428.57</td>\n",
       "      <td>2194428.57</td>\n",
       "      <td>2333000.00</td>\n",
       "      <td>1601785.71</td>\n",
       "      <td>1222300.00</td>\n",
       "      <td>2775714.29</td>\n",
       "      <td>2012214.29</td>\n",
       "      <td>2135428.57</td>\n",
       "      <td>2427428.57</td>\n",
       "      <td>1873642.86</td>\n",
       "      <td>2227428.57</td>\n",
       "    </tr>\n",
       "  </tbody>\n",
       "</table>\n",
       "<p>1967 rows × 33 columns</p>\n",
       "</div>"
      ],
      "text/plain": [
       "std_mth         6          7         8         9         10        11         12        13         14        15         16         17         18         19         20         21         22         23         24         25         26         27         28         29         30         31         32         33         34         35         36         37         38\n",
       "store_id                                                                                                                                                                                                                                                                                                                                                                    \n",
       "0        747000.00 1005000.00 871571.43 897857.14 835428.57 697000.00  761857.14 585642.86  794000.00 720257.14  685285.71  744428.57  682000.00  728285.71  749000.00  840857.14  600571.43  630857.14  812714.29  643142.86  685285.71  848428.57  636142.86  686428.57  707285.71  758714.29  679857.14  651857.14  739000.00  676000.00  874571.43  682857.14  515285.71\n",
       "1        137214.29  163000.00 118142.86  90428.57 118071.43 111857.14  115571.43 129642.86  160214.29 168428.57  152571.43  107500.00  110357.14  132571.43  107642.86  131357.14   80142.86  110142.86  100714.29  109571.43   94214.29  108357.14  108857.14   80500.00   78285.71  100785.71   92142.86   63571.43   95000.00   80785.71   85285.71  148285.71   77428.57\n",
       "2        260714.29   82857.14 131428.57 142857.14 109714.29 198571.43  160000.00 180714.29  154285.71  43571.43  201428.57  186428.57  120571.43  207142.86  190000.00  232857.14  266714.29  252857.14  238571.43  299714.29  312857.14  189714.29  283571.43  472857.14  354285.71  689285.71  457857.14  480714.29  510000.00  185428.57  340714.29  407857.14  496857.14\n",
       "4        733428.57  768928.57 698428.57 936428.57 762714.29 859571.43 1069857.14 689142.86 1050142.86 970285.71 1085171.43 1035857.14  894142.86 1027285.71 1186857.14  972571.43 1060571.43 1189142.86 1010142.86  831571.43  651000.00  908000.00  792214.29  775428.57  881285.71 1050928.57  849285.71  698142.86  828428.57  883000.00  923857.14  944857.14  882285.71\n",
       "5        342500.00  432714.29 263500.00 232142.86 211571.43 182085.71  147571.43 120957.14  186428.57 169000.00  312857.14  235342.86  475857.14  410914.29  297714.29  291428.57  396157.14  399285.71  441557.14  388428.57  316785.71  370142.86  297857.14  443857.14  563714.29  607071.43  482885.71  195000.00  324928.57  383300.00  399571.43  323000.00  215514.29\n",
       "...            ...        ...       ...       ...       ...       ...        ...       ...        ...       ...        ...        ...        ...        ...        ...        ...        ...        ...        ...        ...        ...        ...        ...        ...        ...        ...        ...        ...        ...        ...        ...        ...        ...\n",
       "2132           nan        nan 281142.86 783428.57 822000.00 941142.86  731142.86 684571.43  701000.00 742428.57  624614.29  566857.14  742857.14  865285.71  898428.57  787857.14  531857.14 1095000.00 1014071.43  580785.71  703857.14  909142.86  938428.57  670571.43  757857.14  753428.57  524142.86  637714.29  938571.43  729857.14  474285.71  571142.86  630428.57\n",
       "2133      85000.00  367857.14 743571.43 494714.29 178571.43 124285.71   36285.71  31857.14  145114.29 313128.57  300685.71  384057.14  524342.86  425342.86  438257.14  493757.14  421214.29  646628.57  601171.43  433414.29  277342.86  308485.71  484071.43  626071.43  395700.00  421614.29  548942.86  310971.43  192700.00   84714.29        nan   84000.00  116285.71\n",
       "2134           nan        nan       nan       nan       nan 393000.00  678214.29 459071.43  463428.57 446285.71  363571.43  580285.71  486857.14  503642.86  467785.71  431642.86  248714.29  355714.29  374142.86  313785.71  171857.14  245571.43   72357.14  216142.86  209785.71  140714.29        nan        nan   84428.57   60785.71    4285.71  209428.57  166000.00\n",
       "2135           nan        nan 357428.57 786000.00 760285.71 751428.57  682857.14 544000.00  656000.00 631000.00  698571.43  611714.29  763857.14  675857.14  575714.29  575857.14  473714.29  505285.71  521857.14  563714.29  443928.57  468285.71  445142.86  577571.43  714428.57  438428.57  566142.86  509857.14  850428.57  589428.57  541857.14  462285.71  404285.71\n",
       "2136           nan        nan       nan       nan       nan       nan        nan       nan        nan       nan        nan  469214.29 2713814.29 2967357.14 3364357.14 3190642.86 3364285.71 2706714.29 2869571.43 1877857.14 2023642.86 2352071.43 2197428.57 2194428.57 2333000.00 1601785.71 1222300.00 2775714.29 2012214.29 2135428.57 2427428.57 1873642.86 2227428.57\n",
       "\n",
       "[1967 rows x 33 columns]"
      ]
     },
     "execution_count": 41,
     "metadata": {},
     "output_type": "execute_result"
    }
   ],
   "source": [
    "# pivot_table로 nan값의 분포 형태 확인\n",
    "check_nan_amount = pd.pivot_table(df, values = 'amount', index = 'store_id', columns = 'std_mth', aggfunc = 'sum')\n",
    "check_nan_amount"
   ]
  },
  {
   "cell_type": "markdown",
   "metadata": {},
   "source": [
    "- pivot table을 통해 보았을때, '월' 의 중간 중간 nan값이 발생하는 것으로 보아, 실제 매출은 발생하였으나 누락된 데이터 일 것이라 가정\n",
    "- nan값을 바로 앞, 뒤 standard_t의 매출로 채워 넣는다."
   ]
  },
  {
   "cell_type": "code",
   "execution_count": 42,
   "metadata": {
    "ExecuteTime": {
     "end_time": "2021-07-09T07:27:07.225825Z",
     "start_time": "2021-07-09T07:27:07.198897Z"
    }
   },
   "outputs": [
    {
     "data": {
      "text/html": [
       "<div>\n",
       "<style scoped>\n",
       "    .dataframe tbody tr th:only-of-type {\n",
       "        vertical-align: middle;\n",
       "    }\n",
       "\n",
       "    .dataframe tbody tr th {\n",
       "        vertical-align: top;\n",
       "    }\n",
       "\n",
       "    .dataframe thead th {\n",
       "        text-align: right;\n",
       "    }\n",
       "</style>\n",
       "<table border=\"1\" class=\"dataframe\">\n",
       "  <thead>\n",
       "    <tr style=\"text-align: right;\">\n",
       "      <th>std_mth</th>\n",
       "      <th>6</th>\n",
       "      <th>7</th>\n",
       "      <th>8</th>\n",
       "      <th>9</th>\n",
       "      <th>10</th>\n",
       "      <th>11</th>\n",
       "      <th>12</th>\n",
       "      <th>13</th>\n",
       "      <th>14</th>\n",
       "      <th>15</th>\n",
       "      <th>16</th>\n",
       "      <th>17</th>\n",
       "      <th>18</th>\n",
       "      <th>19</th>\n",
       "      <th>20</th>\n",
       "      <th>21</th>\n",
       "      <th>22</th>\n",
       "      <th>23</th>\n",
       "      <th>24</th>\n",
       "      <th>25</th>\n",
       "      <th>26</th>\n",
       "      <th>27</th>\n",
       "      <th>28</th>\n",
       "      <th>29</th>\n",
       "      <th>30</th>\n",
       "      <th>31</th>\n",
       "      <th>32</th>\n",
       "      <th>33</th>\n",
       "      <th>34</th>\n",
       "      <th>35</th>\n",
       "      <th>36</th>\n",
       "      <th>37</th>\n",
       "      <th>38</th>\n",
       "    </tr>\n",
       "    <tr>\n",
       "      <th>store_id</th>\n",
       "      <th></th>\n",
       "      <th></th>\n",
       "      <th></th>\n",
       "      <th></th>\n",
       "      <th></th>\n",
       "      <th></th>\n",
       "      <th></th>\n",
       "      <th></th>\n",
       "      <th></th>\n",
       "      <th></th>\n",
       "      <th></th>\n",
       "      <th></th>\n",
       "      <th></th>\n",
       "      <th></th>\n",
       "      <th></th>\n",
       "      <th></th>\n",
       "      <th></th>\n",
       "      <th></th>\n",
       "      <th></th>\n",
       "      <th></th>\n",
       "      <th></th>\n",
       "      <th></th>\n",
       "      <th></th>\n",
       "      <th></th>\n",
       "      <th></th>\n",
       "      <th></th>\n",
       "      <th></th>\n",
       "      <th></th>\n",
       "      <th></th>\n",
       "      <th></th>\n",
       "      <th></th>\n",
       "      <th></th>\n",
       "      <th></th>\n",
       "    </tr>\n",
       "  </thead>\n",
       "  <tbody>\n",
       "    <tr>\n",
       "      <th>0</th>\n",
       "      <td>747000.00</td>\n",
       "      <td>1005000.00</td>\n",
       "      <td>871571.43</td>\n",
       "      <td>897857.14</td>\n",
       "      <td>835428.57</td>\n",
       "      <td>697000.00</td>\n",
       "      <td>761857.14</td>\n",
       "      <td>585642.86</td>\n",
       "      <td>794000.00</td>\n",
       "      <td>720257.14</td>\n",
       "      <td>685285.71</td>\n",
       "      <td>744428.57</td>\n",
       "      <td>682000.00</td>\n",
       "      <td>728285.71</td>\n",
       "      <td>749000.00</td>\n",
       "      <td>840857.14</td>\n",
       "      <td>600571.43</td>\n",
       "      <td>630857.14</td>\n",
       "      <td>812714.29</td>\n",
       "      <td>643142.86</td>\n",
       "      <td>685285.71</td>\n",
       "      <td>848428.57</td>\n",
       "      <td>636142.86</td>\n",
       "      <td>686428.57</td>\n",
       "      <td>707285.71</td>\n",
       "      <td>758714.29</td>\n",
       "      <td>679857.14</td>\n",
       "      <td>651857.14</td>\n",
       "      <td>739000.00</td>\n",
       "      <td>676000.00</td>\n",
       "      <td>874571.43</td>\n",
       "      <td>682857.14</td>\n",
       "      <td>515285.71</td>\n",
       "    </tr>\n",
       "    <tr>\n",
       "      <th>1</th>\n",
       "      <td>137214.29</td>\n",
       "      <td>163000.00</td>\n",
       "      <td>118142.86</td>\n",
       "      <td>90428.57</td>\n",
       "      <td>118071.43</td>\n",
       "      <td>111857.14</td>\n",
       "      <td>115571.43</td>\n",
       "      <td>129642.86</td>\n",
       "      <td>160214.29</td>\n",
       "      <td>168428.57</td>\n",
       "      <td>152571.43</td>\n",
       "      <td>107500.00</td>\n",
       "      <td>110357.14</td>\n",
       "      <td>132571.43</td>\n",
       "      <td>107642.86</td>\n",
       "      <td>131357.14</td>\n",
       "      <td>80142.86</td>\n",
       "      <td>110142.86</td>\n",
       "      <td>100714.29</td>\n",
       "      <td>109571.43</td>\n",
       "      <td>94214.29</td>\n",
       "      <td>108357.14</td>\n",
       "      <td>108857.14</td>\n",
       "      <td>80500.00</td>\n",
       "      <td>78285.71</td>\n",
       "      <td>100785.71</td>\n",
       "      <td>92142.86</td>\n",
       "      <td>63571.43</td>\n",
       "      <td>95000.00</td>\n",
       "      <td>80785.71</td>\n",
       "      <td>85285.71</td>\n",
       "      <td>148285.71</td>\n",
       "      <td>77428.57</td>\n",
       "    </tr>\n",
       "    <tr>\n",
       "      <th>2</th>\n",
       "      <td>260714.29</td>\n",
       "      <td>82857.14</td>\n",
       "      <td>131428.57</td>\n",
       "      <td>142857.14</td>\n",
       "      <td>109714.29</td>\n",
       "      <td>198571.43</td>\n",
       "      <td>160000.00</td>\n",
       "      <td>180714.29</td>\n",
       "      <td>154285.71</td>\n",
       "      <td>43571.43</td>\n",
       "      <td>201428.57</td>\n",
       "      <td>186428.57</td>\n",
       "      <td>120571.43</td>\n",
       "      <td>207142.86</td>\n",
       "      <td>190000.00</td>\n",
       "      <td>232857.14</td>\n",
       "      <td>266714.29</td>\n",
       "      <td>252857.14</td>\n",
       "      <td>238571.43</td>\n",
       "      <td>299714.29</td>\n",
       "      <td>312857.14</td>\n",
       "      <td>189714.29</td>\n",
       "      <td>283571.43</td>\n",
       "      <td>472857.14</td>\n",
       "      <td>354285.71</td>\n",
       "      <td>689285.71</td>\n",
       "      <td>457857.14</td>\n",
       "      <td>480714.29</td>\n",
       "      <td>510000.00</td>\n",
       "      <td>185428.57</td>\n",
       "      <td>340714.29</td>\n",
       "      <td>407857.14</td>\n",
       "      <td>496857.14</td>\n",
       "    </tr>\n",
       "    <tr>\n",
       "      <th>4</th>\n",
       "      <td>733428.57</td>\n",
       "      <td>768928.57</td>\n",
       "      <td>698428.57</td>\n",
       "      <td>936428.57</td>\n",
       "      <td>762714.29</td>\n",
       "      <td>859571.43</td>\n",
       "      <td>1069857.14</td>\n",
       "      <td>689142.86</td>\n",
       "      <td>1050142.86</td>\n",
       "      <td>970285.71</td>\n",
       "      <td>1085171.43</td>\n",
       "      <td>1035857.14</td>\n",
       "      <td>894142.86</td>\n",
       "      <td>1027285.71</td>\n",
       "      <td>1186857.14</td>\n",
       "      <td>972571.43</td>\n",
       "      <td>1060571.43</td>\n",
       "      <td>1189142.86</td>\n",
       "      <td>1010142.86</td>\n",
       "      <td>831571.43</td>\n",
       "      <td>651000.00</td>\n",
       "      <td>908000.00</td>\n",
       "      <td>792214.29</td>\n",
       "      <td>775428.57</td>\n",
       "      <td>881285.71</td>\n",
       "      <td>1050928.57</td>\n",
       "      <td>849285.71</td>\n",
       "      <td>698142.86</td>\n",
       "      <td>828428.57</td>\n",
       "      <td>883000.00</td>\n",
       "      <td>923857.14</td>\n",
       "      <td>944857.14</td>\n",
       "      <td>882285.71</td>\n",
       "    </tr>\n",
       "    <tr>\n",
       "      <th>5</th>\n",
       "      <td>342500.00</td>\n",
       "      <td>432714.29</td>\n",
       "      <td>263500.00</td>\n",
       "      <td>232142.86</td>\n",
       "      <td>211571.43</td>\n",
       "      <td>182085.71</td>\n",
       "      <td>147571.43</td>\n",
       "      <td>120957.14</td>\n",
       "      <td>186428.57</td>\n",
       "      <td>169000.00</td>\n",
       "      <td>312857.14</td>\n",
       "      <td>235342.86</td>\n",
       "      <td>475857.14</td>\n",
       "      <td>410914.29</td>\n",
       "      <td>297714.29</td>\n",
       "      <td>291428.57</td>\n",
       "      <td>396157.14</td>\n",
       "      <td>399285.71</td>\n",
       "      <td>441557.14</td>\n",
       "      <td>388428.57</td>\n",
       "      <td>316785.71</td>\n",
       "      <td>370142.86</td>\n",
       "      <td>297857.14</td>\n",
       "      <td>443857.14</td>\n",
       "      <td>563714.29</td>\n",
       "      <td>607071.43</td>\n",
       "      <td>482885.71</td>\n",
       "      <td>195000.00</td>\n",
       "      <td>324928.57</td>\n",
       "      <td>383300.00</td>\n",
       "      <td>399571.43</td>\n",
       "      <td>323000.00</td>\n",
       "      <td>215514.29</td>\n",
       "    </tr>\n",
       "    <tr>\n",
       "      <th>6</th>\n",
       "      <td>568857.14</td>\n",
       "      <td>568857.14</td>\n",
       "      <td>568857.14</td>\n",
       "      <td>1440142.86</td>\n",
       "      <td>1238857.14</td>\n",
       "      <td>1055428.57</td>\n",
       "      <td>926857.14</td>\n",
       "      <td>885642.86</td>\n",
       "      <td>800357.14</td>\n",
       "      <td>930714.29</td>\n",
       "      <td>855071.43</td>\n",
       "      <td>1029785.71</td>\n",
       "      <td>1071571.43</td>\n",
       "      <td>1037214.29</td>\n",
       "      <td>1054857.14</td>\n",
       "      <td>937857.14</td>\n",
       "      <td>1216285.71</td>\n",
       "      <td>1833571.43</td>\n",
       "      <td>2429500.00</td>\n",
       "      <td>2147714.29</td>\n",
       "      <td>2113357.14</td>\n",
       "      <td>2348714.29</td>\n",
       "      <td>1876857.14</td>\n",
       "      <td>1808357.14</td>\n",
       "      <td>1752285.71</td>\n",
       "      <td>1583785.71</td>\n",
       "      <td>1628785.71</td>\n",
       "      <td>2074071.43</td>\n",
       "      <td>1907642.86</td>\n",
       "      <td>2389142.86</td>\n",
       "      <td>2230285.71</td>\n",
       "      <td>2015500.00</td>\n",
       "      <td>2463857.14</td>\n",
       "    </tr>\n",
       "    <tr>\n",
       "      <th>7</th>\n",
       "      <td>107857.14</td>\n",
       "      <td>107857.14</td>\n",
       "      <td>107857.14</td>\n",
       "      <td>375642.86</td>\n",
       "      <td>323642.86</td>\n",
       "      <td>345000.00</td>\n",
       "      <td>291428.57</td>\n",
       "      <td>231614.29</td>\n",
       "      <td>271357.14</td>\n",
       "      <td>249857.14</td>\n",
       "      <td>131500.00</td>\n",
       "      <td>118642.86</td>\n",
       "      <td>53285.71</td>\n",
       "      <td>372285.71</td>\n",
       "      <td>183000.00</td>\n",
       "      <td>527857.14</td>\n",
       "      <td>218214.29</td>\n",
       "      <td>817714.29</td>\n",
       "      <td>750645.71</td>\n",
       "      <td>761571.43</td>\n",
       "      <td>636571.43</td>\n",
       "      <td>339857.14</td>\n",
       "      <td>1039357.14</td>\n",
       "      <td>265714.29</td>\n",
       "      <td>419542.86</td>\n",
       "      <td>462842.86</td>\n",
       "      <td>423128.57</td>\n",
       "      <td>320328.57</td>\n",
       "      <td>420028.57</td>\n",
       "      <td>314385.71</td>\n",
       "      <td>302414.29</td>\n",
       "      <td>136471.43</td>\n",
       "      <td>57971.43</td>\n",
       "    </tr>\n",
       "    <tr>\n",
       "      <th>8</th>\n",
       "      <td>192571.43</td>\n",
       "      <td>192571.43</td>\n",
       "      <td>192571.43</td>\n",
       "      <td>192571.43</td>\n",
       "      <td>192571.43</td>\n",
       "      <td>192571.43</td>\n",
       "      <td>735500.00</td>\n",
       "      <td>467857.14</td>\n",
       "      <td>475642.86</td>\n",
       "      <td>603500.00</td>\n",
       "      <td>1074642.86</td>\n",
       "      <td>1144571.43</td>\n",
       "      <td>1030928.57</td>\n",
       "      <td>1375571.43</td>\n",
       "      <td>1078928.57</td>\n",
       "      <td>984500.00</td>\n",
       "      <td>896785.71</td>\n",
       "      <td>514500.00</td>\n",
       "      <td>552214.29</td>\n",
       "      <td>618785.71</td>\n",
       "      <td>461714.29</td>\n",
       "      <td>744500.00</td>\n",
       "      <td>867071.43</td>\n",
       "      <td>1837428.57</td>\n",
       "      <td>1359857.14</td>\n",
       "      <td>1213542.86</td>\n",
       "      <td>1086000.00</td>\n",
       "      <td>1369557.14</td>\n",
       "      <td>1272071.43</td>\n",
       "      <td>1260557.14</td>\n",
       "      <td>1157257.14</td>\n",
       "      <td>1134671.43</td>\n",
       "      <td>1298328.57</td>\n",
       "    </tr>\n",
       "    <tr>\n",
       "      <th>9</th>\n",
       "      <td>107142.86</td>\n",
       "      <td>107142.86</td>\n",
       "      <td>107142.86</td>\n",
       "      <td>107142.86</td>\n",
       "      <td>107142.86</td>\n",
       "      <td>637142.86</td>\n",
       "      <td>603571.43</td>\n",
       "      <td>225428.57</td>\n",
       "      <td>287142.86</td>\n",
       "      <td>344428.57</td>\n",
       "      <td>352857.14</td>\n",
       "      <td>208571.43</td>\n",
       "      <td>178571.43</td>\n",
       "      <td>761714.29</td>\n",
       "      <td>535000.00</td>\n",
       "      <td>715714.29</td>\n",
       "      <td>672142.86</td>\n",
       "      <td>634285.71</td>\n",
       "      <td>333714.29</td>\n",
       "      <td>295428.57</td>\n",
       "      <td>628285.71</td>\n",
       "      <td>318571.43</td>\n",
       "      <td>1016857.14</td>\n",
       "      <td>638571.43</td>\n",
       "      <td>276571.43</td>\n",
       "      <td>340000.00</td>\n",
       "      <td>254285.71</td>\n",
       "      <td>926571.43</td>\n",
       "      <td>871428.57</td>\n",
       "      <td>692857.14</td>\n",
       "      <td>662857.14</td>\n",
       "      <td>370000.00</td>\n",
       "      <td>405714.29</td>\n",
       "    </tr>\n",
       "    <tr>\n",
       "      <th>10</th>\n",
       "      <td>496714.29</td>\n",
       "      <td>496714.29</td>\n",
       "      <td>496714.29</td>\n",
       "      <td>496714.29</td>\n",
       "      <td>496714.29</td>\n",
       "      <td>496714.29</td>\n",
       "      <td>496714.29</td>\n",
       "      <td>496714.29</td>\n",
       "      <td>496714.29</td>\n",
       "      <td>496714.29</td>\n",
       "      <td>496714.29</td>\n",
       "      <td>492571.43</td>\n",
       "      <td>341857.14</td>\n",
       "      <td>442428.57</td>\n",
       "      <td>438714.29</td>\n",
       "      <td>438571.43</td>\n",
       "      <td>470428.57</td>\n",
       "      <td>144428.57</td>\n",
       "      <td>444714.29</td>\n",
       "      <td>466714.29</td>\n",
       "      <td>722857.14</td>\n",
       "      <td>338571.43</td>\n",
       "      <td>475000.00</td>\n",
       "      <td>290285.71</td>\n",
       "      <td>607857.14</td>\n",
       "      <td>444571.43</td>\n",
       "      <td>641428.57</td>\n",
       "      <td>795571.43</td>\n",
       "      <td>499285.71</td>\n",
       "      <td>590142.86</td>\n",
       "      <td>518428.57</td>\n",
       "      <td>525142.86</td>\n",
       "      <td>654857.14</td>\n",
       "    </tr>\n",
       "  </tbody>\n",
       "</table>\n",
       "</div>"
      ],
      "text/plain": [
       "std_mth         6          7         8          9          10         11         12        13         14        15         16         17         18         19         20        21         22         23         24         25         26         27         28         29         30         31         32         33         34         35         36         37         38\n",
       "store_id                                                                                                                                                                                                                                                                                                                                                                      \n",
       "0        747000.00 1005000.00 871571.43  897857.14  835428.57  697000.00  761857.14 585642.86  794000.00 720257.14  685285.71  744428.57  682000.00  728285.71  749000.00 840857.14  600571.43  630857.14  812714.29  643142.86  685285.71  848428.57  636142.86  686428.57  707285.71  758714.29  679857.14  651857.14  739000.00  676000.00  874571.43  682857.14  515285.71\n",
       "1        137214.29  163000.00 118142.86   90428.57  118071.43  111857.14  115571.43 129642.86  160214.29 168428.57  152571.43  107500.00  110357.14  132571.43  107642.86 131357.14   80142.86  110142.86  100714.29  109571.43   94214.29  108357.14  108857.14   80500.00   78285.71  100785.71   92142.86   63571.43   95000.00   80785.71   85285.71  148285.71   77428.57\n",
       "2        260714.29   82857.14 131428.57  142857.14  109714.29  198571.43  160000.00 180714.29  154285.71  43571.43  201428.57  186428.57  120571.43  207142.86  190000.00 232857.14  266714.29  252857.14  238571.43  299714.29  312857.14  189714.29  283571.43  472857.14  354285.71  689285.71  457857.14  480714.29  510000.00  185428.57  340714.29  407857.14  496857.14\n",
       "4        733428.57  768928.57 698428.57  936428.57  762714.29  859571.43 1069857.14 689142.86 1050142.86 970285.71 1085171.43 1035857.14  894142.86 1027285.71 1186857.14 972571.43 1060571.43 1189142.86 1010142.86  831571.43  651000.00  908000.00  792214.29  775428.57  881285.71 1050928.57  849285.71  698142.86  828428.57  883000.00  923857.14  944857.14  882285.71\n",
       "5        342500.00  432714.29 263500.00  232142.86  211571.43  182085.71  147571.43 120957.14  186428.57 169000.00  312857.14  235342.86  475857.14  410914.29  297714.29 291428.57  396157.14  399285.71  441557.14  388428.57  316785.71  370142.86  297857.14  443857.14  563714.29  607071.43  482885.71  195000.00  324928.57  383300.00  399571.43  323000.00  215514.29\n",
       "6        568857.14  568857.14 568857.14 1440142.86 1238857.14 1055428.57  926857.14 885642.86  800357.14 930714.29  855071.43 1029785.71 1071571.43 1037214.29 1054857.14 937857.14 1216285.71 1833571.43 2429500.00 2147714.29 2113357.14 2348714.29 1876857.14 1808357.14 1752285.71 1583785.71 1628785.71 2074071.43 1907642.86 2389142.86 2230285.71 2015500.00 2463857.14\n",
       "7        107857.14  107857.14 107857.14  375642.86  323642.86  345000.00  291428.57 231614.29  271357.14 249857.14  131500.00  118642.86   53285.71  372285.71  183000.00 527857.14  218214.29  817714.29  750645.71  761571.43  636571.43  339857.14 1039357.14  265714.29  419542.86  462842.86  423128.57  320328.57  420028.57  314385.71  302414.29  136471.43   57971.43\n",
       "8        192571.43  192571.43 192571.43  192571.43  192571.43  192571.43  735500.00 467857.14  475642.86 603500.00 1074642.86 1144571.43 1030928.57 1375571.43 1078928.57 984500.00  896785.71  514500.00  552214.29  618785.71  461714.29  744500.00  867071.43 1837428.57 1359857.14 1213542.86 1086000.00 1369557.14 1272071.43 1260557.14 1157257.14 1134671.43 1298328.57\n",
       "9        107142.86  107142.86 107142.86  107142.86  107142.86  637142.86  603571.43 225428.57  287142.86 344428.57  352857.14  208571.43  178571.43  761714.29  535000.00 715714.29  672142.86  634285.71  333714.29  295428.57  628285.71  318571.43 1016857.14  638571.43  276571.43  340000.00  254285.71  926571.43  871428.57  692857.14  662857.14  370000.00  405714.29\n",
       "10       496714.29  496714.29 496714.29  496714.29  496714.29  496714.29  496714.29 496714.29  496714.29 496714.29  496714.29  492571.43  341857.14  442428.57  438714.29 438571.43  470428.57  144428.57  444714.29  466714.29  722857.14  338571.43  475000.00  290285.71  607857.14  444571.43  641428.57  795571.43  499285.71  590142.86  518428.57  525142.86  654857.14"
      ]
     },
     "execution_count": 42,
     "metadata": {},
     "output_type": "execute_result"
    }
   ],
   "source": [
    "# 발생한 nan값을 바로 앞/뒤의 값으로 채워넣는다.\n",
    "# method = 'ffill', axis = 1 #전\n",
    "# method = 'bfill', axis = 1 #후\n",
    "\n",
    "total_amt_per_mth_and_store = check_nan_amount.fillna(method = 'ffill', axis = 1).fillna(method = 'bfill', axis = 1)\n",
    "total_amt_per_mth_and_store.head(10)"
   ]
  },
  {
   "cell_type": "markdown",
   "metadata": {},
   "source": [
    "- train_df와 병합을 위해 pivot_table 형태인 total_amt_per_mth_and_store 테이블을 stack() 함수를 사용해 동일한 형태의 DataFrame으로 변경\n",
    "\n",
    "- stack() : column 과 row를 바꾸는 함수\n",
    "- 위의 pivot_table 기준으로보면 store_id, std_mth, amount가 column이 되고, 기존 columns 별로 입력되있던 값이 row가 된다."
   ]
  },
  {
   "cell_type": "code",
   "execution_count": 43,
   "metadata": {
    "ExecuteTime": {
     "end_time": "2021-07-09T07:27:07.241810Z",
     "start_time": "2021-07-09T07:27:07.227819Z"
    }
   },
   "outputs": [],
   "source": [
    "total_amt_per_mth_and_store = total_amt_per_mth_and_store.stack().reset_index() # index 번호 새로 부여"
   ]
  },
  {
   "cell_type": "code",
   "execution_count": 44,
   "metadata": {
    "ExecuteTime": {
     "end_time": "2021-07-09T07:27:07.256740Z",
     "start_time": "2021-07-09T07:27:07.243776Z"
    }
   },
   "outputs": [
    {
     "data": {
      "text/html": [
       "<div>\n",
       "<style scoped>\n",
       "    .dataframe tbody tr th:only-of-type {\n",
       "        vertical-align: middle;\n",
       "    }\n",
       "\n",
       "    .dataframe tbody tr th {\n",
       "        vertical-align: top;\n",
       "    }\n",
       "\n",
       "    .dataframe thead th {\n",
       "        text-align: right;\n",
       "    }\n",
       "</style>\n",
       "<table border=\"1\" class=\"dataframe\">\n",
       "  <thead>\n",
       "    <tr style=\"text-align: right;\">\n",
       "      <th></th>\n",
       "      <th>store_id</th>\n",
       "      <th>std_mth</th>\n",
       "      <th>0</th>\n",
       "    </tr>\n",
       "  </thead>\n",
       "  <tbody>\n",
       "    <tr>\n",
       "      <th>0</th>\n",
       "      <td>0</td>\n",
       "      <td>6</td>\n",
       "      <td>747000.00</td>\n",
       "    </tr>\n",
       "    <tr>\n",
       "      <th>1</th>\n",
       "      <td>0</td>\n",
       "      <td>7</td>\n",
       "      <td>1005000.00</td>\n",
       "    </tr>\n",
       "    <tr>\n",
       "      <th>2</th>\n",
       "      <td>0</td>\n",
       "      <td>8</td>\n",
       "      <td>871571.43</td>\n",
       "    </tr>\n",
       "    <tr>\n",
       "      <th>3</th>\n",
       "      <td>0</td>\n",
       "      <td>9</td>\n",
       "      <td>897857.14</td>\n",
       "    </tr>\n",
       "    <tr>\n",
       "      <th>4</th>\n",
       "      <td>0</td>\n",
       "      <td>10</td>\n",
       "      <td>835428.57</td>\n",
       "    </tr>\n",
       "    <tr>\n",
       "      <th>...</th>\n",
       "      <td>...</td>\n",
       "      <td>...</td>\n",
       "      <td>...</td>\n",
       "    </tr>\n",
       "    <tr>\n",
       "      <th>64906</th>\n",
       "      <td>2136</td>\n",
       "      <td>34</td>\n",
       "      <td>2012214.29</td>\n",
       "    </tr>\n",
       "    <tr>\n",
       "      <th>64907</th>\n",
       "      <td>2136</td>\n",
       "      <td>35</td>\n",
       "      <td>2135428.57</td>\n",
       "    </tr>\n",
       "    <tr>\n",
       "      <th>64908</th>\n",
       "      <td>2136</td>\n",
       "      <td>36</td>\n",
       "      <td>2427428.57</td>\n",
       "    </tr>\n",
       "    <tr>\n",
       "      <th>64909</th>\n",
       "      <td>2136</td>\n",
       "      <td>37</td>\n",
       "      <td>1873642.86</td>\n",
       "    </tr>\n",
       "    <tr>\n",
       "      <th>64910</th>\n",
       "      <td>2136</td>\n",
       "      <td>38</td>\n",
       "      <td>2227428.57</td>\n",
       "    </tr>\n",
       "  </tbody>\n",
       "</table>\n",
       "<p>64911 rows × 3 columns</p>\n",
       "</div>"
      ],
      "text/plain": [
       "       store_id  std_mth          0\n",
       "0             0        6  747000.00\n",
       "1             0        7 1005000.00\n",
       "2             0        8  871571.43\n",
       "3             0        9  897857.14\n",
       "4             0       10  835428.57\n",
       "...         ...      ...        ...\n",
       "64906      2136       34 2012214.29\n",
       "64907      2136       35 2135428.57\n",
       "64908      2136       36 2427428.57\n",
       "64909      2136       37 1873642.86\n",
       "64910      2136       38 2227428.57\n",
       "\n",
       "[64911 rows x 3 columns]"
      ]
     },
     "execution_count": 44,
     "metadata": {},
     "output_type": "execute_result"
    }
   ],
   "source": [
    "total_amt_per_mth_and_store"
   ]
  },
  {
   "cell_type": "code",
   "execution_count": 45,
   "metadata": {
    "ExecuteTime": {
     "end_time": "2021-07-09T07:27:07.271702Z",
     "start_time": "2021-07-09T07:27:07.258736Z"
    }
   },
   "outputs": [
    {
     "data": {
      "text/html": [
       "<div>\n",
       "<style scoped>\n",
       "    .dataframe tbody tr th:only-of-type {\n",
       "        vertical-align: middle;\n",
       "    }\n",
       "\n",
       "    .dataframe tbody tr th {\n",
       "        vertical-align: top;\n",
       "    }\n",
       "\n",
       "    .dataframe thead th {\n",
       "        text-align: right;\n",
       "    }\n",
       "</style>\n",
       "<table border=\"1\" class=\"dataframe\">\n",
       "  <thead>\n",
       "    <tr style=\"text-align: right;\">\n",
       "      <th></th>\n",
       "      <th>store_id</th>\n",
       "      <th>std_mth</th>\n",
       "      <th>amount</th>\n",
       "    </tr>\n",
       "  </thead>\n",
       "  <tbody>\n",
       "    <tr>\n",
       "      <th>0</th>\n",
       "      <td>0</td>\n",
       "      <td>6</td>\n",
       "      <td>747000.00</td>\n",
       "    </tr>\n",
       "    <tr>\n",
       "      <th>1</th>\n",
       "      <td>0</td>\n",
       "      <td>7</td>\n",
       "      <td>1005000.00</td>\n",
       "    </tr>\n",
       "    <tr>\n",
       "      <th>2</th>\n",
       "      <td>0</td>\n",
       "      <td>8</td>\n",
       "      <td>871571.43</td>\n",
       "    </tr>\n",
       "  </tbody>\n",
       "</table>\n",
       "</div>"
      ],
      "text/plain": [
       "   store_id  std_mth     amount\n",
       "0         0        6  747000.00\n",
       "1         0        7 1005000.00\n",
       "2         0        8  871571.43"
      ]
     },
     "execution_count": 45,
     "metadata": {},
     "output_type": "execute_result"
    }
   ],
   "source": [
    "# amount로 컬럼명 변경\n",
    "total_amt_per_mth_and_store.rename({0:\"amount\"}, axis = 1, inplace = True)\n",
    "total_amt_per_mth_and_store.head(3)"
   ]
  },
  {
   "cell_type": "markdown",
   "metadata": {},
   "source": [
    "##### 매장별 월 매출 + train_df"
   ]
  },
  {
   "cell_type": "code",
   "execution_count": 46,
   "metadata": {
    "ExecuteTime": {
     "end_time": "2021-07-09T07:27:07.424293Z",
     "start_time": "2021-07-09T07:27:07.275691Z"
    },
    "scrolled": true
   },
   "outputs": [
    {
     "data": {
      "text/html": [
       "<div>\n",
       "<style scoped>\n",
       "    .dataframe tbody tr th:only-of-type {\n",
       "        vertical-align: middle;\n",
       "    }\n",
       "\n",
       "    .dataframe tbody tr th {\n",
       "        vertical-align: top;\n",
       "    }\n",
       "\n",
       "    .dataframe thead th {\n",
       "        text-align: right;\n",
       "    }\n",
       "</style>\n",
       "<table border=\"1\" class=\"dataframe\">\n",
       "  <thead>\n",
       "    <tr style=\"text-align: right;\">\n",
       "      <th></th>\n",
       "      <th>store_id</th>\n",
       "      <th>region</th>\n",
       "      <th>type_of_business</th>\n",
       "      <th>std_mth</th>\n",
       "      <th>평균할부율</th>\n",
       "      <th>1_before_amount</th>\n",
       "      <th>2_before_amount</th>\n",
       "      <th>3_before_amount</th>\n",
       "    </tr>\n",
       "  </thead>\n",
       "  <tbody>\n",
       "    <tr>\n",
       "      <th>0</th>\n",
       "      <td>0</td>\n",
       "      <td>미분류</td>\n",
       "      <td>기타 미용업</td>\n",
       "      <td>9</td>\n",
       "      <td>0.04</td>\n",
       "      <td>871571.43</td>\n",
       "      <td>1005000.00</td>\n",
       "      <td>747000.00</td>\n",
       "    </tr>\n",
       "    <tr>\n",
       "      <th>1</th>\n",
       "      <td>0</td>\n",
       "      <td>미분류</td>\n",
       "      <td>기타 미용업</td>\n",
       "      <td>10</td>\n",
       "      <td>0.04</td>\n",
       "      <td>897857.14</td>\n",
       "      <td>871571.43</td>\n",
       "      <td>1005000.00</td>\n",
       "    </tr>\n",
       "    <tr>\n",
       "      <th>2</th>\n",
       "      <td>0</td>\n",
       "      <td>미분류</td>\n",
       "      <td>기타 미용업</td>\n",
       "      <td>11</td>\n",
       "      <td>0.04</td>\n",
       "      <td>835428.57</td>\n",
       "      <td>897857.14</td>\n",
       "      <td>871571.43</td>\n",
       "    </tr>\n",
       "    <tr>\n",
       "      <th>3</th>\n",
       "      <td>0</td>\n",
       "      <td>미분류</td>\n",
       "      <td>기타 미용업</td>\n",
       "      <td>12</td>\n",
       "      <td>0.04</td>\n",
       "      <td>697000.00</td>\n",
       "      <td>835428.57</td>\n",
       "      <td>897857.14</td>\n",
       "    </tr>\n",
       "    <tr>\n",
       "      <th>4</th>\n",
       "      <td>0</td>\n",
       "      <td>미분류</td>\n",
       "      <td>기타 미용업</td>\n",
       "      <td>13</td>\n",
       "      <td>0.04</td>\n",
       "      <td>761857.14</td>\n",
       "      <td>697000.00</td>\n",
       "      <td>835428.57</td>\n",
       "    </tr>\n",
       "  </tbody>\n",
       "</table>\n",
       "</div>"
      ],
      "text/plain": [
       "   store_id region type_of_business  std_mth  평균할부율  1_before_amount  2_before_amount  3_before_amount\n",
       "0         0    미분류           기타 미용업        9   0.04        871571.43       1005000.00        747000.00\n",
       "1         0    미분류           기타 미용업       10   0.04        897857.14        871571.43       1005000.00\n",
       "2         0    미분류           기타 미용업       11   0.04        835428.57        897857.14        871571.43\n",
       "3         0    미분류           기타 미용업       12   0.04        697000.00        835428.57        897857.14\n",
       "4         0    미분류           기타 미용업       13   0.04        761857.14        697000.00        835428.57"
      ]
     },
     "execution_count": 46,
     "metadata": {},
     "output_type": "execute_result"
    }
   ],
   "source": [
    "# std_mth + i (i = 1, 2, 3) 시점의 부착\n",
    "# train_df의 std_mth는 total_amt_per_mth_and_store의 std_mth-i와 부착되어야 하므로, total_amt_per_mth_and_store의 std_mth에 i를 더함\n",
    "\n",
    "for i in range(1, 4): \n",
    "    # i값에 따른 새로운 변수 생성\n",
    "    total_amt_per_mth_and_store['std_mth_{}'.format(i)] = total_amt_per_mth_and_store['std_mth'] + i\n",
    "    \n",
    "    # 두 테이블 데이터 결합\n",
    "    # 두 table에 모두 std_mth가 존재하므로 drop\n",
    "    train_df = pd.merge(train_df, total_amt_per_mth_and_store.drop('std_mth', axis = 1), left_on = ['store_id', 'std_mth'], right_on = ['store_id', 'std_mth_{}'.format(i)])\n",
    "    \n",
    "    # 변수명 변경: 다음 loop에서 merge할때 중복 column 때문에 _x, _y가 생기는 것 방지\n",
    "    train_df.rename({\"amount\":\"{}_before_amount\".format(i)}, axis = 1, inplace = True)\n",
    "    \n",
    "    #필요없어진 변수 drop\n",
    "    train_df.drop(['std_mth_{}'.format(i)], axis = 1, inplace = True)\n",
    "    total_amt_per_mth_and_store.drop(['std_mth_{}'.format(i)], axis = 1, inplace = True)\n",
    "    \n",
    "train_df.head()"
   ]
  },
  {
   "cell_type": "markdown",
   "metadata": {},
   "source": [
    "- std_mth의 시작점이 6 -> 9로 바뀐다. (for문이 적용되고 merge되면서 사라진 것)\n",
    "- 6월의 amount는 3_before_amount에 입력되어 있다.\n",
    "- 일괄적으로 +3이 된 것이기 때문에 ok\n",
    "- std_mth 9(=16년 9월)를 기준으로 보았을때\n",
    "    - 1_before_amount는 16년 8월, 2_before_amount는 16년 7월, 3_before_amount는 16년 6월을 의미한다.\n",
    "    \n",
    "    \n",
    "    \n",
    "- 전체적으로 본다면 2016년 6월에 대한 특징 데이터는 소실된다. 하지만 반대로 다른 시점에 특성을 구분할 수 있는 데이터가 늘어남  \n",
    "---\n",
    "- i값을 3으로 한 이유 :\n",
    "\n",
    "    1) 예측해야 하는 값이 3개월 평균 이기 때문\n",
    "    \n",
    "    2) i가 클수록 유실되는 데이터량이 많아져서 최소화 하기 위해( 1)의 기간도 감안 )"
   ]
  },
  {
   "cell_type": "markdown",
   "metadata": {},
   "source": [
    "#### 각 시점별 지역의 월 매출 (파생변수)"
   ]
  },
  {
   "cell_type": "markdown",
   "metadata": {},
   "source": [
    "##### region(지역)  별 평균 매출 계산"
   ]
  },
  {
   "cell_type": "code",
   "execution_count": 47,
   "metadata": {
    "ExecuteTime": {
     "end_time": "2021-07-09T07:27:09.476887Z",
     "start_time": "2021-07-09T07:27:07.426289Z"
    }
   },
   "outputs": [],
   "source": [
    "#지역별 매장을 분류(dict) & 중복제거\n",
    "store_to_region = df[['store_id', 'region']].drop_duplicates().set_index(['store_id'])['region'].to_dict() \n",
    "\n",
    "# store_id를 region으로 대체 -> 위에서 사용한 코드 동일하게 사용 가능\n",
    "total_amt_per_mth_and_store['region'] = total_amt_per_mth_and_store['store_id'].replace(store_to_region)\n",
    "\n",
    "# 지역별 평균 매출 계산\n",
    "# total_amt_per_mth_and_store에 region이란 컬럼 추가 후 amt_mean_per_std_mth_and_region 테이블로 변경\n",
    "amt_mean_per_std_mth_and_region = total_amt_per_mth_and_store.groupby(['region', 'std_mth'], as_index = False)['amount'].mean()"
   ]
  },
  {
   "cell_type": "code",
   "execution_count": 48,
   "metadata": {
    "ExecuteTime": {
     "end_time": "2021-07-09T07:27:09.491766Z",
     "start_time": "2021-07-09T07:27:09.478830Z"
    }
   },
   "outputs": [
    {
     "data": {
      "text/html": [
       "<div>\n",
       "<style scoped>\n",
       "    .dataframe tbody tr th:only-of-type {\n",
       "        vertical-align: middle;\n",
       "    }\n",
       "\n",
       "    .dataframe tbody tr th {\n",
       "        vertical-align: top;\n",
       "    }\n",
       "\n",
       "    .dataframe thead th {\n",
       "        text-align: right;\n",
       "    }\n",
       "</style>\n",
       "<table border=\"1\" class=\"dataframe\">\n",
       "  <thead>\n",
       "    <tr style=\"text-align: right;\">\n",
       "      <th></th>\n",
       "      <th>region</th>\n",
       "      <th>std_mth</th>\n",
       "      <th>amount</th>\n",
       "    </tr>\n",
       "  </thead>\n",
       "  <tbody>\n",
       "    <tr>\n",
       "      <th>0</th>\n",
       "      <td>강원 강릉시</td>\n",
       "      <td>6</td>\n",
       "      <td>623271.75</td>\n",
       "    </tr>\n",
       "    <tr>\n",
       "      <th>1</th>\n",
       "      <td>강원 강릉시</td>\n",
       "      <td>7</td>\n",
       "      <td>501311.43</td>\n",
       "    </tr>\n",
       "    <tr>\n",
       "      <th>2</th>\n",
       "      <td>강원 강릉시</td>\n",
       "      <td>8</td>\n",
       "      <td>508130.79</td>\n",
       "    </tr>\n",
       "  </tbody>\n",
       "</table>\n",
       "</div>"
      ],
      "text/plain": [
       "   region  std_mth    amount\n",
       "0  강원 강릉시        6 623271.75\n",
       "1  강원 강릉시        7 501311.43\n",
       "2  강원 강릉시        8 508130.79"
      ]
     },
     "execution_count": 48,
     "metadata": {},
     "output_type": "execute_result"
    }
   ],
   "source": [
    "amt_mean_per_std_mth_and_region.head(3)"
   ]
  },
  {
   "cell_type": "markdown",
   "metadata": {},
   "source": [
    "- 위에서 store_id의 누락치를 처리하는 과정에서 nan값을 모두 처리함\n",
    "- 즉, store_id를 region으로 대체한 것이기 때문에, pivot_table & stack 등을 통한 결측치 제거는 하지 않아도 됨."
   ]
  },
  {
   "cell_type": "markdown",
   "metadata": {},
   "source": [
    "##### train_df + amt_mean_per_std_mth_and_region"
   ]
  },
  {
   "cell_type": "code",
   "execution_count": 49,
   "metadata": {
    "ExecuteTime": {
     "end_time": "2021-07-09T07:27:09.597511Z",
     "start_time": "2021-07-09T07:27:09.494758Z"
    },
    "scrolled": true
   },
   "outputs": [
    {
     "data": {
      "text/html": [
       "<div>\n",
       "<style scoped>\n",
       "    .dataframe tbody tr th:only-of-type {\n",
       "        vertical-align: middle;\n",
       "    }\n",
       "\n",
       "    .dataframe tbody tr th {\n",
       "        vertical-align: top;\n",
       "    }\n",
       "\n",
       "    .dataframe thead th {\n",
       "        text-align: right;\n",
       "    }\n",
       "</style>\n",
       "<table border=\"1\" class=\"dataframe\">\n",
       "  <thead>\n",
       "    <tr style=\"text-align: right;\">\n",
       "      <th></th>\n",
       "      <th>store_id</th>\n",
       "      <th>region</th>\n",
       "      <th>type_of_business</th>\n",
       "      <th>std_mth</th>\n",
       "      <th>평균할부율</th>\n",
       "      <th>1_before_amount</th>\n",
       "      <th>2_before_amount</th>\n",
       "      <th>3_before_amount</th>\n",
       "      <th>1_before_amount_of_region</th>\n",
       "      <th>2_before_amount_of_region</th>\n",
       "      <th>3_before_amount_of_region</th>\n",
       "    </tr>\n",
       "  </thead>\n",
       "  <tbody>\n",
       "    <tr>\n",
       "      <th>0</th>\n",
       "      <td>0</td>\n",
       "      <td>미분류</td>\n",
       "      <td>기타 미용업</td>\n",
       "      <td>9</td>\n",
       "      <td>0.04</td>\n",
       "      <td>871571.43</td>\n",
       "      <td>1005000.00</td>\n",
       "      <td>747000.00</td>\n",
       "      <td>761987.42</td>\n",
       "      <td>756108.67</td>\n",
       "      <td>739654.07</td>\n",
       "    </tr>\n",
       "    <tr>\n",
       "      <th>1</th>\n",
       "      <td>1</td>\n",
       "      <td>미분류</td>\n",
       "      <td>미분류</td>\n",
       "      <td>9</td>\n",
       "      <td>0.00</td>\n",
       "      <td>118142.86</td>\n",
       "      <td>163000.00</td>\n",
       "      <td>137214.29</td>\n",
       "      <td>761987.42</td>\n",
       "      <td>756108.67</td>\n",
       "      <td>739654.07</td>\n",
       "    </tr>\n",
       "    <tr>\n",
       "      <th>2</th>\n",
       "      <td>2</td>\n",
       "      <td>미분류</td>\n",
       "      <td>미분류</td>\n",
       "      <td>9</td>\n",
       "      <td>0.08</td>\n",
       "      <td>131428.57</td>\n",
       "      <td>82857.14</td>\n",
       "      <td>260714.29</td>\n",
       "      <td>761987.42</td>\n",
       "      <td>756108.67</td>\n",
       "      <td>739654.07</td>\n",
       "    </tr>\n",
       "    <tr>\n",
       "      <th>3</th>\n",
       "      <td>5</td>\n",
       "      <td>미분류</td>\n",
       "      <td>의복 액세서리 및 모조 장신구 도매업</td>\n",
       "      <td>9</td>\n",
       "      <td>0.08</td>\n",
       "      <td>263500.00</td>\n",
       "      <td>432714.29</td>\n",
       "      <td>342500.00</td>\n",
       "      <td>761987.42</td>\n",
       "      <td>756108.67</td>\n",
       "      <td>739654.07</td>\n",
       "    </tr>\n",
       "    <tr>\n",
       "      <th>4</th>\n",
       "      <td>7</td>\n",
       "      <td>미분류</td>\n",
       "      <td>미분류</td>\n",
       "      <td>9</td>\n",
       "      <td>0.01</td>\n",
       "      <td>107857.14</td>\n",
       "      <td>107857.14</td>\n",
       "      <td>107857.14</td>\n",
       "      <td>761987.42</td>\n",
       "      <td>756108.67</td>\n",
       "      <td>739654.07</td>\n",
       "    </tr>\n",
       "  </tbody>\n",
       "</table>\n",
       "</div>"
      ],
      "text/plain": [
       "   store_id region      type_of_business  std_mth  평균할부율  1_before_amount  2_before_amount  3_before_amount  1_before_amount_of_region  2_before_amount_of_region  3_before_amount_of_region\n",
       "0         0    미분류                기타 미용업        9   0.04        871571.43       1005000.00        747000.00                  761987.42                  756108.67                  739654.07\n",
       "1         1    미분류                   미분류        9   0.00        118142.86        163000.00        137214.29                  761987.42                  756108.67                  739654.07\n",
       "2         2    미분류                   미분류        9   0.08        131428.57         82857.14        260714.29                  761987.42                  756108.67                  739654.07\n",
       "3         5    미분류  의복 액세서리 및 모조 장신구 도매업        9   0.08        263500.00        432714.29        342500.00                  761987.42                  756108.67                  739654.07\n",
       "4         7    미분류                   미분류        9   0.01        107857.14        107857.14        107857.14                  761987.42                  756108.67                  739654.07"
      ]
     },
     "execution_count": 49,
     "metadata": {},
     "output_type": "execute_result"
    }
   ],
   "source": [
    "# std_mth + i (i = 1, 2, 3)\n",
    "\n",
    "for i in range(1, 4):\n",
    "    amt_mean_per_std_mth_and_region['std_mth_{}'.format(i)] = amt_mean_per_std_mth_and_region['std_mth'] + i\n",
    "    train_df = pd.merge(train_df, amt_mean_per_std_mth_and_region.drop('std_mth', axis = 1), left_on = ['region', 'std_mth'], right_on = ['region', 'std_mth_{}'.format(i)])\n",
    "    train_df.rename({\"amount\":\"{}_before_amount_of_region\".format(i)}, axis = 1, inplace = True)\n",
    "    \n",
    "    # 계산에 사용되고 필요없어진 데이터 drop\n",
    "    train_df.drop(['std_mth_{}'.format(i)], axis = 1, inplace = True)\n",
    "    amt_mean_per_std_mth_and_region.drop(['std_mth_{}'.format(i)], axis = 1, inplace = True)    \n",
    "    \n",
    "train_df.head()"
   ]
  },
  {
   "cell_type": "markdown",
   "metadata": {},
   "source": [
    "#### 각 시점별 업종의 월 매출 (파생변수)"
   ]
  },
  {
   "cell_type": "markdown",
   "metadata": {},
   "source": [
    "##### type_of_business별 평균 매출 계산"
   ]
  },
  {
   "cell_type": "code",
   "execution_count": 50,
   "metadata": {
    "ExecuteTime": {
     "end_time": "2021-07-09T07:27:11.694060Z",
     "start_time": "2021-07-09T07:27:09.599477Z"
    }
   },
   "outputs": [],
   "source": [
    "##업종별 매장을 분류(dict) & 중복제거\n",
    "store_to_type_of_business = df[['store_id', 'type_of_business']].drop_duplicates().set_index(['store_id'])['type_of_business'].to_dict()\n",
    "\n",
    "# store_id를 type_of_business으로 대체 -> 위에서 사용한 코드 동일하게 사용 가능\n",
    "total_amt_per_mth_and_store['type_of_business'] = total_amt_per_mth_and_store['store_id'].replace(store_to_type_of_business)\n",
    "\n",
    "# 지역별 평균 매출 계산\n",
    "amount_mean_per_mth_and_type_of_business = total_amt_per_mth_and_store.groupby(['type_of_business', 'std_mth'], as_index = False)['amount'].mean()"
   ]
  },
  {
   "cell_type": "markdown",
   "metadata": {},
   "source": [
    "##### amount_mean_per_mth_and_type_of_business + train_df"
   ]
  },
  {
   "cell_type": "code",
   "execution_count": 51,
   "metadata": {
    "ExecuteTime": {
     "end_time": "2021-07-09T07:27:11.798740Z",
     "start_time": "2021-07-09T07:27:11.696012Z"
    }
   },
   "outputs": [
    {
     "data": {
      "text/html": [
       "<div>\n",
       "<style scoped>\n",
       "    .dataframe tbody tr th:only-of-type {\n",
       "        vertical-align: middle;\n",
       "    }\n",
       "\n",
       "    .dataframe tbody tr th {\n",
       "        vertical-align: top;\n",
       "    }\n",
       "\n",
       "    .dataframe thead th {\n",
       "        text-align: right;\n",
       "    }\n",
       "</style>\n",
       "<table border=\"1\" class=\"dataframe\">\n",
       "  <thead>\n",
       "    <tr style=\"text-align: right;\">\n",
       "      <th></th>\n",
       "      <th>store_id</th>\n",
       "      <th>region</th>\n",
       "      <th>type_of_business</th>\n",
       "      <th>std_mth</th>\n",
       "      <th>평균할부율</th>\n",
       "      <th>1_before_amount</th>\n",
       "      <th>2_before_amount</th>\n",
       "      <th>3_before_amount</th>\n",
       "      <th>1_before_amount_of_region</th>\n",
       "      <th>2_before_amount_of_region</th>\n",
       "      <th>3_before_amount_of_region</th>\n",
       "      <th>1_before_amount_of_type_of_business</th>\n",
       "      <th>2_before_amount_of_type_of_business</th>\n",
       "      <th>3_before_amount_of_type_of_business</th>\n",
       "    </tr>\n",
       "  </thead>\n",
       "  <tbody>\n",
       "    <tr>\n",
       "      <th>0</th>\n",
       "      <td>0</td>\n",
       "      <td>미분류</td>\n",
       "      <td>기타 미용업</td>\n",
       "      <td>9</td>\n",
       "      <td>0.04</td>\n",
       "      <td>871571.43</td>\n",
       "      <td>1005000.00</td>\n",
       "      <td>747000.00</td>\n",
       "      <td>761987.42</td>\n",
       "      <td>756108.67</td>\n",
       "      <td>739654.07</td>\n",
       "      <td>761025.00</td>\n",
       "      <td>804979.76</td>\n",
       "      <td>679950.00</td>\n",
       "    </tr>\n",
       "    <tr>\n",
       "      <th>1</th>\n",
       "      <td>792</td>\n",
       "      <td>미분류</td>\n",
       "      <td>기타 미용업</td>\n",
       "      <td>9</td>\n",
       "      <td>0.22</td>\n",
       "      <td>681142.86</td>\n",
       "      <td>880857.14</td>\n",
       "      <td>733714.29</td>\n",
       "      <td>761987.42</td>\n",
       "      <td>756108.67</td>\n",
       "      <td>739654.07</td>\n",
       "      <td>761025.00</td>\n",
       "      <td>804979.76</td>\n",
       "      <td>679950.00</td>\n",
       "    </tr>\n",
       "    <tr>\n",
       "      <th>2</th>\n",
       "      <td>23</td>\n",
       "      <td>경기 안양시</td>\n",
       "      <td>기타 미용업</td>\n",
       "      <td>9</td>\n",
       "      <td>0.05</td>\n",
       "      <td>879242.86</td>\n",
       "      <td>730857.14</td>\n",
       "      <td>845285.71</td>\n",
       "      <td>828831.71</td>\n",
       "      <td>588733.00</td>\n",
       "      <td>955973.29</td>\n",
       "      <td>761025.00</td>\n",
       "      <td>804979.76</td>\n",
       "      <td>679950.00</td>\n",
       "    </tr>\n",
       "    <tr>\n",
       "      <th>3</th>\n",
       "      <td>192</td>\n",
       "      <td>경기 화성시</td>\n",
       "      <td>기타 미용업</td>\n",
       "      <td>9</td>\n",
       "      <td>0.10</td>\n",
       "      <td>579000.00</td>\n",
       "      <td>523428.57</td>\n",
       "      <td>551142.86</td>\n",
       "      <td>1234460.01</td>\n",
       "      <td>1227920.91</td>\n",
       "      <td>1180455.31</td>\n",
       "      <td>761025.00</td>\n",
       "      <td>804979.76</td>\n",
       "      <td>679950.00</td>\n",
       "    </tr>\n",
       "    <tr>\n",
       "      <th>4</th>\n",
       "      <td>536</td>\n",
       "      <td>서울 광진구</td>\n",
       "      <td>기타 미용업</td>\n",
       "      <td>9</td>\n",
       "      <td>0.01</td>\n",
       "      <td>96285.71</td>\n",
       "      <td>79857.14</td>\n",
       "      <td>99857.14</td>\n",
       "      <td>3786819.95</td>\n",
       "      <td>3397972.56</td>\n",
       "      <td>3524074.62</td>\n",
       "      <td>761025.00</td>\n",
       "      <td>804979.76</td>\n",
       "      <td>679950.00</td>\n",
       "    </tr>\n",
       "  </tbody>\n",
       "</table>\n",
       "</div>"
      ],
      "text/plain": [
       "   store_id  region type_of_business  std_mth  평균할부율  1_before_amount  2_before_amount  3_before_amount  1_before_amount_of_region  2_before_amount_of_region  3_before_amount_of_region  1_before_amount_of_type_of_business  2_before_amount_of_type_of_business  3_before_amount_of_type_of_business\n",
       "0         0     미분류           기타 미용업        9   0.04        871571.43       1005000.00        747000.00                  761987.42                  756108.67                  739654.07                            761025.00                            804979.76                            679950.00\n",
       "1       792     미분류           기타 미용업        9   0.22        681142.86        880857.14        733714.29                  761987.42                  756108.67                  739654.07                            761025.00                            804979.76                            679950.00\n",
       "2        23  경기 안양시           기타 미용업        9   0.05        879242.86        730857.14        845285.71                  828831.71                  588733.00                  955973.29                            761025.00                            804979.76                            679950.00\n",
       "3       192  경기 화성시           기타 미용업        9   0.10        579000.00        523428.57        551142.86                 1234460.01                 1227920.91                 1180455.31                            761025.00                            804979.76                            679950.00\n",
       "4       536  서울 광진구           기타 미용업        9   0.01         96285.71         79857.14         99857.14                 3786819.95                 3397972.56                 3524074.62                            761025.00                            804979.76                            679950.00"
      ]
     },
     "execution_count": 51,
     "metadata": {},
     "output_type": "execute_result"
    }
   ],
   "source": [
    "# std_mth + i (i = 1, 2, 3)\n",
    "# train_df의 std_mth는 total_amt_per_mth_and_store의 std_mth-i와 merge 해야하므로, total_amt_per_mth_and_store의 std_mth에 i를 더한다.\n",
    "\n",
    "for i in range(1, 4):\n",
    "    amount_mean_per_mth_and_type_of_business['std_mth_{}'.format(i)] = amount_mean_per_mth_and_type_of_business['std_mth'] + i\n",
    "    train_df = pd.merge(train_df, amount_mean_per_mth_and_type_of_business.drop('std_mth', axis = 1), left_on = ['type_of_business', 'std_mth'], right_on = ['type_of_business', 'std_mth_{}'.format(i)])\n",
    "    train_df.rename({\"amount\":\"{}_before_amount_of_type_of_business\".format(i)}, axis = 1, inplace = True)\n",
    "    \n",
    "    # 계산에 사용되고 필요없어진 데이터 drop\n",
    "    train_df.drop(['std_mth_{}'.format(i)], axis = 1, inplace = True)\n",
    "    amount_mean_per_mth_and_type_of_business.drop(['std_mth_{}'.format(i)], axis = 1, inplace = True)       \n",
    "    \n",
    "train_df.head()"
   ]
  },
  {
   "cell_type": "markdown",
   "metadata": {},
   "source": [
    "### label 부착하기 ( std_mth +1, std_mth+2, std_mth+3)\n",
    "\n",
    "- label 은 기준월 (std_mth) 에서 각각 +1, +2, +3 인 시점에 대한 amount는 예측 모델을 통해 파악해야 하는 값이다.\n",
    "- 이후 에는 model 학습을 위한 데이터 전처리가 들어가기 때문에, raw data인 현상황에서 +1, +2, +3 인 시점의 amount를 입력해 두는 것이 추후 작업에서 유용하다."
   ]
  },
  {
   "cell_type": "code",
   "execution_count": 52,
   "metadata": {
    "ExecuteTime": {
     "end_time": "2021-07-09T07:27:11.933384Z",
     "start_time": "2021-07-09T07:27:11.800734Z"
    }
   },
   "outputs": [],
   "source": [
    "# 불필요한 컬럼 drop (중복 컬럼 방지)\n",
    "total_amt_per_mth_and_store.drop(['region', 'type_of_business'], axis = 1, inplace = True)\n",
    "\n",
    "# std_mth - i (i = 1, 2, 3)\n",
    "for i in range(1, 4):\n",
    "    total_amt_per_mth_and_store['std_mth_{}'.format(i)] = total_amt_per_mth_and_store['std_mth'] - i   \n",
    "    train_df = pd.merge(train_df, total_amt_per_mth_and_store.drop('std_mth', axis = 1), left_on = ['store_id', 'std_mth'], right_on = ['store_id', 'std_mth_{}'.format(i)])\n",
    "    train_df.rename({\"amount\": \"Y_{}\".format(i)}, axis = 1, inplace = True)\n",
    "    \n",
    "    # 계산에 사용되고 필요없어진 데이터 drop\n",
    "    train_df.drop(['std_mth_{}'.format(i)], axis = 1, inplace = True)\n",
    "    total_amt_per_mth_and_store.drop(['std_mth_{}'.format(i)], axis = 1, inplace = True)      "
   ]
  },
  {
   "cell_type": "code",
   "execution_count": 53,
   "metadata": {
    "ExecuteTime": {
     "end_time": "2021-07-09T07:27:11.963333Z",
     "start_time": "2021-07-09T07:27:11.935380Z"
    }
   },
   "outputs": [
    {
     "data": {
      "text/html": [
       "<div>\n",
       "<style scoped>\n",
       "    .dataframe tbody tr th:only-of-type {\n",
       "        vertical-align: middle;\n",
       "    }\n",
       "\n",
       "    .dataframe tbody tr th {\n",
       "        vertical-align: top;\n",
       "    }\n",
       "\n",
       "    .dataframe thead th {\n",
       "        text-align: right;\n",
       "    }\n",
       "</style>\n",
       "<table border=\"1\" class=\"dataframe\">\n",
       "  <thead>\n",
       "    <tr style=\"text-align: right;\">\n",
       "      <th></th>\n",
       "      <th>std_mth</th>\n",
       "      <th>Y_1</th>\n",
       "      <th>Y_2</th>\n",
       "      <th>Y_3</th>\n",
       "    </tr>\n",
       "  </thead>\n",
       "  <tbody>\n",
       "    <tr>\n",
       "      <th>0</th>\n",
       "      <td>9</td>\n",
       "      <td>835428.57</td>\n",
       "      <td>697000.00</td>\n",
       "      <td>761857.14</td>\n",
       "    </tr>\n",
       "    <tr>\n",
       "      <th>1</th>\n",
       "      <td>9</td>\n",
       "      <td>725142.86</td>\n",
       "      <td>653428.57</td>\n",
       "      <td>730071.43</td>\n",
       "    </tr>\n",
       "    <tr>\n",
       "      <th>2</th>\n",
       "      <td>9</td>\n",
       "      <td>741714.29</td>\n",
       "      <td>608857.14</td>\n",
       "      <td>844285.71</td>\n",
       "    </tr>\n",
       "    <tr>\n",
       "      <th>3</th>\n",
       "      <td>9</td>\n",
       "      <td>529000.00</td>\n",
       "      <td>545142.86</td>\n",
       "      <td>449714.29</td>\n",
       "    </tr>\n",
       "    <tr>\n",
       "      <th>4</th>\n",
       "      <td>9</td>\n",
       "      <td>87142.86</td>\n",
       "      <td>159928.57</td>\n",
       "      <td>124142.86</td>\n",
       "    </tr>\n",
       "    <tr>\n",
       "      <th>...</th>\n",
       "      <td>...</td>\n",
       "      <td>...</td>\n",
       "      <td>...</td>\n",
       "      <td>...</td>\n",
       "    </tr>\n",
       "    <tr>\n",
       "      <th>50226</th>\n",
       "      <td>31</td>\n",
       "      <td>13623585.71</td>\n",
       "      <td>10826500.00</td>\n",
       "      <td>12053585.71</td>\n",
       "    </tr>\n",
       "    <tr>\n",
       "      <th>50227</th>\n",
       "      <td>32</td>\n",
       "      <td>10826500.00</td>\n",
       "      <td>12053585.71</td>\n",
       "      <td>12916214.29</td>\n",
       "    </tr>\n",
       "    <tr>\n",
       "      <th>50228</th>\n",
       "      <td>33</td>\n",
       "      <td>12053585.71</td>\n",
       "      <td>12916214.29</td>\n",
       "      <td>13290000.00</td>\n",
       "    </tr>\n",
       "    <tr>\n",
       "      <th>50229</th>\n",
       "      <td>34</td>\n",
       "      <td>12916214.29</td>\n",
       "      <td>13290000.00</td>\n",
       "      <td>15355300.00</td>\n",
       "    </tr>\n",
       "    <tr>\n",
       "      <th>50230</th>\n",
       "      <td>35</td>\n",
       "      <td>13290000.00</td>\n",
       "      <td>15355300.00</td>\n",
       "      <td>11063685.71</td>\n",
       "    </tr>\n",
       "  </tbody>\n",
       "</table>\n",
       "<p>50231 rows × 4 columns</p>\n",
       "</div>"
      ],
      "text/plain": [
       "       std_mth         Y_1         Y_2         Y_3\n",
       "0            9   835428.57   697000.00   761857.14\n",
       "1            9   725142.86   653428.57   730071.43\n",
       "2            9   741714.29   608857.14   844285.71\n",
       "3            9   529000.00   545142.86   449714.29\n",
       "4            9    87142.86   159928.57   124142.86\n",
       "...        ...         ...         ...         ...\n",
       "50226       31 13623585.71 10826500.00 12053585.71\n",
       "50227       32 10826500.00 12053585.71 12916214.29\n",
       "50228       33 12053585.71 12916214.29 13290000.00\n",
       "50229       34 12916214.29 13290000.00 15355300.00\n",
       "50230       35 13290000.00 15355300.00 11063685.71\n",
       "\n",
       "[50231 rows x 4 columns]"
      ]
     },
     "execution_count": 53,
     "metadata": {},
     "output_type": "execute_result"
    }
   ],
   "source": [
    "train_df[['std_mth','Y_1','Y_2','Y_3']]"
   ]
  },
  {
   "cell_type": "markdown",
   "metadata": {},
   "source": [
    "- for loop가 수행되면서 각각 i=1 일때, **total_amt_per_mth_and_store의 std_mth 기준으로** +1 인 시점의 amount 가 Y_1이 된다.\n",
    "- i=2 일때는 std_mth 기준 +2 인 시점의 amount 가 Y_2이 되고, i=3 일때, std_mth 기준 +3 인 시점의 amount 가 Y_3이 된다."
   ]
  },
  {
   "cell_type": "code",
   "execution_count": 54,
   "metadata": {
    "ExecuteTime": {
     "end_time": "2021-07-09T07:27:11.978295Z",
     "start_time": "2021-07-09T07:27:11.965300Z"
    }
   },
   "outputs": [],
   "source": [
    "# Y변수 (미래 3개월의 매출) 생성\n",
    "train_df['Y'] = train_df['Y_1'] + train_df['Y_2'] + train_df['Y_3']"
   ]
  },
  {
   "cell_type": "code",
   "execution_count": 88,
   "metadata": {
    "ExecuteTime": {
     "end_time": "2021-07-09T10:24:40.685548Z",
     "start_time": "2021-07-09T10:24:40.672614Z"
    }
   },
   "outputs": [
    {
     "data": {
      "text/plain": [
       "'E:\\\\OneDrive\\\\Jupyter\\\\포트폴리오\\\\[예측] 상점 신용카드 매출 예측하기'"
      ]
     },
     "execution_count": 88,
     "metadata": {},
     "output_type": "execute_result"
    }
   ],
   "source": [
    "os.getcwd()"
   ]
  },
  {
   "cell_type": "code",
   "execution_count": 89,
   "metadata": {
    "ExecuteTime": {
     "end_time": "2021-07-09T10:25:05.215843Z",
     "start_time": "2021-07-09T10:25:03.604530Z"
    }
   },
   "outputs": [],
   "source": [
    "train_df.to_csv('E:\\\\OneDrive\\\\Jupyter\\\\포트폴리오\\\\[예측] 상점 신용카드 매출 예측하기\\\\train_df.csv')"
   ]
  },
  {
   "cell_type": "markdown",
   "metadata": {},
   "source": [
    "# Train data 살펴보기 - EDA & Data Processing"
   ]
  },
  {
   "cell_type": "markdown",
   "metadata": {},
   "source": [
    "## feature & label 분리"
   ]
  },
  {
   "cell_type": "code",
   "execution_count": 55,
   "metadata": {
    "ExecuteTime": {
     "end_time": "2021-07-09T07:27:11.993253Z",
     "start_time": "2021-07-09T07:27:11.980260Z"
    }
   },
   "outputs": [
    {
     "data": {
      "text/plain": [
       "Index(['store_id', 'region', 'type_of_business', 'std_mth', '평균할부율', '1_before_amount', '2_before_amount', '3_before_amount', '1_before_amount_of_region', '2_before_amount_of_region', '3_before_amount_of_region', '1_before_amount_of_type_of_business', '2_before_amount_of_type_of_business', '3_before_amount_of_type_of_business', 'Y_1', 'Y_2', 'Y_3', 'Y'], dtype='object')"
      ]
     },
     "execution_count": 55,
     "metadata": {},
     "output_type": "execute_result"
    }
   ],
   "source": [
    "train_df.columns"
   ]
  },
  {
   "cell_type": "code",
   "execution_count": 56,
   "metadata": {
    "ExecuteTime": {
     "end_time": "2021-07-09T07:27:12.008214Z",
     "start_time": "2021-07-09T07:27:11.995244Z"
    }
   },
   "outputs": [],
   "source": [
    "X = train_df.drop(['store_id', 'region', 'type_of_business', 'std_mth', 'Y_1', 'Y_2', 'Y_3', 'Y'], axis = 1)\n",
    "Y = train_df['Y']"
   ]
  },
  {
   "cell_type": "markdown",
   "metadata": {},
   "source": [
    "## 데이터 분할 및 구조 탐색"
   ]
  },
  {
   "cell_type": "code",
   "execution_count": 57,
   "metadata": {
    "ExecuteTime": {
     "end_time": "2021-07-09T07:27:12.892938Z",
     "start_time": "2021-07-09T07:27:12.011177Z"
    }
   },
   "outputs": [
    {
     "data": {
      "text/plain": [
       "(37673, 10)"
      ]
     },
     "execution_count": 57,
     "metadata": {},
     "output_type": "execute_result"
    }
   ],
   "source": [
    "from sklearn.model_selection import train_test_split\n",
    "Train_X, Test_X, Train_Y, Test_Y = train_test_split(X, Y)\n",
    "\n",
    "# 생성한 train 데이터 확인\n",
    "Train_X.shape # 특징 대비 샘플이 많다. (특징 37673개,feature는 10개) -> 과적합 우려 없음"
   ]
  },
  {
   "cell_type": "code",
   "execution_count": 58,
   "metadata": {
    "ExecuteTime": {
     "end_time": "2021-07-09T07:27:12.907927Z",
     "start_time": "2021-07-09T07:27:12.895959Z"
    }
   },
   "outputs": [
    {
     "data": {
      "text/plain": [
       "count       37673.00\n",
       "mean      3405006.23\n",
       "std       4845801.46\n",
       "min       -174785.71\n",
       "25%       1135857.14\n",
       "50%       2208285.71\n",
       "75%       4080285.71\n",
       "max     172765924.57\n",
       "Name: Y, dtype: float64"
      ]
     },
     "execution_count": 58,
     "metadata": {},
     "output_type": "execute_result"
    }
   ],
   "source": [
    "# label 데이터 확인\n",
    "Train_Y.describe()"
   ]
  },
  {
   "cell_type": "code",
   "execution_count": 59,
   "metadata": {
    "ExecuteTime": {
     "end_time": "2021-07-09T07:27:13.072458Z",
     "start_time": "2021-07-09T07:27:12.909894Z"
    }
   },
   "outputs": [
    {
     "data": {
      "text/plain": [
       "<AxesSubplot:xlabel='Y'>"
      ]
     },
     "execution_count": 59,
     "metadata": {},
     "output_type": "execute_result"
    },
    {
     "data": {
      "image/png": "[encoded data removed]",
      "text/plain": [
       "<Figure size 864x648 with 1 Axes>"
      ]
     },
     "metadata": {
      "needs_background": "light"
     },
     "output_type": "display_data"
    }
   ],
   "source": [
    "sns.boxplot(Train_Y, orient='v', width=0.5)"
   ]
  },
  {
   "cell_type": "markdown",
   "metadata": {},
   "source": [
    "- 전체 매출의 평균은 3434534, 최소 매출은 0 이다.\n",
    "- 최대 매출은 172765924 로 값의 차이가 매우 크다."
   ]
  },
  {
   "cell_type": "markdown",
   "metadata": {},
   "source": [
    "## 이상치 제거"
   ]
  },
  {
   "cell_type": "markdown",
   "metadata": {},
   "source": [
    "- 값의 변동폭이 큰편이므로 이상치 제거가 필요 하다."
   ]
  },
  {
   "cell_type": "code",
   "execution_count": 60,
   "metadata": {
    "ExecuteTime": {
     "end_time": "2021-07-09T07:27:13.087418Z",
     "start_time": "2021-07-09T07:27:13.074455Z"
    }
   },
   "outputs": [],
   "source": [
    "import numpy as np\n",
    "def IQR_rule(val_list): # 한 특징에 포함된 값 (열 벡터)\n",
    "    # IQR 계산    \n",
    "    Q1 = np.quantile(val_list, 0.25)\n",
    "    Q3 = np.quantile(val_list, 0.75)\n",
    "    IQR = Q3 - Q1\n",
    "    \n",
    "    # IQR rule을 결과를 bool list 계산 (True이면 이상치 X, False면 이상치 O)\n",
    "    not_outlier_condition = (Q3 + 1.5 * IQR > val_list) & (Q1 - 1.5 * IQR < val_list)\n",
    "    return not_outlier_condition"
   ]
  },
  {
   "cell_type": "code",
   "execution_count": 61,
   "metadata": {
    "ExecuteTime": {
     "end_time": "2021-07-09T07:27:13.102378Z",
     "start_time": "2021-07-09T07:27:13.089413Z"
    }
   },
   "outputs": [],
   "source": [
    "# 이상치가 아닌 label로만 구성된 Y_condition 라는 bool list 생성\n",
    "Y_condition = IQR_rule(Train_Y)\n",
    "Train_Y = Train_Y[Y_condition]\n",
    "Train_X = Train_X[Y_condition]"
   ]
  },
  {
   "cell_type": "code",
   "execution_count": 62,
   "metadata": {
    "ExecuteTime": {
     "end_time": "2021-07-09T07:27:13.252007Z",
     "start_time": "2021-07-09T07:27:13.104373Z"
    }
   },
   "outputs": [
    {
     "data": {
      "text/plain": [
       "<AxesSubplot:xlabel='Y'>"
      ]
     },
     "execution_count": 62,
     "metadata": {},
     "output_type": "execute_result"
    },
    {
     "data": {
      "image/png": "[encoded data removed]",
      "text/plain": [
       "<Figure size 864x648 with 1 Axes>"
      ]
     },
     "metadata": {
      "needs_background": "light"
     },
     "output_type": "display_data"
    }
   ],
   "source": [
    "sns.boxplot(Y_condition, orient='v', width=0.5)"
   ]
  },
  {
   "cell_type": "markdown",
   "metadata": {},
   "source": [
    "## 치우침 제거"
   ]
  },
  {
   "cell_type": "code",
   "execution_count": 63,
   "metadata": {
    "ExecuteTime": {
     "end_time": "2021-07-09T07:27:13.281931Z",
     "start_time": "2021-07-09T07:27:13.253974Z"
    }
   },
   "outputs": [
    {
     "data": {
      "text/plain": [
       "평균할부율                                 2.96\n",
       "1_before_amount                       2.51\n",
       "2_before_amount                       2.43\n",
       "3_before_amount                       2.49\n",
       "1_before_amount_of_region             3.29\n",
       "2_before_amount_of_region             3.26\n",
       "3_before_amount_of_region             3.21\n",
       "1_before_amount_of_type_of_business   1.71\n",
       "2_before_amount_of_type_of_business   1.87\n",
       "3_before_amount_of_type_of_business   1.97\n",
       "dtype: float64"
      ]
     },
     "execution_count": 63,
     "metadata": {},
     "output_type": "execute_result"
    }
   ],
   "source": [
    "# 데이터 편향 확인\n",
    "Train_X.skew()"
   ]
  },
  {
   "cell_type": "markdown",
   "metadata": {},
   "source": [
    "- 모든 데이터가 1.5를 넘어 좌로 편향되어 있다."
   ]
  },
  {
   "cell_type": "code",
   "execution_count": 64,
   "metadata": {
    "ExecuteTime": {
     "end_time": "2021-07-09T07:27:13.326807Z",
     "start_time": "2021-07-09T07:27:13.283893Z"
    }
   },
   "outputs": [],
   "source": [
    "# 치우침 제거\n",
    "import numpy as np\n",
    "biased_variables = Train_X.columns[Train_X.skew().abs() > 1.5] # 왜도의 절대값이 1.5 이상인 컬럼만 가져오기\n",
    "Train_X[biased_variables] = Train_X[biased_variables] - Train_X[biased_variables].min() + 1 #가장 작은값이 1이 되도록\n",
    "Train_X[biased_variables] = np.sqrt(Train_X[biased_variables])"
   ]
  },
  {
   "cell_type": "code",
   "execution_count": 65,
   "metadata": {
    "ExecuteTime": {
     "end_time": "2021-07-09T07:27:13.356727Z",
     "start_time": "2021-07-09T07:27:13.328774Z"
    }
   },
   "outputs": [
    {
     "data": {
      "text/plain": [
       "평균할부율                                  2.76\n",
       "1_before_amount                        0.74\n",
       "2_before_amount                        0.73\n",
       "3_before_amount                        0.74\n",
       "1_before_amount_of_region              1.85\n",
       "2_before_amount_of_region              1.83\n",
       "3_before_amount_of_region              1.80\n",
       "1_before_amount_of_type_of_business   -0.27\n",
       "2_before_amount_of_type_of_business   -0.23\n",
       "3_before_amount_of_type_of_business   -0.21\n",
       "dtype: float64"
      ]
     },
     "execution_count": 65,
     "metadata": {},
     "output_type": "execute_result"
    }
   ],
   "source": [
    "# 데이터 편향 재확인\n",
    "\n",
    "Train_X.skew()"
   ]
  },
  {
   "cell_type": "markdown",
   "metadata": {},
   "source": [
    "## Data Scaling"
   ]
  },
  {
   "cell_type": "code",
   "execution_count": 66,
   "metadata": {
    "ExecuteTime": {
     "end_time": "2021-07-09T07:27:13.371658Z",
     "start_time": "2021-07-09T07:27:13.358722Z"
    }
   },
   "outputs": [
    {
     "data": {
      "text/plain": [
       "평균할부율                                    0.38\n",
       "1_before_amount                       3694.92\n",
       "2_before_amount                       3595.03\n",
       "3_before_amount                       3595.03\n",
       "1_before_amount_of_region             2588.24\n",
       "2_before_amount_of_region             2588.24\n",
       "3_before_amount_of_region             2588.24\n",
       "1_before_amount_of_type_of_business   2271.41\n",
       "2_before_amount_of_type_of_business   2581.72\n",
       "3_before_amount_of_type_of_business   2614.04\n",
       "dtype: float64"
      ]
     },
     "execution_count": 66,
     "metadata": {},
     "output_type": "execute_result"
    }
   ],
   "source": [
    "# feature간 스케일 차이 확인\n",
    "Train_X.max() - Train_X.min()"
   ]
  },
  {
   "cell_type": "markdown",
   "metadata": {},
   "source": [
    "- 데이터 생성할때부터, 몇몇 데이터는 전체 지역의 평균, 혹은 전체 업종의 평균이기 때문에 평균 할부율 등의 값은 스케일이 매우 작을 수 밖에 없다. \n",
    "- 확실한 검증을 위해 확인차 실행해본 것 + 생성된 파생변수간에 스케일 차이가 있는지 확인하기 위해 실행"
   ]
  },
  {
   "cell_type": "markdown",
   "metadata": {},
   "source": [
    "### MinMax 스케일링"
   ]
  },
  {
   "cell_type": "code",
   "execution_count": 67,
   "metadata": {
    "ExecuteTime": {
     "end_time": "2021-07-09T07:27:13.401607Z",
     "start_time": "2021-07-09T07:27:13.382630Z"
    }
   },
   "outputs": [],
   "source": [
    "from sklearn.preprocessing import MinMaxScaler\n",
    "scaler = MinMaxScaler().fit(Train_X)\n",
    "s_Train_X = scaler.transform(Train_X)\n",
    "s_Test_X = scaler.transform(Test_X)\n",
    "\n",
    "# scaling결과 DataFrame으로 변경\n",
    "Train_X = pd.DataFrame(s_Train_X, columns = Train_X.columns)\n",
    "Test_X = pd.DataFrame(s_Test_X, columns = Train_X.columns)\n",
    "\n",
    "# 불필요한 값 제거 (데이터가 많아 메모리 효율성을 위해 제거)\n",
    "del s_Train_X, s_Test_X"
   ]
  },
  {
   "cell_type": "markdown",
   "metadata": {},
   "source": [
    "# Modeling"
   ]
  },
  {
   "cell_type": "markdown",
   "metadata": {},
   "source": [
    "## 모델 학습 \n",
    "\n",
    "- 샘플 대비(약 3만개) 특징이 적고(10개), 특징의 타입이 전부 연속형으로 같다.\n",
    "- 데이터가 '연속형'일때 사용하기 좋은 모델에는 KNN, 신경망등이 대표적이다.\n",
    "- 다만, 신경망으로 쓰기엔 feature 수가 상대적으로 적어서 KNN을 선택\n",
    "- 나머지는 앙상블 모델을 사용해 예측력을 높이고자 했다.\n",
    "\n",
    "---\n",
    "\n",
    "- 모델 1. kNN\n",
    "- 모델 2. RandomForestRegressor\n",
    "- 모델 3. LightGBM\n",
    "\n",
    "- 특징 선택: 3 ~ 10개 (기준: f_regression)"
   ]
  },
  {
   "cell_type": "code",
   "execution_count": 68,
   "metadata": {
    "ExecuteTime": {
     "end_time": "2021-07-09T07:27:14.212445Z",
     "start_time": "2021-07-09T07:27:13.407563Z"
    }
   },
   "outputs": [],
   "source": [
    "# 모델링 모듈 불러오기\n",
    "from sklearn.model_selection import ParameterGrid\n",
    "from sklearn.neighbors import KNeighborsRegressor as KNN\n",
    "from sklearn.ensemble import RandomForestRegressor as RFR\n",
    "from lightgbm import LGBMRegressor as LGB\n",
    "from sklearn.feature_selection import *"
   ]
  },
  {
   "cell_type": "code",
   "execution_count": 69,
   "metadata": {
    "ExecuteTime": {
     "end_time": "2021-07-09T07:27:14.227371Z",
     "start_time": "2021-07-09T07:27:14.215403Z"
    }
   },
   "outputs": [
    {
     "name": "stdout",
     "output_type": "stream",
     "text": [
      "The number of cpus:  6\n"
     ]
    }
   ],
   "source": [
    "#Cpu의 개수를 확인 : 작업할때 cpu 를 최대한 활용하기 위해 사양 check \n",
    "n_cpu=os.cpu_count()\n",
    "print(\"The number of cpus: \",n_cpu)"
   ]
  },
  {
   "cell_type": "code",
   "execution_count": 70,
   "metadata": {
    "ExecuteTime": {
     "end_time": "2021-07-09T07:27:14.302170Z",
     "start_time": "2021-07-09T07:27:14.229365Z"
    }
   },
   "outputs": [
    {
     "name": "stdout",
     "output_type": "stream",
     "text": [
      "Expected number of threads: 12\n"
     ]
    }
   ],
   "source": [
    "# 일반적으로 보유한 cpu의 2배정도의 thread를 보유하고 있다\n",
    "n_thread=n_cpu*2\n",
    "print(\"Expected number of threads:\",n_thread)"
   ]
  },
  {
   "cell_type": "code",
   "execution_count": 71,
   "metadata": {
    "ExecuteTime": {
     "end_time": "2021-07-09T07:27:14.318128Z",
     "start_time": "2021-07-09T07:27:14.304166Z"
    }
   },
   "outputs": [],
   "source": [
    "# 파라미터 그리드 생성\n",
    "param_grid = dict() \n",
    "# 입력: 모델 함수, 출력: 모델의 하이퍼 파라미터 그리드\n",
    "\n",
    "# 모델별 파라미터 그리드 생성\n",
    "param_grid_for_knn = ParameterGrid({\"n_neighbors\": [1, 3, 5, 7],\n",
    "                           \"metric\":['euclidean', 'cosine']})\n",
    "\n",
    "param_grid_for_RFR = ParameterGrid({\"max_depth\": [1, 2, 3, 4],\n",
    "                           \"n_estimators\":[100, 200],\n",
    "                                   \"max_samples\":[0.5, 0.6, 0.7, None]})\n",
    "\n",
    "param_grid_for_LGB = ParameterGrid({\"max_depth\": [1, 2, 3, 4],\n",
    "                                   \"n_estimators\":[100, 200],\n",
    "                            \"learning_rate\": [0.05, 0.1, 0.15]})\n",
    "\n",
    "# 모델 - 하이퍼 파라미터 그리드를 param_grid에 추가\n",
    "param_grid[KNN] = param_grid_for_knn\n",
    "param_grid[RFR] = param_grid_for_RFR\n",
    "param_grid[LGB] = param_grid_for_LGB"
   ]
  },
  {
   "cell_type": "code",
   "execution_count": 72,
   "metadata": {
    "ExecuteTime": {
     "end_time": "2021-07-09T07:27:14.333088Z",
     "start_time": "2021-07-09T07:27:14.320123Z"
    }
   },
   "outputs": [
    {
     "data": {
      "text/plain": [
       "{sklearn.neighbors._regression.KNeighborsRegressor: <sklearn.model_selection._search.ParameterGrid at 0x1d7fa4899d0>,\n",
       " sklearn.ensemble._forest.RandomForestRegressor: <sklearn.model_selection._search.ParameterGrid at 0x1d7fa489940>,\n",
       " lightgbm.sklearn.LGBMRegressor: <sklearn.model_selection._search.ParameterGrid at 0x1d7fa4899a0>}"
      ]
     },
     "execution_count": 72,
     "metadata": {},
     "output_type": "execute_result"
    }
   ],
   "source": [
    "param_grid"
   ]
  },
  {
   "cell_type": "code",
   "execution_count": 73,
   "metadata": {
    "ExecuteTime": {
     "end_time": "2021-07-09T07:27:14.348049Z",
     "start_time": "2021-07-09T07:27:14.335082Z"
    }
   },
   "outputs": [
    {
     "data": {
      "text/plain": [
       "<sklearn.model_selection._search.ParameterGrid at 0x1d7fa4899d0>"
      ]
     },
     "execution_count": 73,
     "metadata": {},
     "output_type": "execute_result"
    }
   ],
   "source": [
    "param_grid[KNN]"
   ]
  },
  {
   "cell_type": "code",
   "execution_count": 74,
   "metadata": {
    "ExecuteTime": {
     "end_time": "2021-07-09T07:27:14.363008Z",
     "start_time": "2021-07-09T07:27:14.350042Z"
    }
   },
   "outputs": [
    {
     "data": {
      "text/plain": [
       "<sklearn.model_selection._search.ParameterGrid at 0x1d7fa489940>"
      ]
     },
     "execution_count": 74,
     "metadata": {},
     "output_type": "execute_result"
    }
   ],
   "source": [
    "param_grid[RFR]"
   ]
  },
  {
   "cell_type": "code",
   "execution_count": 75,
   "metadata": {
    "ExecuteTime": {
     "end_time": "2021-07-09T07:27:14.377967Z",
     "start_time": "2021-07-09T07:27:14.366000Z"
    }
   },
   "outputs": [
    {
     "data": {
      "text/plain": [
       "<sklearn.model_selection._search.ParameterGrid at 0x1d7fa4899a0>"
      ]
     },
     "execution_count": 75,
     "metadata": {},
     "output_type": "execute_result"
    }
   ],
   "source": [
    "param_grid[LGB]"
   ]
  },
  {
   "cell_type": "markdown",
   "metadata": {},
   "source": [
    "- Random Forest\n",
    "    - feature수가 적어서 max_depth를 낮게 잡아 단순화함 (불필요한 과적합 방지)\n",
    "    - 트리별 sample(max_samples)는 train_x의 표본이 충분해서 범위를 크게 잡지 않음\n",
    "---\n",
    "- LightGBM도 동일한 이유"
   ]
  },
  {
   "cell_type": "code",
   "execution_count": 76,
   "metadata": {
    "ExecuteTime": {
     "end_time": "2021-07-09T07:52:44.820184Z",
     "start_time": "2021-07-09T07:27:14.380960Z"
    },
    "scrolled": true
   },
   "outputs": [
    {
     "name": "stdout",
     "output_type": "stream",
     "text": [
      "iter_num:1/512, score: 4098819.44, best_score: 4098819.44\n",
      "iter_num:2/512, score: 3399445.36, best_score: 3399445.36\n",
      "iter_num:3/512, score: 3890470.9, best_score: 3399445.36\n",
      "iter_num:4/512, score: 4061793.26, best_score: 3399445.36\n",
      "iter_num:5/512, score: 2111002.08, best_score: 2111002.08\n",
      "iter_num:6/512, score: 1854831.56, best_score: 1854831.56\n",
      "iter_num:7/512, score: 1767116.96, best_score: 1767116.96\n",
      "iter_num:8/512, score: 1732777.37, best_score: 1732777.37\n",
      "iter_num:9/512, score: 3152779.99, best_score: 1732777.37\n",
      "iter_num:10/512, score: 3150001.39, best_score: 1732777.37\n",
      "iter_num:11/512, score: 3152624.5, best_score: 1732777.37\n",
      "iter_num:12/512, score: 3157880.88, best_score: 1732777.37\n",
      "iter_num:13/512, score: 3154657.65, best_score: 1732777.37\n",
      "iter_num:14/512, score: 3152385.96, best_score: 1732777.37\n",
      "iter_num:15/512, score: 3147677.66, best_score: 1732777.37\n",
      "iter_num:16/512, score: 3158188.02, best_score: 1732777.37\n",
      "iter_num:17/512, score: 3856460.89, best_score: 1732777.37\n",
      "iter_num:18/512, score: 3867556.21, best_score: 1732777.37\n",
      "iter_num:19/512, score: 3861113.94, best_score: 1732777.37\n",
      "iter_num:20/512, score: 3859896.4, best_score: 1732777.37\n",
      "iter_num:21/512, score: 3863969.88, best_score: 1732777.37\n",
      "iter_num:22/512, score: 3865326.61, best_score: 1732777.37\n",
      "iter_num:23/512, score: 3863467.44, best_score: 1732777.37\n",
      "iter_num:24/512, score: 3868027.63, best_score: 1732777.37\n",
      "iter_num:25/512, score: 4266960.51, best_score: 1732777.37\n",
      "iter_num:26/512, score: 4290476.57, best_score: 1732777.37\n",
      "iter_num:27/512, score: 4270209.56, best_score: 1732777.37\n",
      "iter_num:28/512, score: 4267287.5, best_score: 1732777.37\n",
      "iter_num:29/512, score: 4275020.55, best_score: 1732777.37\n",
      "iter_num:30/512, score: 4267420.14, best_score: 1732777.37\n",
      "iter_num:31/512, score: 4276169.43, best_score: 1732777.37\n",
      "iter_num:32/512, score: 4276588.04, best_score: 1732777.37\n",
      "iter_num:33/512, score: 4499405.08, best_score: 1732777.37\n",
      "iter_num:34/512, score: 4544891.49, best_score: 1732777.37\n",
      "iter_num:35/512, score: 4553407.97, best_score: 1732777.37\n",
      "iter_num:36/512, score: 4529068.7, best_score: 1732777.37\n",
      "iter_num:37/512, score: 4493140.7, best_score: 1732777.37\n",
      "iter_num:38/512, score: 4529722.09, best_score: 1732777.37\n",
      "iter_num:39/512, score: 4539751.55, best_score: 1732777.37\n",
      "iter_num:40/512, score: 4533240.49, best_score: 1732777.37\n",
      "iter_num:41/512, score: 4206033.49, best_score: 1732777.37\n",
      "iter_num:42/512, score: 4502153.7, best_score: 1732777.37\n",
      "iter_num:43/512, score: 4492506.19, best_score: 1732777.37\n",
      "iter_num:44/512, score: 4613314.8, best_score: 1732777.37\n",
      "iter_num:45/512, score: 4931800.91, best_score: 1732777.37\n",
      "iter_num:46/512, score: 5039831.77, best_score: 1732777.37\n",
      "iter_num:47/512, score: 4846557.52, best_score: 1732777.37\n",
      "iter_num:48/512, score: 4701203.55, best_score: 1732777.37\n",
      "iter_num:49/512, score: 4509875.19, best_score: 1732777.37\n",
      "iter_num:50/512, score: 4513916.76, best_score: 1732777.37\n",
      "iter_num:51/512, score: 4649127.48, best_score: 1732777.37\n",
      "iter_num:52/512, score: 4561177.21, best_score: 1732777.37\n",
      "iter_num:53/512, score: 4649656.48, best_score: 1732777.37\n",
      "iter_num:54/512, score: 4946335.6, best_score: 1732777.37\n",
      "iter_num:55/512, score: 4446617.29, best_score: 1732777.37\n",
      "iter_num:56/512, score: 4933997.66, best_score: 1732777.37\n",
      "iter_num:57/512, score: 4575151.0, best_score: 1732777.37\n",
      "iter_num:58/512, score: 4335866.28, best_score: 1732777.37\n",
      "iter_num:59/512, score: 4661679.77, best_score: 1732777.37\n",
      "iter_num:60/512, score: 4852176.65, best_score: 1732777.37\n",
      "iter_num:61/512, score: 4845613.61, best_score: 1732777.37\n",
      "iter_num:62/512, score: 5241318.96, best_score: 1732777.37\n",
      "iter_num:63/512, score: 5366193.77, best_score: 1732777.37\n",
      "iter_num:64/512, score: 5435723.74, best_score: 1732777.37\n",
      "iter_num:65/512, score: 4115484.34, best_score: 1732777.37\n",
      "iter_num:66/512, score: 3380563.48, best_score: 1732777.37\n",
      "iter_num:67/512, score: 3881755.07, best_score: 1732777.37\n",
      "iter_num:68/512, score: 4051456.18, best_score: 1732777.37\n",
      "iter_num:69/512, score: 2060785.16, best_score: 1732777.37\n",
      "iter_num:70/512, score: 1818204.24, best_score: 1732777.37\n",
      "iter_num:71/512, score: 1735855.0, best_score: 1732777.37\n",
      "iter_num:72/512, score: 1700359.29, best_score: 1700359.29\n",
      "iter_num:73/512, score: 3149449.22, best_score: 1700359.29\n",
      "iter_num:74/512, score: 3149869.11, best_score: 1700359.29\n",
      "iter_num:75/512, score: 3154312.5, best_score: 1700359.29\n",
      "iter_num:76/512, score: 3156671.79, best_score: 1700359.29\n",
      "iter_num:77/512, score: 3148765.16, best_score: 1700359.29\n",
      "iter_num:78/512, score: 3155157.99, best_score: 1700359.29\n",
      "iter_num:79/512, score: 3155688.39, best_score: 1700359.29\n",
      "iter_num:80/512, score: 3157304.39, best_score: 1700359.29\n",
      "iter_num:81/512, score: 3874084.53, best_score: 1700359.29\n",
      "iter_num:82/512, score: 3862413.44, best_score: 1700359.29\n",
      "iter_num:83/512, score: 3848833.84, best_score: 1700359.29\n",
      "iter_num:84/512, score: 3866346.94, best_score: 1700359.29\n",
      "iter_num:85/512, score: 3856953.8, best_score: 1700359.29\n",
      "iter_num:86/512, score: 3865251.27, best_score: 1700359.29\n",
      "iter_num:87/512, score: 3860226.42, best_score: 1700359.29\n",
      "iter_num:88/512, score: 3868070.93, best_score: 1700359.29\n",
      "iter_num:89/512, score: 4263031.61, best_score: 1700359.29\n",
      "iter_num:90/512, score: 4279142.74, best_score: 1700359.29\n",
      "iter_num:91/512, score: 4270765.07, best_score: 1700359.29\n",
      "iter_num:92/512, score: 4268400.28, best_score: 1700359.29\n",
      "iter_num:93/512, score: 4275205.7, best_score: 1700359.29\n",
      "iter_num:94/512, score: 4269824.31, best_score: 1700359.29\n",
      "iter_num:95/512, score: 4257678.78, best_score: 1700359.29\n",
      "iter_num:96/512, score: 4268876.23, best_score: 1700359.29\n",
      "iter_num:97/512, score: 4463960.21, best_score: 1700359.29\n",
      "iter_num:98/512, score: 4536965.48, best_score: 1700359.29\n",
      "iter_num:99/512, score: 4548273.12, best_score: 1700359.29\n",
      "iter_num:100/512, score: 4521055.83, best_score: 1700359.29\n",
      "iter_num:101/512, score: 4540236.36, best_score: 1700359.29\n",
      "iter_num:102/512, score: 4539898.05, best_score: 1700359.29\n",
      "iter_num:103/512, score: 4534282.24, best_score: 1700359.29\n",
      "iter_num:104/512, score: 4529211.59, best_score: 1700359.29\n",
      "iter_num:105/512, score: 4206033.49, best_score: 1700359.29\n",
      "iter_num:106/512, score: 4586996.51, best_score: 1700359.29\n",
      "iter_num:107/512, score: 4624903.02, best_score: 1700359.29\n",
      "iter_num:108/512, score: 4387477.57, best_score: 1700359.29\n",
      "iter_num:109/512, score: 4348327.4, best_score: 1700359.29\n",
      "iter_num:110/512, score: 4124972.64, best_score: 1700359.29\n",
      "iter_num:111/512, score: 4079566.21, best_score: 1700359.29\n",
      "iter_num:112/512, score: 3821215.7, best_score: 1700359.29\n",
      "iter_num:113/512, score: 4600603.3, best_score: 1700359.29\n",
      "iter_num:114/512, score: 4626244.78, best_score: 1700359.29\n",
      "iter_num:115/512, score: 4394644.12, best_score: 1700359.29\n",
      "iter_num:116/512, score: 4046177.52, best_score: 1700359.29\n",
      "iter_num:117/512, score: 4234874.99, best_score: 1700359.29\n",
      "iter_num:118/512, score: 4138659.66, best_score: 1700359.29\n",
      "iter_num:119/512, score: 4104454.76, best_score: 1700359.29\n",
      "iter_num:120/512, score: 4288354.06, best_score: 1700359.29\n",
      "iter_num:121/512, score: 4670215.11, best_score: 1700359.29\n",
      "iter_num:122/512, score: 4440909.12, best_score: 1700359.29\n",
      "iter_num:123/512, score: 4012723.7, best_score: 1700359.29\n",
      "iter_num:124/512, score: 3912591.79, best_score: 1700359.29\n",
      "iter_num:125/512, score: 4203438.91, best_score: 1700359.29\n",
      "iter_num:126/512, score: 4572227.69, best_score: 1700359.29\n",
      "iter_num:127/512, score: 4316822.51, best_score: 1700359.29\n",
      "iter_num:128/512, score: 4479662.06, best_score: 1700359.29\n",
      "iter_num:129/512, score: 3620926.74, best_score: 1700359.29\n",
      "iter_num:130/512, score: 3407193.49, best_score: 1700359.29\n",
      "iter_num:131/512, score: 3953687.13, best_score: 1700359.29\n",
      "iter_num:132/512, score: 4352872.93, best_score: 1700359.29\n",
      "iter_num:133/512, score: 2069136.13, best_score: 1700359.29\n",
      "iter_num:134/512, score: 1826022.16, best_score: 1700359.29\n",
      "iter_num:135/512, score: 1743515.93, best_score: 1700359.29\n",
      "iter_num:136/512, score: 1704814.45, best_score: 1700359.29\n",
      "iter_num:137/512, score: 3149768.16, best_score: 1700359.29\n",
      "iter_num:138/512, score: 3158944.71, best_score: 1700359.29\n",
      "iter_num:139/512, score: 3150926.35, best_score: 1700359.29\n"
     ]
    },
    {
     "name": "stdout",
     "output_type": "stream",
     "text": [
      "iter_num:140/512, score: 3160890.99, best_score: 1700359.29\n",
      "iter_num:141/512, score: 3152383.87, best_score: 1700359.29\n",
      "iter_num:142/512, score: 3154408.48, best_score: 1700359.29\n",
      "iter_num:143/512, score: 3157212.8, best_score: 1700359.29\n",
      "iter_num:144/512, score: 3157567.95, best_score: 1700359.29\n",
      "iter_num:145/512, score: 3861111.37, best_score: 1700359.29\n",
      "iter_num:146/512, score: 3864659.73, best_score: 1700359.29\n",
      "iter_num:147/512, score: 3869631.45, best_score: 1700359.29\n",
      "iter_num:148/512, score: 3866929.77, best_score: 1700359.29\n",
      "iter_num:149/512, score: 3859119.87, best_score: 1700359.29\n",
      "iter_num:150/512, score: 3864453.25, best_score: 1700359.29\n",
      "iter_num:151/512, score: 3865299.39, best_score: 1700359.29\n",
      "iter_num:152/512, score: 3869085.67, best_score: 1700359.29\n",
      "iter_num:153/512, score: 4278817.53, best_score: 1700359.29\n",
      "iter_num:154/512, score: 4258950.48, best_score: 1700359.29\n",
      "iter_num:155/512, score: 4269922.42, best_score: 1700359.29\n",
      "iter_num:156/512, score: 4273461.23, best_score: 1700359.29\n",
      "iter_num:157/512, score: 4251874.35, best_score: 1700359.29\n",
      "iter_num:158/512, score: 4265474.27, best_score: 1700359.29\n",
      "iter_num:159/512, score: 4260720.14, best_score: 1700359.29\n",
      "iter_num:160/512, score: 4258017.89, best_score: 1700359.29\n",
      "iter_num:161/512, score: 4484427.87, best_score: 1700359.29\n",
      "iter_num:162/512, score: 4541001.09, best_score: 1700359.29\n",
      "iter_num:163/512, score: 4527072.09, best_score: 1700359.29\n",
      "iter_num:164/512, score: 4547022.48, best_score: 1700359.29\n",
      "iter_num:165/512, score: 4537502.19, best_score: 1700359.29\n",
      "iter_num:166/512, score: 4533395.42, best_score: 1700359.29\n",
      "iter_num:167/512, score: 4534813.47, best_score: 1700359.29\n",
      "iter_num:168/512, score: 4506146.06, best_score: 1700359.29\n",
      "iter_num:169/512, score: 4206033.49, best_score: 1700359.29\n",
      "iter_num:170/512, score: 4583473.78, best_score: 1700359.29\n",
      "iter_num:171/512, score: 4627799.92, best_score: 1700359.29\n",
      "iter_num:172/512, score: 4434332.68, best_score: 1700359.29\n",
      "iter_num:173/512, score: 4312783.11, best_score: 1700359.29\n",
      "iter_num:174/512, score: 4070508.94, best_score: 1700359.29\n",
      "iter_num:175/512, score: 4148195.25, best_score: 1700359.29\n",
      "iter_num:176/512, score: 3905679.26, best_score: 1700359.29\n",
      "iter_num:177/512, score: 4596815.43, best_score: 1700359.29\n",
      "iter_num:178/512, score: 4628904.68, best_score: 1700359.29\n",
      "iter_num:179/512, score: 4403065.58, best_score: 1700359.29\n",
      "iter_num:180/512, score: 3935324.82, best_score: 1700359.29\n",
      "iter_num:181/512, score: 3930518.66, best_score: 1700359.29\n",
      "iter_num:182/512, score: 4144889.62, best_score: 1700359.29\n",
      "iter_num:183/512, score: 3894463.9, best_score: 1700359.29\n",
      "iter_num:184/512, score: 4275734.87, best_score: 1700359.29\n",
      "iter_num:185/512, score: 4671070.85, best_score: 1700359.29\n",
      "iter_num:186/512, score: 4426433.02, best_score: 1700359.29\n",
      "iter_num:187/512, score: 4052689.29, best_score: 1700359.29\n",
      "iter_num:188/512, score: 3797149.12, best_score: 1700359.29\n",
      "iter_num:189/512, score: 3859996.24, best_score: 1700359.29\n",
      "iter_num:190/512, score: 4174760.94, best_score: 1700359.29\n",
      "iter_num:191/512, score: 4183582.82, best_score: 1700359.29\n",
      "iter_num:192/512, score: 4351819.82, best_score: 1700359.29\n",
      "iter_num:193/512, score: 2961764.8, best_score: 1700359.29\n",
      "iter_num:194/512, score: 3347667.3, best_score: 1700359.29\n",
      "iter_num:195/512, score: 4027002.83, best_score: 1700359.29\n",
      "iter_num:196/512, score: 4346851.79, best_score: 1700359.29\n",
      "iter_num:197/512, score: 2072274.62, best_score: 1700359.29\n",
      "iter_num:198/512, score: 1828137.34, best_score: 1700359.29\n",
      "iter_num:199/512, score: 1748522.7, best_score: 1700359.29\n",
      "iter_num:200/512, score: 1711969.28, best_score: 1700359.29\n",
      "iter_num:201/512, score: 3156880.63, best_score: 1700359.29\n",
      "iter_num:202/512, score: 3155025.83, best_score: 1700359.29\n",
      "iter_num:203/512, score: 3155724.81, best_score: 1700359.29\n",
      "iter_num:204/512, score: 3152377.0, best_score: 1700359.29\n",
      "iter_num:205/512, score: 3157274.8, best_score: 1700359.29\n",
      "iter_num:206/512, score: 3158630.78, best_score: 1700359.29\n",
      "iter_num:207/512, score: 3151275.56, best_score: 1700359.29\n",
      "iter_num:208/512, score: 3153485.2, best_score: 1700359.29\n",
      "iter_num:209/512, score: 3871690.55, best_score: 1700359.29\n",
      "iter_num:210/512, score: 3870703.15, best_score: 1700359.29\n",
      "iter_num:211/512, score: 3864438.47, best_score: 1700359.29\n",
      "iter_num:212/512, score: 3863849.48, best_score: 1700359.29\n",
      "iter_num:213/512, score: 3872923.41, best_score: 1700359.29\n",
      "iter_num:214/512, score: 3868611.55, best_score: 1700359.29\n",
      "iter_num:215/512, score: 3862309.2, best_score: 1700359.29\n",
      "iter_num:216/512, score: 3865538.99, best_score: 1700359.29\n",
      "iter_num:217/512, score: 4265577.46, best_score: 1700359.29\n",
      "iter_num:218/512, score: 4265550.77, best_score: 1700359.29\n",
      "iter_num:219/512, score: 4254952.55, best_score: 1700359.29\n",
      "iter_num:220/512, score: 4271713.46, best_score: 1700359.29\n",
      "iter_num:221/512, score: 4263409.6, best_score: 1700359.29\n",
      "iter_num:222/512, score: 4264160.89, best_score: 1700359.29\n",
      "iter_num:223/512, score: 4263900.41, best_score: 1700359.29\n",
      "iter_num:224/512, score: 4261541.72, best_score: 1700359.29\n",
      "iter_num:225/512, score: 4415429.31, best_score: 1700359.29\n",
      "iter_num:226/512, score: 4513651.96, best_score: 1700359.29\n",
      "iter_num:227/512, score: 4538035.3, best_score: 1700359.29\n",
      "iter_num:228/512, score: 4495018.7, best_score: 1700359.29\n",
      "iter_num:229/512, score: 4514534.26, best_score: 1700359.29\n",
      "iter_num:230/512, score: 4539135.62, best_score: 1700359.29\n",
      "iter_num:231/512, score: 4527473.94, best_score: 1700359.29\n",
      "iter_num:232/512, score: 4535298.96, best_score: 1700359.29\n",
      "iter_num:233/512, score: 4206033.49, best_score: 1700359.29\n",
      "iter_num:234/512, score: 4564191.43, best_score: 1700359.29\n",
      "iter_num:235/512, score: 4568156.98, best_score: 1700359.29\n",
      "iter_num:236/512, score: 4471041.19, best_score: 1700359.29\n",
      "iter_num:237/512, score: 4341062.69, best_score: 1700359.29\n",
      "iter_num:238/512, score: 4206151.21, best_score: 1700359.29\n",
      "iter_num:239/512, score: 4049121.43, best_score: 1700359.29\n",
      "iter_num:240/512, score: 3793365.82, best_score: 1700359.29\n",
      "iter_num:241/512, score: 4569411.72, best_score: 1700359.29\n",
      "iter_num:242/512, score: 4628834.08, best_score: 1700359.29\n",
      "iter_num:243/512, score: 4252564.48, best_score: 1700359.29\n",
      "iter_num:244/512, score: 3918614.29, best_score: 1700359.29\n",
      "iter_num:245/512, score: 3979521.07, best_score: 1700359.29\n",
      "iter_num:246/512, score: 3960366.14, best_score: 1700359.29\n",
      "iter_num:247/512, score: 4025787.19, best_score: 1700359.29\n",
      "iter_num:248/512, score: 4020424.75, best_score: 1700359.29\n",
      "iter_num:249/512, score: 4644907.36, best_score: 1700359.29\n",
      "iter_num:250/512, score: 4449702.05, best_score: 1700359.29\n",
      "iter_num:251/512, score: 4095679.92, best_score: 1700359.29\n",
      "iter_num:252/512, score: 3900321.66, best_score: 1700359.29\n",
      "iter_num:253/512, score: 4184184.89, best_score: 1700359.29\n",
      "iter_num:254/512, score: 4469549.65, best_score: 1700359.29\n",
      "iter_num:255/512, score: 4058843.47, best_score: 1700359.29\n",
      "iter_num:256/512, score: 3860084.42, best_score: 1700359.29\n",
      "iter_num:257/512, score: 2593935.95, best_score: 1700359.29\n",
      "iter_num:258/512, score: 3229919.38, best_score: 1700359.29\n",
      "iter_num:259/512, score: 3967873.76, best_score: 1700359.29\n",
      "iter_num:260/512, score: 4262742.99, best_score: 1700359.29\n",
      "iter_num:261/512, score: 2282169.28, best_score: 1700359.29\n",
      "iter_num:262/512, score: 2020357.15, best_score: 1700359.29\n",
      "iter_num:263/512, score: 1951332.49, best_score: 1700359.29\n",
      "iter_num:264/512, score: 1903785.58, best_score: 1700359.29\n",
      "iter_num:265/512, score: 3148331.61, best_score: 1700359.29\n",
      "iter_num:266/512, score: 3151141.76, best_score: 1700359.29\n",
      "iter_num:267/512, score: 3156476.76, best_score: 1700359.29\n",
      "iter_num:268/512, score: 3149783.58, best_score: 1700359.29\n",
      "iter_num:269/512, score: 3156009.26, best_score: 1700359.29\n",
      "iter_num:270/512, score: 3150029.03, best_score: 1700359.29\n",
      "iter_num:271/512, score: 3161591.04, best_score: 1700359.29\n",
      "iter_num:272/512, score: 3154099.95, best_score: 1700359.29\n",
      "iter_num:273/512, score: 3869956.45, best_score: 1700359.29\n",
      "iter_num:274/512, score: 3865285.01, best_score: 1700359.29\n",
      "iter_num:275/512, score: 3876345.67, best_score: 1700359.29\n",
      "iter_num:276/512, score: 3868369.96, best_score: 1700359.29\n"
     ]
    },
    {
     "name": "stdout",
     "output_type": "stream",
     "text": [
      "iter_num:277/512, score: 3869699.31, best_score: 1700359.29\n",
      "iter_num:278/512, score: 3860387.6, best_score: 1700359.29\n",
      "iter_num:279/512, score: 3871790.18, best_score: 1700359.29\n",
      "iter_num:280/512, score: 3876943.3, best_score: 1700359.29\n",
      "iter_num:281/512, score: 4283345.58, best_score: 1700359.29\n",
      "iter_num:282/512, score: 4273497.32, best_score: 1700359.29\n",
      "iter_num:283/512, score: 4280578.09, best_score: 1700359.29\n",
      "iter_num:284/512, score: 4258829.28, best_score: 1700359.29\n",
      "iter_num:285/512, score: 4262152.59, best_score: 1700359.29\n",
      "iter_num:286/512, score: 4257305.46, best_score: 1700359.29\n",
      "iter_num:287/512, score: 4259081.36, best_score: 1700359.29\n",
      "iter_num:288/512, score: 4268759.81, best_score: 1700359.29\n",
      "iter_num:289/512, score: 4542421.18, best_score: 1700359.29\n",
      "iter_num:290/512, score: 4486035.52, best_score: 1700359.29\n",
      "iter_num:291/512, score: 4544747.07, best_score: 1700359.29\n",
      "iter_num:292/512, score: 4537082.38, best_score: 1700359.29\n",
      "iter_num:293/512, score: 4503247.4, best_score: 1700359.29\n",
      "iter_num:294/512, score: 4493731.9, best_score: 1700359.29\n",
      "iter_num:295/512, score: 4528513.15, best_score: 1700359.29\n",
      "iter_num:296/512, score: 4532231.0, best_score: 1700359.29\n",
      "iter_num:297/512, score: 4206033.49, best_score: 1700359.29\n",
      "iter_num:298/512, score: 4552182.11, best_score: 1700359.29\n",
      "iter_num:299/512, score: 4554289.17, best_score: 1700359.29\n",
      "iter_num:300/512, score: 4381352.12, best_score: 1700359.29\n",
      "iter_num:301/512, score: 4429823.1, best_score: 1700359.29\n",
      "iter_num:302/512, score: 4297121.4, best_score: 1700359.29\n",
      "iter_num:303/512, score: 4226519.58, best_score: 1700359.29\n",
      "iter_num:304/512, score: 4502767.55, best_score: 1700359.29\n",
      "iter_num:305/512, score: 4554415.57, best_score: 1700359.29\n",
      "iter_num:306/512, score: 4540400.84, best_score: 1700359.29\n",
      "iter_num:307/512, score: 4323951.01, best_score: 1700359.29\n",
      "iter_num:308/512, score: 4488994.36, best_score: 1700359.29\n",
      "iter_num:309/512, score: 4278331.63, best_score: 1700359.29\n",
      "iter_num:310/512, score: 4714084.07, best_score: 1700359.29\n",
      "iter_num:311/512, score: 4458549.8, best_score: 1700359.29\n",
      "iter_num:312/512, score: 4720716.64, best_score: 1700359.29\n",
      "iter_num:313/512, score: 4606259.29, best_score: 1700359.29\n",
      "iter_num:314/512, score: 4394440.19, best_score: 1700359.29\n",
      "iter_num:315/512, score: 4425787.78, best_score: 1700359.29\n",
      "iter_num:316/512, score: 4654726.91, best_score: 1700359.29\n",
      "iter_num:317/512, score: 4654978.22, best_score: 1700359.29\n",
      "iter_num:318/512, score: 4884047.11, best_score: 1700359.29\n",
      "iter_num:319/512, score: 4600741.94, best_score: 1700359.29\n",
      "iter_num:320/512, score: 4765486.53, best_score: 1700359.29\n",
      "iter_num:321/512, score: 5028960.18, best_score: 1700359.29\n",
      "iter_num:322/512, score: 4642933.48, best_score: 1700359.29\n",
      "iter_num:323/512, score: 4264512.55, best_score: 1700359.29\n",
      "iter_num:324/512, score: 4278777.83, best_score: 1700359.29\n",
      "iter_num:325/512, score: 2310877.54, best_score: 1700359.29\n",
      "iter_num:326/512, score: 2060800.36, best_score: 1700359.29\n",
      "iter_num:327/512, score: 1975905.02, best_score: 1700359.29\n",
      "iter_num:328/512, score: 1931170.04, best_score: 1700359.29\n",
      "iter_num:329/512, score: 3150130.36, best_score: 1700359.29\n",
      "iter_num:330/512, score: 3149828.57, best_score: 1700359.29\n",
      "iter_num:331/512, score: 3164569.91, best_score: 1700359.29\n",
      "iter_num:332/512, score: 3152326.86, best_score: 1700359.29\n",
      "iter_num:333/512, score: 3149492.11, best_score: 1700359.29\n",
      "iter_num:334/512, score: 3154764.97, best_score: 1700359.29\n",
      "iter_num:335/512, score: 3153078.45, best_score: 1700359.29\n",
      "iter_num:336/512, score: 3153626.84, best_score: 1700359.29\n",
      "iter_num:337/512, score: 3859140.79, best_score: 1700359.29\n",
      "iter_num:338/512, score: 3875612.95, best_score: 1700359.29\n",
      "iter_num:339/512, score: 3860121.28, best_score: 1700359.29\n",
      "iter_num:340/512, score: 3869763.75, best_score: 1700359.29\n",
      "iter_num:341/512, score: 3859477.33, best_score: 1700359.29\n",
      "iter_num:342/512, score: 3864192.35, best_score: 1700359.29\n",
      "iter_num:343/512, score: 3863568.23, best_score: 1700359.29\n",
      "iter_num:344/512, score: 3858596.51, best_score: 1700359.29\n",
      "iter_num:345/512, score: 4266255.92, best_score: 1700359.29\n",
      "iter_num:346/512, score: 4274911.35, best_score: 1700359.29\n",
      "iter_num:347/512, score: 4274448.13, best_score: 1700359.29\n",
      "iter_num:348/512, score: 4270553.12, best_score: 1700359.29\n",
      "iter_num:349/512, score: 4264640.11, best_score: 1700359.29\n",
      "iter_num:350/512, score: 4276031.95, best_score: 1700359.29\n",
      "iter_num:351/512, score: 4261050.84, best_score: 1700359.29\n",
      "iter_num:352/512, score: 4264777.46, best_score: 1700359.29\n",
      "iter_num:353/512, score: 4515604.64, best_score: 1700359.29\n",
      "iter_num:354/512, score: 4538092.13, best_score: 1700359.29\n",
      "iter_num:355/512, score: 4495314.98, best_score: 1700359.29\n",
      "iter_num:356/512, score: 4528498.3, best_score: 1700359.29\n",
      "iter_num:357/512, score: 4552987.42, best_score: 1700359.29\n",
      "iter_num:358/512, score: 4485744.13, best_score: 1700359.29\n",
      "iter_num:359/512, score: 4536866.46, best_score: 1700359.29\n",
      "iter_num:360/512, score: 4527983.49, best_score: 1700359.29\n",
      "iter_num:361/512, score: 4206033.49, best_score: 1700359.29\n",
      "iter_num:362/512, score: 4551868.13, best_score: 1700359.29\n",
      "iter_num:363/512, score: 4514868.85, best_score: 1700359.29\n",
      "iter_num:364/512, score: 4512898.44, best_score: 1700359.29\n",
      "iter_num:365/512, score: 4405352.14, best_score: 1700359.29\n",
      "iter_num:366/512, score: 4364333.32, best_score: 1700359.29\n",
      "iter_num:367/512, score: 4250566.43, best_score: 1700359.29\n",
      "iter_num:368/512, score: 4426987.81, best_score: 1700359.29\n",
      "iter_num:369/512, score: 4558985.96, best_score: 1700359.29\n",
      "iter_num:370/512, score: 4502884.46, best_score: 1700359.29\n",
      "iter_num:371/512, score: 4508164.22, best_score: 1700359.29\n",
      "iter_num:372/512, score: 4499088.13, best_score: 1700359.29\n",
      "iter_num:373/512, score: 4364817.96, best_score: 1700359.29\n",
      "iter_num:374/512, score: 4683685.7, best_score: 1700359.29\n",
      "iter_num:375/512, score: 4495751.08, best_score: 1700359.29\n",
      "iter_num:376/512, score: 4610029.86, best_score: 1700359.29\n",
      "iter_num:377/512, score: 4573609.49, best_score: 1700359.29\n",
      "iter_num:378/512, score: 4442883.38, best_score: 1700359.29\n",
      "iter_num:379/512, score: 4488682.09, best_score: 1700359.29\n",
      "iter_num:380/512, score: 4581630.63, best_score: 1700359.29\n",
      "iter_num:381/512, score: 4528705.74, best_score: 1700359.29\n",
      "iter_num:382/512, score: 4742997.12, best_score: 1700359.29\n",
      "iter_num:383/512, score: 4540534.96, best_score: 1700359.29\n",
      "iter_num:384/512, score: 4757753.16, best_score: 1700359.29\n",
      "iter_num:385/512, score: 4687044.29, best_score: 1700359.29\n",
      "iter_num:386/512, score: 4666418.36, best_score: 1700359.29\n",
      "iter_num:387/512, score: 4252304.58, best_score: 1700359.29\n",
      "iter_num:388/512, score: 4224391.21, best_score: 1700359.29\n",
      "iter_num:389/512, score: 2296237.74, best_score: 1700359.29\n",
      "iter_num:390/512, score: 2073080.84, best_score: 1700359.29\n",
      "iter_num:391/512, score: 1987835.91, best_score: 1700359.29\n",
      "iter_num:392/512, score: 1952332.46, best_score: 1700359.29\n",
      "iter_num:393/512, score: 3146877.58, best_score: 1700359.29\n",
      "iter_num:394/512, score: 3152712.08, best_score: 1700359.29\n",
      "iter_num:395/512, score: 3151034.73, best_score: 1700359.29\n",
      "iter_num:396/512, score: 3155064.6, best_score: 1700359.29\n",
      "iter_num:397/512, score: 3154007.39, best_score: 1700359.29\n",
      "iter_num:398/512, score: 3158267.14, best_score: 1700359.29\n",
      "iter_num:399/512, score: 3155755.4, best_score: 1700359.29\n",
      "iter_num:400/512, score: 3153852.36, best_score: 1700359.29\n",
      "iter_num:401/512, score: 3867482.45, best_score: 1700359.29\n",
      "iter_num:402/512, score: 3863229.32, best_score: 1700359.29\n",
      "iter_num:403/512, score: 3871786.19, best_score: 1700359.29\n",
      "iter_num:404/512, score: 3870422.28, best_score: 1700359.29\n",
      "iter_num:405/512, score: 3866265.52, best_score: 1700359.29\n",
      "iter_num:406/512, score: 3872079.07, best_score: 1700359.29\n",
      "iter_num:407/512, score: 3859307.01, best_score: 1700359.29\n",
      "iter_num:408/512, score: 3854848.01, best_score: 1700359.29\n",
      "iter_num:409/512, score: 4287495.54, best_score: 1700359.29\n",
      "iter_num:410/512, score: 4263959.2, best_score: 1700359.29\n",
      "iter_num:411/512, score: 4278215.01, best_score: 1700359.29\n",
      "iter_num:412/512, score: 4264442.33, best_score: 1700359.29\n",
      "iter_num:413/512, score: 4273111.94, best_score: 1700359.29\n"
     ]
    },
    {
     "name": "stdout",
     "output_type": "stream",
     "text": [
      "iter_num:414/512, score: 4270912.74, best_score: 1700359.29\n",
      "iter_num:415/512, score: 4256161.66, best_score: 1700359.29\n",
      "iter_num:416/512, score: 4258457.76, best_score: 1700359.29\n",
      "iter_num:417/512, score: 4511149.44, best_score: 1700359.29\n",
      "iter_num:418/512, score: 4521483.1, best_score: 1700359.29\n",
      "iter_num:419/512, score: 4531992.75, best_score: 1700359.29\n",
      "iter_num:420/512, score: 4519005.59, best_score: 1700359.29\n",
      "iter_num:421/512, score: 4535800.79, best_score: 1700359.29\n",
      "iter_num:422/512, score: 4497848.09, best_score: 1700359.29\n",
      "iter_num:423/512, score: 4539390.12, best_score: 1700359.29\n",
      "iter_num:424/512, score: 4535468.19, best_score: 1700359.29\n",
      "iter_num:425/512, score: 4206033.49, best_score: 1700359.29\n",
      "iter_num:426/512, score: 4551868.13, best_score: 1700359.29\n",
      "iter_num:427/512, score: 4583064.26, best_score: 1700359.29\n",
      "iter_num:428/512, score: 4618585.19, best_score: 1700359.29\n",
      "iter_num:429/512, score: 4495382.45, best_score: 1700359.29\n",
      "iter_num:430/512, score: 4522385.93, best_score: 1700359.29\n",
      "iter_num:431/512, score: 4283766.33, best_score: 1700359.29\n",
      "iter_num:432/512, score: 4620270.74, best_score: 1700359.29\n",
      "iter_num:433/512, score: 4558985.96, best_score: 1700359.29\n",
      "iter_num:434/512, score: 4524990.32, best_score: 1700359.29\n",
      "iter_num:435/512, score: 4584294.53, best_score: 1700359.29\n",
      "iter_num:436/512, score: 4501041.07, best_score: 1700359.29\n",
      "iter_num:437/512, score: 4510091.3, best_score: 1700359.29\n",
      "iter_num:438/512, score: 4613941.95, best_score: 1700359.29\n",
      "iter_num:439/512, score: 4575790.21, best_score: 1700359.29\n",
      "iter_num:440/512, score: 4606760.33, best_score: 1700359.29\n",
      "iter_num:441/512, score: 4554226.7, best_score: 1700359.29\n",
      "iter_num:442/512, score: 4484391.58, best_score: 1700359.29\n",
      "iter_num:443/512, score: 4568051.14, best_score: 1700359.29\n",
      "iter_num:444/512, score: 4577131.57, best_score: 1700359.29\n",
      "iter_num:445/512, score: 4628579.59, best_score: 1700359.29\n",
      "iter_num:446/512, score: 4757046.51, best_score: 1700359.29\n",
      "iter_num:447/512, score: 4594551.75, best_score: 1700359.29\n",
      "iter_num:448/512, score: 4600388.63, best_score: 1700359.29\n",
      "iter_num:449/512, score: 3929386.88, best_score: 1700359.29\n",
      "iter_num:450/512, score: 2869881.49, best_score: 1700359.29\n",
      "iter_num:451/512, score: 2965114.27, best_score: 1700359.29\n",
      "iter_num:452/512, score: 2933765.14, best_score: 1700359.29\n",
      "iter_num:453/512, score: 2882339.85, best_score: 1700359.29\n",
      "iter_num:454/512, score: 2558810.58, best_score: 1700359.29\n",
      "iter_num:455/512, score: 2473022.35, best_score: 1700359.29\n",
      "iter_num:456/512, score: 2438094.02, best_score: 1700359.29\n",
      "iter_num:457/512, score: 3151357.73, best_score: 1700359.29\n",
      "iter_num:458/512, score: 3155017.37, best_score: 1700359.29\n",
      "iter_num:459/512, score: 3151041.81, best_score: 1700359.29\n",
      "iter_num:460/512, score: 3156688.73, best_score: 1700359.29\n",
      "iter_num:461/512, score: 3153437.93, best_score: 1700359.29\n",
      "iter_num:462/512, score: 3151963.91, best_score: 1700359.29\n",
      "iter_num:463/512, score: 3152844.94, best_score: 1700359.29\n",
      "iter_num:464/512, score: 3147861.64, best_score: 1700359.29\n",
      "iter_num:465/512, score: 3871728.23, best_score: 1700359.29\n",
      "iter_num:466/512, score: 3868197.16, best_score: 1700359.29\n",
      "iter_num:467/512, score: 3865289.61, best_score: 1700359.29\n",
      "iter_num:468/512, score: 3872603.96, best_score: 1700359.29\n",
      "iter_num:469/512, score: 3859796.17, best_score: 1700359.29\n",
      "iter_num:470/512, score: 3870581.56, best_score: 1700359.29\n",
      "iter_num:471/512, score: 3858592.62, best_score: 1700359.29\n",
      "iter_num:472/512, score: 3861530.74, best_score: 1700359.29\n",
      "iter_num:473/512, score: 4289592.58, best_score: 1700359.29\n",
      "iter_num:474/512, score: 4271343.72, best_score: 1700359.29\n",
      "iter_num:475/512, score: 4265390.55, best_score: 1700359.29\n",
      "iter_num:476/512, score: 4266769.77, best_score: 1700359.29\n",
      "iter_num:477/512, score: 4274665.15, best_score: 1700359.29\n",
      "iter_num:478/512, score: 4262599.39, best_score: 1700359.29\n",
      "iter_num:479/512, score: 4259148.55, best_score: 1700359.29\n",
      "iter_num:480/512, score: 4256639.36, best_score: 1700359.29\n",
      "iter_num:481/512, score: 4465702.19, best_score: 1700359.29\n",
      "iter_num:482/512, score: 4509572.65, best_score: 1700359.29\n",
      "iter_num:483/512, score: 4480950.05, best_score: 1700359.29\n",
      "iter_num:484/512, score: 4485733.58, best_score: 1700359.29\n",
      "iter_num:485/512, score: 4538637.97, best_score: 1700359.29\n",
      "iter_num:486/512, score: 4515052.97, best_score: 1700359.29\n",
      "iter_num:487/512, score: 4535694.99, best_score: 1700359.29\n",
      "iter_num:488/512, score: 4529491.41, best_score: 1700359.29\n",
      "iter_num:489/512, score: 4206033.49, best_score: 1700359.29\n",
      "iter_num:490/512, score: 4557421.42, best_score: 1700359.29\n",
      "iter_num:491/512, score: 4591981.77, best_score: 1700359.29\n",
      "iter_num:492/512, score: 4320524.47, best_score: 1700359.29\n",
      "iter_num:493/512, score: 4515557.16, best_score: 1700359.29\n",
      "iter_num:494/512, score: 4314728.21, best_score: 1700359.29\n",
      "iter_num:495/512, score: 4418932.95, best_score: 1700359.29\n",
      "iter_num:496/512, score: 4220051.1, best_score: 1700359.29\n",
      "iter_num:497/512, score: 4564770.4, best_score: 1700359.29\n",
      "iter_num:498/512, score: 4422980.95, best_score: 1700359.29\n",
      "iter_num:499/512, score: 4322065.28, best_score: 1700359.29\n",
      "iter_num:500/512, score: 4286348.46, best_score: 1700359.29\n",
      "iter_num:501/512, score: 4319233.39, best_score: 1700359.29\n",
      "iter_num:502/512, score: 4279382.11, best_score: 1700359.29\n",
      "iter_num:503/512, score: 4221739.1, best_score: 1700359.29\n",
      "iter_num:504/512, score: 4207797.28, best_score: 1700359.29\n",
      "iter_num:505/512, score: 4496187.16, best_score: 1700359.29\n",
      "iter_num:506/512, score: 4409655.72, best_score: 1700359.29\n",
      "iter_num:507/512, score: 4281440.41, best_score: 1700359.29\n",
      "iter_num:508/512, score: 4266501.08, best_score: 1700359.29\n",
      "iter_num:509/512, score: 4254154.24, best_score: 1700359.29\n",
      "iter_num:510/512, score: 4226251.28, best_score: 1700359.29\n",
      "iter_num:511/512, score: 4281728.01, best_score: 1700359.29\n",
      "iter_num:512/512, score: 4201887.53, best_score: 1700359.29\n"
     ]
    }
   ],
   "source": [
    "# 출력을 위한 max_iter_num 계산\n",
    "# 모델이 돌아가는 과정을 출력 (생략 가능)\n",
    "max_iter_num = 0\n",
    "for k in range(10, 2, -1):\n",
    "    for M in param_grid.keys():\n",
    "        for P in param_grid[M]:\n",
    "            max_iter_num += 1\n",
    "\n",
    "#평가지표 MAE 사용\n",
    "from sklearn.metrics import mean_absolute_error as MAE\n",
    "\n",
    "# MAE가 작을 수록 좋은 것이기 때문에 비교대상인 best_score을 최대한 크게 설정\n",
    "best_score = 9999999999\n",
    "iteration_num = 0 # iteration_num 0으로 초기화\n",
    "\n",
    "for k in range(10, 2, -1): # 메모리 부담 해소를 위해, 1씩 감소시킴\n",
    "    # SelectKBest로 모델에 가장 중요한 특성 자동 선택\n",
    "    selector = SelectKBest(f_regression, k = k).fit(Train_X, Train_Y)\n",
    "    # 선택된 컬럼을 selector.get_support() 함수로 Train_X의 컬럼으로 선택\n",
    "    selected_features = Train_X.columns[selector.get_support()]\n",
    "    \n",
    "    # 선정된 feature을 각각 Train_X와 Test_X에 입력\n",
    "    # loop에 따라 Train_X와 Test_X에 들어가는 feature들이 감소 -> 메모리 부담 완화\n",
    "    Train_X = Train_X[selected_features]\n",
    "    Test_X = Test_X[selected_features]\n",
    "    \n",
    "    \n",
    "    for M in param_grid.keys():\n",
    "        for P in param_grid[M]:\n",
    "            # LightGBM에서 DataFrame이 잘 처리되지 않는 것을 방지하기 위해 .values를 사용\n",
    "            \n",
    "            # 모델학습\n",
    "            model = M(**P).fit(Train_X.values, Train_Y.values)\n",
    "            \n",
    "            # 예측\n",
    "            pred_Y = model.predict(Test_X.values)\n",
    "            \n",
    "            # 평가\n",
    "            score = MAE(Test_Y.values, pred_Y)\n",
    "            \n",
    "            if score < best_score:\n",
    "                best_score = score\n",
    "                best_model = M\n",
    "                best_paramter = P\n",
    "                best_features = selected_features    \n",
    "                \n",
    "            iteration_num += 1\n",
    "            \n",
    "            # 진행상황 출력 : 몇번째 iter인지, 해당 순번의 best_score은 몇인지\n",
    "            print(\"iter_num:{}/{}, score: {}, best_score: {}\".format(iteration_num, max_iter_num, round(score, 2), round(best_score, 2)))"
   ]
  },
  {
   "cell_type": "markdown",
   "metadata": {},
   "source": [
    "#### 최종 모델 학습\n",
    "\n",
    "- 모델 선정과정에서 상요한 Train데이터는 X데이터를 split 한것이었으므로 다시 합쳐줄 필요가 있다.\n",
    "- 하지만, split한 데이터들은 biase처리나 sacaling을 했지만, 예측에 사용할 X데이터는 전처리가 되어 있지 않다.\n",
    "- 이를 위해 pipeline을 구축해서 X에도 동일한 전처리를 해준다."
   ]
  },
  {
   "cell_type": "code",
   "execution_count": 77,
   "metadata": {
    "ExecuteTime": {
     "end_time": "2021-07-09T07:52:44.897656Z",
     "start_time": "2021-07-09T07:52:44.822178Z"
    }
   },
   "outputs": [],
   "source": [
    "def pipeline(X):\n",
    "    # 치우침 처리\n",
    "    X[biased_variables] = X[biased_variables] - X[biased_variables].min() + 1\n",
    "    #Scaling\n",
    "    X[biased_variables] = np.sqrt(X[biased_variables])        \n",
    "    \n",
    "    # DataFrame으로 변형\n",
    "    X = pd.DataFrame(scaler.transform(X), columns = X.columns)\n",
    "    \n",
    "    # 선정된 feature만 X에 할당\n",
    "    X = X[best_features]\n",
    "    return X\n",
    "\n",
    "# 최적의 값을 갖는 모델을 선정하여 fit\n",
    "model = best_model(**best_paramter).fit(pipeline(X).values, Y)"
   ]
  },
  {
   "cell_type": "markdown",
   "metadata": {},
   "source": [
    "## 적용 데이터 구성"
   ]
  },
  {
   "cell_type": "code",
   "execution_count": 78,
   "metadata": {
    "ExecuteTime": {
     "end_time": "2021-07-09T07:52:44.913141Z",
     "start_time": "2021-07-09T07:52:44.901154Z"
    }
   },
   "outputs": [],
   "source": [
    "# 예측해야할 값의 범위 : 2019-03-01 ~ 2019-05-31\n",
    "# train데이터와 동일 방식으로 처리\n",
    "\n",
    "submission_df['std_mth'] = (2019 - 2016) * 12 + 2"
   ]
  },
  {
   "cell_type": "code",
   "execution_count": 79,
   "metadata": {
    "ExecuteTime": {
     "end_time": "2021-07-09T07:52:45.382273Z",
     "start_time": "2021-07-09T07:52:44.923135Z"
    }
   },
   "outputs": [],
   "source": [
    "# region 변수와 type_of_business 변수 부착 \n",
    "submission_df['region'] = submission_df['store_id'].replace(store_to_region)\n",
    "submission_df['type_of_business'] = submission_df['store_id'].replace(store_to_type_of_business)"
   ]
  },
  {
   "cell_type": "markdown",
   "metadata": {},
   "source": [
    "#### 특징 부착"
   ]
  },
  {
   "cell_type": "code",
   "execution_count": 80,
   "metadata": {
    "ExecuteTime": {
     "end_time": "2021-07-09T07:52:45.609275Z",
     "start_time": "2021-07-09T07:52:45.384216Z"
    }
   },
   "outputs": [
    {
     "data": {
      "text/html": [
       "<div>\n",
       "<style scoped>\n",
       "    .dataframe tbody tr th:only-of-type {\n",
       "        vertical-align: middle;\n",
       "    }\n",
       "\n",
       "    .dataframe tbody tr th {\n",
       "        vertical-align: top;\n",
       "    }\n",
       "\n",
       "    .dataframe thead th {\n",
       "        text-align: right;\n",
       "    }\n",
       "</style>\n",
       "<table border=\"1\" class=\"dataframe\">\n",
       "  <thead>\n",
       "    <tr style=\"text-align: right;\">\n",
       "      <th></th>\n",
       "      <th>store_id</th>\n",
       "      <th>amount</th>\n",
       "      <th>std_mth</th>\n",
       "      <th>region</th>\n",
       "      <th>type_of_business</th>\n",
       "      <th>평균할부율</th>\n",
       "    </tr>\n",
       "  </thead>\n",
       "  <tbody>\n",
       "    <tr>\n",
       "      <th>0</th>\n",
       "      <td>0</td>\n",
       "      <td>0</td>\n",
       "      <td>38</td>\n",
       "      <td>미분류</td>\n",
       "      <td>기타 미용업</td>\n",
       "      <td>0.04</td>\n",
       "    </tr>\n",
       "    <tr>\n",
       "      <th>1</th>\n",
       "      <td>1</td>\n",
       "      <td>0</td>\n",
       "      <td>38</td>\n",
       "      <td>미분류</td>\n",
       "      <td>미분류</td>\n",
       "      <td>0.00</td>\n",
       "    </tr>\n",
       "    <tr>\n",
       "      <th>2</th>\n",
       "      <td>2</td>\n",
       "      <td>0</td>\n",
       "      <td>38</td>\n",
       "      <td>미분류</td>\n",
       "      <td>미분류</td>\n",
       "      <td>0.08</td>\n",
       "    </tr>\n",
       "    <tr>\n",
       "      <th>3</th>\n",
       "      <td>4</td>\n",
       "      <td>0</td>\n",
       "      <td>38</td>\n",
       "      <td>서울 종로구</td>\n",
       "      <td>미분류</td>\n",
       "      <td>0.00</td>\n",
       "    </tr>\n",
       "    <tr>\n",
       "      <th>4</th>\n",
       "      <td>5</td>\n",
       "      <td>0</td>\n",
       "      <td>38</td>\n",
       "      <td>미분류</td>\n",
       "      <td>의복 액세서리 및 모조 장신구 도매업</td>\n",
       "      <td>0.08</td>\n",
       "    </tr>\n",
       "  </tbody>\n",
       "</table>\n",
       "</div>"
      ],
      "text/plain": [
       "   store_id  amount  std_mth  region      type_of_business  평균할부율\n",
       "0         0       0       38     미분류                기타 미용업   0.04\n",
       "1         1       0       38     미분류                   미분류   0.00\n",
       "2         2       0       38     미분류                   미분류   0.08\n",
       "3         4       0       38  서울 종로구                   미분류   0.00\n",
       "4         5       0       38     미분류  의복 액세서리 및 모조 장신구 도매업   0.08"
      ]
     },
     "execution_count": 80,
     "metadata": {},
     "output_type": "execute_result"
    }
   ],
   "source": [
    "submission_df['평균할부율'] = submission_df['store_id'].replace(installment_term_per_store.to_dict())\n",
    "submission_df.head()"
   ]
  },
  {
   "cell_type": "code",
   "execution_count": 81,
   "metadata": {
    "ExecuteTime": {
     "end_time": "2021-07-09T07:52:45.624161Z",
     "start_time": "2021-07-09T07:52:45.611270Z"
    },
    "scrolled": true
   },
   "outputs": [],
   "source": [
    "# 기존 submission_df 파일의 불필요한 컬럼 제거\n",
    "submission_df.drop('amount', axis = 1, inplace = True)"
   ]
  },
  {
   "cell_type": "code",
   "execution_count": 82,
   "metadata": {
    "ExecuteTime": {
     "end_time": "2021-07-09T07:52:45.685890Z",
     "start_time": "2021-07-09T07:52:45.626155Z"
    }
   },
   "outputs": [],
   "source": [
    "# t - i (i = 1, 2, 3) 시점의 부착\n",
    "# submission_df의 std_mth는 total_amt_per_mth_and_store의 std_mth-i와 병합되어야 하므로, total_amt_per_mth_and_store의 std_mth에 i를 더했다.\n",
    "\n",
    "for i in range(1, 4):\n",
    "    total_amt_per_mth_and_store['std_mth_{}'.format(i)] = total_amt_per_mth_and_store['std_mth'] + i    \n",
    "    submission_df = pd.merge(submission_df, total_amt_per_mth_and_store.drop('std_mth', axis = 1), left_on = ['store_id', 'std_mth'], right_on = ['store_id', 'std_mth_{}'.format(i)])\n",
    "    submission_df.rename({\"amount\":\"{}_before_amount\".format(i)}, axis = 1, inplace = True)\n",
    "    submission_df.drop(['std_mth_{}'.format(i)], axis = 1, inplace = True)\n",
    "    total_amt_per_mth_and_store.drop(['std_mth_{}'.format(i)], axis = 1, inplace = True)\n",
    "    \n"
   ]
  },
  {
   "cell_type": "code",
   "execution_count": 83,
   "metadata": {
    "ExecuteTime": {
     "end_time": "2021-07-09T07:52:45.731132Z",
     "start_time": "2021-07-09T07:52:45.687885Z"
    }
   },
   "outputs": [],
   "source": [
    "# 지역 관련 변수 부착\n",
    "for i in range(1, 4):\n",
    "    amt_mean_per_std_mth_and_region['std_mth_{}'.format(i)] = amt_mean_per_std_mth_and_region['std_mth'] + i\n",
    "    submission_df = pd.merge(submission_df, amt_mean_per_std_mth_and_region.drop('std_mth', axis = 1), left_on = ['region', 'std_mth'], right_on = ['region', 'std_mth_{}'.format(i)])\n",
    "    submission_df.rename({\"amount\":\"{}_before_amount_of_region\".format(i)}, axis = 1, inplace = True)\n",
    "    \n",
    "    submission_df.drop(['std_mth_{}'.format(i)], axis = 1, inplace = True)\n",
    "    amt_mean_per_std_mth_and_region.drop(['std_mth_{}'.format(i)], axis = 1, inplace = True)    "
   ]
  },
  {
   "cell_type": "code",
   "execution_count": 84,
   "metadata": {
    "ExecuteTime": {
     "end_time": "2021-07-09T07:52:45.777006Z",
     "start_time": "2021-07-09T07:52:45.734121Z"
    }
   },
   "outputs": [
    {
     "data": {
      "text/html": [
       "<div>\n",
       "<style scoped>\n",
       "    .dataframe tbody tr th:only-of-type {\n",
       "        vertical-align: middle;\n",
       "    }\n",
       "\n",
       "    .dataframe tbody tr th {\n",
       "        vertical-align: top;\n",
       "    }\n",
       "\n",
       "    .dataframe thead th {\n",
       "        text-align: right;\n",
       "    }\n",
       "</style>\n",
       "<table border=\"1\" class=\"dataframe\">\n",
       "  <thead>\n",
       "    <tr style=\"text-align: right;\">\n",
       "      <th></th>\n",
       "      <th>store_id</th>\n",
       "      <th>std_mth</th>\n",
       "      <th>region</th>\n",
       "      <th>type_of_business</th>\n",
       "      <th>평균할부율</th>\n",
       "      <th>1_before_amount</th>\n",
       "      <th>2_before_amount</th>\n",
       "      <th>3_before_amount</th>\n",
       "      <th>1_before_amount_of_region</th>\n",
       "      <th>2_before_amount_of_region</th>\n",
       "      <th>3_before_amount_of_region</th>\n",
       "      <th>1_before_amount_of_type_of_business</th>\n",
       "      <th>2_before_amount_of_type_of_business</th>\n",
       "      <th>3_before_amount_of_type_of_business</th>\n",
       "    </tr>\n",
       "  </thead>\n",
       "  <tbody>\n",
       "    <tr>\n",
       "      <th>0</th>\n",
       "      <td>0</td>\n",
       "      <td>38</td>\n",
       "      <td>미분류</td>\n",
       "      <td>기타 미용업</td>\n",
       "      <td>0.04</td>\n",
       "      <td>682857.14</td>\n",
       "      <td>874571.43</td>\n",
       "      <td>676000.00</td>\n",
       "      <td>946877.71</td>\n",
       "      <td>1000725.02</td>\n",
       "      <td>988619.51</td>\n",
       "      <td>585125.00</td>\n",
       "      <td>650055.95</td>\n",
       "      <td>558241.67</td>\n",
       "    </tr>\n",
       "    <tr>\n",
       "      <th>1</th>\n",
       "      <td>792</td>\n",
       "      <td>38</td>\n",
       "      <td>미분류</td>\n",
       "      <td>기타 미용업</td>\n",
       "      <td>0.22</td>\n",
       "      <td>743214.29</td>\n",
       "      <td>871071.43</td>\n",
       "      <td>973857.14</td>\n",
       "      <td>946877.71</td>\n",
       "      <td>1000725.02</td>\n",
       "      <td>988619.51</td>\n",
       "      <td>585125.00</td>\n",
       "      <td>650055.95</td>\n",
       "      <td>558241.67</td>\n",
       "    </tr>\n",
       "    <tr>\n",
       "      <th>2</th>\n",
       "      <td>1828</td>\n",
       "      <td>38</td>\n",
       "      <td>경기 용인시</td>\n",
       "      <td>기타 미용업</td>\n",
       "      <td>0.20</td>\n",
       "      <td>953000.00</td>\n",
       "      <td>816857.14</td>\n",
       "      <td>911957.14</td>\n",
       "      <td>1801050.57</td>\n",
       "      <td>2009935.83</td>\n",
       "      <td>1897274.57</td>\n",
       "      <td>585125.00</td>\n",
       "      <td>650055.95</td>\n",
       "      <td>558241.67</td>\n",
       "    </tr>\n",
       "    <tr>\n",
       "      <th>3</th>\n",
       "      <td>23</td>\n",
       "      <td>38</td>\n",
       "      <td>경기 안양시</td>\n",
       "      <td>기타 미용업</td>\n",
       "      <td>0.05</td>\n",
       "      <td>660857.14</td>\n",
       "      <td>999285.71</td>\n",
       "      <td>827571.43</td>\n",
       "      <td>784378.00</td>\n",
       "      <td>642183.20</td>\n",
       "      <td>678844.63</td>\n",
       "      <td>585125.00</td>\n",
       "      <td>650055.95</td>\n",
       "      <td>558241.67</td>\n",
       "    </tr>\n",
       "    <tr>\n",
       "      <th>4</th>\n",
       "      <td>192</td>\n",
       "      <td>38</td>\n",
       "      <td>경기 화성시</td>\n",
       "      <td>기타 미용업</td>\n",
       "      <td>0.10</td>\n",
       "      <td>467571.43</td>\n",
       "      <td>550571.43</td>\n",
       "      <td>399142.86</td>\n",
       "      <td>1209348.40</td>\n",
       "      <td>1125180.78</td>\n",
       "      <td>1049586.72</td>\n",
       "      <td>585125.00</td>\n",
       "      <td>650055.95</td>\n",
       "      <td>558241.67</td>\n",
       "    </tr>\n",
       "  </tbody>\n",
       "</table>\n",
       "</div>"
      ],
      "text/plain": [
       "   store_id  std_mth  region type_of_business  평균할부율  1_before_amount  2_before_amount  3_before_amount  1_before_amount_of_region  2_before_amount_of_region  3_before_amount_of_region  1_before_amount_of_type_of_business  2_before_amount_of_type_of_business  3_before_amount_of_type_of_business\n",
       "0         0       38     미분류           기타 미용업   0.04        682857.14        874571.43        676000.00                  946877.71                 1000725.02                  988619.51                            585125.00                            650055.95                            558241.67\n",
       "1       792       38     미분류           기타 미용업   0.22        743214.29        871071.43        973857.14                  946877.71                 1000725.02                  988619.51                            585125.00                            650055.95                            558241.67\n",
       "2      1828       38  경기 용인시           기타 미용업   0.20        953000.00        816857.14        911957.14                 1801050.57                 2009935.83                 1897274.57                            585125.00                            650055.95                            558241.67\n",
       "3        23       38  경기 안양시           기타 미용업   0.05        660857.14        999285.71        827571.43                  784378.00                  642183.20                  678844.63                            585125.00                            650055.95                            558241.67\n",
       "4       192       38  경기 화성시           기타 미용업   0.10        467571.43        550571.43        399142.86                 1209348.40                 1125180.78                 1049586.72                            585125.00                            650055.95                            558241.67"
      ]
     },
     "execution_count": 84,
     "metadata": {},
     "output_type": "execute_result"
    }
   ],
   "source": [
    "# t - i (i = 1, 2, 3) 시점의 부착\n",
    "# submission_df의 t는 total_amt_per_mth_and_store의 std_mth-i와 병합되어야 하므로, total_amt_per_mth_and_store의 std_mth에 i를 더했다.\n",
    "\n",
    "for i in range(1, 4):\n",
    "    amount_mean_per_mth_and_type_of_business['std_mth_{}'.format(i)] = amount_mean_per_mth_and_type_of_business['std_mth'] + i\n",
    "    submission_df = pd.merge(submission_df, amount_mean_per_mth_and_type_of_business.drop('std_mth', axis = 1), left_on = ['type_of_business', 'std_mth'], right_on = ['type_of_business', 'std_mth_{}'.format(i)])\n",
    "    submission_df.rename({\"amount\":\"{}_before_amount_of_type_of_business\".format(i)}, axis = 1, inplace = True)\n",
    "    \n",
    "    submission_df.drop(['std_mth_{}'.format(i)], axis = 1, inplace = True)\n",
    "    amount_mean_per_mth_and_type_of_business.drop(['std_mth_{}'.format(i)], axis = 1, inplace = True)       \n",
    "    \n",
    "submission_df.head()"
   ]
  },
  {
   "cell_type": "code",
   "execution_count": 116,
   "metadata": {
    "ExecuteTime": {
     "end_time": "2021-07-09T13:49:53.988252Z",
     "start_time": "2021-07-09T13:49:50.553437Z"
    }
   },
   "outputs": [],
   "source": [
    "submission_X = submission_df[X.columns]\n",
    "submission_X = pipeline(submission_X)\n",
    "\n",
    "pred_Y = model.predict(submission_X)\n",
    "\n",
    "# 제출 양식과 맞추기 위해 pred_Y를 amount로 입력\n",
    "result = pd.DataFrame({\"store_id\":submission_df['store_id'].values,\"amount\":pred_Y})"
   ]
  },
  {
   "cell_type": "code",
   "execution_count": 118,
   "metadata": {
    "ExecuteTime": {
     "end_time": "2021-07-09T13:50:54.640283Z",
     "start_time": "2021-07-09T13:50:54.625324Z"
    }
   },
   "outputs": [],
   "source": [
    "result = result.sort_values(by='store_id')"
   ]
  },
  {
   "cell_type": "code",
   "execution_count": 119,
   "metadata": {
    "ExecuteTime": {
     "end_time": "2021-07-09T13:51:00.348113Z",
     "start_time": "2021-07-09T13:51:00.328142Z"
    }
   },
   "outputs": [
    {
     "data": {
      "text/html": [
       "<div>\n",
       "<style scoped>\n",
       "    .dataframe tbody tr th:only-of-type {\n",
       "        vertical-align: middle;\n",
       "    }\n",
       "\n",
       "    .dataframe tbody tr th {\n",
       "        vertical-align: top;\n",
       "    }\n",
       "\n",
       "    .dataframe thead th {\n",
       "        text-align: right;\n",
       "    }\n",
       "</style>\n",
       "<table border=\"1\" class=\"dataframe\">\n",
       "  <thead>\n",
       "    <tr style=\"text-align: right;\">\n",
       "      <th></th>\n",
       "      <th>store_id</th>\n",
       "      <th>amount</th>\n",
       "    </tr>\n",
       "  </thead>\n",
       "  <tbody>\n",
       "    <tr>\n",
       "      <th>0</th>\n",
       "      <td>0</td>\n",
       "      <td>4714475.69</td>\n",
       "    </tr>\n",
       "    <tr>\n",
       "      <th>12</th>\n",
       "      <td>1</td>\n",
       "      <td>1527393.67</td>\n",
       "    </tr>\n",
       "    <tr>\n",
       "      <th>13</th>\n",
       "      <td>2</td>\n",
       "      <td>1564663.27</td>\n",
       "    </tr>\n",
       "    <tr>\n",
       "      <th>612</th>\n",
       "      <td>4</td>\n",
       "      <td>6729287.35</td>\n",
       "    </tr>\n",
       "    <tr>\n",
       "      <th>1187</th>\n",
       "      <td>5</td>\n",
       "      <td>4485424.49</td>\n",
       "    </tr>\n",
       "    <tr>\n",
       "      <th>...</th>\n",
       "      <td>...</td>\n",
       "      <td>...</td>\n",
       "    </tr>\n",
       "    <tr>\n",
       "      <th>609</th>\n",
       "      <td>2132</td>\n",
       "      <td>2883704.29</td>\n",
       "    </tr>\n",
       "    <tr>\n",
       "      <th>610</th>\n",
       "      <td>2133</td>\n",
       "      <td>1507944.90</td>\n",
       "    </tr>\n",
       "    <tr>\n",
       "      <th>1186</th>\n",
       "      <td>2134</td>\n",
       "      <td>2159169.39</td>\n",
       "    </tr>\n",
       "    <tr>\n",
       "      <th>611</th>\n",
       "      <td>2135</td>\n",
       "      <td>2164861.22</td>\n",
       "    </tr>\n",
       "    <tr>\n",
       "      <th>1463</th>\n",
       "      <td>2136</td>\n",
       "      <td>10333804.08</td>\n",
       "    </tr>\n",
       "  </tbody>\n",
       "</table>\n",
       "<p>1967 rows × 2 columns</p>\n",
       "</div>"
      ],
      "text/plain": [
       "      store_id      amount\n",
       "0            0  4714475.69\n",
       "12           1  1527393.67\n",
       "13           2  1564663.27\n",
       "612          4  6729287.35\n",
       "1187         5  4485424.49\n",
       "...        ...         ...\n",
       "609       2132  2883704.29\n",
       "610       2133  1507944.90\n",
       "1186      2134  2159169.39\n",
       "611       2135  2164861.22\n",
       "1463      2136 10333804.08\n",
       "\n",
       "[1967 rows x 2 columns]"
      ]
     },
     "execution_count": 119,
     "metadata": {},
     "output_type": "execute_result"
    }
   ],
   "source": [
    "result"
   ]
  },
  {
   "cell_type": "markdown",
   "metadata": {},
   "source": [
    "결과 제출용 파일 저장"
   ]
  },
  {
   "cell_type": "code",
   "execution_count": 120,
   "metadata": {
    "ExecuteTime": {
     "end_time": "2021-07-09T13:51:42.888663Z",
     "start_time": "2021-07-09T13:51:42.869714Z"
    }
   },
   "outputs": [],
   "source": [
    "result.to_csv('E:\\\\OneDrive\\\\Jupyter\\\\포트폴리오\\\\[예측] 상점 신용카드 매출 예측하기\\\\submission.csv', index=False)"
   ]
  }
 ],
 "metadata": {
  "kernelspec": {
   "display_name": "Python 3",
   "language": "python",
   "name": "python3"
  },
  "language_info": {
   "codemirror_mode": {
    "name": "ipython",
    "version": 3
   },
   "file_extension": ".py",
   "mimetype": "text/x-python",
   "name": "python",
   "nbconvert_exporter": "python",
   "pygments_lexer": "ipython3",
   "version": "3.8.5"
  },
  "toc": {
   "base_numbering": 1,
   "nav_menu": {},
   "number_sections": true,
   "sideBar": true,
   "skip_h1_title": false,
   "title_cell": "Table of Contents",
   "title_sidebar": "Contents",
   "toc_cell": false,
   "toc_position": {
    "height": "calc(100% - 180px)",
    "left": "10px",
    "top": "150px",
    "width": "436.151px"
   },
   "toc_section_display": true,
   "toc_window_display": true
  },
  "varInspector": {
   "cols": {
    "lenName": 16,
    "lenType": 16,
    "lenVar": 40
   },
   "kernels_config": {
    "python": {
     "delete_cmd_postfix": "",
     "delete_cmd_prefix": "del ",
     "library": "var_list.py",
     "varRefreshCmd": "print(var_dic_list())"
    },
    "r": {
     "delete_cmd_postfix": ") ",
     "delete_cmd_prefix": "rm(",
     "library": "var_list.r",
     "varRefreshCmd": "cat(var_dic_list()) "
    }
   },
   "types_to_exclude": [
    "module",
    "function",
    "builtin_function_or_method",
    "instance",
    "_Feature"
   ],
   "window_display": false
  }
 },
 "nbformat": 4,
 "nbformat_minor": 4
}
