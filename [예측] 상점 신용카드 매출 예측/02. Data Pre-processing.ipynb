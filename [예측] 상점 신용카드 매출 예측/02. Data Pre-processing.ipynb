{
 "cells": [
  {
   "cell_type": "code",
   "execution_count": 1,
   "metadata": {
    "ExecuteTime": {
     "end_time": "2021-07-10T14:36:56.481201Z",
     "start_time": "2021-07-10T14:36:54.833112Z"
    }
   },
   "outputs": [],
   "source": [
    "import pandas as pd\n",
    "import matplotlib.pyplot as plt\n",
    "import seaborn as sns\n",
    "import os\n",
    "\n",
    "# 캔버스 사이즈 적용\n",
    "plt.rcParams[\"figure.figsize\"] = (12, 9)\n",
    "\n",
    "# 컬럼 전체 확인 가능하도록 출력 범위 설정\n",
    "pd.set_option('display.max_columns', 500)\n",
    "pd.set_option('display.width', 10000)\n",
    "\n",
    "# 불필요한 경고 표시 생략\n",
    "import warnings\n",
    "warnings.filterwarnings(action = 'ignore')\n",
    "\n",
    "# pandas 결과값의 표현 범위 소수점 2자리수로 변경\n",
    "pd.options.display.float_format = \"{:.2f}\".format\n",
    "\n",
    "# 파일 로드위한 directory 확인 및 현재 경로로 설정\n",
    "a = os.getcwd()\n",
    "os.chdir(a)"
   ]
  },
  {
   "cell_type": "code",
   "execution_count": 2,
   "metadata": {
    "ExecuteTime": {
     "end_time": "2021-07-10T14:37:14.416090Z",
     "start_time": "2021-07-10T14:37:07.372986Z"
    }
   },
   "outputs": [],
   "source": [
    "df = pd.read_csv(\"funda_train.csv\")\n",
    "submission_df = pd.read_csv(\"submission.csv\")"
   ]
  },
  {
   "cell_type": "markdown",
   "metadata": {},
   "source": [
    "# Data Processing - Train data"
   ]
  },
  {
   "cell_type": "markdown",
   "metadata": {},
   "source": [
    "## 년/월 추출"
   ]
  },
  {
   "cell_type": "code",
   "execution_count": 3,
   "metadata": {
    "ExecuteTime": {
     "end_time": "2021-07-10T14:38:14.954858Z",
     "start_time": "2021-07-10T14:37:32.561272Z"
    }
   },
   "outputs": [
    {
     "data": {
      "text/html": [
       "<div>\n",
       "<style scoped>\n",
       "    .dataframe tbody tr th:only-of-type {\n",
       "        vertical-align: middle;\n",
       "    }\n",
       "\n",
       "    .dataframe tbody tr th {\n",
       "        vertical-align: top;\n",
       "    }\n",
       "\n",
       "    .dataframe thead th {\n",
       "        text-align: right;\n",
       "    }\n",
       "</style>\n",
       "<table border=\"1\" class=\"dataframe\">\n",
       "  <thead>\n",
       "    <tr style=\"text-align: right;\">\n",
       "      <th></th>\n",
       "      <th>store_id</th>\n",
       "      <th>card_id</th>\n",
       "      <th>card_company</th>\n",
       "      <th>transacted_date</th>\n",
       "      <th>transacted_time</th>\n",
       "      <th>installment_term</th>\n",
       "      <th>region</th>\n",
       "      <th>type_of_business</th>\n",
       "      <th>amount</th>\n",
       "      <th>transacted_year</th>\n",
       "      <th>transacted_month</th>\n",
       "    </tr>\n",
       "  </thead>\n",
       "  <tbody>\n",
       "    <tr>\n",
       "      <th>0</th>\n",
       "      <td>0</td>\n",
       "      <td>0</td>\n",
       "      <td>b</td>\n",
       "      <td>2016-06-01</td>\n",
       "      <td>13:13</td>\n",
       "      <td>0</td>\n",
       "      <td>NaN</td>\n",
       "      <td>기타 미용업</td>\n",
       "      <td>1857.14</td>\n",
       "      <td>2016</td>\n",
       "      <td>6</td>\n",
       "    </tr>\n",
       "    <tr>\n",
       "      <th>1</th>\n",
       "      <td>0</td>\n",
       "      <td>1</td>\n",
       "      <td>h</td>\n",
       "      <td>2016-06-01</td>\n",
       "      <td>18:12</td>\n",
       "      <td>0</td>\n",
       "      <td>NaN</td>\n",
       "      <td>기타 미용업</td>\n",
       "      <td>857.14</td>\n",
       "      <td>2016</td>\n",
       "      <td>6</td>\n",
       "    </tr>\n",
       "    <tr>\n",
       "      <th>2</th>\n",
       "      <td>0</td>\n",
       "      <td>2</td>\n",
       "      <td>c</td>\n",
       "      <td>2016-06-01</td>\n",
       "      <td>18:52</td>\n",
       "      <td>0</td>\n",
       "      <td>NaN</td>\n",
       "      <td>기타 미용업</td>\n",
       "      <td>2000.00</td>\n",
       "      <td>2016</td>\n",
       "      <td>6</td>\n",
       "    </tr>\n",
       "    <tr>\n",
       "      <th>3</th>\n",
       "      <td>0</td>\n",
       "      <td>3</td>\n",
       "      <td>a</td>\n",
       "      <td>2016-06-01</td>\n",
       "      <td>20:22</td>\n",
       "      <td>0</td>\n",
       "      <td>NaN</td>\n",
       "      <td>기타 미용업</td>\n",
       "      <td>7857.14</td>\n",
       "      <td>2016</td>\n",
       "      <td>6</td>\n",
       "    </tr>\n",
       "    <tr>\n",
       "      <th>4</th>\n",
       "      <td>0</td>\n",
       "      <td>4</td>\n",
       "      <td>c</td>\n",
       "      <td>2016-06-02</td>\n",
       "      <td>11:06</td>\n",
       "      <td>0</td>\n",
       "      <td>NaN</td>\n",
       "      <td>기타 미용업</td>\n",
       "      <td>2000.00</td>\n",
       "      <td>2016</td>\n",
       "      <td>6</td>\n",
       "    </tr>\n",
       "  </tbody>\n",
       "</table>\n",
       "</div>"
      ],
      "text/plain": [
       "   store_id  card_id card_company transacted_date transacted_time  installment_term region type_of_business  amount  transacted_year  transacted_month\n",
       "0         0        0            b      2016-06-01           13:13                 0    NaN           기타 미용업 1857.14             2016                 6\n",
       "1         0        1            h      2016-06-01           18:12                 0    NaN           기타 미용업  857.14             2016                 6\n",
       "2         0        2            c      2016-06-01           18:52                 0    NaN           기타 미용업 2000.00             2016                 6\n",
       "3         0        3            a      2016-06-01           20:22                 0    NaN           기타 미용업 7857.14             2016                 6\n",
       "4         0        4            c      2016-06-02           11:06                 0    NaN           기타 미용업 2000.00             2016                 6"
      ]
     },
     "execution_count": 3,
     "metadata": {},
     "output_type": "execute_result"
    }
   ],
   "source": [
    "# .str.split으로 년/월 추출\n",
    "\n",
    "# year\n",
    "df['transacted_year'] = df['transacted_date'].str.split('-', expand = True).iloc[:, 0].astype(int)\n",
    "\n",
    "# month\n",
    "df['transacted_month'] = df['transacted_date'].str.split('-', expand = True).iloc[:, 1].astype(int)\n",
    "df.head()"
   ]
  },
  {
   "cell_type": "markdown",
   "metadata": {},
   "source": [
    "- transacted_date의 시작점이 2016년 6월 1일 이므로 transacted_year에서 2016을 빼고 'month'를 기준으로 데이터를 분류하는 index번호처럼 생성\n",
    "계산 방식은 다음과 같다.\n",
    "\n",
    "```python\n",
    "standard_t = (연도-2016)*12 + '월'\n",
    "```\n",
    "- 2016년의 경우 6월 =6, 7월 =7\n",
    "- 2017년의 경우 1월 = 12, 2월 = 24\n",
    "- 위와 같이 각 연도별 월을 구분지을 수 있게 가공된다."
   ]
  },
  {
   "cell_type": "markdown",
   "metadata": {},
   "source": [
    "## 기준 시점이 될 std_mth (= standard_month) 생성"
   ]
  },
  {
   "cell_type": "code",
   "execution_count": 4,
   "metadata": {
    "ExecuteTime": {
     "end_time": "2021-07-10T14:38:15.440037Z",
     "start_time": "2021-07-10T14:38:15.017691Z"
    }
   },
   "outputs": [],
   "source": [
    "# 데이터 병합을 위해 시간 데이터를 standard_t 로 변경하고, 불필요한 컬럼은 drop\n",
    "df['std_mth'] = (df['transacted_year'] - 2016) * 12 + df['transacted_month']\n",
    "df.drop(['transacted_year', 'transacted_month', 'transacted_date', 'transacted_time'], axis = 1, inplace = True)"
   ]
  },
  {
   "cell_type": "code",
   "execution_count": 5,
   "metadata": {
    "ExecuteTime": {
     "end_time": "2021-07-10T14:38:15.592284Z",
     "start_time": "2021-07-10T14:38:15.503867Z"
    }
   },
   "outputs": [
    {
     "data": {
      "text/plain": [
       "array([ 6,  7,  8,  9, 10, 11, 12, 13, 14, 15, 16, 17, 18, 19, 20, 21, 22,\n",
       "       23, 24, 25, 26, 27, 28, 29, 30, 31, 32, 33, 34, 35, 36, 37, 38])"
      ]
     },
     "execution_count": 5,
     "metadata": {},
     "output_type": "execute_result"
    }
   ],
   "source": [
    "df['std_mth'].unique()"
   ]
  },
  {
   "cell_type": "markdown",
   "metadata": {},
   "source": [
    "## 업종 특성, 지역, 할부 평균 - 파생변수 생성"
   ]
  },
  {
   "cell_type": "markdown",
   "metadata": {},
   "source": [
    "### installment_term - 매장별 평균 할부 비율\n",
    "\n",
    "- EDA에서 본 바와 같이 대부분이 일시불이므로 일시불 / 할부로 범주를 이원화 하여 사용 (전체 할부 개월 수 로 하기엔 너무 범위가 큼)\n",
    "- 다만, 단순 할부 여부는 동일 매장에서 결제 건수가 여러건 발생 하므로 T/F로 입력할 수가 없다. -> 매장별 평균 할부개월 비율로 전처리"
   ]
  },
  {
   "cell_type": "code",
   "execution_count": 6,
   "metadata": {
    "ExecuteTime": {
     "end_time": "2021-07-10T14:38:23.922829Z",
     "start_time": "2021-07-10T14:38:23.766248Z"
    }
   },
   "outputs": [
    {
     "data": {
      "text/plain": [
       "0    6327632\n",
       "1     228981\n",
       "Name: installment_term, dtype: int64"
      ]
     },
     "execution_count": 6,
     "metadata": {},
     "output_type": "execute_result"
    }
   ],
   "source": [
    "df['installment_term'] = (df['installment_term'] > 0).astype(int) # bool to int (True=1, False=0)\n",
    "df['installment_term'].value_counts()"
   ]
  },
  {
   "cell_type": "code",
   "execution_count": 7,
   "metadata": {
    "ExecuteTime": {
     "end_time": "2021-07-10T14:38:27.625988Z",
     "start_time": "2021-07-10T14:38:27.422026Z"
    }
   },
   "outputs": [
    {
     "data": {
      "text/plain": [
       "store_id\n",
       "0   0.04\n",
       "1   0.00\n",
       "2   0.08\n",
       "4   0.00\n",
       "5   0.08\n",
       "Name: installment_term, dtype: float64"
      ]
     },
     "execution_count": 7,
     "metadata": {},
     "output_type": "execute_result"
    }
   ],
   "source": [
    "# 각 매장 기준으로 할부 기간의 평균 계산\n",
    "installment_term_per_store = df.groupby(['store_id'])['installment_term'].mean()\n",
    "installment_term_per_store.head()"
   ]
  },
  {
   "cell_type": "code",
   "execution_count": 8,
   "metadata": {
    "ExecuteTime": {
     "end_time": "2021-07-10T14:38:31.256971Z",
     "start_time": "2021-07-10T14:38:31.248993Z"
    }
   },
   "outputs": [
    {
     "data": {
      "text/plain": [
       "installment_term    0\n",
       "dtype: int64"
      ]
     },
     "execution_count": 8,
     "metadata": {},
     "output_type": "execute_result"
    }
   ],
   "source": [
    "# 결측치 확인\n",
    "pd.DataFrame(installment_term_per_store).isnull().sum()"
   ]
  },
  {
   "cell_type": "markdown",
   "metadata": {},
   "source": [
    "### region - group by로 데이터 셋팅"
   ]
  },
  {
   "cell_type": "markdown",
   "metadata": {},
   "source": [
    "- 범주형이지만, 종류가 너무 많아 dummy 하여 사용하기는 어려움 -> 활용을 위해 파생변수 생성 필요 (group by)\n",
    "- 결측치가 2042766 개 존재함\n",
    "- 결측치를 drop하기에는 너무 많은 데이터 -> 전처리를 통해 group by에 포함되도록 해야 함"
   ]
  },
  {
   "cell_type": "code",
   "execution_count": 9,
   "metadata": {
    "ExecuteTime": {
     "end_time": "2021-07-10T14:38:48.403111Z",
     "start_time": "2021-07-10T14:38:47.495175Z"
    }
   },
   "outputs": [
    {
     "data": {
      "text/plain": [
       "미분류       2042766\n",
       "경기 수원시     122029\n",
       "충북 청주시     116766\n",
       "경남 창원시     107147\n",
       "경남 김해시     100673\n",
       "Name: region, dtype: int64"
      ]
     },
     "execution_count": 9,
     "metadata": {},
     "output_type": "execute_result"
    }
   ],
   "source": [
    "# 결측치 전처리\n",
    "df['region'].fillna('미분류', inplace = True)\n",
    "df['region'].value_counts().head()"
   ]
  },
  {
   "cell_type": "code",
   "execution_count": 10,
   "metadata": {
    "ExecuteTime": {
     "end_time": "2021-07-10T14:44:13.683962Z",
     "start_time": "2021-07-10T14:44:13.086559Z"
    }
   },
   "outputs": [
    {
     "data": {
      "text/plain": [
       "0"
      ]
     },
     "execution_count": 10,
     "metadata": {},
     "output_type": "execute_result"
    }
   ],
   "source": [
    "# 결측치 재확인\n",
    "df['region'].value_counts().isnull().sum()"
   ]
  },
  {
   "cell_type": "markdown",
   "metadata": {},
   "source": [
    "### type_of_business - 데이터 셋팅\n",
    "- 범주형이지만, 종류가 너무 많아(145개) dummy 하여 사용하기는 어려움 -> 활용을 위해 파생변수 생성 필요 (group by)\n",
    "- 결측치가 3952609 개 존재함\n",
    "- 결측치를 drop하기에는 너무 많은 데이터 -> 전처리를 통해 group by에 포함되도록 해야 함"
   ]
  },
  {
   "cell_type": "code",
   "execution_count": 11,
   "metadata": {
    "ExecuteTime": {
     "end_time": "2021-07-10T14:44:21.805482Z",
     "start_time": "2021-07-10T14:44:20.951505Z"
    }
   },
   "outputs": [
    {
     "data": {
      "text/plain": [
       "미분류        3952609\n",
       "한식 음식점업     745905\n",
       "두발 미용업      178475\n",
       "의복 소매업      158234\n",
       "기타 주점업      102413\n",
       "Name: type_of_business, dtype: int64"
      ]
     },
     "execution_count": 11,
     "metadata": {},
     "output_type": "execute_result"
    }
   ],
   "source": [
    "# groupby에 결측을 포함시키기 위해, 결측을 문자로 대체\n",
    "df['type_of_business'].fillna('미분류', inplace = True)\n",
    "df['type_of_business'].value_counts().head()"
   ]
  },
  {
   "cell_type": "code",
   "execution_count": 12,
   "metadata": {
    "ExecuteTime": {
     "end_time": "2021-07-10T14:44:24.661899Z",
     "start_time": "2021-07-10T14:44:24.084902Z"
    }
   },
   "outputs": [
    {
     "data": {
      "text/plain": [
       "0"
      ]
     },
     "execution_count": 12,
     "metadata": {},
     "output_type": "execute_result"
    }
   ],
   "source": [
    "# 결과 재확인\n",
    "df['type_of_business'].value_counts().isnull().sum()"
   ]
  },
  {
   "cell_type": "markdown",
   "metadata": {},
   "source": [
    "## 불필요한 변수 제거\n",
    "- card_id, card_company는 특징으로 사용하기에는 범주가 너무 세밀하고, 특징으로서 유의하지 않을 것이라 판단되므로 drop"
   ]
  },
  {
   "cell_type": "code",
   "execution_count": 13,
   "metadata": {
    "ExecuteTime": {
     "end_time": "2021-07-10T14:44:33.368612Z",
     "start_time": "2021-07-10T14:44:33.058442Z"
    }
   },
   "outputs": [],
   "source": [
    "df.drop(['card_id', 'card_company'], axis = 1, inplace = True)"
   ]
  },
  {
   "cell_type": "markdown",
   "metadata": {},
   "source": [
    "## 중복 데이터 처리"
   ]
  },
  {
   "cell_type": "code",
   "execution_count": 14,
   "metadata": {
    "ExecuteTime": {
     "end_time": "2021-07-10T14:45:01.807223Z",
     "start_time": "2021-07-10T14:45:00.292195Z"
    }
   },
   "outputs": [
    {
     "data": {
      "text/html": [
       "<div>\n",
       "<style scoped>\n",
       "    .dataframe tbody tr th:only-of-type {\n",
       "        vertical-align: middle;\n",
       "    }\n",
       "\n",
       "    .dataframe tbody tr th {\n",
       "        vertical-align: top;\n",
       "    }\n",
       "\n",
       "    .dataframe thead th {\n",
       "        text-align: right;\n",
       "    }\n",
       "</style>\n",
       "<table border=\"1\" class=\"dataframe\">\n",
       "  <thead>\n",
       "    <tr style=\"text-align: right;\">\n",
       "      <th></th>\n",
       "      <th>store_id</th>\n",
       "      <th>region</th>\n",
       "      <th>type_of_business</th>\n",
       "      <th>std_mth</th>\n",
       "    </tr>\n",
       "  </thead>\n",
       "  <tbody>\n",
       "    <tr>\n",
       "      <th>0</th>\n",
       "      <td>0</td>\n",
       "      <td>미분류</td>\n",
       "      <td>기타 미용업</td>\n",
       "      <td>6</td>\n",
       "    </tr>\n",
       "    <tr>\n",
       "      <th>145</th>\n",
       "      <td>0</td>\n",
       "      <td>미분류</td>\n",
       "      <td>기타 미용업</td>\n",
       "      <td>7</td>\n",
       "    </tr>\n",
       "    <tr>\n",
       "      <th>323</th>\n",
       "      <td>0</td>\n",
       "      <td>미분류</td>\n",
       "      <td>기타 미용업</td>\n",
       "      <td>8</td>\n",
       "    </tr>\n",
       "    <tr>\n",
       "      <th>494</th>\n",
       "      <td>0</td>\n",
       "      <td>미분류</td>\n",
       "      <td>기타 미용업</td>\n",
       "      <td>9</td>\n",
       "    </tr>\n",
       "    <tr>\n",
       "      <th>654</th>\n",
       "      <td>0</td>\n",
       "      <td>미분류</td>\n",
       "      <td>기타 미용업</td>\n",
       "      <td>10</td>\n",
       "    </tr>\n",
       "  </tbody>\n",
       "</table>\n",
       "</div>"
      ],
      "text/plain": [
       "     store_id region type_of_business  std_mth\n",
       "0           0    미분류           기타 미용업        6\n",
       "145         0    미분류           기타 미용업        7\n",
       "323         0    미분류           기타 미용업        8\n",
       "494         0    미분류           기타 미용업        9\n",
       "654         0    미분류           기타 미용업       10"
      ]
     },
     "execution_count": 14,
     "metadata": {},
     "output_type": "execute_result"
    }
   ],
   "source": [
    "# 'store_id', 'region', 'type_of_business', 'std_mth'를 기준으로 중복 제거\n",
    "train_df = df.drop_duplicates(subset = ['store_id', 'region', 'type_of_business', 'std_mth'])[['store_id', 'region', 'type_of_business', 'std_mth']]\n",
    "train_df.head()"
   ]
  },
  {
   "cell_type": "markdown",
   "metadata": {},
   "source": [
    "## 평균 할부율 입력 to train_df"
   ]
  },
  {
   "cell_type": "code",
   "execution_count": 15,
   "metadata": {
    "ExecuteTime": {
     "end_time": "2021-07-10T14:45:12.789864Z",
     "start_time": "2021-07-10T14:45:11.952403Z"
    }
   },
   "outputs": [],
   "source": [
    "train_df['평균할부율'] = train_df['store_id'].replace(installment_term_per_store.to_dict())"
   ]
  },
  {
   "cell_type": "markdown",
   "metadata": {},
   "source": [
    "## std_mth(기준월)의 -1, -2, -3 시점에 대한 매장별/지역별/ 업종별 매출 파생변수 생성"
   ]
  },
  {
   "attachments": {
    "image.png": {
     "image/png": "[encoded data removed]"
    }
   },
   "cell_type": "markdown",
   "metadata": {},
   "source": [
    "- df1에서는 시점 t를, 다른 데이터에서는 시점 t+1 or t-1 을 붙여야 되는 상황\n",
    "- t가 유니크 하다면, df2를 shift()해서 공백을 만든 뒤 concat을 하면 된다. (시계열 데이터에서 많이 사용)\n",
    "- t가 유니크 하지 않은 경우는 새로운 변수( e.g: t_1)을 만들어서 merge한다.\n",
    "\n",
    "![image.png](attachment:image.png)\n",
    "\n",
    "---\n",
    "- 단, std_mth는 각 매장별로 값이 존재하고, 필요한 값은 기준 월(std_mth)을 중심으로 -1, -2, -3 개월의 매출 값이다.\n",
    "- 이를 위해 for문을 사용하여 i = 1, 2, 3 일때 각각 t_{i} 값이 들어가는 변수를 만들어서 병합할 것이다.\n",
    "- 중복 방지를 위해 병합한 변수명 변경 및 drop 작업도 함께 수행한다."
   ]
  },
  {
   "cell_type": "markdown",
   "metadata": {},
   "source": [
    "### 각 시점별 매장의 월 매출 (파생변수)"
   ]
  },
  {
   "cell_type": "markdown",
   "metadata": {},
   "source": [
    "##### 각 store당 월별 amount 계산\n",
    "\n",
    "- standard_t (월): 6(2016년 6월) ~ 38 (2019년 2월)\n",
    "- 즉, store_id가 0이라는 매장의 standard_t가 6일때의 매출 , 7일때의 매출... 38일때의 매출을 각각 입력"
   ]
  },
  {
   "cell_type": "code",
   "execution_count": 16,
   "metadata": {
    "ExecuteTime": {
     "end_time": "2021-07-10T14:46:52.658403Z",
     "start_time": "2021-07-10T14:46:52.147206Z"
    }
   },
   "outputs": [
    {
     "data": {
      "text/html": [
       "<div>\n",
       "<style scoped>\n",
       "    .dataframe tbody tr th:only-of-type {\n",
       "        vertical-align: middle;\n",
       "    }\n",
       "\n",
       "    .dataframe tbody tr th {\n",
       "        vertical-align: top;\n",
       "    }\n",
       "\n",
       "    .dataframe thead th {\n",
       "        text-align: right;\n",
       "    }\n",
       "</style>\n",
       "<table border=\"1\" class=\"dataframe\">\n",
       "  <thead>\n",
       "    <tr style=\"text-align: right;\">\n",
       "      <th></th>\n",
       "      <th>store_id</th>\n",
       "      <th>std_mth</th>\n",
       "      <th>amount</th>\n",
       "    </tr>\n",
       "  </thead>\n",
       "  <tbody>\n",
       "    <tr>\n",
       "      <th>0</th>\n",
       "      <td>0</td>\n",
       "      <td>6</td>\n",
       "      <td>747000.00</td>\n",
       "    </tr>\n",
       "    <tr>\n",
       "      <th>1</th>\n",
       "      <td>0</td>\n",
       "      <td>7</td>\n",
       "      <td>1005000.00</td>\n",
       "    </tr>\n",
       "    <tr>\n",
       "      <th>2</th>\n",
       "      <td>0</td>\n",
       "      <td>8</td>\n",
       "      <td>871571.43</td>\n",
       "    </tr>\n",
       "    <tr>\n",
       "      <th>3</th>\n",
       "      <td>0</td>\n",
       "      <td>9</td>\n",
       "      <td>897857.14</td>\n",
       "    </tr>\n",
       "    <tr>\n",
       "      <th>4</th>\n",
       "      <td>0</td>\n",
       "      <td>10</td>\n",
       "      <td>835428.57</td>\n",
       "    </tr>\n",
       "  </tbody>\n",
       "</table>\n",
       "</div>"
      ],
      "text/plain": [
       "   store_id  std_mth     amount\n",
       "0         0        6  747000.00\n",
       "1         0        7 1005000.00\n",
       "2         0        8  871571.43\n",
       "3         0        9  897857.14\n",
       "4         0       10  835428.57"
      ]
     },
     "execution_count": 16,
     "metadata": {},
     "output_type": "execute_result"
    }
   ],
   "source": [
    "# store_id와 standard_t에 따른 amount 합계 계산: total_amt_per_mth_and_store\n",
    "total_amt_per_mth_and_store = df.groupby(['store_id', 'std_mth'], as_index = False)['amount'].sum()\n",
    "total_amt_per_mth_and_store.head()"
   ]
  },
  {
   "cell_type": "markdown",
   "metadata": {},
   "source": [
    "- group by의 경우 지정한 조건에 해당하는 값이 없으면 건너뛴다.\n",
    "- 각 지점별로 '모든 월' 에 대한 amount가 들어가야 하므로, 매장별 매출에서 값이 생략된 월들은 0으로 값을 넣어줘야 한다.\n",
    "- 그렇지 않을 경우 다른 데이터와 merge 할 경우 에러 발생, 혹은 잘못된 값이 입력될 수 있다."
   ]
  },
  {
   "cell_type": "markdown",
   "metadata": {},
   "source": [
    "매장별로 결측된 월이 있는지 확인"
   ]
  },
  {
   "cell_type": "code",
   "execution_count": 17,
   "metadata": {
    "ExecuteTime": {
     "end_time": "2021-07-10T14:47:08.438719Z",
     "start_time": "2021-07-10T14:47:08.418772Z"
    }
   },
   "outputs": [
    {
     "data": {
      "text/plain": [
       "store_id\n",
       "0       33\n",
       "1       33\n",
       "2       33\n",
       "4       33\n",
       "5       33\n",
       "        ..\n",
       "2132    31\n",
       "2133    32\n",
       "2134    26\n",
       "2135    31\n",
       "2136    22\n",
       "Name: std_mth, Length: 1967, dtype: int64"
      ]
     },
     "execution_count": 17,
     "metadata": {},
     "output_type": "execute_result"
    }
   ],
   "source": [
    "total_amt_per_mth_and_store.groupby(['store_id'])['std_mth'].count()"
   ]
  },
  {
   "cell_type": "markdown",
   "metadata": {
    "ExecuteTime": {
     "end_time": "2021-07-10T14:47:50.756423Z",
     "start_time": "2021-07-10T14:47:50.744456Z"
    }
   },
   "source": [
    "- 몇몇 store_id에서 누락된 값이 보인다.\n",
    "- group by에서 생략된 값이 실제 매출이 발생했는데 단순 누락된 값인지, 매장 운영이 되지 않은 기간이어서 0인건지 확인이 어렵다.\n",
    "- 이를 위해 pivot_table 활용\n",
    "---\n",
    "- 누락된 값이 연속적인 경우만 있다면 매출이 발생하지 않은 것으로 가정 하여 0으로 채운다.\n",
    "    - e.g) 시작점은 2016년 6월이지만, 누락된 매장들은 시작점 보다 늦게 개점하여 누락된 경우\n",
    "\n",
    "\n",
    "- 누락된 값이 불연속적이라면, 매출값이 누락된 것이라 가정하고 누락된 값의 '전/후' 값으로 채워넣는다."
   ]
  },
  {
   "cell_type": "code",
   "execution_count": 19,
   "metadata": {
    "ExecuteTime": {
     "end_time": "2021-07-10T14:48:15.242881Z",
     "start_time": "2021-07-10T14:48:14.604260Z"
    }
   },
   "outputs": [
    {
     "data": {
      "text/html": [
       "<div>\n",
       "<style scoped>\n",
       "    .dataframe tbody tr th:only-of-type {\n",
       "        vertical-align: middle;\n",
       "    }\n",
       "\n",
       "    .dataframe tbody tr th {\n",
       "        vertical-align: top;\n",
       "    }\n",
       "\n",
       "    .dataframe thead th {\n",
       "        text-align: right;\n",
       "    }\n",
       "</style>\n",
       "<table border=\"1\" class=\"dataframe\">\n",
       "  <thead>\n",
       "    <tr style=\"text-align: right;\">\n",
       "      <th>std_mth</th>\n",
       "      <th>6</th>\n",
       "      <th>7</th>\n",
       "      <th>8</th>\n",
       "      <th>9</th>\n",
       "      <th>10</th>\n",
       "      <th>11</th>\n",
       "      <th>12</th>\n",
       "      <th>13</th>\n",
       "      <th>14</th>\n",
       "      <th>15</th>\n",
       "      <th>16</th>\n",
       "      <th>17</th>\n",
       "      <th>18</th>\n",
       "      <th>19</th>\n",
       "      <th>20</th>\n",
       "      <th>21</th>\n",
       "      <th>22</th>\n",
       "      <th>23</th>\n",
       "      <th>24</th>\n",
       "      <th>25</th>\n",
       "      <th>26</th>\n",
       "      <th>27</th>\n",
       "      <th>28</th>\n",
       "      <th>29</th>\n",
       "      <th>30</th>\n",
       "      <th>31</th>\n",
       "      <th>32</th>\n",
       "      <th>33</th>\n",
       "      <th>34</th>\n",
       "      <th>35</th>\n",
       "      <th>36</th>\n",
       "      <th>37</th>\n",
       "      <th>38</th>\n",
       "    </tr>\n",
       "    <tr>\n",
       "      <th>store_id</th>\n",
       "      <th></th>\n",
       "      <th></th>\n",
       "      <th></th>\n",
       "      <th></th>\n",
       "      <th></th>\n",
       "      <th></th>\n",
       "      <th></th>\n",
       "      <th></th>\n",
       "      <th></th>\n",
       "      <th></th>\n",
       "      <th></th>\n",
       "      <th></th>\n",
       "      <th></th>\n",
       "      <th></th>\n",
       "      <th></th>\n",
       "      <th></th>\n",
       "      <th></th>\n",
       "      <th></th>\n",
       "      <th></th>\n",
       "      <th></th>\n",
       "      <th></th>\n",
       "      <th></th>\n",
       "      <th></th>\n",
       "      <th></th>\n",
       "      <th></th>\n",
       "      <th></th>\n",
       "      <th></th>\n",
       "      <th></th>\n",
       "      <th></th>\n",
       "      <th></th>\n",
       "      <th></th>\n",
       "      <th></th>\n",
       "      <th></th>\n",
       "    </tr>\n",
       "  </thead>\n",
       "  <tbody>\n",
       "    <tr>\n",
       "      <th>0</th>\n",
       "      <td>747000.00</td>\n",
       "      <td>1005000.00</td>\n",
       "      <td>871571.43</td>\n",
       "      <td>897857.14</td>\n",
       "      <td>835428.57</td>\n",
       "      <td>697000.00</td>\n",
       "      <td>761857.14</td>\n",
       "      <td>585642.86</td>\n",
       "      <td>794000.00</td>\n",
       "      <td>720257.14</td>\n",
       "      <td>685285.71</td>\n",
       "      <td>744428.57</td>\n",
       "      <td>682000.00</td>\n",
       "      <td>728285.71</td>\n",
       "      <td>749000.00</td>\n",
       "      <td>840857.14</td>\n",
       "      <td>600571.43</td>\n",
       "      <td>630857.14</td>\n",
       "      <td>812714.29</td>\n",
       "      <td>643142.86</td>\n",
       "      <td>685285.71</td>\n",
       "      <td>848428.57</td>\n",
       "      <td>636142.86</td>\n",
       "      <td>686428.57</td>\n",
       "      <td>707285.71</td>\n",
       "      <td>758714.29</td>\n",
       "      <td>679857.14</td>\n",
       "      <td>651857.14</td>\n",
       "      <td>739000.00</td>\n",
       "      <td>676000.00</td>\n",
       "      <td>874571.43</td>\n",
       "      <td>682857.14</td>\n",
       "      <td>515285.71</td>\n",
       "    </tr>\n",
       "    <tr>\n",
       "      <th>1</th>\n",
       "      <td>137214.29</td>\n",
       "      <td>163000.00</td>\n",
       "      <td>118142.86</td>\n",
       "      <td>90428.57</td>\n",
       "      <td>118071.43</td>\n",
       "      <td>111857.14</td>\n",
       "      <td>115571.43</td>\n",
       "      <td>129642.86</td>\n",
       "      <td>160214.29</td>\n",
       "      <td>168428.57</td>\n",
       "      <td>152571.43</td>\n",
       "      <td>107500.00</td>\n",
       "      <td>110357.14</td>\n",
       "      <td>132571.43</td>\n",
       "      <td>107642.86</td>\n",
       "      <td>131357.14</td>\n",
       "      <td>80142.86</td>\n",
       "      <td>110142.86</td>\n",
       "      <td>100714.29</td>\n",
       "      <td>109571.43</td>\n",
       "      <td>94214.29</td>\n",
       "      <td>108357.14</td>\n",
       "      <td>108857.14</td>\n",
       "      <td>80500.00</td>\n",
       "      <td>78285.71</td>\n",
       "      <td>100785.71</td>\n",
       "      <td>92142.86</td>\n",
       "      <td>63571.43</td>\n",
       "      <td>95000.00</td>\n",
       "      <td>80785.71</td>\n",
       "      <td>85285.71</td>\n",
       "      <td>148285.71</td>\n",
       "      <td>77428.57</td>\n",
       "    </tr>\n",
       "    <tr>\n",
       "      <th>2</th>\n",
       "      <td>260714.29</td>\n",
       "      <td>82857.14</td>\n",
       "      <td>131428.57</td>\n",
       "      <td>142857.14</td>\n",
       "      <td>109714.29</td>\n",
       "      <td>198571.43</td>\n",
       "      <td>160000.00</td>\n",
       "      <td>180714.29</td>\n",
       "      <td>154285.71</td>\n",
       "      <td>43571.43</td>\n",
       "      <td>201428.57</td>\n",
       "      <td>186428.57</td>\n",
       "      <td>120571.43</td>\n",
       "      <td>207142.86</td>\n",
       "      <td>190000.00</td>\n",
       "      <td>232857.14</td>\n",
       "      <td>266714.29</td>\n",
       "      <td>252857.14</td>\n",
       "      <td>238571.43</td>\n",
       "      <td>299714.29</td>\n",
       "      <td>312857.14</td>\n",
       "      <td>189714.29</td>\n",
       "      <td>283571.43</td>\n",
       "      <td>472857.14</td>\n",
       "      <td>354285.71</td>\n",
       "      <td>689285.71</td>\n",
       "      <td>457857.14</td>\n",
       "      <td>480714.29</td>\n",
       "      <td>510000.00</td>\n",
       "      <td>185428.57</td>\n",
       "      <td>340714.29</td>\n",
       "      <td>407857.14</td>\n",
       "      <td>496857.14</td>\n",
       "    </tr>\n",
       "    <tr>\n",
       "      <th>4</th>\n",
       "      <td>733428.57</td>\n",
       "      <td>768928.57</td>\n",
       "      <td>698428.57</td>\n",
       "      <td>936428.57</td>\n",
       "      <td>762714.29</td>\n",
       "      <td>859571.43</td>\n",
       "      <td>1069857.14</td>\n",
       "      <td>689142.86</td>\n",
       "      <td>1050142.86</td>\n",
       "      <td>970285.71</td>\n",
       "      <td>1085171.43</td>\n",
       "      <td>1035857.14</td>\n",
       "      <td>894142.86</td>\n",
       "      <td>1027285.71</td>\n",
       "      <td>1186857.14</td>\n",
       "      <td>972571.43</td>\n",
       "      <td>1060571.43</td>\n",
       "      <td>1189142.86</td>\n",
       "      <td>1010142.86</td>\n",
       "      <td>831571.43</td>\n",
       "      <td>651000.00</td>\n",
       "      <td>908000.00</td>\n",
       "      <td>792214.29</td>\n",
       "      <td>775428.57</td>\n",
       "      <td>881285.71</td>\n",
       "      <td>1050928.57</td>\n",
       "      <td>849285.71</td>\n",
       "      <td>698142.86</td>\n",
       "      <td>828428.57</td>\n",
       "      <td>883000.00</td>\n",
       "      <td>923857.14</td>\n",
       "      <td>944857.14</td>\n",
       "      <td>882285.71</td>\n",
       "    </tr>\n",
       "    <tr>\n",
       "      <th>5</th>\n",
       "      <td>342500.00</td>\n",
       "      <td>432714.29</td>\n",
       "      <td>263500.00</td>\n",
       "      <td>232142.86</td>\n",
       "      <td>211571.43</td>\n",
       "      <td>182085.71</td>\n",
       "      <td>147571.43</td>\n",
       "      <td>120957.14</td>\n",
       "      <td>186428.57</td>\n",
       "      <td>169000.00</td>\n",
       "      <td>312857.14</td>\n",
       "      <td>235342.86</td>\n",
       "      <td>475857.14</td>\n",
       "      <td>410914.29</td>\n",
       "      <td>297714.29</td>\n",
       "      <td>291428.57</td>\n",
       "      <td>396157.14</td>\n",
       "      <td>399285.71</td>\n",
       "      <td>441557.14</td>\n",
       "      <td>388428.57</td>\n",
       "      <td>316785.71</td>\n",
       "      <td>370142.86</td>\n",
       "      <td>297857.14</td>\n",
       "      <td>443857.14</td>\n",
       "      <td>563714.29</td>\n",
       "      <td>607071.43</td>\n",
       "      <td>482885.71</td>\n",
       "      <td>195000.00</td>\n",
       "      <td>324928.57</td>\n",
       "      <td>383300.00</td>\n",
       "      <td>399571.43</td>\n",
       "      <td>323000.00</td>\n",
       "      <td>215514.29</td>\n",
       "    </tr>\n",
       "    <tr>\n",
       "      <th>...</th>\n",
       "      <td>...</td>\n",
       "      <td>...</td>\n",
       "      <td>...</td>\n",
       "      <td>...</td>\n",
       "      <td>...</td>\n",
       "      <td>...</td>\n",
       "      <td>...</td>\n",
       "      <td>...</td>\n",
       "      <td>...</td>\n",
       "      <td>...</td>\n",
       "      <td>...</td>\n",
       "      <td>...</td>\n",
       "      <td>...</td>\n",
       "      <td>...</td>\n",
       "      <td>...</td>\n",
       "      <td>...</td>\n",
       "      <td>...</td>\n",
       "      <td>...</td>\n",
       "      <td>...</td>\n",
       "      <td>...</td>\n",
       "      <td>...</td>\n",
       "      <td>...</td>\n",
       "      <td>...</td>\n",
       "      <td>...</td>\n",
       "      <td>...</td>\n",
       "      <td>...</td>\n",
       "      <td>...</td>\n",
       "      <td>...</td>\n",
       "      <td>...</td>\n",
       "      <td>...</td>\n",
       "      <td>...</td>\n",
       "      <td>...</td>\n",
       "      <td>...</td>\n",
       "    </tr>\n",
       "    <tr>\n",
       "      <th>2132</th>\n",
       "      <td>nan</td>\n",
       "      <td>nan</td>\n",
       "      <td>281142.86</td>\n",
       "      <td>783428.57</td>\n",
       "      <td>822000.00</td>\n",
       "      <td>941142.86</td>\n",
       "      <td>731142.86</td>\n",
       "      <td>684571.43</td>\n",
       "      <td>701000.00</td>\n",
       "      <td>742428.57</td>\n",
       "      <td>624614.29</td>\n",
       "      <td>566857.14</td>\n",
       "      <td>742857.14</td>\n",
       "      <td>865285.71</td>\n",
       "      <td>898428.57</td>\n",
       "      <td>787857.14</td>\n",
       "      <td>531857.14</td>\n",
       "      <td>1095000.00</td>\n",
       "      <td>1014071.43</td>\n",
       "      <td>580785.71</td>\n",
       "      <td>703857.14</td>\n",
       "      <td>909142.86</td>\n",
       "      <td>938428.57</td>\n",
       "      <td>670571.43</td>\n",
       "      <td>757857.14</td>\n",
       "      <td>753428.57</td>\n",
       "      <td>524142.86</td>\n",
       "      <td>637714.29</td>\n",
       "      <td>938571.43</td>\n",
       "      <td>729857.14</td>\n",
       "      <td>474285.71</td>\n",
       "      <td>571142.86</td>\n",
       "      <td>630428.57</td>\n",
       "    </tr>\n",
       "    <tr>\n",
       "      <th>2133</th>\n",
       "      <td>85000.00</td>\n",
       "      <td>367857.14</td>\n",
       "      <td>743571.43</td>\n",
       "      <td>494714.29</td>\n",
       "      <td>178571.43</td>\n",
       "      <td>124285.71</td>\n",
       "      <td>36285.71</td>\n",
       "      <td>31857.14</td>\n",
       "      <td>145114.29</td>\n",
       "      <td>313128.57</td>\n",
       "      <td>300685.71</td>\n",
       "      <td>384057.14</td>\n",
       "      <td>524342.86</td>\n",
       "      <td>425342.86</td>\n",
       "      <td>438257.14</td>\n",
       "      <td>493757.14</td>\n",
       "      <td>421214.29</td>\n",
       "      <td>646628.57</td>\n",
       "      <td>601171.43</td>\n",
       "      <td>433414.29</td>\n",
       "      <td>277342.86</td>\n",
       "      <td>308485.71</td>\n",
       "      <td>484071.43</td>\n",
       "      <td>626071.43</td>\n",
       "      <td>395700.00</td>\n",
       "      <td>421614.29</td>\n",
       "      <td>548942.86</td>\n",
       "      <td>310971.43</td>\n",
       "      <td>192700.00</td>\n",
       "      <td>84714.29</td>\n",
       "      <td>nan</td>\n",
       "      <td>84000.00</td>\n",
       "      <td>116285.71</td>\n",
       "    </tr>\n",
       "    <tr>\n",
       "      <th>2134</th>\n",
       "      <td>nan</td>\n",
       "      <td>nan</td>\n",
       "      <td>nan</td>\n",
       "      <td>nan</td>\n",
       "      <td>nan</td>\n",
       "      <td>393000.00</td>\n",
       "      <td>678214.29</td>\n",
       "      <td>459071.43</td>\n",
       "      <td>463428.57</td>\n",
       "      <td>446285.71</td>\n",
       "      <td>363571.43</td>\n",
       "      <td>580285.71</td>\n",
       "      <td>486857.14</td>\n",
       "      <td>503642.86</td>\n",
       "      <td>467785.71</td>\n",
       "      <td>431642.86</td>\n",
       "      <td>248714.29</td>\n",
       "      <td>355714.29</td>\n",
       "      <td>374142.86</td>\n",
       "      <td>313785.71</td>\n",
       "      <td>171857.14</td>\n",
       "      <td>245571.43</td>\n",
       "      <td>72357.14</td>\n",
       "      <td>216142.86</td>\n",
       "      <td>209785.71</td>\n",
       "      <td>140714.29</td>\n",
       "      <td>nan</td>\n",
       "      <td>nan</td>\n",
       "      <td>84428.57</td>\n",
       "      <td>60785.71</td>\n",
       "      <td>4285.71</td>\n",
       "      <td>209428.57</td>\n",
       "      <td>166000.00</td>\n",
       "    </tr>\n",
       "    <tr>\n",
       "      <th>2135</th>\n",
       "      <td>nan</td>\n",
       "      <td>nan</td>\n",
       "      <td>357428.57</td>\n",
       "      <td>786000.00</td>\n",
       "      <td>760285.71</td>\n",
       "      <td>751428.57</td>\n",
       "      <td>682857.14</td>\n",
       "      <td>544000.00</td>\n",
       "      <td>656000.00</td>\n",
       "      <td>631000.00</td>\n",
       "      <td>698571.43</td>\n",
       "      <td>611714.29</td>\n",
       "      <td>763857.14</td>\n",
       "      <td>675857.14</td>\n",
       "      <td>575714.29</td>\n",
       "      <td>575857.14</td>\n",
       "      <td>473714.29</td>\n",
       "      <td>505285.71</td>\n",
       "      <td>521857.14</td>\n",
       "      <td>563714.29</td>\n",
       "      <td>443928.57</td>\n",
       "      <td>468285.71</td>\n",
       "      <td>445142.86</td>\n",
       "      <td>577571.43</td>\n",
       "      <td>714428.57</td>\n",
       "      <td>438428.57</td>\n",
       "      <td>566142.86</td>\n",
       "      <td>509857.14</td>\n",
       "      <td>850428.57</td>\n",
       "      <td>589428.57</td>\n",
       "      <td>541857.14</td>\n",
       "      <td>462285.71</td>\n",
       "      <td>404285.71</td>\n",
       "    </tr>\n",
       "    <tr>\n",
       "      <th>2136</th>\n",
       "      <td>nan</td>\n",
       "      <td>nan</td>\n",
       "      <td>nan</td>\n",
       "      <td>nan</td>\n",
       "      <td>nan</td>\n",
       "      <td>nan</td>\n",
       "      <td>nan</td>\n",
       "      <td>nan</td>\n",
       "      <td>nan</td>\n",
       "      <td>nan</td>\n",
       "      <td>nan</td>\n",
       "      <td>469214.29</td>\n",
       "      <td>2713814.29</td>\n",
       "      <td>2967357.14</td>\n",
       "      <td>3364357.14</td>\n",
       "      <td>3190642.86</td>\n",
       "      <td>3364285.71</td>\n",
       "      <td>2706714.29</td>\n",
       "      <td>2869571.43</td>\n",
       "      <td>1877857.14</td>\n",
       "      <td>2023642.86</td>\n",
       "      <td>2352071.43</td>\n",
       "      <td>2197428.57</td>\n",
       "      <td>2194428.57</td>\n",
       "      <td>2333000.00</td>\n",
       "      <td>1601785.71</td>\n",
       "      <td>1222300.00</td>\n",
       "      <td>2775714.29</td>\n",
       "      <td>2012214.29</td>\n",
       "      <td>2135428.57</td>\n",
       "      <td>2427428.57</td>\n",
       "      <td>1873642.86</td>\n",
       "      <td>2227428.57</td>\n",
       "    </tr>\n",
       "  </tbody>\n",
       "</table>\n",
       "<p>1967 rows × 33 columns</p>\n",
       "</div>"
      ],
      "text/plain": [
       "std_mth         6          7         8         9         10        11         12        13         14        15         16         17         18         19         20         21         22         23         24         25         26         27         28         29         30         31         32         33         34         35         36         37         38\n",
       "store_id                                                                                                                                                                                                                                                                                                                                                                    \n",
       "0        747000.00 1005000.00 871571.43 897857.14 835428.57 697000.00  761857.14 585642.86  794000.00 720257.14  685285.71  744428.57  682000.00  728285.71  749000.00  840857.14  600571.43  630857.14  812714.29  643142.86  685285.71  848428.57  636142.86  686428.57  707285.71  758714.29  679857.14  651857.14  739000.00  676000.00  874571.43  682857.14  515285.71\n",
       "1        137214.29  163000.00 118142.86  90428.57 118071.43 111857.14  115571.43 129642.86  160214.29 168428.57  152571.43  107500.00  110357.14  132571.43  107642.86  131357.14   80142.86  110142.86  100714.29  109571.43   94214.29  108357.14  108857.14   80500.00   78285.71  100785.71   92142.86   63571.43   95000.00   80785.71   85285.71  148285.71   77428.57\n",
       "2        260714.29   82857.14 131428.57 142857.14 109714.29 198571.43  160000.00 180714.29  154285.71  43571.43  201428.57  186428.57  120571.43  207142.86  190000.00  232857.14  266714.29  252857.14  238571.43  299714.29  312857.14  189714.29  283571.43  472857.14  354285.71  689285.71  457857.14  480714.29  510000.00  185428.57  340714.29  407857.14  496857.14\n",
       "4        733428.57  768928.57 698428.57 936428.57 762714.29 859571.43 1069857.14 689142.86 1050142.86 970285.71 1085171.43 1035857.14  894142.86 1027285.71 1186857.14  972571.43 1060571.43 1189142.86 1010142.86  831571.43  651000.00  908000.00  792214.29  775428.57  881285.71 1050928.57  849285.71  698142.86  828428.57  883000.00  923857.14  944857.14  882285.71\n",
       "5        342500.00  432714.29 263500.00 232142.86 211571.43 182085.71  147571.43 120957.14  186428.57 169000.00  312857.14  235342.86  475857.14  410914.29  297714.29  291428.57  396157.14  399285.71  441557.14  388428.57  316785.71  370142.86  297857.14  443857.14  563714.29  607071.43  482885.71  195000.00  324928.57  383300.00  399571.43  323000.00  215514.29\n",
       "...            ...        ...       ...       ...       ...       ...        ...       ...        ...       ...        ...        ...        ...        ...        ...        ...        ...        ...        ...        ...        ...        ...        ...        ...        ...        ...        ...        ...        ...        ...        ...        ...        ...\n",
       "2132           nan        nan 281142.86 783428.57 822000.00 941142.86  731142.86 684571.43  701000.00 742428.57  624614.29  566857.14  742857.14  865285.71  898428.57  787857.14  531857.14 1095000.00 1014071.43  580785.71  703857.14  909142.86  938428.57  670571.43  757857.14  753428.57  524142.86  637714.29  938571.43  729857.14  474285.71  571142.86  630428.57\n",
       "2133      85000.00  367857.14 743571.43 494714.29 178571.43 124285.71   36285.71  31857.14  145114.29 313128.57  300685.71  384057.14  524342.86  425342.86  438257.14  493757.14  421214.29  646628.57  601171.43  433414.29  277342.86  308485.71  484071.43  626071.43  395700.00  421614.29  548942.86  310971.43  192700.00   84714.29        nan   84000.00  116285.71\n",
       "2134           nan        nan       nan       nan       nan 393000.00  678214.29 459071.43  463428.57 446285.71  363571.43  580285.71  486857.14  503642.86  467785.71  431642.86  248714.29  355714.29  374142.86  313785.71  171857.14  245571.43   72357.14  216142.86  209785.71  140714.29        nan        nan   84428.57   60785.71    4285.71  209428.57  166000.00\n",
       "2135           nan        nan 357428.57 786000.00 760285.71 751428.57  682857.14 544000.00  656000.00 631000.00  698571.43  611714.29  763857.14  675857.14  575714.29  575857.14  473714.29  505285.71  521857.14  563714.29  443928.57  468285.71  445142.86  577571.43  714428.57  438428.57  566142.86  509857.14  850428.57  589428.57  541857.14  462285.71  404285.71\n",
       "2136           nan        nan       nan       nan       nan       nan        nan       nan        nan       nan        nan  469214.29 2713814.29 2967357.14 3364357.14 3190642.86 3364285.71 2706714.29 2869571.43 1877857.14 2023642.86 2352071.43 2197428.57 2194428.57 2333000.00 1601785.71 1222300.00 2775714.29 2012214.29 2135428.57 2427428.57 1873642.86 2227428.57\n",
       "\n",
       "[1967 rows x 33 columns]"
      ]
     },
     "execution_count": 19,
     "metadata": {},
     "output_type": "execute_result"
    }
   ],
   "source": [
    "# pivot_table로 nan값의 분포 형태 확인\n",
    "check_nan_amount = pd.pivot_table(df, values = 'amount', index = 'store_id', columns = 'std_mth', aggfunc = 'sum')\n",
    "check_nan_amount"
   ]
  },
  {
   "cell_type": "markdown",
   "metadata": {},
   "source": [
    "- pivot table을 통해 보았을때, '월' 의 중간 중간 nan값이 발생하는 것으로 보아, 실제 매출은 발생하였으나 누락된 데이터 일 것이라 가정\n",
    "- nan값을 바로 앞, 뒤 standard_t의 매출로 채워 넣는다."
   ]
  },
  {
   "cell_type": "code",
   "execution_count": 20,
   "metadata": {
    "ExecuteTime": {
     "end_time": "2021-07-10T14:48:15.378037Z",
     "start_time": "2021-07-10T14:48:15.336149Z"
    }
   },
   "outputs": [
    {
     "data": {
      "text/html": [
       "<div>\n",
       "<style scoped>\n",
       "    .dataframe tbody tr th:only-of-type {\n",
       "        vertical-align: middle;\n",
       "    }\n",
       "\n",
       "    .dataframe tbody tr th {\n",
       "        vertical-align: top;\n",
       "    }\n",
       "\n",
       "    .dataframe thead th {\n",
       "        text-align: right;\n",
       "    }\n",
       "</style>\n",
       "<table border=\"1\" class=\"dataframe\">\n",
       "  <thead>\n",
       "    <tr style=\"text-align: right;\">\n",
       "      <th>std_mth</th>\n",
       "      <th>6</th>\n",
       "      <th>7</th>\n",
       "      <th>8</th>\n",
       "      <th>9</th>\n",
       "      <th>10</th>\n",
       "      <th>11</th>\n",
       "      <th>12</th>\n",
       "      <th>13</th>\n",
       "      <th>14</th>\n",
       "      <th>15</th>\n",
       "      <th>16</th>\n",
       "      <th>17</th>\n",
       "      <th>18</th>\n",
       "      <th>19</th>\n",
       "      <th>20</th>\n",
       "      <th>21</th>\n",
       "      <th>22</th>\n",
       "      <th>23</th>\n",
       "      <th>24</th>\n",
       "      <th>25</th>\n",
       "      <th>26</th>\n",
       "      <th>27</th>\n",
       "      <th>28</th>\n",
       "      <th>29</th>\n",
       "      <th>30</th>\n",
       "      <th>31</th>\n",
       "      <th>32</th>\n",
       "      <th>33</th>\n",
       "      <th>34</th>\n",
       "      <th>35</th>\n",
       "      <th>36</th>\n",
       "      <th>37</th>\n",
       "      <th>38</th>\n",
       "    </tr>\n",
       "    <tr>\n",
       "      <th>store_id</th>\n",
       "      <th></th>\n",
       "      <th></th>\n",
       "      <th></th>\n",
       "      <th></th>\n",
       "      <th></th>\n",
       "      <th></th>\n",
       "      <th></th>\n",
       "      <th></th>\n",
       "      <th></th>\n",
       "      <th></th>\n",
       "      <th></th>\n",
       "      <th></th>\n",
       "      <th></th>\n",
       "      <th></th>\n",
       "      <th></th>\n",
       "      <th></th>\n",
       "      <th></th>\n",
       "      <th></th>\n",
       "      <th></th>\n",
       "      <th></th>\n",
       "      <th></th>\n",
       "      <th></th>\n",
       "      <th></th>\n",
       "      <th></th>\n",
       "      <th></th>\n",
       "      <th></th>\n",
       "      <th></th>\n",
       "      <th></th>\n",
       "      <th></th>\n",
       "      <th></th>\n",
       "      <th></th>\n",
       "      <th></th>\n",
       "      <th></th>\n",
       "    </tr>\n",
       "  </thead>\n",
       "  <tbody>\n",
       "    <tr>\n",
       "      <th>0</th>\n",
       "      <td>747000.00</td>\n",
       "      <td>1005000.00</td>\n",
       "      <td>871571.43</td>\n",
       "      <td>897857.14</td>\n",
       "      <td>835428.57</td>\n",
       "      <td>697000.00</td>\n",
       "      <td>761857.14</td>\n",
       "      <td>585642.86</td>\n",
       "      <td>794000.00</td>\n",
       "      <td>720257.14</td>\n",
       "      <td>685285.71</td>\n",
       "      <td>744428.57</td>\n",
       "      <td>682000.00</td>\n",
       "      <td>728285.71</td>\n",
       "      <td>749000.00</td>\n",
       "      <td>840857.14</td>\n",
       "      <td>600571.43</td>\n",
       "      <td>630857.14</td>\n",
       "      <td>812714.29</td>\n",
       "      <td>643142.86</td>\n",
       "      <td>685285.71</td>\n",
       "      <td>848428.57</td>\n",
       "      <td>636142.86</td>\n",
       "      <td>686428.57</td>\n",
       "      <td>707285.71</td>\n",
       "      <td>758714.29</td>\n",
       "      <td>679857.14</td>\n",
       "      <td>651857.14</td>\n",
       "      <td>739000.00</td>\n",
       "      <td>676000.00</td>\n",
       "      <td>874571.43</td>\n",
       "      <td>682857.14</td>\n",
       "      <td>515285.71</td>\n",
       "    </tr>\n",
       "    <tr>\n",
       "      <th>1</th>\n",
       "      <td>137214.29</td>\n",
       "      <td>163000.00</td>\n",
       "      <td>118142.86</td>\n",
       "      <td>90428.57</td>\n",
       "      <td>118071.43</td>\n",
       "      <td>111857.14</td>\n",
       "      <td>115571.43</td>\n",
       "      <td>129642.86</td>\n",
       "      <td>160214.29</td>\n",
       "      <td>168428.57</td>\n",
       "      <td>152571.43</td>\n",
       "      <td>107500.00</td>\n",
       "      <td>110357.14</td>\n",
       "      <td>132571.43</td>\n",
       "      <td>107642.86</td>\n",
       "      <td>131357.14</td>\n",
       "      <td>80142.86</td>\n",
       "      <td>110142.86</td>\n",
       "      <td>100714.29</td>\n",
       "      <td>109571.43</td>\n",
       "      <td>94214.29</td>\n",
       "      <td>108357.14</td>\n",
       "      <td>108857.14</td>\n",
       "      <td>80500.00</td>\n",
       "      <td>78285.71</td>\n",
       "      <td>100785.71</td>\n",
       "      <td>92142.86</td>\n",
       "      <td>63571.43</td>\n",
       "      <td>95000.00</td>\n",
       "      <td>80785.71</td>\n",
       "      <td>85285.71</td>\n",
       "      <td>148285.71</td>\n",
       "      <td>77428.57</td>\n",
       "    </tr>\n",
       "    <tr>\n",
       "      <th>2</th>\n",
       "      <td>260714.29</td>\n",
       "      <td>82857.14</td>\n",
       "      <td>131428.57</td>\n",
       "      <td>142857.14</td>\n",
       "      <td>109714.29</td>\n",
       "      <td>198571.43</td>\n",
       "      <td>160000.00</td>\n",
       "      <td>180714.29</td>\n",
       "      <td>154285.71</td>\n",
       "      <td>43571.43</td>\n",
       "      <td>201428.57</td>\n",
       "      <td>186428.57</td>\n",
       "      <td>120571.43</td>\n",
       "      <td>207142.86</td>\n",
       "      <td>190000.00</td>\n",
       "      <td>232857.14</td>\n",
       "      <td>266714.29</td>\n",
       "      <td>252857.14</td>\n",
       "      <td>238571.43</td>\n",
       "      <td>299714.29</td>\n",
       "      <td>312857.14</td>\n",
       "      <td>189714.29</td>\n",
       "      <td>283571.43</td>\n",
       "      <td>472857.14</td>\n",
       "      <td>354285.71</td>\n",
       "      <td>689285.71</td>\n",
       "      <td>457857.14</td>\n",
       "      <td>480714.29</td>\n",
       "      <td>510000.00</td>\n",
       "      <td>185428.57</td>\n",
       "      <td>340714.29</td>\n",
       "      <td>407857.14</td>\n",
       "      <td>496857.14</td>\n",
       "    </tr>\n",
       "    <tr>\n",
       "      <th>4</th>\n",
       "      <td>733428.57</td>\n",
       "      <td>768928.57</td>\n",
       "      <td>698428.57</td>\n",
       "      <td>936428.57</td>\n",
       "      <td>762714.29</td>\n",
       "      <td>859571.43</td>\n",
       "      <td>1069857.14</td>\n",
       "      <td>689142.86</td>\n",
       "      <td>1050142.86</td>\n",
       "      <td>970285.71</td>\n",
       "      <td>1085171.43</td>\n",
       "      <td>1035857.14</td>\n",
       "      <td>894142.86</td>\n",
       "      <td>1027285.71</td>\n",
       "      <td>1186857.14</td>\n",
       "      <td>972571.43</td>\n",
       "      <td>1060571.43</td>\n",
       "      <td>1189142.86</td>\n",
       "      <td>1010142.86</td>\n",
       "      <td>831571.43</td>\n",
       "      <td>651000.00</td>\n",
       "      <td>908000.00</td>\n",
       "      <td>792214.29</td>\n",
       "      <td>775428.57</td>\n",
       "      <td>881285.71</td>\n",
       "      <td>1050928.57</td>\n",
       "      <td>849285.71</td>\n",
       "      <td>698142.86</td>\n",
       "      <td>828428.57</td>\n",
       "      <td>883000.00</td>\n",
       "      <td>923857.14</td>\n",
       "      <td>944857.14</td>\n",
       "      <td>882285.71</td>\n",
       "    </tr>\n",
       "    <tr>\n",
       "      <th>5</th>\n",
       "      <td>342500.00</td>\n",
       "      <td>432714.29</td>\n",
       "      <td>263500.00</td>\n",
       "      <td>232142.86</td>\n",
       "      <td>211571.43</td>\n",
       "      <td>182085.71</td>\n",
       "      <td>147571.43</td>\n",
       "      <td>120957.14</td>\n",
       "      <td>186428.57</td>\n",
       "      <td>169000.00</td>\n",
       "      <td>312857.14</td>\n",
       "      <td>235342.86</td>\n",
       "      <td>475857.14</td>\n",
       "      <td>410914.29</td>\n",
       "      <td>297714.29</td>\n",
       "      <td>291428.57</td>\n",
       "      <td>396157.14</td>\n",
       "      <td>399285.71</td>\n",
       "      <td>441557.14</td>\n",
       "      <td>388428.57</td>\n",
       "      <td>316785.71</td>\n",
       "      <td>370142.86</td>\n",
       "      <td>297857.14</td>\n",
       "      <td>443857.14</td>\n",
       "      <td>563714.29</td>\n",
       "      <td>607071.43</td>\n",
       "      <td>482885.71</td>\n",
       "      <td>195000.00</td>\n",
       "      <td>324928.57</td>\n",
       "      <td>383300.00</td>\n",
       "      <td>399571.43</td>\n",
       "      <td>323000.00</td>\n",
       "      <td>215514.29</td>\n",
       "    </tr>\n",
       "    <tr>\n",
       "      <th>6</th>\n",
       "      <td>568857.14</td>\n",
       "      <td>568857.14</td>\n",
       "      <td>568857.14</td>\n",
       "      <td>1440142.86</td>\n",
       "      <td>1238857.14</td>\n",
       "      <td>1055428.57</td>\n",
       "      <td>926857.14</td>\n",
       "      <td>885642.86</td>\n",
       "      <td>800357.14</td>\n",
       "      <td>930714.29</td>\n",
       "      <td>855071.43</td>\n",
       "      <td>1029785.71</td>\n",
       "      <td>1071571.43</td>\n",
       "      <td>1037214.29</td>\n",
       "      <td>1054857.14</td>\n",
       "      <td>937857.14</td>\n",
       "      <td>1216285.71</td>\n",
       "      <td>1833571.43</td>\n",
       "      <td>2429500.00</td>\n",
       "      <td>2147714.29</td>\n",
       "      <td>2113357.14</td>\n",
       "      <td>2348714.29</td>\n",
       "      <td>1876857.14</td>\n",
       "      <td>1808357.14</td>\n",
       "      <td>1752285.71</td>\n",
       "      <td>1583785.71</td>\n",
       "      <td>1628785.71</td>\n",
       "      <td>2074071.43</td>\n",
       "      <td>1907642.86</td>\n",
       "      <td>2389142.86</td>\n",
       "      <td>2230285.71</td>\n",
       "      <td>2015500.00</td>\n",
       "      <td>2463857.14</td>\n",
       "    </tr>\n",
       "    <tr>\n",
       "      <th>7</th>\n",
       "      <td>107857.14</td>\n",
       "      <td>107857.14</td>\n",
       "      <td>107857.14</td>\n",
       "      <td>375642.86</td>\n",
       "      <td>323642.86</td>\n",
       "      <td>345000.00</td>\n",
       "      <td>291428.57</td>\n",
       "      <td>231614.29</td>\n",
       "      <td>271357.14</td>\n",
       "      <td>249857.14</td>\n",
       "      <td>131500.00</td>\n",
       "      <td>118642.86</td>\n",
       "      <td>53285.71</td>\n",
       "      <td>372285.71</td>\n",
       "      <td>183000.00</td>\n",
       "      <td>527857.14</td>\n",
       "      <td>218214.29</td>\n",
       "      <td>817714.29</td>\n",
       "      <td>750645.71</td>\n",
       "      <td>761571.43</td>\n",
       "      <td>636571.43</td>\n",
       "      <td>339857.14</td>\n",
       "      <td>1039357.14</td>\n",
       "      <td>265714.29</td>\n",
       "      <td>419542.86</td>\n",
       "      <td>462842.86</td>\n",
       "      <td>423128.57</td>\n",
       "      <td>320328.57</td>\n",
       "      <td>420028.57</td>\n",
       "      <td>314385.71</td>\n",
       "      <td>302414.29</td>\n",
       "      <td>136471.43</td>\n",
       "      <td>57971.43</td>\n",
       "    </tr>\n",
       "    <tr>\n",
       "      <th>8</th>\n",
       "      <td>192571.43</td>\n",
       "      <td>192571.43</td>\n",
       "      <td>192571.43</td>\n",
       "      <td>192571.43</td>\n",
       "      <td>192571.43</td>\n",
       "      <td>192571.43</td>\n",
       "      <td>735500.00</td>\n",
       "      <td>467857.14</td>\n",
       "      <td>475642.86</td>\n",
       "      <td>603500.00</td>\n",
       "      <td>1074642.86</td>\n",
       "      <td>1144571.43</td>\n",
       "      <td>1030928.57</td>\n",
       "      <td>1375571.43</td>\n",
       "      <td>1078928.57</td>\n",
       "      <td>984500.00</td>\n",
       "      <td>896785.71</td>\n",
       "      <td>514500.00</td>\n",
       "      <td>552214.29</td>\n",
       "      <td>618785.71</td>\n",
       "      <td>461714.29</td>\n",
       "      <td>744500.00</td>\n",
       "      <td>867071.43</td>\n",
       "      <td>1837428.57</td>\n",
       "      <td>1359857.14</td>\n",
       "      <td>1213542.86</td>\n",
       "      <td>1086000.00</td>\n",
       "      <td>1369557.14</td>\n",
       "      <td>1272071.43</td>\n",
       "      <td>1260557.14</td>\n",
       "      <td>1157257.14</td>\n",
       "      <td>1134671.43</td>\n",
       "      <td>1298328.57</td>\n",
       "    </tr>\n",
       "    <tr>\n",
       "      <th>9</th>\n",
       "      <td>107142.86</td>\n",
       "      <td>107142.86</td>\n",
       "      <td>107142.86</td>\n",
       "      <td>107142.86</td>\n",
       "      <td>107142.86</td>\n",
       "      <td>637142.86</td>\n",
       "      <td>603571.43</td>\n",
       "      <td>225428.57</td>\n",
       "      <td>287142.86</td>\n",
       "      <td>344428.57</td>\n",
       "      <td>352857.14</td>\n",
       "      <td>208571.43</td>\n",
       "      <td>178571.43</td>\n",
       "      <td>761714.29</td>\n",
       "      <td>535000.00</td>\n",
       "      <td>715714.29</td>\n",
       "      <td>672142.86</td>\n",
       "      <td>634285.71</td>\n",
       "      <td>333714.29</td>\n",
       "      <td>295428.57</td>\n",
       "      <td>628285.71</td>\n",
       "      <td>318571.43</td>\n",
       "      <td>1016857.14</td>\n",
       "      <td>638571.43</td>\n",
       "      <td>276571.43</td>\n",
       "      <td>340000.00</td>\n",
       "      <td>254285.71</td>\n",
       "      <td>926571.43</td>\n",
       "      <td>871428.57</td>\n",
       "      <td>692857.14</td>\n",
       "      <td>662857.14</td>\n",
       "      <td>370000.00</td>\n",
       "      <td>405714.29</td>\n",
       "    </tr>\n",
       "    <tr>\n",
       "      <th>10</th>\n",
       "      <td>496714.29</td>\n",
       "      <td>496714.29</td>\n",
       "      <td>496714.29</td>\n",
       "      <td>496714.29</td>\n",
       "      <td>496714.29</td>\n",
       "      <td>496714.29</td>\n",
       "      <td>496714.29</td>\n",
       "      <td>496714.29</td>\n",
       "      <td>496714.29</td>\n",
       "      <td>496714.29</td>\n",
       "      <td>496714.29</td>\n",
       "      <td>492571.43</td>\n",
       "      <td>341857.14</td>\n",
       "      <td>442428.57</td>\n",
       "      <td>438714.29</td>\n",
       "      <td>438571.43</td>\n",
       "      <td>470428.57</td>\n",
       "      <td>144428.57</td>\n",
       "      <td>444714.29</td>\n",
       "      <td>466714.29</td>\n",
       "      <td>722857.14</td>\n",
       "      <td>338571.43</td>\n",
       "      <td>475000.00</td>\n",
       "      <td>290285.71</td>\n",
       "      <td>607857.14</td>\n",
       "      <td>444571.43</td>\n",
       "      <td>641428.57</td>\n",
       "      <td>795571.43</td>\n",
       "      <td>499285.71</td>\n",
       "      <td>590142.86</td>\n",
       "      <td>518428.57</td>\n",
       "      <td>525142.86</td>\n",
       "      <td>654857.14</td>\n",
       "    </tr>\n",
       "  </tbody>\n",
       "</table>\n",
       "</div>"
      ],
      "text/plain": [
       "std_mth         6          7         8          9          10         11         12        13         14        15         16         17         18         19         20        21         22         23         24         25         26         27         28         29         30         31         32         33         34         35         36         37         38\n",
       "store_id                                                                                                                                                                                                                                                                                                                                                                      \n",
       "0        747000.00 1005000.00 871571.43  897857.14  835428.57  697000.00  761857.14 585642.86  794000.00 720257.14  685285.71  744428.57  682000.00  728285.71  749000.00 840857.14  600571.43  630857.14  812714.29  643142.86  685285.71  848428.57  636142.86  686428.57  707285.71  758714.29  679857.14  651857.14  739000.00  676000.00  874571.43  682857.14  515285.71\n",
       "1        137214.29  163000.00 118142.86   90428.57  118071.43  111857.14  115571.43 129642.86  160214.29 168428.57  152571.43  107500.00  110357.14  132571.43  107642.86 131357.14   80142.86  110142.86  100714.29  109571.43   94214.29  108357.14  108857.14   80500.00   78285.71  100785.71   92142.86   63571.43   95000.00   80785.71   85285.71  148285.71   77428.57\n",
       "2        260714.29   82857.14 131428.57  142857.14  109714.29  198571.43  160000.00 180714.29  154285.71  43571.43  201428.57  186428.57  120571.43  207142.86  190000.00 232857.14  266714.29  252857.14  238571.43  299714.29  312857.14  189714.29  283571.43  472857.14  354285.71  689285.71  457857.14  480714.29  510000.00  185428.57  340714.29  407857.14  496857.14\n",
       "4        733428.57  768928.57 698428.57  936428.57  762714.29  859571.43 1069857.14 689142.86 1050142.86 970285.71 1085171.43 1035857.14  894142.86 1027285.71 1186857.14 972571.43 1060571.43 1189142.86 1010142.86  831571.43  651000.00  908000.00  792214.29  775428.57  881285.71 1050928.57  849285.71  698142.86  828428.57  883000.00  923857.14  944857.14  882285.71\n",
       "5        342500.00  432714.29 263500.00  232142.86  211571.43  182085.71  147571.43 120957.14  186428.57 169000.00  312857.14  235342.86  475857.14  410914.29  297714.29 291428.57  396157.14  399285.71  441557.14  388428.57  316785.71  370142.86  297857.14  443857.14  563714.29  607071.43  482885.71  195000.00  324928.57  383300.00  399571.43  323000.00  215514.29\n",
       "6        568857.14  568857.14 568857.14 1440142.86 1238857.14 1055428.57  926857.14 885642.86  800357.14 930714.29  855071.43 1029785.71 1071571.43 1037214.29 1054857.14 937857.14 1216285.71 1833571.43 2429500.00 2147714.29 2113357.14 2348714.29 1876857.14 1808357.14 1752285.71 1583785.71 1628785.71 2074071.43 1907642.86 2389142.86 2230285.71 2015500.00 2463857.14\n",
       "7        107857.14  107857.14 107857.14  375642.86  323642.86  345000.00  291428.57 231614.29  271357.14 249857.14  131500.00  118642.86   53285.71  372285.71  183000.00 527857.14  218214.29  817714.29  750645.71  761571.43  636571.43  339857.14 1039357.14  265714.29  419542.86  462842.86  423128.57  320328.57  420028.57  314385.71  302414.29  136471.43   57971.43\n",
       "8        192571.43  192571.43 192571.43  192571.43  192571.43  192571.43  735500.00 467857.14  475642.86 603500.00 1074642.86 1144571.43 1030928.57 1375571.43 1078928.57 984500.00  896785.71  514500.00  552214.29  618785.71  461714.29  744500.00  867071.43 1837428.57 1359857.14 1213542.86 1086000.00 1369557.14 1272071.43 1260557.14 1157257.14 1134671.43 1298328.57\n",
       "9        107142.86  107142.86 107142.86  107142.86  107142.86  637142.86  603571.43 225428.57  287142.86 344428.57  352857.14  208571.43  178571.43  761714.29  535000.00 715714.29  672142.86  634285.71  333714.29  295428.57  628285.71  318571.43 1016857.14  638571.43  276571.43  340000.00  254285.71  926571.43  871428.57  692857.14  662857.14  370000.00  405714.29\n",
       "10       496714.29  496714.29 496714.29  496714.29  496714.29  496714.29  496714.29 496714.29  496714.29 496714.29  496714.29  492571.43  341857.14  442428.57  438714.29 438571.43  470428.57  144428.57  444714.29  466714.29  722857.14  338571.43  475000.00  290285.71  607857.14  444571.43  641428.57  795571.43  499285.71  590142.86  518428.57  525142.86  654857.14"
      ]
     },
     "execution_count": 20,
     "metadata": {},
     "output_type": "execute_result"
    }
   ],
   "source": [
    "# 발생한 nan값을 바로 앞/뒤의 값으로 채워넣는다.\n",
    "# method = 'ffill', axis = 1 #전\n",
    "# method = 'bfill', axis = 1 #후\n",
    "\n",
    "total_amt_per_mth_and_store = check_nan_amount.fillna(method = 'ffill', axis = 1).fillna(method = 'bfill', axis = 1)\n",
    "total_amt_per_mth_and_store.head(10)"
   ]
  },
  {
   "cell_type": "markdown",
   "metadata": {},
   "source": [
    "- train_df와 병합을 위해 pivot_table 형태인 total_amt_per_mth_and_store 테이블을 stack() 함수를 사용해 동일한 형태의 DataFrame으로 변경\n",
    "\n",
    "- stack() : column 과 row를 바꾸는 함수\n",
    "- 위의 pivot_table 기준으로보면 store_id, std_mth, amount가 column이 되고, 기존 columns 별로 입력되있던 값이 row가 된다."
   ]
  },
  {
   "cell_type": "code",
   "execution_count": 21,
   "metadata": {
    "ExecuteTime": {
     "end_time": "2021-07-10T14:48:15.513271Z",
     "start_time": "2021-07-10T14:48:15.500306Z"
    }
   },
   "outputs": [],
   "source": [
    "total_amt_per_mth_and_store = total_amt_per_mth_and_store.stack().reset_index() # index 번호 새로 부여"
   ]
  },
  {
   "cell_type": "code",
   "execution_count": 22,
   "metadata": {
    "ExecuteTime": {
     "end_time": "2021-07-10T14:48:19.423844Z",
     "start_time": "2021-07-10T14:48:19.409882Z"
    }
   },
   "outputs": [
    {
     "data": {
      "text/html": [
       "<div>\n",
       "<style scoped>\n",
       "    .dataframe tbody tr th:only-of-type {\n",
       "        vertical-align: middle;\n",
       "    }\n",
       "\n",
       "    .dataframe tbody tr th {\n",
       "        vertical-align: top;\n",
       "    }\n",
       "\n",
       "    .dataframe thead th {\n",
       "        text-align: right;\n",
       "    }\n",
       "</style>\n",
       "<table border=\"1\" class=\"dataframe\">\n",
       "  <thead>\n",
       "    <tr style=\"text-align: right;\">\n",
       "      <th></th>\n",
       "      <th>store_id</th>\n",
       "      <th>std_mth</th>\n",
       "      <th>0</th>\n",
       "    </tr>\n",
       "  </thead>\n",
       "  <tbody>\n",
       "    <tr>\n",
       "      <th>0</th>\n",
       "      <td>0</td>\n",
       "      <td>6</td>\n",
       "      <td>747000.00</td>\n",
       "    </tr>\n",
       "    <tr>\n",
       "      <th>1</th>\n",
       "      <td>0</td>\n",
       "      <td>7</td>\n",
       "      <td>1005000.00</td>\n",
       "    </tr>\n",
       "    <tr>\n",
       "      <th>2</th>\n",
       "      <td>0</td>\n",
       "      <td>8</td>\n",
       "      <td>871571.43</td>\n",
       "    </tr>\n",
       "    <tr>\n",
       "      <th>3</th>\n",
       "      <td>0</td>\n",
       "      <td>9</td>\n",
       "      <td>897857.14</td>\n",
       "    </tr>\n",
       "    <tr>\n",
       "      <th>4</th>\n",
       "      <td>0</td>\n",
       "      <td>10</td>\n",
       "      <td>835428.57</td>\n",
       "    </tr>\n",
       "    <tr>\n",
       "      <th>...</th>\n",
       "      <td>...</td>\n",
       "      <td>...</td>\n",
       "      <td>...</td>\n",
       "    </tr>\n",
       "    <tr>\n",
       "      <th>64906</th>\n",
       "      <td>2136</td>\n",
       "      <td>34</td>\n",
       "      <td>2012214.29</td>\n",
       "    </tr>\n",
       "    <tr>\n",
       "      <th>64907</th>\n",
       "      <td>2136</td>\n",
       "      <td>35</td>\n",
       "      <td>2135428.57</td>\n",
       "    </tr>\n",
       "    <tr>\n",
       "      <th>64908</th>\n",
       "      <td>2136</td>\n",
       "      <td>36</td>\n",
       "      <td>2427428.57</td>\n",
       "    </tr>\n",
       "    <tr>\n",
       "      <th>64909</th>\n",
       "      <td>2136</td>\n",
       "      <td>37</td>\n",
       "      <td>1873642.86</td>\n",
       "    </tr>\n",
       "    <tr>\n",
       "      <th>64910</th>\n",
       "      <td>2136</td>\n",
       "      <td>38</td>\n",
       "      <td>2227428.57</td>\n",
       "    </tr>\n",
       "  </tbody>\n",
       "</table>\n",
       "<p>64911 rows × 3 columns</p>\n",
       "</div>"
      ],
      "text/plain": [
       "       store_id  std_mth          0\n",
       "0             0        6  747000.00\n",
       "1             0        7 1005000.00\n",
       "2             0        8  871571.43\n",
       "3             0        9  897857.14\n",
       "4             0       10  835428.57\n",
       "...         ...      ...        ...\n",
       "64906      2136       34 2012214.29\n",
       "64907      2136       35 2135428.57\n",
       "64908      2136       36 2427428.57\n",
       "64909      2136       37 1873642.86\n",
       "64910      2136       38 2227428.57\n",
       "\n",
       "[64911 rows x 3 columns]"
      ]
     },
     "execution_count": 22,
     "metadata": {},
     "output_type": "execute_result"
    }
   ],
   "source": [
    "total_amt_per_mth_and_store"
   ]
  },
  {
   "cell_type": "code",
   "execution_count": 23,
   "metadata": {
    "ExecuteTime": {
     "end_time": "2021-07-10T14:48:23.740902Z",
     "start_time": "2021-07-10T14:48:23.716966Z"
    }
   },
   "outputs": [
    {
     "data": {
      "text/html": [
       "<div>\n",
       "<style scoped>\n",
       "    .dataframe tbody tr th:only-of-type {\n",
       "        vertical-align: middle;\n",
       "    }\n",
       "\n",
       "    .dataframe tbody tr th {\n",
       "        vertical-align: top;\n",
       "    }\n",
       "\n",
       "    .dataframe thead th {\n",
       "        text-align: right;\n",
       "    }\n",
       "</style>\n",
       "<table border=\"1\" class=\"dataframe\">\n",
       "  <thead>\n",
       "    <tr style=\"text-align: right;\">\n",
       "      <th></th>\n",
       "      <th>store_id</th>\n",
       "      <th>std_mth</th>\n",
       "      <th>amount</th>\n",
       "    </tr>\n",
       "  </thead>\n",
       "  <tbody>\n",
       "    <tr>\n",
       "      <th>0</th>\n",
       "      <td>0</td>\n",
       "      <td>6</td>\n",
       "      <td>747000.00</td>\n",
       "    </tr>\n",
       "    <tr>\n",
       "      <th>1</th>\n",
       "      <td>0</td>\n",
       "      <td>7</td>\n",
       "      <td>1005000.00</td>\n",
       "    </tr>\n",
       "    <tr>\n",
       "      <th>2</th>\n",
       "      <td>0</td>\n",
       "      <td>8</td>\n",
       "      <td>871571.43</td>\n",
       "    </tr>\n",
       "  </tbody>\n",
       "</table>\n",
       "</div>"
      ],
      "text/plain": [
       "   store_id  std_mth     amount\n",
       "0         0        6  747000.00\n",
       "1         0        7 1005000.00\n",
       "2         0        8  871571.43"
      ]
     },
     "execution_count": 23,
     "metadata": {},
     "output_type": "execute_result"
    }
   ],
   "source": [
    "# amount로 컬럼명 변경\n",
    "total_amt_per_mth_and_store.rename({0:\"amount\"}, axis = 1, inplace = True)\n",
    "total_amt_per_mth_and_store.head(3)"
   ]
  },
  {
   "cell_type": "markdown",
   "metadata": {},
   "source": [
    "##### 매장별 월 매출 + train_df"
   ]
  },
  {
   "cell_type": "code",
   "execution_count": 24,
   "metadata": {
    "ExecuteTime": {
     "end_time": "2021-07-10T14:48:36.748970Z",
     "start_time": "2021-07-10T14:48:36.606386Z"
    }
   },
   "outputs": [
    {
     "data": {
      "text/html": [
       "<div>\n",
       "<style scoped>\n",
       "    .dataframe tbody tr th:only-of-type {\n",
       "        vertical-align: middle;\n",
       "    }\n",
       "\n",
       "    .dataframe tbody tr th {\n",
       "        vertical-align: top;\n",
       "    }\n",
       "\n",
       "    .dataframe thead th {\n",
       "        text-align: right;\n",
       "    }\n",
       "</style>\n",
       "<table border=\"1\" class=\"dataframe\">\n",
       "  <thead>\n",
       "    <tr style=\"text-align: right;\">\n",
       "      <th></th>\n",
       "      <th>store_id</th>\n",
       "      <th>region</th>\n",
       "      <th>type_of_business</th>\n",
       "      <th>std_mth</th>\n",
       "      <th>평균할부율</th>\n",
       "      <th>1_before_amount</th>\n",
       "      <th>2_before_amount</th>\n",
       "      <th>3_before_amount</th>\n",
       "    </tr>\n",
       "  </thead>\n",
       "  <tbody>\n",
       "    <tr>\n",
       "      <th>0</th>\n",
       "      <td>0</td>\n",
       "      <td>미분류</td>\n",
       "      <td>기타 미용업</td>\n",
       "      <td>9</td>\n",
       "      <td>0.04</td>\n",
       "      <td>871571.43</td>\n",
       "      <td>1005000.00</td>\n",
       "      <td>747000.00</td>\n",
       "    </tr>\n",
       "    <tr>\n",
       "      <th>1</th>\n",
       "      <td>0</td>\n",
       "      <td>미분류</td>\n",
       "      <td>기타 미용업</td>\n",
       "      <td>10</td>\n",
       "      <td>0.04</td>\n",
       "      <td>897857.14</td>\n",
       "      <td>871571.43</td>\n",
       "      <td>1005000.00</td>\n",
       "    </tr>\n",
       "    <tr>\n",
       "      <th>2</th>\n",
       "      <td>0</td>\n",
       "      <td>미분류</td>\n",
       "      <td>기타 미용업</td>\n",
       "      <td>11</td>\n",
       "      <td>0.04</td>\n",
       "      <td>835428.57</td>\n",
       "      <td>897857.14</td>\n",
       "      <td>871571.43</td>\n",
       "    </tr>\n",
       "    <tr>\n",
       "      <th>3</th>\n",
       "      <td>0</td>\n",
       "      <td>미분류</td>\n",
       "      <td>기타 미용업</td>\n",
       "      <td>12</td>\n",
       "      <td>0.04</td>\n",
       "      <td>697000.00</td>\n",
       "      <td>835428.57</td>\n",
       "      <td>897857.14</td>\n",
       "    </tr>\n",
       "    <tr>\n",
       "      <th>4</th>\n",
       "      <td>0</td>\n",
       "      <td>미분류</td>\n",
       "      <td>기타 미용업</td>\n",
       "      <td>13</td>\n",
       "      <td>0.04</td>\n",
       "      <td>761857.14</td>\n",
       "      <td>697000.00</td>\n",
       "      <td>835428.57</td>\n",
       "    </tr>\n",
       "  </tbody>\n",
       "</table>\n",
       "</div>"
      ],
      "text/plain": [
       "   store_id region type_of_business  std_mth  평균할부율  1_before_amount  2_before_amount  3_before_amount\n",
       "0         0    미분류           기타 미용업        9   0.04        871571.43       1005000.00        747000.00\n",
       "1         0    미분류           기타 미용업       10   0.04        897857.14        871571.43       1005000.00\n",
       "2         0    미분류           기타 미용업       11   0.04        835428.57        897857.14        871571.43\n",
       "3         0    미분류           기타 미용업       12   0.04        697000.00        835428.57        897857.14\n",
       "4         0    미분류           기타 미용업       13   0.04        761857.14        697000.00        835428.57"
      ]
     },
     "execution_count": 24,
     "metadata": {},
     "output_type": "execute_result"
    }
   ],
   "source": [
    "# std_mth + i (i = 1, 2, 3) 시점의 부착\n",
    "# train_df의 std_mth는 total_amt_per_mth_and_store의 std_mth-i와 부착되어야 하므로, total_amt_per_mth_and_store의 std_mth에 i를 더함\n",
    "\n",
    "for i in range(1, 4): \n",
    "    # i값에 따른 새로운 변수 생성\n",
    "    total_amt_per_mth_and_store['std_mth_{}'.format(i)] = total_amt_per_mth_and_store['std_mth'] + i\n",
    "    \n",
    "    # 두 테이블 데이터 결합\n",
    "    # 두 table에 모두 std_mth가 존재하므로 drop\n",
    "    train_df = pd.merge(train_df, total_amt_per_mth_and_store.drop('std_mth', axis = 1), left_on = ['store_id', 'std_mth'], right_on = ['store_id', 'std_mth_{}'.format(i)])\n",
    "    \n",
    "    # 변수명 변경: 다음 loop에서 merge할때 중복 column 때문에 _x, _y가 생기는 것 방지\n",
    "    train_df.rename({\"amount\":\"{}_before_amount\".format(i)}, axis = 1, inplace = True)\n",
    "    \n",
    "    #필요없어진 변수 drop\n",
    "    train_df.drop(['std_mth_{}'.format(i)], axis = 1, inplace = True)\n",
    "    total_amt_per_mth_and_store.drop(['std_mth_{}'.format(i)], axis = 1, inplace = True)\n",
    "    \n",
    "train_df.head()"
   ]
  },
  {
   "cell_type": "markdown",
   "metadata": {},
   "source": [
    "- std_mth의 시작점이 6 -> 9로 바뀐다. (for문이 적용되고 merge되면서 사라진 것)\n",
    "- 6월의 amount는 3_before_amount에 입력되어 있다.\n",
    "- 일괄적으로 +3이 된 것이기 때문에 ok\n",
    "- std_mth 9(=16년 9월)를 기준으로 보았을때\n",
    "    - 1_before_amount는 16년 8월, 2_before_amount는 16년 7월, 3_before_amount는 16년 6월을 의미한다.\n",
    "    \n",
    "    \n",
    "    \n",
    "- 전체적으로 본다면 2016년 6월에 대한 특징 데이터는 소실된다. 하지만 반대로 다른 시점에 특성을 구분할 수 있는 데이터가 늘어남  \n",
    "---\n",
    "- i값을 3으로 한 이유 :\n",
    "\n",
    "    1) 예측해야 하는 값이 3개월 평균 이기 때문\n",
    "    \n",
    "    2) i가 클수록 유실되는 데이터량이 많아져서 최소화 하기 위해( 1)의 기간도 감안 )"
   ]
  },
  {
   "cell_type": "markdown",
   "metadata": {},
   "source": [
    "#### 각 시점별 지역의 월 매출 (파생변수)"
   ]
  },
  {
   "cell_type": "markdown",
   "metadata": {},
   "source": [
    "##### region(지역) 별 평균 매출 계산"
   ]
  },
  {
   "cell_type": "code",
   "execution_count": 25,
   "metadata": {
    "ExecuteTime": {
     "end_time": "2021-07-10T14:49:04.609288Z",
     "start_time": "2021-07-10T14:49:02.013498Z"
    }
   },
   "outputs": [],
   "source": [
    "#지역별 매장을 분류(dict) & 중복제거\n",
    "store_to_region = df[['store_id', 'region']].drop_duplicates().set_index(['store_id'])['region'].to_dict() \n",
    "\n",
    "# store_id를 region으로 대체 -> 위에서 사용한 코드 동일하게 사용 가능\n",
    "total_amt_per_mth_and_store['region'] = total_amt_per_mth_and_store['store_id'].replace(store_to_region)\n",
    "\n",
    "# 지역별 평균 매출 계산\n",
    "# total_amt_per_mth_and_store에 region이란 컬럼 추가 후 amt_mean_per_std_mth_and_region 테이블로 변경\n",
    "amt_mean_per_std_mth_and_region = total_amt_per_mth_and_store.groupby(['region', 'std_mth'], as_index = False)['amount'].mean()"
   ]
  },
  {
   "cell_type": "code",
   "execution_count": 26,
   "metadata": {
    "ExecuteTime": {
     "end_time": "2021-07-10T14:49:05.674758Z",
     "start_time": "2021-07-10T14:49:05.655783Z"
    }
   },
   "outputs": [
    {
     "data": {
      "text/html": [
       "<div>\n",
       "<style scoped>\n",
       "    .dataframe tbody tr th:only-of-type {\n",
       "        vertical-align: middle;\n",
       "    }\n",
       "\n",
       "    .dataframe tbody tr th {\n",
       "        vertical-align: top;\n",
       "    }\n",
       "\n",
       "    .dataframe thead th {\n",
       "        text-align: right;\n",
       "    }\n",
       "</style>\n",
       "<table border=\"1\" class=\"dataframe\">\n",
       "  <thead>\n",
       "    <tr style=\"text-align: right;\">\n",
       "      <th></th>\n",
       "      <th>region</th>\n",
       "      <th>std_mth</th>\n",
       "      <th>amount</th>\n",
       "    </tr>\n",
       "  </thead>\n",
       "  <tbody>\n",
       "    <tr>\n",
       "      <th>0</th>\n",
       "      <td>강원 강릉시</td>\n",
       "      <td>6</td>\n",
       "      <td>623271.75</td>\n",
       "    </tr>\n",
       "    <tr>\n",
       "      <th>1</th>\n",
       "      <td>강원 강릉시</td>\n",
       "      <td>7</td>\n",
       "      <td>501311.43</td>\n",
       "    </tr>\n",
       "    <tr>\n",
       "      <th>2</th>\n",
       "      <td>강원 강릉시</td>\n",
       "      <td>8</td>\n",
       "      <td>508130.79</td>\n",
       "    </tr>\n",
       "  </tbody>\n",
       "</table>\n",
       "</div>"
      ],
      "text/plain": [
       "   region  std_mth    amount\n",
       "0  강원 강릉시        6 623271.75\n",
       "1  강원 강릉시        7 501311.43\n",
       "2  강원 강릉시        8 508130.79"
      ]
     },
     "execution_count": 26,
     "metadata": {},
     "output_type": "execute_result"
    }
   ],
   "source": [
    "amt_mean_per_std_mth_and_region.head(3)"
   ]
  },
  {
   "cell_type": "markdown",
   "metadata": {},
   "source": [
    "- 위에서 store_id의 누락치를 처리하는 과정에서 nan값을 모두 처리함\n",
    "- 즉, store_id를 region으로 대체한 것이기 때문에, pivot_table & stack 등을 통한 결측치 제거는 하지 않아도 됨."
   ]
  },
  {
   "cell_type": "markdown",
   "metadata": {},
   "source": [
    "##### train_df + amt_mean_per_std_mth_and_region"
   ]
  },
  {
   "cell_type": "code",
   "execution_count": 27,
   "metadata": {
    "ExecuteTime": {
     "end_time": "2021-07-10T14:49:19.534360Z",
     "start_time": "2021-07-10T14:49:19.428642Z"
    }
   },
   "outputs": [
    {
     "data": {
      "text/html": [
       "<div>\n",
       "<style scoped>\n",
       "    .dataframe tbody tr th:only-of-type {\n",
       "        vertical-align: middle;\n",
       "    }\n",
       "\n",
       "    .dataframe tbody tr th {\n",
       "        vertical-align: top;\n",
       "    }\n",
       "\n",
       "    .dataframe thead th {\n",
       "        text-align: right;\n",
       "    }\n",
       "</style>\n",
       "<table border=\"1\" class=\"dataframe\">\n",
       "  <thead>\n",
       "    <tr style=\"text-align: right;\">\n",
       "      <th></th>\n",
       "      <th>store_id</th>\n",
       "      <th>region</th>\n",
       "      <th>type_of_business</th>\n",
       "      <th>std_mth</th>\n",
       "      <th>평균할부율</th>\n",
       "      <th>1_before_amount</th>\n",
       "      <th>2_before_amount</th>\n",
       "      <th>3_before_amount</th>\n",
       "      <th>1_before_amount_of_region</th>\n",
       "      <th>2_before_amount_of_region</th>\n",
       "      <th>3_before_amount_of_region</th>\n",
       "    </tr>\n",
       "  </thead>\n",
       "  <tbody>\n",
       "    <tr>\n",
       "      <th>0</th>\n",
       "      <td>0</td>\n",
       "      <td>미분류</td>\n",
       "      <td>기타 미용업</td>\n",
       "      <td>9</td>\n",
       "      <td>0.04</td>\n",
       "      <td>871571.43</td>\n",
       "      <td>1005000.00</td>\n",
       "      <td>747000.00</td>\n",
       "      <td>761987.42</td>\n",
       "      <td>756108.67</td>\n",
       "      <td>739654.07</td>\n",
       "    </tr>\n",
       "    <tr>\n",
       "      <th>1</th>\n",
       "      <td>1</td>\n",
       "      <td>미분류</td>\n",
       "      <td>미분류</td>\n",
       "      <td>9</td>\n",
       "      <td>0.00</td>\n",
       "      <td>118142.86</td>\n",
       "      <td>163000.00</td>\n",
       "      <td>137214.29</td>\n",
       "      <td>761987.42</td>\n",
       "      <td>756108.67</td>\n",
       "      <td>739654.07</td>\n",
       "    </tr>\n",
       "    <tr>\n",
       "      <th>2</th>\n",
       "      <td>2</td>\n",
       "      <td>미분류</td>\n",
       "      <td>미분류</td>\n",
       "      <td>9</td>\n",
       "      <td>0.08</td>\n",
       "      <td>131428.57</td>\n",
       "      <td>82857.14</td>\n",
       "      <td>260714.29</td>\n",
       "      <td>761987.42</td>\n",
       "      <td>756108.67</td>\n",
       "      <td>739654.07</td>\n",
       "    </tr>\n",
       "    <tr>\n",
       "      <th>3</th>\n",
       "      <td>5</td>\n",
       "      <td>미분류</td>\n",
       "      <td>의복 액세서리 및 모조 장신구 도매업</td>\n",
       "      <td>9</td>\n",
       "      <td>0.08</td>\n",
       "      <td>263500.00</td>\n",
       "      <td>432714.29</td>\n",
       "      <td>342500.00</td>\n",
       "      <td>761987.42</td>\n",
       "      <td>756108.67</td>\n",
       "      <td>739654.07</td>\n",
       "    </tr>\n",
       "    <tr>\n",
       "      <th>4</th>\n",
       "      <td>7</td>\n",
       "      <td>미분류</td>\n",
       "      <td>미분류</td>\n",
       "      <td>9</td>\n",
       "      <td>0.01</td>\n",
       "      <td>107857.14</td>\n",
       "      <td>107857.14</td>\n",
       "      <td>107857.14</td>\n",
       "      <td>761987.42</td>\n",
       "      <td>756108.67</td>\n",
       "      <td>739654.07</td>\n",
       "    </tr>\n",
       "  </tbody>\n",
       "</table>\n",
       "</div>"
      ],
      "text/plain": [
       "   store_id region      type_of_business  std_mth  평균할부율  1_before_amount  2_before_amount  3_before_amount  1_before_amount_of_region  2_before_amount_of_region  3_before_amount_of_region\n",
       "0         0    미분류                기타 미용업        9   0.04        871571.43       1005000.00        747000.00                  761987.42                  756108.67                  739654.07\n",
       "1         1    미분류                   미분류        9   0.00        118142.86        163000.00        137214.29                  761987.42                  756108.67                  739654.07\n",
       "2         2    미분류                   미분류        9   0.08        131428.57         82857.14        260714.29                  761987.42                  756108.67                  739654.07\n",
       "3         5    미분류  의복 액세서리 및 모조 장신구 도매업        9   0.08        263500.00        432714.29        342500.00                  761987.42                  756108.67                  739654.07\n",
       "4         7    미분류                   미분류        9   0.01        107857.14        107857.14        107857.14                  761987.42                  756108.67                  739654.07"
      ]
     },
     "execution_count": 27,
     "metadata": {},
     "output_type": "execute_result"
    }
   ],
   "source": [
    "# std_mth + i (i = 1, 2, 3)\n",
    "\n",
    "for i in range(1, 4):\n",
    "    amt_mean_per_std_mth_and_region['std_mth_{}'.format(i)] = amt_mean_per_std_mth_and_region['std_mth'] + i\n",
    "    train_df = pd.merge(train_df, amt_mean_per_std_mth_and_region.drop('std_mth', axis = 1), left_on = ['region', 'std_mth'], right_on = ['region', 'std_mth_{}'.format(i)])\n",
    "    train_df.rename({\"amount\":\"{}_before_amount_of_region\".format(i)}, axis = 1, inplace = True)\n",
    "    \n",
    "    # 계산에 사용되고 필요없어진 데이터 drop\n",
    "    train_df.drop(['std_mth_{}'.format(i)], axis = 1, inplace = True)\n",
    "    amt_mean_per_std_mth_and_region.drop(['std_mth_{}'.format(i)], axis = 1, inplace = True)    \n",
    "    \n",
    "train_df.head()"
   ]
  },
  {
   "cell_type": "markdown",
   "metadata": {},
   "source": [
    "#### 각 시점별 업종의 월 매출 (파생변수)"
   ]
  },
  {
   "cell_type": "markdown",
   "metadata": {},
   "source": [
    "##### type_of_business별 평균 매출 계산"
   ]
  },
  {
   "cell_type": "code",
   "execution_count": 28,
   "metadata": {
    "ExecuteTime": {
     "end_time": "2021-07-10T14:49:36.999191Z",
     "start_time": "2021-07-10T14:49:34.455400Z"
    }
   },
   "outputs": [],
   "source": [
    "##업종별 매장을 분류(dict) & 중복제거\n",
    "store_to_type_of_business = df[['store_id', 'type_of_business']].drop_duplicates().set_index(['store_id'])['type_of_business'].to_dict()\n",
    "\n",
    "# store_id를 type_of_business으로 대체 -> 위에서 사용한 코드 동일하게 사용 가능\n",
    "total_amt_per_mth_and_store['type_of_business'] = total_amt_per_mth_and_store['store_id'].replace(store_to_type_of_business)\n",
    "\n",
    "# 지역별 평균 매출 계산\n",
    "amount_mean_per_mth_and_type_of_business = total_amt_per_mth_and_store.groupby(['type_of_business', 'std_mth'], as_index = False)['amount'].mean()"
   ]
  },
  {
   "cell_type": "markdown",
   "metadata": {},
   "source": [
    "##### amount_mean_per_mth_and_type_of_business + train_df"
   ]
  },
  {
   "cell_type": "code",
   "execution_count": 29,
   "metadata": {
    "ExecuteTime": {
     "end_time": "2021-07-10T14:49:43.075686Z",
     "start_time": "2021-07-10T14:49:42.970966Z"
    }
   },
   "outputs": [
    {
     "data": {
      "text/html": [
       "<div>\n",
       "<style scoped>\n",
       "    .dataframe tbody tr th:only-of-type {\n",
       "        vertical-align: middle;\n",
       "    }\n",
       "\n",
       "    .dataframe tbody tr th {\n",
       "        vertical-align: top;\n",
       "    }\n",
       "\n",
       "    .dataframe thead th {\n",
       "        text-align: right;\n",
       "    }\n",
       "</style>\n",
       "<table border=\"1\" class=\"dataframe\">\n",
       "  <thead>\n",
       "    <tr style=\"text-align: right;\">\n",
       "      <th></th>\n",
       "      <th>store_id</th>\n",
       "      <th>region</th>\n",
       "      <th>type_of_business</th>\n",
       "      <th>std_mth</th>\n",
       "      <th>평균할부율</th>\n",
       "      <th>1_before_amount</th>\n",
       "      <th>2_before_amount</th>\n",
       "      <th>3_before_amount</th>\n",
       "      <th>1_before_amount_of_region</th>\n",
       "      <th>2_before_amount_of_region</th>\n",
       "      <th>3_before_amount_of_region</th>\n",
       "      <th>1_before_amount_of_type_of_business</th>\n",
       "      <th>2_before_amount_of_type_of_business</th>\n",
       "      <th>3_before_amount_of_type_of_business</th>\n",
       "    </tr>\n",
       "  </thead>\n",
       "  <tbody>\n",
       "    <tr>\n",
       "      <th>0</th>\n",
       "      <td>0</td>\n",
       "      <td>미분류</td>\n",
       "      <td>기타 미용업</td>\n",
       "      <td>9</td>\n",
       "      <td>0.04</td>\n",
       "      <td>871571.43</td>\n",
       "      <td>1005000.00</td>\n",
       "      <td>747000.00</td>\n",
       "      <td>761987.42</td>\n",
       "      <td>756108.67</td>\n",
       "      <td>739654.07</td>\n",
       "      <td>761025.00</td>\n",
       "      <td>804979.76</td>\n",
       "      <td>679950.00</td>\n",
       "    </tr>\n",
       "    <tr>\n",
       "      <th>1</th>\n",
       "      <td>792</td>\n",
       "      <td>미분류</td>\n",
       "      <td>기타 미용업</td>\n",
       "      <td>9</td>\n",
       "      <td>0.22</td>\n",
       "      <td>681142.86</td>\n",
       "      <td>880857.14</td>\n",
       "      <td>733714.29</td>\n",
       "      <td>761987.42</td>\n",
       "      <td>756108.67</td>\n",
       "      <td>739654.07</td>\n",
       "      <td>761025.00</td>\n",
       "      <td>804979.76</td>\n",
       "      <td>679950.00</td>\n",
       "    </tr>\n",
       "    <tr>\n",
       "      <th>2</th>\n",
       "      <td>23</td>\n",
       "      <td>경기 안양시</td>\n",
       "      <td>기타 미용업</td>\n",
       "      <td>9</td>\n",
       "      <td>0.05</td>\n",
       "      <td>879242.86</td>\n",
       "      <td>730857.14</td>\n",
       "      <td>845285.71</td>\n",
       "      <td>828831.71</td>\n",
       "      <td>588733.00</td>\n",
       "      <td>955973.29</td>\n",
       "      <td>761025.00</td>\n",
       "      <td>804979.76</td>\n",
       "      <td>679950.00</td>\n",
       "    </tr>\n",
       "    <tr>\n",
       "      <th>3</th>\n",
       "      <td>192</td>\n",
       "      <td>경기 화성시</td>\n",
       "      <td>기타 미용업</td>\n",
       "      <td>9</td>\n",
       "      <td>0.10</td>\n",
       "      <td>579000.00</td>\n",
       "      <td>523428.57</td>\n",
       "      <td>551142.86</td>\n",
       "      <td>1234460.01</td>\n",
       "      <td>1227920.91</td>\n",
       "      <td>1180455.31</td>\n",
       "      <td>761025.00</td>\n",
       "      <td>804979.76</td>\n",
       "      <td>679950.00</td>\n",
       "    </tr>\n",
       "    <tr>\n",
       "      <th>4</th>\n",
       "      <td>536</td>\n",
       "      <td>서울 광진구</td>\n",
       "      <td>기타 미용업</td>\n",
       "      <td>9</td>\n",
       "      <td>0.01</td>\n",
       "      <td>96285.71</td>\n",
       "      <td>79857.14</td>\n",
       "      <td>99857.14</td>\n",
       "      <td>3786819.95</td>\n",
       "      <td>3397972.56</td>\n",
       "      <td>3524074.62</td>\n",
       "      <td>761025.00</td>\n",
       "      <td>804979.76</td>\n",
       "      <td>679950.00</td>\n",
       "    </tr>\n",
       "  </tbody>\n",
       "</table>\n",
       "</div>"
      ],
      "text/plain": [
       "   store_id  region type_of_business  std_mth  평균할부율  1_before_amount  2_before_amount  3_before_amount  1_before_amount_of_region  2_before_amount_of_region  3_before_amount_of_region  1_before_amount_of_type_of_business  2_before_amount_of_type_of_business  3_before_amount_of_type_of_business\n",
       "0         0     미분류           기타 미용업        9   0.04        871571.43       1005000.00        747000.00                  761987.42                  756108.67                  739654.07                            761025.00                            804979.76                            679950.00\n",
       "1       792     미분류           기타 미용업        9   0.22        681142.86        880857.14        733714.29                  761987.42                  756108.67                  739654.07                            761025.00                            804979.76                            679950.00\n",
       "2        23  경기 안양시           기타 미용업        9   0.05        879242.86        730857.14        845285.71                  828831.71                  588733.00                  955973.29                            761025.00                            804979.76                            679950.00\n",
       "3       192  경기 화성시           기타 미용업        9   0.10        579000.00        523428.57        551142.86                 1234460.01                 1227920.91                 1180455.31                            761025.00                            804979.76                            679950.00\n",
       "4       536  서울 광진구           기타 미용업        9   0.01         96285.71         79857.14         99857.14                 3786819.95                 3397972.56                 3524074.62                            761025.00                            804979.76                            679950.00"
      ]
     },
     "execution_count": 29,
     "metadata": {},
     "output_type": "execute_result"
    }
   ],
   "source": [
    "# std_mth + i (i = 1, 2, 3)\n",
    "# train_df의 std_mth는 total_amt_per_mth_and_store의 std_mth-i와 merge 해야하므로, total_amt_per_mth_and_store의 std_mth에 i를 더한다.\n",
    "\n",
    "for i in range(1, 4):\n",
    "    amount_mean_per_mth_and_type_of_business['std_mth_{}'.format(i)] = amount_mean_per_mth_and_type_of_business['std_mth'] + i\n",
    "    train_df = pd.merge(train_df, amount_mean_per_mth_and_type_of_business.drop('std_mth', axis = 1), left_on = ['type_of_business', 'std_mth'], right_on = ['type_of_business', 'std_mth_{}'.format(i)])\n",
    "    train_df.rename({\"amount\":\"{}_before_amount_of_type_of_business\".format(i)}, axis = 1, inplace = True)\n",
    "    \n",
    "    # 계산에 사용되고 필요없어진 데이터 drop\n",
    "    train_df.drop(['std_mth_{}'.format(i)], axis = 1, inplace = True)\n",
    "    amount_mean_per_mth_and_type_of_business.drop(['std_mth_{}'.format(i)], axis = 1, inplace = True)       \n",
    "    \n",
    "train_df.head()"
   ]
  },
  {
   "cell_type": "markdown",
   "metadata": {},
   "source": [
    "## label 부착하기 ( std_mth +1, std_mth+2, std_mth+3)\n",
    "\n",
    "- label 은 기준월 (std_mth) 에서 각각 +1, +2, +3 인 시점에 대한 amount는 예측 모델을 통해 파악해야 하는 값이다.\n",
    "- 이후 에는 model 학습을 위한 데이터 전처리가 들어가기 때문에, raw data인 현상황에서 +1, +2, +3 인 시점의 amount를 입력해 두는 것이 추후 작업에서 유용하다."
   ]
  },
  {
   "cell_type": "code",
   "execution_count": 30,
   "metadata": {
    "ExecuteTime": {
     "end_time": "2021-07-10T14:50:02.610476Z",
     "start_time": "2021-07-10T14:50:02.473263Z"
    }
   },
   "outputs": [],
   "source": [
    "# 불필요한 컬럼 drop (중복 컬럼 방지)\n",
    "total_amt_per_mth_and_store.drop(['region', 'type_of_business'], axis = 1, inplace = True)\n",
    "\n",
    "# std_mth - i (i = 1, 2, 3)\n",
    "for i in range(1, 4):\n",
    "    total_amt_per_mth_and_store['std_mth_{}'.format(i)] = total_amt_per_mth_and_store['std_mth'] - i   \n",
    "    train_df = pd.merge(train_df, total_amt_per_mth_and_store.drop('std_mth', axis = 1), left_on = ['store_id', 'std_mth'], right_on = ['store_id', 'std_mth_{}'.format(i)])\n",
    "    train_df.rename({\"amount\": \"Y_{}\".format(i)}, axis = 1, inplace = True)\n",
    "    \n",
    "    # 계산에 사용되고 필요없어진 데이터 drop\n",
    "    train_df.drop(['std_mth_{}'.format(i)], axis = 1, inplace = True)\n",
    "    total_amt_per_mth_and_store.drop(['std_mth_{}'.format(i)], axis = 1, inplace = True)      "
   ]
  },
  {
   "cell_type": "code",
   "execution_count": 31,
   "metadata": {
    "ExecuteTime": {
     "end_time": "2021-07-10T14:50:06.083495Z",
     "start_time": "2021-07-10T14:50:06.063548Z"
    }
   },
   "outputs": [
    {
     "data": {
      "text/html": [
       "<div>\n",
       "<style scoped>\n",
       "    .dataframe tbody tr th:only-of-type {\n",
       "        vertical-align: middle;\n",
       "    }\n",
       "\n",
       "    .dataframe tbody tr th {\n",
       "        vertical-align: top;\n",
       "    }\n",
       "\n",
       "    .dataframe thead th {\n",
       "        text-align: right;\n",
       "    }\n",
       "</style>\n",
       "<table border=\"1\" class=\"dataframe\">\n",
       "  <thead>\n",
       "    <tr style=\"text-align: right;\">\n",
       "      <th></th>\n",
       "      <th>std_mth</th>\n",
       "      <th>Y_1</th>\n",
       "      <th>Y_2</th>\n",
       "      <th>Y_3</th>\n",
       "    </tr>\n",
       "  </thead>\n",
       "  <tbody>\n",
       "    <tr>\n",
       "      <th>0</th>\n",
       "      <td>9</td>\n",
       "      <td>835428.57</td>\n",
       "      <td>697000.00</td>\n",
       "      <td>761857.14</td>\n",
       "    </tr>\n",
       "    <tr>\n",
       "      <th>1</th>\n",
       "      <td>9</td>\n",
       "      <td>725142.86</td>\n",
       "      <td>653428.57</td>\n",
       "      <td>730071.43</td>\n",
       "    </tr>\n",
       "    <tr>\n",
       "      <th>2</th>\n",
       "      <td>9</td>\n",
       "      <td>741714.29</td>\n",
       "      <td>608857.14</td>\n",
       "      <td>844285.71</td>\n",
       "    </tr>\n",
       "    <tr>\n",
       "      <th>3</th>\n",
       "      <td>9</td>\n",
       "      <td>529000.00</td>\n",
       "      <td>545142.86</td>\n",
       "      <td>449714.29</td>\n",
       "    </tr>\n",
       "    <tr>\n",
       "      <th>4</th>\n",
       "      <td>9</td>\n",
       "      <td>87142.86</td>\n",
       "      <td>159928.57</td>\n",
       "      <td>124142.86</td>\n",
       "    </tr>\n",
       "    <tr>\n",
       "      <th>...</th>\n",
       "      <td>...</td>\n",
       "      <td>...</td>\n",
       "      <td>...</td>\n",
       "      <td>...</td>\n",
       "    </tr>\n",
       "    <tr>\n",
       "      <th>50226</th>\n",
       "      <td>31</td>\n",
       "      <td>13623585.71</td>\n",
       "      <td>10826500.00</td>\n",
       "      <td>12053585.71</td>\n",
       "    </tr>\n",
       "    <tr>\n",
       "      <th>50227</th>\n",
       "      <td>32</td>\n",
       "      <td>10826500.00</td>\n",
       "      <td>12053585.71</td>\n",
       "      <td>12916214.29</td>\n",
       "    </tr>\n",
       "    <tr>\n",
       "      <th>50228</th>\n",
       "      <td>33</td>\n",
       "      <td>12053585.71</td>\n",
       "      <td>12916214.29</td>\n",
       "      <td>13290000.00</td>\n",
       "    </tr>\n",
       "    <tr>\n",
       "      <th>50229</th>\n",
       "      <td>34</td>\n",
       "      <td>12916214.29</td>\n",
       "      <td>13290000.00</td>\n",
       "      <td>15355300.00</td>\n",
       "    </tr>\n",
       "    <tr>\n",
       "      <th>50230</th>\n",
       "      <td>35</td>\n",
       "      <td>13290000.00</td>\n",
       "      <td>15355300.00</td>\n",
       "      <td>11063685.71</td>\n",
       "    </tr>\n",
       "  </tbody>\n",
       "</table>\n",
       "<p>50231 rows × 4 columns</p>\n",
       "</div>"
      ],
      "text/plain": [
       "       std_mth         Y_1         Y_2         Y_3\n",
       "0            9   835428.57   697000.00   761857.14\n",
       "1            9   725142.86   653428.57   730071.43\n",
       "2            9   741714.29   608857.14   844285.71\n",
       "3            9   529000.00   545142.86   449714.29\n",
       "4            9    87142.86   159928.57   124142.86\n",
       "...        ...         ...         ...         ...\n",
       "50226       31 13623585.71 10826500.00 12053585.71\n",
       "50227       32 10826500.00 12053585.71 12916214.29\n",
       "50228       33 12053585.71 12916214.29 13290000.00\n",
       "50229       34 12916214.29 13290000.00 15355300.00\n",
       "50230       35 13290000.00 15355300.00 11063685.71\n",
       "\n",
       "[50231 rows x 4 columns]"
      ]
     },
     "execution_count": 31,
     "metadata": {},
     "output_type": "execute_result"
    }
   ],
   "source": [
    "train_df[['std_mth','Y_1','Y_2','Y_3']]"
   ]
  },
  {
   "cell_type": "markdown",
   "metadata": {
    "ExecuteTime": {
     "end_time": "2021-07-10T14:50:11.261555Z",
     "start_time": "2021-07-10T14:50:11.242988Z"
    }
   },
   "source": [
    "- for loop가 수행되면서 각각 i=1 일때, **total_amt_per_mth_and_store의 std_mth 기준으로** +1 인 시점의 amount 가 Y_1이 된다.\n",
    "- i=2 일때는 std_mth 기준 +2 인 시점의 amount 가 Y_2이 되고, i=3 일때, std_mth 기준 +3 인 시점의 amount 가 Y_3이 된다."
   ]
  },
  {
   "cell_type": "code",
   "execution_count": 33,
   "metadata": {
    "ExecuteTime": {
     "end_time": "2021-07-10T14:50:17.280187Z",
     "start_time": "2021-07-10T14:50:17.271212Z"
    }
   },
   "outputs": [],
   "source": [
    "# Y변수 (미래 3개월의 매출) 생성\n",
    "train_df['Y'] = train_df['Y_1'] + train_df['Y_2'] + train_df['Y_3']"
   ]
  },
  {
   "cell_type": "code",
   "execution_count": 34,
   "metadata": {
    "ExecuteTime": {
     "end_time": "2021-07-10T14:50:21.180710Z",
     "start_time": "2021-07-10T14:50:21.164753Z"
    }
   },
   "outputs": [
    {
     "data": {
      "text/plain": [
       "'E:\\\\OneDrive\\\\Jupyter\\\\포트폴리오\\\\[예측] 상점 신용카드 매출 예측하기'"
      ]
     },
     "execution_count": 34,
     "metadata": {},
     "output_type": "execute_result"
    }
   ],
   "source": [
    "os.getcwd()"
   ]
  },
  {
   "cell_type": "code",
   "execution_count": 35,
   "metadata": {
    "ExecuteTime": {
     "end_time": "2021-07-10T14:50:28.048439Z",
     "start_time": "2021-07-10T14:50:26.416287Z"
    }
   },
   "outputs": [],
   "source": [
    "train_df.to_csv('E:\\\\OneDrive\\\\Jupyter\\\\포트폴리오\\\\[예측] 상점 신용카드 매출 예측하기\\\\train_df.csv')"
   ]
  }
 ],
 "metadata": {
  "kernelspec": {
   "display_name": "Python 3",
   "language": "python",
   "name": "python3"
  },
  "language_info": {
   "codemirror_mode": {
    "name": "ipython",
    "version": 3
   },
   "file_extension": ".py",
   "mimetype": "text/x-python",
   "name": "python",
   "nbconvert_exporter": "python",
   "pygments_lexer": "ipython3",
   "version": "3.8.5"
  },
  "toc": {
   "base_numbering": 1,
   "nav_menu": {},
   "number_sections": true,
   "sideBar": true,
   "skip_h1_title": false,
   "title_cell": "Table of Contents",
   "title_sidebar": "Contents",
   "toc_cell": false,
   "toc_position": {},
   "toc_section_display": true,
   "toc_window_display": true
  },
  "varInspector": {
   "cols": {
    "lenName": 16,
    "lenType": 16,
    "lenVar": 40
   },
   "kernels_config": {
    "python": {
     "delete_cmd_postfix": "",
     "delete_cmd_prefix": "del ",
     "library": "var_list.py",
     "varRefreshCmd": "print(var_dic_list())"
    },
    "r": {
     "delete_cmd_postfix": ") ",
     "delete_cmd_prefix": "rm(",
     "library": "var_list.r",
     "varRefreshCmd": "cat(var_dic_list()) "
    }
   },
   "types_to_exclude": [
    "module",
    "function",
    "builtin_function_or_method",
    "instance",
    "_Feature"
   ],
   "window_display": false
  }
 },
 "nbformat": 4,
 "nbformat_minor": 4
}
