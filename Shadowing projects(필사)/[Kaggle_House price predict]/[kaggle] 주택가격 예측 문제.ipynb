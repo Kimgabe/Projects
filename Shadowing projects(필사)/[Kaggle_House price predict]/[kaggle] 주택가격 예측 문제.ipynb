{
 "cells": [
  {
   "cell_type": "code",
   "execution_count": 1,
   "metadata": {
    "ExecuteTime": {
     "end_time": "2021-09-10T12:19:10.930362Z",
     "start_time": "2021-09-10T12:19:07.974266Z"
    }
   },
   "outputs": [],
   "source": [
    "# 기초 전처리\n",
    "import pandas as pd\n",
    "import numpy as np\n",
    "\n",
    "# 시각화\n",
    "import matplotlib.pyplot as plt\n",
    "import seaborn as sns\n",
    "import folium\n",
    "import os\n",
    "\n",
    "# 캔버스 사이즈 적용\n",
    "plt.rcParams['figure.figsize'] = (12, 9)\n",
    "\n",
    "# 컬럼 전체 확인 가능하도록 출력 범위 설정\n",
    "pd.set_option('display.max_columns', 500)\n",
    "pd.set_option('display.width', 10000)\n",
    "\n",
    "# 불필요한 경고 표시 생략\n",
    "import warnings\n",
    "warnings.filterwarnings(action = 'ignore')\n",
    "\n",
    "# pandas 결과값의 표현 범위 소수점 2자리수로 변경\n",
    "pd.options.display.float_format = '{:.2f}'.format\n",
    "\n",
    "# 파일 로드위한 directory 확인 및 현재 경로로 설정\n",
    "a = os.getcwd()\n",
    "os.chdir(a)"
   ]
  },
  {
   "cell_type": "markdown",
   "metadata": {},
   "source": [
    "# 0. 데이터 불러오기"
   ]
  },
  {
   "cell_type": "code",
   "execution_count": 2,
   "metadata": {
    "ExecuteTime": {
     "end_time": "2021-09-10T12:19:10.990202Z",
     "start_time": "2021-09-10T12:19:10.932358Z"
    }
   },
   "outputs": [
    {
     "name": "stdout",
     "output_type": "stream",
     "text": [
      "Data Loading is Done!\n"
     ]
    }
   ],
   "source": [
    "train = pd.read_csv('train.csv')\n",
    "test = pd.read_csv('test.csv') \n",
    "\n",
    "print('Data Loading is Done!')"
   ]
  },
  {
   "cell_type": "markdown",
   "metadata": {},
   "source": [
    "# 1. EDA & Preprocessing"
   ]
  },
  {
   "cell_type": "markdown",
   "metadata": {},
   "source": [
    "## Feature Engineering"
   ]
  },
  {
   "cell_type": "code",
   "execution_count": 3,
   "metadata": {
    "ExecuteTime": {
     "end_time": "2021-09-10T12:19:11.005162Z",
     "start_time": "2021-09-10T12:19:10.992198Z"
    }
   },
   "outputs": [
    {
     "name": "stdout",
     "output_type": "stream",
     "text": [
      "The shape of Train Data is: (1460, 81) \n",
      "\n",
      "The shape of Test Data is: (1459, 80)\n"
     ]
    }
   ],
   "source": [
    "# 현재 train & test 데이터의 형태 확인\n",
    "print(\"The shape of Train Data is:\", train.shape, \"\\n\")\n",
    "print(\"The shape of Test Data is:\", test.shape)"
   ]
  },
  {
   "cell_type": "code",
   "execution_count": 4,
   "metadata": {
    "ExecuteTime": {
     "end_time": "2021-09-10T12:19:11.035083Z",
     "start_time": "2021-09-10T12:19:11.008155Z"
    }
   },
   "outputs": [
    {
     "name": "stdout",
     "output_type": "stream",
     "text": [
      "<class 'pandas.core.frame.DataFrame'>\n",
      "RangeIndex: 1460 entries, 0 to 1459\n",
      "Data columns (total 81 columns):\n",
      " #   Column         Non-Null Count  Dtype  \n",
      "---  ------         --------------  -----  \n",
      " 0   Id             1460 non-null   int64  \n",
      " 1   MSSubClass     1460 non-null   int64  \n",
      " 2   MSZoning       1460 non-null   object \n",
      " 3   LotFrontage    1201 non-null   float64\n",
      " 4   LotArea        1460 non-null   int64  \n",
      " 5   Street         1460 non-null   object \n",
      " 6   Alley          91 non-null     object \n",
      " 7   LotShape       1460 non-null   object \n",
      " 8   LandContour    1460 non-null   object \n",
      " 9   Utilities      1460 non-null   object \n",
      " 10  LotConfig      1460 non-null   object \n",
      " 11  LandSlope      1460 non-null   object \n",
      " 12  Neighborhood   1460 non-null   object \n",
      " 13  Condition1     1460 non-null   object \n",
      " 14  Condition2     1460 non-null   object \n",
      " 15  BldgType       1460 non-null   object \n",
      " 16  HouseStyle     1460 non-null   object \n",
      " 17  OverallQual    1460 non-null   int64  \n",
      " 18  OverallCond    1460 non-null   int64  \n",
      " 19  YearBuilt      1460 non-null   int64  \n",
      " 20  YearRemodAdd   1460 non-null   int64  \n",
      " 21  RoofStyle      1460 non-null   object \n",
      " 22  RoofMatl       1460 non-null   object \n",
      " 23  Exterior1st    1460 non-null   object \n",
      " 24  Exterior2nd    1460 non-null   object \n",
      " 25  MasVnrType     1452 non-null   object \n",
      " 26  MasVnrArea     1452 non-null   float64\n",
      " 27  ExterQual      1460 non-null   object \n",
      " 28  ExterCond      1460 non-null   object \n",
      " 29  Foundation     1460 non-null   object \n",
      " 30  BsmtQual       1423 non-null   object \n",
      " 31  BsmtCond       1423 non-null   object \n",
      " 32  BsmtExposure   1422 non-null   object \n",
      " 33  BsmtFinType1   1423 non-null   object \n",
      " 34  BsmtFinSF1     1460 non-null   int64  \n",
      " 35  BsmtFinType2   1422 non-null   object \n",
      " 36  BsmtFinSF2     1460 non-null   int64  \n",
      " 37  BsmtUnfSF      1460 non-null   int64  \n",
      " 38  TotalBsmtSF    1460 non-null   int64  \n",
      " 39  Heating        1460 non-null   object \n",
      " 40  HeatingQC      1460 non-null   object \n",
      " 41  CentralAir     1460 non-null   object \n",
      " 42  Electrical     1459 non-null   object \n",
      " 43  1stFlrSF       1460 non-null   int64  \n",
      " 44  2ndFlrSF       1460 non-null   int64  \n",
      " 45  LowQualFinSF   1460 non-null   int64  \n",
      " 46  GrLivArea      1460 non-null   int64  \n",
      " 47  BsmtFullBath   1460 non-null   int64  \n",
      " 48  BsmtHalfBath   1460 non-null   int64  \n",
      " 49  FullBath       1460 non-null   int64  \n",
      " 50  HalfBath       1460 non-null   int64  \n",
      " 51  BedroomAbvGr   1460 non-null   int64  \n",
      " 52  KitchenAbvGr   1460 non-null   int64  \n",
      " 53  KitchenQual    1460 non-null   object \n",
      " 54  TotRmsAbvGrd   1460 non-null   int64  \n",
      " 55  Functional     1460 non-null   object \n",
      " 56  Fireplaces     1460 non-null   int64  \n",
      " 57  FireplaceQu    770 non-null    object \n",
      " 58  GarageType     1379 non-null   object \n",
      " 59  GarageYrBlt    1379 non-null   float64\n",
      " 60  GarageFinish   1379 non-null   object \n",
      " 61  GarageCars     1460 non-null   int64  \n",
      " 62  GarageArea     1460 non-null   int64  \n",
      " 63  GarageQual     1379 non-null   object \n",
      " 64  GarageCond     1379 non-null   object \n",
      " 65  PavedDrive     1460 non-null   object \n",
      " 66  WoodDeckSF     1460 non-null   int64  \n",
      " 67  OpenPorchSF    1460 non-null   int64  \n",
      " 68  EnclosedPorch  1460 non-null   int64  \n",
      " 69  3SsnPorch      1460 non-null   int64  \n",
      " 70  ScreenPorch    1460 non-null   int64  \n",
      " 71  PoolArea       1460 non-null   int64  \n",
      " 72  PoolQC         7 non-null      object \n",
      " 73  Fence          281 non-null    object \n",
      " 74  MiscFeature    54 non-null     object \n",
      " 75  MiscVal        1460 non-null   int64  \n",
      " 76  MoSold         1460 non-null   int64  \n",
      " 77  YrSold         1460 non-null   int64  \n",
      " 78  SaleType       1460 non-null   object \n",
      " 79  SaleCondition  1460 non-null   object \n",
      " 80  SalePrice      1460 non-null   int64  \n",
      "dtypes: float64(3), int64(35), object(43)\n",
      "memory usage: 924.0+ KB\n",
      "None\n"
     ]
    }
   ],
   "source": [
    "print(train.info())"
   ]
  },
  {
   "cell_type": "code",
   "execution_count": 5,
   "metadata": {
    "ExecuteTime": {
     "end_time": "2021-09-10T12:19:11.065003Z",
     "start_time": "2021-09-10T12:19:11.038075Z"
    }
   },
   "outputs": [
    {
     "name": "stdout",
     "output_type": "stream",
     "text": [
      "<class 'pandas.core.frame.DataFrame'>\n",
      "RangeIndex: 1459 entries, 0 to 1458\n",
      "Data columns (total 80 columns):\n",
      " #   Column         Non-Null Count  Dtype  \n",
      "---  ------         --------------  -----  \n",
      " 0   Id             1459 non-null   int64  \n",
      " 1   MSSubClass     1459 non-null   int64  \n",
      " 2   MSZoning       1455 non-null   object \n",
      " 3   LotFrontage    1232 non-null   float64\n",
      " 4   LotArea        1459 non-null   int64  \n",
      " 5   Street         1459 non-null   object \n",
      " 6   Alley          107 non-null    object \n",
      " 7   LotShape       1459 non-null   object \n",
      " 8   LandContour    1459 non-null   object \n",
      " 9   Utilities      1457 non-null   object \n",
      " 10  LotConfig      1459 non-null   object \n",
      " 11  LandSlope      1459 non-null   object \n",
      " 12  Neighborhood   1459 non-null   object \n",
      " 13  Condition1     1459 non-null   object \n",
      " 14  Condition2     1459 non-null   object \n",
      " 15  BldgType       1459 non-null   object \n",
      " 16  HouseStyle     1459 non-null   object \n",
      " 17  OverallQual    1459 non-null   int64  \n",
      " 18  OverallCond    1459 non-null   int64  \n",
      " 19  YearBuilt      1459 non-null   int64  \n",
      " 20  YearRemodAdd   1459 non-null   int64  \n",
      " 21  RoofStyle      1459 non-null   object \n",
      " 22  RoofMatl       1459 non-null   object \n",
      " 23  Exterior1st    1458 non-null   object \n",
      " 24  Exterior2nd    1458 non-null   object \n",
      " 25  MasVnrType     1443 non-null   object \n",
      " 26  MasVnrArea     1444 non-null   float64\n",
      " 27  ExterQual      1459 non-null   object \n",
      " 28  ExterCond      1459 non-null   object \n",
      " 29  Foundation     1459 non-null   object \n",
      " 30  BsmtQual       1415 non-null   object \n",
      " 31  BsmtCond       1414 non-null   object \n",
      " 32  BsmtExposure   1415 non-null   object \n",
      " 33  BsmtFinType1   1417 non-null   object \n",
      " 34  BsmtFinSF1     1458 non-null   float64\n",
      " 35  BsmtFinType2   1417 non-null   object \n",
      " 36  BsmtFinSF2     1458 non-null   float64\n",
      " 37  BsmtUnfSF      1458 non-null   float64\n",
      " 38  TotalBsmtSF    1458 non-null   float64\n",
      " 39  Heating        1459 non-null   object \n",
      " 40  HeatingQC      1459 non-null   object \n",
      " 41  CentralAir     1459 non-null   object \n",
      " 42  Electrical     1459 non-null   object \n",
      " 43  1stFlrSF       1459 non-null   int64  \n",
      " 44  2ndFlrSF       1459 non-null   int64  \n",
      " 45  LowQualFinSF   1459 non-null   int64  \n",
      " 46  GrLivArea      1459 non-null   int64  \n",
      " 47  BsmtFullBath   1457 non-null   float64\n",
      " 48  BsmtHalfBath   1457 non-null   float64\n",
      " 49  FullBath       1459 non-null   int64  \n",
      " 50  HalfBath       1459 non-null   int64  \n",
      " 51  BedroomAbvGr   1459 non-null   int64  \n",
      " 52  KitchenAbvGr   1459 non-null   int64  \n",
      " 53  KitchenQual    1458 non-null   object \n",
      " 54  TotRmsAbvGrd   1459 non-null   int64  \n",
      " 55  Functional     1457 non-null   object \n",
      " 56  Fireplaces     1459 non-null   int64  \n",
      " 57  FireplaceQu    729 non-null    object \n",
      " 58  GarageType     1383 non-null   object \n",
      " 59  GarageYrBlt    1381 non-null   float64\n",
      " 60  GarageFinish   1381 non-null   object \n",
      " 61  GarageCars     1458 non-null   float64\n",
      " 62  GarageArea     1458 non-null   float64\n",
      " 63  GarageQual     1381 non-null   object \n",
      " 64  GarageCond     1381 non-null   object \n",
      " 65  PavedDrive     1459 non-null   object \n",
      " 66  WoodDeckSF     1459 non-null   int64  \n",
      " 67  OpenPorchSF    1459 non-null   int64  \n",
      " 68  EnclosedPorch  1459 non-null   int64  \n",
      " 69  3SsnPorch      1459 non-null   int64  \n",
      " 70  ScreenPorch    1459 non-null   int64  \n",
      " 71  PoolArea       1459 non-null   int64  \n",
      " 72  PoolQC         3 non-null      object \n",
      " 73  Fence          290 non-null    object \n",
      " 74  MiscFeature    51 non-null     object \n",
      " 75  MiscVal        1459 non-null   int64  \n",
      " 76  MoSold         1459 non-null   int64  \n",
      " 77  YrSold         1459 non-null   int64  \n",
      " 78  SaleType       1458 non-null   object \n",
      " 79  SaleCondition  1459 non-null   object \n",
      "dtypes: float64(11), int64(26), object(43)\n",
      "memory usage: 912.0+ KB\n",
      "None\n"
     ]
    }
   ],
   "source": [
    "print(test.info())"
   ]
  },
  {
   "cell_type": "markdown",
   "metadata": {},
   "source": [
    "데이터에 결측치가 있는 것이 발견된다. 피처 엔지니어링을 통해 해당 변수들을 전처리할 필요가 있다."
   ]
  },
  {
   "cell_type": "markdown",
   "metadata": {},
   "source": [
    "## 이상치 제거\n",
    "\n",
    "- 수치형 데이터에서 가장 빈번하게 나타난다.\n",
    "    - 예측 범위가 넓은 데이터(e.g: 가격)은 데이터의 범위가 클 수록 예측 정확도가 떨어지기 때문에 이상치 확인은 중요하다.\n",
    "- 이상치 제거의 기준을 단순히 숫자로만 판단하면 안된다.\n",
    "    - '이상치 = 적절하지 않게 측정된 데이터' 라는 개념으로 인지하는게 중요.\n",
    "\n",
    "> e.g) \n",
    "- OverallQual: Rates the overall material and finish of the house\n",
    "\n",
    "- OverallCond: Rates the overall condition of the house\n",
    "\n",
    "와 같은 데이터는 설문 조사자의 주관적 편향이 들어갈 우려가 있는 객관적이지 못한 데이터 이다.\n",
    "이러한 데이터 또한 이상치로 간주할 수 있을 것이다."
   ]
  },
  {
   "cell_type": "code",
   "execution_count": 6,
   "metadata": {
    "ExecuteTime": {
     "end_time": "2021-09-10T12:19:11.109883Z",
     "start_time": "2021-09-10T12:19:11.067995Z"
    }
   },
   "outputs": [],
   "source": [
    "def jointplots(xs, y, data, hue=None, height=6, ratio=5, space=0.2, kind = None, xlabels=None, ylabel=None, margin_norm=False):\n",
    "    \"\"\"\n",
    "    -------------------\n",
    "    Input Parameters\n",
    "    -------------------\n",
    "    xs      : (list or str) feature name(s) of data\n",
    "    y       : (str) feature name of data\n",
    "    data    : (pandas.DataFrame)\n",
    "    hue     : (str) semantic variable that is mapped to determine the color of plot elements. Semantic variable that is mapped to determine the color of plot elements.\n",
    "    \n",
    "    height  : (float) size of the figure\n",
    "    ratio   : (float) ratio of the joint axes height to marginal axes height.\n",
    "    space   : (float) space between the joint and marginal axes\n",
    "    \n",
    "    xlabels : (list or str) xlabels\n",
    "    ylabel  : (str) ylabel\n",
    "    margin_norm : (boolean) if True, kdeplots at marginal axes have same scale.\n",
    "    \"\"\"\n",
    "    ### 1. input check\n",
    "    # input type\n",
    "    assert isinstance(xs, list) or isinstance(xs, str)\n",
    "    if isinstance(xs, list):\n",
    "        assert all([isinstance(x, str) for x in xs])\n",
    "    else:\n",
    "        xs = [xs]\n",
    "        \n",
    "    \n",
    "    if xlabels != None:\n",
    "        assert isinstance(xlabels, list) or isinstance(xlabels, str)\n",
    "        if isinstance(xlabels, list):\n",
    "            assert all([isinstance(xlabel, str) for xlabel in xlabels])\n",
    "        else:\n",
    "            xlabels = [xlabels]\n",
    "    \n",
    "    if ylabel != None:\n",
    "        assert isinstance(ylabel, str)\n",
    "    \n",
    "    if hue != None:\n",
    "        assert isinstance(hue, str)\n",
    "    \n",
    "    if kind != None:\n",
    "        assert isinstance(kind, str)\n",
    "    \n",
    "    \n",
    "    \n",
    "    # input data\n",
    "    assert all([x in data.columns for x in xs])\n",
    "    assert y in data.columns\n",
    "    if hue != None:\n",
    "        assert hue in data.columns\n",
    "    \n",
    "    \n",
    "    ### 2. figure\n",
    "    h_margin = height / (ratio + 1)\n",
    "    h_joint = height - h_margin\n",
    "    \n",
    "    if isinstance(xs, list):\n",
    "        n_x = len(xs)\n",
    "    else:\n",
    "        n_x = 1\n",
    "    \n",
    "    widths = [h_joint] * n_x + [h_margin]\n",
    "    heights = [h_margin, h_joint]\n",
    "    ncols = len(widths)\n",
    "    nrows = len(heights)\n",
    "    \n",
    "    fig = plt.figure(figsize=(sum(widths), sum(heights)))\n",
    "    \n",
    "    ### 3. gridspec preparation\n",
    "    spec = fig.add_gridspec(ncols=ncols, nrows=nrows, \n",
    "                            width_ratios = widths, height_ratios = heights,\n",
    "                            wspace=space, hspace=space\n",
    "                           )\n",
    "    \n",
    "    ### 4. setting axes\n",
    "    axs = {}\n",
    "    for i in range(ncols * nrows):\n",
    "        axs[i] = fig.add_subplot(spec[i//ncols, i%ncols])\n",
    "    \n",
    "    \n",
    "    ### 5. jointplots (scatterplot + kdeplot)\n",
    "    for i, x in enumerate(xs, ncols):\n",
    "        if i == ncols:\n",
    "            legend=True\n",
    "        else:\n",
    "            legend=False\n",
    "        sns.kdeplot(x=x, y=y, data=data, hue=hue, alpha=0.3, ax=axs[i], zorder=2, legend=False)\n",
    "        sns.scatterplot(x=x, y=y, data=data, hue=hue, alpha=0.8, ax=axs[i], zorder=3, legend=legend)\n",
    "    \n",
    "    \n",
    "    ### 6. kdeplots at marginal axes\n",
    "    axs[ncols-1].axis(\"off\")\n",
    "    \n",
    "    axes_mx = list(range(ncols-1))\n",
    "    axes_my = 2*ncols - 1\n",
    "    \n",
    "    for i, x in zip(axes_mx, xs):\n",
    "        sns.kdeplot(x=x, data=data, hue=hue, fill=True, ax=axs[i], zorder=2, legend=False)\n",
    "        axs[i].set_xlim(axs[i+ncols].get_xlim())\n",
    "        axs[i].set_xlabel(\"\")\n",
    "        axs[i].set_xticklabels([])\n",
    "        axs[i].spines[\"left\"].set_visible(False)\n",
    "        axs[i].spines[\"top\"].set_visible(False)\n",
    "        axs[i].spines[\"right\"].set_visible(False)\n",
    "    \n",
    "    sns.kdeplot(y=y, data=data, hue=hue, fill=True, ax=axs[axes_my], zorder=2, legend=False)\n",
    "    axs[axes_my].set_ylim(axs[ncols].get_ylim())\n",
    "    axs[axes_my].set_ylabel(\"\")\n",
    "    axs[axes_my].set_yticklabels([])\n",
    "    axs[axes_my].spines[\"bottom\"].set_visible(False)\n",
    "    axs[axes_my].spines[\"top\"].set_visible(False)\n",
    "    axs[axes_my].spines[\"right\"].set_visible(False)\n",
    "    \n",
    "    if margin_norm == True:\n",
    "        hist_range_max = max([axs[m].get_ylim()[-1] for m in axes_mx] + [axs[axes_my].get_xlim()[-1]])\n",
    "        for i in axes_mx:\n",
    "            axs[i].set_ylim(0, hist_range_max)\n",
    "        axs[axes_my].set_xlim(0, hist_range_max)\n",
    "        \n",
    "        \n",
    "    ### 7. unnecessary elements removal\n",
    "    # 7.1. labels and ticklabels\n",
    "    axes_j = list(range(ncols, 2*ncols-1))\n",
    "    for i in axes_j:\n",
    "        if i != ncols:\n",
    "            axs[i].set_ylabel(\"\")\n",
    "            axs[i].set_yticklabels([])\n",
    "    \n",
    "    # 7.2. marginal axes\n",
    "    for i in axes_mx:\n",
    "        if i != 0:\n",
    "            axs[i].set_ylabel(\"\")\n",
    "        \n",
    "        axs[i].grid(\"on\", color=\"lightgray\", zorder=0)\n",
    "        axs[i].set_yticklabels([])\n",
    "        \n",
    "        yticks = axs[i].get_yticks()\n",
    "        ylim = axs[i].get_ylim()\n",
    "        for ytick in yticks:\n",
    "            if 0 < ytick < ylim[-1]:\n",
    "                axs[i].text(axs[i].get_xlim()[0], ytick, str(ytick), \n",
    "                            fontdict={\"verticalalignment\":\"center\"})\n",
    "        \n",
    "    axs[axes_my].grid(\"on\", color=\"lightgray\", zorder=0)\n",
    "    axs[axes_my].set_xticklabels([])\n",
    "    axes_my_xticks = axs[axes_my].get_xticks()\n",
    "    axes_my_xlim = axs[axes_my].get_xlim()\n",
    "    for xtick in axes_my_xticks:\n",
    "        if 0 < xtick < axes_my_xlim[-1]:\n",
    "            axs[axes_my].text(xtick, axs[axes_my].get_ylim()[0], str(xtick), \n",
    "                              rotation=270, fontdict={\"horizontalalignment\":\"center\"})\n",
    "    \n",
    "    # 7.3. labels\n",
    "    font_label = {\"color\": \"gray\", \"fontsize\":\"large\"}\n",
    "    labelpad = 12\n",
    "    for i, x in zip(axes_j, xlabels):\n",
    "        axs[i].set_xlabel(x, fontdict=font_label, labelpad=labelpad)\n",
    "        if i == ncols:\n",
    "            axs[i].set_ylabel(ylabel, fontdict=font_label, labelpad=labelpad)\n",
    "    \n",
    "    axs[0].set_ylabel(\"Density\", fontdict=font_label, labelpad=labelpad)\n",
    "    axs[2*ncols-1].set_xlabel(\"Density\", fontdict=font_label, labelpad=labelpad)\n",
    "    \n",
    "    fig.align_ylabels([axs[0], axs[ncols]])\n",
    "    fig.align_xlabels([axs[x] for x in range(ncols, 2*ncols)])\n",
    "    plt.tight_layout()\n",
    "    \n",
    "    return fig, axs"
   ]
  },
  {
   "cell_type": "code",
   "execution_count": 7,
   "metadata": {
    "ExecuteTime": {
     "end_time": "2021-09-10T12:19:14.472342Z",
     "start_time": "2021-09-10T12:19:11.112875Z"
    }
   },
   "outputs": [
    {
     "data": {
      "text/plain": [
       "(<Figure size 1056x576 with 6 Axes>,\n",
       " {0: <AxesSubplot:ylabel='Density'>,\n",
       "  1: <AxesSubplot:>,\n",
       "  2: <AxesSubplot:>,\n",
       "  3: <AxesSubplot:xlabel='OverallQual', ylabel='SalePrice'>,\n",
       "  4: <AxesSubplot:xlabel='OverallCond'>,\n",
       "  5: <AxesSubplot:xlabel='Density'>})"
      ]
     },
     "execution_count": 7,
     "metadata": {},
     "output_type": "execute_result"
    },
    {
     "data": {
      "image/png": "[encoded data removed]",
      "text/plain": [
       "<Figure size 1056x576 with 6 Axes>"
      ]
     },
     "metadata": {
      "needs_background": "light"
     },
     "output_type": "display_data"
    }
   ],
   "source": [
    "jointplots([\"OverallQual\", \"OverallCond\"], \"SalePrice\", train, height=8, ratio= 5,\n",
    "          xlabels = [\"OverallQual\", \"OverallCond\"], ylabel=\"SalePrice\")"
   ]
  },
  {
   "cell_type": "markdown",
   "metadata": {},
   "source": [
    "- OverallQual, OverallCond 데이터의 대부분은 4 이상인 값들이 대부분이다.\n",
    "- 대부분의 가격은 100000 ~ 200000 사이에 형성되어 있다.\n",
    "- 두 조건을 감안해 "
   ]
  },
  {
   "cell_type": "markdown",
   "metadata": {},
   "source": [
    "## 종속 변수(SalePrice)의 로그화"
   ]
  },
  {
   "cell_type": "markdown",
   "metadata": {},
   "source": [
    "### SalePrice 시각화"
   ]
  },
  {
   "cell_type": "code",
   "execution_count": 8,
   "metadata": {
    "ExecuteTime": {
     "end_time": "2021-09-10T12:19:14.487273Z",
     "start_time": "2021-09-10T12:19:14.474307Z"
    }
   },
   "outputs": [],
   "source": [
    "from scipy.stats import norm"
   ]
  },
  {
   "cell_type": "code",
   "execution_count": 9,
   "metadata": {
    "ExecuteTime": {
     "end_time": "2021-09-10T12:19:14.802955Z",
     "start_time": "2021-09-10T12:19:14.489267Z"
    }
   },
   "outputs": [
    {
     "name": "stdout",
     "output_type": "stream",
     "text": [
      "The value of mu before log transformation is: 180921.19589041095 \n",
      "\n",
      "The value of sigma after log transformation is: 79415.29188606751\n"
     ]
    },
    {
     "data": {
      "image/png": "[encoded data removed]",
      "text/plain": [
       "<Figure size 720x432 with 1 Axes>"
      ]
     },
     "metadata": {
      "needs_background": "light"
     },
     "output_type": "display_data"
    }
   ],
   "source": [
    "(mu, sigma) = norm.fit(train['SalePrice'])\n",
    "print(\"The value of mu before log transformation is:\" , mu, \"\\n\")\n",
    "print(\"The value of sigma after log transformation is:\" , sigma)\n",
    "\n",
    "# 캔버스 세팅\n",
    "fig, ax = plt.subplots(figsize=(10,6))\n",
    "\n",
    "# Histogram 데이터 입력\n",
    "sns.histplot(train['SalePrice'], color ='b', stat='probability')\n",
    "\n",
    "# 축 설정\n",
    "ax.xaxis.grid(False) \n",
    "ax.set(ylabel = 'Frequency')\n",
    "ax.set(xlabel = 'Sales Price')\n",
    "ax.set(title = 'SalePrice distribution')\n",
    "\n",
    "# 가격 평균선 입력\n",
    "plt.axvline(mu, color='r', linestyle = '--')\n",
    "\n",
    "# 가격 평균선 text 설정\n",
    "plt.text(mu+10000, 0.11, 'Mean of SalePrice', rotation = 0, color = 'r')\n",
    "\n",
    "fig.show()"
   ]
  },
  {
   "cell_type": "markdown",
   "metadata": {},
   "source": [
    "- 주택 가격이 정규분포 형태를 이루지 않고 있다.\n",
    "- 일반적인 선형 회귀는 각 데이터가 '정규분포를 만족한다' 를 전제로 한다.\n",
    "- 따라서 해당 데이터를 np.log1p() 를 활용해 SalePrice를 로그화 한다."
   ]
  },
  {
   "cell_type": "code",
   "execution_count": 10,
   "metadata": {
    "ExecuteTime": {
     "end_time": "2021-09-10T12:19:15.120618Z",
     "start_time": "2021-09-10T12:19:14.804950Z"
    }
   },
   "outputs": [
    {
     "name": "stdout",
     "output_type": "stream",
     "text": [
      "The value of mu before log transformation is: 12.024057394918406 \n",
      "\n",
      "The value of sigma after log transformation is: 0.39931245219387496\n"
     ]
    },
    {
     "data": {
      "image/png": "[encoded data removed]",
      "text/plain": [
       "<Figure size 720x432 with 1 Axes>"
      ]
     },
     "metadata": {
      "needs_background": "light"
     },
     "output_type": "display_data"
    }
   ],
   "source": [
    "# SalePrice 로그화\n",
    "train['SalePrice'] = np.log1p(train['SalePrice'])\n",
    "\n",
    "(mu, sigma) = norm.fit(train['SalePrice'])\n",
    "print(\"The value of mu before log transformation is:\" , mu, \"\\n\")\n",
    "print(\"The value of sigma after log transformation is:\" , sigma)\n",
    "\n",
    "# 캔버스 세팅\n",
    "fig, ax = plt.subplots(figsize=(10,6))\n",
    "\n",
    "# Histogram 데이터 입력\n",
    "sns.histplot(train['SalePrice'], color ='r', stat='probability')\n",
    "\n",
    "# 축 설정\n",
    "ax.xaxis.grid(False) \n",
    "ax.set(ylabel = 'Frequency')\n",
    "ax.set(xlabel = 'Sales Price')\n",
    "ax.set(title = 'SalePrice distribution')\n",
    "\n",
    "# 가격 평균선 입력\n",
    "plt.axvline(mu, color='b', linestyle = '--')\n",
    "\n",
    "# 가격 평균선 text 설정\n",
    "plt.text(mu+0.05, 0.111, 'Mean of SalePrice', rotation = 0, color = 'b')\n",
    "plt.ylim(0, 0.12)\n",
    "\n",
    "fig.show()"
   ]
  },
  {
   "cell_type": "markdown",
   "metadata": {},
   "source": [
    "## 데이터 합치기 (Train + Test)"
   ]
  },
  {
   "cell_type": "code",
   "execution_count": 11,
   "metadata": {
    "ExecuteTime": {
     "end_time": "2021-09-10T12:19:15.135578Z",
     "start_time": "2021-09-10T12:19:15.122612Z"
    }
   },
   "outputs": [
    {
     "name": "stdout",
     "output_type": "stream",
     "text": [
      "The shape of Train Data is: (1460, 80) \n",
      "\n",
      "The shape of Test Data is: (1459, 79)\n"
     ]
    }
   ],
   "source": [
    "# 입력변수 = 각 컬럼의 ID는 별도 저장\n",
    "train_ID = train['Id']\n",
    "test_ID = test['Id']\n",
    "\n",
    "# ID 제외 나머지 컬럼만 데이터에 남김\n",
    "train.drop(['Id'], axis = 1, inplace = True)\n",
    "test.drop(['Id'], axis = 1, inplace = True)\n",
    "\n",
    "# 결과 확인\n",
    "print(\"The shape of Train Data is:\", train.shape, \"\\n\")\n",
    "print(\"The shape of Test Data is:\", test.shape)"
   ]
  },
  {
   "cell_type": "code",
   "execution_count": 12,
   "metadata": {
    "ExecuteTime": {
     "end_time": "2021-09-10T12:19:15.150537Z",
     "start_time": "2021-09-10T12:19:15.137573Z"
    }
   },
   "outputs": [
    {
     "name": "stdout",
     "output_type": "stream",
     "text": [
      "The shape of Train Data is: (1460, 79) \n",
      "\n",
      "The shape of Test Data is: (1459, 79) \n",
      "\n",
      "The shape of y label is: (1460,)\n"
     ]
    }
   ],
   "source": [
    "# SalePrice 별도 추출 및 저장\n",
    "\n",
    "y = train['SalePrice'].reset_index(drop = True)\n",
    "train = train.drop('SalePrice', axis = 1)\n",
    "\n",
    "# 결과 확인\n",
    "print(\"The shape of Train Data is:\", train.shape, \"\\n\")\n",
    "print(\"The shape of Test Data is:\", test.shape, \"\\n\")\n",
    "print(\"The shape of y label is:\", y.shape)"
   ]
  },
  {
   "cell_type": "markdown",
   "metadata": {},
   "source": [
    "변수의 개수가 모두 동일하게 되어 두 데이터를 합칠 수 있다."
   ]
  },
  {
   "cell_type": "code",
   "execution_count": 13,
   "metadata": {
    "ExecuteTime": {
     "end_time": "2021-09-10T12:19:15.180458Z",
     "start_time": "2021-09-10T12:19:15.152533Z"
    }
   },
   "outputs": [
    {
     "name": "stdout",
     "output_type": "stream",
     "text": [
      "The shape of 'all_data' is: (2919, 79)\n"
     ]
    }
   ],
   "source": [
    "all_df = pd.concat([train, test]).reset_index(drop=True)\n",
    "print(\"The shape of 'all_data' is:\", all_df.shape )"
   ]
  },
  {
   "cell_type": "markdown",
   "metadata": {},
   "source": [
    "### 결측치 처리\n",
    "\n",
    "- 결측치 : 중간에 데이터 값이 비어 있는 경우."
   ]
  },
  {
   "cell_type": "markdown",
   "metadata": {},
   "source": [
    "#### 결측치 확인"
   ]
  },
  {
   "cell_type": "code",
   "execution_count": 14,
   "metadata": {
    "ExecuteTime": {
     "end_time": "2021-09-10T12:19:15.195418Z",
     "start_time": "2021-09-10T12:19:15.182453Z"
    }
   },
   "outputs": [],
   "source": [
    "# head_num : 결과 출력할때 haed()의 수\n",
    "\n",
    "# df의 null값 비율 체크해서 비율로 변환 & 내림차순 정렬 함수\n",
    "def check_na(data, head_num):\n",
    "    \"\"\"결측치 확인하여 비율로 변환\"\"\"\n",
    "    isnull_ratio = (data.isnull().sum() / len(data)) * 100 \n",
    "    data_na = isnull_ratio.drop(isnull_ratio[isnull_ratio == 0].index).sort_values(ascending = False)\n",
    "    missing_data = pd.DataFrame({'Missing Ratio' : data_na,\n",
    "                                    'Data Type' : data.dtypes[data_na.index]})\n",
    "    print(\"결측치 데이터 컬럼 및 건수 : \\n\", missing_data.head(head_num))"
   ]
  },
  {
   "cell_type": "code",
   "execution_count": 15,
   "metadata": {
    "ExecuteTime": {
     "end_time": "2021-09-10T12:19:15.225338Z",
     "start_time": "2021-09-10T12:19:15.197413Z"
    }
   },
   "outputs": [
    {
     "name": "stdout",
     "output_type": "stream",
     "text": [
      "결측치 데이터 컬럼 및 건수 : \n",
      "               Missing Ratio Data Type\n",
      "PoolQC                99.66    object\n",
      "MiscFeature           96.40    object\n",
      "Alley                 93.22    object\n",
      "Fence                 80.44    object\n",
      "FireplaceQu           48.65    object\n",
      "LotFrontage           16.65   float64\n",
      "GarageFinish           5.45    object\n",
      "GarageQual             5.45    object\n",
      "GarageCond             5.45    object\n",
      "GarageYrBlt            5.45   float64\n",
      "GarageType             5.38    object\n",
      "BsmtExposure           2.81    object\n",
      "BsmtCond               2.81    object\n",
      "BsmtQual               2.77    object\n",
      "BsmtFinType2           2.74    object\n",
      "BsmtFinType1           2.71    object\n",
      "MasVnrType             0.82    object\n",
      "MasVnrArea             0.79   float64\n",
      "MSZoning               0.14    object\n",
      "BsmtFullBath           0.07   float64\n"
     ]
    }
   ],
   "source": [
    "# 결측치 확인\n",
    "check_na(all_df, 20)"
   ]
  },
  {
   "cell_type": "code",
   "execution_count": 16,
   "metadata": {
    "ExecuteTime": {
     "end_time": "2021-09-10T12:19:15.255258Z",
     "start_time": "2021-09-10T12:19:15.227333Z"
    }
   },
   "outputs": [
    {
     "name": "stdout",
     "output_type": "stream",
     "text": [
      "결측치 데이터 컬럼 및 건수 : \n",
      "               Missing Ratio Data Type\n",
      "GarageCond             5.45    object\n",
      "GarageQual             5.45    object\n",
      "GarageYrBlt            5.45   float64\n",
      "GarageFinish           5.45    object\n",
      "GarageType             5.38    object\n",
      "BsmtCond               2.81    object\n",
      "BsmtExposure           2.81    object\n",
      "BsmtQual               2.77    object\n",
      "BsmtFinType2           2.74    object\n",
      "BsmtFinType1           2.71    object\n",
      "MasVnrType             0.82    object\n",
      "MasVnrArea             0.79   float64\n",
      "MSZoning               0.14    object\n",
      "Functional             0.07    object\n",
      "Utilities              0.07    object\n",
      "BsmtFullBath           0.07   float64\n",
      "BsmtHalfBath           0.07   float64\n",
      "GarageArea             0.03   float64\n",
      "GarageCars             0.03   float64\n",
      "TotalBsmtSF            0.03   float64\n"
     ]
    }
   ],
   "source": [
    "# 결측치 비율이 평균 이상인 컬럼 (PoolQC, MiscFeature, Alley, Fence, FireplaceQu, LotFrontage) 제거\n",
    "\n",
    "all_df.drop(['PoolQC', 'MiscFeature', 'Alley', 'Fence', 'FireplaceQu', 'LotFrontage'], axis = 1, inplace = True)\n",
    "check_na(all_df, 20)"
   ]
  },
  {
   "cell_type": "markdown",
   "metadata": {},
   "source": [
    "#### 문자열 결측치 처리\n",
    "\n",
    "1) 방법 1. 각 변수를 확인해 개별적으로 필요 데이터를 채워넣는 방식\n",
    "- 문자열 결측치 : 빈도수 위주로 채워넣기 (출현 빈도가 가장 높은 문자열로 일괄 처리)\n",
    "- 수치 데이터 결측치 : 평균(mean) or 중간값(median) 으로 채워넣기\n",
    "\n",
    "2) 방법 2. 일괄적으로 0 or None 값을 채워넣기\n",
    "- fillna() 함수로 일괄처리 가능"
   ]
  },
  {
   "cell_type": "markdown",
   "metadata": {},
   "source": [
    "방법 1 사용 - 문자열 데이터 최빈값으로 채워넣기"
   ]
  },
  {
   "cell_type": "code",
   "execution_count": 17,
   "metadata": {
    "ExecuteTime": {
     "end_time": "2021-09-10T12:19:15.315098Z",
     "start_time": "2021-09-10T12:19:15.257253Z"
    }
   },
   "outputs": [
    {
     "name": "stdout",
     "output_type": "stream",
     "text": [
      "The whole number of all_vars 43 \n",
      "\n",
      "The whole number of final_cat_vars 38 \n",
      "\n",
      "결측치 데이터 컬럼 및 건수 : \n",
      "               Missing Ratio Data Type\n",
      "GarageYrBlt            5.45   float64\n",
      "MasVnrArea             0.79   float64\n",
      "BsmtFullBath           0.07   float64\n",
      "BsmtHalfBath           0.07   float64\n",
      "BsmtFinSF1             0.03   float64\n",
      "BsmtFinSF2             0.03   float64\n",
      "BsmtUnfSF              0.03   float64\n",
      "TotalBsmtSF            0.03   float64\n",
      "GarageCars             0.03   float64\n",
      "GarageArea             0.03   float64\n",
      "None\n"
     ]
    }
   ],
   "source": [
    "# train에서 dtype이 object인 변수명 별도 추출\n",
    "cat_all_vars = train.select_dtypes(exclude = [np.number])\n",
    "print(\"The whole number of all_vars\", len(list(cat_all_vars)),'\\n')\n",
    "\n",
    "\n",
    "# 기존에 결측치 문제로 제거한 변수를 제외한 다른 변수들에 적용하기 위해 제거된 변수들을 제외\n",
    "# 기존에 제거한 변수들 중 object 형태의 변수들만 범위로 지정\n",
    "final_cat_vars = []\n",
    "for v in cat_all_vars: # train의 모든 object 변수들중에\n",
    "    if v not in ['PoolQC', 'MiscFeature', 'Alley', 'Fence', 'FireplaceQu']: # drop한 변수외의 변수들을\n",
    "        final_cat_vars.append(v)  # final_cat_vars에 append하기\n",
    "print(\"The whole number of final_cat_vars\", len(list(final_cat_vars)),'\\n')\n",
    "\n",
    "# 각 변수별로 최빈값(최빈단어)로 fillna\n",
    "for i in final_cat_vars:\n",
    "    all_df[i] = all_df[i].fillna(i).mode()[0]\n",
    "    \n",
    "print(check_na(all_df,15)) # float에만 null값이 남아있고, 모든 object에서의 null값은 대체되었다."
   ]
  },
  {
   "cell_type": "markdown",
   "metadata": {},
   "source": [
    "방법 1 사용 - 수치형데이터 (median 으로 채워넣기)"
   ]
  },
  {
   "cell_type": "code",
   "execution_count": 18,
   "metadata": {
    "ExecuteTime": {
     "end_time": "2021-09-10T12:19:15.360976Z",
     "start_time": "2021-09-10T12:19:15.317093Z"
    }
   },
   "outputs": [
    {
     "name": "stdout",
     "output_type": "stream",
     "text": [
      "The whole number of all_vars 36 \n",
      "\n",
      "The whole number of final_cat_vars 35 \n",
      "\n",
      "결측치 데이터 컬럼 및 건수 : \n",
      " Empty DataFrame\n",
      "Columns: [Missing Ratio, Data Type]\n",
      "Index: []\n"
     ]
    }
   ],
   "source": [
    "\n",
    "# train 에서 숫자형 변수의 리스트 생성\n",
    "num_all_vars = list(train.select_dtypes(include=[np.number]))\n",
    "print(\"The whole number of all_vars\", len(list(num_all_vars)),'\\n')\n",
    "\n",
    "# 결측치 비율 기준 제거한 숫자형 변수는 1개\n",
    "# 간단하게 remove() 를 써서 drop\n",
    "num_all_vars.remove('LotFrontage')\n",
    "\n",
    "# 수치형 변수들의 중앙값(median)으로 결측치 채워넣기\n",
    "print(\"The whole number of final_cat_vars\", len(list(num_all_vars)),'\\n')\n",
    "for i in num_all_vars:\n",
    "    all_df[i].fillna(value = all_df[i].median(), inplace = True)\n",
    "    \n",
    "# 최종 결과 확인\n",
    "check_na(all_df,10) \n",
    "\n",
    "# 모든 결측치 사라진 것 확인"
   ]
  },
  {
   "cell_type": "markdown",
   "metadata": {},
   "source": [
    "### 왜도(skewness)값 처리\n",
    "\n",
    "- 분포의 비대칭도를 나타내는 통계량 (자료의 대칭성을 확인하는 측도의 한 종류)\n",
    "- 정규 분포와 같이 대칭인 분포는 왜도값이 0이다.\n",
    "- 수치형 데이터에 적용가능하며, 예측 변수 활용할때 왜도의 보정은 매우 중요하다.\n",
    "- 왜도 문제를 해결한 데이터일때 예측 모델의 신뢰도를 더 높일 수 있기 때문이다.\n",
    "\n",
    "---\n",
    "![image](https://user-images.githubusercontent.com/74717033/132131943-f7a6e177-1d10-4a15-89d1-e655ab8fbf04.png)\n",
    "[Resource: 밥먹는 개발자](https://dining-developer.tistory.com/17)"
   ]
  },
  {
   "cell_type": "code",
   "execution_count": 19,
   "metadata": {
    "ExecuteTime": {
     "end_time": "2021-09-10T12:19:15.390895Z",
     "start_time": "2021-09-10T12:19:15.362970Z"
    }
   },
   "outputs": [
    {
     "data": {
      "text/plain": [
       "MiscVal         21.95\n",
       "PoolArea        16.90\n",
       "LotArea         12.82\n",
       "LowQualFinSF    12.09\n",
       "3SsnPorch       11.38\n",
       "KitchenAbvGr     4.30\n",
       "BsmtFinSF2       4.15\n",
       "EnclosedPorch    4.00\n",
       "ScreenPorch      3.95\n",
       "BsmtHalfBath     3.93\n",
       "MasVnrArea       2.61\n",
       "OpenPorchSF      2.54\n",
       "WoodDeckSF       1.84\n",
       "1stFlrSF         1.47\n",
       "BsmtFinSF1       1.43\n",
       "MSSubClass       1.38\n",
       "GrLivArea        1.27\n",
       "TotalBsmtSF      1.16\n",
       "BsmtUnfSF        0.92\n",
       "2ndFlrSF         0.86\n",
       "TotRmsAbvGrd     0.76\n",
       "Fireplaces       0.73\n",
       "HalfBath         0.69\n",
       "BsmtFullBath     0.62\n",
       "OverallCond      0.57\n",
       "BedroomAbvGr     0.33\n",
       "GarageArea       0.24\n",
       "OverallQual      0.20\n",
       "MoSold           0.20\n",
       "FullBath         0.17\n",
       "YrSold           0.13\n",
       "GarageCars      -0.22\n",
       "GarageYrBlt     -0.40\n",
       "YearRemodAdd    -0.45\n",
       "YearBuilt       -0.60\n",
       "dtype: float64"
      ]
     },
     "execution_count": 19,
     "metadata": {},
     "output_type": "execute_result"
    }
   ],
   "source": [
    "from scipy.stats import skew\n",
    "\n",
    "# 수치형 데이터 왜도 구하는 함수 생성\n",
    "def find_skew(x):\n",
    "    return skew(x)\n",
    "\n",
    "# 수치형 변수 왜도를 구하고 내림차순으로 정렬\n",
    "skew_features = all_df[num_all_vars].apply(find_skew).sort_values(ascending = False)\n",
    "skew_features"
   ]
  },
  {
   "cell_type": "markdown",
   "metadata": {},
   "source": [
    "#### 왜도 시각화 : before Box-Cox Transformation "
   ]
  },
  {
   "cell_type": "code",
   "execution_count": 20,
   "metadata": {
    "ExecuteTime": {
     "end_time": "2021-09-10T12:19:16.217356Z",
     "start_time": "2021-09-10T12:19:15.392889Z"
    }
   },
   "outputs": [
    {
     "data": {
      "image/png": "[encoded data removed]",
      "text/plain": [
       "<Figure size 1080x720 with 1 Axes>"
      ]
     },
     "metadata": {
      "needs_background": "light"
     },
     "output_type": "display_data"
    }
   ],
   "source": [
    "# 왜도인 변수의 index get\n",
    "skewness_index = list(skew_features.index)\n",
    "\n",
    "# LotArea의 수치가 너무 커서 다른 변수들의 비대칭 분포를 확인하기 어려워 제외\n",
    "skewness_index.remove('LotArea')\n",
    "\n",
    "# 추려낸 숫자형 변수 따로 저장\n",
    "all_numeric_df = all_df.loc[:,skewness_index]\n",
    "\n",
    "\n",
    "# 시각화\n",
    "\n",
    "# 기본 캔버스 크기 설정\n",
    "fig, ax = plt.subplots(figsize = (15,10))\n",
    "\n",
    "# x축 범위 설정\n",
    "# 숫자형 변수의 max값 기준으로 내림차순 정렬\n",
    "# (0 ~ 숫자형 변수의 max값) 을 x축 lim으로 설정\n",
    "ax.set_xlim(0, all_numeric_df.max().sort_values(ascending = False)[0])\n",
    "\n",
    "# boxplot으로 왜도 분포 확인\n",
    "ax = sns.boxplot(data=all_numeric_df[skewness_index], orient = \"h\", palette = 'Set1')\n",
    "\n",
    "ax.xaxis.grid(False)\n",
    "ax.set(ylabel = 'Feature names')\n",
    "ax.set(xlabel = 'Numerix values')\n",
    "ax.set(title = \"Numeric Distributuion of Features Before Box-Cox Transformation\")\n",
    "\n",
    "sns.despine(trim = True, left = True)"
   ]
  },
  {
   "cell_type": "markdown",
   "metadata": {},
   "source": [
    "- 왜도가 높은 변수일수록 Boxplot의 box가 잘 보이지 않는다. = 데이터가 우측으로 많이 치우쳐 있다.\n",
    "- 수치형 데이터를 예측해야 하는 모델링을 할때 이런 데이터를 선형회귀 등의 알고리즘에 사용하면 입력값이 왜곡되어 예측력이 하락할 수 있다.\n",
    "- Box-Cox Transformation을 통해 왜곡된 데이터를 조절해 줘야 한다."
   ]
  },
  {
   "cell_type": "markdown",
   "metadata": {},
   "source": [
    "#### 왜도 시각화 : after Box-Cox Transformation "
   ]
  },
  {
   "cell_type": "code",
   "execution_count": 21,
   "metadata": {
    "ExecuteTime": {
     "end_time": "2021-09-10T12:19:16.247276Z",
     "start_time": "2021-09-10T12:19:16.219351Z"
    }
   },
   "outputs": [
    {
     "name": "stdout",
     "output_type": "stream",
     "text": [
      "The data before Box-Cox Transformation:\n"
     ]
    },
    {
     "data": {
      "text/html": [
       "<div>\n",
       "<style scoped>\n",
       "    .dataframe tbody tr th:only-of-type {\n",
       "        vertical-align: middle;\n",
       "    }\n",
       "\n",
       "    .dataframe tbody tr th {\n",
       "        vertical-align: top;\n",
       "    }\n",
       "\n",
       "    .dataframe thead th {\n",
       "        text-align: right;\n",
       "    }\n",
       "</style>\n",
       "<table border=\"1\" class=\"dataframe\">\n",
       "  <thead>\n",
       "    <tr style=\"text-align: right;\">\n",
       "      <th></th>\n",
       "      <th>MiscVal</th>\n",
       "      <th>PoolArea</th>\n",
       "      <th>LotArea</th>\n",
       "      <th>LowQualFinSF</th>\n",
       "      <th>3SsnPorch</th>\n",
       "      <th>KitchenAbvGr</th>\n",
       "      <th>BsmtFinSF2</th>\n",
       "      <th>EnclosedPorch</th>\n",
       "      <th>ScreenPorch</th>\n",
       "      <th>BsmtHalfBath</th>\n",
       "      <th>MasVnrArea</th>\n",
       "      <th>OpenPorchSF</th>\n",
       "      <th>WoodDeckSF</th>\n",
       "      <th>1stFlrSF</th>\n",
       "      <th>BsmtFinSF1</th>\n",
       "      <th>MSSubClass</th>\n",
       "      <th>GrLivArea</th>\n",
       "      <th>TotalBsmtSF</th>\n",
       "    </tr>\n",
       "  </thead>\n",
       "  <tbody>\n",
       "    <tr>\n",
       "      <th>0</th>\n",
       "      <td>0</td>\n",
       "      <td>0</td>\n",
       "      <td>8450</td>\n",
       "      <td>0</td>\n",
       "      <td>0</td>\n",
       "      <td>1</td>\n",
       "      <td>0.00</td>\n",
       "      <td>0</td>\n",
       "      <td>0</td>\n",
       "      <td>0.00</td>\n",
       "      <td>196.00</td>\n",
       "      <td>61</td>\n",
       "      <td>0</td>\n",
       "      <td>856</td>\n",
       "      <td>706.00</td>\n",
       "      <td>60</td>\n",
       "      <td>1710</td>\n",
       "      <td>856.00</td>\n",
       "    </tr>\n",
       "    <tr>\n",
       "      <th>1</th>\n",
       "      <td>0</td>\n",
       "      <td>0</td>\n",
       "      <td>9600</td>\n",
       "      <td>0</td>\n",
       "      <td>0</td>\n",
       "      <td>1</td>\n",
       "      <td>0.00</td>\n",
       "      <td>0</td>\n",
       "      <td>0</td>\n",
       "      <td>1.00</td>\n",
       "      <td>0.00</td>\n",
       "      <td>0</td>\n",
       "      <td>298</td>\n",
       "      <td>1262</td>\n",
       "      <td>978.00</td>\n",
       "      <td>20</td>\n",
       "      <td>1262</td>\n",
       "      <td>1262.00</td>\n",
       "    </tr>\n",
       "    <tr>\n",
       "      <th>2</th>\n",
       "      <td>0</td>\n",
       "      <td>0</td>\n",
       "      <td>11250</td>\n",
       "      <td>0</td>\n",
       "      <td>0</td>\n",
       "      <td>1</td>\n",
       "      <td>0.00</td>\n",
       "      <td>0</td>\n",
       "      <td>0</td>\n",
       "      <td>0.00</td>\n",
       "      <td>162.00</td>\n",
       "      <td>42</td>\n",
       "      <td>0</td>\n",
       "      <td>920</td>\n",
       "      <td>486.00</td>\n",
       "      <td>60</td>\n",
       "      <td>1786</td>\n",
       "      <td>920.00</td>\n",
       "    </tr>\n",
       "    <tr>\n",
       "      <th>3</th>\n",
       "      <td>0</td>\n",
       "      <td>0</td>\n",
       "      <td>9550</td>\n",
       "      <td>0</td>\n",
       "      <td>0</td>\n",
       "      <td>1</td>\n",
       "      <td>0.00</td>\n",
       "      <td>272</td>\n",
       "      <td>0</td>\n",
       "      <td>0.00</td>\n",
       "      <td>0.00</td>\n",
       "      <td>35</td>\n",
       "      <td>0</td>\n",
       "      <td>961</td>\n",
       "      <td>216.00</td>\n",
       "      <td>70</td>\n",
       "      <td>1717</td>\n",
       "      <td>756.00</td>\n",
       "    </tr>\n",
       "    <tr>\n",
       "      <th>4</th>\n",
       "      <td>0</td>\n",
       "      <td>0</td>\n",
       "      <td>14260</td>\n",
       "      <td>0</td>\n",
       "      <td>0</td>\n",
       "      <td>1</td>\n",
       "      <td>0.00</td>\n",
       "      <td>0</td>\n",
       "      <td>0</td>\n",
       "      <td>0.00</td>\n",
       "      <td>350.00</td>\n",
       "      <td>84</td>\n",
       "      <td>192</td>\n",
       "      <td>1145</td>\n",
       "      <td>655.00</td>\n",
       "      <td>60</td>\n",
       "      <td>2198</td>\n",
       "      <td>1145.00</td>\n",
       "    </tr>\n",
       "  </tbody>\n",
       "</table>\n",
       "</div>"
      ],
      "text/plain": [
       "   MiscVal  PoolArea  LotArea  LowQualFinSF  3SsnPorch  KitchenAbvGr  BsmtFinSF2  EnclosedPorch  ScreenPorch  BsmtHalfBath  MasVnrArea  OpenPorchSF  WoodDeckSF  1stFlrSF  BsmtFinSF1  MSSubClass  GrLivArea  TotalBsmtSF\n",
       "0        0         0     8450             0          0             1        0.00              0            0          0.00      196.00           61           0       856      706.00          60       1710       856.00\n",
       "1        0         0     9600             0          0             1        0.00              0            0          1.00        0.00            0         298      1262      978.00          20       1262      1262.00\n",
       "2        0         0    11250             0          0             1        0.00              0            0          0.00      162.00           42           0       920      486.00          60       1786       920.00\n",
       "3        0         0     9550             0          0             1        0.00            272            0          0.00        0.00           35           0       961      216.00          70       1717       756.00\n",
       "4        0         0    14260             0          0             1        0.00              0            0          0.00      350.00           84         192      1145      655.00          60       2198      1145.00"
      ]
     },
     "execution_count": 21,
     "metadata": {},
     "output_type": "execute_result"
    }
   ],
   "source": [
    "from scipy.special import boxcox1p\n",
    "from scipy.stats import boxcox_normmax\n",
    "\n",
    "# 왜도값이 1이상인 변수\n",
    "high_skew = skew_features[skew_features>1]\n",
    "high_skew_index = high_skew.index\n",
    "print(\"The data before Box-Cox Transformation:\")\n",
    "all_df[high_skew_index].head()"
   ]
  },
  {
   "cell_type": "code",
   "execution_count": 22,
   "metadata": {
    "ExecuteTime": {
     "end_time": "2021-09-10T12:19:16.457212Z",
     "start_time": "2021-09-10T12:19:16.249270Z"
    },
    "scrolled": false
   },
   "outputs": [
    {
     "name": "stdout",
     "output_type": "stream",
     "text": [
      "The data after Box-Cox Transformation:\n"
     ]
    },
    {
     "data": {
      "text/html": [
       "<div>\n",
       "<style scoped>\n",
       "    .dataframe tbody tr th:only-of-type {\n",
       "        vertical-align: middle;\n",
       "    }\n",
       "\n",
       "    .dataframe tbody tr th {\n",
       "        vertical-align: top;\n",
       "    }\n",
       "\n",
       "    .dataframe thead th {\n",
       "        text-align: right;\n",
       "    }\n",
       "</style>\n",
       "<table border=\"1\" class=\"dataframe\">\n",
       "  <thead>\n",
       "    <tr style=\"text-align: right;\">\n",
       "      <th></th>\n",
       "      <th>MiscVal</th>\n",
       "      <th>PoolArea</th>\n",
       "      <th>LotArea</th>\n",
       "      <th>LowQualFinSF</th>\n",
       "      <th>3SsnPorch</th>\n",
       "      <th>KitchenAbvGr</th>\n",
       "      <th>BsmtFinSF2</th>\n",
       "      <th>EnclosedPorch</th>\n",
       "      <th>ScreenPorch</th>\n",
       "      <th>BsmtHalfBath</th>\n",
       "      <th>MasVnrArea</th>\n",
       "      <th>OpenPorchSF</th>\n",
       "      <th>WoodDeckSF</th>\n",
       "      <th>1stFlrSF</th>\n",
       "      <th>BsmtFinSF1</th>\n",
       "      <th>MSSubClass</th>\n",
       "      <th>GrLivArea</th>\n",
       "      <th>TotalBsmtSF</th>\n",
       "    </tr>\n",
       "  </thead>\n",
       "  <tbody>\n",
       "    <tr>\n",
       "      <th>0</th>\n",
       "      <td>0.00</td>\n",
       "      <td>0.00</td>\n",
       "      <td>13.42</td>\n",
       "      <td>0.00</td>\n",
       "      <td>0.00</td>\n",
       "      <td>0.75</td>\n",
       "      <td>0.00</td>\n",
       "      <td>0.00</td>\n",
       "      <td>0.00</td>\n",
       "      <td>0.00</td>\n",
       "      <td>19.38</td>\n",
       "      <td>12.01</td>\n",
       "      <td>0.00</td>\n",
       "      <td>5.32</td>\n",
       "      <td>117.87</td>\n",
       "      <td>6.50</td>\n",
       "      <td>7.23</td>\n",
       "      <td>294.38</td>\n",
       "    </tr>\n",
       "    <tr>\n",
       "      <th>1</th>\n",
       "      <td>0.00</td>\n",
       "      <td>0.00</td>\n",
       "      <td>13.69</td>\n",
       "      <td>0.00</td>\n",
       "      <td>0.00</td>\n",
       "      <td>0.75</td>\n",
       "      <td>0.00</td>\n",
       "      <td>0.00</td>\n",
       "      <td>0.00</td>\n",
       "      <td>0.71</td>\n",
       "      <td>0.00</td>\n",
       "      <td>0.00</td>\n",
       "      <td>56.34</td>\n",
       "      <td>5.55</td>\n",
       "      <td>146.82</td>\n",
       "      <td>4.25</td>\n",
       "      <td>6.95</td>\n",
       "      <td>403.71</td>\n",
       "    </tr>\n",
       "    <tr>\n",
       "      <th>2</th>\n",
       "      <td>0.00</td>\n",
       "      <td>0.00</td>\n",
       "      <td>14.03</td>\n",
       "      <td>0.00</td>\n",
       "      <td>0.00</td>\n",
       "      <td>0.75</td>\n",
       "      <td>0.00</td>\n",
       "      <td>0.00</td>\n",
       "      <td>0.00</td>\n",
       "      <td>0.00</td>\n",
       "      <td>17.72</td>\n",
       "      <td>9.85</td>\n",
       "      <td>0.00</td>\n",
       "      <td>5.36</td>\n",
       "      <td>91.58</td>\n",
       "      <td>6.50</td>\n",
       "      <td>7.28</td>\n",
       "      <td>312.17</td>\n",
       "    </tr>\n",
       "    <tr>\n",
       "      <th>3</th>\n",
       "      <td>0.00</td>\n",
       "      <td>0.00</td>\n",
       "      <td>13.68</td>\n",
       "      <td>0.00</td>\n",
       "      <td>0.00</td>\n",
       "      <td>0.75</td>\n",
       "      <td>0.00</td>\n",
       "      <td>16.01</td>\n",
       "      <td>0.00</td>\n",
       "      <td>0.00</td>\n",
       "      <td>0.00</td>\n",
       "      <td>8.92</td>\n",
       "      <td>0.00</td>\n",
       "      <td>5.39</td>\n",
       "      <td>52.78</td>\n",
       "      <td>6.87</td>\n",
       "      <td>7.24</td>\n",
       "      <td>266.07</td>\n",
       "    </tr>\n",
       "    <tr>\n",
       "      <th>4</th>\n",
       "      <td>0.00</td>\n",
       "      <td>0.00</td>\n",
       "      <td>14.55</td>\n",
       "      <td>0.00</td>\n",
       "      <td>0.00</td>\n",
       "      <td>0.75</td>\n",
       "      <td>0.00</td>\n",
       "      <td>0.00</td>\n",
       "      <td>0.00</td>\n",
       "      <td>0.00</td>\n",
       "      <td>25.32</td>\n",
       "      <td>14.18</td>\n",
       "      <td>42.35</td>\n",
       "      <td>5.49</td>\n",
       "      <td>112.05</td>\n",
       "      <td>6.50</td>\n",
       "      <td>7.47</td>\n",
       "      <td>372.99</td>\n",
       "    </tr>\n",
       "  </tbody>\n",
       "</table>\n",
       "</div>"
      ],
      "text/plain": [
       "   MiscVal  PoolArea  LotArea  LowQualFinSF  3SsnPorch  KitchenAbvGr  BsmtFinSF2  EnclosedPorch  ScreenPorch  BsmtHalfBath  MasVnrArea  OpenPorchSF  WoodDeckSF  1stFlrSF  BsmtFinSF1  MSSubClass  GrLivArea  TotalBsmtSF\n",
       "0     0.00      0.00    13.42          0.00       0.00          0.75        0.00           0.00         0.00          0.00       19.38        12.01        0.00      5.32      117.87        6.50       7.23       294.38\n",
       "1     0.00      0.00    13.69          0.00       0.00          0.75        0.00           0.00         0.00          0.71        0.00         0.00       56.34      5.55      146.82        4.25       6.95       403.71\n",
       "2     0.00      0.00    14.03          0.00       0.00          0.75        0.00           0.00         0.00          0.00       17.72         9.85        0.00      5.36       91.58        6.50       7.28       312.17\n",
       "3     0.00      0.00    13.68          0.00       0.00          0.75        0.00          16.01         0.00          0.00        0.00         8.92        0.00      5.39       52.78        6.87       7.24       266.07\n",
       "4     0.00      0.00    14.55          0.00       0.00          0.75        0.00           0.00         0.00          0.00       25.32        14.18       42.35      5.49      112.05        6.50       7.47       372.99"
      ]
     },
     "execution_count": 22,
     "metadata": {},
     "output_type": "execute_result"
    }
   ],
   "source": [
    "for num_var in high_skew_index:\n",
    "    all_df[num_var] = boxcox1p(all_df[num_var], boxcox_normmax(all_df[num_var]+1))\n",
    "\n",
    "print(\"The data after Box-Cox Transformation:\") \n",
    "all_df[high_skew_index].head()"
   ]
  },
  {
   "cell_type": "markdown",
   "metadata": {},
   "source": [
    "### 도출 (파생) 변수 만들기"
   ]
  },
  {
   "cell_type": "markdown",
   "metadata": {},
   "source": [
    "- 도출 변수 : 주어진 변수 내에서 새로운 변수를 도출하는 과정\n",
    "- e.g) 날짜를 쪼개서 연/ 월 / 일 / 요일 등으로 나눠서 세분화 하는 법 (1차원적 방법)\n",
    "- 변수가 많을 경우 여러 변수를 조합하여 하나의 변수로 재그룹화 하면 변수의 개수를 줄일 수 있다. (차원 축소 x)\n",
    "- 기존 변수들이 가진 본연의 특성을 잃는 PCA와 달리 도출변수는 기존 변수의 특성이 포함된 상태에서 연구자의 주관적 분석이 더 첨가된 방식이다."
   ]
  },
  {
   "cell_type": "markdown",
   "metadata": {},
   "source": [
    "#### 면적 기준으로 추출 가능한 도출 변수 생성"
   ]
  },
  {
   "cell_type": "code",
   "execution_count": 23,
   "metadata": {
    "ExecuteTime": {
     "end_time": "2021-09-10T12:19:16.472172Z",
     "start_time": "2021-09-10T12:19:16.459207Z"
    }
   },
   "outputs": [
    {
     "name": "stdout",
     "output_type": "stream",
     "text": [
      "(2919, 74)\n"
     ]
    }
   ],
   "source": [
    "# 각 주택의 전체 크기를 계산 하는 도출 변수(TotalSF) 생성\n",
    "all_df['TotalSF'] = all_df['TotalBsmtSF'] + all_df['1stFlrSF'] + all_df['2ndFlrSF']\n",
    "\n",
    "# TotalSF 생성에 사용된 변수들은 제거\n",
    "all_df.drop(['TotalBsmtSF','1stFlrSF','2ndFlrSF'], axis = 1)\n",
    "\n",
    "print(all_df.shape)"
   ]
  },
  {
   "cell_type": "markdown",
   "metadata": {},
   "source": [
    "- 위의 3 변수는 모두 단위가 Square Feet로 단순 덧샘을 하였다.\n",
    "- '집의 크기가 클수록 집값이 커진다' 는 일반 적인 상식으로 이를 적용한 것."
   ]
  },
  {
   "cell_type": "code",
   "execution_count": 24,
   "metadata": {
    "ExecuteTime": {
     "end_time": "2021-09-10T12:19:16.487132Z",
     "start_time": "2021-09-10T12:19:16.474167Z"
    }
   },
   "outputs": [
    {
     "name": "stdout",
     "output_type": "stream",
     "text": [
      "(2919, 68)\n"
     ]
    }
   ],
   "source": [
    "# 추가적인 도출 변수 생성\n",
    "\n",
    "# 각 주택의 총 bathroom의 넓이\n",
    "all_df['Total_bathrooms'] = (all_df['FullBath'] + (0.5*all_df['HalfBath']) + all_df['BsmtFullBath'] + (0.5*all_df['BsmtHalfBath']) )\n",
    "\n",
    "\n",
    "# 각 주택의 forch의 넓이\n",
    "all_df['Total_porch_sf']=(all_df['OpenPorchSF'] + all_df['3SsnPorch'] + all_df['EnclosedPorch'] + all_df['ScreenPorch'])\n",
    "\n",
    "# 도출변수 생성에 사용된 변수들 drop\n",
    "all_df = all_df.drop(['FullBath', 'HalfBath', 'BsmtFullBath', 'BsmtHalfBath', 'OpenPorchSF', '3SsnPorch',\n",
    "                      'EnclosedPorch', 'ScreenPorch'], axis = 1)\n",
    "\n",
    "print(all_df.shape)"
   ]
  },
  {
   "cell_type": "markdown",
   "metadata": {},
   "source": [
    "#### 연도 관련 데이터중 추출 가능한 도출 변수"
   ]
  },
  {
   "cell_type": "code",
   "execution_count": 25,
   "metadata": {
    "ExecuteTime": {
     "end_time": "2021-09-10T12:19:16.502093Z",
     "start_time": "2021-09-10T12:19:16.493117Z"
    }
   },
   "outputs": [
    {
     "name": "stdout",
     "output_type": "stream",
     "text": [
      "MSSubClass is not related with Year \n",
      "\n",
      "LotFrontage is not related with Year \n",
      "\n",
      "LotArea is not related with Year \n",
      "\n",
      "OverallQual is not related with Year \n",
      "\n",
      "OverallCond is not related with Year \n",
      "\n",
      "MasVnrArea is not related with Year \n",
      "\n",
      "BsmtFinSF1 is not related with Year \n",
      "\n",
      "BsmtFinSF2 is not related with Year \n",
      "\n",
      "BsmtUnfSF is not related with Year \n",
      "\n",
      "TotalBsmtSF is not related with Year \n",
      "\n",
      "1stFlrSF is not related with Year \n",
      "\n",
      "2ndFlrSF is not related with Year \n",
      "\n",
      "LowQualFinSF is not related with Year \n",
      "\n",
      "GrLivArea is not related with Year \n",
      "\n",
      "BsmtFullBath is not related with Year \n",
      "\n",
      "BsmtHalfBath is not related with Year \n",
      "\n",
      "FullBath is not related with Year \n",
      "\n",
      "HalfBath is not related with Year \n",
      "\n",
      "BedroomAbvGr is not related with Year \n",
      "\n",
      "KitchenAbvGr is not related with Year \n",
      "\n",
      "TotRmsAbvGrd is not related with Year \n",
      "\n",
      "Fireplaces is not related with Year \n",
      "\n",
      "GarageCars is not related with Year \n",
      "\n",
      "GarageArea is not related with Year \n",
      "\n",
      "WoodDeckSF is not related with Year \n",
      "\n",
      "OpenPorchSF is not related with Year \n",
      "\n",
      "EnclosedPorch is not related with Year \n",
      "\n",
      "3SsnPorch is not related with Year \n",
      "\n",
      "ScreenPorch is not related with Year \n",
      "\n",
      "PoolArea is not related with Year \n",
      "\n",
      "MiscVal is not related with Year \n",
      "\n",
      "MoSold is not related with Year \n",
      "\n",
      "The feature that related with Year: ['YearBuilt', 'YearRemodAdd', 'GarageYrBlt', 'YrSold']\n"
     ]
    }
   ],
   "source": [
    "# 연도 관련 변수 추출 하는 코드 생성\n",
    "\n",
    "num_all_vars = list(train.select_dtypes(include = [np.number]))\n",
    "year_feature = []\n",
    "\n",
    "for var in num_all_vars:\n",
    "    if 'Yr' in var:\n",
    "        year_feature.append(var)\n",
    "    elif 'Year' in var:\n",
    "        year_feature.append(var)\n",
    "    else:\n",
    "        print(var, \"is not related with Year \\n\")\n",
    "print(\"The feature that related with Year:\", year_feature)"
   ]
  },
  {
   "cell_type": "code",
   "execution_count": 26,
   "metadata": {
    "ExecuteTime": {
     "end_time": "2021-09-10T12:19:16.985800Z",
     "start_time": "2021-09-10T12:19:16.505085Z"
    }
   },
   "outputs": [
    {
     "data": {
      "image/png": "[encoded data removed]",
      "text/plain": [
       "<Figure size 720x432 with 3 Axes>"
      ]
     },
     "metadata": {
      "needs_background": "light"
     },
     "output_type": "display_data"
    }
   ],
   "source": [
    "# SalePrice와 연관지어 시각화 구현(로그변환한 SalePrice)\n",
    "# SalePrice 관련 데이터의 연도별 흐름을 scatter plot으로 시각화 하여 비교\n",
    "\n",
    "fig, ax = plt.subplots(3, 1, figsize = (10,6), sharex = True, sharey = True)\n",
    "\n",
    "for i, var in enumerate(year_feature):\n",
    "    if var !='YrSold':\n",
    "        ax[i].scatter(train[var], y, alpha = 0.3)\n",
    "        ax[i].set_title('{}'.format(var), size = 15)\n",
    "        ax[i].set_ylabel('SalePrice', size = 15, labelpad = 12.5)\n",
    "        \n",
    "plt.tight_layout()\n",
    "plt.show()"
   ]
  },
  {
   "cell_type": "markdown",
   "metadata": {},
   "source": [
    "- 3개의 변수 모두 SalePrice와 관련된 변수\n",
    "- 3개의 변수 모두 연도가 지나감에 따라 가격이 우상향함\n",
    "- 일반적으로 리모델링후에 주택 가격을 높여 판매하고자 하기 때문에 YearRemodAdd 만을 도출 변수에 활용 (나머지 drop)\n",
    "- 기회가 된다면 나머지 변수들과의 상관관계 파악을 통한 도출 변수 추가를 해도 좋은 도출 변수가 될 것"
   ]
  },
  {
   "cell_type": "code",
   "execution_count": 27,
   "metadata": {
    "ExecuteTime": {
     "end_time": "2021-09-10T12:19:17.000760Z",
     "start_time": "2021-09-10T12:19:16.987794Z"
    }
   },
   "outputs": [
    {
     "name": "stdout",
     "output_type": "stream",
     "text": [
      "(2919, 66)\n"
     ]
    }
   ],
   "source": [
    "all_df = all_df.drop(['YearBuilt', 'GarageYrBlt'], axis = 1)\n",
    "print(all_df.shape)"
   ]
  },
  {
   "cell_type": "code",
   "execution_count": 28,
   "metadata": {
    "ExecuteTime": {
     "end_time": "2021-09-10T12:19:17.210199Z",
     "start_time": "2021-09-10T12:19:17.002755Z"
    }
   },
   "outputs": [
    {
     "data": {
      "image/png": "[encoded data removed]",
      "text/plain": [
       "<Figure size 720x432 with 1 Axes>"
      ]
     },
     "metadata": {
      "needs_background": "light"
     },
     "output_type": "display_data"
    }
   ],
   "source": [
    "# YrSold 와 YearRemodAdd 두 변수의 연도 차이에 대한 변수 생성 \n",
    "# 즉, 리모델링 후 몇년 뒤에 판매가 되었는지 확인 가능\n",
    "YearSinceRemodel = train['YrSold'].astype(int) - train['YearRemodAdd'].astype(int)\n",
    "\n",
    "# 결과 시각화\n",
    "fig, ax = plt.subplots(figsize = (10,6))\n",
    "ax.scatter(YearSinceRemodel, y, alpha = 0.3)\n",
    "ax.set_title('YearSinceRemodel', size = 15)\n",
    "ax.set_ylabel('SalePrice', size = 15, labelpad = 12.5)\n",
    "fig.show()"
   ]
  },
  {
   "cell_type": "markdown",
   "metadata": {},
   "source": [
    "- 도출되는 값이 크면 클수록 SalePrice 값이 하양 하는 모양을 그리고 있다."
   ]
  },
  {
   "cell_type": "code",
   "execution_count": 29,
   "metadata": {
    "ExecuteTime": {
     "end_time": "2021-09-10T12:19:17.225159Z",
     "start_time": "2021-09-10T12:19:17.212195Z"
    }
   },
   "outputs": [
    {
     "name": "stdout",
     "output_type": "stream",
     "text": [
      "(2919, 65)\n"
     ]
    }
   ],
   "source": [
    "# 생성한 데이터 저장 및 drop\n",
    "all_df['YearSinceRemodel'] = all_df['YrSold'].astype(int) - all_df['YearRemodAdd'].astype(int)\n",
    "\n",
    "all_df = all_df.drop(['YrSold', 'YearRemodAdd'], axis = 1)\n",
    "print(all_df.shape)"
   ]
  },
  {
   "cell_type": "markdown",
   "metadata": {},
   "source": [
    "### 더미변수 만들기\n",
    "\n",
    "- 범주형 변수를 수치형으로 바꾸는 방법(통계학적 의미)\n",
    "    - '남', '여' 로만 구성된 변수를 남 = 1, 여 = 0 으로 치환하는 것\n",
    "- 반대로 데이터의 범위가 매우 좁은 수치형 변수를 범주형 변수화 할 수 도 있다."
   ]
  },
  {
   "cell_type": "code",
   "execution_count": 30,
   "metadata": {
    "ExecuteTime": {
     "end_time": "2021-09-10T12:19:17.240120Z",
     "start_time": "2021-09-10T12:19:17.227156Z"
    }
   },
   "outputs": [
    {
     "data": {
      "text/plain": [
       "0.00    2906\n",
       "5.84       1\n",
       "6.05       1\n",
       "5.94       1\n",
       "5.91       1\n",
       "5.79       1\n",
       "5.85       1\n",
       "6.16       1\n",
       "4.72       1\n",
       "5.55       1\n",
       "5.72       1\n",
       "5.13       1\n",
       "5.92       1\n",
       "6.23       1\n",
       "Name: PoolArea, dtype: int64"
      ]
     },
     "execution_count": 30,
     "metadata": {},
     "output_type": "execute_result"
    }
   ],
   "source": [
    "# 수치형 변수인 \n",
    "all_df['PoolArea'].value_counts()"
   ]
  },
  {
   "cell_type": "markdown",
   "metadata": {},
   "source": [
    "- 대부분의 값이 0이고, 나머지는 소수점인 값을 각 1개씩 갖고 있다.\n",
    "- 이 경우 소수인 변수들을 삭제하는 것도 하나의 방법\n",
    "- 또는, 1이상이면 1로 변환하여 0 과 1로 범주형 변수로 만들어 주는 것도 방법이다."
   ]
  },
  {
   "cell_type": "code",
   "execution_count": 31,
   "metadata": {
    "ExecuteTime": {
     "end_time": "2021-09-10T12:19:17.255079Z",
     "start_time": "2021-09-10T12:19:17.242115Z"
    }
   },
   "outputs": [
    {
     "data": {
      "text/plain": [
       "0    2906\n",
       "1      13\n",
       "Name: PoolArea, dtype: int64"
      ]
     },
     "execution_count": 31,
     "metadata": {},
     "output_type": "execute_result"
    }
   ],
   "source": [
    "# 1을 기준으로 0과 1로 범주화 해주는 함수 생성\n",
    "def count_dummy(x):\n",
    "    if x > 0:\n",
    "        return 1\n",
    "    else:\n",
    "        return 0\n",
    "\n",
    "# PoolArea 변수에 적용\n",
    "all_df['PoolArea'] = all_df['PoolArea'].apply(count_dummy)\n",
    "all_df['PoolArea'].value_counts()"
   ]
  },
  {
   "cell_type": "code",
   "execution_count": 32,
   "metadata": {
    "ExecuteTime": {
     "end_time": "2021-09-10T12:19:17.270040Z",
     "start_time": "2021-09-10T12:19:17.257074Z"
    }
   },
   "outputs": [
    {
     "data": {
      "text/plain": [
       "1    2762\n",
       "0     157\n",
       "Name: GarageArea, dtype: int64"
      ]
     },
     "execution_count": 32,
     "metadata": {},
     "output_type": "execute_result"
    }
   ],
   "source": [
    "# GarageArea 변수에 적용\n",
    "all_df['GarageArea'] = all_df['GarageArea'].apply(count_dummy)\n",
    "all_df['GarageArea'].value_counts()"
   ]
  },
  {
   "cell_type": "code",
   "execution_count": 33,
   "metadata": {
    "ExecuteTime": {
     "end_time": "2021-09-10T12:19:17.285000Z",
     "start_time": "2021-09-10T12:19:17.272034Z"
    }
   },
   "outputs": [
    {
     "data": {
      "text/plain": [
       "1    1499\n",
       "0    1420\n",
       "Name: Fireplaces, dtype: int64"
      ]
     },
     "execution_count": 33,
     "metadata": {},
     "output_type": "execute_result"
    }
   ],
   "source": [
    "# GarageArea 변수에 적용\n",
    "all_df['Fireplaces'] = all_df['Fireplaces'].apply(count_dummy)\n",
    "all_df['Fireplaces'].value_counts()"
   ]
  },
  {
   "cell_type": "markdown",
   "metadata": {},
   "source": [
    "#### Label Encoding, Ordinal Encoding, One-Hot Encoding\n",
    "\n",
    "![image](https://user-images.githubusercontent.com/74717033/132212066-4a82f971-6993-4fe9-be40-19cfdb3381fc.png)\n",
    "\n",
    "- 독립변수에 적용되는 OneHotEncoder와 OrdinalEncoder 중 어떤 것을 사용할지는 데이터 타입의 유형에 따라 다르다.\n",
    "- 추가적인 전처리도 필요할 수 있다."
   ]
  },
  {
   "cell_type": "markdown",
   "metadata": {},
   "source": [
    "- 값이 3개 이상인 범주형 변수일때 사용되는 방법들\n",
    "- Label Encoding : 문자열 데이터를 각 범주의 개수에 따라 숫자로 변환하는 방식\n",
    "- One_Hot Encoding : 각 값을 변수로 변환하여 각각 0과 1로 변환"
   ]
  },
  {
   "cell_type": "code",
   "execution_count": 34,
   "metadata": {
    "ExecuteTime": {
     "end_time": "2021-09-10T12:19:17.421634Z",
     "start_time": "2021-09-10T12:19:17.286995Z"
    }
   },
   "outputs": [
    {
     "name": "stdout",
     "output_type": "stream",
     "text": [
      "['Apple', 'Chicken', 'Broccoli'] ==> [0 2 1]\n"
     ]
    }
   ],
   "source": [
    "# Label Endocer 예시\n",
    "from sklearn.preprocessing import LabelEncoder\n",
    "\n",
    "temp = pd.DataFrame({'Food_Name': ['Apple', 'Chicken', 'Broccoli'],\n",
    "                    'Calories':[95,231,50]})\n",
    "\n",
    "encoder = LabelEncoder()\n",
    "encoder.fit(temp['Food_Name'])\n",
    "labels = encoder.transform(temp['Food_Name'])\n",
    "print(list(temp['Food_Name']), \"==>\", labels)"
   ]
  },
  {
   "cell_type": "code",
   "execution_count": 35,
   "metadata": {
    "ExecuteTime": {
     "end_time": "2021-09-10T12:19:17.436594Z",
     "start_time": "2021-09-10T12:19:17.424628Z"
    }
   },
   "outputs": [
    {
     "name": "stdout",
     "output_type": "stream",
     "text": [
      "['Apple', 'Chicken', 'Broccoli'] ==> [[0.0], [2.0], [1.0]]\n"
     ]
    }
   ],
   "source": [
    "# Ordinal Encoder 예시\n",
    "\n",
    "from sklearn.preprocessing import OrdinalEncoder\n",
    "\n",
    "temp = pd.DataFrame({'Food_Name': ['Apple', 'Chicken', 'Broccoli'],\n",
    "                    'Calories':[95,231,50]})\n",
    "\n",
    "encoder = OrdinalEncoder()\n",
    "labels = encoder.fit_transform(temp[['Food_Name']])\n",
    "print(list(temp['Food_Name']), \"==>\", labels.tolist())"
   ]
  },
  {
   "cell_type": "markdown",
   "metadata": {},
   "source": [
    "- LabelEncoder와 다르게 입력 형태를 '배열' 로 해줘야 한다.\n",
    "- return되는 값은 정수형이 아니라 실수형으로 출력된다."
   ]
  },
  {
   "cell_type": "code",
   "execution_count": 36,
   "metadata": {
    "ExecuteTime": {
     "end_time": "2021-09-10T12:19:17.451555Z",
     "start_time": "2021-09-10T12:19:17.438589Z"
    }
   },
   "outputs": [
    {
     "name": "stdout",
     "output_type": "stream",
     "text": [
      "(3, 4)\n"
     ]
    },
    {
     "data": {
      "text/html": [
       "<div>\n",
       "<style scoped>\n",
       "    .dataframe tbody tr th:only-of-type {\n",
       "        vertical-align: middle;\n",
       "    }\n",
       "\n",
       "    .dataframe tbody tr th {\n",
       "        vertical-align: top;\n",
       "    }\n",
       "\n",
       "    .dataframe thead th {\n",
       "        text-align: right;\n",
       "    }\n",
       "</style>\n",
       "<table border=\"1\" class=\"dataframe\">\n",
       "  <thead>\n",
       "    <tr style=\"text-align: right;\">\n",
       "      <th></th>\n",
       "      <th>Calories</th>\n",
       "      <th>Food_Name_Apple</th>\n",
       "      <th>Food_Name_Broccoli</th>\n",
       "      <th>Food_Name_Chicken</th>\n",
       "    </tr>\n",
       "  </thead>\n",
       "  <tbody>\n",
       "    <tr>\n",
       "      <th>0</th>\n",
       "      <td>95</td>\n",
       "      <td>1</td>\n",
       "      <td>0</td>\n",
       "      <td>0</td>\n",
       "    </tr>\n",
       "    <tr>\n",
       "      <th>1</th>\n",
       "      <td>231</td>\n",
       "      <td>0</td>\n",
       "      <td>0</td>\n",
       "      <td>1</td>\n",
       "    </tr>\n",
       "    <tr>\n",
       "      <th>2</th>\n",
       "      <td>50</td>\n",
       "      <td>0</td>\n",
       "      <td>1</td>\n",
       "      <td>0</td>\n",
       "    </tr>\n",
       "  </tbody>\n",
       "</table>\n",
       "</div>"
      ],
      "text/plain": [
       "   Calories  Food_Name_Apple  Food_Name_Broccoli  Food_Name_Chicken\n",
       "0        95                1                   0                  0\n",
       "1       231                0                   0                  1\n",
       "2        50                0                   1                  0"
      ]
     },
     "execution_count": 36,
     "metadata": {},
     "output_type": "execute_result"
    }
   ],
   "source": [
    "# One-Hot Encoding 예시\n",
    "\n",
    "temp = pd.DataFrame({'Food_Name': ['Apple', 'Chicken', 'Broccoli'],\n",
    "                    'Calories':[95,231,50]})\n",
    "\n",
    "temp = pd.get_dummies(temp)\n",
    "\n",
    "print(temp.shape)\n",
    "temp"
   ]
  },
  {
   "cell_type": "markdown",
   "metadata": {},
   "source": [
    "- 서열 척도(e.g: 등급)의 경우 OneHot Encoding을 하는 것이 좋다.\n",
    "    - 구간에 따라 데이터에 의미가 있기 때문\n",
    "- 문제는 서열 척도라도 데이터가 스스로 그것을 서열 척도라고 인식하지 못한다.\n",
    "- Ordinalencoder를 사용해도 수치형으로 변하는 규칙은 그저 A ~ Z 순으로 바뀌기 때문에 서열척도를 인지시키지 못하는 것은 동일\n",
    "- 이를 Pandas의 replace를 이용해 연구자가 임의로 서열 척도를 인지하도록 코딩할 수도 있다."
   ]
  },
  {
   "cell_type": "code",
   "execution_count": 37,
   "metadata": {
    "ExecuteTime": {
     "end_time": "2021-09-10T12:19:17.467513Z",
     "start_time": "2021-09-10T12:19:17.453549Z"
    }
   },
   "outputs": [
    {
     "name": "stdout",
     "output_type": "stream",
     "text": [
      "  Food_Name  Calories  Food_No\n",
      "0     Apple        95        3\n",
      "1   Chicken       231        1\n",
      "2  Broccoli        50        2\n"
     ]
    }
   ],
   "source": [
    "temp = pd.DataFrame({'Food_Name': ['Apple', 'Chicken', 'Broccoli'],\n",
    "                    'Calories':[95, 231, 50]})\n",
    "\n",
    "# 음식의 중요도에 따라 숫자의 크기를 다르게 변형\n",
    "temp['Food_No'] = temp.Food_Name.replace(to_replace = ['Chicken','Broccoli','Apple'], \n",
    "                                          value = [1, 2, 3] )\n",
    "\n",
    "print(temp)"
   ]
  },
  {
   "cell_type": "markdown",
   "metadata": {},
   "source": [
    "- 명목척도를 이런 ordinalencoder() 방식처럼 처리하면 (남자 1, 여자 0) 이는 남자가 여자보다 더 중요하다고 인식한다. (vice versa)\n",
    "- 즉, 각 구간의 값 자체에는 차이가 없지만 ordinalencoder()로 처리할 경우 모델이 두 데이터에 서로 차이가 있는 것으로 인식하게 된다.\n",
    "- 이 경우는 One-Hot encoding을 하는 것이 더 합리적이다.\n",
    "- 하지만 One-Hot encoding은 범주형 변수의 범주값이 여러개인 경우 사용하기 어렵다.\n",
    "    - 만약 범주형 변수의 shape가 (10000 , 5000) 이라면?\n",
    "    - 5000 개의 변수가 추가 된다 = 차원의 저주 문제 발생\n",
    "    - 이러한 경우는 사전 전처리를 통해 5000개의 범주를 적당한 숫자로 줄이는 것이 좋다.\n",
    "    - 이는 정해진 방법이 있는 것이 아니므로, 연구자가 임의로 조정할 수 있다.\n",
    "    - 가장 대표적인 방식은 전체 적인 비율을 기반으로 불필요한 변수들은 'Others'로 모으고, 나머지 범주들로 변수의 수를 줄이는 것이다."
   ]
  },
  {
   "cell_type": "markdown",
   "metadata": {},
   "source": [
    "#### all_df에 One-Hot encoding  적용하기"
   ]
  },
  {
   "cell_type": "code",
   "execution_count": 38,
   "metadata": {
    "ExecuteTime": {
     "end_time": "2021-09-10T12:19:17.512392Z",
     "start_time": "2021-09-10T12:19:17.469508Z"
    }
   },
   "outputs": [
    {
     "data": {
      "text/plain": [
       "(2919, 65)"
      ]
     },
     "execution_count": 38,
     "metadata": {},
     "output_type": "execute_result"
    }
   ],
   "source": [
    "all_df = pd.get_dummies(all_df).reset_index(drop=True)\n",
    "all_df.shape"
   ]
  },
  {
   "cell_type": "markdown",
   "metadata": {},
   "source": [
    "# Modeling"
   ]
  },
  {
   "cell_type": "code",
   "execution_count": 39,
   "metadata": {
    "ExecuteTime": {
     "end_time": "2021-09-10T12:19:17.527352Z",
     "start_time": "2021-09-10T12:19:17.513389Z"
    }
   },
   "outputs": [
    {
     "data": {
      "text/plain": [
       "((1460, 65), (1460,), (1459, 65))"
      ]
     },
     "execution_count": 39,
     "metadata": {},
     "output_type": "execute_result"
    }
   ],
   "source": [
    "# 전처리에서 합친 데이터 다시 분리\n",
    "\n",
    "X = all_df.iloc[:len(y), :]\n",
    "X_test = all_df.iloc[len(y):,:]\n",
    "X.shape, y.shape, X_test.shape"
   ]
  },
  {
   "cell_type": "markdown",
   "metadata": {},
   "source": [
    "## train / test split"
   ]
  },
  {
   "cell_type": "code",
   "execution_count": 40,
   "metadata": {
    "ExecuteTime": {
     "end_time": "2021-09-10T12:19:17.574227Z",
     "start_time": "2021-09-10T12:19:17.529347Z"
    }
   },
   "outputs": [
    {
     "data": {
      "text/plain": [
       "((1095, 65), (365, 65), (1095,), (365,))"
      ]
     },
     "execution_count": 40,
     "metadata": {},
     "output_type": "execute_result"
    }
   ],
   "source": [
    "from sklearn.model_selection import train_test_split\n",
    "\n",
    "X_train, X_test, y_train, y_test = train_test_split(X, y, test_size = 0.25, random_state = 0)\n",
    "\n",
    "# 결과 확인\n",
    "X_train.shape, X_test.shape, y_train.shape, y_test.shape"
   ]
  },
  {
   "cell_type": "markdown",
   "metadata": {},
   "source": [
    "## 교차 검증용 데이터 추출"
   ]
  },
  {
   "cell_type": "code",
   "execution_count": 41,
   "metadata": {
    "ExecuteTime": {
     "end_time": "2021-09-10T12:19:17.589187Z",
     "start_time": "2021-09-10T12:19:17.576221Z"
    }
   },
   "outputs": [],
   "source": [
    "from sklearn.model_selection import KFold\n",
    "\n",
    "cv = KFold(n_splits= 5, random_state=42, shuffle=True)"
   ]
  },
  {
   "cell_type": "markdown",
   "metadata": {},
   "source": [
    "## 회귀모형 평가지표\n",
    "\n",
    "회귀모형 평가지표를 함수화 (총 3개)\n",
    "\n",
    "### 1) MAE (Mean Absolute Error) \n",
    "\n",
    "- 회귀모형의 평가지표는 'error' (실제값 - 예측값) \n",
    "- 기본적으로 오차값에는 음수값이 존재 할 수 있다. 이를 보완하기 위해 오차를 절대값으로 바꾸는 것이 MAE"
   ]
  },
  {
   "cell_type": "code",
   "execution_count": 42,
   "metadata": {
    "ExecuteTime": {
     "end_time": "2021-09-10T12:19:17.605145Z",
     "start_time": "2021-09-10T12:19:17.591181Z"
    }
   },
   "outputs": [],
   "source": [
    "# MAE 함수화\n",
    "def mean_absolute_error(y_true, y_pred):\n",
    "    error = 0\n",
    "    for yt, yp in zip(y_true, y_pred):\n",
    "        error = error + np.abs(yt-yp)\n",
    "        mae = error/ len(y_true)\n",
    "    return mae"
   ]
  },
  {
   "cell_type": "markdown",
   "metadata": {},
   "source": [
    "### 2) MSE (Mean Squared Error)\n",
    "\n",
    "- 오차를 보완하는 2번째 방법 (오차를 제곱)\n",
    "- 오차를 제곱한 값을 다시 평균으로 나눈 값"
   ]
  },
  {
   "cell_type": "code",
   "execution_count": 43,
   "metadata": {
    "ExecuteTime": {
     "end_time": "2021-09-10T12:19:17.621101Z",
     "start_time": "2021-09-10T12:19:17.609134Z"
    }
   },
   "outputs": [],
   "source": [
    "# MSE 함수화\n",
    "def mean_squared_error(y_true, y_pred):\n",
    "    error = 0\n",
    "    for yt, yp in zip(y_true, y_pred):\n",
    "        error = error + (yt-yp)**2\n",
    "        \n",
    "    mse = error / len(y_true)\n",
    "    return mse"
   ]
  },
  {
   "cell_type": "markdown",
   "metadata": {},
   "source": [
    "### 3) RMSE(Root Squared Error)\n",
    "\n",
    "- MSE에 루트를 씌운 것"
   ]
  },
  {
   "cell_type": "code",
   "execution_count": 44,
   "metadata": {
    "ExecuteTime": {
     "end_time": "2021-09-10T12:19:17.636061Z",
     "start_time": "2021-09-10T12:19:17.623096Z"
    }
   },
   "outputs": [],
   "source": [
    "#RMSE 함수화 (수기작성)\n",
    "\n",
    "def root_rmse_squared_error(y_true, y_pred):\n",
    "    error = 0\n",
    "    \n",
    "    for yt, yp in zip(y_true, y_pred):\n",
    "        error = error + (yt-yp)**2\n",
    "        \n",
    "    mse = error / len(y_true)\n",
    "    rmse = np.round(np.sqrt(mse),3)\n",
    "    \n",
    "    return rmse"
   ]
  },
  {
   "cell_type": "code",
   "execution_count": 45,
   "metadata": {
    "ExecuteTime": {
     "end_time": "2021-09-10T12:19:17.651022Z",
     "start_time": "2021-09-10T12:19:17.638056Z"
    }
   },
   "outputs": [],
   "source": [
    "#RMSE 함수화 (sklearn 내장 함수 활용)\n",
    "\n",
    "from sklearn.metrics import mean_squared_error\n",
    "\n",
    "def rmsle(y_true, y_pred):\n",
    "    return np.sqrt(mean_squared_error(y_true, y_pred))"
   ]
  },
  {
   "cell_type": "markdown",
   "metadata": {},
   "source": [
    "### 생성한 함수 테스트"
   ]
  },
  {
   "cell_type": "markdown",
   "metadata": {},
   "source": [
    "- 각 평가지표는 어떻게 해석 하면 될까?\n",
    "    - 오차의 값이 작을수록 좋은 모델 (평가지표 3개 공통)\n",
    "    - 다만 절대적으로 낮은 기준점은 없다.\n",
    "    - 피처 엔지니어링 & 머신러닝을 반복하며 최대한 줄이는 것\n",
    "    \n",
    "- 3개의 평가지표중 어떤것이 더 중요할까?\n",
    "    - 일반적으로 케글에서는 RMSE를 더 많이 사용\n",
    "    - 오차가 크면 클 수록 RMSE 값의 변동 폭이 크다.\n",
    "    - 주택 예측의 경우 모형이 가진 오차가 적을수록 좋은 모델 = RMSE로 평가하는 것이 확실\n",
    "    - MAE의 경우 실제 오차값이 큰 지표도 반영하지 못하는 경우가 많다."
   ]
  },
  {
   "cell_type": "markdown",
   "metadata": {},
   "source": [
    "##### MAE vs RMSE 비교 ( feat.왜 RMSE가 더 케글에서 많이 사용되는가)"
   ]
  },
  {
   "cell_type": "code",
   "execution_count": 46,
   "metadata": {
    "ExecuteTime": {
     "end_time": "2021-09-10T12:19:17.666978Z",
     "start_time": "2021-09-10T12:19:17.654014Z"
    }
   },
   "outputs": [
    {
     "name": "stdout",
     "output_type": "stream",
     "text": [
      "MAE: 21.0\n",
      "MSE: 443.0\n",
      "RMSE: 21.048\n"
     ]
    }
   ],
   "source": [
    "# 함수 테스트 1\n",
    "y_true = [400, 300, 800]\n",
    "y_pred = [380, 320, 777]\n",
    "\n",
    "print(\"MAE:\", mean_absolute_error(y_true, y_pred))\n",
    "print(\"MSE:\", mean_squared_error(y_true, y_pred))\n",
    "print(\"RMSE:\", root_rmse_squared_error(y_true, y_pred))"
   ]
  },
  {
   "cell_type": "code",
   "execution_count": 47,
   "metadata": {
    "ExecuteTime": {
     "end_time": "2021-09-10T12:19:17.682447Z",
     "start_time": "2021-09-10T12:19:17.669482Z"
    }
   },
   "outputs": [
    {
     "name": "stdout",
     "output_type": "stream",
     "text": [
      "MAE: 90.75\n",
      "MSE: 22832.25\n",
      "RMSE: 151.103\n"
     ]
    }
   ],
   "source": [
    "# 함수 테스트 2\n",
    "y_true = [400, 300, 800, 900]\n",
    "y_pred = [380, 320, 777, 600]\n",
    "\n",
    "print(\"MAE:\", mean_absolute_error(y_true, y_pred))\n",
    "print(\"MSE:\", mean_squared_error(y_true, y_pred))\n",
    "print(\"RMSE:\", root_rmse_squared_error(y_true, y_pred))"
   ]
  },
  {
   "cell_type": "markdown",
   "metadata": {},
   "source": [
    "- 첫번째 테스트는 MAE vs RMSE 에서 큰 차이가 없다.\n",
    "- 두번째 테스트의 경우 실제 오차값이 커지는데, 이때 MAE vs RMSE를 보면 RMSE의 상승폭이 매우 크다.\n",
    "    - 즉, RMSE를 통해 제대로 예측되지 않은 데이터를 직관적으로 확인할 수 있다."
   ]
  },
  {
   "cell_type": "markdown",
   "metadata": {},
   "source": [
    "## 회귀모형의 예측 정확도\n",
    "\n",
    "- 통계적으로는 결정계수(Coefficient Determination = R-squared) 을 사용.\n",
    "- R-squared는 분산 기반으로 예측성능을 평가한다.\n",
    "    - 1에 가까울수록 성능이 좋은 것.\n",
    "    \n",
    "- 그외 SLE(Squared Logarithmic Error), MSLE(Mean Squared  Logarithmic Error), RMSLE(Root Mean Squared  Logarithmic Error), MAPE(Mean Absolute Percentage Error) 등이 있다. (하지만 대중적으로 쓰이는것 RMSE와 R-squared)"
   ]
  },
  {
   "cell_type": "markdown",
   "metadata": {},
   "source": [
    "## 모형 정의, 학습, 검증 평가"
   ]
  },
  {
   "cell_type": "code",
   "execution_count": 48,
   "metadata": {
    "ExecuteTime": {
     "end_time": "2021-09-10T12:19:17.742287Z",
     "start_time": "2021-09-10T12:19:17.684442Z"
    }
   },
   "outputs": [],
   "source": [
    "from sklearn.metrics import mean_squared_error\n",
    "from sklearn.model_selection import KFold, cross_val_score\n",
    "from sklearn.linear_model import LinearRegression\n",
    "\n",
    "\n",
    "# 교차검증 할때마다 RMSE를 확인하는 함수 생성\n",
    "# 각 모델의 RMSE를 list로 받은뒤 딕셔너리 rmse_scores에 입력\n",
    "# 추후 검증할 기본 모델 포함 총 3개의 모델 검증에 사용\n",
    "def cv_rmse(model, n_folds = 5):\n",
    "    cv = KFold(n_splits=n_folds, random_state=42, shuffle=True)\n",
    "    rmse_list = np.sqrt(-cross_val_score(model, X, y, scoring='neg_mean_squared_error', cv = cv))\n",
    "    print('CV RMSE value list:', np.round(rmse_list,4))\n",
    "    print('CV RMSE mean value:', np.round(np.mean(rmse_list),4))\n",
    "    return (rmse_list)"
   ]
  },
  {
   "cell_type": "markdown",
   "metadata": {},
   "source": [
    "## 모델별 RMSE 점수 확인"
   ]
  },
  {
   "cell_type": "markdown",
   "metadata": {},
   "source": [
    "### 모델 설정"
   ]
  },
  {
   "cell_type": "code",
   "execution_count": 49,
   "metadata": {
    "ExecuteTime": {
     "end_time": "2021-09-10T12:19:17.832455Z",
     "start_time": "2021-09-10T12:19:17.744282Z"
    }
   },
   "outputs": [
    {
     "data": {
      "text/plain": [
       "((1460, 65), (1460,), (1459, 65))"
      ]
     },
     "execution_count": 49,
     "metadata": {},
     "output_type": "execute_result"
    }
   ],
   "source": [
    "from sklearn.ensemble import RandomForestRegressor, GradientBoostingRegressor\n",
    "from sklearn.tree import DecisionTreeRegressor\n",
    "from sklearn.linear_model import LinearRegression\n",
    "\n",
    "# Linear Regression\n",
    "lr_model = LinearRegression()\n",
    "\n",
    "# Tree Decision (회귀 트리)\n",
    "tree_model = DecisionTreeRegressor()\n",
    "\n",
    "# Random Forest Regressor\n",
    "rf_model = RandomForestRegressor()\n",
    "\n",
    "# Gradient Boosting Regressor\n",
    "gbr_model = GradientBoostingRegressor()\n",
    "\n",
    "n_folds = 5\n",
    "rmse_scores={}\n",
    "X = all_df.iloc[:len(y), :]\n",
    "X_test = all_df.iloc[len(y):, :]\n",
    "X.shape, y.shape, X_test.shape"
   ]
  },
  {
   "cell_type": "markdown",
   "metadata": {},
   "source": [
    "### Linear Regression 모델 RMSE"
   ]
  },
  {
   "cell_type": "code",
   "execution_count": 50,
   "metadata": {
    "ExecuteTime": {
     "end_time": "2021-09-10T12:19:18.140644Z",
     "start_time": "2021-09-10T12:19:17.835446Z"
    }
   },
   "outputs": [
    {
     "name": "stdout",
     "output_type": "stream",
     "text": [
      "CV RMSE value list: [0.1495 0.1364 0.1996 0.1429 0.1291]\n",
      "CV RMSE mean value: 0.1515\n",
      "Linear Regressor-mean: 0.1515 (std: 0.0250)\n"
     ]
    }
   ],
   "source": [
    "score = cv_rmse(lr_model, n_folds)\n",
    "print(\"Linear Regressor-mean: {:.4f} (std: {:.4f})\".format(score.mean(),\n",
    "                                                                 score.std()))\n",
    "\n",
    "rmse_scores[\"linear regression\"] = (score.mean(), score.std())"
   ]
  },
  {
   "cell_type": "markdown",
   "metadata": {},
   "source": [
    "### Decision Tree Regressor 모델 RMSE"
   ]
  },
  {
   "cell_type": "code",
   "execution_count": 51,
   "metadata": {
    "ExecuteTime": {
     "end_time": "2021-09-10T12:19:18.260324Z",
     "start_time": "2021-09-10T12:19:18.142638Z"
    }
   },
   "outputs": [
    {
     "name": "stdout",
     "output_type": "stream",
     "text": [
      "CV RMSE value list: [0.2118 0.1957 0.2384 0.1935 0.2004]\n",
      "CV RMSE mean value: 0.208\n",
      "Decision Tree Regressor-mean: 0.2080 (std: 0.0165)\n"
     ]
    }
   ],
   "source": [
    "score = cv_rmse(tree_model, n_folds)\n",
    "print(\"Decision Tree Regressor-mean: {:.4f} (std: {:.4f})\".format(score.mean(),\n",
    "                                                                 score.std()))\n",
    "\n",
    "rmse_scores[\"Decision Tree Regressor\"] = (score.mean(), score.std())"
   ]
  },
  {
   "cell_type": "markdown",
   "metadata": {},
   "source": [
    "### Random Forest Regressor 모델 RMSE"
   ]
  },
  {
   "cell_type": "code",
   "execution_count": 52,
   "metadata": {
    "ExecuteTime": {
     "end_time": "2021-09-10T12:19:23.738119Z",
     "start_time": "2021-09-10T12:19:18.262319Z"
    }
   },
   "outputs": [
    {
     "name": "stdout",
     "output_type": "stream",
     "text": [
      "CV RMSE value list: [0.1479 0.1305 0.1799 0.152  0.1284]\n",
      "CV RMSE mean value: 0.1478\n",
      "RandomForest Regressor-mean: 0.1478 (std: 0.0185)\n"
     ]
    }
   ],
   "source": [
    "score = cv_rmse(rf_model, n_folds)\n",
    "print(\"RandomForest Regressor-mean: {:.4f} (std: {:.4f})\".format(score.mean(),\n",
    "                                                                 score.std()))\n",
    "\n",
    "rmse_scores[\"RandomForest Regressor\"] = (score.mean(), score.std())"
   ]
  },
  {
   "cell_type": "markdown",
   "metadata": {},
   "source": [
    "### GBM Regressor 모델 RMSE"
   ]
  },
  {
   "cell_type": "code",
   "execution_count": 53,
   "metadata": {
    "ExecuteTime": {
     "end_time": "2021-09-10T12:19:25.858044Z",
     "start_time": "2021-09-10T12:19:23.740113Z"
    }
   },
   "outputs": [
    {
     "name": "stdout",
     "output_type": "stream",
     "text": [
      "CV RMSE value list: [0.1398 0.1205 0.1802 0.1458 0.1264]\n",
      "CV RMSE mean value: 0.1426\n",
      "Gradient Boosting Regressor-mean: 0.1426 (std: 0.0209)\n"
     ]
    }
   ],
   "source": [
    "score = cv_rmse(gbr_model, n_folds)\n",
    "print(\"Gradient Boosting Regressor-mean: {:.4f} (std: {:.4f})\".format(score.mean(),\n",
    "                                                                 score.std()))\n",
    "\n",
    "rmse_scores[\"Gradient Boosting Regressor\"] = (score.mean(), score.std())"
   ]
  },
  {
   "cell_type": "code",
   "execution_count": 54,
   "metadata": {
    "ExecuteTime": {
     "end_time": "2021-09-10T12:19:25.872007Z",
     "start_time": "2021-09-10T12:19:25.861036Z"
    }
   },
   "outputs": [
    {
     "data": {
      "text/plain": [
       "{'linear regression': (0.15153052329573968, 0.024991895475697166),\n",
       " 'Decision Tree Regressor': (0.20796922783648855, 0.016490832746479372),\n",
       " 'RandomForest Regressor': (0.14775659018951454, 0.018549300547408144),\n",
       " 'Gradient Boosting Regressor': (0.14255913086763075, 0.020871481718428498)}"
      ]
     },
     "execution_count": 54,
     "metadata": {},
     "output_type": "execute_result"
    }
   ],
   "source": [
    "rmse_scores"
   ]
  },
  {
   "cell_type": "code",
   "execution_count": 55,
   "metadata": {
    "ExecuteTime": {
     "end_time": "2021-09-10T12:19:25.887964Z",
     "start_time": "2021-09-10T12:19:25.880982Z"
    }
   },
   "outputs": [
    {
     "data": {
      "text/plain": [
       "['linear regression',\n",
       " 'Decision Tree Regressor',\n",
       " 'RandomForest Regressor',\n",
       " 'Gradient Boosting Regressor']"
      ]
     },
     "execution_count": 55,
     "metadata": {},
     "output_type": "execute_result"
    }
   ],
   "source": [
    "list(rmse_scores.keys())"
   ]
  },
  {
   "cell_type": "markdown",
   "metadata": {},
   "source": [
    "### 4개 모델 RMSE 결과 시각화"
   ]
  },
  {
   "cell_type": "code",
   "execution_count": 56,
   "metadata": {
    "ExecuteTime": {
     "end_time": "2021-09-10T12:19:26.112873Z",
     "start_time": "2021-09-10T12:19:25.889958Z"
    }
   },
   "outputs": [
    {
     "data": {
      "image/png": "[encoded data removed]",
      "text/plain": [
       "<Figure size 720x432 with 1 Axes>"
      ]
     },
     "metadata": {
      "needs_background": "light"
     },
     "output_type": "display_data"
    }
   ],
   "source": [
    "\n",
    "fig, ax = plt.subplots(figsize = (10,6))\n",
    "\n",
    "ax = sns.pointplot(x=list(rmse_scores.keys()), y=[score for score, _ in rmse_scores.values()],\n",
    "                   markers=['o'], linestyles=['-'], ax=ax)\n",
    "\n",
    "for i, score in enumerate(rmse_scores.values()):\n",
    "    ax.text(i, score[0]+0.002, '{:.6f}'.format (score[0]), horizontalalignment = 'left',\n",
    "           size = 'large', color = 'black', weight = 'semibold')\n",
    "    \n",
    "ax.set_ylabel('Score (RMSE)', size = 20, labelpad = 12.5)\n",
    "ax.set_xlabel('Model', size = 20, labelpad = 12.5)\n",
    "ax.tick_params(axis='x', labelsize = 13.5, rotation = 10)\n",
    "ax.tick_params(axis='y', labelsize = 12.5)\n",
    "ax.set_ylim(0, 0.25)\n",
    "ax.set_title('Rmse Scores of Models without Beleded_predictions', size = 20)\n",
    "\n",
    "fig.show()"
   ]
  },
  {
   "cell_type": "markdown",
   "metadata": {},
   "source": [
    "### 기본 모형에 가중치 부여하기\n",
    "\n",
    "- 모형에 따라 가중치를 부여하는 방법을 Blending이라 한다.\n",
    "- Blending은 모형이 많아질수록 가중치를 주는 숫자를 변경할 수 있다.\n",
    "- 일반적으로 Blending을 하면 RMSE 성능이 높아진다."
   ]
  },
  {
   "cell_type": "code",
   "execution_count": 57,
   "metadata": {
    "ExecuteTime": {
     "end_time": "2021-09-10T12:19:28.083794Z",
     "start_time": "2021-09-10T12:19:26.115865Z"
    }
   },
   "outputs": [],
   "source": [
    "lr_model_fit= lr_model.fit(X,y)\n",
    "tree_model_fit = tree_model.fit(X,y)\n",
    "rf_model_fit = rf_model.fit(X,y)\n",
    "gbr_model_fit = gbr_model.fit(X,y)\n",
    "\n",
    "def blended_learning_predictions(X):\n",
    "    blended_score = (0.3 * lr_model.predict(X))+\\\n",
    "    (0.1 * tree_model_fit.predict(X))+\\\n",
    "    (0.3 * rf_model_fit.predict(X))+\\\n",
    "    (0.3 * gbr_model_fit.predict(X))\n",
    "    return blended_score"
   ]
  },
  {
   "cell_type": "code",
   "execution_count": 58,
   "metadata": {
    "ExecuteTime": {
     "end_time": "2021-09-10T12:19:28.159562Z",
     "start_time": "2021-09-10T12:19:28.085760Z"
    }
   },
   "outputs": [
    {
     "name": "stdout",
     "output_type": "stream",
     "text": [
      "RMSE score on train data:\n",
      "0.0812892640766971\n"
     ]
    }
   ],
   "source": [
    "blended_score = rmsle(y, blended_learning_predictions(X))\n",
    "rmse_scores['blended'] = (blended_score, 0)\n",
    "print('RMSE score on train data:')\n",
    "print(blended_score)"
   ]
  },
  {
   "cell_type": "markdown",
   "metadata": {},
   "source": [
    "##### blended 추가한 모델별 RMSE 시각화"
   ]
  },
  {
   "cell_type": "code",
   "execution_count": 59,
   "metadata": {
    "ExecuteTime": {
     "end_time": "2021-09-10T12:19:28.415329Z",
     "start_time": "2021-09-10T12:19:28.161558Z"
    }
   },
   "outputs": [
    {
     "data": {
      "image/png": "[encoded data removed]",
      "text/plain": [
       "<Figure size 720x432 with 1 Axes>"
      ]
     },
     "metadata": {
      "needs_background": "light"
     },
     "output_type": "display_data"
    }
   ],
   "source": [
    "\n",
    "fig, ax = plt.subplots(figsize = (10,6))\n",
    "\n",
    "ax = sns.pointplot(x=list(rmse_scores.keys()), y=[score for score, _ in rmse_scores.values()],\n",
    "                   markers=['o'], linestyles=['-'], ax=ax)\n",
    "\n",
    "for i, score in enumerate(rmse_scores.values()):\n",
    "    ax.text(i, score[0]+0.002, '{:.6f}'.format (score[0]), horizontalalignment = 'left',\n",
    "           size = 'large', color = 'black', weight = 'semibold')\n",
    "    \n",
    "ax.set_ylabel('Score (RMSE)', size = 20, labelpad = 12.5)\n",
    "ax.set_xlabel('Model', size = 20, labelpad = 12.5)\n",
    "ax.tick_params(axis='x', labelsize = 13.5, rotation = 10)\n",
    "ax.tick_params(axis='y', labelsize = 12.5)\n",
    "ax.set_ylim(0, 0.25)\n",
    "ax.set_title('Rmse Scores of Models without Beleded_predictions', size = 20)\n",
    "\n",
    "fig.show()"
   ]
  },
  {
   "cell_type": "markdown",
   "metadata": {},
   "source": [
    "# 제출 format 만들기"
   ]
  },
  {
   "cell_type": "code",
   "execution_count": 61,
   "metadata": {
    "ExecuteTime": {
     "end_time": "2021-09-10T12:20:17.703816Z",
     "start_time": "2021-09-10T12:20:17.633006Z"
    }
   },
   "outputs": [],
   "source": [
    "submission = pd.read_csv(\"sample_submission.csv\")\n",
    "submission.iloc[:, 1] = np.floor(np.expm1(blended_learning_predictions(X_test)))\n",
    "submission.to_csv(\"The_final_regression.csv\", index = False)"
   ]
  },
  {
   "cell_type": "markdown",
   "metadata": {},
   "source": [
    "![image](https://user-images.githubusercontent.com/74717033/132853242-3c8e0d1b-07fe-4ff0-ba97-6bfb84f13ac2.png)"
   ]
  }
 ],
 "metadata": {
  "kernelspec": {
   "display_name": "Python 3",
   "language": "python",
   "name": "python3"
  },
  "language_info": {
   "codemirror_mode": {
    "name": "ipython",
    "version": 3
   },
   "file_extension": ".py",
   "mimetype": "text/x-python",
   "name": "python",
   "nbconvert_exporter": "python",
   "pygments_lexer": "ipython3",
   "version": "3.8.5"
  },
  "toc": {
   "base_numbering": 1,
   "nav_menu": {},
   "number_sections": true,
   "sideBar": true,
   "skip_h1_title": false,
   "title_cell": "Table of Contents",
   "title_sidebar": "Contents",
   "toc_cell": false,
   "toc_position": {
    "height": "calc(100% - 180px)",
    "left": "10px",
    "top": "150px",
    "width": "323.719px"
   },
   "toc_section_display": true,
   "toc_window_display": true
  },
  "varInspector": {
   "cols": {
    "lenName": 16,
    "lenType": 16,
    "lenVar": 40
   },
   "kernels_config": {
    "python": {
     "delete_cmd_postfix": "",
     "delete_cmd_prefix": "del ",
     "library": "var_list.py",
     "varRefreshCmd": "print(var_dic_list())"
    },
    "r": {
     "delete_cmd_postfix": ") ",
     "delete_cmd_prefix": "rm(",
     "library": "var_list.r",
     "varRefreshCmd": "cat(var_dic_list()) "
    }
   },
   "position": {
    "height": "510.719px",
    "left": "1510.61px",
    "right": "20px",
    "top": "88.9844px",
    "width": "373px"
   },
   "types_to_exclude": [
    "module",
    "function",
    "builtin_function_or_method",
    "instance",
    "_Feature"
   ],
   "window_display": false
  }
 },
 "nbformat": 4,
 "nbformat_minor": 4
}
