{
 "cells": [
  {
   "cell_type": "code",
   "execution_count": 1,
   "metadata": {
    "ExecuteTime": {
     "end_time": "2021-09-05T15:13:00.720283Z",
     "start_time": "2021-09-05T15:12:57.809723Z"
    }
   },
   "outputs": [],
   "source": [
    "# 기초 전처리\n",
    "import pandas as pd\n",
    "import numpy as np\n",
    "\n",
    "# 시각화\n",
    "import matplotlib.pyplot as plt\n",
    "import seaborn as sns\n",
    "import folium\n",
    "import os\n",
    "\n",
    "# 캔버스 사이즈 적용\n",
    "plt.rcParams['figure.figsize'] = (12, 9)\n",
    "\n",
    "# 컬럼 전체 확인 가능하도록 출력 범위 설정\n",
    "pd.set_option('display.max_columns', 500)\n",
    "pd.set_option('display.width', 10000)\n",
    "\n",
    "# 불필요한 경고 표시 생략\n",
    "import warnings\n",
    "warnings.filterwarnings(action = 'ignore')\n",
    "\n",
    "# pandas 결과값의 표현 범위 소수점 2자리수로 변경\n",
    "pd.options.display.float_format = '{:.2f}'.format\n",
    "\n",
    "# 파일 로드위한 directory 확인 및 현재 경로로 설정\n",
    "a = os.getcwd()\n",
    "os.chdir(a)"
   ]
  },
  {
   "cell_type": "markdown",
   "metadata": {},
   "source": [
    "# 0. 데이터 불러오기"
   ]
  },
  {
   "cell_type": "code",
   "execution_count": 2,
   "metadata": {
    "ExecuteTime": {
     "end_time": "2021-09-05T15:13:00.780683Z",
     "start_time": "2021-09-05T15:13:00.722279Z"
    }
   },
   "outputs": [
    {
     "name": "stdout",
     "output_type": "stream",
     "text": [
      "Data Loading is Done!\n"
     ]
    }
   ],
   "source": [
    "train = pd.read_csv('train.csv')\n",
    "test = pd.read_csv('test.csv') \n",
    "\n",
    "print('Data Loading is Done!')"
   ]
  },
  {
   "cell_type": "markdown",
   "metadata": {},
   "source": [
    "# 1. EDA & Preprocessing"
   ]
  },
  {
   "cell_type": "markdown",
   "metadata": {},
   "source": [
    "## Basic Data constructure"
   ]
  },
  {
   "cell_type": "code",
   "execution_count": 3,
   "metadata": {
    "ExecuteTime": {
     "end_time": "2021-09-05T15:13:00.796308Z",
     "start_time": "2021-09-05T15:13:00.782677Z"
    }
   },
   "outputs": [
    {
     "name": "stdout",
     "output_type": "stream",
     "text": [
      "The shape of Train Data is: (1460, 81) \n",
      "\n",
      "The shape of Test Data is: (1459, 80)\n"
     ]
    }
   ],
   "source": [
    "print(\"The shape of Train Data is:\", train.shape, \"\\n\")\n",
    "print(\"The shape of Test Data is:\", test.shape)"
   ]
  },
  {
   "cell_type": "code",
   "execution_count": 4,
   "metadata": {
    "ExecuteTime": {
     "end_time": "2021-09-05T15:13:00.827197Z",
     "start_time": "2021-09-05T15:13:00.798304Z"
    }
   },
   "outputs": [
    {
     "name": "stdout",
     "output_type": "stream",
     "text": [
      "<class 'pandas.core.frame.DataFrame'>\n",
      "RangeIndex: 1460 entries, 0 to 1459\n",
      "Data columns (total 81 columns):\n",
      " #   Column         Non-Null Count  Dtype  \n",
      "---  ------         --------------  -----  \n",
      " 0   Id             1460 non-null   int64  \n",
      " 1   MSSubClass     1460 non-null   int64  \n",
      " 2   MSZoning       1460 non-null   object \n",
      " 3   LotFrontage    1201 non-null   float64\n",
      " 4   LotArea        1460 non-null   int64  \n",
      " 5   Street         1460 non-null   object \n",
      " 6   Alley          91 non-null     object \n",
      " 7   LotShape       1460 non-null   object \n",
      " 8   LandContour    1460 non-null   object \n",
      " 9   Utilities      1460 non-null   object \n",
      " 10  LotConfig      1460 non-null   object \n",
      " 11  LandSlope      1460 non-null   object \n",
      " 12  Neighborhood   1460 non-null   object \n",
      " 13  Condition1     1460 non-null   object \n",
      " 14  Condition2     1460 non-null   object \n",
      " 15  BldgType       1460 non-null   object \n",
      " 16  HouseStyle     1460 non-null   object \n",
      " 17  OverallQual    1460 non-null   int64  \n",
      " 18  OverallCond    1460 non-null   int64  \n",
      " 19  YearBuilt      1460 non-null   int64  \n",
      " 20  YearRemodAdd   1460 non-null   int64  \n",
      " 21  RoofStyle      1460 non-null   object \n",
      " 22  RoofMatl       1460 non-null   object \n",
      " 23  Exterior1st    1460 non-null   object \n",
      " 24  Exterior2nd    1460 non-null   object \n",
      " 25  MasVnrType     1452 non-null   object \n",
      " 26  MasVnrArea     1452 non-null   float64\n",
      " 27  ExterQual      1460 non-null   object \n",
      " 28  ExterCond      1460 non-null   object \n",
      " 29  Foundation     1460 non-null   object \n",
      " 30  BsmtQual       1423 non-null   object \n",
      " 31  BsmtCond       1423 non-null   object \n",
      " 32  BsmtExposure   1422 non-null   object \n",
      " 33  BsmtFinType1   1423 non-null   object \n",
      " 34  BsmtFinSF1     1460 non-null   int64  \n",
      " 35  BsmtFinType2   1422 non-null   object \n",
      " 36  BsmtFinSF2     1460 non-null   int64  \n",
      " 37  BsmtUnfSF      1460 non-null   int64  \n",
      " 38  TotalBsmtSF    1460 non-null   int64  \n",
      " 39  Heating        1460 non-null   object \n",
      " 40  HeatingQC      1460 non-null   object \n",
      " 41  CentralAir     1460 non-null   object \n",
      " 42  Electrical     1459 non-null   object \n",
      " 43  1stFlrSF       1460 non-null   int64  \n",
      " 44  2ndFlrSF       1460 non-null   int64  \n",
      " 45  LowQualFinSF   1460 non-null   int64  \n",
      " 46  GrLivArea      1460 non-null   int64  \n",
      " 47  BsmtFullBath   1460 non-null   int64  \n",
      " 48  BsmtHalfBath   1460 non-null   int64  \n",
      " 49  FullBath       1460 non-null   int64  \n",
      " 50  HalfBath       1460 non-null   int64  \n",
      " 51  BedroomAbvGr   1460 non-null   int64  \n",
      " 52  KitchenAbvGr   1460 non-null   int64  \n",
      " 53  KitchenQual    1460 non-null   object \n",
      " 54  TotRmsAbvGrd   1460 non-null   int64  \n",
      " 55  Functional     1460 non-null   object \n",
      " 56  Fireplaces     1460 non-null   int64  \n",
      " 57  FireplaceQu    770 non-null    object \n",
      " 58  GarageType     1379 non-null   object \n",
      " 59  GarageYrBlt    1379 non-null   float64\n",
      " 60  GarageFinish   1379 non-null   object \n",
      " 61  GarageCars     1460 non-null   int64  \n",
      " 62  GarageArea     1460 non-null   int64  \n",
      " 63  GarageQual     1379 non-null   object \n",
      " 64  GarageCond     1379 non-null   object \n",
      " 65  PavedDrive     1460 non-null   object \n",
      " 66  WoodDeckSF     1460 non-null   int64  \n",
      " 67  OpenPorchSF    1460 non-null   int64  \n",
      " 68  EnclosedPorch  1460 non-null   int64  \n",
      " 69  3SsnPorch      1460 non-null   int64  \n",
      " 70  ScreenPorch    1460 non-null   int64  \n",
      " 71  PoolArea       1460 non-null   int64  \n",
      " 72  PoolQC         7 non-null      object \n",
      " 73  Fence          281 non-null    object \n",
      " 74  MiscFeature    54 non-null     object \n",
      " 75  MiscVal        1460 non-null   int64  \n",
      " 76  MoSold         1460 non-null   int64  \n",
      " 77  YrSold         1460 non-null   int64  \n",
      " 78  SaleType       1460 non-null   object \n",
      " 79  SaleCondition  1460 non-null   object \n",
      " 80  SalePrice      1460 non-null   int64  \n",
      "dtypes: float64(3), int64(35), object(43)\n",
      "memory usage: 924.0+ KB\n",
      "None\n"
     ]
    }
   ],
   "source": [
    "print(train.info())"
   ]
  },
  {
   "cell_type": "code",
   "execution_count": 5,
   "metadata": {
    "ExecuteTime": {
     "end_time": "2021-09-05T15:13:00.856948Z",
     "start_time": "2021-09-05T15:13:00.829192Z"
    }
   },
   "outputs": [
    {
     "name": "stdout",
     "output_type": "stream",
     "text": [
      "<class 'pandas.core.frame.DataFrame'>\n",
      "RangeIndex: 1459 entries, 0 to 1458\n",
      "Data columns (total 80 columns):\n",
      " #   Column         Non-Null Count  Dtype  \n",
      "---  ------         --------------  -----  \n",
      " 0   Id             1459 non-null   int64  \n",
      " 1   MSSubClass     1459 non-null   int64  \n",
      " 2   MSZoning       1455 non-null   object \n",
      " 3   LotFrontage    1232 non-null   float64\n",
      " 4   LotArea        1459 non-null   int64  \n",
      " 5   Street         1459 non-null   object \n",
      " 6   Alley          107 non-null    object \n",
      " 7   LotShape       1459 non-null   object \n",
      " 8   LandContour    1459 non-null   object \n",
      " 9   Utilities      1457 non-null   object \n",
      " 10  LotConfig      1459 non-null   object \n",
      " 11  LandSlope      1459 non-null   object \n",
      " 12  Neighborhood   1459 non-null   object \n",
      " 13  Condition1     1459 non-null   object \n",
      " 14  Condition2     1459 non-null   object \n",
      " 15  BldgType       1459 non-null   object \n",
      " 16  HouseStyle     1459 non-null   object \n",
      " 17  OverallQual    1459 non-null   int64  \n",
      " 18  OverallCond    1459 non-null   int64  \n",
      " 19  YearBuilt      1459 non-null   int64  \n",
      " 20  YearRemodAdd   1459 non-null   int64  \n",
      " 21  RoofStyle      1459 non-null   object \n",
      " 22  RoofMatl       1459 non-null   object \n",
      " 23  Exterior1st    1458 non-null   object \n",
      " 24  Exterior2nd    1458 non-null   object \n",
      " 25  MasVnrType     1443 non-null   object \n",
      " 26  MasVnrArea     1444 non-null   float64\n",
      " 27  ExterQual      1459 non-null   object \n",
      " 28  ExterCond      1459 non-null   object \n",
      " 29  Foundation     1459 non-null   object \n",
      " 30  BsmtQual       1415 non-null   object \n",
      " 31  BsmtCond       1414 non-null   object \n",
      " 32  BsmtExposure   1415 non-null   object \n",
      " 33  BsmtFinType1   1417 non-null   object \n",
      " 34  BsmtFinSF1     1458 non-null   float64\n",
      " 35  BsmtFinType2   1417 non-null   object \n",
      " 36  BsmtFinSF2     1458 non-null   float64\n",
      " 37  BsmtUnfSF      1458 non-null   float64\n",
      " 38  TotalBsmtSF    1458 non-null   float64\n",
      " 39  Heating        1459 non-null   object \n",
      " 40  HeatingQC      1459 non-null   object \n",
      " 41  CentralAir     1459 non-null   object \n",
      " 42  Electrical     1459 non-null   object \n",
      " 43  1stFlrSF       1459 non-null   int64  \n",
      " 44  2ndFlrSF       1459 non-null   int64  \n",
      " 45  LowQualFinSF   1459 non-null   int64  \n",
      " 46  GrLivArea      1459 non-null   int64  \n",
      " 47  BsmtFullBath   1457 non-null   float64\n",
      " 48  BsmtHalfBath   1457 non-null   float64\n",
      " 49  FullBath       1459 non-null   int64  \n",
      " 50  HalfBath       1459 non-null   int64  \n",
      " 51  BedroomAbvGr   1459 non-null   int64  \n",
      " 52  KitchenAbvGr   1459 non-null   int64  \n",
      " 53  KitchenQual    1458 non-null   object \n",
      " 54  TotRmsAbvGrd   1459 non-null   int64  \n",
      " 55  Functional     1457 non-null   object \n",
      " 56  Fireplaces     1459 non-null   int64  \n",
      " 57  FireplaceQu    729 non-null    object \n",
      " 58  GarageType     1383 non-null   object \n",
      " 59  GarageYrBlt    1381 non-null   float64\n",
      " 60  GarageFinish   1381 non-null   object \n",
      " 61  GarageCars     1458 non-null   float64\n",
      " 62  GarageArea     1458 non-null   float64\n",
      " 63  GarageQual     1381 non-null   object \n",
      " 64  GarageCond     1381 non-null   object \n",
      " 65  PavedDrive     1459 non-null   object \n",
      " 66  WoodDeckSF     1459 non-null   int64  \n",
      " 67  OpenPorchSF    1459 non-null   int64  \n",
      " 68  EnclosedPorch  1459 non-null   int64  \n",
      " 69  3SsnPorch      1459 non-null   int64  \n",
      " 70  ScreenPorch    1459 non-null   int64  \n",
      " 71  PoolArea       1459 non-null   int64  \n",
      " 72  PoolQC         3 non-null      object \n",
      " 73  Fence          290 non-null    object \n",
      " 74  MiscFeature    51 non-null     object \n",
      " 75  MiscVal        1459 non-null   int64  \n",
      " 76  MoSold         1459 non-null   int64  \n",
      " 77  YrSold         1459 non-null   int64  \n",
      " 78  SaleType       1458 non-null   object \n",
      " 79  SaleCondition  1459 non-null   object \n",
      "dtypes: float64(11), int64(26), object(43)\n",
      "memory usage: 912.0+ KB\n",
      "None\n"
     ]
    }
   ],
   "source": [
    "print(test.info())"
   ]
  },
  {
   "cell_type": "code",
   "execution_count": 6,
   "metadata": {
    "ExecuteTime": {
     "end_time": "2021-09-05T15:13:00.872906Z",
     "start_time": "2021-09-05T15:13:00.859940Z"
    }
   },
   "outputs": [
    {
     "name": "stdout",
     "output_type": "stream",
     "text": [
      "Id                 0\n",
      "MSSubClass         0\n",
      "MSZoning           0\n",
      "LotFrontage      259\n",
      "LotArea            0\n",
      "                ... \n",
      "MoSold             0\n",
      "YrSold             0\n",
      "SaleType           0\n",
      "SaleCondition      0\n",
      "SalePrice          0\n",
      "Length: 81, dtype: int64\n"
     ]
    }
   ],
   "source": [
    "print(train.isnull().sum())"
   ]
  },
  {
   "cell_type": "code",
   "execution_count": 7,
   "metadata": {
    "ExecuteTime": {
     "end_time": "2021-09-05T15:13:00.903842Z",
     "start_time": "2021-09-05T15:13:00.880886Z"
    }
   },
   "outputs": [
    {
     "name": "stdout",
     "output_type": "stream",
     "text": [
      "Id                 0\n",
      "MSSubClass         0\n",
      "MSZoning           4\n",
      "LotFrontage      227\n",
      "LotArea            0\n",
      "                ... \n",
      "MiscVal            0\n",
      "MoSold             0\n",
      "YrSold             0\n",
      "SaleType           1\n",
      "SaleCondition      0\n",
      "Length: 80, dtype: int64\n"
     ]
    }
   ],
   "source": [
    "print(test.isnull().sum())"
   ]
  },
  {
   "cell_type": "markdown",
   "metadata": {},
   "source": [
    "데이터에 결측치가 있는 것이 발견된다. 피처 엔지니어링을 통해 해당 변수들을 전처리할 필요가 있다."
   ]
  },
  {
   "cell_type": "markdown",
   "metadata": {},
   "source": [
    "## 이상치 제거\n",
    "\n",
    "- 수치형 데이터에서 가장 빈번하게 나타난다.\n",
    "    - 예측 범위가 넓은 데이터(e.g: 가격)은 데이터의 범위가 클 수록 예측 정확도가 떨어지기 때문에 이상치 확인은 중요하다.\n",
    "- 이상치 제거의 기준을 단순히 숫자로만 판단하면 안된다.\n",
    "    - '이상치 = 적절하지 않게 측정된 데이터' 라는 개념으로 인지하는게 중요.\n",
    "\n",
    "> e.g) \n",
    "- OverallQual: Rates the overall material and finish of the house\n",
    "\n",
    "- OverallCond: Rates the overall condition of the house\n",
    "\n",
    "와 같은 데이터는 설문 조사자의 주관적 편향이 들어갈 우려가 있는 객관적이지 못한 데이터 이다.\n",
    "이러한 데이터 또한 이상치로 간주할 수 있을 것이다."
   ]
  },
  {
   "cell_type": "code",
   "execution_count": 8,
   "metadata": {
    "ExecuteTime": {
     "end_time": "2021-09-05T15:13:00.918802Z",
     "start_time": "2021-09-05T15:13:00.905837Z"
    }
   },
   "outputs": [
    {
     "name": "stdout",
     "output_type": "stream",
     "text": [
      "(1458, 81)\n"
     ]
    }
   ],
   "source": [
    "# OverallQual , OverallCond 데이터의 이상치 제거\n",
    "\n",
    "\n",
    "# OverallQual rate값이 4이하이면서 SalePrice가 20000 이상인 데이터 제거\n",
    "train.drop( train[(train['OverallQual']<4 ) & ( train['SalePrice']>200000) ].index, inplace=True)\n",
    "           \n",
    "# OverallCond rate값이 4이하이면서 SalePrice가 20000 이상인 데이터 제거\n",
    "train.drop( train[(train['OverallCond']<4 ) & ( train['SalePrice']>200000) ].index, inplace=True)\n",
    "           \n",
    "train.reset_index(drop=True, inplace=True)\n",
    "           \n",
    "#결과 확인\n",
    "# 기존 train shape 결과 : The shape of Train Data is: (1460, 81) \n",
    "print(train.shape) "
   ]
  },
  {
   "cell_type": "markdown",
   "metadata": {},
   "source": [
    "## 종속 변수(SalePrice)의 로그화"
   ]
  },
  {
   "cell_type": "markdown",
   "metadata": {},
   "source": [
    "### SalePrice 시각화"
   ]
  },
  {
   "cell_type": "code",
   "execution_count": 9,
   "metadata": {
    "ExecuteTime": {
     "end_time": "2021-09-05T15:13:00.934109Z",
     "start_time": "2021-09-05T15:13:00.920797Z"
    }
   },
   "outputs": [],
   "source": [
    "from scipy.stats import norm"
   ]
  },
  {
   "cell_type": "code",
   "execution_count": 10,
   "metadata": {
    "ExecuteTime": {
     "end_time": "2021-09-05T15:13:01.266095Z",
     "start_time": "2021-09-05T15:13:00.936105Z"
    }
   },
   "outputs": [
    {
     "name": "stdout",
     "output_type": "stream",
     "text": [
      "The value of mu before log transformation is: 180761.24142661178 \n",
      "\n",
      "The value of sigma after log transformation is: 79270.93617295024\n"
     ]
    },
    {
     "data": {
      "image/png": "[encoded data removed]",
      "text/plain": [
       "<Figure size 720x432 with 1 Axes>"
      ]
     },
     "metadata": {
      "needs_background": "light"
     },
     "output_type": "display_data"
    }
   ],
   "source": [
    "(mu, sigma) = norm.fit(train['SalePrice'])\n",
    "print(\"The value of mu before log transformation is:\" , mu, \"\\n\")\n",
    "print(\"The value of sigma after log transformation is:\" , sigma)\n",
    "\n",
    "# 캔버스 세팅\n",
    "fig, ax = plt.subplots(figsize=(10,6))\n",
    "\n",
    "# Histogram 데이터 입력\n",
    "sns.histplot(train['SalePrice'], color ='b', stat='probability')\n",
    "\n",
    "# 축 설정\n",
    "ax.xaxis.grid(False) \n",
    "ax.set(ylabel = 'Frequency')\n",
    "ax.set(xlabel = 'Sales Price')\n",
    "ax.set(title = 'SalePrice distribution')\n",
    "\n",
    "# 가격 평균선 입력\n",
    "plt.axvline(mu, color='r', linestyle = '--')\n",
    "\n",
    "# 가격 평균선 text 설정\n",
    "plt.text(mu+10000, 0.11, 'Mean of SalePrice', rotation = 0, color = 'r')\n",
    "\n",
    "fig.show()"
   ]
  },
  {
   "cell_type": "markdown",
   "metadata": {},
   "source": [
    "- 주택 가격이 정규분포 형태를 이루지 않고 있다.\n",
    "- 일반적인 선형 회귀는 각 데이터가 '정규분포를 만족한다' 를 전제로 한다.\n",
    "- 따라서 해당 데이터를 np.log1p() 를 활용해 SalePrice를 로그화 한다."
   ]
  },
  {
   "cell_type": "code",
   "execution_count": 11,
   "metadata": {
    "ExecuteTime": {
     "end_time": "2021-09-05T15:13:01.585468Z",
     "start_time": "2021-09-05T15:13:01.268119Z"
    }
   },
   "outputs": [
    {
     "name": "stdout",
     "output_type": "stream",
     "text": [
      "The value of mu before log transformation is: 12.0233397799989 \n",
      "\n",
      "The value of sigma after log transformation is: 0.3989191793099824\n"
     ]
    },
    {
     "data": {
      "image/png": "[encoded data removed]",
      "text/plain": [
       "<Figure size 720x432 with 1 Axes>"
      ]
     },
     "metadata": {
      "needs_background": "light"
     },
     "output_type": "display_data"
    }
   ],
   "source": [
    "# SalePrice 로그화\n",
    "train['SalePrice'] = np.log1p(train['SalePrice'])\n",
    "\n",
    "(mu, sigma) = norm.fit(train['SalePrice'])\n",
    "print(\"The value of mu before log transformation is:\" , mu, \"\\n\")\n",
    "print(\"The value of sigma after log transformation is:\" , sigma)\n",
    "\n",
    "# 캔버스 세팅\n",
    "fig, ax = plt.subplots(figsize=(10,6))\n",
    "\n",
    "# Histogram 데이터 입력\n",
    "sns.histplot(train['SalePrice'], color ='r', stat='probability')\n",
    "\n",
    "# 축 설정\n",
    "ax.xaxis.grid(False) \n",
    "ax.set(ylabel = 'Frequency')\n",
    "ax.set(xlabel = 'Sales Price')\n",
    "ax.set(title = 'SalePrice distribution')\n",
    "\n",
    "# 가격 평균선 입력\n",
    "plt.axvline(mu, color='b', linestyle = '--')\n",
    "\n",
    "# 가격 평균선 text 설정\n",
    "plt.text(mu+0.05, 0.111, 'Mean of SalePrice', rotation = 0, color = 'b')\n",
    "plt.ylim(0, 0.12)\n",
    "\n",
    "fig.show()"
   ]
  },
  {
   "cell_type": "markdown",
   "metadata": {},
   "source": [
    "## 데이터 합치기 (Train + Test)"
   ]
  },
  {
   "cell_type": "code",
   "execution_count": 12,
   "metadata": {
    "ExecuteTime": {
     "end_time": "2021-09-05T15:13:01.601218Z",
     "start_time": "2021-09-05T15:13:01.587255Z"
    }
   },
   "outputs": [
    {
     "name": "stdout",
     "output_type": "stream",
     "text": [
      "The shape of Train Data is: (1458, 80) \n",
      "\n",
      "The shape of Test Data is: (1459, 79)\n"
     ]
    }
   ],
   "source": [
    "# 입력변수 = 각 컬럼의 ID는 별도 저장\n",
    "train_ID = train['Id']\n",
    "test_ID = test['Id']\n",
    "\n",
    "# ID 제외 나머지 컬럼만 데이터에 남김\n",
    "train.drop(['Id'], axis = 1, inplace = True)\n",
    "test.drop(['Id'], axis = 1, inplace = True)\n",
    "\n",
    "# 결과 확인\n",
    "print(\"The shape of Train Data is:\", train.shape, \"\\n\")\n",
    "print(\"The shape of Test Data is:\", test.shape)"
   ]
  },
  {
   "cell_type": "code",
   "execution_count": 13,
   "metadata": {
    "ExecuteTime": {
     "end_time": "2021-09-05T15:13:01.616178Z",
     "start_time": "2021-09-05T15:13:01.604210Z"
    }
   },
   "outputs": [
    {
     "name": "stdout",
     "output_type": "stream",
     "text": [
      "The shape of Train Data is: (1458, 79) \n",
      "\n",
      "The shape of Test Data is: (1459, 79) \n",
      "\n",
      "The shape of y label is: (1458,)\n"
     ]
    }
   ],
   "source": [
    "# SalePrice 별도 추출 및 저장\n",
    "\n",
    "y = train['SalePrice'].reset_index(drop = True)\n",
    "train = train.drop('SalePrice', axis = 1)\n",
    "\n",
    "# 결과 확인\n",
    "print(\"The shape of Train Data is:\", train.shape, \"\\n\")\n",
    "print(\"The shape of Test Data is:\", test.shape, \"\\n\")\n",
    "print(\"The shape of y label is:\", y.shape)"
   ]
  },
  {
   "cell_type": "markdown",
   "metadata": {},
   "source": [
    "변수의 개수가 모두 동일하게 되어 두 데이터를 합칠 수 있다."
   ]
  },
  {
   "cell_type": "code",
   "execution_count": 14,
   "metadata": {
    "ExecuteTime": {
     "end_time": "2021-09-05T15:13:01.647062Z",
     "start_time": "2021-09-05T15:13:01.620167Z"
    }
   },
   "outputs": [],
   "source": [
    "all_df = pd.concat([train, test]).reset_index(drop=True)"
   ]
  },
  {
   "cell_type": "code",
   "execution_count": 15,
   "metadata": {
    "ExecuteTime": {
     "end_time": "2021-09-05T15:13:01.662989Z",
     "start_time": "2021-09-05T15:13:01.649028Z"
    }
   },
   "outputs": [
    {
     "name": "stdout",
     "output_type": "stream",
     "text": [
      "The shape of 'all_data' is: (2917, 79)\n"
     ]
    }
   ],
   "source": [
    "print(\"The shape of 'all_data' is:\", all_df.shape )"
   ]
  },
  {
   "cell_type": "markdown",
   "metadata": {},
   "source": [
    "### 결측치 처리\n",
    "\n",
    "- 결측치 : 중간에 데이터 값이 비어 있는 경우."
   ]
  },
  {
   "cell_type": "markdown",
   "metadata": {},
   "source": [
    "#### 결측치 확인"
   ]
  },
  {
   "cell_type": "code",
   "execution_count": 16,
   "metadata": {
    "ExecuteTime": {
     "end_time": "2021-09-05T15:13:01.677950Z",
     "start_time": "2021-09-05T15:13:01.664985Z"
    }
   },
   "outputs": [],
   "source": [
    "# head_num : 결과 출력할때 haed()의 수\n",
    "\n",
    "# df의 null값 비율 체크해서 비율로 변환 & 내림차순 정렬 함수\n",
    "def check_na(data, head_num):\n",
    "    \"\"\"결측치 확인하여 비율로 변환\"\"\"\n",
    "    isnull_ratio = (data.isnull().sum() / len(data)) * 100 \n",
    "    data_na = isnull_ratio.drop(isnull_ratio[isnull_ratio == 0].index).sort_values(ascending = False)\n",
    "    missing_data = pd.DataFrame({'Missing Ratio' : data_na,\n",
    "                                    'Data Type' : data.dtypes[data_na.index]})\n",
    "    print(\"결측치 데이터 컬럼 및 건수 : \\n\", missing_data.head(head_num))"
   ]
  },
  {
   "cell_type": "code",
   "execution_count": 17,
   "metadata": {
    "ExecuteTime": {
     "end_time": "2021-09-05T15:13:01.708026Z",
     "start_time": "2021-09-05T15:13:01.680942Z"
    }
   },
   "outputs": [
    {
     "name": "stdout",
     "output_type": "stream",
     "text": [
      "결측치 데이터 컬럼 및 건수 : \n",
      "               Missing Ratio Data Type\n",
      "PoolQC                99.66    object\n",
      "MiscFeature           96.40    object\n",
      "Alley                 93.21    object\n",
      "Fence                 80.43    object\n",
      "FireplaceQu           48.68    object\n",
      "LotFrontage           16.63   float64\n",
      "GarageFinish           5.45    object\n",
      "GarageQual             5.45    object\n",
      "GarageCond             5.45    object\n",
      "GarageYrBlt            5.45   float64\n",
      "GarageType             5.38    object\n",
      "BsmtExposure           2.81    object\n",
      "BsmtCond               2.81    object\n",
      "BsmtQual               2.78    object\n",
      "BsmtFinType2           2.74    object\n",
      "BsmtFinType1           2.71    object\n",
      "MasVnrType             0.79    object\n",
      "MasVnrArea             0.75   float64\n",
      "MSZoning               0.14    object\n",
      "BsmtFullBath           0.07   float64\n"
     ]
    }
   ],
   "source": [
    "# 결측치 확인\n",
    "check_na(all_df, 20)"
   ]
  },
  {
   "cell_type": "code",
   "execution_count": 18,
   "metadata": {
    "ExecuteTime": {
     "end_time": "2021-09-05T15:13:01.739538Z",
     "start_time": "2021-09-05T15:13:01.710021Z"
    }
   },
   "outputs": [
    {
     "name": "stdout",
     "output_type": "stream",
     "text": [
      "결측치 데이터 컬럼 및 건수 : \n",
      "               Missing Ratio Data Type\n",
      "GarageCond             5.45    object\n",
      "GarageQual             5.45    object\n",
      "GarageYrBlt            5.45   float64\n",
      "GarageFinish           5.45    object\n",
      "GarageType             5.38    object\n",
      "BsmtCond               2.81    object\n",
      "BsmtExposure           2.81    object\n",
      "BsmtQual               2.78    object\n",
      "BsmtFinType2           2.74    object\n",
      "BsmtFinType1           2.71    object\n",
      "MasVnrType             0.79    object\n",
      "MasVnrArea             0.75   float64\n",
      "MSZoning               0.14    object\n",
      "Functional             0.07    object\n",
      "Utilities              0.07    object\n",
      "BsmtFullBath           0.07   float64\n",
      "BsmtHalfBath           0.07   float64\n",
      "GarageArea             0.03   float64\n",
      "GarageCars             0.03   float64\n",
      "TotalBsmtSF            0.03   float64\n"
     ]
    }
   ],
   "source": [
    "# 결측치 비율이 평균 이상인 컬럼 (PoolQC, MiscFeature, Alley, Fence, FireplaceQu, LotFrontage) 제거\n",
    "\n",
    "all_df.drop(['PoolQC', 'MiscFeature', 'Alley', 'Fence', 'FireplaceQu', 'LotFrontage'], axis = 1, inplace = True)\n",
    "check_na(all_df, 20)"
   ]
  },
  {
   "cell_type": "markdown",
   "metadata": {},
   "source": [
    "#### 문자열 결측치 처리\n",
    "\n",
    "1) 방법 1. 각 변수를 확인해 개별적으로 필요 데이터를 채워넣는 방식\n",
    "- 문자열 결측치 : 빈도수 위주로 채워넣기 (출현 빈도가 가장 높은 문자열로 일괄 처리)\n",
    "- 수치 데이터 결측치 : 평균(mean) or 중간값(median) 으로 채워넣기\n",
    "\n",
    "2) 방법 2. 일괄적으로 0 or None 값을 채워넣기\n",
    "- fillna() 함수로 일괄처리 가능"
   ]
  },
  {
   "cell_type": "markdown",
   "metadata": {},
   "source": [
    "방법 1 사용 - 문자열 데이터 최빈값으로 채워넣기"
   ]
  },
  {
   "cell_type": "code",
   "execution_count": 19,
   "metadata": {
    "ExecuteTime": {
     "end_time": "2021-09-05T15:13:01.817379Z",
     "start_time": "2021-09-05T15:13:01.742529Z"
    }
   },
   "outputs": [
    {
     "name": "stdout",
     "output_type": "stream",
     "text": [
      "The whole number of all_vars 43 \n",
      "\n",
      "The whole number of final_cat_vars 38 \n",
      "\n",
      "결측치 데이터 컬럼 및 건수 : \n",
      "               Missing Ratio Data Type\n",
      "GarageYrBlt            5.45   float64\n",
      "MasVnrArea             0.75   float64\n",
      "BsmtFullBath           0.07   float64\n",
      "BsmtHalfBath           0.07   float64\n",
      "BsmtFinSF1             0.03   float64\n",
      "BsmtFinSF2             0.03   float64\n",
      "BsmtUnfSF              0.03   float64\n",
      "TotalBsmtSF            0.03   float64\n",
      "GarageCars             0.03   float64\n",
      "GarageArea             0.03   float64\n",
      "None\n"
     ]
    }
   ],
   "source": [
    "# train에서 dtype이 object인 변수명 별도 추출\n",
    "cat_all_vars = train.select_dtypes(exclude = [np.number])\n",
    "print(\"The whole number of all_vars\", len(list(cat_all_vars)),'\\n')\n",
    "\n",
    "\n",
    "# 기존에 결측치 문제로 제거한 변수를 제외한 다른 변수들에 적용하기 위해 제거된 변수들을 제외\n",
    "# 기존에 제거한 변수들 중 object 형태의 변수들만 범위로 지정\n",
    "final_cat_vars = []\n",
    "for v in cat_all_vars: # train의 모든 object 변수들중에\n",
    "    if v not in ['PoolQC', 'MiscFeature', 'Alley', 'Fence', 'FireplaceQu']: # drop한 변수외의 변수들을\n",
    "        final_cat_vars.append(v)  # final_cat_vars에 append하기\n",
    "print(\"The whole number of final_cat_vars\", len(list(final_cat_vars)),'\\n')\n",
    "\n",
    "# 각 변수별로 최빈값(최빈단어)로 fillna\n",
    "for i in final_cat_vars:\n",
    "    all_df[i] = all_df[i].fillna(i).mode()[0]\n",
    "    \n",
    "print(check_na(all_df,15)) # float에만 null값이 남아있고, 모든 object에서의 null값은 대체되었다."
   ]
  },
  {
   "cell_type": "markdown",
   "metadata": {},
   "source": [
    "방법 1 사용 - 수치형데이터 (median 으로 채워넣기)"
   ]
  },
  {
   "cell_type": "code",
   "execution_count": 20,
   "metadata": {
    "ExecuteTime": {
     "end_time": "2021-09-05T15:13:01.891980Z",
     "start_time": "2021-09-05T15:13:01.820368Z"
    }
   },
   "outputs": [
    {
     "name": "stdout",
     "output_type": "stream",
     "text": [
      "The whole number of all_vars 36 \n",
      "\n",
      "The whole number of final_cat_vars 35 \n",
      "\n",
      "결측치 데이터 컬럼 및 건수 : \n",
      " Empty DataFrame\n",
      "Columns: [Missing Ratio, Data Type]\n",
      "Index: []\n"
     ]
    }
   ],
   "source": [
    "\n",
    "# train 에서 숫자형 변수의 리스트 생성\n",
    "num_all_vars = list(train.select_dtypes(include=[np.number]))\n",
    "print(\"The whole number of all_vars\", len(list(num_all_vars)),'\\n')\n",
    "\n",
    "# 결측치 비율 기준 제거한 숫자형 변수는 1개\n",
    "# 간단하게 remove() 를 써서 drop\n",
    "num_all_vars.remove('LotFrontage')\n",
    "\n",
    "# 수치형 변수들의 중앙값(median)으로 결측치 채워넣기\n",
    "print(\"The whole number of final_cat_vars\", len(list(num_all_vars)),'\\n')\n",
    "for i in num_all_vars:\n",
    "    all_df[i].fillna(value = all_df[i].median(), inplace = True)\n",
    "    \n",
    "# 최종 결과 확인\n",
    "check_na(all_df,10) \n",
    "\n",
    "# 모든 결측치 사라진 것 확인"
   ]
  },
  {
   "cell_type": "markdown",
   "metadata": {},
   "source": [
    "### 왜도(skewness)값 처리\n",
    "\n",
    "- 분포의 비대칭도를 나타내는 통계량 (자료의 대칭성을 확인하는 측도의 한 종류)\n",
    "- 정규 분포와 같이 대칭인 분포는 왜도값이 0이다.\n",
    "- 수치형 데이터에 적용가능하며, 예측 변수 활용할때 왜도의 보정은 매우 중요하다.\n",
    "- 왜도 문제를 해결한 데이터일때 예측 모델의 신뢰도를 더 높일 수 있기 때문이다.\n",
    "\n",
    "---\n",
    "![image](https://user-images.githubusercontent.com/74717033/132131943-f7a6e177-1d10-4a15-89d1-e655ab8fbf04.png)\n",
    "[Resource: 밥먹는 개발자](https://dining-developer.tistory.com/17)"
   ]
  },
  {
   "cell_type": "code",
   "execution_count": 23,
   "metadata": {
    "ExecuteTime": {
     "end_time": "2021-09-05T15:20:28.623211Z",
     "start_time": "2021-09-05T15:20:28.571371Z"
    }
   },
   "outputs": [
    {
     "data": {
      "text/plain": [
       "MiscVal         21.94\n",
       "PoolArea        16.89\n",
       "LotArea         12.87\n",
       "LowQualFinSF    12.08\n",
       "3SsnPorch       11.37\n",
       "KitchenAbvGr     4.32\n",
       "BsmtFinSF2       4.14\n",
       "EnclosedPorch    4.01\n",
       "ScreenPorch      3.95\n",
       "BsmtHalfBath     3.93\n",
       "MasVnrArea       2.62\n",
       "OpenPorchSF      2.53\n",
       "WoodDeckSF       1.84\n",
       "1stFlrSF         1.47\n",
       "BsmtFinSF1       1.43\n",
       "MSSubClass       1.37\n",
       "GrLivArea        1.27\n",
       "TotalBsmtSF      1.17\n",
       "BsmtUnfSF        0.92\n",
       "2ndFlrSF         0.86\n",
       "TotRmsAbvGrd     0.76\n",
       "Fireplaces       0.73\n",
       "HalfBath         0.70\n",
       "BsmtFullBath     0.63\n",
       "OverallCond      0.58\n",
       "BedroomAbvGr     0.33\n",
       "GarageArea       0.24\n",
       "OverallQual      0.20\n",
       "MoSold           0.20\n",
       "FullBath         0.16\n",
       "YrSold           0.13\n",
       "GarageCars      -0.22\n",
       "GarageYrBlt     -0.40\n",
       "YearRemodAdd    -0.45\n",
       "YearBuilt       -0.60\n",
       "dtype: float64"
      ]
     },
     "execution_count": 23,
     "metadata": {},
     "output_type": "execute_result"
    }
   ],
   "source": [
    "from scipy.stats import skew\n",
    "\n",
    "# 수치형 데이터 왜도 구하는 함수 생성\n",
    "def find_skew(x):\n",
    "    return skew(x)\n",
    "\n",
    "# 수치형 변수 왜도를 구하고 내림차순으로 정렬\n",
    "skew_features = all_df[num_all_vars].apply(find_skew).sort_values(ascending = False)\n",
    "skew_features"
   ]
  },
  {
   "cell_type": "code",
   "execution_count": null,
   "metadata": {},
   "outputs": [],
   "source": []
  }
 ],
 "metadata": {
  "kernelspec": {
   "display_name": "Python 3",
   "language": "python",
   "name": "python3"
  },
  "language_info": {
   "codemirror_mode": {
    "name": "ipython",
    "version": 3
   },
   "file_extension": ".py",
   "mimetype": "text/x-python",
   "name": "python",
   "nbconvert_exporter": "python",
   "pygments_lexer": "ipython3",
   "version": "3.8.5"
  },
  "toc": {
   "base_numbering": 1,
   "nav_menu": {},
   "number_sections": true,
   "sideBar": true,
   "skip_h1_title": false,
   "title_cell": "Table of Contents",
   "title_sidebar": "Contents",
   "toc_cell": false,
   "toc_position": {
    "height": "calc(100% - 180px)",
    "left": "10px",
    "top": "150px",
    "width": "308.736px"
   },
   "toc_section_display": true,
   "toc_window_display": true
  },
  "varInspector": {
   "cols": {
    "lenName": 16,
    "lenType": 16,
    "lenVar": 40
   },
   "kernels_config": {
    "python": {
     "delete_cmd_postfix": "",
     "delete_cmd_prefix": "del ",
     "library": "var_list.py",
     "varRefreshCmd": "print(var_dic_list())"
    },
    "r": {
     "delete_cmd_postfix": ") ",
     "delete_cmd_prefix": "rm(",
     "library": "var_list.r",
     "varRefreshCmd": "cat(var_dic_list()) "
    }
   },
   "position": {
    "height": "510.724px",
    "left": "1365.63px",
    "right": "20px",
    "top": "74.9886px",
    "width": "350px"
   },
   "types_to_exclude": [
    "module",
    "function",
    "builtin_function_or_method",
    "instance",
    "_Feature"
   ],
   "window_display": false
  }
 },
 "nbformat": 4,
 "nbformat_minor": 4
}
