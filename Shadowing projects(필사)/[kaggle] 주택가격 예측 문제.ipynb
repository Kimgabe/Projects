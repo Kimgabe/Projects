{
 "cells": [
  {
   "cell_type": "code",
   "execution_count": 23,
   "metadata": {
    "ExecuteTime": {
     "end_time": "2021-09-06T14:37:03.280416Z",
     "start_time": "2021-09-06T14:37:03.270414Z"
    }
   },
   "outputs": [],
   "source": [
    "# 기초 전처리\n",
    "import pandas as pd\n",
    "import numpy as np\n",
    "\n",
    "# 시각화\n",
    "import matplotlib.pyplot as plt\n",
    "import seaborn as sns\n",
    "import folium\n",
    "import os\n",
    "\n",
    "# 캔버스 사이즈 적용\n",
    "plt.rcParams['figure.figsize'] = (12, 9)\n",
    "\n",
    "# 컬럼 전체 확인 가능하도록 출력 범위 설정\n",
    "pd.set_option('display.max_columns', 500)\n",
    "pd.set_option('display.width', 10000)\n",
    "\n",
    "# 불필요한 경고 표시 생략\n",
    "import warnings\n",
    "warnings.filterwarnings(action = 'ignore')\n",
    "\n",
    "# pandas 결과값의 표현 범위 소수점 2자리수로 변경\n",
    "pd.options.display.float_format = '{:.2f}'.format\n",
    "\n",
    "# 파일 로드위한 directory 확인 및 현재 경로로 설정\n",
    "a = os.getcwd()\n",
    "os.chdir(a)"
   ]
  },
  {
   "cell_type": "markdown",
   "metadata": {},
   "source": [
    "# 0. 데이터 불러오기"
   ]
  },
  {
   "cell_type": "code",
   "execution_count": 24,
   "metadata": {
    "ExecuteTime": {
     "end_time": "2021-09-06T14:37:03.325970Z",
     "start_time": "2021-09-06T14:37:03.282456Z"
    }
   },
   "outputs": [
    {
     "name": "stdout",
     "output_type": "stream",
     "text": [
      "Data Loading is Done!\n"
     ]
    }
   ],
   "source": [
    "train = pd.read_csv('train.csv')\n",
    "test = pd.read_csv('test.csv') \n",
    "\n",
    "print('Data Loading is Done!')"
   ]
  },
  {
   "cell_type": "markdown",
   "metadata": {},
   "source": [
    "# 1. EDA & Preprocessing"
   ]
  },
  {
   "cell_type": "markdown",
   "metadata": {},
   "source": [
    "## Feature Engineering"
   ]
  },
  {
   "cell_type": "code",
   "execution_count": 25,
   "metadata": {
    "ExecuteTime": {
     "end_time": "2021-09-06T14:37:03.340902Z",
     "start_time": "2021-09-06T14:37:03.328933Z"
    }
   },
   "outputs": [
    {
     "name": "stdout",
     "output_type": "stream",
     "text": [
      "The shape of Train Data is: (1460, 81) \n",
      "\n",
      "The shape of Test Data is: (1459, 80)\n"
     ]
    }
   ],
   "source": [
    "# 현재 train & test 데이터의 형태 확인\n",
    "print(\"The shape of Train Data is:\", train.shape, \"\\n\")\n",
    "print(\"The shape of Test Data is:\", test.shape)"
   ]
  },
  {
   "cell_type": "code",
   "execution_count": 26,
   "metadata": {
    "ExecuteTime": {
     "end_time": "2021-09-06T14:37:03.371351Z",
     "start_time": "2021-09-06T14:37:03.345542Z"
    }
   },
   "outputs": [
    {
     "name": "stdout",
     "output_type": "stream",
     "text": [
      "<class 'pandas.core.frame.DataFrame'>\n",
      "RangeIndex: 1460 entries, 0 to 1459\n",
      "Data columns (total 81 columns):\n",
      " #   Column         Non-Null Count  Dtype  \n",
      "---  ------         --------------  -----  \n",
      " 0   Id             1460 non-null   int64  \n",
      " 1   MSSubClass     1460 non-null   int64  \n",
      " 2   MSZoning       1460 non-null   object \n",
      " 3   LotFrontage    1201 non-null   float64\n",
      " 4   LotArea        1460 non-null   int64  \n",
      " 5   Street         1460 non-null   object \n",
      " 6   Alley          91 non-null     object \n",
      " 7   LotShape       1460 non-null   object \n",
      " 8   LandContour    1460 non-null   object \n",
      " 9   Utilities      1460 non-null   object \n",
      " 10  LotConfig      1460 non-null   object \n",
      " 11  LandSlope      1460 non-null   object \n",
      " 12  Neighborhood   1460 non-null   object \n",
      " 13  Condition1     1460 non-null   object \n",
      " 14  Condition2     1460 non-null   object \n",
      " 15  BldgType       1460 non-null   object \n",
      " 16  HouseStyle     1460 non-null   object \n",
      " 17  OverallQual    1460 non-null   int64  \n",
      " 18  OverallCond    1460 non-null   int64  \n",
      " 19  YearBuilt      1460 non-null   int64  \n",
      " 20  YearRemodAdd   1460 non-null   int64  \n",
      " 21  RoofStyle      1460 non-null   object \n",
      " 22  RoofMatl       1460 non-null   object \n",
      " 23  Exterior1st    1460 non-null   object \n",
      " 24  Exterior2nd    1460 non-null   object \n",
      " 25  MasVnrType     1452 non-null   object \n",
      " 26  MasVnrArea     1452 non-null   float64\n",
      " 27  ExterQual      1460 non-null   object \n",
      " 28  ExterCond      1460 non-null   object \n",
      " 29  Foundation     1460 non-null   object \n",
      " 30  BsmtQual       1423 non-null   object \n",
      " 31  BsmtCond       1423 non-null   object \n",
      " 32  BsmtExposure   1422 non-null   object \n",
      " 33  BsmtFinType1   1423 non-null   object \n",
      " 34  BsmtFinSF1     1460 non-null   int64  \n",
      " 35  BsmtFinType2   1422 non-null   object \n",
      " 36  BsmtFinSF2     1460 non-null   int64  \n",
      " 37  BsmtUnfSF      1460 non-null   int64  \n",
      " 38  TotalBsmtSF    1460 non-null   int64  \n",
      " 39  Heating        1460 non-null   object \n",
      " 40  HeatingQC      1460 non-null   object \n",
      " 41  CentralAir     1460 non-null   object \n",
      " 42  Electrical     1459 non-null   object \n",
      " 43  1stFlrSF       1460 non-null   int64  \n",
      " 44  2ndFlrSF       1460 non-null   int64  \n",
      " 45  LowQualFinSF   1460 non-null   int64  \n",
      " 46  GrLivArea      1460 non-null   int64  \n",
      " 47  BsmtFullBath   1460 non-null   int64  \n",
      " 48  BsmtHalfBath   1460 non-null   int64  \n",
      " 49  FullBath       1460 non-null   int64  \n",
      " 50  HalfBath       1460 non-null   int64  \n",
      " 51  BedroomAbvGr   1460 non-null   int64  \n",
      " 52  KitchenAbvGr   1460 non-null   int64  \n",
      " 53  KitchenQual    1460 non-null   object \n",
      " 54  TotRmsAbvGrd   1460 non-null   int64  \n",
      " 55  Functional     1460 non-null   object \n",
      " 56  Fireplaces     1460 non-null   int64  \n",
      " 57  FireplaceQu    770 non-null    object \n",
      " 58  GarageType     1379 non-null   object \n",
      " 59  GarageYrBlt    1379 non-null   float64\n",
      " 60  GarageFinish   1379 non-null   object \n",
      " 61  GarageCars     1460 non-null   int64  \n",
      " 62  GarageArea     1460 non-null   int64  \n",
      " 63  GarageQual     1379 non-null   object \n",
      " 64  GarageCond     1379 non-null   object \n",
      " 65  PavedDrive     1460 non-null   object \n",
      " 66  WoodDeckSF     1460 non-null   int64  \n",
      " 67  OpenPorchSF    1460 non-null   int64  \n",
      " 68  EnclosedPorch  1460 non-null   int64  \n",
      " 69  3SsnPorch      1460 non-null   int64  \n",
      " 70  ScreenPorch    1460 non-null   int64  \n",
      " 71  PoolArea       1460 non-null   int64  \n",
      " 72  PoolQC         7 non-null      object \n",
      " 73  Fence          281 non-null    object \n",
      " 74  MiscFeature    54 non-null     object \n",
      " 75  MiscVal        1460 non-null   int64  \n",
      " 76  MoSold         1460 non-null   int64  \n",
      " 77  YrSold         1460 non-null   int64  \n",
      " 78  SaleType       1460 non-null   object \n",
      " 79  SaleCondition  1460 non-null   object \n",
      " 80  SalePrice      1460 non-null   int64  \n",
      "dtypes: float64(3), int64(35), object(43)\n",
      "memory usage: 924.0+ KB\n",
      "None\n"
     ]
    }
   ],
   "source": [
    "print(train.info())"
   ]
  },
  {
   "cell_type": "code",
   "execution_count": 27,
   "metadata": {
    "ExecuteTime": {
     "end_time": "2021-09-06T14:37:03.401335Z",
     "start_time": "2021-09-06T14:37:03.373346Z"
    }
   },
   "outputs": [
    {
     "name": "stdout",
     "output_type": "stream",
     "text": [
      "<class 'pandas.core.frame.DataFrame'>\n",
      "RangeIndex: 1459 entries, 0 to 1458\n",
      "Data columns (total 80 columns):\n",
      " #   Column         Non-Null Count  Dtype  \n",
      "---  ------         --------------  -----  \n",
      " 0   Id             1459 non-null   int64  \n",
      " 1   MSSubClass     1459 non-null   int64  \n",
      " 2   MSZoning       1455 non-null   object \n",
      " 3   LotFrontage    1232 non-null   float64\n",
      " 4   LotArea        1459 non-null   int64  \n",
      " 5   Street         1459 non-null   object \n",
      " 6   Alley          107 non-null    object \n",
      " 7   LotShape       1459 non-null   object \n",
      " 8   LandContour    1459 non-null   object \n",
      " 9   Utilities      1457 non-null   object \n",
      " 10  LotConfig      1459 non-null   object \n",
      " 11  LandSlope      1459 non-null   object \n",
      " 12  Neighborhood   1459 non-null   object \n",
      " 13  Condition1     1459 non-null   object \n",
      " 14  Condition2     1459 non-null   object \n",
      " 15  BldgType       1459 non-null   object \n",
      " 16  HouseStyle     1459 non-null   object \n",
      " 17  OverallQual    1459 non-null   int64  \n",
      " 18  OverallCond    1459 non-null   int64  \n",
      " 19  YearBuilt      1459 non-null   int64  \n",
      " 20  YearRemodAdd   1459 non-null   int64  \n",
      " 21  RoofStyle      1459 non-null   object \n",
      " 22  RoofMatl       1459 non-null   object \n",
      " 23  Exterior1st    1458 non-null   object \n",
      " 24  Exterior2nd    1458 non-null   object \n",
      " 25  MasVnrType     1443 non-null   object \n",
      " 26  MasVnrArea     1444 non-null   float64\n",
      " 27  ExterQual      1459 non-null   object \n",
      " 28  ExterCond      1459 non-null   object \n",
      " 29  Foundation     1459 non-null   object \n",
      " 30  BsmtQual       1415 non-null   object \n",
      " 31  BsmtCond       1414 non-null   object \n",
      " 32  BsmtExposure   1415 non-null   object \n",
      " 33  BsmtFinType1   1417 non-null   object \n",
      " 34  BsmtFinSF1     1458 non-null   float64\n",
      " 35  BsmtFinType2   1417 non-null   object \n",
      " 36  BsmtFinSF2     1458 non-null   float64\n",
      " 37  BsmtUnfSF      1458 non-null   float64\n",
      " 38  TotalBsmtSF    1458 non-null   float64\n",
      " 39  Heating        1459 non-null   object \n",
      " 40  HeatingQC      1459 non-null   object \n",
      " 41  CentralAir     1459 non-null   object \n",
      " 42  Electrical     1459 non-null   object \n",
      " 43  1stFlrSF       1459 non-null   int64  \n",
      " 44  2ndFlrSF       1459 non-null   int64  \n",
      " 45  LowQualFinSF   1459 non-null   int64  \n",
      " 46  GrLivArea      1459 non-null   int64  \n",
      " 47  BsmtFullBath   1457 non-null   float64\n",
      " 48  BsmtHalfBath   1457 non-null   float64\n",
      " 49  FullBath       1459 non-null   int64  \n",
      " 50  HalfBath       1459 non-null   int64  \n",
      " 51  BedroomAbvGr   1459 non-null   int64  \n",
      " 52  KitchenAbvGr   1459 non-null   int64  \n",
      " 53  KitchenQual    1458 non-null   object \n",
      " 54  TotRmsAbvGrd   1459 non-null   int64  \n",
      " 55  Functional     1457 non-null   object \n",
      " 56  Fireplaces     1459 non-null   int64  \n",
      " 57  FireplaceQu    729 non-null    object \n",
      " 58  GarageType     1383 non-null   object \n",
      " 59  GarageYrBlt    1381 non-null   float64\n",
      " 60  GarageFinish   1381 non-null   object \n",
      " 61  GarageCars     1458 non-null   float64\n",
      " 62  GarageArea     1458 non-null   float64\n",
      " 63  GarageQual     1381 non-null   object \n",
      " 64  GarageCond     1381 non-null   object \n",
      " 65  PavedDrive     1459 non-null   object \n",
      " 66  WoodDeckSF     1459 non-null   int64  \n",
      " 67  OpenPorchSF    1459 non-null   int64  \n",
      " 68  EnclosedPorch  1459 non-null   int64  \n",
      " 69  3SsnPorch      1459 non-null   int64  \n",
      " 70  ScreenPorch    1459 non-null   int64  \n",
      " 71  PoolArea       1459 non-null   int64  \n",
      " 72  PoolQC         3 non-null      object \n",
      " 73  Fence          290 non-null    object \n",
      " 74  MiscFeature    51 non-null     object \n",
      " 75  MiscVal        1459 non-null   int64  \n",
      " 76  MoSold         1459 non-null   int64  \n",
      " 77  YrSold         1459 non-null   int64  \n",
      " 78  SaleType       1458 non-null   object \n",
      " 79  SaleCondition  1459 non-null   object \n",
      "dtypes: float64(11), int64(26), object(43)\n",
      "memory usage: 912.0+ KB\n",
      "None\n"
     ]
    }
   ],
   "source": [
    "print(test.info())"
   ]
  },
  {
   "cell_type": "markdown",
   "metadata": {},
   "source": [
    "데이터에 결측치가 있는 것이 발견된다. 피처 엔지니어링을 통해 해당 변수들을 전처리할 필요가 있다."
   ]
  },
  {
   "cell_type": "markdown",
   "metadata": {},
   "source": [
    "## 이상치 제거\n",
    "\n",
    "- 수치형 데이터에서 가장 빈번하게 나타난다.\n",
    "    - 예측 범위가 넓은 데이터(e.g: 가격)은 데이터의 범위가 클 수록 예측 정확도가 떨어지기 때문에 이상치 확인은 중요하다.\n",
    "- 이상치 제거의 기준을 단순히 숫자로만 판단하면 안된다.\n",
    "    - '이상치 = 적절하지 않게 측정된 데이터' 라는 개념으로 인지하는게 중요.\n",
    "\n",
    "> e.g) \n",
    "- OverallQual: Rates the overall material and finish of the house\n",
    "\n",
    "- OverallCond: Rates the overall condition of the house\n",
    "\n",
    "와 같은 데이터는 설문 조사자의 주관적 편향이 들어갈 우려가 있는 객관적이지 못한 데이터 이다.\n",
    "이러한 데이터 또한 이상치로 간주할 수 있을 것이다."
   ]
  },
  {
   "cell_type": "code",
   "execution_count": 54,
   "metadata": {
    "ExecuteTime": {
     "end_time": "2021-09-06T15:14:17.750759Z",
     "start_time": "2021-09-06T15:14:17.740793Z"
    }
   },
   "outputs": [],
   "source": [
    "outlier = train[['OverallCond','OverallQual','SalePrice']]"
   ]
  },
  {
   "cell_type": "code",
   "execution_count": 56,
   "metadata": {
    "ExecuteTime": {
     "end_time": "2021-09-06T15:20:16.108400Z",
     "start_time": "2021-09-06T15:20:16.069719Z"
    }
   },
   "outputs": [
    {
     "ename": "ValueError",
     "evalue": "Expected the given number of width ratios to match the number of columns of the grid",
     "output_type": "error",
     "traceback": [
      "\u001b[1;31m---------------------------------------------------------------------------\u001b[0m",
      "\u001b[1;31mValueError\u001b[0m                                Traceback (most recent call last)",
      "\u001b[1;32m<ipython-input-56-f7946a9e2958>\u001b[0m in \u001b[0;36m<module>\u001b[1;34m\u001b[0m\n\u001b[0;32m      5\u001b[0m \u001b[1;33m\u001b[0m\u001b[0m\n\u001b[0;32m      6\u001b[0m \u001b[1;31m### 1. gridspec preparation\u001b[0m\u001b[1;33m\u001b[0m\u001b[1;33m\u001b[0m\u001b[1;33m\u001b[0m\u001b[0m\n\u001b[1;32m----> 7\u001b[1;33m \u001b[0mspec\u001b[0m \u001b[1;33m=\u001b[0m \u001b[0mfig\u001b[0m\u001b[1;33m.\u001b[0m\u001b[0madd_gridspec\u001b[0m\u001b[1;33m(\u001b[0m\u001b[0mncols\u001b[0m\u001b[1;33m=\u001b[0m\u001b[1;36m2\u001b[0m\u001b[1;33m,\u001b[0m \u001b[0mnrows\u001b[0m\u001b[1;33m=\u001b[0m\u001b[1;36m2\u001b[0m\u001b[1;33m,\u001b[0m \u001b[0mwidth_ratios\u001b[0m\u001b[1;33m=\u001b[0m\u001b[0mwidths\u001b[0m\u001b[1;33m,\u001b[0m \u001b[0mheight_ratios\u001b[0m\u001b[1;33m=\u001b[0m\u001b[0mheights\u001b[0m\u001b[1;33m)\u001b[0m\u001b[1;33m\u001b[0m\u001b[1;33m\u001b[0m\u001b[0m\n\u001b[0m\u001b[0;32m      8\u001b[0m \u001b[1;33m\u001b[0m\u001b[0m\n\u001b[0;32m      9\u001b[0m \u001b[1;31m### 2. setting axes\u001b[0m\u001b[1;33m\u001b[0m\u001b[1;33m\u001b[0m\u001b[1;33m\u001b[0m\u001b[0m\n",
      "\u001b[1;32m~\\anaconda3\\lib\\site-packages\\matplotlib\\figure.py\u001b[0m in \u001b[0;36madd_gridspec\u001b[1;34m(self, nrows, ncols, **kwargs)\u001b[0m\n\u001b[0;32m   2802\u001b[0m \u001b[1;33m\u001b[0m\u001b[0m\n\u001b[0;32m   2803\u001b[0m         \u001b[0m_\u001b[0m \u001b[1;33m=\u001b[0m \u001b[0mkwargs\u001b[0m\u001b[1;33m.\u001b[0m\u001b[0mpop\u001b[0m\u001b[1;33m(\u001b[0m\u001b[1;34m'figure'\u001b[0m\u001b[1;33m,\u001b[0m \u001b[1;32mNone\u001b[0m\u001b[1;33m)\u001b[0m  \u001b[1;31m# pop in case user has added this...\u001b[0m\u001b[1;33m\u001b[0m\u001b[1;33m\u001b[0m\u001b[0m\n\u001b[1;32m-> 2804\u001b[1;33m         \u001b[0mgs\u001b[0m \u001b[1;33m=\u001b[0m \u001b[0mGridSpec\u001b[0m\u001b[1;33m(\u001b[0m\u001b[0mnrows\u001b[0m\u001b[1;33m=\u001b[0m\u001b[0mnrows\u001b[0m\u001b[1;33m,\u001b[0m \u001b[0mncols\u001b[0m\u001b[1;33m=\u001b[0m\u001b[0mncols\u001b[0m\u001b[1;33m,\u001b[0m \u001b[0mfigure\u001b[0m\u001b[1;33m=\u001b[0m\u001b[0mself\u001b[0m\u001b[1;33m,\u001b[0m \u001b[1;33m**\u001b[0m\u001b[0mkwargs\u001b[0m\u001b[1;33m)\u001b[0m\u001b[1;33m\u001b[0m\u001b[1;33m\u001b[0m\u001b[0m\n\u001b[0m\u001b[0;32m   2805\u001b[0m         \u001b[0mself\u001b[0m\u001b[1;33m.\u001b[0m\u001b[0m_gridspecs\u001b[0m\u001b[1;33m.\u001b[0m\u001b[0mappend\u001b[0m\u001b[1;33m(\u001b[0m\u001b[0mgs\u001b[0m\u001b[1;33m)\u001b[0m\u001b[1;33m\u001b[0m\u001b[1;33m\u001b[0m\u001b[0m\n\u001b[0;32m   2806\u001b[0m         \u001b[1;32mreturn\u001b[0m \u001b[0mgs\u001b[0m\u001b[1;33m\u001b[0m\u001b[1;33m\u001b[0m\u001b[0m\n",
      "\u001b[1;32m~\\anaconda3\\lib\\site-packages\\matplotlib\\gridspec.py\u001b[0m in \u001b[0;36m__init__\u001b[1;34m(self, nrows, ncols, figure, left, bottom, right, top, wspace, hspace, width_ratios, height_ratios)\u001b[0m\n\u001b[0;32m    418\u001b[0m         \u001b[0mself\u001b[0m\u001b[1;33m.\u001b[0m\u001b[0mfigure\u001b[0m \u001b[1;33m=\u001b[0m \u001b[0mfigure\u001b[0m\u001b[1;33m\u001b[0m\u001b[1;33m\u001b[0m\u001b[0m\n\u001b[0;32m    419\u001b[0m \u001b[1;33m\u001b[0m\u001b[0m\n\u001b[1;32m--> 420\u001b[1;33m         GridSpecBase.__init__(self, nrows, ncols,\n\u001b[0m\u001b[0;32m    421\u001b[0m                               \u001b[0mwidth_ratios\u001b[0m\u001b[1;33m=\u001b[0m\u001b[0mwidth_ratios\u001b[0m\u001b[1;33m,\u001b[0m\u001b[1;33m\u001b[0m\u001b[1;33m\u001b[0m\u001b[0m\n\u001b[0;32m    422\u001b[0m                               height_ratios=height_ratios)\n",
      "\u001b[1;32m~\\anaconda3\\lib\\site-packages\\matplotlib\\gridspec.py\u001b[0m in \u001b[0;36m__init__\u001b[1;34m(self, nrows, ncols, height_ratios, width_ratios)\u001b[0m\n\u001b[0;32m     53\u001b[0m         \u001b[0mself\u001b[0m\u001b[1;33m.\u001b[0m\u001b[0m_nrows\u001b[0m\u001b[1;33m,\u001b[0m \u001b[0mself\u001b[0m\u001b[1;33m.\u001b[0m\u001b[0m_ncols\u001b[0m \u001b[1;33m=\u001b[0m \u001b[0mnrows\u001b[0m\u001b[1;33m,\u001b[0m \u001b[0mncols\u001b[0m\u001b[1;33m\u001b[0m\u001b[1;33m\u001b[0m\u001b[0m\n\u001b[0;32m     54\u001b[0m         \u001b[0mself\u001b[0m\u001b[1;33m.\u001b[0m\u001b[0mset_height_ratios\u001b[0m\u001b[1;33m(\u001b[0m\u001b[0mheight_ratios\u001b[0m\u001b[1;33m)\u001b[0m\u001b[1;33m\u001b[0m\u001b[1;33m\u001b[0m\u001b[0m\n\u001b[1;32m---> 55\u001b[1;33m         \u001b[0mself\u001b[0m\u001b[1;33m.\u001b[0m\u001b[0mset_width_ratios\u001b[0m\u001b[1;33m(\u001b[0m\u001b[0mwidth_ratios\u001b[0m\u001b[1;33m)\u001b[0m\u001b[1;33m\u001b[0m\u001b[1;33m\u001b[0m\u001b[0m\n\u001b[0m\u001b[0;32m     56\u001b[0m \u001b[1;33m\u001b[0m\u001b[0m\n\u001b[0;32m     57\u001b[0m     \u001b[1;32mdef\u001b[0m \u001b[0m__repr__\u001b[0m\u001b[1;33m(\u001b[0m\u001b[0mself\u001b[0m\u001b[1;33m)\u001b[0m\u001b[1;33m:\u001b[0m\u001b[1;33m\u001b[0m\u001b[1;33m\u001b[0m\u001b[0m\n",
      "\u001b[1;32m~\\anaconda3\\lib\\site-packages\\matplotlib\\gridspec.py\u001b[0m in \u001b[0;36mset_width_ratios\u001b[1;34m(self, width_ratios)\u001b[0m\n\u001b[0;32m    106\u001b[0m         \"\"\"\n\u001b[0;32m    107\u001b[0m         \u001b[1;32mif\u001b[0m \u001b[0mwidth_ratios\u001b[0m \u001b[1;32mis\u001b[0m \u001b[1;32mnot\u001b[0m \u001b[1;32mNone\u001b[0m \u001b[1;32mand\u001b[0m \u001b[0mlen\u001b[0m\u001b[1;33m(\u001b[0m\u001b[0mwidth_ratios\u001b[0m\u001b[1;33m)\u001b[0m \u001b[1;33m!=\u001b[0m \u001b[0mself\u001b[0m\u001b[1;33m.\u001b[0m\u001b[0m_ncols\u001b[0m\u001b[1;33m:\u001b[0m\u001b[1;33m\u001b[0m\u001b[1;33m\u001b[0m\u001b[0m\n\u001b[1;32m--> 108\u001b[1;33m             raise ValueError('Expected the given number of width ratios to '\n\u001b[0m\u001b[0;32m    109\u001b[0m                              'match the number of columns of the grid')\n\u001b[0;32m    110\u001b[0m         \u001b[0mself\u001b[0m\u001b[1;33m.\u001b[0m\u001b[0m_col_width_ratios\u001b[0m \u001b[1;33m=\u001b[0m \u001b[0mwidth_ratios\u001b[0m\u001b[1;33m\u001b[0m\u001b[1;33m\u001b[0m\u001b[0m\n",
      "\u001b[1;31mValueError\u001b[0m: Expected the given number of width ratios to match the number of columns of the grid"
     ]
    },
    {
     "data": {
      "text/plain": [
       "<Figure size 864x504 with 0 Axes>"
      ]
     },
     "metadata": {},
     "output_type": "display_data"
    }
   ],
   "source": [
    "fig = plt.figure(figsize=(12,7))\n",
    "\n",
    "widths = [4, 4, 1]\n",
    "heights = [1, 4]\n",
    "\n",
    "### 1. gridspec preparation\n",
    "spec = fig.add_gridspec(ncols=2, nrows=2, width_ratios=widths, height_ratios=heights)\n",
    "\n",
    "### 2. setting axes\n",
    "axs = {}\n",
    "for i in range(len(heights)*len(widths)):\n",
    "    axs[i] = fig.add_subplot(spec[i//len(widths), i%len(widths)])\n",
    "    axs[i].text(0.5, 0.5, f\"axs[{i}]\", fontdict={\"horizontalalignment\":\"center\", \"color\":\"gray\"})"
   ]
  },
  {
   "cell_type": "code",
   "execution_count": 49,
   "metadata": {
    "ExecuteTime": {
     "end_time": "2021-09-06T14:49:54.575900Z",
     "start_time": "2021-09-06T14:49:53.984301Z"
    }
   },
   "outputs": [
    {
     "data": {
      "image/png": "[encoded data removed]",
      "text/plain": [
       "<Figure size 576x576 with 3 Axes>"
      ]
     },
     "metadata": {
      "needs_background": "light"
     },
     "output_type": "display_data"
    }
   ],
   "source": [
    "sns.jointplot(x=\"OverallCond\", y=\"SalePrice\", height=8, data=train, kind=\"hex\")\n",
    "plt.show()"
   ]
  },
  {
   "cell_type": "markdown",
   "metadata": {},
   "source": [
    "- OverallQual, OverallCond 데이터의 대부분은 4 이상인 값들이 대부분이다.\n",
    "- 대부분의 가격은 100000 ~ 200000 사이에 형성되어 있다.\n",
    "- 두 조건을 감안해 "
   ]
  },
  {
   "cell_type": "code",
   "execution_count": 22,
   "metadata": {
    "ExecuteTime": {
     "end_time": "2021-09-06T14:36:34.163199Z",
     "start_time": "2021-09-06T14:36:34.146229Z"
    }
   },
   "outputs": [
    {
     "name": "stdout",
     "output_type": "stream",
     "text": [
      "(1458, 81)\n"
     ]
    }
   ],
   "source": [
    "# OverallQual , OverallCond 데이터중 이상치 제거\n",
    "# 시각화 결과와 같이 대부부분의 SalePrice 데이터는 \n",
    "OverallQual 의 경우 대부분의 데이터가 4\n",
    "\n",
    "# OverallQual rate값이 4이하이면서 SalePrice가 200000 이상인 데이터 제거\n",
    "train.drop( train[(train['OverallQual']<4 ) & ( train['SalePrice']>200000) ].index, inplace=True)\n",
    "           \n",
    "# OverallCond rate값이 4이하이면서 SalePrice가 200000 이상인 데이터 제거\n",
    "train.drop( train[(train['OverallCond']<4 ) & ( train['SalePrice']>200000) ].index, inplace=True)\n",
    "           \n",
    "train.reset_index(drop=True, inplace=True)\n",
    "           \n",
    "#결과 확인\n",
    "# 기존 train shape 결과 : The shape of Train Data is: (1460, 81) \n",
    "print(train.shape) "
   ]
  },
  {
   "cell_type": "markdown",
   "metadata": {},
   "source": [
    "## 종속 변수(SalePrice)의 로그화"
   ]
  },
  {
   "cell_type": "markdown",
   "metadata": {},
   "source": [
    "### SalePrice 시각화"
   ]
  },
  {
   "cell_type": "code",
   "execution_count": 9,
   "metadata": {
    "ExecuteTime": {
     "end_time": "2021-09-06T07:37:59.776566Z",
     "start_time": "2021-09-06T07:37:59.762604Z"
    }
   },
   "outputs": [],
   "source": [
    "from scipy.stats import norm"
   ]
  },
  {
   "cell_type": "code",
   "execution_count": 10,
   "metadata": {
    "ExecuteTime": {
     "end_time": "2021-09-06T07:38:00.108346Z",
     "start_time": "2021-09-06T07:37:59.778561Z"
    }
   },
   "outputs": [
    {
     "name": "stdout",
     "output_type": "stream",
     "text": [
      "The value of mu before log transformation is: 180761.24142661178 \n",
      "\n",
      "The value of sigma after log transformation is: 79270.93617295024\n"
     ]
    },
    {
     "data": {
      "image/png": "[encoded data removed]",
      "text/plain": [
       "<Figure size 720x432 with 1 Axes>"
      ]
     },
     "metadata": {
      "needs_background": "light"
     },
     "output_type": "display_data"
    }
   ],
   "source": [
    "(mu, sigma) = norm.fit(train['SalePrice'])\n",
    "print(\"The value of mu before log transformation is:\" , mu, \"\\n\")\n",
    "print(\"The value of sigma after log transformation is:\" , sigma)\n",
    "\n",
    "# 캔버스 세팅\n",
    "fig, ax = plt.subplots(figsize=(10,6))\n",
    "\n",
    "# Histogram 데이터 입력\n",
    "sns.histplot(train['SalePrice'], color ='b', stat='probability')\n",
    "\n",
    "# 축 설정\n",
    "ax.xaxis.grid(False) \n",
    "ax.set(ylabel = 'Frequency')\n",
    "ax.set(xlabel = 'Sales Price')\n",
    "ax.set(title = 'SalePrice distribution')\n",
    "\n",
    "# 가격 평균선 입력\n",
    "plt.axvline(mu, color='r', linestyle = '--')\n",
    "\n",
    "# 가격 평균선 text 설정\n",
    "plt.text(mu+10000, 0.11, 'Mean of SalePrice', rotation = 0, color = 'r')\n",
    "\n",
    "fig.show()"
   ]
  },
  {
   "cell_type": "markdown",
   "metadata": {},
   "source": [
    "- 주택 가격이 정규분포 형태를 이루지 않고 있다.\n",
    "- 일반적인 선형 회귀는 각 데이터가 '정규분포를 만족한다' 를 전제로 한다.\n",
    "- 따라서 해당 데이터를 np.log1p() 를 활용해 SalePrice를 로그화 한다."
   ]
  },
  {
   "cell_type": "code",
   "execution_count": 11,
   "metadata": {
    "ExecuteTime": {
     "end_time": "2021-09-06T07:38:00.428938Z",
     "start_time": "2021-09-06T07:38:00.110887Z"
    }
   },
   "outputs": [
    {
     "name": "stdout",
     "output_type": "stream",
     "text": [
      "The value of mu before log transformation is: 12.0233397799989 \n",
      "\n",
      "The value of sigma after log transformation is: 0.3989191793099824\n"
     ]
    },
    {
     "data": {
      "image/png": "[encoded data removed]",
      "text/plain": [
       "<Figure size 720x432 with 1 Axes>"
      ]
     },
     "metadata": {
      "needs_background": "light"
     },
     "output_type": "display_data"
    }
   ],
   "source": [
    "# SalePrice 로그화\n",
    "train['SalePrice'] = np.log1p(train['SalePrice'])\n",
    "\n",
    "(mu, sigma) = norm.fit(train['SalePrice'])\n",
    "print(\"The value of mu before log transformation is:\" , mu, \"\\n\")\n",
    "print(\"The value of sigma after log transformation is:\" , sigma)\n",
    "\n",
    "# 캔버스 세팅\n",
    "fig, ax = plt.subplots(figsize=(10,6))\n",
    "\n",
    "# Histogram 데이터 입력\n",
    "sns.histplot(train['SalePrice'], color ='r', stat='probability')\n",
    "\n",
    "# 축 설정\n",
    "ax.xaxis.grid(False) \n",
    "ax.set(ylabel = 'Frequency')\n",
    "ax.set(xlabel = 'Sales Price')\n",
    "ax.set(title = 'SalePrice distribution')\n",
    "\n",
    "# 가격 평균선 입력\n",
    "plt.axvline(mu, color='b', linestyle = '--')\n",
    "\n",
    "# 가격 평균선 text 설정\n",
    "plt.text(mu+0.05, 0.111, 'Mean of SalePrice', rotation = 0, color = 'b')\n",
    "plt.ylim(0, 0.12)\n",
    "\n",
    "fig.show()"
   ]
  },
  {
   "cell_type": "markdown",
   "metadata": {},
   "source": [
    "## 데이터 합치기 (Train + Test)"
   ]
  },
  {
   "cell_type": "code",
   "execution_count": 12,
   "metadata": {
    "ExecuteTime": {
     "end_time": "2021-09-06T07:38:00.444421Z",
     "start_time": "2021-09-06T07:38:00.430810Z"
    }
   },
   "outputs": [
    {
     "name": "stdout",
     "output_type": "stream",
     "text": [
      "The shape of Train Data is: (1458, 80) \n",
      "\n",
      "The shape of Test Data is: (1459, 79)\n"
     ]
    }
   ],
   "source": [
    "# 입력변수 = 각 컬럼의 ID는 별도 저장\n",
    "train_ID = train['Id']\n",
    "test_ID = test['Id']\n",
    "\n",
    "# ID 제외 나머지 컬럼만 데이터에 남김\n",
    "train.drop(['Id'], axis = 1, inplace = True)\n",
    "test.drop(['Id'], axis = 1, inplace = True)\n",
    "\n",
    "# 결과 확인\n",
    "print(\"The shape of Train Data is:\", train.shape, \"\\n\")\n",
    "print(\"The shape of Test Data is:\", test.shape)"
   ]
  },
  {
   "cell_type": "code",
   "execution_count": 13,
   "metadata": {
    "ExecuteTime": {
     "end_time": "2021-09-06T07:38:00.459382Z",
     "start_time": "2021-09-06T07:38:00.446387Z"
    }
   },
   "outputs": [
    {
     "name": "stdout",
     "output_type": "stream",
     "text": [
      "The shape of Train Data is: (1458, 79) \n",
      "\n",
      "The shape of Test Data is: (1459, 79) \n",
      "\n",
      "The shape of y label is: (1458,)\n"
     ]
    }
   ],
   "source": [
    "# SalePrice 별도 추출 및 저장\n",
    "\n",
    "y = train['SalePrice'].reset_index(drop = True)\n",
    "train = train.drop('SalePrice', axis = 1)\n",
    "\n",
    "# 결과 확인\n",
    "print(\"The shape of Train Data is:\", train.shape, \"\\n\")\n",
    "print(\"The shape of Test Data is:\", test.shape, \"\\n\")\n",
    "print(\"The shape of y label is:\", y.shape)"
   ]
  },
  {
   "cell_type": "markdown",
   "metadata": {},
   "source": [
    "변수의 개수가 모두 동일하게 되어 두 데이터를 합칠 수 있다."
   ]
  },
  {
   "cell_type": "code",
   "execution_count": 14,
   "metadata": {
    "ExecuteTime": {
     "end_time": "2021-09-06T07:38:00.490093Z",
     "start_time": "2021-09-06T07:38:00.462344Z"
    }
   },
   "outputs": [
    {
     "name": "stdout",
     "output_type": "stream",
     "text": [
      "The shape of 'all_data' is: (2917, 79)\n"
     ]
    }
   ],
   "source": [
    "all_df = pd.concat([train, test]).reset_index(drop=True)\n",
    "print(\"The shape of 'all_data' is:\", all_df.shape )"
   ]
  },
  {
   "cell_type": "markdown",
   "metadata": {},
   "source": [
    "### 결측치 처리\n",
    "\n",
    "- 결측치 : 중간에 데이터 값이 비어 있는 경우."
   ]
  },
  {
   "cell_type": "markdown",
   "metadata": {},
   "source": [
    "#### 결측치 확인"
   ]
  },
  {
   "cell_type": "code",
   "execution_count": 15,
   "metadata": {
    "ExecuteTime": {
     "end_time": "2021-09-06T07:38:00.505649Z",
     "start_time": "2021-09-06T07:38:00.492052Z"
    }
   },
   "outputs": [],
   "source": [
    "# head_num : 결과 출력할때 haed()의 수\n",
    "\n",
    "# df의 null값 비율 체크해서 비율로 변환 & 내림차순 정렬 함수\n",
    "def check_na(data, head_num):\n",
    "    \"\"\"결측치 확인하여 비율로 변환\"\"\"\n",
    "    isnull_ratio = (data.isnull().sum() / len(data)) * 100 \n",
    "    data_na = isnull_ratio.drop(isnull_ratio[isnull_ratio == 0].index).sort_values(ascending = False)\n",
    "    missing_data = pd.DataFrame({'Missing Ratio' : data_na,\n",
    "                                    'Data Type' : data.dtypes[data_na.index]})\n",
    "    print(\"결측치 데이터 컬럼 및 건수 : \\n\", missing_data.head(head_num))"
   ]
  },
  {
   "cell_type": "code",
   "execution_count": 16,
   "metadata": {
    "ExecuteTime": {
     "end_time": "2021-09-06T07:38:00.535639Z",
     "start_time": "2021-09-06T07:38:00.507648Z"
    }
   },
   "outputs": [
    {
     "name": "stdout",
     "output_type": "stream",
     "text": [
      "결측치 데이터 컬럼 및 건수 : \n",
      "               Missing Ratio Data Type\n",
      "PoolQC                99.66    object\n",
      "MiscFeature           96.40    object\n",
      "Alley                 93.21    object\n",
      "Fence                 80.43    object\n",
      "FireplaceQu           48.68    object\n",
      "LotFrontage           16.63   float64\n",
      "GarageFinish           5.45    object\n",
      "GarageQual             5.45    object\n",
      "GarageCond             5.45    object\n",
      "GarageYrBlt            5.45   float64\n",
      "GarageType             5.38    object\n",
      "BsmtExposure           2.81    object\n",
      "BsmtCond               2.81    object\n",
      "BsmtQual               2.78    object\n",
      "BsmtFinType2           2.74    object\n",
      "BsmtFinType1           2.71    object\n",
      "MasVnrType             0.79    object\n",
      "MasVnrArea             0.75   float64\n",
      "MSZoning               0.14    object\n",
      "BsmtFullBath           0.07   float64\n"
     ]
    }
   ],
   "source": [
    "# 결측치 확인\n",
    "check_na(all_df, 20)"
   ]
  },
  {
   "cell_type": "code",
   "execution_count": 17,
   "metadata": {
    "ExecuteTime": {
     "end_time": "2021-09-06T07:38:00.565500Z",
     "start_time": "2021-09-06T07:38:00.537605Z"
    }
   },
   "outputs": [
    {
     "name": "stdout",
     "output_type": "stream",
     "text": [
      "결측치 데이터 컬럼 및 건수 : \n",
      "               Missing Ratio Data Type\n",
      "GarageCond             5.45    object\n",
      "GarageQual             5.45    object\n",
      "GarageYrBlt            5.45   float64\n",
      "GarageFinish           5.45    object\n",
      "GarageType             5.38    object\n",
      "BsmtCond               2.81    object\n",
      "BsmtExposure           2.81    object\n",
      "BsmtQual               2.78    object\n",
      "BsmtFinType2           2.74    object\n",
      "BsmtFinType1           2.71    object\n",
      "MasVnrType             0.79    object\n",
      "MasVnrArea             0.75   float64\n",
      "MSZoning               0.14    object\n",
      "Functional             0.07    object\n",
      "Utilities              0.07    object\n",
      "BsmtFullBath           0.07   float64\n",
      "BsmtHalfBath           0.07   float64\n",
      "GarageArea             0.03   float64\n",
      "GarageCars             0.03   float64\n",
      "TotalBsmtSF            0.03   float64\n"
     ]
    }
   ],
   "source": [
    "# 결측치 비율이 평균 이상인 컬럼 (PoolQC, MiscFeature, Alley, Fence, FireplaceQu, LotFrontage) 제거\n",
    "\n",
    "all_df.drop(['PoolQC', 'MiscFeature', 'Alley', 'Fence', 'FireplaceQu', 'LotFrontage'], axis = 1, inplace = True)\n",
    "check_na(all_df, 20)"
   ]
  },
  {
   "cell_type": "markdown",
   "metadata": {},
   "source": [
    "#### 문자열 결측치 처리\n",
    "\n",
    "1) 방법 1. 각 변수를 확인해 개별적으로 필요 데이터를 채워넣는 방식\n",
    "- 문자열 결측치 : 빈도수 위주로 채워넣기 (출현 빈도가 가장 높은 문자열로 일괄 처리)\n",
    "- 수치 데이터 결측치 : 평균(mean) or 중간값(median) 으로 채워넣기\n",
    "\n",
    "2) 방법 2. 일괄적으로 0 or None 값을 채워넣기\n",
    "- fillna() 함수로 일괄처리 가능"
   ]
  },
  {
   "cell_type": "markdown",
   "metadata": {},
   "source": [
    "방법 1 사용 - 문자열 데이터 최빈값으로 채워넣기"
   ]
  },
  {
   "cell_type": "code",
   "execution_count": 18,
   "metadata": {
    "ExecuteTime": {
     "end_time": "2021-09-06T07:38:00.641497Z",
     "start_time": "2021-09-06T07:38:00.567464Z"
    }
   },
   "outputs": [
    {
     "name": "stdout",
     "output_type": "stream",
     "text": [
      "The whole number of all_vars 43 \n",
      "\n",
      "The whole number of final_cat_vars 38 \n",
      "\n",
      "결측치 데이터 컬럼 및 건수 : \n",
      "               Missing Ratio Data Type\n",
      "GarageYrBlt            5.45   float64\n",
      "MasVnrArea             0.75   float64\n",
      "BsmtFullBath           0.07   float64\n",
      "BsmtHalfBath           0.07   float64\n",
      "BsmtFinSF1             0.03   float64\n",
      "BsmtFinSF2             0.03   float64\n",
      "BsmtUnfSF              0.03   float64\n",
      "TotalBsmtSF            0.03   float64\n",
      "GarageCars             0.03   float64\n",
      "GarageArea             0.03   float64\n",
      "None\n"
     ]
    }
   ],
   "source": [
    "# train에서 dtype이 object인 변수명 별도 추출\n",
    "cat_all_vars = train.select_dtypes(exclude = [np.number])\n",
    "print(\"The whole number of all_vars\", len(list(cat_all_vars)),'\\n')\n",
    "\n",
    "\n",
    "# 기존에 결측치 문제로 제거한 변수를 제외한 다른 변수들에 적용하기 위해 제거된 변수들을 제외\n",
    "# 기존에 제거한 변수들 중 object 형태의 변수들만 범위로 지정\n",
    "final_cat_vars = []\n",
    "for v in cat_all_vars: # train의 모든 object 변수들중에\n",
    "    if v not in ['PoolQC', 'MiscFeature', 'Alley', 'Fence', 'FireplaceQu']: # drop한 변수외의 변수들을\n",
    "        final_cat_vars.append(v)  # final_cat_vars에 append하기\n",
    "print(\"The whole number of final_cat_vars\", len(list(final_cat_vars)),'\\n')\n",
    "\n",
    "# 각 변수별로 최빈값(최빈단어)로 fillna\n",
    "for i in final_cat_vars:\n",
    "    all_df[i] = all_df[i].fillna(i).mode()[0]\n",
    "    \n",
    "print(check_na(all_df,15)) # float에만 null값이 남아있고, 모든 object에서의 null값은 대체되었다."
   ]
  },
  {
   "cell_type": "markdown",
   "metadata": {},
   "source": [
    "방법 1 사용 - 수치형데이터 (median 으로 채워넣기)"
   ]
  },
  {
   "cell_type": "code",
   "execution_count": 19,
   "metadata": {
    "ExecuteTime": {
     "end_time": "2021-09-06T07:38:00.686509Z",
     "start_time": "2021-09-06T07:38:00.643492Z"
    }
   },
   "outputs": [
    {
     "name": "stdout",
     "output_type": "stream",
     "text": [
      "The whole number of all_vars 36 \n",
      "\n",
      "The whole number of final_cat_vars 35 \n",
      "\n",
      "결측치 데이터 컬럼 및 건수 : \n",
      " Empty DataFrame\n",
      "Columns: [Missing Ratio, Data Type]\n",
      "Index: []\n"
     ]
    }
   ],
   "source": [
    "\n",
    "# train 에서 숫자형 변수의 리스트 생성\n",
    "num_all_vars = list(train.select_dtypes(include=[np.number]))\n",
    "print(\"The whole number of all_vars\", len(list(num_all_vars)),'\\n')\n",
    "\n",
    "# 결측치 비율 기준 제거한 숫자형 변수는 1개\n",
    "# 간단하게 remove() 를 써서 drop\n",
    "num_all_vars.remove('LotFrontage')\n",
    "\n",
    "# 수치형 변수들의 중앙값(median)으로 결측치 채워넣기\n",
    "print(\"The whole number of final_cat_vars\", len(list(num_all_vars)),'\\n')\n",
    "for i in num_all_vars:\n",
    "    all_df[i].fillna(value = all_df[i].median(), inplace = True)\n",
    "    \n",
    "# 최종 결과 확인\n",
    "check_na(all_df,10) \n",
    "\n",
    "# 모든 결측치 사라진 것 확인"
   ]
  },
  {
   "cell_type": "markdown",
   "metadata": {},
   "source": [
    "### 왜도(skewness)값 처리\n",
    "\n",
    "- 분포의 비대칭도를 나타내는 통계량 (자료의 대칭성을 확인하는 측도의 한 종류)\n",
    "- 정규 분포와 같이 대칭인 분포는 왜도값이 0이다.\n",
    "- 수치형 데이터에 적용가능하며, 예측 변수 활용할때 왜도의 보정은 매우 중요하다.\n",
    "- 왜도 문제를 해결한 데이터일때 예측 모델의 신뢰도를 더 높일 수 있기 때문이다.\n",
    "\n",
    "---\n",
    "![image](https://user-images.githubusercontent.com/74717033/132131943-f7a6e177-1d10-4a15-89d1-e655ab8fbf04.png)\n",
    "[Resource: 밥먹는 개발자](https://dining-developer.tistory.com/17)"
   ]
  },
  {
   "cell_type": "code",
   "execution_count": 20,
   "metadata": {
    "ExecuteTime": {
     "end_time": "2021-09-06T07:38:00.716429Z",
     "start_time": "2021-09-06T07:38:00.688503Z"
    }
   },
   "outputs": [
    {
     "data": {
      "text/plain": [
       "MiscVal         21.94\n",
       "PoolArea        16.89\n",
       "LotArea         12.87\n",
       "LowQualFinSF    12.08\n",
       "3SsnPorch       11.37\n",
       "KitchenAbvGr     4.32\n",
       "BsmtFinSF2       4.14\n",
       "EnclosedPorch    4.01\n",
       "ScreenPorch      3.95\n",
       "BsmtHalfBath     3.93\n",
       "MasVnrArea       2.62\n",
       "OpenPorchSF      2.53\n",
       "WoodDeckSF       1.84\n",
       "1stFlrSF         1.47\n",
       "BsmtFinSF1       1.43\n",
       "MSSubClass       1.37\n",
       "GrLivArea        1.27\n",
       "TotalBsmtSF      1.17\n",
       "BsmtUnfSF        0.92\n",
       "2ndFlrSF         0.86\n",
       "TotRmsAbvGrd     0.76\n",
       "Fireplaces       0.73\n",
       "HalfBath         0.70\n",
       "BsmtFullBath     0.63\n",
       "OverallCond      0.58\n",
       "BedroomAbvGr     0.33\n",
       "GarageArea       0.24\n",
       "OverallQual      0.20\n",
       "MoSold           0.20\n",
       "FullBath         0.16\n",
       "YrSold           0.13\n",
       "GarageCars      -0.22\n",
       "GarageYrBlt     -0.40\n",
       "YearRemodAdd    -0.45\n",
       "YearBuilt       -0.60\n",
       "dtype: float64"
      ]
     },
     "execution_count": 20,
     "metadata": {},
     "output_type": "execute_result"
    }
   ],
   "source": [
    "from scipy.stats import skew\n",
    "\n",
    "# 수치형 데이터 왜도 구하는 함수 생성\n",
    "def find_skew(x):\n",
    "    return skew(x)\n",
    "\n",
    "# 수치형 변수 왜도를 구하고 내림차순으로 정렬\n",
    "skew_features = all_df[num_all_vars].apply(find_skew).sort_values(ascending = False)\n",
    "skew_features"
   ]
  },
  {
   "cell_type": "markdown",
   "metadata": {},
   "source": [
    "#### 왜도 시각화 : before Box-Cox Transformation "
   ]
  },
  {
   "cell_type": "code",
   "execution_count": 21,
   "metadata": {
    "ExecuteTime": {
     "end_time": "2021-09-06T07:38:01.518401Z",
     "start_time": "2021-09-06T07:38:00.718424Z"
    }
   },
   "outputs": [
    {
     "data": {
      "image/png": "[encoded data removed]",
      "text/plain": [
       "<Figure size 1080x720 with 1 Axes>"
      ]
     },
     "metadata": {
      "needs_background": "light"
     },
     "output_type": "display_data"
    }
   ],
   "source": [
    "# 왜도인 변수의 index get\n",
    "skewness_index = list(skew_features.index)\n",
    "\n",
    "# LotArea의 수치가 너무 커서 다른 변수들의 비대칭 분포를 확인하기 어려워 제외\n",
    "skewness_index.remove('LotArea')\n",
    "\n",
    "# 추려낸 숫자형 변수 따로 저장\n",
    "all_numeric_df = all_df.loc[:,skewness_index]\n",
    "\n",
    "\n",
    "# 시각화\n",
    "\n",
    "# 기본 캔버스 크기 설정\n",
    "fig, ax = plt.subplots(figsize = (15,10))\n",
    "\n",
    "# x축 범위 설정\n",
    "# 숫자형 변수의 max값 기준으로 내림차순 정렬\n",
    "# (0 ~ 숫자형 변수의 max값) 을 x축 lim으로 설정\n",
    "ax.set_xlim(0, all_numeric_df.max().sort_values(ascending = False)[0])\n",
    "\n",
    "# boxplot으로 왜도 분포 확인\n",
    "ax = sns.boxplot(data=all_numeric_df[skewness_index], orient = \"h\", palette = 'Set1')\n",
    "\n",
    "ax.xaxis.grid(False)\n",
    "ax.set(ylabel = 'Feature names')\n",
    "ax.set(xlabel = 'Numerix values')\n",
    "ax.set(title = \"Numeric Distributuion of Features Before Box-Cox Transformation\")\n",
    "\n",
    "sns.despine(trim = True, left = True)"
   ]
  },
  {
   "cell_type": "markdown",
   "metadata": {},
   "source": [
    "- 왜도가 높은 변수일수록 Boxplot의 box가 잘 보이지 않는다. = 데이터가 우측으로 많이 치우쳐 있다.\n",
    "- 수치형 데이터를 예측해야 하는 모델링을 할때 이런 데이터를 선형회귀 등의 알고리즘에 사용하면 입력값이 왜곡되어 예측력이 하락할 수 있다.\n",
    "- Box-Cox Transformation을 통해 왜곡된 데이터를 조절해 줘야 한다."
   ]
  },
  {
   "cell_type": "markdown",
   "metadata": {},
   "source": [
    "#### 왜도 시각화 : after Box-Cox Transformation "
   ]
  },
  {
   "cell_type": "code",
   "execution_count": 22,
   "metadata": {
    "ExecuteTime": {
     "end_time": "2021-09-06T07:38:01.548206Z",
     "start_time": "2021-09-06T07:38:01.520363Z"
    }
   },
   "outputs": [
    {
     "name": "stdout",
     "output_type": "stream",
     "text": [
      "The data before Box-Cox Transformation:\n"
     ]
    },
    {
     "data": {
      "text/html": [
       "<div>\n",
       "<style scoped>\n",
       "    .dataframe tbody tr th:only-of-type {\n",
       "        vertical-align: middle;\n",
       "    }\n",
       "\n",
       "    .dataframe tbody tr th {\n",
       "        vertical-align: top;\n",
       "    }\n",
       "\n",
       "    .dataframe thead th {\n",
       "        text-align: right;\n",
       "    }\n",
       "</style>\n",
       "<table border=\"1\" class=\"dataframe\">\n",
       "  <thead>\n",
       "    <tr style=\"text-align: right;\">\n",
       "      <th></th>\n",
       "      <th>MiscVal</th>\n",
       "      <th>PoolArea</th>\n",
       "      <th>LotArea</th>\n",
       "      <th>LowQualFinSF</th>\n",
       "      <th>3SsnPorch</th>\n",
       "      <th>KitchenAbvGr</th>\n",
       "      <th>BsmtFinSF2</th>\n",
       "      <th>EnclosedPorch</th>\n",
       "      <th>ScreenPorch</th>\n",
       "      <th>BsmtHalfBath</th>\n",
       "      <th>MasVnrArea</th>\n",
       "      <th>OpenPorchSF</th>\n",
       "      <th>WoodDeckSF</th>\n",
       "      <th>1stFlrSF</th>\n",
       "      <th>BsmtFinSF1</th>\n",
       "      <th>MSSubClass</th>\n",
       "      <th>GrLivArea</th>\n",
       "      <th>TotalBsmtSF</th>\n",
       "    </tr>\n",
       "  </thead>\n",
       "  <tbody>\n",
       "    <tr>\n",
       "      <th>0</th>\n",
       "      <td>0</td>\n",
       "      <td>0</td>\n",
       "      <td>8450</td>\n",
       "      <td>0</td>\n",
       "      <td>0</td>\n",
       "      <td>1</td>\n",
       "      <td>0.00</td>\n",
       "      <td>0</td>\n",
       "      <td>0</td>\n",
       "      <td>0.00</td>\n",
       "      <td>196.00</td>\n",
       "      <td>61</td>\n",
       "      <td>0</td>\n",
       "      <td>856</td>\n",
       "      <td>706.00</td>\n",
       "      <td>60</td>\n",
       "      <td>1710</td>\n",
       "      <td>856.00</td>\n",
       "    </tr>\n",
       "    <tr>\n",
       "      <th>1</th>\n",
       "      <td>0</td>\n",
       "      <td>0</td>\n",
       "      <td>9600</td>\n",
       "      <td>0</td>\n",
       "      <td>0</td>\n",
       "      <td>1</td>\n",
       "      <td>0.00</td>\n",
       "      <td>0</td>\n",
       "      <td>0</td>\n",
       "      <td>1.00</td>\n",
       "      <td>0.00</td>\n",
       "      <td>0</td>\n",
       "      <td>298</td>\n",
       "      <td>1262</td>\n",
       "      <td>978.00</td>\n",
       "      <td>20</td>\n",
       "      <td>1262</td>\n",
       "      <td>1262.00</td>\n",
       "    </tr>\n",
       "    <tr>\n",
       "      <th>2</th>\n",
       "      <td>0</td>\n",
       "      <td>0</td>\n",
       "      <td>11250</td>\n",
       "      <td>0</td>\n",
       "      <td>0</td>\n",
       "      <td>1</td>\n",
       "      <td>0.00</td>\n",
       "      <td>0</td>\n",
       "      <td>0</td>\n",
       "      <td>0.00</td>\n",
       "      <td>162.00</td>\n",
       "      <td>42</td>\n",
       "      <td>0</td>\n",
       "      <td>920</td>\n",
       "      <td>486.00</td>\n",
       "      <td>60</td>\n",
       "      <td>1786</td>\n",
       "      <td>920.00</td>\n",
       "    </tr>\n",
       "    <tr>\n",
       "      <th>3</th>\n",
       "      <td>0</td>\n",
       "      <td>0</td>\n",
       "      <td>9550</td>\n",
       "      <td>0</td>\n",
       "      <td>0</td>\n",
       "      <td>1</td>\n",
       "      <td>0.00</td>\n",
       "      <td>272</td>\n",
       "      <td>0</td>\n",
       "      <td>0.00</td>\n",
       "      <td>0.00</td>\n",
       "      <td>35</td>\n",
       "      <td>0</td>\n",
       "      <td>961</td>\n",
       "      <td>216.00</td>\n",
       "      <td>70</td>\n",
       "      <td>1717</td>\n",
       "      <td>756.00</td>\n",
       "    </tr>\n",
       "    <tr>\n",
       "      <th>4</th>\n",
       "      <td>0</td>\n",
       "      <td>0</td>\n",
       "      <td>14260</td>\n",
       "      <td>0</td>\n",
       "      <td>0</td>\n",
       "      <td>1</td>\n",
       "      <td>0.00</td>\n",
       "      <td>0</td>\n",
       "      <td>0</td>\n",
       "      <td>0.00</td>\n",
       "      <td>350.00</td>\n",
       "      <td>84</td>\n",
       "      <td>192</td>\n",
       "      <td>1145</td>\n",
       "      <td>655.00</td>\n",
       "      <td>60</td>\n",
       "      <td>2198</td>\n",
       "      <td>1145.00</td>\n",
       "    </tr>\n",
       "  </tbody>\n",
       "</table>\n",
       "</div>"
      ],
      "text/plain": [
       "   MiscVal  PoolArea  LotArea  LowQualFinSF  3SsnPorch  KitchenAbvGr  BsmtFinSF2  EnclosedPorch  ScreenPorch  BsmtHalfBath  MasVnrArea  OpenPorchSF  WoodDeckSF  1stFlrSF  BsmtFinSF1  MSSubClass  GrLivArea  TotalBsmtSF\n",
       "0        0         0     8450             0          0             1        0.00              0            0          0.00      196.00           61           0       856      706.00          60       1710       856.00\n",
       "1        0         0     9600             0          0             1        0.00              0            0          1.00        0.00            0         298      1262      978.00          20       1262      1262.00\n",
       "2        0         0    11250             0          0             1        0.00              0            0          0.00      162.00           42           0       920      486.00          60       1786       920.00\n",
       "3        0         0     9550             0          0             1        0.00            272            0          0.00        0.00           35           0       961      216.00          70       1717       756.00\n",
       "4        0         0    14260             0          0             1        0.00              0            0          0.00      350.00           84         192      1145      655.00          60       2198      1145.00"
      ]
     },
     "execution_count": 22,
     "metadata": {},
     "output_type": "execute_result"
    }
   ],
   "source": [
    "from scipy.special import boxcox1p\n",
    "from scipy.stats import boxcox_normmax\n",
    "\n",
    "# 왜도값이 1이상인 변수\n",
    "high_skew = skew_features[skew_features>1]\n",
    "high_skew_index = high_skew.index\n",
    "print(\"The data before Box-Cox Transformation:\")\n",
    "all_df[high_skew_index].head()"
   ]
  },
  {
   "cell_type": "code",
   "execution_count": 23,
   "metadata": {
    "ExecuteTime": {
     "end_time": "2021-09-06T07:38:01.731123Z",
     "start_time": "2021-09-06T07:38:01.550201Z"
    },
    "scrolled": false
   },
   "outputs": [
    {
     "name": "stdout",
     "output_type": "stream",
     "text": [
      "The data after Box-Cox Transformation:\n"
     ]
    },
    {
     "data": {
      "text/html": [
       "<div>\n",
       "<style scoped>\n",
       "    .dataframe tbody tr th:only-of-type {\n",
       "        vertical-align: middle;\n",
       "    }\n",
       "\n",
       "    .dataframe tbody tr th {\n",
       "        vertical-align: top;\n",
       "    }\n",
       "\n",
       "    .dataframe thead th {\n",
       "        text-align: right;\n",
       "    }\n",
       "</style>\n",
       "<table border=\"1\" class=\"dataframe\">\n",
       "  <thead>\n",
       "    <tr style=\"text-align: right;\">\n",
       "      <th></th>\n",
       "      <th>MiscVal</th>\n",
       "      <th>PoolArea</th>\n",
       "      <th>LotArea</th>\n",
       "      <th>LowQualFinSF</th>\n",
       "      <th>3SsnPorch</th>\n",
       "      <th>KitchenAbvGr</th>\n",
       "      <th>BsmtFinSF2</th>\n",
       "      <th>EnclosedPorch</th>\n",
       "      <th>ScreenPorch</th>\n",
       "      <th>BsmtHalfBath</th>\n",
       "      <th>MasVnrArea</th>\n",
       "      <th>OpenPorchSF</th>\n",
       "      <th>WoodDeckSF</th>\n",
       "      <th>1stFlrSF</th>\n",
       "      <th>BsmtFinSF1</th>\n",
       "      <th>MSSubClass</th>\n",
       "      <th>GrLivArea</th>\n",
       "      <th>TotalBsmtSF</th>\n",
       "    </tr>\n",
       "  </thead>\n",
       "  <tbody>\n",
       "    <tr>\n",
       "      <th>0</th>\n",
       "      <td>0.00</td>\n",
       "      <td>0.00</td>\n",
       "      <td>13.45</td>\n",
       "      <td>0.00</td>\n",
       "      <td>0.00</td>\n",
       "      <td>0.75</td>\n",
       "      <td>0.00</td>\n",
       "      <td>0.00</td>\n",
       "      <td>0.00</td>\n",
       "      <td>0.00</td>\n",
       "      <td>19.35</td>\n",
       "      <td>12.01</td>\n",
       "      <td>0.00</td>\n",
       "      <td>5.35</td>\n",
       "      <td>117.77</td>\n",
       "      <td>6.51</td>\n",
       "      <td>7.22</td>\n",
       "      <td>294.61</td>\n",
       "    </tr>\n",
       "    <tr>\n",
       "      <th>1</th>\n",
       "      <td>0.00</td>\n",
       "      <td>0.00</td>\n",
       "      <td>13.73</td>\n",
       "      <td>0.00</td>\n",
       "      <td>0.00</td>\n",
       "      <td>0.75</td>\n",
       "      <td>0.00</td>\n",
       "      <td>0.00</td>\n",
       "      <td>0.00</td>\n",
       "      <td>0.71</td>\n",
       "      <td>0.00</td>\n",
       "      <td>0.00</td>\n",
       "      <td>56.35</td>\n",
       "      <td>5.59</td>\n",
       "      <td>146.69</td>\n",
       "      <td>4.25</td>\n",
       "      <td>6.93</td>\n",
       "      <td>404.05</td>\n",
       "    </tr>\n",
       "    <tr>\n",
       "      <th>2</th>\n",
       "      <td>0.00</td>\n",
       "      <td>0.00</td>\n",
       "      <td>14.07</td>\n",
       "      <td>0.00</td>\n",
       "      <td>0.00</td>\n",
       "      <td>0.75</td>\n",
       "      <td>0.00</td>\n",
       "      <td>0.00</td>\n",
       "      <td>0.00</td>\n",
       "      <td>0.00</td>\n",
       "      <td>17.70</td>\n",
       "      <td>9.85</td>\n",
       "      <td>0.00</td>\n",
       "      <td>5.40</td>\n",
       "      <td>91.51</td>\n",
       "      <td>6.51</td>\n",
       "      <td>7.26</td>\n",
       "      <td>312.42</td>\n",
       "    </tr>\n",
       "    <tr>\n",
       "      <th>3</th>\n",
       "      <td>0.00</td>\n",
       "      <td>0.00</td>\n",
       "      <td>13.71</td>\n",
       "      <td>0.00</td>\n",
       "      <td>0.00</td>\n",
       "      <td>0.75</td>\n",
       "      <td>0.00</td>\n",
       "      <td>15.97</td>\n",
       "      <td>0.00</td>\n",
       "      <td>0.00</td>\n",
       "      <td>0.00</td>\n",
       "      <td>8.92</td>\n",
       "      <td>0.00</td>\n",
       "      <td>5.42</td>\n",
       "      <td>52.75</td>\n",
       "      <td>6.87</td>\n",
       "      <td>7.22</td>\n",
       "      <td>266.27</td>\n",
       "    </tr>\n",
       "    <tr>\n",
       "      <th>4</th>\n",
       "      <td>0.00</td>\n",
       "      <td>0.00</td>\n",
       "      <td>14.58</td>\n",
       "      <td>0.00</td>\n",
       "      <td>0.00</td>\n",
       "      <td>0.75</td>\n",
       "      <td>0.00</td>\n",
       "      <td>0.00</td>\n",
       "      <td>0.00</td>\n",
       "      <td>0.00</td>\n",
       "      <td>25.29</td>\n",
       "      <td>14.19</td>\n",
       "      <td>42.36</td>\n",
       "      <td>5.53</td>\n",
       "      <td>111.96</td>\n",
       "      <td>6.51</td>\n",
       "      <td>7.45</td>\n",
       "      <td>373.30</td>\n",
       "    </tr>\n",
       "  </tbody>\n",
       "</table>\n",
       "</div>"
      ],
      "text/plain": [
       "   MiscVal  PoolArea  LotArea  LowQualFinSF  3SsnPorch  KitchenAbvGr  BsmtFinSF2  EnclosedPorch  ScreenPorch  BsmtHalfBath  MasVnrArea  OpenPorchSF  WoodDeckSF  1stFlrSF  BsmtFinSF1  MSSubClass  GrLivArea  TotalBsmtSF\n",
       "0     0.00      0.00    13.45          0.00       0.00          0.75        0.00           0.00         0.00          0.00       19.35        12.01        0.00      5.35      117.77        6.51       7.22       294.61\n",
       "1     0.00      0.00    13.73          0.00       0.00          0.75        0.00           0.00         0.00          0.71        0.00         0.00       56.35      5.59      146.69        4.25       6.93       404.05\n",
       "2     0.00      0.00    14.07          0.00       0.00          0.75        0.00           0.00         0.00          0.00       17.70         9.85        0.00      5.40       91.51        6.51       7.26       312.42\n",
       "3     0.00      0.00    13.71          0.00       0.00          0.75        0.00          15.97         0.00          0.00        0.00         8.92        0.00      5.42       52.75        6.87       7.22       266.27\n",
       "4     0.00      0.00    14.58          0.00       0.00          0.75        0.00           0.00         0.00          0.00       25.29        14.19       42.36      5.53      111.96        6.51       7.45       373.30"
      ]
     },
     "execution_count": 23,
     "metadata": {},
     "output_type": "execute_result"
    }
   ],
   "source": [
    "for num_var in high_skew_index:\n",
    "    all_df[num_var] = boxcox1p(all_df[num_var], boxcox_normmax(all_df[num_var]+1))\n",
    "\n",
    "print(\"The data after Box-Cox Transformation:\") \n",
    "all_df[high_skew_index].head()"
   ]
  },
  {
   "cell_type": "markdown",
   "metadata": {},
   "source": [
    "### 도출 (파생) 변수 만들기"
   ]
  },
  {
   "cell_type": "markdown",
   "metadata": {},
   "source": [
    "- 도출 변수 : 주어진 변수 내에서 새로운 변수를 도출하는 과정\n",
    "- e.g) 날짜를 쪼개서 연/ 월 / 일 / 요일 등으로 나눠서 세분화 하는 법 (1차원적 방법)\n",
    "- 변수가 많을 경우 여러 변수를 조합하여 하나의 변수로 재그룹화 하면 변수의 개수를 줄일 수 있다. (차원 축소 x)\n",
    "- 기존 변수들이 가진 본연의 특성을 잃는 PCA와 달리 도출변수는 기존 변수의 특성이 포함된 상태에서 연구자의 주관적 분석이 더 첨가된 방식이다."
   ]
  },
  {
   "cell_type": "markdown",
   "metadata": {},
   "source": [
    "#### 면적 기준으로 추출 가능한 도출 변수 생성"
   ]
  },
  {
   "cell_type": "code",
   "execution_count": 24,
   "metadata": {
    "ExecuteTime": {
     "end_time": "2021-09-06T07:38:01.747147Z",
     "start_time": "2021-09-06T07:38:01.734127Z"
    }
   },
   "outputs": [
    {
     "name": "stdout",
     "output_type": "stream",
     "text": [
      "(2917, 74)\n"
     ]
    }
   ],
   "source": [
    "# 각 주택의 전체 크기를 계산 하는 도출 변수(TotalSF) 생성\n",
    "all_df['TotalSF'] = all_df['TotalBsmtSF'] + all_df['1stFlrSF'] + all_df['2ndFlrSF']\n",
    "\n",
    "# TotalSF 생성에 사용된 변수들은 제거\n",
    "all_df.drop(['TotalBsmtSF','1stFlrSF','2ndFlrSF'], axis = 1)\n",
    "\n",
    "print(all_df.shape)"
   ]
  },
  {
   "cell_type": "markdown",
   "metadata": {},
   "source": [
    "- 위의 3 변수는 모두 단위가 Square Feet로 단순 덧샘을 하였다.\n",
    "- '집의 크기가 클수록 집값이 커진다' 는 일반 적인 상식으로 이를 적용한 것."
   ]
  },
  {
   "cell_type": "code",
   "execution_count": 25,
   "metadata": {
    "ExecuteTime": {
     "end_time": "2021-09-06T07:38:01.777701Z",
     "start_time": "2021-09-06T07:38:01.753102Z"
    }
   },
   "outputs": [
    {
     "name": "stdout",
     "output_type": "stream",
     "text": [
      "(2917, 68)\n"
     ]
    }
   ],
   "source": [
    "# 추가적인 도출 변수 생성\n",
    "\n",
    "# 각 주택의 총 bathroom의 넓이\n",
    "all_df['Total_bathrooms'] = (all_df['FullBath'] + (0.5*all_df['HalfBath']) + all_df['BsmtFullBath'] + (0.5*all_df['BsmtHalfBath']) )\n",
    "\n",
    "\n",
    "# 각 주택의 forch의 넓이\n",
    "all_df['Total_porch_sf']=(all_df['OpenPorchSF'] + all_df['3SsnPorch'] + all_df['EnclosedPorch'] + all_df['ScreenPorch'])\n",
    "\n",
    "# 도출변수 생성에 사용된 변수들 drop\n",
    "all_df = all_df.drop(['FullBath', 'HalfBath', 'BsmtFullBath', 'BsmtHalfBath', 'OpenPorchSF', '3SsnPorch',\n",
    "                      'EnclosedPorch', 'ScreenPorch'], axis = 1)\n",
    "\n",
    "print(all_df.shape)"
   ]
  },
  {
   "cell_type": "markdown",
   "metadata": {},
   "source": [
    "#### 연도 관련 데이터중 추출 가능한 도출 변수"
   ]
  },
  {
   "cell_type": "code",
   "execution_count": 26,
   "metadata": {
    "ExecuteTime": {
     "end_time": "2021-09-06T07:38:01.793720Z",
     "start_time": "2021-09-06T07:38:01.782688Z"
    }
   },
   "outputs": [
    {
     "name": "stdout",
     "output_type": "stream",
     "text": [
      "MSSubClass is not related with Year \n",
      "\n",
      "LotFrontage is not related with Year \n",
      "\n",
      "LotArea is not related with Year \n",
      "\n",
      "OverallQual is not related with Year \n",
      "\n",
      "OverallCond is not related with Year \n",
      "\n",
      "MasVnrArea is not related with Year \n",
      "\n",
      "BsmtFinSF1 is not related with Year \n",
      "\n",
      "BsmtFinSF2 is not related with Year \n",
      "\n",
      "BsmtUnfSF is not related with Year \n",
      "\n",
      "TotalBsmtSF is not related with Year \n",
      "\n",
      "1stFlrSF is not related with Year \n",
      "\n",
      "2ndFlrSF is not related with Year \n",
      "\n",
      "LowQualFinSF is not related with Year \n",
      "\n",
      "GrLivArea is not related with Year \n",
      "\n",
      "BsmtFullBath is not related with Year \n",
      "\n",
      "BsmtHalfBath is not related with Year \n",
      "\n",
      "FullBath is not related with Year \n",
      "\n",
      "HalfBath is not related with Year \n",
      "\n",
      "BedroomAbvGr is not related with Year \n",
      "\n",
      "KitchenAbvGr is not related with Year \n",
      "\n",
      "TotRmsAbvGrd is not related with Year \n",
      "\n",
      "Fireplaces is not related with Year \n",
      "\n",
      "GarageCars is not related with Year \n",
      "\n",
      "GarageArea is not related with Year \n",
      "\n",
      "WoodDeckSF is not related with Year \n",
      "\n",
      "OpenPorchSF is not related with Year \n",
      "\n",
      "EnclosedPorch is not related with Year \n",
      "\n",
      "3SsnPorch is not related with Year \n",
      "\n",
      "ScreenPorch is not related with Year \n",
      "\n",
      "PoolArea is not related with Year \n",
      "\n",
      "MiscVal is not related with Year \n",
      "\n",
      "MoSold is not related with Year \n",
      "\n",
      "The feature that related with Year: ['YearBuilt', 'YearRemodAdd', 'GarageYrBlt', 'YrSold']\n"
     ]
    }
   ],
   "source": [
    "# 연도 관련 변수 추출 하는 코드 생성\n",
    "\n",
    "num_all_vars = list(train.select_dtypes(include = [np.number]))\n",
    "year_feature = []\n",
    "\n",
    "for var in num_all_vars:\n",
    "    if 'Yr' in var:\n",
    "        year_feature.append(var)\n",
    "    elif 'Year' in var:\n",
    "        year_feature.append(var)\n",
    "    else:\n",
    "        print(var, \"is not related with Year \\n\")\n",
    "print(\"The feature that related with Year:\", year_feature)"
   ]
  },
  {
   "cell_type": "code",
   "execution_count": 27,
   "metadata": {
    "ExecuteTime": {
     "end_time": "2021-09-06T07:38:02.219869Z",
     "start_time": "2021-09-06T07:38:01.796683Z"
    }
   },
   "outputs": [
    {
     "data": {
      "image/png": "[encoded data removed]",
      "text/plain": [
       "<Figure size 720x432 with 3 Axes>"
      ]
     },
     "metadata": {
      "needs_background": "light"
     },
     "output_type": "display_data"
    }
   ],
   "source": [
    "# SalePrice와 연관지어 시각화 구현(로그변환한 SalePrice)\n",
    "# SalePrice 관련 데이터의 연도별 흐름을 scatter plot으로 시각화 하여 비교\n",
    "\n",
    "fig, ax = plt.subplots(3, 1, figsize = (10,6), sharex = True, sharey = True)\n",
    "\n",
    "for i, var in enumerate(year_feature):\n",
    "    if var !='YrSold':\n",
    "        ax[i].scatter(train[var], y, alpha = 0.3)\n",
    "        ax[i].set_title('{}'.format(var), size = 15)\n",
    "        ax[i].set_ylabel('SalePrice', size = 15, labelpad = 12.5)\n",
    "        \n",
    "plt.tight_layout()\n",
    "plt.show()"
   ]
  },
  {
   "cell_type": "markdown",
   "metadata": {},
   "source": [
    "- 3개의 변수 모두 SalePrice와 관련된 변수\n",
    "- 3개의 변수 모두 연도가 지나감에 따라 가격이 우상향함\n",
    "- 일반적으로 리모델링후에 주택 가격을 높여 판매하고자 하기 때문에 YearRemodAdd 만을 도출 변수에 활용 (나머지 drop)\n",
    "- 기회가 된다면 나머지 변수들과의 상관관계 파악을 통한 도출 변수 추가를 해도 좋은 도출 변수가 될 것"
   ]
  },
  {
   "cell_type": "code",
   "execution_count": 28,
   "metadata": {
    "ExecuteTime": {
     "end_time": "2021-09-06T07:38:02.235407Z",
     "start_time": "2021-09-06T07:38:02.221817Z"
    }
   },
   "outputs": [
    {
     "name": "stdout",
     "output_type": "stream",
     "text": [
      "(2917, 66)\n"
     ]
    }
   ],
   "source": [
    "all_df = all_df.drop(['YearBuilt', 'GarageYrBlt'], axis = 1)\n",
    "print(all_df.shape)"
   ]
  },
  {
   "cell_type": "code",
   "execution_count": 29,
   "metadata": {
    "ExecuteTime": {
     "end_time": "2021-09-06T07:38:02.435186Z",
     "start_time": "2021-09-06T07:38:02.237373Z"
    }
   },
   "outputs": [
    {
     "data": {
      "image/png": "[encoded data removed]",
      "text/plain": [
       "<Figure size 720x432 with 1 Axes>"
      ]
     },
     "metadata": {
      "needs_background": "light"
     },
     "output_type": "display_data"
    }
   ],
   "source": [
    "# YrSold 와 YearRemodAdd 두 변수의 연도 차이에 대한 변수 생성 \n",
    "# 즉, 리모델링 후 몇년 뒤에 판매가 되었는지 확인 가능\n",
    "YearSinceRemodel = train['YrSold'].astype(int) - train['YearRemodAdd'].astype(int)\n",
    "\n",
    "# 결과 시각화\n",
    "fig, ax = plt.subplots(figsize = (10,6))\n",
    "ax.scatter(YearSinceRemodel, y, alpha = 0.3)\n",
    "ax.set_title('YearSinceRemodel', size = 15)\n",
    "ax.set_ylabel('SalePrice', size = 15, labelpad = 12.5)\n",
    "fig.show()"
   ]
  },
  {
   "cell_type": "markdown",
   "metadata": {},
   "source": [
    "- 도출되는 값이 크면 클수록 SalePrice 값이 하양 하는 모양을 그리고 있다."
   ]
  },
  {
   "cell_type": "code",
   "execution_count": 30,
   "metadata": {
    "ExecuteTime": {
     "end_time": "2021-09-06T07:38:02.450175Z",
     "start_time": "2021-09-06T07:38:02.437180Z"
    }
   },
   "outputs": [
    {
     "name": "stdout",
     "output_type": "stream",
     "text": [
      "(2917, 65)\n"
     ]
    }
   ],
   "source": [
    "# 생성한 데이터 저장 및 drop\n",
    "all_df['YearSinceRemodel'] = all_df['YrSold'].astype(int) - all_df['YearRemodAdd'].astype(int)\n",
    "\n",
    "all_df = all_df.drop(['YrSold', 'YearRemodAdd'], axis = 1)\n",
    "print(all_df.shape)"
   ]
  },
  {
   "cell_type": "markdown",
   "metadata": {},
   "source": [
    "### 더미변수 만들기\n",
    "\n",
    "- 범주형 변수를 수치형으로 바꾸는 방법(통계학적 의미)\n",
    "    - '남', '여' 로만 구성된 변수를 남 = 1, 여 = 0 으로 치환하는 것\n",
    "- 반대로 데이터의 범위가 매우 좁은 수치형 변수를 범주형 변수화 할 수 도 있다."
   ]
  },
  {
   "cell_type": "code",
   "execution_count": 31,
   "metadata": {
    "ExecuteTime": {
     "end_time": "2021-09-06T07:40:12.672533Z",
     "start_time": "2021-09-06T07:40:12.653584Z"
    }
   },
   "outputs": [
    {
     "data": {
      "text/plain": [
       "0.00    2904\n",
       "5.84       1\n",
       "6.05       1\n",
       "5.95       1\n",
       "5.91       1\n",
       "5.79       1\n",
       "5.85       1\n",
       "6.16       1\n",
       "4.72       1\n",
       "5.55       1\n",
       "5.72       1\n",
       "5.13       1\n",
       "5.92       1\n",
       "6.23       1\n",
       "Name: PoolArea, dtype: int64"
      ]
     },
     "execution_count": 31,
     "metadata": {},
     "output_type": "execute_result"
    }
   ],
   "source": [
    "# 수치형 변수인 \n",
    "all_df['PoolArea'].value_counts()"
   ]
  },
  {
   "cell_type": "markdown",
   "metadata": {},
   "source": [
    "- 대부분의 값이 0이고, 나머지는 소수점인 값을 각 1개씩 갖고 있다.\n",
    "- 이 경우 소수인 변수들을 삭제하는 것도 하나의 방법\n",
    "- 또는, 1이상이면 1로 변환하여 0 과 1로 범주형 변수로 만들어 주는 것도 방법이다."
   ]
  },
  {
   "cell_type": "code",
   "execution_count": 33,
   "metadata": {
    "ExecuteTime": {
     "end_time": "2021-09-06T07:44:32.841213Z",
     "start_time": "2021-09-06T07:44:32.826282Z"
    }
   },
   "outputs": [
    {
     "data": {
      "text/plain": [
       "0    2904\n",
       "1      13\n",
       "Name: PoolArea, dtype: int64"
      ]
     },
     "execution_count": 33,
     "metadata": {},
     "output_type": "execute_result"
    }
   ],
   "source": [
    "# 1을 기준으로 0과 1로 범주화 해주는 함수 생성\n",
    "def count_dummy(x):\n",
    "    if x > 0:\n",
    "        return 1\n",
    "    else:\n",
    "        return 0\n",
    "\n",
    "# PoolArea 변수에 적용\n",
    "all_df['PoolArea'] = all_df['PoolArea'].apply(count_dummy)\n",
    "all_df['PoolArea'].value_counts()"
   ]
  },
  {
   "cell_type": "code",
   "execution_count": 34,
   "metadata": {
    "ExecuteTime": {
     "end_time": "2021-09-06T07:45:45.977885Z",
     "start_time": "2021-09-06T07:45:45.957268Z"
    }
   },
   "outputs": [
    {
     "data": {
      "text/plain": [
       "1    2760\n",
       "0     157\n",
       "Name: GarageArea, dtype: int64"
      ]
     },
     "execution_count": 34,
     "metadata": {},
     "output_type": "execute_result"
    }
   ],
   "source": [
    "# GarageArea 변수에 적용\n",
    "all_df['GarageArea'] = all_df['GarageArea'].apply(count_dummy)\n",
    "all_df['GarageArea'].value_counts()"
   ]
  },
  {
   "cell_type": "code",
   "execution_count": 35,
   "metadata": {
    "ExecuteTime": {
     "end_time": "2021-09-06T07:45:47.388636Z",
     "start_time": "2021-09-06T07:45:47.375044Z"
    }
   },
   "outputs": [
    {
     "data": {
      "text/plain": [
       "1    1497\n",
       "0    1420\n",
       "Name: Fireplaces, dtype: int64"
      ]
     },
     "execution_count": 35,
     "metadata": {},
     "output_type": "execute_result"
    }
   ],
   "source": [
    "# GarageArea 변수에 적용\n",
    "all_df['Fireplaces'] = all_df['Fireplaces'].apply(count_dummy)\n",
    "all_df['Fireplaces'].value_counts()"
   ]
  },
  {
   "attachments": {},
   "cell_type": "markdown",
   "metadata": {},
   "source": [
    "#### Label Encoding, Ordinal Encoding, One-Hot Encoding\n",
    "\n",
    "![image](https://user-images.githubusercontent.com/74717033/132212066-4a82f971-6993-4fe9-be40-19cfdb3381fc.png)\n",
    "\n",
    "- 독립변수에 적용되는 OneHotEncoder와 OrdinalEncoder 중 어떤 것을 사용할지는 데이터 타입의 유형에 따라 다르다.\n",
    "- 추가적인 전처리도 필요할 수 있다."
   ]
  },
  {
   "cell_type": "markdown",
   "metadata": {},
   "source": [
    "- 값이 3개 이상인 범주형 변수일때 사용되는 방법들\n",
    "- Label Encoding : 문자열 데이터를 각 범주의 개수에 따라 숫자로 변환하는 방식\n",
    "- One_Hot Encoding : 각 값을 변수로 변환하여 각각 0과 1로 변환"
   ]
  },
  {
   "cell_type": "code",
   "execution_count": 37,
   "metadata": {
    "ExecuteTime": {
     "end_time": "2021-09-06T07:51:43.005221Z",
     "start_time": "2021-09-06T07:51:42.990261Z"
    }
   },
   "outputs": [
    {
     "name": "stdout",
     "output_type": "stream",
     "text": [
      "['Apple', 'Chicken', 'Broccoli'] ==> [0 2 1]\n"
     ]
    }
   ],
   "source": [
    "# Label Endocer 예시\n",
    "from sklearn.preprocessing import LabelEncoder\n",
    "\n",
    "temp = pd.DataFrame({'Food_Name': ['Apple', 'Chicken', 'Broccoli'],\n",
    "                    'Calories':[95,231,50]})\n",
    "\n",
    "encoder = LabelEncoder()\n",
    "encoder.fit(temp['Food_Name'])\n",
    "labels = encoder.transform(temp['Food_Name'])\n",
    "print(list(temp['Food_Name']), \"==>\", labels)"
   ]
  },
  {
   "cell_type": "code",
   "execution_count": 43,
   "metadata": {
    "ExecuteTime": {
     "end_time": "2021-09-06T07:58:51.587295Z",
     "start_time": "2021-09-06T07:58:51.578331Z"
    }
   },
   "outputs": [
    {
     "name": "stdout",
     "output_type": "stream",
     "text": [
      "['Apple', 'Chicken', 'Broccoli'] ==> [[0.0], [2.0], [1.0]]\n"
     ]
    }
   ],
   "source": [
    "# Ordinal Encoder 예시\n",
    "\n",
    "from sklearn.preprocessing import OrdinalEncoder\n",
    "\n",
    "temp = pd.DataFrame({'Food_Name': ['Apple', 'Chicken', 'Broccoli'],\n",
    "                    'Calories':[95,231,50]})\n",
    "\n",
    "encoder = OrdinalEncoder()\n",
    "labels = encoder.fit_transform(temp[['Food_Name']])\n",
    "print(list(temp['Food_Name']), \"==>\", labels.tolist())"
   ]
  },
  {
   "cell_type": "markdown",
   "metadata": {},
   "source": [
    "- LabelEncoder와 다르게 입력 형태를 '배열' 로 해줘야 한다.\n",
    "- return되는 값은 정수형이 아니라 실수형으로 출력된다."
   ]
  },
  {
   "cell_type": "code",
   "execution_count": 57,
   "metadata": {
    "ExecuteTime": {
     "end_time": "2021-09-06T12:12:53.510090Z",
     "start_time": "2021-09-06T12:12:53.484135Z"
    }
   },
   "outputs": [
    {
     "name": "stdout",
     "output_type": "stream",
     "text": [
      "(3, 4)\n"
     ]
    },
    {
     "data": {
      "text/html": [
       "<div>\n",
       "<style scoped>\n",
       "    .dataframe tbody tr th:only-of-type {\n",
       "        vertical-align: middle;\n",
       "    }\n",
       "\n",
       "    .dataframe tbody tr th {\n",
       "        vertical-align: top;\n",
       "    }\n",
       "\n",
       "    .dataframe thead th {\n",
       "        text-align: right;\n",
       "    }\n",
       "</style>\n",
       "<table border=\"1\" class=\"dataframe\">\n",
       "  <thead>\n",
       "    <tr style=\"text-align: right;\">\n",
       "      <th></th>\n",
       "      <th>Calories</th>\n",
       "      <th>Food_Name_Apple</th>\n",
       "      <th>Food_Name_Broccoli</th>\n",
       "      <th>Food_Name_Chicken</th>\n",
       "    </tr>\n",
       "  </thead>\n",
       "  <tbody>\n",
       "    <tr>\n",
       "      <th>0</th>\n",
       "      <td>95</td>\n",
       "      <td>1</td>\n",
       "      <td>0</td>\n",
       "      <td>0</td>\n",
       "    </tr>\n",
       "    <tr>\n",
       "      <th>1</th>\n",
       "      <td>231</td>\n",
       "      <td>0</td>\n",
       "      <td>0</td>\n",
       "      <td>1</td>\n",
       "    </tr>\n",
       "    <tr>\n",
       "      <th>2</th>\n",
       "      <td>50</td>\n",
       "      <td>0</td>\n",
       "      <td>1</td>\n",
       "      <td>0</td>\n",
       "    </tr>\n",
       "  </tbody>\n",
       "</table>\n",
       "</div>"
      ],
      "text/plain": [
       "   Calories  Food_Name_Apple  Food_Name_Broccoli  Food_Name_Chicken\n",
       "0        95                1                   0                  0\n",
       "1       231                0                   0                  1\n",
       "2        50                0                   1                  0"
      ]
     },
     "execution_count": 57,
     "metadata": {},
     "output_type": "execute_result"
    }
   ],
   "source": [
    "# One-Hot Encoding 예시\n",
    "\n",
    "temp = pd.DataFrame({'Food_Name': ['Apple', 'Chicken', 'Broccoli'],\n",
    "                    'Calories':[95,231,50]})\n",
    "\n",
    "temp = pd.get_dummies(temp)\n",
    "\n",
    "print(temp.shape)\n",
    "temp"
   ]
  },
  {
   "cell_type": "markdown",
   "metadata": {},
   "source": [
    "- 서열 척도(e.g: 등급)의 경우 OneHot Encoding을 하는 것이 좋다.\n",
    "    - 구간에 따라 데이터에 의미가 있기 때문\n",
    "- 문제는 서열 척도라도 데이터가 스스로 그것을 서열 척도라고 인식하지 못한다.\n",
    "- Ordinalencoder를 사용해도 수치형으로 변하는 규칙은 그저 A ~ Z 순으로 바뀌기 때문에 서열척도를 인지시키지 못하는 것은 동일\n",
    "- 이를 Pandas의 replace를 이용해 연구자가 임의로 서열 척도를 인지하도록 코딩할 수도 있다."
   ]
  },
  {
   "cell_type": "code",
   "execution_count": 55,
   "metadata": {
    "ExecuteTime": {
     "end_time": "2021-09-06T12:12:31.838842Z",
     "start_time": "2021-09-06T12:12:31.826267Z"
    }
   },
   "outputs": [
    {
     "name": "stdout",
     "output_type": "stream",
     "text": [
      "  Food_Name  Calories  Food_No\n",
      "0     Apple        95        3\n",
      "1   Chicken       231        1\n",
      "2  Broccoli        50        2\n"
     ]
    }
   ],
   "source": [
    "temp = pd.DataFrame({'Food_Name': ['Apple', 'Chicken', 'Broccoli'],\n",
    "                    'Calories':[95, 231, 50]})\n",
    "\n",
    "# 음식의 중요도에 따라 숫자의 크기를 다르게 변형\n",
    "temp['Food_No'] = temp.Food_Name.replace(to_replace = ['Chicken','Broccoli','Apple'], \n",
    "                                          value = [1, 2, 3] )\n",
    "\n",
    "print(temp)"
   ]
  },
  {
   "cell_type": "markdown",
   "metadata": {},
   "source": [
    "- 명목척도를 이런 ordinalencoder() 방식처럼 처리하면 (남자 1, 여자 0) 이는 남자가 여자보다 더 중요하다고 인식한다. (vice versa)\n",
    "- 즉, 각 구간의 값 자체에는 차이가 없지만 ordinalencoder()로 처리할 경우 모델이 두 데이터에 서로 차이가 있는 것으로 인식하게 된다.\n",
    "- 이 경우는 One-Hot encoding을 하는 것이 더 합리적이다.\n",
    "- 하지만 One-Hot encoding은 범주형 변수의 범주값이 여러개인 경우 사용하기 어렵다.\n",
    "    - 만약 범주형 변수의 shape가 (10000 , 5000) 이라면?\n",
    "    - 5000 개의 변수가 추가 된다 = 차원의 저주 문제 발생\n",
    "    - 이러한 경우는 사전 전처리를 통해 5000개의 범주를 적당한 숫자로 줄이는 것이 좋다.\n",
    "    - 이는 정해진 방법이 있는 것이 아니므로, 연구자가 임의로 조정할 수 있다.\n",
    "    - 가장 대표적인 방식은 전체 적인 비율을 기반으로 불필요한 변수들은 'Others'로 모으고, 나머지 범주들로 변수의 수를 줄이는 것이다."
   ]
  },
  {
   "cell_type": "markdown",
   "metadata": {},
   "source": [
    "#### all_df에 One-Hot encoding  적용하기"
   ]
  },
  {
   "cell_type": "code",
   "execution_count": 58,
   "metadata": {
    "ExecuteTime": {
     "end_time": "2021-09-06T14:29:17.398270Z",
     "start_time": "2021-09-06T14:29:17.351208Z"
    }
   },
   "outputs": [
    {
     "data": {
      "text/plain": [
       "(2917, 65)"
      ]
     },
     "execution_count": 58,
     "metadata": {},
     "output_type": "execute_result"
    }
   ],
   "source": [
    "all_df = pd.get_dummies(all_df).reset_index(drop=True)\n",
    "all_df.shape"
   ]
  },
  {
   "cell_type": "markdown",
   "metadata": {},
   "source": [
    "# Modeling"
   ]
  },
  {
   "cell_type": "code",
   "execution_count": null,
   "metadata": {},
   "outputs": [],
   "source": []
  }
 ],
 "metadata": {
  "kernelspec": {
   "display_name": "Python 3",
   "language": "python",
   "name": "python3"
  },
  "language_info": {
   "codemirror_mode": {
    "name": "ipython",
    "version": 3
   },
   "file_extension": ".py",
   "mimetype": "text/x-python",
   "name": "python",
   "nbconvert_exporter": "python",
   "pygments_lexer": "ipython3",
   "version": "3.8.5"
  },
  "toc": {
   "base_numbering": 1,
   "nav_menu": {},
   "number_sections": true,
   "sideBar": true,
   "skip_h1_title": false,
   "title_cell": "Table of Contents",
   "title_sidebar": "Contents",
   "toc_cell": false,
   "toc_position": {
    "height": "calc(100% - 180px)",
    "left": "10px",
    "top": "150px",
    "width": "323.719px"
   },
   "toc_section_display": true,
   "toc_window_display": true
  },
  "varInspector": {
   "cols": {
    "lenName": 16,
    "lenType": 16,
    "lenVar": 40
   },
   "kernels_config": {
    "python": {
     "delete_cmd_postfix": "",
     "delete_cmd_prefix": "del ",
     "library": "var_list.py",
     "varRefreshCmd": "print(var_dic_list())"
    },
    "r": {
     "delete_cmd_postfix": ") ",
     "delete_cmd_prefix": "rm(",
     "library": "var_list.r",
     "varRefreshCmd": "cat(var_dic_list()) "
    }
   },
   "position": {
    "height": "510.719px",
    "left": "1510.61px",
    "right": "20px",
    "top": "88.9844px",
    "width": "373px"
   },
   "types_to_exclude": [
    "module",
    "function",
    "builtin_function_or_method",
    "instance",
    "_Feature"
   ],
   "window_display": false
  }
 },
 "nbformat": 4,
 "nbformat_minor": 4
}
