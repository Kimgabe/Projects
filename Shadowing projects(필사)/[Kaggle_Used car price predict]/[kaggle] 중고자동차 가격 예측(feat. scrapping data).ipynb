{
 "cells": [
  {
   "cell_type": "markdown",
   "metadata": {
    "id": "NqqLNJZjfi8U"
   },
   "source": [
    "# 중고자동차 가격 예측\n",
    "---\n",
    "\n",
    "## 데이터 소개\n",
    "    - kaggle에서 제공하는 Used Car Dataset\n",
    "    - 스크래핑으로 수집된 데이터\n",
    "    \n",
    "    - vehicles.csv\n",
    "    id : 중고차 거래의 아이디\n",
    "    url : 중고차 거래 페이지\n",
    "    region : 해당 거래의 관리 지점\n",
    "    region_url : 거래 관리 지점의 홈페이지\n",
    "    price : 기입된 자동차의 거래가\n",
    "    year : 중고차의 생산연도\n",
    "    manufacturer : 자동차를 생산한 회사\n",
    "    model : 자동차 모델명\n",
    "    condition : 자동차의 상태\n",
    "    cylinders : 자동차의 기통 수\n",
    "    fuel : 자동차의 연료 타입\n",
    "    odometer : 자동차의 운행 마일 수\n",
    "    title_status : 자동차의 타이틀 상태 (소유주 등록 상태)\n",
    "    transmission : 자동차의 트랜스미션 종류\n",
    "    vin : 자동차의 식별 번호 (vehicle identification number)\n",
    "    drive : 자동차의 구동 타입\n",
    "    size : 자동차 크기\n",
    "    type : 자동차의 일반 타입 (세단, ...)\n",
    "    paint_color : 자동차 색상\n",
    "    image_url : 자동차 이미지\n",
    "    description : 세부 설명\n",
    "    county : 실수로 생성된 미사용 컬럼\n",
    "    state : 거래가 업로드된 미 주\n",
    "    lat : 거래가 업로드된 곳의 위도\n",
    "    long : 거래가 업로드된 곳의 경도\n",
    " \n",
    "    \n",
    "- 데이터 출처: https://www.kaggle.com/austinreese/craigslist-carstrucks-data"
   ]
  },
  {
   "cell_type": "markdown",
   "metadata": {
    "id": "ODJVmYvIP3x-"
   },
   "source": [
    "## 데이터 스크래핑\n",
    "\n",
    "- 일반적으로 웹에서 스크랩을 한다고 할 경우 html내에서 데이터의 형식을 예측해서, 해당 형식의 데이터를 가져오도록 지정 (by selenium)<br><br>\n",
    "- 다만 이 경우 해당 페이지의 위치가 리뉴얼 되거나 하는 등의 변동이 있을때 위에 말한 '예측' 대로 데이터가 수집되지 않을 가능성이 높다.<br><br>\n",
    "- 즉, 이상치(outlier) 데이터가 다량 발생할 가능성이 많다.<br>\n",
    "    - 빈 데이터를 스크랩한 경우<br>\n",
    "    - 형식이 틀린 경우 <br>\n",
    "        - 문자열 : 앞뒤에 공백, html태그 포함하여 스크랩, 인코딩에 의해 깨진 문자<br>\n",
    "        - 숫자 : 최대값 & 최소값으로 잘못 기입 되는 경우, 숫자 대신 문자열로 스크랩된 경우<br>"
   ]
  },
  {
   "cell_type": "markdown",
   "metadata": {
    "id": "IRssoNrgP7So"
   },
   "source": [
    "## 데이터셋 불러오기"
   ]
  },
  {
   "cell_type": "code",
   "execution_count": 1,
   "metadata": {
    "ExecuteTime": {
     "end_time": "2021-09-11T07:28:25.528118Z",
     "start_time": "2021-09-11T07:28:22.910240Z"
    }
   },
   "outputs": [],
   "source": [
    "# 기초 전처리\n",
    "import pandas as pd\n",
    "import numpy as np\n",
    "\n",
    "# 시각화\n",
    "import matplotlib.pyplot as plt\n",
    "import seaborn as sns\n",
    "import folium\n",
    "import os\n",
    "\n",
    "# 캔버스 사이즈 적용\n",
    "plt.rcParams['figure.figsize'] = (12, 9)\n",
    "\n",
    "# 컬럼 전체 확인 가능하도록 출력 범위 설정\n",
    "pd.set_option('display.max_columns', 500)\n",
    "pd.set_option('display.width', 10000)\n",
    "\n",
    "# 불필요한 경고 표시 생략\n",
    "import warnings\n",
    "warnings.filterwarnings(action = 'ignore')\n",
    "\n",
    "# pandas 결과값의 표현 범위 소수점 2자리수로 변경\n",
    "pd.options.display.float_format = '{:.2f}'.format\n",
    "\n",
    "# 파일 로드위한 directory 확인 및 현재 경로로 설정\n",
    "a = os.getcwd()\n",
    "os.chdir(a)"
   ]
  },
  {
   "cell_type": "code",
   "execution_count": 2,
   "metadata": {
    "ExecuteTime": {
     "end_time": "2021-09-11T07:28:51.731021Z",
     "start_time": "2021-09-11T07:28:25.530099Z"
    },
    "id": "RnJv-4YwCMSx"
   },
   "outputs": [],
   "source": [
    "df = pd.read_csv('vehicles.csv')"
   ]
  },
  {
   "cell_type": "markdown",
   "metadata": {
    "id": "9L3BNVM7tHN5"
   },
   "source": [
    "## EDA 및 데이터 기초 통계 분석"
   ]
  },
  {
   "cell_type": "code",
   "execution_count": 3,
   "metadata": {
    "ExecuteTime": {
     "end_time": "2021-09-11T07:28:51.776824Z",
     "start_time": "2021-09-11T07:28:51.733964Z"
    },
    "colab": {
     "base_uri": "https://localhost:8080/",
     "height": 513
    },
    "id": "YcR9BX23DIFW",
    "outputId": "f6bddc68-f8b7-41f2-d9d9-db99c6603d60"
   },
   "outputs": [
    {
     "data": {
      "text/html": [
       "<div>\n",
       "<style scoped>\n",
       "    .dataframe tbody tr th:only-of-type {\n",
       "        vertical-align: middle;\n",
       "    }\n",
       "\n",
       "    .dataframe tbody tr th {\n",
       "        vertical-align: top;\n",
       "    }\n",
       "\n",
       "    .dataframe thead th {\n",
       "        text-align: right;\n",
       "    }\n",
       "</style>\n",
       "<table border=\"1\" class=\"dataframe\">\n",
       "  <thead>\n",
       "    <tr style=\"text-align: right;\">\n",
       "      <th></th>\n",
       "      <th>Unnamed: 0</th>\n",
       "      <th>id</th>\n",
       "      <th>url</th>\n",
       "      <th>region</th>\n",
       "      <th>region_url</th>\n",
       "      <th>price</th>\n",
       "      <th>year</th>\n",
       "      <th>manufacturer</th>\n",
       "      <th>model</th>\n",
       "      <th>condition</th>\n",
       "      <th>cylinders</th>\n",
       "      <th>fuel</th>\n",
       "      <th>odometer</th>\n",
       "      <th>title_status</th>\n",
       "      <th>transmission</th>\n",
       "      <th>VIN</th>\n",
       "      <th>drive</th>\n",
       "      <th>size</th>\n",
       "      <th>type</th>\n",
       "      <th>paint_color</th>\n",
       "      <th>image_url</th>\n",
       "      <th>description</th>\n",
       "      <th>state</th>\n",
       "      <th>lat</th>\n",
       "      <th>long</th>\n",
       "      <th>posting_date</th>\n",
       "    </tr>\n",
       "  </thead>\n",
       "  <tbody>\n",
       "    <tr>\n",
       "      <th>0</th>\n",
       "      <td>0</td>\n",
       "      <td>7240372487</td>\n",
       "      <td>https://auburn.craigslist.org/ctd/d/auburn-uni...</td>\n",
       "      <td>auburn</td>\n",
       "      <td>https://auburn.craigslist.org</td>\n",
       "      <td>35990</td>\n",
       "      <td>2010.00</td>\n",
       "      <td>chevrolet</td>\n",
       "      <td>corvette grand sport</td>\n",
       "      <td>good</td>\n",
       "      <td>8 cylinders</td>\n",
       "      <td>gas</td>\n",
       "      <td>32742.00</td>\n",
       "      <td>clean</td>\n",
       "      <td>other</td>\n",
       "      <td>1G1YU3DW1A5106980</td>\n",
       "      <td>rwd</td>\n",
       "      <td>NaN</td>\n",
       "      <td>other</td>\n",
       "      <td>NaN</td>\n",
       "      <td>https://images.craigslist.org/00N0N_ipkbHVZYf4...</td>\n",
       "      <td>Carvana is the safer way to buy a car During t...</td>\n",
       "      <td>al</td>\n",
       "      <td>32.59</td>\n",
       "      <td>-85.48</td>\n",
       "      <td>2020-12-02T08:11:30-0600</td>\n",
       "    </tr>\n",
       "    <tr>\n",
       "      <th>1</th>\n",
       "      <td>1</td>\n",
       "      <td>7240309422</td>\n",
       "      <td>https://auburn.craigslist.org/cto/d/auburn-201...</td>\n",
       "      <td>auburn</td>\n",
       "      <td>https://auburn.craigslist.org</td>\n",
       "      <td>7500</td>\n",
       "      <td>2014.00</td>\n",
       "      <td>hyundai</td>\n",
       "      <td>sonata</td>\n",
       "      <td>excellent</td>\n",
       "      <td>4 cylinders</td>\n",
       "      <td>gas</td>\n",
       "      <td>93600.00</td>\n",
       "      <td>clean</td>\n",
       "      <td>automatic</td>\n",
       "      <td>5NPEC4AB0EH813529</td>\n",
       "      <td>fwd</td>\n",
       "      <td>NaN</td>\n",
       "      <td>sedan</td>\n",
       "      <td>NaN</td>\n",
       "      <td>https://images.craigslist.org/00s0s_gBHYmJ5o7y...</td>\n",
       "      <td>I'll move to another city and try to sell my c...</td>\n",
       "      <td>al</td>\n",
       "      <td>32.55</td>\n",
       "      <td>-85.47</td>\n",
       "      <td>2020-12-02T02:11:50-0600</td>\n",
       "    </tr>\n",
       "    <tr>\n",
       "      <th>2</th>\n",
       "      <td>2</td>\n",
       "      <td>7240224296</td>\n",
       "      <td>https://auburn.craigslist.org/cto/d/auburn-200...</td>\n",
       "      <td>auburn</td>\n",
       "      <td>https://auburn.craigslist.org</td>\n",
       "      <td>4900</td>\n",
       "      <td>2006.00</td>\n",
       "      <td>bmw</td>\n",
       "      <td>x3 3.0i</td>\n",
       "      <td>good</td>\n",
       "      <td>6 cylinders</td>\n",
       "      <td>gas</td>\n",
       "      <td>87046.00</td>\n",
       "      <td>clean</td>\n",
       "      <td>automatic</td>\n",
       "      <td>NaN</td>\n",
       "      <td>NaN</td>\n",
       "      <td>NaN</td>\n",
       "      <td>SUV</td>\n",
       "      <td>blue</td>\n",
       "      <td>https://images.craigslist.org/00B0B_5zgEGWPOrt...</td>\n",
       "      <td>Clean 2006 BMW X3 3.0I.  Beautiful and rare Bl...</td>\n",
       "      <td>al</td>\n",
       "      <td>32.62</td>\n",
       "      <td>-85.46</td>\n",
       "      <td>2020-12-01T19:50:41-0600</td>\n",
       "    </tr>\n",
       "    <tr>\n",
       "      <th>3</th>\n",
       "      <td>3</td>\n",
       "      <td>7240103965</td>\n",
       "      <td>https://auburn.craigslist.org/cto/d/lanett-tru...</td>\n",
       "      <td>auburn</td>\n",
       "      <td>https://auburn.craigslist.org</td>\n",
       "      <td>2000</td>\n",
       "      <td>1974.00</td>\n",
       "      <td>chevrolet</td>\n",
       "      <td>c-10</td>\n",
       "      <td>good</td>\n",
       "      <td>4 cylinders</td>\n",
       "      <td>gas</td>\n",
       "      <td>190000.00</td>\n",
       "      <td>clean</td>\n",
       "      <td>automatic</td>\n",
       "      <td>NaN</td>\n",
       "      <td>rwd</td>\n",
       "      <td>full-size</td>\n",
       "      <td>pickup</td>\n",
       "      <td>blue</td>\n",
       "      <td>https://images.craigslist.org/00M0M_6o7KcDpArw...</td>\n",
       "      <td>1974 chev. truck (LONG BED) NEW starter front ...</td>\n",
       "      <td>al</td>\n",
       "      <td>32.86</td>\n",
       "      <td>-85.22</td>\n",
       "      <td>2020-12-01T15:54:45-0600</td>\n",
       "    </tr>\n",
       "    <tr>\n",
       "      <th>4</th>\n",
       "      <td>4</td>\n",
       "      <td>7239983776</td>\n",
       "      <td>https://auburn.craigslist.org/cto/d/auburn-200...</td>\n",
       "      <td>auburn</td>\n",
       "      <td>https://auburn.craigslist.org</td>\n",
       "      <td>19500</td>\n",
       "      <td>2005.00</td>\n",
       "      <td>ford</td>\n",
       "      <td>f350 lariat</td>\n",
       "      <td>excellent</td>\n",
       "      <td>8 cylinders</td>\n",
       "      <td>diesel</td>\n",
       "      <td>116000.00</td>\n",
       "      <td>lien</td>\n",
       "      <td>automatic</td>\n",
       "      <td>NaN</td>\n",
       "      <td>4wd</td>\n",
       "      <td>full-size</td>\n",
       "      <td>pickup</td>\n",
       "      <td>blue</td>\n",
       "      <td>https://images.craigslist.org/00p0p_b95l1EgUfl...</td>\n",
       "      <td>2005 Ford F350 Lariat (Bullet Proofed). This t...</td>\n",
       "      <td>al</td>\n",
       "      <td>32.55</td>\n",
       "      <td>-85.47</td>\n",
       "      <td>2020-12-01T12:53:56-0600</td>\n",
       "    </tr>\n",
       "  </tbody>\n",
       "</table>\n",
       "</div>"
      ],
      "text/plain": [
       "   Unnamed: 0          id                                                url  region                     region_url  price    year manufacturer                 model  condition    cylinders    fuel  odometer title_status transmission                VIN drive       size    type paint_color                                          image_url                                        description state   lat   long              posting_date\n",
       "0           0  7240372487  https://auburn.craigslist.org/ctd/d/auburn-uni...  auburn  https://auburn.craigslist.org  35990 2010.00    chevrolet  corvette grand sport       good  8 cylinders     gas  32742.00        clean        other  1G1YU3DW1A5106980   rwd        NaN   other         NaN  https://images.craigslist.org/00N0N_ipkbHVZYf4...  Carvana is the safer way to buy a car During t...    al 32.59 -85.48  2020-12-02T08:11:30-0600\n",
       "1           1  7240309422  https://auburn.craigslist.org/cto/d/auburn-201...  auburn  https://auburn.craigslist.org   7500 2014.00      hyundai                sonata  excellent  4 cylinders     gas  93600.00        clean    automatic  5NPEC4AB0EH813529   fwd        NaN   sedan         NaN  https://images.craigslist.org/00s0s_gBHYmJ5o7y...  I'll move to another city and try to sell my c...    al 32.55 -85.47  2020-12-02T02:11:50-0600\n",
       "2           2  7240224296  https://auburn.craigslist.org/cto/d/auburn-200...  auburn  https://auburn.craigslist.org   4900 2006.00          bmw               x3 3.0i       good  6 cylinders     gas  87046.00        clean    automatic                NaN   NaN        NaN     SUV        blue  https://images.craigslist.org/00B0B_5zgEGWPOrt...  Clean 2006 BMW X3 3.0I.  Beautiful and rare Bl...    al 32.62 -85.46  2020-12-01T19:50:41-0600\n",
       "3           3  7240103965  https://auburn.craigslist.org/cto/d/lanett-tru...  auburn  https://auburn.craigslist.org   2000 1974.00    chevrolet                  c-10       good  4 cylinders     gas 190000.00        clean    automatic                NaN   rwd  full-size  pickup        blue  https://images.craigslist.org/00M0M_6o7KcDpArw...  1974 chev. truck (LONG BED) NEW starter front ...    al 32.86 -85.22  2020-12-01T15:54:45-0600\n",
       "4           4  7239983776  https://auburn.craigslist.org/cto/d/auburn-200...  auburn  https://auburn.craigslist.org  19500 2005.00         ford           f350 lariat  excellent  8 cylinders  diesel 116000.00         lien    automatic                NaN   4wd  full-size  pickup        blue  https://images.craigslist.org/00p0p_b95l1EgUfl...  2005 Ford F350 Lariat (Bullet Proofed). This t...    al 32.55 -85.47  2020-12-01T12:53:56-0600"
      ]
     },
     "execution_count": 3,
     "metadata": {},
     "output_type": "execute_result"
    }
   ],
   "source": [
    "# 전체 데이터 탐색\n",
    "df.head()"
   ]
  },
  {
   "cell_type": "code",
   "execution_count": 4,
   "metadata": {
    "ExecuteTime": {
     "end_time": "2021-09-11T07:28:51.824697Z",
     "start_time": "2021-09-11T07:28:51.779817Z"
    }
   },
   "outputs": [
    {
     "name": "stdout",
     "output_type": "stream",
     "text": [
      "[2010. 2014. 2006. 1974. 2005. 2016. 2012. 2017. 2019. 2013. 2003.   nan\n",
      " 1996. 2020. 2018. 2009. 2015. 1986. 2004. 2011. 2007. 2008. 1990. 1999.\n",
      " 1961. 1997. 2000. 1976. 1992. 1968. 2002. 1979. 1991. 1956. 2001. 1998.\n",
      " 1988. 1993. 1955. 1971. 1978. 1957. 1964. 1994. 1966. 1982. 1962. 1941.\n",
      " 1930. 1995. 1946. 1981. 1967. 1963. 1950. 1937. 1954. 1969. 1911. 1973.\n",
      " 1983. 1989. 1984. 1929. 1972. 1987. 1977. 1965. 1985. 1936. 1953. 1980.\n",
      " 1912. 1926. 1940. 2021. 1970. 1975. 1960. 1924. 1931. 1951. 1928. 1948.\n",
      " 1949. 1934. 1952. 1919. 1947. 1933. 1939. 1958. 1959. 1938. 1932. 1923.\n",
      " 1935. 1927. 1945. 1900. 1922. 1942. 1925. 1913. 1918. 1920. 1914. 1915.\n",
      " 1943. 1910. 1921.]\n"
     ]
    },
    {
     "data": {
      "text/plain": [
       "2021.0"
      ]
     },
     "execution_count": 4,
     "metadata": {},
     "output_type": "execute_result"
    }
   ],
   "source": [
    "print(df['year'].unique())\n",
    "max(df['year'].unique())"
   ]
  },
  {
   "cell_type": "code",
   "execution_count": 5,
   "metadata": {
    "ExecuteTime": {
     "end_time": "2021-09-11T07:28:51.885533Z",
     "start_time": "2021-09-11T07:28:51.834669Z"
    }
   },
   "outputs": [
    {
     "data": {
      "text/html": [
       "<div>\n",
       "<style scoped>\n",
       "    .dataframe tbody tr th:only-of-type {\n",
       "        vertical-align: middle;\n",
       "    }\n",
       "\n",
       "    .dataframe tbody tr th {\n",
       "        vertical-align: top;\n",
       "    }\n",
       "\n",
       "    .dataframe thead th {\n",
       "        text-align: right;\n",
       "    }\n",
       "</style>\n",
       "<table border=\"1\" class=\"dataframe\">\n",
       "  <thead>\n",
       "    <tr style=\"text-align: right;\">\n",
       "      <th></th>\n",
       "      <th>year</th>\n",
       "      <th>price</th>\n",
       "    </tr>\n",
       "  </thead>\n",
       "  <tbody>\n",
       "    <tr>\n",
       "      <th>year</th>\n",
       "      <td>1.00</td>\n",
       "      <td>-0.00</td>\n",
       "    </tr>\n",
       "    <tr>\n",
       "      <th>price</th>\n",
       "      <td>-0.00</td>\n",
       "      <td>1.00</td>\n",
       "    </tr>\n",
       "  </tbody>\n",
       "</table>\n",
       "</div>"
      ],
      "text/plain": [
       "       year  price\n",
       "year   1.00  -0.00\n",
       "price -0.00   1.00"
      ]
     },
     "execution_count": 5,
     "metadata": {},
     "output_type": "execute_result"
    }
   ],
   "source": [
    "df[['year','price']].corr()"
   ]
  },
  {
   "cell_type": "code",
   "execution_count": 6,
   "metadata": {
    "ExecuteTime": {
     "end_time": "2021-09-11T07:28:51.931439Z",
     "start_time": "2021-09-11T07:28:51.888526Z"
    }
   },
   "outputs": [
    {
     "data": {
      "text/plain": [
       "array(['good', 'excellent', nan, 'like new', 'fair', 'salvage', 'new'],\n",
       "      dtype=object)"
      ]
     },
     "execution_count": 6,
     "metadata": {},
     "output_type": "execute_result"
    }
   ],
   "source": [
    "df['condition'].unique()"
   ]
  },
  {
   "cell_type": "code",
   "execution_count": 7,
   "metadata": {
    "ExecuteTime": {
     "end_time": "2021-09-11T07:28:51.977318Z",
     "start_time": "2021-09-11T07:28:51.935429Z"
    }
   },
   "outputs": [
    {
     "data": {
      "text/plain": [
       "array(['8 cylinders', '4 cylinders', '6 cylinders', nan, '10 cylinders',\n",
       "       'other', '5 cylinders', '3 cylinders', '12 cylinders'],\n",
       "      dtype=object)"
      ]
     },
     "execution_count": 7,
     "metadata": {},
     "output_type": "execute_result"
    }
   ],
   "source": [
    "df['cylinders'].unique()"
   ]
  },
  {
   "cell_type": "code",
   "execution_count": 8,
   "metadata": {
    "ExecuteTime": {
     "end_time": "2021-09-11T07:28:52.022167Z",
     "start_time": "2021-09-11T07:28:51.979311Z"
    }
   },
   "outputs": [
    {
     "data": {
      "text/plain": [
       "array(['gas', 'diesel', 'other', 'hybrid', nan, 'electric'], dtype=object)"
      ]
     },
     "execution_count": 8,
     "metadata": {},
     "output_type": "execute_result"
    }
   ],
   "source": [
    "df['fuel'].unique()"
   ]
  },
  {
   "cell_type": "code",
   "execution_count": 9,
   "metadata": {
    "ExecuteTime": {
     "end_time": "2021-09-11T07:28:52.067078Z",
     "start_time": "2021-09-11T07:28:52.024163Z"
    }
   },
   "outputs": [
    {
     "data": {
      "text/plain": [
       "array([nan, 'full-size', 'mid-size', 'compact', 'sub-compact'],\n",
       "      dtype=object)"
      ]
     },
     "execution_count": 9,
     "metadata": {},
     "output_type": "execute_result"
    }
   ],
   "source": [
    "df['size'].unique()"
   ]
  },
  {
   "cell_type": "code",
   "execution_count": 10,
   "metadata": {
    "ExecuteTime": {
     "end_time": "2021-09-11T07:28:52.111956Z",
     "start_time": "2021-09-11T07:28:52.069072Z"
    }
   },
   "outputs": [
    {
     "data": {
      "text/plain": [
       "array(['other', 'sedan', 'SUV', 'pickup', 'coupe', 'van', nan, 'truck',\n",
       "       'mini-van', 'wagon', 'convertible', 'hatchback', 'bus', 'offroad'],\n",
       "      dtype=object)"
      ]
     },
     "execution_count": 10,
     "metadata": {},
     "output_type": "execute_result"
    }
   ],
   "source": [
    "df['type'].unique()"
   ]
  },
  {
   "cell_type": "markdown",
   "metadata": {},
   "source": [
    "- Unnamed:0 (df의 index #), id 컬럼은 분석에 불필요한 컬럼이므로 drop 필요\n",
    "- year(중고차 생산연도) : 가장 최신이 2021이므로 단순하게 회귀를 돌리면 2021에 가까울 수록 가격이 높게 예측될 수 있다.\n",
    "    - 추가로 전체 데이터 중 시작연도가 불분명하기 때문에 그대로 사용하기 어려움\n",
    "    - 해당 데이터를 사용하기 위해서는 전처리를 통해 조정 해줄 필요가 있음\n",
    "- manufacturer : 생산사 데이터\n",
    "    - 해당 데이터 기준으로 종류별, 생산년도별 등 기준에 따른 가격을 통해 브랜드 선호도 등을 파악할 수 있을 듯\n",
    "    - 즉, 가격 결정에 중요한 요인이 될 수 있는 변수로 예상 됨\n",
    "- odometer : 몇몇 데이터는 정수로 떨어지는것에 비해 디테일한 값도 있다.\n",
    "    - 정확하지 않게 대략적으로 기입된 데이터들이 있을 수 있음.\n",
    "    - 해당 데이터의 처리법을 고민 해볼 필요 있음\n",
    "    - binning을 통해 구간으로 나눠 categorical로 나누는 것도 방법일듯.(시각화 하여 확인 필요)"
   ]
  },
  {
   "cell_type": "code",
   "execution_count": 11,
   "metadata": {
    "ExecuteTime": {
     "end_time": "2021-09-11T07:28:52.546764Z",
     "start_time": "2021-09-11T07:28:52.113922Z"
    },
    "colab": {
     "base_uri": "https://localhost:8080/"
    },
    "id": "wrAt0umqepBE",
    "outputId": "563fb128-24dc-4507-ed2c-abcb86c57a19"
   },
   "outputs": [
    {
     "name": "stdout",
     "output_type": "stream",
     "text": [
      "<class 'pandas.core.frame.DataFrame'>\n",
      "RangeIndex: 458213 entries, 0 to 458212\n",
      "Data columns (total 26 columns):\n",
      " #   Column        Non-Null Count   Dtype  \n",
      "---  ------        --------------   -----  \n",
      " 0   Unnamed: 0    458213 non-null  int64  \n",
      " 1   id            458213 non-null  int64  \n",
      " 2   url           458213 non-null  object \n",
      " 3   region        458213 non-null  object \n",
      " 4   region_url    458213 non-null  object \n",
      " 5   price         458213 non-null  int64  \n",
      " 6   year          457163 non-null  float64\n",
      " 7   manufacturer  439993 non-null  object \n",
      " 8   model         453367 non-null  object \n",
      " 9   condition     265273 non-null  object \n",
      " 10  cylinders     287073 non-null  object \n",
      " 11  fuel          454976 non-null  object \n",
      " 12  odometer      402910 non-null  float64\n",
      " 13  title_status  455636 non-null  object \n",
      " 14  transmission  455771 non-null  object \n",
      " 15  VIN           270664 non-null  object \n",
      " 16  drive         324025 non-null  object \n",
      " 17  size          136865 non-null  object \n",
      " 18  type          345475 non-null  object \n",
      " 19  paint_color   317370 non-null  object \n",
      " 20  image_url     458185 non-null  object \n",
      " 21  description   458143 non-null  object \n",
      " 22  state         458213 non-null  object \n",
      " 23  lat           450765 non-null  float64\n",
      " 24  long          450765 non-null  float64\n",
      " 25  posting_date  458185 non-null  object \n",
      "dtypes: float64(4), int64(3), object(19)\n",
      "memory usage: 90.9+ MB\n"
     ]
    }
   ],
   "source": [
    "df.info()"
   ]
  },
  {
   "cell_type": "code",
   "execution_count": 12,
   "metadata": {
    "ExecuteTime": {
     "end_time": "2021-09-11T07:28:52.965672Z",
     "start_time": "2021-09-11T07:28:52.549756Z"
    },
    "colab": {
     "base_uri": "https://localhost:8080/"
    },
    "id": "nBvh86wae4-M",
    "outputId": "c9ca908f-e649-4628-bebc-e93eeaed9099"
   },
   "outputs": [
    {
     "data": {
      "text/plain": [
       "Unnamed: 0           0\n",
       "id                   0\n",
       "url                  0\n",
       "region               0\n",
       "region_url           0\n",
       "price                0\n",
       "year              1050\n",
       "manufacturer     18220\n",
       "model             4846\n",
       "condition       192940\n",
       "cylinders       171140\n",
       "fuel              3237\n",
       "odometer         55303\n",
       "title_status      2577\n",
       "transmission      2442\n",
       "VIN             187549\n",
       "drive           134188\n",
       "size            321348\n",
       "type            112738\n",
       "paint_color     140843\n",
       "image_url           28\n",
       "description         70\n",
       "state                0\n",
       "lat               7448\n",
       "long              7448\n",
       "posting_date        28\n",
       "dtype: int64"
      ]
     },
     "execution_count": 12,
     "metadata": {},
     "output_type": "execute_result"
    }
   ],
   "source": [
    "df.isna().sum()"
   ]
  },
  {
   "cell_type": "markdown",
   "metadata": {},
   "source": [
    "- 약 45만개 데이터\n",
    "- 중요하리라 예상한 manufacturer이 누락치가 18000여개\n",
    "    - 45만개 대비로 보면 큰 수치는 아니지만, 중요 변수로 예상되기 때문에 필요시 drop할 필요 있어 보임.\n",
    "- condition : 45만개중 약 20만개로 상당히 큰 비중의 누락치 \n",
    "    - 중요하지 않다면 condition자체를 drop하면 되지만, 상식적으로 생각해도 꽤 유의미한 데이터 일 것으로 예상\n",
    "    - 다른 컬럼을 기반으로 참조해서 전처리를 통해 채워넣어야 할 필요성이 있어 보임\n",
    "- cylinders 도 condition과 마찬가지\n",
    "- paintcolor의 경우 도 꽤 중요할 것으로 보이는데 누락된 값이 너무 많음\n",
    "    - 실제 image 링크가 있는 것으로 보아 사진으로 판별이 가능하여 대부분 누락된 것으로 예상됨\n",
    "    - 가격 예측에 활용은 하고 싶지만 현실적으로 사용하기가 쉽지 않아 보임"
   ]
  },
  {
   "cell_type": "code",
   "execution_count": 13,
   "metadata": {
    "ExecuteTime": {
     "end_time": "2021-09-11T07:28:53.085352Z",
     "start_time": "2021-09-11T07:28:52.967666Z"
    },
    "colab": {
     "base_uri": "https://localhost:8080/",
     "height": 297
    },
    "id": "CZgOJWxCeqQM",
    "outputId": "1dd8b66c-5a36-4264-a4b1-cccb052bd6b4"
   },
   "outputs": [
    {
     "data": {
      "text/html": [
       "<div>\n",
       "<style scoped>\n",
       "    .dataframe tbody tr th:only-of-type {\n",
       "        vertical-align: middle;\n",
       "    }\n",
       "\n",
       "    .dataframe tbody tr th {\n",
       "        vertical-align: top;\n",
       "    }\n",
       "\n",
       "    .dataframe thead th {\n",
       "        text-align: right;\n",
       "    }\n",
       "</style>\n",
       "<table border=\"1\" class=\"dataframe\">\n",
       "  <thead>\n",
       "    <tr style=\"text-align: right;\">\n",
       "      <th></th>\n",
       "      <th>Unnamed: 0</th>\n",
       "      <th>id</th>\n",
       "      <th>price</th>\n",
       "      <th>year</th>\n",
       "      <th>odometer</th>\n",
       "      <th>lat</th>\n",
       "      <th>long</th>\n",
       "    </tr>\n",
       "  </thead>\n",
       "  <tbody>\n",
       "    <tr>\n",
       "      <th>count</th>\n",
       "      <td>458213.00</td>\n",
       "      <td>458213.00</td>\n",
       "      <td>458213.00</td>\n",
       "      <td>457163.00</td>\n",
       "      <td>402910.00</td>\n",
       "      <td>450765.00</td>\n",
       "      <td>450765.00</td>\n",
       "    </tr>\n",
       "    <tr>\n",
       "      <th>mean</th>\n",
       "      <td>229106.00</td>\n",
       "      <td>7235233427.48</td>\n",
       "      <td>40420.93</td>\n",
       "      <td>2010.75</td>\n",
       "      <td>101669.76</td>\n",
       "      <td>38.53</td>\n",
       "      <td>-94.38</td>\n",
       "    </tr>\n",
       "    <tr>\n",
       "      <th>std</th>\n",
       "      <td>132274.84</td>\n",
       "      <td>4594362.05</td>\n",
       "      <td>8194598.60</td>\n",
       "      <td>8.87</td>\n",
       "      <td>3228622.54</td>\n",
       "      <td>5.86</td>\n",
       "      <td>18.08</td>\n",
       "    </tr>\n",
       "    <tr>\n",
       "      <th>min</th>\n",
       "      <td>0.00</td>\n",
       "      <td>7208549803.00</td>\n",
       "      <td>0.00</td>\n",
       "      <td>1900.00</td>\n",
       "      <td>0.00</td>\n",
       "      <td>-82.61</td>\n",
       "      <td>-164.09</td>\n",
       "    </tr>\n",
       "    <tr>\n",
       "      <th>25%</th>\n",
       "      <td>114553.00</td>\n",
       "      <td>7231952523.00</td>\n",
       "      <td>4900.00</td>\n",
       "      <td>2008.00</td>\n",
       "      <td>40877.00</td>\n",
       "      <td>34.60</td>\n",
       "      <td>-110.89</td>\n",
       "    </tr>\n",
       "    <tr>\n",
       "      <th>50%</th>\n",
       "      <td>229106.00</td>\n",
       "      <td>7236408504.00</td>\n",
       "      <td>10995.00</td>\n",
       "      <td>2013.00</td>\n",
       "      <td>87641.00</td>\n",
       "      <td>39.24</td>\n",
       "      <td>-88.31</td>\n",
       "    </tr>\n",
       "    <tr>\n",
       "      <th>75%</th>\n",
       "      <td>343659.00</td>\n",
       "      <td>7239320847.00</td>\n",
       "      <td>21495.00</td>\n",
       "      <td>2016.00</td>\n",
       "      <td>134000.00</td>\n",
       "      <td>42.48</td>\n",
       "      <td>-81.02</td>\n",
       "    </tr>\n",
       "    <tr>\n",
       "      <th>max</th>\n",
       "      <td>458212.00</td>\n",
       "      <td>7241019367.00</td>\n",
       "      <td>3615215112.00</td>\n",
       "      <td>2021.00</td>\n",
       "      <td>2043755555.00</td>\n",
       "      <td>82.05</td>\n",
       "      <td>150.90</td>\n",
       "    </tr>\n",
       "  </tbody>\n",
       "</table>\n",
       "</div>"
      ],
      "text/plain": [
       "       Unnamed: 0            id         price      year      odometer       lat      long\n",
       "count   458213.00     458213.00     458213.00 457163.00     402910.00 450765.00 450765.00\n",
       "mean    229106.00 7235233427.48      40420.93   2010.75     101669.76     38.53    -94.38\n",
       "std     132274.84    4594362.05    8194598.60      8.87    3228622.54      5.86     18.08\n",
       "min          0.00 7208549803.00          0.00   1900.00          0.00    -82.61   -164.09\n",
       "25%     114553.00 7231952523.00       4900.00   2008.00      40877.00     34.60   -110.89\n",
       "50%     229106.00 7236408504.00      10995.00   2013.00      87641.00     39.24    -88.31\n",
       "75%     343659.00 7239320847.00      21495.00   2016.00     134000.00     42.48    -81.02\n",
       "max     458212.00 7241019367.00 3615215112.00   2021.00 2043755555.00     82.05    150.90"
      ]
     },
     "execution_count": 13,
     "metadata": {},
     "output_type": "execute_result"
    }
   ],
   "source": [
    "df.describe()"
   ]
  },
  {
   "cell_type": "markdown",
   "metadata": {},
   "source": [
    "- price (null이 없음)\n",
    "    - 중고거래 평균가(mean) : 약 4만 달러\n",
    "    - 하위 25% : 약 5천 달러\n",
    "    - 중앙값(50%) : 약 1만불\n",
    "    - 상위 25% : 약 2만불\n",
    "    - 최대값 : 36억 달러 \n",
    "    - 최소값 : 0원 (null은 없지만 0인 데이터가 많을 수도 있음)\n",
    "    - 평균가에 비해 상위 값 평균치가 너무 낮고, 최소값이 0인 것으로 보아 데이터 입력에 오류가 있을 가능성이 보임\n",
    "\n",
    "- year\n",
    "    - 평균 거래 성사년도 : 2010\n",
    "    - 가장 오래된 거래년도(min) 이 1900 으로 평균치와 100년이 차이가 난다.\n",
    "    - year 데이터의 연도별 빈도를 봐야 알겠지만 min값은 상당히 값이 튀는 경향이 있어 보인다.\n",
    "    \n",
    "- odometer(운행 마일수)\n",
    "    - 평균값 : 약 10만 마일\n",
    "    - 최소값 : 0마일 (중고차인데 0마일인 것은 이상치일 가능성이 크다.)\n",
    "    - 최대값 : 약 20억 마일 (약 32억 km) \n",
    "    - price와 마찬가지로 값이 잘못입력된 데이터들이 많을 것으로 예상 된다."
   ]
  },
  {
   "cell_type": "markdown",
   "metadata": {},
   "source": [
    "### 기초 데이터 전처리\n",
    "\n",
    "- 불필요한 컬럼 제거\n",
    "- year를 2021년 기준으로 계산하여 age(차량의 연식) 으로 치환"
   ]
  },
  {
   "cell_type": "code",
   "execution_count": 14,
   "metadata": {
    "ExecuteTime": {
     "end_time": "2021-09-11T07:28:53.100315Z",
     "start_time": "2021-09-11T07:28:53.087346Z"
    },
    "colab": {
     "base_uri": "https://localhost:8080/"
    },
    "id": "L8wA97m-glfb",
    "outputId": "ad1c9107-7bc6-49d1-e402-c5e099e87196"
   },
   "outputs": [
    {
     "data": {
      "text/plain": [
       "Index(['Unnamed: 0', 'id', 'url', 'region', 'region_url', 'price', 'year', 'manufacturer', 'model', 'condition', 'cylinders', 'fuel', 'odometer', 'title_status', 'transmission', 'VIN', 'drive', 'size', 'type', 'paint_color', 'image_url', 'description', 'state', 'lat', 'long', 'posting_date'], dtype='object')"
      ]
     },
     "execution_count": 14,
     "metadata": {},
     "output_type": "execute_result"
    }
   ],
   "source": [
    "df.columns"
   ]
  },
  {
   "cell_type": "code",
   "execution_count": 15,
   "metadata": {
    "ExecuteTime": {
     "end_time": "2021-09-11T07:28:53.145162Z",
     "start_time": "2021-09-11T07:28:53.102304Z"
    },
    "id": "6_BXmNVqgm-a"
   },
   "outputs": [],
   "source": [
    "# 불필요한 or 사용하지 않을 컬럼 제거\n",
    "df.drop(['Unnamed: 0', 'id', 'url', 'region_url', 'VIN',\n",
    "         'image_url', 'description', 'state', 'lat', \n",
    "         'long', 'posting_date'], axis=1, inplace=True)"
   ]
  },
  {
   "cell_type": "code",
   "execution_count": 16,
   "metadata": {
    "ExecuteTime": {
     "end_time": "2021-09-11T07:28:53.237915Z",
     "start_time": "2021-09-11T07:28:53.147188Z"
    },
    "id": "6bpJLiYQhREP"
   },
   "outputs": [],
   "source": [
    "df['age'] = 2021 - df['year']\n",
    "df.drop('year', axis=1, inplace=True)"
   ]
  },
  {
   "cell_type": "code",
   "execution_count": 17,
   "metadata": {
    "ExecuteTime": {
     "end_time": "2021-09-11T07:28:53.267834Z",
     "start_time": "2021-09-11T07:28:53.239909Z"
    },
    "colab": {
     "base_uri": "https://localhost:8080/",
     "height": 575
    },
    "id": "QpTcGhoahZF3",
    "outputId": "3726c494-b4c3-4011-f576-4be23dd5bc86"
   },
   "outputs": [
    {
     "data": {
      "text/html": [
       "<div>\n",
       "<style scoped>\n",
       "    .dataframe tbody tr th:only-of-type {\n",
       "        vertical-align: middle;\n",
       "    }\n",
       "\n",
       "    .dataframe tbody tr th {\n",
       "        vertical-align: top;\n",
       "    }\n",
       "\n",
       "    .dataframe thead th {\n",
       "        text-align: right;\n",
       "    }\n",
       "</style>\n",
       "<table border=\"1\" class=\"dataframe\">\n",
       "  <thead>\n",
       "    <tr style=\"text-align: right;\">\n",
       "      <th></th>\n",
       "      <th>region</th>\n",
       "      <th>price</th>\n",
       "      <th>manufacturer</th>\n",
       "      <th>model</th>\n",
       "      <th>condition</th>\n",
       "      <th>cylinders</th>\n",
       "      <th>fuel</th>\n",
       "      <th>odometer</th>\n",
       "      <th>title_status</th>\n",
       "      <th>transmission</th>\n",
       "      <th>drive</th>\n",
       "      <th>size</th>\n",
       "      <th>type</th>\n",
       "      <th>paint_color</th>\n",
       "      <th>age</th>\n",
       "    </tr>\n",
       "  </thead>\n",
       "  <tbody>\n",
       "    <tr>\n",
       "      <th>0</th>\n",
       "      <td>auburn</td>\n",
       "      <td>35990</td>\n",
       "      <td>chevrolet</td>\n",
       "      <td>corvette grand sport</td>\n",
       "      <td>good</td>\n",
       "      <td>8 cylinders</td>\n",
       "      <td>gas</td>\n",
       "      <td>32742.00</td>\n",
       "      <td>clean</td>\n",
       "      <td>other</td>\n",
       "      <td>rwd</td>\n",
       "      <td>NaN</td>\n",
       "      <td>other</td>\n",
       "      <td>NaN</td>\n",
       "      <td>11.00</td>\n",
       "    </tr>\n",
       "    <tr>\n",
       "      <th>1</th>\n",
       "      <td>auburn</td>\n",
       "      <td>7500</td>\n",
       "      <td>hyundai</td>\n",
       "      <td>sonata</td>\n",
       "      <td>excellent</td>\n",
       "      <td>4 cylinders</td>\n",
       "      <td>gas</td>\n",
       "      <td>93600.00</td>\n",
       "      <td>clean</td>\n",
       "      <td>automatic</td>\n",
       "      <td>fwd</td>\n",
       "      <td>NaN</td>\n",
       "      <td>sedan</td>\n",
       "      <td>NaN</td>\n",
       "      <td>7.00</td>\n",
       "    </tr>\n",
       "    <tr>\n",
       "      <th>2</th>\n",
       "      <td>auburn</td>\n",
       "      <td>4900</td>\n",
       "      <td>bmw</td>\n",
       "      <td>x3 3.0i</td>\n",
       "      <td>good</td>\n",
       "      <td>6 cylinders</td>\n",
       "      <td>gas</td>\n",
       "      <td>87046.00</td>\n",
       "      <td>clean</td>\n",
       "      <td>automatic</td>\n",
       "      <td>NaN</td>\n",
       "      <td>NaN</td>\n",
       "      <td>SUV</td>\n",
       "      <td>blue</td>\n",
       "      <td>15.00</td>\n",
       "    </tr>\n",
       "    <tr>\n",
       "      <th>3</th>\n",
       "      <td>auburn</td>\n",
       "      <td>2000</td>\n",
       "      <td>chevrolet</td>\n",
       "      <td>c-10</td>\n",
       "      <td>good</td>\n",
       "      <td>4 cylinders</td>\n",
       "      <td>gas</td>\n",
       "      <td>190000.00</td>\n",
       "      <td>clean</td>\n",
       "      <td>automatic</td>\n",
       "      <td>rwd</td>\n",
       "      <td>full-size</td>\n",
       "      <td>pickup</td>\n",
       "      <td>blue</td>\n",
       "      <td>47.00</td>\n",
       "    </tr>\n",
       "    <tr>\n",
       "      <th>4</th>\n",
       "      <td>auburn</td>\n",
       "      <td>19500</td>\n",
       "      <td>ford</td>\n",
       "      <td>f350 lariat</td>\n",
       "      <td>excellent</td>\n",
       "      <td>8 cylinders</td>\n",
       "      <td>diesel</td>\n",
       "      <td>116000.00</td>\n",
       "      <td>lien</td>\n",
       "      <td>automatic</td>\n",
       "      <td>4wd</td>\n",
       "      <td>full-size</td>\n",
       "      <td>pickup</td>\n",
       "      <td>blue</td>\n",
       "      <td>16.00</td>\n",
       "    </tr>\n",
       "    <tr>\n",
       "      <th>...</th>\n",
       "      <td>...</td>\n",
       "      <td>...</td>\n",
       "      <td>...</td>\n",
       "      <td>...</td>\n",
       "      <td>...</td>\n",
       "      <td>...</td>\n",
       "      <td>...</td>\n",
       "      <td>...</td>\n",
       "      <td>...</td>\n",
       "      <td>...</td>\n",
       "      <td>...</td>\n",
       "      <td>...</td>\n",
       "      <td>...</td>\n",
       "      <td>...</td>\n",
       "      <td>...</td>\n",
       "    </tr>\n",
       "    <tr>\n",
       "      <th>458208</th>\n",
       "      <td>wausau</td>\n",
       "      <td>14995</td>\n",
       "      <td>cadillac</td>\n",
       "      <td>srx</td>\n",
       "      <td>excellent</td>\n",
       "      <td>6 cylinders</td>\n",
       "      <td>gas</td>\n",
       "      <td>83790.00</td>\n",
       "      <td>clean</td>\n",
       "      <td>automatic</td>\n",
       "      <td>4wd</td>\n",
       "      <td>mid-size</td>\n",
       "      <td>SUV</td>\n",
       "      <td>silver</td>\n",
       "      <td>7.00</td>\n",
       "    </tr>\n",
       "    <tr>\n",
       "      <th>458209</th>\n",
       "      <td>wausau</td>\n",
       "      <td>17895</td>\n",
       "      <td>hyundai</td>\n",
       "      <td>tucson</td>\n",
       "      <td>excellent</td>\n",
       "      <td>4 cylinders</td>\n",
       "      <td>gas</td>\n",
       "      <td>31888.00</td>\n",
       "      <td>clean</td>\n",
       "      <td>automatic</td>\n",
       "      <td>4wd</td>\n",
       "      <td>mid-size</td>\n",
       "      <td>SUV</td>\n",
       "      <td>white</td>\n",
       "      <td>3.00</td>\n",
       "    </tr>\n",
       "    <tr>\n",
       "      <th>458210</th>\n",
       "      <td>wyoming</td>\n",
       "      <td>17900</td>\n",
       "      <td>cadillac</td>\n",
       "      <td>cts coupe awd</td>\n",
       "      <td>excellent</td>\n",
       "      <td>6 cylinders</td>\n",
       "      <td>gas</td>\n",
       "      <td>53000.00</td>\n",
       "      <td>clean</td>\n",
       "      <td>automatic</td>\n",
       "      <td>4wd</td>\n",
       "      <td>mid-size</td>\n",
       "      <td>coupe</td>\n",
       "      <td>black</td>\n",
       "      <td>7.00</td>\n",
       "    </tr>\n",
       "    <tr>\n",
       "      <th>458211</th>\n",
       "      <td>wyoming</td>\n",
       "      <td>1300</td>\n",
       "      <td>jeep</td>\n",
       "      <td>grand cherokee</td>\n",
       "      <td>good</td>\n",
       "      <td>8 cylinders</td>\n",
       "      <td>gas</td>\n",
       "      <td>164000.00</td>\n",
       "      <td>clean</td>\n",
       "      <td>automatic</td>\n",
       "      <td>4wd</td>\n",
       "      <td>mid-size</td>\n",
       "      <td>SUV</td>\n",
       "      <td>white</td>\n",
       "      <td>13.00</td>\n",
       "    </tr>\n",
       "    <tr>\n",
       "      <th>458212</th>\n",
       "      <td>wyoming</td>\n",
       "      <td>22900</td>\n",
       "      <td>NaN</td>\n",
       "      <td>International 4300</td>\n",
       "      <td>NaN</td>\n",
       "      <td>NaN</td>\n",
       "      <td>diesel</td>\n",
       "      <td>164000.00</td>\n",
       "      <td>clean</td>\n",
       "      <td>automatic</td>\n",
       "      <td>NaN</td>\n",
       "      <td>NaN</td>\n",
       "      <td>NaN</td>\n",
       "      <td>NaN</td>\n",
       "      <td>13.00</td>\n",
       "    </tr>\n",
       "  </tbody>\n",
       "</table>\n",
       "<p>458213 rows × 15 columns</p>\n",
       "</div>"
      ],
      "text/plain": [
       "         region  price manufacturer                 model  condition    cylinders    fuel  odometer title_status transmission drive       size    type paint_color   age\n",
       "0        auburn  35990    chevrolet  corvette grand sport       good  8 cylinders     gas  32742.00        clean        other   rwd        NaN   other         NaN 11.00\n",
       "1        auburn   7500      hyundai                sonata  excellent  4 cylinders     gas  93600.00        clean    automatic   fwd        NaN   sedan         NaN  7.00\n",
       "2        auburn   4900          bmw               x3 3.0i       good  6 cylinders     gas  87046.00        clean    automatic   NaN        NaN     SUV        blue 15.00\n",
       "3        auburn   2000    chevrolet                  c-10       good  4 cylinders     gas 190000.00        clean    automatic   rwd  full-size  pickup        blue 47.00\n",
       "4        auburn  19500         ford           f350 lariat  excellent  8 cylinders  diesel 116000.00         lien    automatic   4wd  full-size  pickup        blue 16.00\n",
       "...         ...    ...          ...                   ...        ...          ...     ...       ...          ...          ...   ...        ...     ...         ...   ...\n",
       "458208   wausau  14995     cadillac                   srx  excellent  6 cylinders     gas  83790.00        clean    automatic   4wd   mid-size     SUV      silver  7.00\n",
       "458209   wausau  17895      hyundai                tucson  excellent  4 cylinders     gas  31888.00        clean    automatic   4wd   mid-size     SUV       white  3.00\n",
       "458210  wyoming  17900     cadillac         cts coupe awd  excellent  6 cylinders     gas  53000.00        clean    automatic   4wd   mid-size   coupe       black  7.00\n",
       "458211  wyoming   1300         jeep        grand cherokee       good  8 cylinders     gas 164000.00        clean    automatic   4wd   mid-size     SUV       white 13.00\n",
       "458212  wyoming  22900          NaN    International 4300        NaN          NaN  diesel 164000.00        clean    automatic   NaN        NaN     NaN         NaN 13.00\n",
       "\n",
       "[458213 rows x 15 columns]"
      ]
     },
     "execution_count": 17,
     "metadata": {},
     "output_type": "execute_result"
    }
   ],
   "source": [
    "df"
   ]
  },
  {
   "cell_type": "markdown",
   "metadata": {
    "id": "HGHvPwkNtXgj"
   },
   "source": [
    "### 범주형 데이터 분석"
   ]
  },
  {
   "cell_type": "markdown",
   "metadata": {},
   "source": [
    "#### 1) manufacturer"
   ]
  },
  {
   "cell_type": "code",
   "execution_count": 18,
   "metadata": {
    "ExecuteTime": {
     "end_time": "2021-09-11T07:28:53.312713Z",
     "start_time": "2021-09-11T07:28:53.269829Z"
    },
    "colab": {
     "base_uri": "https://localhost:8080/"
    },
    "id": "b_zcrUDF7khF",
    "outputId": "833b4018-d96f-4851-ad93-9b720bccd67e"
   },
   "outputs": [
    {
     "data": {
      "text/plain": [
       "43"
      ]
     },
     "execution_count": 18,
     "metadata": {},
     "output_type": "execute_result"
    }
   ],
   "source": [
    "# 제조사의 총 개수 파악\n",
    "len(df['manufacturer'].value_counts())"
   ]
  },
  {
   "cell_type": "code",
   "execution_count": 19,
   "metadata": {
    "ExecuteTime": {
     "end_time": "2021-09-11T07:28:53.357593Z",
     "start_time": "2021-09-11T07:28:53.314740Z"
    },
    "colab": {
     "base_uri": "https://localhost:8080/"
    },
    "id": "2KYmVIfqh7OK",
    "outputId": "10171ee8-2171-41c6-d2d3-6b55378c01eb"
   },
   "outputs": [
    {
     "data": {
      "text/plain": [
       "ford               79666\n",
       "chevrolet          64977\n",
       "toyota             38577\n",
       "honda              25868\n",
       "nissan             23654\n",
       "jeep               21165\n",
       "ram                17697\n",
       "gmc                17267\n",
       "dodge              16730\n",
       "bmw                12352\n",
       "hyundai            10975\n",
       "mercedes-benz      10628\n",
       "subaru             10510\n",
       "volkswagen         10489\n",
       "kia                 8854\n",
       "chrysler            7499\n",
       "lexus               7119\n",
       "cadillac            6743\n",
       "buick               6009\n",
       "mazda               5931\n",
       "audi                5583\n",
       "acura               4008\n",
       "infiniti            3714\n",
       "lincoln             3338\n",
       "pontiac             3037\n",
       "volvo               2866\n",
       "mini                2330\n",
       "mitsubishi          2301\n",
       "porsche             1779\n",
       "rover               1662\n",
       "mercury             1645\n",
       "saturn              1393\n",
       "tesla               1067\n",
       "jaguar              1060\n",
       "fiat                 955\n",
       "alfa-romeo           187\n",
       "harley-davidson      139\n",
       "ferrari               96\n",
       "datsun                63\n",
       "aston-martin          35\n",
       "land rover            21\n",
       "morgan                 3\n",
       "hennessey              1\n",
       "Name: manufacturer, dtype: int64"
      ]
     },
     "execution_count": 19,
     "metadata": {},
     "output_type": "execute_result"
    }
   ],
   "source": [
    "# 제조사별 중고차 데이터의 개수 확인\n",
    "df['manufacturer'].value_counts()"
   ]
  },
  {
   "cell_type": "code",
   "execution_count": 20,
   "metadata": {
    "ExecuteTime": {
     "end_time": "2021-09-11T07:28:53.372582Z",
     "start_time": "2021-09-11T07:28:53.359589Z"
    }
   },
   "outputs": [],
   "source": [
    "# 범주형 변수 시각화 전용 함수 생성\n",
    "# figsize 기본은 (8,10) 으로하되, 임의로 변경 가능하도록 지정\n",
    "# data=df.fillna('n/a') 를 통해 누락된 값을 n/a 라는 새로운 category를 만들어 줌.\n",
    "# order 를 통해 count 값이 큰 것 기준으로 정렬되어 출력되도록 설정\n",
    "# category 명이 길어서 x축으로 할 경우 글자가 겹치므로 y축에 데이터 입력\n",
    "\n",
    "\n",
    "def countplot(column, figsize=(8,10)):\n",
    "    fig = plt.figure(figsize=figsize)\n",
    "    sns.countplot(y=column, data=df.fillna('n/a'), order=df.fillna('n/a')[column].value_counts().index);"
   ]
  },
  {
   "cell_type": "code",
   "execution_count": 21,
   "metadata": {
    "ExecuteTime": {
     "end_time": "2021-09-11T07:28:55.064056Z",
     "start_time": "2021-09-11T07:28:53.374548Z"
    }
   },
   "outputs": [
    {
     "data": {
      "image/png": "[encoded data removed]",
      "text/plain": [
       "<Figure size 576x720 with 1 Axes>"
      ]
     },
     "metadata": {
      "needs_background": "light"
     },
     "output_type": "display_data"
    }
   ],
   "source": [
    "# manufacturer 시각화\n",
    "countplot('manufacturer')"
   ]
  },
  {
   "cell_type": "code",
   "execution_count": 22,
   "metadata": {
    "ExecuteTime": {
     "end_time": "2021-09-11T07:28:55.079013Z",
     "start_time": "2021-09-11T07:28:55.066022Z"
    },
    "colab": {
     "base_uri": "https://localhost:8080/"
    },
    "id": "Yknr15IxjKOW",
    "outputId": "c161e469-223d-4627-8400-2a5e1c5539d7"
   },
   "outputs": [
    {
     "data": {
      "text/plain": [
       "Index(['region', 'price', 'manufacturer', 'model', 'condition', 'cylinders', 'fuel', 'odometer', 'title_status', 'transmission', 'drive', 'size', 'type', 'paint_color', 'age'], dtype='object')"
      ]
     },
     "execution_count": 22,
     "metadata": {},
     "output_type": "execute_result"
    }
   ],
   "source": [
    "df.columns"
   ]
  },
  {
   "cell_type": "markdown",
   "metadata": {},
   "source": [
    "#### 2) model"
   ]
  },
  {
   "cell_type": "code",
   "execution_count": 23,
   "metadata": {
    "ExecuteTime": {
     "end_time": "2021-09-11T07:28:55.153815Z",
     "start_time": "2021-09-11T07:28:55.080981Z"
    }
   },
   "outputs": [
    {
     "data": {
      "text/plain": [
       "31520"
      ]
     },
     "execution_count": 23,
     "metadata": {},
     "output_type": "execute_result"
    }
   ],
   "source": [
    "len(df['model'].value_counts())"
   ]
  },
  {
   "cell_type": "code",
   "execution_count": 24,
   "metadata": {
    "ExecuteTime": {
     "end_time": "2021-09-11T07:28:55.228586Z",
     "start_time": "2021-09-11T07:28:55.155781Z"
    }
   },
   "outputs": [
    {
     "data": {
      "text/plain": [
       "f-150                       8370\n",
       "silverado 1500              5964\n",
       "1500                        4211\n",
       "camry                       4033\n",
       "accord                      3730\n",
       "                            ... \n",
       "dart sxt 4dr sedan             1\n",
       "century custom 4dr sedan       1\n",
       "sienna le 8 passenger          1\n",
       "soul base 4dr crossover        1\n",
       "caravana                       1\n",
       "Name: model, Length: 31520, dtype: int64"
      ]
     },
     "execution_count": 24,
     "metadata": {},
     "output_type": "execute_result"
    }
   ],
   "source": [
    "# length가 너무 긴 데이터의 경우 value_counts()를 해도 전체 데이터를 출력해주지 않는다.\n",
    "df['model'].value_counts()"
   ]
  },
  {
   "cell_type": "code",
   "execution_count": 84,
   "metadata": {
    "ExecuteTime": {
     "end_time": "2021-09-11T07:55:49.415784Z",
     "start_time": "2021-09-11T07:55:49.349993Z"
    },
    "colab": {
     "base_uri": "https://localhost:8080/"
    },
    "id": "SsIObknPjPV2",
    "outputId": "9789b9ae-89b8-409e-aafd-68022a1d1c4d",
    "scrolled": false
   },
   "outputs": [
    {
     "name": "stdout",
     "output_type": "stream",
     "text": [
      "['others', 414671]\n",
      "['f-150', 8204]\n",
      "['silverado 1500', 5797]\n",
      "['1500', 4107]\n",
      "['camry', 3950]\n",
      "['accord', 3676]\n",
      "['altima', 3430]\n",
      "['civic', 3390]\n",
      "['escape', 3359]\n",
      "['silverado', 2984]\n"
     ]
    }
   ],
   "source": [
    "# for문을 활용해 전체 내용을 출력할 수 는 있다.\n",
    "# 모델명 : df['model'].value_counts().index\n",
    "# 모델 별 숫자 : df['model'].value_counts()\n",
    "\n",
    "import reprlib\n",
    "r = reprlib.Repr()\n",
    "#r.maxlist = 100       # max elements displayed for lists\n",
    "#r.maxstring = 10    # max characters displayed for strings\n",
    "for model, num in zip(df['model'].value_counts().index, df['model'].value_counts()):\n",
    "  print(r.repr([model, num]))"
   ]
  },
  {
   "cell_type": "markdown",
   "metadata": {},
   "source": [
    "- 데이터 출력값이 너무 많아서 일부만 출력"
   ]
  },
  {
   "cell_type": "markdown",
   "metadata": {
    "ExecuteTime": {
     "end_time": "2021-09-10T20:07:05.226056Z",
     "start_time": "2021-09-10T20:05:18.514197Z"
    }
   },
   "source": [
    "```python\n",
    "countplot('model') \n",
    "```\n",
    "으로 시각화를 하려 했으나, 데이터가 너무 커서 메모리상의 한계로 에러가 발생"
   ]
  },
  {
   "cell_type": "markdown",
   "metadata": {},
   "source": [
    "- 각 모델명 별로 1개의 값이 있는 경우도 있다.\n",
    "- 공백이 2칸 이상 있는 데이터 등 스크래핑을 통해 수집된 데이터로서 발생하는 몇몇 에러들이 보인다."
   ]
  },
  {
   "cell_type": "markdown",
   "metadata": {},
   "source": [
    "#### 3) condition"
   ]
  },
  {
   "cell_type": "code",
   "execution_count": 26,
   "metadata": {
    "ExecuteTime": {
     "end_time": "2021-09-11T07:29:00.928331Z",
     "start_time": "2021-09-11T07:28:59.847225Z"
    }
   },
   "outputs": [
    {
     "data": {
      "image/png": "[encoded data removed]",
      "text/plain": [
       "<Figure size 576x720 with 1 Axes>"
      ]
     },
     "metadata": {
      "needs_background": "light"
     },
     "output_type": "display_data"
    }
   ],
   "source": [
    "countplot('condition')"
   ]
  },
  {
   "cell_type": "markdown",
   "metadata": {},
   "source": [
    "- salvage : 상태가 매우 안좋은 것을 의미\n",
    "- n/a 값이 가장 많다. \n",
    "    - 차량 상태를 명확히 보여주지 않기 위해 입력 자체를 하지 않았을 가능성이 있어 보인다.\n",
    "    - 차량 상태에 관련된 변수(age, odometer 등)를 통해 유추해서 채워넣는 등 전처리를 시도해볼 필요성 있음"
   ]
  },
  {
   "cell_type": "markdown",
   "metadata": {},
   "source": [
    "#### 4) cylinders"
   ]
  },
  {
   "cell_type": "code",
   "execution_count": 27,
   "metadata": {
    "ExecuteTime": {
     "end_time": "2021-09-11T07:29:02.020438Z",
     "start_time": "2021-09-11T07:29:00.930355Z"
    },
    "colab": {
     "base_uri": "https://localhost:8080/",
     "height": 296
    },
    "id": "hxBSR3c4kEdz",
    "outputId": "c8df6670-6b07-4dd0-c832-272e0419c1da"
   },
   "outputs": [
    {
     "data": {
      "image/png": "[encoded data removed]",
      "text/plain": [
       "<Figure size 576x720 with 1 Axes>"
      ]
     },
     "metadata": {
      "needs_background": "light"
     },
     "output_type": "display_data"
    }
   ],
   "source": [
    "countplot('cylinders')"
   ]
  },
  {
   "cell_type": "markdown",
   "metadata": {},
   "source": [
    "- n/a값이 대부분을 차지\n",
    "- 여러가지 전처리 방식을 고민해볼 필요가 있다.\n",
    "    - 데이터 수가 소수인 값들을 n/a에 포함시켜서 분석을 진행 하는 방식\n",
    "    - n/a 데이터를 다른 컬럼으로 유추해서 채워넣는 방식"
   ]
  },
  {
   "cell_type": "markdown",
   "metadata": {},
   "source": [
    "#### 5) fuel"
   ]
  },
  {
   "cell_type": "code",
   "execution_count": 28,
   "metadata": {
    "ExecuteTime": {
     "end_time": "2021-09-11T07:29:03.067632Z",
     "start_time": "2021-09-11T07:29:02.022432Z"
    },
    "colab": {
     "base_uri": "https://localhost:8080/",
     "height": 296
    },
    "id": "TUocZrbFkJzq",
    "outputId": "bfb57d70-ce71-4ff0-81fb-286522d771eb"
   },
   "outputs": [
    {
     "data": {
      "image/png": "[encoded data removed]",
      "text/plain": [
       "<Figure size 576x720 with 1 Axes>"
      ]
     },
     "metadata": {
      "needs_background": "light"
     },
     "output_type": "display_data"
    }
   ],
   "source": [
    "countplot('fuel')"
   ]
  },
  {
   "cell_type": "markdown",
   "metadata": {},
   "source": [
    "- 대부분 gas 차량"
   ]
  },
  {
   "cell_type": "markdown",
   "metadata": {},
   "source": [
    "#### 6) transmission"
   ]
  },
  {
   "cell_type": "code",
   "execution_count": 29,
   "metadata": {
    "ExecuteTime": {
     "end_time": "2021-09-11T07:29:04.114832Z",
     "start_time": "2021-09-11T07:29:03.069630Z"
    },
    "colab": {
     "base_uri": "https://localhost:8080/",
     "height": 296
    },
    "id": "OIenNbCKk6OX",
    "outputId": "3350d246-531b-4b1c-aa2d-1219e9eff807"
   },
   "outputs": [
    {
     "data": {
      "image/png": "[encoded data removed]",
      "text/plain": [
       "<Figure size 576x720 with 1 Axes>"
      ]
     },
     "metadata": {
      "needs_background": "light"
     },
     "output_type": "display_data"
    }
   ],
   "source": [
    "countplot('transmission')"
   ]
  },
  {
   "cell_type": "markdown",
   "metadata": {},
   "source": [
    "- 대부분이 automatic 차량\n",
    "- n/a값이 적어서 drop해도 분석에 지장 없을 듯"
   ]
  },
  {
   "cell_type": "markdown",
   "metadata": {},
   "source": [
    "#### 7) drive"
   ]
  },
  {
   "cell_type": "code",
   "execution_count": 30,
   "metadata": {
    "ExecuteTime": {
     "end_time": "2021-09-11T07:29:05.132162Z",
     "start_time": "2021-09-11T07:29:04.116827Z"
    },
    "colab": {
     "base_uri": "https://localhost:8080/",
     "height": 296
    },
    "id": "oS-X_Ti3k-JH",
    "outputId": "bc112a3d-3fe6-494f-a7c4-5a1a63650482"
   },
   "outputs": [
    {
     "data": {
      "image/png": "[encoded data removed]",
      "text/plain": [
       "<Figure size 576x720 with 1 Axes>"
      ]
     },
     "metadata": {
      "needs_background": "light"
     },
     "output_type": "display_data"
    }
   ],
   "source": [
    "countplot('drive')"
   ]
  },
  {
   "cell_type": "markdown",
   "metadata": {},
   "source": [
    "- 전반적으로 데이터 분포가 고른편\n",
    "- 별다른 전처리 없이 학습시켜도 될 듯 하다."
   ]
  },
  {
   "cell_type": "markdown",
   "metadata": {},
   "source": [
    "#### 8) size"
   ]
  },
  {
   "cell_type": "code",
   "execution_count": 31,
   "metadata": {
    "ExecuteTime": {
     "end_time": "2021-09-11T07:29:06.164399Z",
     "start_time": "2021-09-11T07:29:05.134185Z"
    },
    "colab": {
     "base_uri": "https://localhost:8080/",
     "height": 296
    },
    "id": "epPApKnSk-kP",
    "outputId": "f40fc405-ebd9-417f-9eb9-51ce711ff90b"
   },
   "outputs": [
    {
     "data": {
      "image/png": "[encoded data removed]",
      "text/plain": [
       "<Figure size 576x720 with 1 Axes>"
      ]
     },
     "metadata": {
      "needs_background": "light"
     },
     "output_type": "display_data"
    }
   ],
   "source": [
    "countplot('size')"
   ]
  },
  {
   "cell_type": "markdown",
   "metadata": {},
   "source": [
    "- n/a가 가장 많다.\n",
    "- 통계적 분석 결과에 따라 유의미할 것으로 판단되면 사용하되, 그렇지 않으면 제거하는 것을 고려"
   ]
  },
  {
   "cell_type": "markdown",
   "metadata": {},
   "source": [
    "#### 9) type"
   ]
  },
  {
   "cell_type": "code",
   "execution_count": 32,
   "metadata": {
    "ExecuteTime": {
     "end_time": "2021-09-11T07:29:07.271436Z",
     "start_time": "2021-09-11T07:29:06.166394Z"
    },
    "colab": {
     "base_uri": "https://localhost:8080/",
     "height": 296
    },
    "id": "GcqojbJCk_O_",
    "outputId": "0a23803e-4bd7-4267-e4c3-df3022969b8e"
   },
   "outputs": [
    {
     "data": {
      "image/png": "[encoded data removed]",
      "text/plain": [
       "<Figure size 576x720 with 1 Axes>"
      ]
     },
     "metadata": {
      "needs_background": "light"
     },
     "output_type": "display_data"
    }
   ],
   "source": [
    "countplot('type')"
   ]
  },
  {
   "cell_type": "markdown",
   "metadata": {},
   "source": [
    "- n/a가 가장 많다."
   ]
  },
  {
   "cell_type": "markdown",
   "metadata": {},
   "source": [
    "#### 10) paint_color"
   ]
  },
  {
   "cell_type": "code",
   "execution_count": 33,
   "metadata": {
    "ExecuteTime": {
     "end_time": "2021-09-11T07:29:08.379503Z",
     "start_time": "2021-09-11T07:29:07.273463Z"
    },
    "colab": {
     "base_uri": "https://localhost:8080/",
     "height": 296
    },
    "id": "Bpx8rk-JlGWO",
    "outputId": "e0f19cce-0099-459c-cc2c-eb50821c50f9"
   },
   "outputs": [
    {
     "data": {
      "image/png": "[encoded data removed]",
      "text/plain": [
       "<Figure size 576x720 with 1 Axes>"
      ]
     },
     "metadata": {
      "needs_background": "light"
     },
     "output_type": "display_data"
    }
   ],
   "source": [
    "countplot('paint_color')"
   ]
  },
  {
   "cell_type": "markdown",
   "metadata": {},
   "source": [
    "- n/a값이 가장 많다.\n",
    "- custom에 따른 가격차이를 확인해볼 필요 있음\n",
    "    - custom은 취향 차이에 따라 호불호가 갈릴 수 있을 것 같음.(=어떤 의미론 유의미한 값이 될 가능성이 있음)"
   ]
  },
  {
   "cell_type": "markdown",
   "metadata": {
    "id": "amkU5Y6g7Dp4"
   },
   "source": [
    "### 수치형 데이터 분석\n",
    "\n",
    "- 데이터의 범위가 너무 넓고 많은 경우 histplot은 ram할당량 초과로 연산이 안되는 경우가 많다.\n",
    "- 특히, price의 경우 df.describe()로 확인했을때도 데이터의 분포가 이상할 것으로 예상되었다."
   ]
  },
  {
   "cell_type": "markdown",
   "metadata": {},
   "source": [
    "#### 1) price"
   ]
  },
  {
   "cell_type": "code",
   "execution_count": 34,
   "metadata": {
    "ExecuteTime": {
     "end_time": "2021-09-11T07:29:08.544030Z",
     "start_time": "2021-09-11T07:29:08.381499Z"
    }
   },
   "outputs": [
    {
     "data": {
      "text/plain": [
       "<AxesSubplot:xlabel='price'>"
      ]
     },
     "execution_count": 34,
     "metadata": {},
     "output_type": "execute_result"
    },
    {
     "data": {
      "image/png": "[encoded data removed]",
      "text/plain": [
       "<Figure size 576x144 with 1 Axes>"
      ]
     },
     "metadata": {
      "needs_background": "light"
     },
     "output_type": "display_data"
    }
   ],
   "source": [
    "fig = plt.figure(figsize=(8, 2))\n",
    "sns.boxplot(x='price', data=df)"
   ]
  },
  {
   "cell_type": "markdown",
   "metadata": {},
   "source": [
    "- boxplot으로 보기엔 데이터의 분포등을 확인하긴 어렵다.\n",
    "- outliers가 상당히 많다는 것은 대략적으로 파악 가능하다.\n",
    "- 이럴땐 rugplot(x,y축 기반 주변 분포도, 개별 데이터 위치 파악 용이)으로 시각화 해보는 것이 데이터 분포 파악에는 더 유용하다."
   ]
  },
  {
   "cell_type": "code",
   "execution_count": 35,
   "metadata": {
    "ExecuteTime": {
     "end_time": "2021-09-11T07:29:15.770688Z",
     "start_time": "2021-09-11T07:29:08.546054Z"
    },
    "colab": {
     "base_uri": "https://localhost:8080/",
     "height": 188
    },
    "id": "GZXSBFPyDh6R",
    "outputId": "70b9b46a-4cbf-472b-f54d-b27b3f419033"
   },
   "outputs": [
    {
     "data": {
      "text/plain": [
       "<AxesSubplot:xlabel='price'>"
      ]
     },
     "execution_count": 35,
     "metadata": {},
     "output_type": "execute_result"
    },
    {
     "data": {
      "image/png": "[encoded data removed]",
      "text/plain": [
       "<Figure size 576x144 with 1 Axes>"
      ]
     },
     "metadata": {
      "needs_background": "light"
     },
     "output_type": "display_data"
    }
   ],
   "source": [
    "fig = plt.figure(figsize=(8, 2))\n",
    "sns.rugplot(x='price', data=df, height=1)"
   ]
  },
  {
   "cell_type": "markdown",
   "metadata": {},
   "source": [
    "- 1e9(10의 9승) 인 outlier는 제외하더라도, 데이터가 한쪽에 너무 치중되어 있어 유의미한 통계적 의미를 찾기가 어렵다."
   ]
  },
  {
   "cell_type": "markdown",
   "metadata": {},
   "source": [
    "#### 2) odometer\n",
    "- df.describe()로 봤을때, 이상치로 예상되는 값의 크기가 상당했다."
   ]
  },
  {
   "cell_type": "code",
   "execution_count": 36,
   "metadata": {
    "ExecuteTime": {
     "end_time": "2021-09-11T07:29:22.248384Z",
     "start_time": "2021-09-11T07:29:15.772684Z"
    },
    "colab": {
     "base_uri": "https://localhost:8080/",
     "height": 188
    },
    "id": "qVr12uPAlwrS",
    "outputId": "e321e155-9cc7-4c8e-fd85-b340dcc71962"
   },
   "outputs": [
    {
     "data": {
      "text/plain": [
       "<AxesSubplot:xlabel='odometer'>"
      ]
     },
     "execution_count": 36,
     "metadata": {},
     "output_type": "execute_result"
    },
    {
     "data": {
      "image/png": "[encoded data removed]",
      "text/plain": [
       "<Figure size 576x144 with 1 Axes>"
      ]
     },
     "metadata": {
      "needs_background": "light"
     },
     "output_type": "display_data"
    }
   ],
   "source": [
    "fig = plt.figure(figsize=(8, 2))\n",
    "sns.rugplot(x='odometer', data=df, height=1)"
   ]
  },
  {
   "cell_type": "markdown",
   "metadata": {},
   "source": [
    "- 1e9(10의 9승) 인 outlier는 제외하더라도, 데이터가 한쪽에 너무 치중되어 있어 유의미한 통계적 의미를 찾기가 어렵다."
   ]
  },
  {
   "cell_type": "markdown",
   "metadata": {},
   "source": [
    "#### 3) age"
   ]
  },
  {
   "cell_type": "code",
   "execution_count": 37,
   "metadata": {
    "ExecuteTime": {
     "end_time": "2021-09-11T07:29:26.648576Z",
     "start_time": "2021-09-11T07:29:22.250348Z"
    },
    "colab": {
     "base_uri": "https://localhost:8080/",
     "height": 296
    },
    "id": "baEt6p2Ml3kU",
    "outputId": "bb9c5d09-4a9d-4ff2-f419-1379d4a6891b"
   },
   "outputs": [
    {
     "data": {
      "text/plain": [
       "<AxesSubplot:xlabel='age', ylabel='Count'>"
      ]
     },
     "execution_count": 37,
     "metadata": {},
     "output_type": "execute_result"
    },
    {
     "data": {
      "image/png": "[encoded data removed]",
      "text/plain": [
       "<Figure size 864x648 with 1 Axes>"
      ]
     },
     "metadata": {
      "needs_background": "light"
     },
     "output_type": "display_data"
    }
   ],
   "source": [
    "sns.histplot(x='age', data=df, bins=18, kde=True)"
   ]
  },
  {
   "cell_type": "markdown",
   "metadata": {},
   "source": [
    "- 5 ~ 10년 정도 된 차량이 가장 많은 분포를 보인다."
   ]
  },
  {
   "cell_type": "markdown",
   "metadata": {
    "id": "izztXKpllMss"
   },
   "source": [
    "## 데이터 클리닝"
   ]
  },
  {
   "cell_type": "markdown",
   "metadata": {
    "id": "KywGh9sjtYl9"
   },
   "source": [
    "### 범주형 데이터 시각화 & 분석\n",
    "\n",
    "- 범주형 데이터 x price 의 연관성 분석"
   ]
  },
  {
   "cell_type": "code",
   "execution_count": 38,
   "metadata": {
    "ExecuteTime": {
     "end_time": "2021-09-11T07:29:28.325089Z",
     "start_time": "2021-09-11T07:29:26.650571Z"
    },
    "colab": {
     "base_uri": "https://localhost:8080/",
     "height": 307
    },
    "id": "TqXkwW8JDxhH",
    "outputId": "6ebb03a8-73d5-40b0-fcde-b395bf9c96a3"
   },
   "outputs": [
    {
     "data": {
      "text/plain": [
       "<AxesSubplot:xlabel='manufacturer', ylabel='price'>"
      ]
     },
     "execution_count": 38,
     "metadata": {},
     "output_type": "execute_result"
    },
    {
     "data": {
      "image/png": "[encoded data removed]",
      "text/plain": [
       "<Figure size 864x648 with 1 Axes>"
      ]
     },
     "metadata": {
      "needs_background": "light"
     },
     "output_type": "display_data"
    }
   ],
   "source": [
    "# Boxplot 계열로 범주형 데이터를 시각화하여 분석\n",
    "# null값은 n/a로 채워서 확인\n",
    "sns.boxplot(x='manufacturer', y='price', data=df.fillna('n/a'))"
   ]
  },
  {
   "cell_type": "code",
   "execution_count": 39,
   "metadata": {
    "ExecuteTime": {
     "end_time": "2021-09-11T07:29:29.103036Z",
     "start_time": "2021-09-11T07:29:28.327084Z"
    },
    "colab": {
     "base_uri": "https://localhost:8080/",
     "height": 307
    },
    "id": "3C4yRUpvpgb-",
    "outputId": "81f8fddc-0f14-46f1-91f0-1507e6998327"
   },
   "outputs": [
    {
     "data": {
      "text/plain": [
       "<AxesSubplot:xlabel='fuel', ylabel='price'>"
      ]
     },
     "execution_count": 39,
     "metadata": {},
     "output_type": "execute_result"
    },
    {
     "data": {
      "image/png": "[encoded data removed]",
      "text/plain": [
       "<Figure size 864x648 with 1 Axes>"
      ]
     },
     "metadata": {
      "needs_background": "light"
     },
     "output_type": "display_data"
    }
   ],
   "source": [
    "sns.boxplot(x='fuel', y='price', data=df.fillna('n/a'))"
   ]
  },
  {
   "cell_type": "markdown",
   "metadata": {},
   "source": [
    "- 위에서 대략적으로 살펴보았듯이 n/a값이 너무 많거나, 데이터가 특정 범주에 몰려있는 경우가 많다.\n",
    "- 이로 인해 시각화를 하여도 제대로된 분석을 하기가 어렵다.\n",
    "- 데이터 클리닝을 통해 한번 정제해줄 필요가 있다."
   ]
  },
  {
   "cell_type": "markdown",
   "metadata": {
    "id": "CXLd43EZ9EgS"
   },
   "source": [
    "### 범주형 데이터 클리닝\n",
    "\n",
    "- 범주형 데이터(categorical)를 클리닝할 경우 보통 4가지 방법중 하나를 사용한다.\n",
    "    - null 데이터가 포함된 row를 제거\n",
    "    - null 데이터를 others로 치환하기\n",
    "    - 너무 소수의 값만을 보유한 범주를 others로 치환하기\n",
    "    - classifier를 학습시켜, null 데이터를 추정하여 채워넣기"
   ]
  },
  {
   "cell_type": "markdown",
   "metadata": {},
   "source": [
    "#### 1) manufacturer\n",
    "\n",
    "- 너무 소수의 값만을 보유한 범주를 others로 치환하기"
   ]
  },
  {
   "cell_type": "code",
   "execution_count": 40,
   "metadata": {
    "ExecuteTime": {
     "end_time": "2021-09-11T07:29:29.177836Z",
     "start_time": "2021-09-11T07:29:29.105001Z"
    }
   },
   "outputs": [
    {
     "data": {
      "text/plain": [
       "ford               79666\n",
       "chevrolet          64977\n",
       "toyota             38577\n",
       "honda              25868\n",
       "nissan             23654\n",
       "jeep               21165\n",
       "others             18220\n",
       "ram                17697\n",
       "gmc                17267\n",
       "dodge              16730\n",
       "bmw                12352\n",
       "hyundai            10975\n",
       "mercedes-benz      10628\n",
       "subaru             10510\n",
       "volkswagen         10489\n",
       "kia                 8854\n",
       "chrysler            7499\n",
       "lexus               7119\n",
       "cadillac            6743\n",
       "buick               6009\n",
       "mazda               5931\n",
       "audi                5583\n",
       "acura               4008\n",
       "infiniti            3714\n",
       "lincoln             3338\n",
       "pontiac             3037\n",
       "volvo               2866\n",
       "mini                2330\n",
       "mitsubishi          2301\n",
       "porsche             1779\n",
       "rover               1662\n",
       "mercury             1645\n",
       "saturn              1393\n",
       "tesla               1067\n",
       "jaguar              1060\n",
       "fiat                 955\n",
       "alfa-romeo           187\n",
       "harley-davidson      139\n",
       "ferrari               96\n",
       "datsun                63\n",
       "aston-martin          35\n",
       "land rover            21\n",
       "morgan                 3\n",
       "hennessey              1\n",
       "Name: manufacturer, dtype: int64"
      ]
     },
     "execution_count": 40,
     "metadata": {},
     "output_type": "execute_result"
    }
   ],
   "source": [
    "# null값들을 others로 값을 부여 \n",
    "# 시각화 , value_counts 등을 할때 제대로 결과가 나오도록 하기 위함.\n",
    "\n",
    "# category 별 counts가 많은 데이터부터 내림차순으로 보여진다.\n",
    "df['manufacturer'].fillna('others').value_counts()"
   ]
  },
  {
   "cell_type": "code",
   "execution_count": 41,
   "metadata": {
    "ExecuteTime": {
     "end_time": "2021-09-11T07:29:29.192768Z",
     "start_time": "2021-09-11T07:29:29.179801Z"
    }
   },
   "outputs": [],
   "source": [
    "# 범주형 데이터 시각화용 함수 생성\n",
    "# 변곡점 그리는 함수 기본 설정은 convex\n",
    "# 필요시 변경 가능\n",
    "def viz_val_counts(col, shape='convex'):\n",
    "    \n",
    "    # 데이터 입력\n",
    "    counts = df[col].fillna('others').value_counts()\n",
    "    x = range(len(counts))\n",
    "    \n",
    "    # 변곡점(elbow point) 찾기\n",
    "    from kneed import KneeLocator\n",
    "    kn = KneeLocator(x, counts, curve=shape, direction='decreasing')\n",
    "    \n",
    "    # 격자 설정\n",
    "    plt.grid(True, color='lightgray', zorder=0) \n",
    "    \n",
    "    # 시각화\n",
    "    plt.plot(x, counts)\n",
    "    \n",
    "    # elbow point 그리기\n",
    "    plt.vlines(kn.knee, plt.ylim()[0], plt.ylim()[1], linestyles='dashed', color='r')\n",
    "    \n",
    "    # elbow point 수치 표시\n",
    "    plt.text(kn.knee+0.13, counts.median(), kn.knee, fontsize = 15, color='red')\n",
    "    \n",
    "    # 시각화한 범주형 변수들의 value_counts출력\n",
    "    print(counts)\n",
    "\n",
    "# 결과 확인용 value_counts 함수 생성\n",
    "def val_counts(col):\n",
    "    return df[col].value_counts()"
   ]
  },
  {
   "cell_type": "markdown",
   "metadata": {},
   "source": [
    "- 각 컬럼(카테고리) 의 개수가 몇개인지 시각화 하는 그래프\n",
    "- category 값이 너무 많기 때문에, 일일히 category명이 들어가도록 시각화 하면 데이터를 제대로 살피기 어려움\n",
    "- 소수 값을 가진 category는 others로 치환할 것이기 때문에 변수명이 중요하진 않음\n",
    "- elbow point(변곡점)을 시각화\n",
    "    - others에 포함시킬 변수를 몇개로 정할지 참조할 때 사용."
   ]
  },
  {
   "cell_type": "code",
   "execution_count": 42,
   "metadata": {
    "ExecuteTime": {
     "end_time": "2021-09-11T07:29:29.207756Z",
     "start_time": "2021-09-11T07:29:29.194763Z"
    }
   },
   "outputs": [],
   "source": [
    "def viz_val_counts2(col, num, shape='convex'):\n",
    "    \n",
    "    # 데이터 입력\n",
    "    counts = df[col].fillna('others').value_counts()\n",
    "    x = range(len(counts[:num]))\n",
    "    \n",
    "    # 변곡점(elbow point) 찾기\n",
    "    from kneed import KneeLocator\n",
    "    kn = KneeLocator(x, counts[:num], curve=shape, direction='decreasing')\n",
    "    \n",
    "    # 격자 설정\n",
    "    plt.grid(True, color='lightgray', zorder=0) \n",
    "    \n",
    "    # 시각화\n",
    "    plt.plot(x, counts[:num])\n",
    "    \n",
    "    # elbow point 그리기\n",
    "    plt.vlines(kn.knee, plt.ylim()[0], plt.ylim()[1], linestyles='dashed', color='r')\n",
    "    \n",
    "    # elbow point 수치 표시\n",
    "    plt.text(kn.knee+0.13, counts[:num].median(), kn.knee, fontsize = 15, color='red')\n",
    "    \n",
    "    # 시각화한 범주형 변수들의 value_counts출력\n",
    "    print(counts)"
   ]
  },
  {
   "cell_type": "markdown",
   "metadata": {},
   "source": [
    "- 데이터가 극단적으로 몰려있을때, 세부적으로 조정하여 보고자 할때 사용"
   ]
  },
  {
   "cell_type": "code",
   "execution_count": 43,
   "metadata": {
    "ExecuteTime": {
     "end_time": "2021-09-11T07:29:29.462046Z",
     "start_time": "2021-09-11T07:29:29.209751Z"
    }
   },
   "outputs": [
    {
     "name": "stdout",
     "output_type": "stream",
     "text": [
      "ford               79666\n",
      "chevrolet          64977\n",
      "toyota             38577\n",
      "honda              25868\n",
      "nissan             23654\n",
      "jeep               21165\n",
      "others             18220\n",
      "ram                17697\n",
      "gmc                17267\n",
      "dodge              16730\n",
      "bmw                12352\n",
      "hyundai            10975\n",
      "mercedes-benz      10628\n",
      "subaru             10510\n",
      "volkswagen         10489\n",
      "kia                 8854\n",
      "chrysler            7499\n",
      "lexus               7119\n",
      "cadillac            6743\n",
      "buick               6009\n",
      "mazda               5931\n",
      "audi                5583\n",
      "acura               4008\n",
      "infiniti            3714\n",
      "lincoln             3338\n",
      "pontiac             3037\n",
      "volvo               2866\n",
      "mini                2330\n",
      "mitsubishi          2301\n",
      "porsche             1779\n",
      "rover               1662\n",
      "mercury             1645\n",
      "saturn              1393\n",
      "tesla               1067\n",
      "jaguar              1060\n",
      "fiat                 955\n",
      "alfa-romeo           187\n",
      "harley-davidson      139\n",
      "ferrari               96\n",
      "datsun                63\n",
      "aston-martin          35\n",
      "land rover            21\n",
      "morgan                 3\n",
      "hennessey              1\n",
      "Name: manufacturer, dtype: int64\n"
     ]
    },
    {
     "data": {
      "image/png": "[encoded data removed]",
      "text/plain": [
       "<Figure size 864x648 with 1 Axes>"
      ]
     },
     "metadata": {
      "needs_background": "light"
     },
     "output_type": "display_data"
    }
   ],
   "source": [
    "# 시각화 결과 \n",
    "viz_val_counts('manufacturer')"
   ]
  },
  {
   "cell_type": "code",
   "execution_count": 44,
   "metadata": {
    "ExecuteTime": {
     "end_time": "2021-09-11T07:29:29.536846Z",
     "start_time": "2021-09-11T07:29:29.464041Z"
    }
   },
   "outputs": [
    {
     "data": {
      "text/plain": [
       "Index(['ford', 'chevrolet', 'toyota', 'honda', 'nissan', 'jeep', 'others', 'ram', 'gmc', 'dodge', 'bmw', 'hyundai', 'mercedes-benz', 'subaru', 'volkswagen', 'kia', 'chrysler', 'lexus', 'cadillac', 'buick', 'mazda', 'audi', 'acura', 'infiniti', 'lincoln', 'pontiac', 'volvo', 'mini', 'mitsubishi', 'porsche', 'rover', 'mercury', 'saturn', 'tesla', 'jaguar', 'fiat', 'alfa-romeo', 'harley-davidson', 'ferrari', 'datsun', 'aston-martin', 'land rover', 'morgan', 'hennessey'], dtype='object')"
      ]
     },
     "execution_count": 44,
     "metadata": {},
     "output_type": "execute_result"
    }
   ],
   "source": [
    "# 해당 그래프의 category 명을 확인하고자 한다면 아래와 같이 확인 가능\n",
    "# counts가 value_counts를 해서 내림차순 정렬된 것이기 때문에 앞에 나오는 값일 수록 데이터가 많은 것.\n",
    "df['manufacturer'].fillna('others').value_counts().index"
   ]
  },
  {
   "cell_type": "markdown",
   "metadata": {
    "ExecuteTime": {
     "end_time": "2021-09-11T06:41:22.440196Z",
     "start_time": "2021-09-11T06:41:22.429225Z"
    }
   },
   "source": [
    "- 상위 10개의 데이터만 category로 남기고, 나머지는 others로 치환\n",
    "- 급격히 감소하는 지점은 6개이지만, 범주값이 너무 적어서 10개로 지정"
   ]
  },
  {
   "cell_type": "markdown",
   "metadata": {
    "ExecuteTime": {
     "end_time": "2021-09-11T06:41:22.440196Z",
     "start_time": "2021-09-11T06:41:22.429225Z"
    }
   },
   "source": [
    "- others로 치환하는 함수 생성\n",
    "```python\n",
    "def to_others(col, n_categorical):\n",
    "    counts = df[col].fillna('others').value_counts()\n",
    "    df[col] = df[col].apply(lambda s: s if str(s) not in counts.index[n_categorical:] else 'others')\n",
    "```\n",
    "\n",
    " - 위의 함수가 기본 형식.\n",
    " - 다만 유지해야할 범주의 개수보다 drop해야할 범주의 개수가 더 많을 경우 labmda 연산에서 counts.index[n_categorical:] 를 매번 불러오기 때문에 매우 오래 걸린다.\n",
    " - 따라서 미리 counts.index[n_categorical:] 를 변수화 하여 사용하면 메모리 부하를 줄일 수 있다. (아래 함수 참조)"
   ]
  },
  {
   "cell_type": "code",
   "execution_count": 45,
   "metadata": {
    "ExecuteTime": {
     "end_time": "2021-09-11T07:29:29.551805Z",
     "start_time": "2021-09-11T07:29:29.538840Z"
    }
   },
   "outputs": [],
   "source": [
    "# 지정한 개수 이외의 범주들을 others로 만드는 함수 생성\n",
    "def to_others(col, n_categorical):\n",
    "    counts = df[col].fillna('others').value_counts()\n",
    "    others = counts.index[n_categorical:]\n",
    "    df[col] = df[col].apply(lambda s: s if str(s) not in others else 'others')"
   ]
  },
  {
   "cell_type": "markdown",
   "metadata": {},
   "source": [
    "- n_categorical에 others 포함 총 몇개의 범주변수로 만들 것인지 입력\n",
    "- 시각화한 그래프로 확인한 변곡점을 기반으로 선택한 범주화의 값을 입력하여 변경"
   ]
  },
  {
   "cell_type": "code",
   "execution_count": 46,
   "metadata": {
    "ExecuteTime": {
     "end_time": "2021-09-11T07:29:29.955724Z",
     "start_time": "2021-09-11T07:29:29.553801Z"
    }
   },
   "outputs": [
    {
     "data": {
      "text/plain": [
       "others       134392\n",
       "ford          79666\n",
       "chevrolet     64977\n",
       "toyota        38577\n",
       "honda         25868\n",
       "nissan        23654\n",
       "jeep          21165\n",
       "ram           17697\n",
       "gmc           17267\n",
       "dodge         16730\n",
       "Name: manufacturer, dtype: int64"
      ]
     },
     "execution_count": 46,
     "metadata": {},
     "output_type": "execute_result"
    }
   ],
   "source": [
    "# 총 10개의 범주로 변경\n",
    "to_others('manufacturer',10)\n",
    "\n",
    "# 결과 시각화\n",
    "val_counts('manufacturer')"
   ]
  },
  {
   "cell_type": "markdown",
   "metadata": {},
   "source": [
    "- 데이터의 구성이 클리닝 전에 비해 훨씬 단순해지고 깔끔해졌다."
   ]
  },
  {
   "cell_type": "markdown",
   "metadata": {},
   "source": [
    "#### 2) region"
   ]
  },
  {
   "cell_type": "code",
   "execution_count": 47,
   "metadata": {
    "ExecuteTime": {
     "end_time": "2021-09-11T07:29:30.181121Z",
     "start_time": "2021-09-11T07:29:29.957720Z"
    }
   },
   "outputs": [
    {
     "name": "stdout",
     "output_type": "stream",
     "text": [
      "columbus               3818\n",
      "rochester              3592\n",
      "jacksonville           3504\n",
      "springfield            3293\n",
      "fayetteville           2990\n",
      "                       ... \n",
      "siskiyou county          28\n",
      "susanville               17\n",
      "west virginia (old)      11\n",
      "fort smith, AR           11\n",
      "sioux city, IA            1\n",
      "Name: region, Length: 405, dtype: int64\n"
     ]
    },
    {
     "data": {
      "image/png": "[encoded data removed]",
      "text/plain": [
       "<Figure size 864x648 with 1 Axes>"
      ]
     },
     "metadata": {
      "needs_background": "light"
     },
     "output_type": "display_data"
    }
   ],
   "source": [
    "viz_val_counts('region')"
   ]
  },
  {
   "cell_type": "markdown",
   "metadata": {},
   "source": [
    "- elbow point는 4, 상위 5개로 범주화\n",
    "- 405개의 범주를 모두 사용하면 좋지만, 이 경우 차원의 저주 문제를 피하기 어려워 최대한 단순화 하고자 함."
   ]
  },
  {
   "cell_type": "code",
   "execution_count": 48,
   "metadata": {
    "ExecuteTime": {
     "end_time": "2021-09-11T07:29:30.540160Z",
     "start_time": "2021-09-11T07:29:30.183116Z"
    }
   },
   "outputs": [
    {
     "data": {
      "text/plain": [
       "others          441016\n",
       "columbus          3818\n",
       "rochester         3592\n",
       "jacksonville      3504\n",
       "springfield       3293\n",
       "fayetteville      2990\n",
       "Name: region, dtype: int64"
      ]
     },
     "execution_count": 48,
     "metadata": {},
     "output_type": "execute_result"
    }
   ],
   "source": [
    "to_others('region',5)\n",
    "\n",
    "# 결과 확인\n",
    "val_counts('region')"
   ]
  },
  {
   "cell_type": "markdown",
   "metadata": {},
   "source": [
    "#### 3) model"
   ]
  },
  {
   "cell_type": "code",
   "execution_count": 49,
   "metadata": {
    "ExecuteTime": {
     "end_time": "2021-09-11T07:29:30.824436Z",
     "start_time": "2021-09-11T07:29:30.542156Z"
    }
   },
   "outputs": [
    {
     "name": "stdout",
     "output_type": "stream",
     "text": [
      "f-150                 8370\n",
      "silverado 1500        5964\n",
      "others                4846\n",
      "1500                  4211\n",
      "camry                 4033\n",
      "                      ... \n",
      "MG MGB Roadster          1\n",
      "1997 Astro van AWD       1\n",
      "rogue sv awd cvt         1\n",
      "HUMMER H-3               1\n",
      "caravana                 1\n",
      "Name: model, Length: 31521, dtype: int64\n"
     ]
    },
    {
     "data": {
      "image/png": "[encoded data removed]",
      "text/plain": [
       "<Figure size 864x648 with 1 Axes>"
      ]
     },
     "metadata": {
      "needs_background": "light"
     },
     "output_type": "display_data"
    }
   ],
   "source": [
    "# raw 상태의 분포 확인\n",
    "viz_val_counts('model')"
   ]
  },
  {
   "cell_type": "markdown",
   "metadata": {},
   "source": [
    "- 분포가 매우 극단적 (상위 소수에 값이 몰려있다.)\n",
    "- 조금 더 자세하게 들여다볼 필요가 있다."
   ]
  },
  {
   "cell_type": "code",
   "execution_count": 50,
   "metadata": {
    "ExecuteTime": {
     "end_time": "2021-09-11T07:29:31.108639Z",
     "start_time": "2021-09-11T07:29:30.826395Z"
    }
   },
   "outputs": [
    {
     "name": "stdout",
     "output_type": "stream",
     "text": [
      "f-150                 8370\n",
      "silverado 1500        5964\n",
      "others                4846\n",
      "1500                  4211\n",
      "camry                 4033\n",
      "                      ... \n",
      "MG MGB Roadster          1\n",
      "1997 Astro van AWD       1\n",
      "rogue sv awd cvt         1\n",
      "HUMMER H-3               1\n",
      "caravana                 1\n",
      "Name: model, Length: 31521, dtype: int64\n"
     ]
    },
    {
     "data": {
      "image/png": "[encoded data removed]",
      "text/plain": [
       "<Figure size 864x648 with 1 Axes>"
      ]
     },
     "metadata": {
      "needs_background": "light"
     },
     "output_type": "display_data"
    }
   ],
   "source": [
    "viz_val_counts2('model',20)"
   ]
  },
  {
   "cell_type": "markdown",
   "metadata": {},
   "source": [
    "- 상위 20개 범주로만 봤을때의 변곡점은 3이지만, 최대한 많은 변수를 가져가기 위해 10개로 범주화\n",
    "- 급격히 감소하는 구간을 거의다 포함할 수 있을 것으로 기대"
   ]
  },
  {
   "cell_type": "code",
   "execution_count": 51,
   "metadata": {
    "ExecuteTime": {
     "end_time": "2021-09-11T07:29:31.542478Z",
     "start_time": "2021-09-11T07:29:31.110634Z"
    }
   },
   "outputs": [
    {
     "data": {
      "text/plain": [
       "others            413556\n",
       "f-150               8370\n",
       "silverado 1500      5964\n",
       "1500                4211\n",
       "camry               4033\n",
       "accord              3730\n",
       "altima              3490\n",
       "civic               3479\n",
       "escape              3444\n",
       "silverado           3090\n",
       "Name: model, dtype: int64"
      ]
     },
     "execution_count": 51,
     "metadata": {},
     "output_type": "execute_result"
    }
   ],
   "source": [
    "to_others('model', 10)\n",
    "\n",
    "# 결과 확인\n",
    "val_counts('model')"
   ]
  },
  {
   "cell_type": "markdown",
   "metadata": {},
   "source": [
    "#### 4) condition"
   ]
  },
  {
   "cell_type": "code",
   "execution_count": 52,
   "metadata": {
    "ExecuteTime": {
     "end_time": "2021-09-11T07:29:31.587357Z",
     "start_time": "2021-09-11T07:29:31.544472Z"
    }
   },
   "outputs": [
    {
     "data": {
      "text/plain": [
       "good         115685\n",
       "excellent    115206\n",
       "like new      24553\n",
       "fair           7740\n",
       "new            1428\n",
       "salvage         661\n",
       "Name: condition, dtype: int64"
      ]
     },
     "execution_count": 52,
     "metadata": {},
     "output_type": "execute_result"
    }
   ],
   "source": [
    "val_counts('condition')"
   ]
  },
  {
   "cell_type": "markdown",
   "metadata": {},
   "source": [
    "- 변곡점에 해당하는 3을 기준으로 others 로 치환해도 될 것 같다."
   ]
  },
  {
   "cell_type": "code",
   "execution_count": 53,
   "metadata": {
    "ExecuteTime": {
     "end_time": "2021-09-11T07:29:31.991277Z",
     "start_time": "2021-09-11T07:29:31.589352Z"
    }
   },
   "outputs": [
    {
     "data": {
      "text/plain": [
       "good         115685\n",
       "excellent    115206\n",
       "others        34382\n",
       "Name: condition, dtype: int64"
      ]
     },
     "execution_count": 53,
     "metadata": {},
     "output_type": "execute_result"
    }
   ],
   "source": [
    "to_others('condition', 3)\n",
    "\n",
    "# 결과 확인\n",
    "val_counts('condition')"
   ]
  },
  {
   "cell_type": "markdown",
   "metadata": {},
   "source": [
    "#### 5) cylinders"
   ]
  },
  {
   "cell_type": "code",
   "execution_count": 54,
   "metadata": {
    "ExecuteTime": {
     "end_time": "2021-09-11T07:29:32.245596Z",
     "start_time": "2021-09-11T07:29:31.993272Z"
    }
   },
   "outputs": [
    {
     "name": "stdout",
     "output_type": "stream",
     "text": [
      "others          171140\n",
      "6 cylinders     105677\n",
      "4 cylinders      94767\n",
      "8 cylinders      81179\n",
      "5 cylinders       2058\n",
      "10 cylinders      1543\n",
      "other             1112\n",
      "3 cylinders        550\n",
      "12 cylinders       187\n",
      "Name: cylinders, dtype: int64\n"
     ]
    },
    {
     "data": {
      "image/png": "[encoded data removed]",
      "text/plain": [
       "<Figure size 864x648 with 1 Axes>"
      ]
     },
     "metadata": {
      "needs_background": "light"
     },
     "output_type": "display_data"
    }
   ],
   "source": [
    "viz_val_counts('cylinders')"
   ]
  },
  {
   "cell_type": "markdown",
   "metadata": {},
   "source": [
    "- 변곡점인 4부터 데이터 개수가 거의 같다.\n",
    "- 변곡점을 기준으로 others로 치환한다."
   ]
  },
  {
   "cell_type": "code",
   "execution_count": 55,
   "metadata": {
    "ExecuteTime": {
     "end_time": "2021-09-11T07:29:32.649515Z",
     "start_time": "2021-09-11T07:29:32.247591Z"
    }
   },
   "outputs": [
    {
     "data": {
      "text/plain": [
       "6 cylinders    105677\n",
       "4 cylinders     94767\n",
       "8 cylinders     81179\n",
       "others           5450\n",
       "Name: cylinders, dtype: int64"
      ]
     },
     "execution_count": 55,
     "metadata": {},
     "output_type": "execute_result"
    }
   ],
   "source": [
    "to_others('cylinders', 4)\n",
    "\n",
    "# 결과 확인\n",
    "val_counts('cylinders')"
   ]
  },
  {
   "cell_type": "markdown",
   "metadata": {},
   "source": [
    "#### 6) fuel"
   ]
  },
  {
   "cell_type": "code",
   "execution_count": 56,
   "metadata": {
    "ExecuteTime": {
     "end_time": "2021-09-11T07:29:32.874911Z",
     "start_time": "2021-09-11T07:29:32.651510Z"
    }
   },
   "outputs": [
    {
     "name": "stdout",
     "output_type": "stream",
     "text": [
      "gas         399399\n",
      "diesel       31077\n",
      "other        16359\n",
      "hybrid        5790\n",
      "others        3237\n",
      "electric      2351\n",
      "Name: fuel, dtype: int64\n"
     ]
    },
    {
     "data": {
      "image/png": "[encoded data removed]",
      "text/plain": [
       "<Figure size 864x648 with 1 Axes>"
      ]
     },
     "metadata": {
      "needs_background": "light"
     },
     "output_type": "display_data"
    }
   ],
   "source": [
    "viz_val_counts('fuel')"
   ]
  },
  {
   "cell_type": "markdown",
   "metadata": {},
   "source": [
    "- 변곡점은 1이다. \n",
    "- 가급적 많은 데이터를 살리기 위해 그래프의 기울기변화가 거의 없는 3을 기준으로 클리닝 진행\n",
    "- other가 이미 있으므로, 함수에 들어갈 기준값은 2로 입력해서 other이 others가 되도록 진행"
   ]
  },
  {
   "cell_type": "code",
   "execution_count": 57,
   "metadata": {
    "ExecuteTime": {
     "end_time": "2021-09-11T07:29:33.248910Z",
     "start_time": "2021-09-11T07:29:32.876906Z"
    }
   },
   "outputs": [
    {
     "data": {
      "text/plain": [
       "gas       399399\n",
       "diesel     31077\n",
       "others     24500\n",
       "Name: fuel, dtype: int64"
      ]
     },
     "execution_count": 57,
     "metadata": {},
     "output_type": "execute_result"
    }
   ],
   "source": [
    "to_others('fuel', 2)\n",
    "\n",
    "# 결과 확인\n",
    "val_counts('fuel')"
   ]
  },
  {
   "cell_type": "markdown",
   "metadata": {},
   "source": [
    "#### 7) title_status"
   ]
  },
  {
   "cell_type": "code",
   "execution_count": 58,
   "metadata": {
    "ExecuteTime": {
     "end_time": "2021-09-11T07:29:33.473310Z",
     "start_time": "2021-09-11T07:29:33.250905Z"
    }
   },
   "outputs": [
    {
     "name": "stdout",
     "output_type": "stream",
     "text": [
      "clean         439626\n",
      "rebuilt         8698\n",
      "salvage         4233\n",
      "others          2577\n",
      "lien            2091\n",
      "missing          794\n",
      "parts only       194\n",
      "Name: title_status, dtype: int64\n"
     ]
    },
    {
     "data": {
      "image/png": "[encoded data removed]",
      "text/plain": [
       "<Figure size 864x648 with 1 Axes>"
      ]
     },
     "metadata": {
      "needs_background": "light"
     },
     "output_type": "display_data"
    }
   ],
   "source": [
    "viz_val_counts('title_status')"
   ]
  },
  {
   "cell_type": "markdown",
   "metadata": {},
   "source": [
    "- clean 이 대부분\n",
    "- 도메인 지식 검색 결과 cat title은 차량 소유에 필요한 '서류' \n",
    "- 특별히 필요한 데이터가 아닌 듯 하여 drop 하기로 결정"
   ]
  },
  {
   "cell_type": "code",
   "execution_count": 59,
   "metadata": {
    "ExecuteTime": {
     "end_time": "2021-09-11T07:29:33.533150Z",
     "start_time": "2021-09-11T07:29:33.475305Z"
    },
    "id": "W_0N-13B41VP"
   },
   "outputs": [],
   "source": [
    "df.drop('title_status', axis=1, inplace=True)"
   ]
  },
  {
   "cell_type": "markdown",
   "metadata": {},
   "source": [
    "#### 8) transmission"
   ]
  },
  {
   "cell_type": "code",
   "execution_count": 60,
   "metadata": {
    "ExecuteTime": {
     "end_time": "2021-09-11T07:29:33.757549Z",
     "start_time": "2021-09-11T07:29:33.535145Z"
    }
   },
   "outputs": [
    {
     "name": "stdout",
     "output_type": "stream",
     "text": [
      "automatic    396322\n",
      "other         32186\n",
      "manual        27263\n",
      "others         2442\n",
      "Name: transmission, dtype: int64\n"
     ]
    },
    {
     "data": {
      "image/png": "[encoded data removed]",
      "text/plain": [
       "<Figure size 864x648 with 1 Axes>"
      ]
     },
     "metadata": {
      "needs_background": "light"
     },
     "output_type": "display_data"
    }
   ],
   "source": [
    "viz_val_counts('transmission')"
   ]
  },
  {
   "cell_type": "markdown",
   "metadata": {},
   "source": [
    "- 변곡점은 1이지만, 기존 데이터가 3개 카테고리로 잘 분류되어 있어 추가 처리가 필요 없다."
   ]
  },
  {
   "cell_type": "markdown",
   "metadata": {},
   "source": [
    "#### 9) drive"
   ]
  },
  {
   "cell_type": "code",
   "execution_count": 61,
   "metadata": {
    "ExecuteTime": {
     "end_time": "2021-09-11T07:29:33.996908Z",
     "start_time": "2021-09-11T07:29:33.759545Z"
    }
   },
   "outputs": [
    {
     "name": "stdout",
     "output_type": "stream",
     "text": [
      "4wd       139693\n",
      "others    134188\n",
      "fwd       122602\n",
      "rwd        61730\n",
      "Name: drive, dtype: int64\n"
     ]
    },
    {
     "data": {
      "image/png": "[encoded data removed]",
      "text/plain": [
       "<Figure size 864x648 with 1 Axes>"
      ]
     },
     "metadata": {
      "needs_background": "light"
     },
     "output_type": "display_data"
    }
   ],
   "source": [
    "viz_val_counts('drive','concave')"
   ]
  },
  {
   "cell_type": "markdown",
   "metadata": {},
   "source": [
    "- 변곡점은 2 이지만, 값이 차이가 나는 3의 경우도 약 6만개의 데이터가 있으므로 그대로 사용"
   ]
  },
  {
   "cell_type": "markdown",
   "metadata": {},
   "source": [
    "#### 10) size"
   ]
  },
  {
   "cell_type": "code",
   "execution_count": 62,
   "metadata": {
    "ExecuteTime": {
     "end_time": "2021-09-11T07:29:34.285137Z",
     "start_time": "2021-09-11T07:29:33.998904Z"
    }
   },
   "outputs": [
    {
     "name": "stdout",
     "output_type": "stream",
     "text": [
      "others         321348\n",
      "full-size       69736\n",
      "mid-size        41782\n",
      "compact         21825\n",
      "sub-compact      3522\n",
      "Name: size, dtype: int64\n"
     ]
    },
    {
     "data": {
      "image/png": "[encoded data removed]",
      "text/plain": [
       "<Figure size 864x648 with 1 Axes>"
      ]
     },
     "metadata": {
      "needs_background": "light"
     },
     "output_type": "display_data"
    }
   ],
   "source": [
    "viz_val_counts('size')"
   ]
  },
  {
   "cell_type": "markdown",
   "metadata": {},
   "source": [
    "- 변곡점은 1\n",
    "- 2부터 기울기가 줄어드는 것을 감안하여 최종 2개의 카테고리 값을 갖도록 조정"
   ]
  },
  {
   "cell_type": "code",
   "execution_count": 63,
   "metadata": {
    "ExecuteTime": {
     "end_time": "2021-09-11T07:29:34.705013Z",
     "start_time": "2021-09-11T07:29:34.287132Z"
    }
   },
   "outputs": [
    {
     "data": {
      "text/plain": [
       "full-size    69736\n",
       "others       67129\n",
       "Name: size, dtype: int64"
      ]
     },
     "execution_count": 63,
     "metadata": {},
     "output_type": "execute_result"
    }
   ],
   "source": [
    "to_others('size', 2)\n",
    "\n",
    "# 결과 확인\n",
    "val_counts('size')"
   ]
  },
  {
   "cell_type": "markdown",
   "metadata": {},
   "source": [
    "#### 11) type"
   ]
  },
  {
   "cell_type": "code",
   "execution_count": 64,
   "metadata": {
    "ExecuteTime": {
     "end_time": "2021-09-11T07:29:34.960330Z",
     "start_time": "2021-09-11T07:29:34.707008Z"
    }
   },
   "outputs": [
    {
     "name": "stdout",
     "output_type": "stream",
     "text": [
      "others         112738\n",
      "sedan           92364\n",
      "SUV             79882\n",
      "pickup          43343\n",
      "truck           35694\n",
      "other           24160\n",
      "coupe           19106\n",
      "hatchback       16388\n",
      "wagon           10473\n",
      "van              9574\n",
      "convertible      6864\n",
      "mini-van         6263\n",
      "bus               717\n",
      "offroad           647\n",
      "Name: type, dtype: int64\n"
     ]
    },
    {
     "data": {
      "image/png": "[encoded data removed]",
      "text/plain": [
       "<Figure size 864x648 with 1 Axes>"
      ]
     },
     "metadata": {
      "needs_background": "light"
     },
     "output_type": "display_data"
    }
   ],
   "source": [
    "viz_val_counts('type')"
   ]
  },
  {
   "cell_type": "markdown",
   "metadata": {},
   "source": [
    "- 변곡점은 5\n",
    "- 상대적으로 기울기가 완만해지는 8을 기준으로 클리닝"
   ]
  },
  {
   "cell_type": "code",
   "execution_count": 66,
   "metadata": {
    "ExecuteTime": {
     "end_time": "2021-09-11T07:33:42.285648Z",
     "start_time": "2021-09-11T07:33:41.747118Z"
    }
   },
   "outputs": [
    {
     "data": {
      "text/plain": [
       "sedan        92364\n",
       "SUV          79882\n",
       "others       48225\n",
       "pickup       43343\n",
       "truck        35694\n",
       "coupe        19106\n",
       "hatchback    16388\n",
       "wagon        10473\n",
       "Name: type, dtype: int64"
      ]
     },
     "execution_count": 66,
     "metadata": {},
     "output_type": "execute_result"
    }
   ],
   "source": [
    "# other과 others가 같이 있어서 컬럼명 변경하고 클리닝 진행\n",
    "df.loc[df['type'] == 'other'] = 'others'\n",
    "\n",
    "# 8개 범주로 클리닝\n",
    "to_others('type', 8)\n",
    "\n",
    "\n",
    "# 결과 확인\n",
    "val_counts('type')"
   ]
  },
  {
   "cell_type": "markdown",
   "metadata": {},
   "source": [
    "#### 12) paint_color"
   ]
  },
  {
   "cell_type": "code",
   "execution_count": 68,
   "metadata": {
    "ExecuteTime": {
     "end_time": "2021-09-11T07:34:32.698820Z",
     "start_time": "2021-09-11T07:34:32.437549Z"
    },
    "colab": {
     "base_uri": "https://localhost:8080/",
     "height": 282
    },
    "id": "8xHuukEcyRrm",
    "outputId": "ac4d28aa-2d6e-4248-e9f0-6e00828f54db"
   },
   "outputs": [
    {
     "name": "stdout",
     "output_type": "stream",
     "text": [
      "others    160894\n",
      "white      76394\n",
      "black      59161\n",
      "silver     44034\n",
      "blue       30916\n",
      "red        30916\n",
      "grey       30116\n",
      "custom      8308\n",
      "green       7352\n",
      "brown       5702\n",
      "yellow      1870\n",
      "orange      1821\n",
      "purple       729\n",
      "Name: paint_color, dtype: int64\n"
     ]
    },
    {
     "data": {
      "image/png": "[encoded data removed]",
      "text/plain": [
       "<Figure size 864x648 with 1 Axes>"
      ]
     },
     "metadata": {
      "needs_background": "light"
     },
     "output_type": "display_data"
    }
   ],
   "source": [
    "viz_val_counts('paint_color')"
   ]
  },
  {
   "cell_type": "markdown",
   "metadata": {},
   "source": [
    "- 변곡점은 3\n",
    "- 기울기가 완만해지는 7을 기준으로 클리닝 진행"
   ]
  },
  {
   "cell_type": "code",
   "execution_count": 69,
   "metadata": {
    "ExecuteTime": {
     "end_time": "2021-09-11T07:35:32.933997Z",
     "start_time": "2021-09-11T07:35:32.506283Z"
    }
   },
   "outputs": [
    {
     "data": {
      "text/plain": [
       "white     76394\n",
       "black     59161\n",
       "others    49942\n",
       "silver    44034\n",
       "blue      30916\n",
       "red       30916\n",
       "grey      30116\n",
       "Name: paint_color, dtype: int64"
      ]
     },
     "execution_count": 69,
     "metadata": {},
     "output_type": "execute_result"
    }
   ],
   "source": [
    "to_others('paint_color', 7)\n",
    "\n",
    "# 결과 확인\n",
    "val_counts('paint_color')"
   ]
  }
 ],
 "metadata": {
  "colab": {
   "collapsed_sections": [],
   "name": "2_1_자동으로_모은_데이터는_분석하기_어렵다면서__자동으로_모은_중고_자동차_데이터를_분석해보자!.ipynb",
   "provenance": []
  },
  "kernelspec": {
   "display_name": "Python 3",
   "language": "python",
   "name": "python3"
  },
  "language_info": {
   "codemirror_mode": {
    "name": "ipython",
    "version": 3
   },
   "file_extension": ".py",
   "mimetype": "text/x-python",
   "name": "python",
   "nbconvert_exporter": "python",
   "pygments_lexer": "ipython3",
   "version": "3.8.5"
  },
  "toc": {
   "base_numbering": 1,
   "nav_menu": {},
   "number_sections": true,
   "sideBar": true,
   "skip_h1_title": false,
   "title_cell": "Table of Contents",
   "title_sidebar": "Contents",
   "toc_cell": false,
   "toc_position": {
    "height": "calc(100% - 180px)",
    "left": "10px",
    "top": "150px",
    "width": "383.594px"
   },
   "toc_section_display": true,
   "toc_window_display": true
  },
  "varInspector": {
   "cols": {
    "lenName": 16,
    "lenType": 16,
    "lenVar": 40
   },
   "kernels_config": {
    "python": {
     "delete_cmd_postfix": "",
     "delete_cmd_prefix": "del ",
     "library": "var_list.py",
     "varRefreshCmd": "print(var_dic_list())"
    },
    "r": {
     "delete_cmd_postfix": ") ",
     "delete_cmd_prefix": "rm(",
     "library": "var_list.r",
     "varRefreshCmd": "cat(var_dic_list()) "
    }
   },
   "types_to_exclude": [
    "module",
    "function",
    "builtin_function_or_method",
    "instance",
    "_Feature"
   ],
   "window_display": false
  }
 },
 "nbformat": 4,
 "nbformat_minor": 1
}
