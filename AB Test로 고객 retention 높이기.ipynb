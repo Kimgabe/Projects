{
 "cells": [
  {
   "cell_type": "markdown",
   "metadata": {
    "colab_type": "text",
    "id": "QTA-jTqxRWmx"
   },
   "source": [
    "# A/B Test로 고객 retention을 높이기\n",
    "모바일 게임의 고객 로그 데이터를 분석해서 고객 유지율을 높이기"
   ]
  },
  {
   "cell_type": "markdown",
   "metadata": {
    "colab_type": "text",
    "id": "LzkO4RXnViQb"
   },
   "source": [
    "### 데이터 설명\n",
    "데이터는 아래의 케글에서 확인 가능\n",
    "(https://www.kaggle.com/yufengsui/mobile-games-ab-testing)\n",
    "\n",
    "  * **userid** - 개별 유저들을 구분하는 식별 번호  \n",
    "  * **version** - 유저들이 실험군 대조군 중 어디에 속했는지 알 수 있다. (gate_30, gate_40) \n",
    "  * **sum_gamerounds** - 첫 설치 후 14일 간 유저가 플레이한 라운드의 수  \n",
    "  * **retention_1** - 유저가 설치 후 1일 이내에 다시 돌아왔는지 여부 \n",
    "  * **retention_7** - 유저가 설치 후 7일 이내에 다시 돌아왔는지 여부  \n",
    "  * 게임 플레이 영상 참고 (https://www.youtube.com/watch?v=xt_5OtfXl7o)"
   ]
  },
  {
   "cell_type": "markdown",
   "metadata": {
    "colab_type": "text",
    "id": "pW9SyRQPRiQU"
   },
   "source": [
    "# 문제 정의 \n",
    "  * Cookie Cats 게임에서는 특정 스테이지가 되면 스테이지가 Lock 된다.\n",
    "  * Area Locked일 경우 Keys를 구하기 위해 특정 게임을 해서 key 3개를 구하거나, 페이스북 친구를 초대해 key를 요청하거나, 유료아이템을 구매하여 바로 열 수 있다. (즉 게임진행을 위한 일종의 장벽 = gate를 설정)\n",
    "  \n",
    "  ![Area Locked](https://s3.amazonaws.com/assets.datacamp.com/production/project_184/img/cc_gates.png)\n",
    "  \n",
    "  \n",
    "  * 이때 유저에게 특정 스테이지를 몇번째에 제시할지에 대해 판단을 해야 한다.\n",
    "  \n",
    "  \n",
    "  * 이 경우 보통 의견이 2가지로 나뉜다. \n",
    "  \n",
    "  \n",
    "    첫째, 유저가 게임에 흥미를 보이는 초반에 특정 스테이지를 제시해서 retention을 높여야 한다.\n",
    "    \n",
    "    둘째, 초반부터 장벽을 두면 유저가 게임에 거부감을 느낄 수 있으므로, 게임을 충분히 즐겨서 빠져들게 만든뒤 gate를 제시해서 retention을 높여야 한다.\n",
    "  \n",
    "  \n",
    "  * 이 두가지 의견중에 어떤 것이 더 적합한 판단인지 해당 유저들의 데이터를 분석한뒤 A/B test를 통해 판단 기준을 만들어야 한다.\n",
    "  \n",
    "  \n",
    "  * 실제 마케팅을 하는 입장에서는 단순히 단기적인 retention을 높이는 것만이 능사가 아닌 경우도 있다. 단순히 retention뿐만이 아니라 장기적으로 고객과의 관계 유지를 위한 결정을 내려야 할때도 있을 것이다. 하지만 이 분석에서는 retention 데이터만을 가진 테이블이기 때문에 retention을 높이는 것에 중점을 두고 분석을 진행할 것이다."
   ]
  },
  {
   "cell_type": "markdown",
   "metadata": {
    "colab_type": "text",
    "id": "aM4wQR9ARqPT"
   },
   "source": [
    "# 데이터 탐색"
   ]
  },
  {
   "cell_type": "code",
   "execution_count": 164,
   "metadata": {
    "ExecuteTime": {
     "end_time": "2021-06-08T12:19:47.200593Z",
     "start_time": "2021-06-08T12:19:47.131591Z"
    },
    "colab": {
     "base_uri": "https://localhost:8080/",
     "height": 213
    },
    "colab_type": "code",
    "id": "L-Zc0QW9P6am",
    "outputId": "781dde23-0746-421d-f9f9-76091a8286fa"
   },
   "outputs": [
    {
     "name": "stdout",
     "output_type": "stream",
     "text": [
      "(90189, 5)\n"
     ]
    },
    {
     "data": {
      "text/html": [
       "<div>\n",
       "<style scoped>\n",
       "    .dataframe tbody tr th:only-of-type {\n",
       "        vertical-align: middle;\n",
       "    }\n",
       "\n",
       "    .dataframe tbody tr th {\n",
       "        vertical-align: top;\n",
       "    }\n",
       "\n",
       "    .dataframe thead th {\n",
       "        text-align: right;\n",
       "    }\n",
       "</style>\n",
       "<table border=\"1\" class=\"dataframe\">\n",
       "  <thead>\n",
       "    <tr style=\"text-align: right;\">\n",
       "      <th></th>\n",
       "      <th>userid</th>\n",
       "      <th>version</th>\n",
       "      <th>sum_gamerounds</th>\n",
       "      <th>retention_1</th>\n",
       "      <th>retention_7</th>\n",
       "    </tr>\n",
       "  </thead>\n",
       "  <tbody>\n",
       "    <tr>\n",
       "      <th>90184</th>\n",
       "      <td>9999441</td>\n",
       "      <td>gate_40</td>\n",
       "      <td>97</td>\n",
       "      <td>True</td>\n",
       "      <td>False</td>\n",
       "    </tr>\n",
       "    <tr>\n",
       "      <th>90185</th>\n",
       "      <td>9999479</td>\n",
       "      <td>gate_40</td>\n",
       "      <td>30</td>\n",
       "      <td>False</td>\n",
       "      <td>False</td>\n",
       "    </tr>\n",
       "    <tr>\n",
       "      <th>90186</th>\n",
       "      <td>9999710</td>\n",
       "      <td>gate_30</td>\n",
       "      <td>28</td>\n",
       "      <td>True</td>\n",
       "      <td>False</td>\n",
       "    </tr>\n",
       "    <tr>\n",
       "      <th>90187</th>\n",
       "      <td>9999768</td>\n",
       "      <td>gate_40</td>\n",
       "      <td>51</td>\n",
       "      <td>True</td>\n",
       "      <td>False</td>\n",
       "    </tr>\n",
       "    <tr>\n",
       "      <th>90188</th>\n",
       "      <td>9999861</td>\n",
       "      <td>gate_40</td>\n",
       "      <td>16</td>\n",
       "      <td>False</td>\n",
       "      <td>False</td>\n",
       "    </tr>\n",
       "  </tbody>\n",
       "</table>\n",
       "</div>"
      ],
      "text/plain": [
       "        userid  version  sum_gamerounds  retention_1  retention_7\n",
       "90184  9999441  gate_40              97         True        False\n",
       "90185  9999479  gate_40              30        False        False\n",
       "90186  9999710  gate_30              28         True        False\n",
       "90187  9999768  gate_40              51         True        False\n",
       "90188  9999861  gate_40              16        False        False"
      ]
     },
     "execution_count": 164,
     "metadata": {},
     "output_type": "execute_result"
    }
   ],
   "source": [
    "import pandas as pd\n",
    "import numpy as np \n",
    "import matplotlib.pyplot as plt\n",
    "import seaborn as sns\n",
    "import os\n",
    "\n",
    "# 컬럼 전체 확인 가능하도록 출력 범위 설정\n",
    "pd.set_option('display.max_columns', 500)\n",
    "pd.set_option('display.width', 1000)\n",
    "\n",
    "# 불필요한 경고 표시 생략\n",
    "import warnings\n",
    "warnings.filterwarnings(action = 'ignore')\n",
    "\n",
    "\n",
    "data = pd.read_csv(\"cookie_cats.csv\")\n",
    "\n",
    "print(data.shape)\n",
    "data.tail()"
   ]
  },
  {
   "cell_type": "code",
   "execution_count": 165,
   "metadata": {
    "ExecuteTime": {
     "end_time": "2021-06-08T12:19:47.230825Z",
     "start_time": "2021-06-08T12:19:47.202572Z"
    },
    "colab": {
     "base_uri": "https://localhost:8080/",
     "height": 193
    },
    "colab_type": "code",
    "id": "o-TVH1agP9UG",
    "outputId": "4a5ffcf8-6d79-40fe-bef4-02056328c562"
   },
   "outputs": [
    {
     "name": "stdout",
     "output_type": "stream",
     "text": [
      "<class 'pandas.core.frame.DataFrame'>\n",
      "RangeIndex: 90189 entries, 0 to 90188\n",
      "Data columns (total 5 columns):\n",
      " #   Column          Non-Null Count  Dtype \n",
      "---  ------          --------------  ----- \n",
      " 0   userid          90189 non-null  int64 \n",
      " 1   version         90189 non-null  object\n",
      " 2   sum_gamerounds  90189 non-null  int64 \n",
      " 3   retention_1     90189 non-null  bool  \n",
      " 4   retention_7     90189 non-null  bool  \n",
      "dtypes: bool(2), int64(2), object(1)\n",
      "memory usage: 2.2+ MB\n"
     ]
    }
   ],
   "source": [
    "# 결측값이 있는지 확인\n",
    "data.info()"
   ]
  },
  {
   "cell_type": "markdown",
   "metadata": {
    "colab_type": "text",
    "id": "lX9oCuOCQqwe"
   },
   "source": [
    "shape와 동일한 90189개의 데이터를 모두 갖고 있다. (결측치 없음)"
   ]
  },
  {
   "cell_type": "code",
   "execution_count": 166,
   "metadata": {
    "ExecuteTime": {
     "end_time": "2021-06-08T12:19:47.260775Z",
     "start_time": "2021-06-08T12:19:47.232820Z"
    },
    "colab": {
     "base_uri": "https://localhost:8080/",
     "height": 136
    },
    "colab_type": "code",
    "id": "khzjWcj9QaPX",
    "outputId": "997a3b3d-a9a7-4809-d271-ef0bf773336e"
   },
   "outputs": [
    {
     "data": {
      "text/html": [
       "<div>\n",
       "<style scoped>\n",
       "    .dataframe tbody tr th:only-of-type {\n",
       "        vertical-align: middle;\n",
       "    }\n",
       "\n",
       "    .dataframe tbody tr th {\n",
       "        vertical-align: top;\n",
       "    }\n",
       "\n",
       "    .dataframe thead th {\n",
       "        text-align: right;\n",
       "    }\n",
       "</style>\n",
       "<table border=\"1\" class=\"dataframe\">\n",
       "  <thead>\n",
       "    <tr style=\"text-align: right;\">\n",
       "      <th></th>\n",
       "      <th>userid</th>\n",
       "      <th>sum_gamerounds</th>\n",
       "      <th>retention_1</th>\n",
       "      <th>retention_7</th>\n",
       "    </tr>\n",
       "    <tr>\n",
       "      <th>version</th>\n",
       "      <th></th>\n",
       "      <th></th>\n",
       "      <th></th>\n",
       "      <th></th>\n",
       "    </tr>\n",
       "  </thead>\n",
       "  <tbody>\n",
       "    <tr>\n",
       "      <th>gate_30</th>\n",
       "      <td>44700</td>\n",
       "      <td>44700</td>\n",
       "      <td>44700</td>\n",
       "      <td>44700</td>\n",
       "    </tr>\n",
       "    <tr>\n",
       "      <th>gate_40</th>\n",
       "      <td>45489</td>\n",
       "      <td>45489</td>\n",
       "      <td>45489</td>\n",
       "      <td>45489</td>\n",
       "    </tr>\n",
       "  </tbody>\n",
       "</table>\n",
       "</div>"
      ],
      "text/plain": [
       "         userid  sum_gamerounds  retention_1  retention_7\n",
       "version                                                  \n",
       "gate_30   44700           44700        44700        44700\n",
       "gate_40   45489           45489        45489        45489"
      ]
     },
     "execution_count": 166,
     "metadata": {},
     "output_type": "execute_result"
    }
   ],
   "source": [
    "# AB 테스트로 사용된 버전별 유저의 수 확인\n",
    "# version - 유저들이 실험군 대조군 중 어디에 속했는지 알 수 있다. (gate_30, gate_40)\n",
    "\n",
    "data.groupby(\"version\").count() #version별로 grouping해서 각 컬럼의 값을 count"
   ]
  },
  {
   "cell_type": "markdown",
   "metadata": {
    "colab_type": "text",
    "id": "S2UsdRlBRP2o"
   },
   "source": [
    "유저가 게임을 설치하면 gate_30 또는 gate_40 그룹으로 나뉘게 되었는데, 각 그룹별 유저는 거의 유사한 숫자로 배정되었다. "
   ]
  },
  {
   "cell_type": "code",
   "execution_count": 167,
   "metadata": {
    "ExecuteTime": {
     "end_time": "2021-06-08T12:19:47.396221Z",
     "start_time": "2021-06-08T12:19:47.262772Z"
    },
    "colab": {
     "base_uri": "https://localhost:8080/",
     "height": 270
    },
    "colab_type": "code",
    "id": "ONdFO8HvQ-Fx",
    "outputId": "cf25db0e-9012-4cf4-9f21-09e44a874ad1"
   },
   "outputs": [
    {
     "data": {
      "text/plain": [
       "<AxesSubplot:ylabel='sum_gamerounds'>"
      ]
     },
     "execution_count": 167,
     "metadata": {},
     "output_type": "execute_result"
    },
    {
     "data": {
      "image/png": "[encoded data removed]",
      "text/plain": [
       "<Figure size 432x288 with 1 Axes>"
      ]
     },
     "metadata": {
      "needs_background": "light"
     },
     "output_type": "display_data"
    }
   ],
   "source": [
    "# big dataset 이기 때문에 4분위로 값을 표현하는 boxplot보다는 50%부터 시작되는 boxenplot(=letter-value plots) 이 더 적합하다 판단.\n",
    "# boxenplot을 그려 이상치가 있는지 확인\n",
    "\n",
    "sns.boxenplot(data=data, y=\"sum_gamerounds\")"
   ]
  },
  {
   "cell_type": "markdown",
   "metadata": {
    "colab_type": "text",
    "id": "1ipwL1P4WO5z"
   },
   "source": [
    "* boxplot자체가 거의 보이지 않을정도로 상당히 큰 이상치가 있다.\n",
    "* 첫 14일 동안 50,000회 가까이 게임을 한 사람들이 분명히 있지만 일반적인 사용행태라고 하기는 어렵다. \n",
    "* 엄청나게 skewed(비대칭적인) 데이터 분포형태"
   ]
  },
  {
   "cell_type": "code",
   "execution_count": 168,
   "metadata": {
    "ExecuteTime": {
     "end_time": "2021-06-08T12:19:47.411476Z",
     "start_time": "2021-06-08T12:19:47.397219Z"
    },
    "colab": {
     "base_uri": "https://localhost:8080/",
     "height": 77
    },
    "colab_type": "code",
    "id": "qQTMqxBbhToY",
    "outputId": "0460c533-e092-4032-f492-04eec8f71031"
   },
   "outputs": [
    {
     "data": {
      "text/html": [
       "<div>\n",
       "<style scoped>\n",
       "    .dataframe tbody tr th:only-of-type {\n",
       "        vertical-align: middle;\n",
       "    }\n",
       "\n",
       "    .dataframe tbody tr th {\n",
       "        vertical-align: top;\n",
       "    }\n",
       "\n",
       "    .dataframe thead th {\n",
       "        text-align: right;\n",
       "    }\n",
       "</style>\n",
       "<table border=\"1\" class=\"dataframe\">\n",
       "  <thead>\n",
       "    <tr style=\"text-align: right;\">\n",
       "      <th></th>\n",
       "      <th>userid</th>\n",
       "      <th>version</th>\n",
       "      <th>sum_gamerounds</th>\n",
       "      <th>retention_1</th>\n",
       "      <th>retention_7</th>\n",
       "    </tr>\n",
       "  </thead>\n",
       "  <tbody>\n",
       "    <tr>\n",
       "      <th>57702</th>\n",
       "      <td>6390605</td>\n",
       "      <td>gate_30</td>\n",
       "      <td>49854</td>\n",
       "      <td>False</td>\n",
       "      <td>True</td>\n",
       "    </tr>\n",
       "  </tbody>\n",
       "</table>\n",
       "</div>"
      ],
      "text/plain": [
       "        userid  version  sum_gamerounds  retention_1  retention_7\n",
       "57702  6390605  gate_30           49854        False         True"
      ]
     },
     "execution_count": 168,
     "metadata": {},
     "output_type": "execute_result"
    }
   ],
   "source": [
    "# 이상치로 나타나는 50000회 가까이 게임을한 유저가 몇명인지 확인\n",
    "\n",
    "data[data[\"sum_gamerounds\"] > 45000]"
   ]
  },
  {
   "cell_type": "code",
   "execution_count": 169,
   "metadata": {
    "ExecuteTime": {
     "end_time": "2021-06-08T12:19:47.441385Z",
     "start_time": "2021-06-08T12:19:47.413460Z"
    },
    "colab": {
     "base_uri": "https://localhost:8080/",
     "height": 213
    },
    "colab_type": "code",
    "id": "xrlAVB6thI4x",
    "outputId": "fa9abb31-eff1-4d72-d84e-ea4a5d0502b0"
   },
   "outputs": [
    {
     "name": "stdout",
     "output_type": "stream",
     "text": [
      "(90188, 5)\n"
     ]
    },
    {
     "data": {
      "text/html": [
       "<div>\n",
       "<style scoped>\n",
       "    .dataframe tbody tr th:only-of-type {\n",
       "        vertical-align: middle;\n",
       "    }\n",
       "\n",
       "    .dataframe tbody tr th {\n",
       "        vertical-align: top;\n",
       "    }\n",
       "\n",
       "    .dataframe thead th {\n",
       "        text-align: right;\n",
       "    }\n",
       "</style>\n",
       "<table border=\"1\" class=\"dataframe\">\n",
       "  <thead>\n",
       "    <tr style=\"text-align: right;\">\n",
       "      <th></th>\n",
       "      <th>userid</th>\n",
       "      <th>version</th>\n",
       "      <th>sum_gamerounds</th>\n",
       "      <th>retention_1</th>\n",
       "      <th>retention_7</th>\n",
       "    </tr>\n",
       "  </thead>\n",
       "  <tbody>\n",
       "    <tr>\n",
       "      <th>90184</th>\n",
       "      <td>9999441</td>\n",
       "      <td>gate_40</td>\n",
       "      <td>97</td>\n",
       "      <td>True</td>\n",
       "      <td>False</td>\n",
       "    </tr>\n",
       "    <tr>\n",
       "      <th>90185</th>\n",
       "      <td>9999479</td>\n",
       "      <td>gate_40</td>\n",
       "      <td>30</td>\n",
       "      <td>False</td>\n",
       "      <td>False</td>\n",
       "    </tr>\n",
       "    <tr>\n",
       "      <th>90186</th>\n",
       "      <td>9999710</td>\n",
       "      <td>gate_30</td>\n",
       "      <td>28</td>\n",
       "      <td>True</td>\n",
       "      <td>False</td>\n",
       "    </tr>\n",
       "    <tr>\n",
       "      <th>90187</th>\n",
       "      <td>9999768</td>\n",
       "      <td>gate_40</td>\n",
       "      <td>51</td>\n",
       "      <td>True</td>\n",
       "      <td>False</td>\n",
       "    </tr>\n",
       "    <tr>\n",
       "      <th>90188</th>\n",
       "      <td>9999861</td>\n",
       "      <td>gate_40</td>\n",
       "      <td>16</td>\n",
       "      <td>False</td>\n",
       "      <td>False</td>\n",
       "    </tr>\n",
       "  </tbody>\n",
       "</table>\n",
       "</div>"
      ],
      "text/plain": [
       "        userid  version  sum_gamerounds  retention_1  retention_7\n",
       "90184  9999441  gate_40              97         True        False\n",
       "90185  9999479  gate_40              30        False        False\n",
       "90186  9999710  gate_30              28         True        False\n",
       "90187  9999768  gate_40              51         True        False\n",
       "90188  9999861  gate_40              16        False        False"
      ]
     },
     "execution_count": 169,
     "metadata": {},
     "output_type": "execute_result"
    }
   ],
   "source": [
    "# 9만개의 데이터중 이상치가 1개뿐이므로 원활한 데이터 분석을 위해 해당 데이터 drop\n",
    "# 원본데이터를 재활용할 가능성도 있으므로 data2에 할당하여 추후 분석 진행\n",
    "\n",
    "data2 = data[data[\"sum_gamerounds\"] < 45000 ]\n",
    "print(data2.shape)\n",
    "data2.tail()"
   ]
  },
  {
   "cell_type": "code",
   "execution_count": 170,
   "metadata": {
    "ExecuteTime": {
     "end_time": "2021-06-08T12:19:47.456344Z",
     "start_time": "2021-06-08T12:19:47.442382Z"
    },
    "colab": {
     "base_uri": "https://localhost:8080/",
     "height": 175
    },
    "colab_type": "code",
    "id": "hLviW11-Tw09",
    "outputId": "9aacb397-597f-434a-cd29-fa0015b6f27d"
   },
   "outputs": [
    {
     "data": {
      "text/plain": [
       "count    90188.000000\n",
       "mean        51.320253\n",
       "std        102.682719\n",
       "min          0.000000\n",
       "25%          5.000000\n",
       "50%         16.000000\n",
       "75%         51.000000\n",
       "max       2961.000000\n",
       "Name: sum_gamerounds, dtype: float64"
      ]
     },
     "execution_count": 170,
     "metadata": {},
     "output_type": "execute_result"
    }
   ],
   "source": [
    "# percentile을 확인 => 분위수 확인 : 유저들이 가입후 14일간 얼마나 많이 플레이 했는지 대략적으로 파악 가능\n",
    "\n",
    "data2[\"sum_gamerounds\"].describe()"
   ]
  },
  {
   "cell_type": "markdown",
   "metadata": {
    "colab_type": "text",
    "id": "XjZMzEk_Y2ig"
   },
   "source": [
    "* 전체 유저 중 (진행한 game round가 높은)상위 50%의 유저들은 첫 14일 동안 게임을 16회 플레이 했음을 알 수 있다."
   ]
  },
  {
   "cell_type": "code",
   "execution_count": 171,
   "metadata": {
    "ExecuteTime": {
     "end_time": "2021-06-08T12:19:47.607141Z",
     "start_time": "2021-06-08T12:19:47.459337Z"
    },
    "colab": {
     "base_uri": "https://localhost:8080/",
     "height": 270
    },
    "colab_type": "code",
    "id": "M5nQbRxdsv7G",
    "outputId": "322de2d4-276b-449a-8f90-159a1e2e27be"
   },
   "outputs": [
    {
     "data": {
      "text/plain": [
       "<AxesSubplot:ylabel='sum_gamerounds'>"
      ]
     },
     "execution_count": 171,
     "metadata": {},
     "output_type": "execute_result"
    },
    {
     "data": {
      "image/png": "[encoded data removed]",
      "text/plain": [
       "<Figure size 432x288 with 1 Axes>"
      ]
     },
     "metadata": {
      "needs_background": "light"
     },
     "output_type": "display_data"
    }
   ],
   "source": [
    "# 새롭게 만든 data2에서도 이상치가 나타나는지 확인\n",
    "\n",
    "sns.boxenplot(data=data2, y=\"sum_gamerounds\")"
   ]
  },
  {
   "cell_type": "markdown",
   "metadata": {
    "colab_type": "text",
    "id": "2zr3KLqkSJXu"
   },
   "source": [
    "# 데이터 분석 (A / B 집단별 비교)"
   ]
  },
  {
   "cell_type": "code",
   "execution_count": 172,
   "metadata": {
    "ExecuteTime": {
     "end_time": "2021-06-08T12:19:47.644042Z",
     "start_time": "2021-06-08T12:19:47.609136Z"
    },
    "colab": {
     "base_uri": "https://localhost:8080/",
     "height": 246
    },
    "colab_type": "code",
    "id": "UbTmDEMHXCVA",
    "outputId": "41288be5-26f3-43fa-9442-c107d1cf7e1b"
   },
   "outputs": [
    {
     "name": "stdout",
     "output_type": "stream",
     "text": [
      "941\n"
     ]
    },
    {
     "data": {
      "text/plain": [
       "sum_gamerounds\n",
       "0       3994\n",
       "1       5538\n",
       "2       4606\n",
       "3       3958\n",
       "4       3629\n",
       "        ... \n",
       "2251       1\n",
       "2294       1\n",
       "2438       1\n",
       "2640       1\n",
       "2961       1\n",
       "Name: userid, Length: 941, dtype: int64"
      ]
     },
     "execution_count": 172,
     "metadata": {},
     "output_type": "execute_result"
    }
   ],
   "source": [
    "# 각 게임실행횟수 별 유저의 수를 카운트 by group\n",
    "# 각 게임 실행횟수별로 몇명의 유저가 있는지 확인\n",
    "\n",
    "user_data = data2.groupby(\"sum_gamerounds\")[\"userid\"].count()\n",
    "\n",
    "print(len(user_data)) #게임횟수 실행한 경우가 총 941 가지\n",
    "\n",
    "user_data"
   ]
  },
  {
   "cell_type": "markdown",
   "metadata": {},
   "source": [
    "## Round별 플레이 횟수 추이 (line)"
   ]
  },
  {
   "cell_type": "code",
   "execution_count": 173,
   "metadata": {
    "ExecuteTime": {
     "end_time": "2021-06-08T12:19:47.863210Z",
     "start_time": "2021-06-08T12:19:47.656011Z"
    },
    "colab": {
     "base_uri": "https://localhost:8080/",
     "height": 422
    },
    "colab_type": "code",
    "id": "cL7f-THtXfRy",
    "outputId": "4a366fce-a330-4b90-9312-a056685fb123"
   },
   "outputs": [
    {
     "data": {
      "text/plain": [
       "Text(0, 0.5, 'Number of Players')"
      ]
     },
     "execution_count": 173,
     "metadata": {},
     "output_type": "execute_result"
    },
    {
     "data": {
      "image/png": "[encoded data removed]",
      "text/plain": [
       "<Figure size 720x432 with 1 Axes>"
      ]
     },
     "metadata": {
      "needs_background": "light"
     },
     "output_type": "display_data"
    }
   ],
   "source": [
    "%matplotlib inline\n",
    "\n",
    "ax = user_data[:100].plot(figsize=(10,6))\n",
    "ax.set_title(\"The number of players that played 0-100 game rounds during the first week\")\n",
    "ax.set_xlabel('Game rounds')\n",
    "ax.set_ylabel(\"Number of Players\")"
   ]
  },
  {
   "cell_type": "code",
   "execution_count": 174,
   "metadata": {
    "ExecuteTime": {
     "end_time": "2021-06-08T12:19:48.300369Z",
     "start_time": "2021-06-08T12:19:47.864208Z"
    }
   },
   "outputs": [
    {
     "data": {
      "image/png": "[encoded data removed]",
      "text/plain": [
       "<Figure size 720x432 with 3 Axes>"
      ]
     },
     "metadata": {
      "needs_background": "light"
     },
     "output_type": "display_data"
    }
   ],
   "source": [
    "import matplotlib.pyplot as plt\n",
    "import numpy as np\n",
    "from matplotlib.patches import Rectangle\n",
    "\n",
    "def zoomingBox(ax1, roi, ax2, color='red', linewidth=2):\n",
    "    ax1.add_patch(Rectangle([roi[0],roi[2]], roi[1]-roi[0], roi[3]-roi[2],**dict([('fill',False), ('linestyle','dashed'), ('color',color), ('linewidth',linewidth)]) ))\n",
    "    srcCorners = [[roi[0],roi[2]], [roi[0],roi[3]], [roi[1],roi[2]], [roi[1],roi[3]]]\n",
    "    dstCorners = ax2.get_position().corners()\n",
    "    srcBB = ax1.get_position()\n",
    "    dstBB = ax2.get_position()\n",
    "    if (dstBB.min[0]>srcBB.max[0] and dstBB.max[1]<srcBB.min[1]) or (dstBB.max[0]<srcBB.min[0] and dstBB.min[1]>srcBB.max[1]):\n",
    "        src = [0, 3]; dst = [0, 3]\n",
    "    elif (dstBB.max[0]<srcBB.min[0] and dstBB.max[1]<srcBB.min[1]) or (dstBB.min[0]>srcBB.max[0] and dstBB.min[1]>srcBB.max[1]):\n",
    "        src = [1, 2]; dst = [1, 2]\n",
    "    elif dstBB.max[1] < srcBB.min[1]:\n",
    "        src = [0, 2]; dst = [1, 3]\n",
    "    elif dstBB.min[1] > srcBB.max[1]:\n",
    "        src = [1, 3]; dst = [0, 2]\n",
    "    elif dstBB.max[0] < srcBB.min[0]:\n",
    "        src = [0, 1]; dst = [2, 3]\n",
    "    elif dstBB.min[0] > srcBB.max[0]:\n",
    "        src = [2, 3]; dst = [0, 1]\n",
    "    for k in range(2):\n",
    "        ax1.annotate('', xy=dstCorners[dst[k]], xytext=srcCorners[src[k]], xycoords='figure fraction', textcoords='data', arrowprops=dict([('arrowstyle','-'), ('color',color), ('linewidth',linewidth)]))\n",
    "\n",
    "\n",
    "\n",
    "\n",
    "plt.figure(figsize=(10,6))\n",
    "ax1 = plt.subplot(2,1,1)\n",
    "plt.plot(user_data[:100])\n",
    "\n",
    "ax2 = plt.subplot(2,2,3)\n",
    "plt.plot(user_data[:30])\n",
    "\n",
    "ax3 = plt.subplot(2,2,4)\n",
    "plt.plot(user_data[80:100])\n",
    "\n",
    "zoomingBox(ax1, [0,30,-1.1,1.1], ax2)\n",
    "zoomingBox(ax1, [80,100,-1.1,1.1], ax3)\n",
    "\n",
    "plt.show()"
   ]
  },
  {
   "cell_type": "markdown",
   "metadata": {},
   "source": [
    "* 게임을 설치하고 1번도 플레이 하지 않은 유저가 4000여명으로 매우 많다는 것을 확인할 수 있다. (retention이 되지 않은 유저)"
   ]
  },
  {
   "cell_type": "markdown",
   "metadata": {},
   "source": [
    "## 플레이 횟수 데이터의 분포 및 횟수 별 분포 확인(distplot)"
   ]
  },
  {
   "cell_type": "code",
   "execution_count": 175,
   "metadata": {
    "ExecuteTime": {
     "end_time": "2021-06-08T12:19:49.533625Z",
     "start_time": "2021-06-08T12:19:48.302364Z"
    },
    "colab": {
     "base_uri": "https://localhost:8080/",
     "height": 298
    },
    "colab_type": "code",
    "id": "G4HzQvG3X-bC",
    "outputId": "e5be457c-71d9-4ea9-c2ca-91f02fca0a4e"
   },
   "outputs": [
    {
     "data": {
      "text/plain": [
       "<AxesSubplot:xlabel='sum_gamerounds', ylabel='Density'>"
      ]
     },
     "execution_count": 175,
     "metadata": {},
     "output_type": "execute_result"
    },
    {
     "data": {
      "image/png": "[encoded data removed]",
      "text/plain": [
       "<Figure size 432x288 with 1 Axes>"
      ]
     },
     "metadata": {
      "needs_background": "light"
     },
     "output_type": "display_data"
    }
   ],
   "source": [
    "sns.distplot(data2[\"sum_gamerounds\"])"
   ]
  },
  {
   "cell_type": "markdown",
   "metadata": {
    "colab_type": "text",
    "id": "O1iPuhDEbZ9Q"
   },
   "source": [
    "* 0회 이상 플레이한 유저들이 상당 수 있으며 그 빈도도 500회 이하 부분에는 몰려있다. \n",
    "* 이로 보아 몇몇 유저들은 설치 첫주에 게임을 충분히 실행하면서 게임에 몰입하고 있다는 것을 알 수 있다.\n",
    "\n",
    "\n",
    "* 비디오 게임산업에서 **1-day retention**은 게임이 얼마나 재미있고 중독적인지 평가하는 주요 메트릭이다.\n",
    "* **1-day retention**이 높을 경우 손쉽게 가입자 기반을 늘려갈 수 있다. "
   ]
  },
  {
   "cell_type": "code",
   "execution_count": 176,
   "metadata": {
    "ExecuteTime": {
     "end_time": "2021-06-08T12:19:49.548591Z",
     "start_time": "2021-06-08T12:19:49.536617Z"
    },
    "colab": {
     "base_uri": "https://localhost:8080/",
     "height": 34
    },
    "colab_type": "code",
    "id": "xxvCDKmiZoIL",
    "outputId": "d337a1ac-25d8-43d8-c073-e848fc792a35"
   },
   "outputs": [
    {
     "data": {
      "text/plain": [
       "0.4452"
      ]
     },
     "execution_count": 176,
     "metadata": {},
     "output_type": "execute_result"
    }
   ],
   "source": [
    "# 1-day retention의 평균을 확인. \n",
    "\n",
    "round(data2[\"retention_1\"].mean(),4)"
   ]
  },
  {
   "cell_type": "markdown",
   "metadata": {
    "colab_type": "text",
    "id": "PQZFWVazdM4t"
   },
   "source": [
    "* 절반에 못미치는 사용자들이 설치 다음날 다시 게임을 했다는 것을 알 수 있다. "
   ]
  },
  {
   "cell_type": "code",
   "execution_count": 177,
   "metadata": {
    "ExecuteTime": {
     "end_time": "2021-06-08T12:19:49.578547Z",
     "start_time": "2021-06-08T12:19:49.550355Z"
    },
    "colab": {
     "base_uri": "https://localhost:8080/",
     "height": 87
    },
    "colab_type": "code",
    "id": "_U4hlykAc7t1",
    "outputId": "3f693c3b-9a0a-4018-8750-d702fd831ccf"
   },
   "outputs": [
    {
     "data": {
      "text/plain": [
       "version\n",
       "gate_30    0.4482\n",
       "gate_40    0.4423\n",
       "Name: retention_1, dtype: float64"
      ]
     },
     "execution_count": 177,
     "metadata": {},
     "output_type": "execute_result"
    }
   ],
   "source": [
    "# 그룹별 1-day retention의 평균을 확인. \n",
    "\n",
    "round(data2.groupby(\"version\")[\"retention_1\"].mean(),4)"
   ]
  },
  {
   "cell_type": "markdown",
   "metadata": {
    "colab_type": "text",
    "id": "hK1FiqBrpmgf"
   },
   "source": [
    "* 단순히 그룹간 평균을 비교해봐서는 gate_40(44.2%)보다 gate_30(44.8%)인 경우의 플레이 횟수가 더 많다. \n",
    "* 작은 차이이지만 이 작은 차이가 retention, 그리고 장기적으로 본다면 수익에 영향을 미칠 수 도 있다."
   ]
  },
  {
   "cell_type": "markdown",
   "metadata": {},
   "source": [
    "## retention7일때는 어떨까?(추가 검증)"
   ]
  },
  {
   "cell_type": "code",
   "execution_count": 178,
   "metadata": {
    "ExecuteTime": {
     "end_time": "2021-06-08T12:19:49.593367Z",
     "start_time": "2021-06-08T12:19:49.580068Z"
    },
    "colab": {
     "base_uri": "https://localhost:8080/",
     "height": 34
    },
    "colab_type": "code",
    "id": "mxmR5h0fpaEH",
    "outputId": "87a01913-028c-4334-d775-09721f0c80b7"
   },
   "outputs": [
    {
     "data": {
      "text/plain": [
       "0.1861"
      ]
     },
     "execution_count": 178,
     "metadata": {},
     "output_type": "execute_result"
    }
   ],
   "source": [
    "# 7-day retention의 평균을 확인\n",
    "\n",
    "round(data2[\"retention_7\"].mean(), 4)"
   ]
  },
  {
   "cell_type": "code",
   "execution_count": 179,
   "metadata": {
    "ExecuteTime": {
     "end_time": "2021-06-08T12:19:49.624329Z",
     "start_time": "2021-06-08T12:19:49.595362Z"
    },
    "colab": {
     "base_uri": "https://localhost:8080/",
     "height": 87
    },
    "colab_type": "code",
    "id": "wd5Hk_K3paM9",
    "outputId": "93549482-408e-4522-e409-c89e1679e7c7"
   },
   "outputs": [
    {
     "data": {
      "text/plain": [
       "version\n",
       "gate_30    0.1902\n",
       "gate_40    0.1820\n",
       "Name: retention_7, dtype: float64"
      ]
     },
     "execution_count": 179,
     "metadata": {},
     "output_type": "execute_result"
    }
   ],
   "source": [
    "# 그룹별 7-day retention의 평균을 확인\n",
    "\n",
    "round(data2.groupby(\"version\")[\"retention_7\"].mean(),4)"
   ]
  },
  {
   "cell_type": "markdown",
   "metadata": {
    "colab_type": "text",
    "id": "p3YVpFCspocM"
   },
   "source": [
    "* 단순히 그룹간 평균을 비교해봐서는 gate_40(18.2%) 보다 gate_30(19.0%)인 경우에 생존률이 더 높다.  \n",
    "* 작은 차이이지만 이 작은 차이가 retention, 그리고 장기적으로 본다면 수익에 영향을 미칠 수 도 있다."
   ]
  },
  {
   "cell_type": "markdown",
   "metadata": {},
   "source": [
    "* retention1 보다 retention7일때의 차이가 더 크다. 하지만 이 2개의 단순 값 비교는 수치의 차이도 적은편이고, 이 데이터를 무조건적으로 믿고 retention 기준을 잡기는 다소 애매하다. 추가적인 검증을 해보자"
   ]
  },
  {
   "cell_type": "markdown",
   "metadata": {
    "colab_type": "text",
    "id": "FSObxKkLqp_F"
   },
   "source": [
    "## Bootstrapping (추가검증 2) - 정말로 두 집단간의 차이가 있는게 맞을까?\n",
    "\n",
    "* 하나의 데이터가 모든 실제 데이터를 반영하지 못하기 때문에 일종의 Over sampling을 하는 과정\n",
    "\n",
    "* 이 과정을 통해 두 그룹간의 차이가 유의미한지 확인할 것이다.\n"
   ]
  },
  {
   "cell_type": "code",
   "execution_count": 180,
   "metadata": {
    "ExecuteTime": {
     "end_time": "2021-06-08T12:20:04.075043Z",
     "start_time": "2021-06-08T12:19:49.626333Z"
    },
    "colab": {
     "base_uri": "https://localhost:8080/",
     "height": 282
    },
    "colab_type": "code",
    "id": "zy1d3BCVjKt6",
    "outputId": "6567f01a-e811-4ae4-c135-b9209f177a24"
   },
   "outputs": [
    {
     "name": "stderr",
     "output_type": "stream",
     "text": [
      "100%|██████████████████████████████████████████████████████████████████████████████| 1000/1000 [00:14<00:00, 69.27it/s]\n"
     ]
    }
   ],
   "source": [
    "#for문의 수행시간 확인 위해 로드\n",
    "from tqdm import tqdm\n",
    "\n",
    "# 각각의 AB그룹에 대해 bootstrap된 means 값의 리스트 생성\n",
    "boot_1d = []\n",
    "for i in tqdm(range(1000)):\n",
    "    # frac : 전체 row에서 몇%의 데이터를 return할 것인지\n",
    "    # replace : 중복샘플 추출을 허용할 것인지\n",
    "    boot_mean = data2.sample(frac = 1,replace = True).groupby('version')['retention_1'].mean()\n",
    "    boot_1d.append(boot_mean)"
   ]
  },
  {
   "cell_type": "code",
   "execution_count": 181,
   "metadata": {
    "ExecuteTime": {
     "end_time": "2021-06-08T12:20:04.467118Z",
     "start_time": "2021-06-08T12:20:04.077039Z"
    },
    "colab": {
     "base_uri": "https://localhost:8080/",
     "height": 282
    },
    "colab_type": "code",
    "id": "zy1d3BCVjKt6",
    "outputId": "6567f01a-e811-4ae4-c135-b9209f177a24"
   },
   "outputs": [
    {
     "data": {
      "text/plain": [
       "<AxesSubplot:ylabel='Density'>"
      ]
     },
     "execution_count": 181,
     "metadata": {},
     "output_type": "execute_result"
    },
    {
     "data": {
      "image/png": "[encoded data removed]",
      "text/plain": [
       "<Figure size 432x288 with 1 Axes>"
      ]
     },
     "metadata": {
      "needs_background": "light"
     },
     "output_type": "display_data"
    }
   ],
   "source": [
    "# list를 data2Frame으로 변환 \n",
    "boot_1d = pd.DataFrame(boot_1d)\n",
    "\n",
    "# 부트스트랩 분포에 대한 Kernel Density Estimate plot 시각화\n",
    "boot_1d.plot(kind='density')"
   ]
  },
  {
   "cell_type": "markdown",
   "metadata": {
    "colab_type": "text",
    "id": "MX7Y0F97xNXj"
   },
   "source": [
    "* 위의 두 분포는 AB 두 그룹에 대해 1 day retention이 가질 수 있는 부트 스트랩 불확실성을 표현한 것.\n",
    "* 두 그룹간에 큰 차이가 있는 것은 아니지만 분명이 차이가 있다는 것은 검증되었다.  \n",
    "\n",
    "\n",
    " "
   ]
  },
  {
   "cell_type": "markdown",
   "metadata": {},
   "source": [
    "두 그룹간의 차이를 자세히 살펴보기 위해 % 차이를 시각화"
   ]
  },
  {
   "cell_type": "code",
   "execution_count": 182,
   "metadata": {
    "ExecuteTime": {
     "end_time": "2021-06-08T12:20:04.665041Z",
     "start_time": "2021-06-08T12:20:04.469081Z"
    },
    "colab": {
     "base_uri": "https://localhost:8080/",
     "height": 298
    },
    "colab_type": "code",
    "id": "fpPWf8Ofw0Db",
    "outputId": "eb7086a9-f99d-4eb9-ae74-6a768648746a"
   },
   "outputs": [
    {
     "name": "stdout",
     "output_type": "stream",
     "text": [
      "gate(장벽)가 레벨30에 있을 때 1-day retention이 gate(장벽)가 레벨40에 있을 때 보다 더 클 확률: 95.39999999999999 %\n"
     ]
    },
    {
     "data": {
      "text/plain": [
       "<matplotlib.collections.LineCollection at 0x16ea432db50>"
      ]
     },
     "execution_count": 182,
     "metadata": {},
     "output_type": "execute_result"
    },
    {
     "data": {
      "image/png": "[encoded data removed]",
      "text/plain": [
       "<Figure size 432x288 with 1 Axes>"
      ]
     },
     "metadata": {
      "needs_background": "light"
     },
     "output_type": "display_data"
    }
   ],
   "source": [
    "# 두 AB 그룹간의 % 차이 평균 컬럼을 추가한다.\n",
    "boot_1d['difference'] = (boot_1d.gate_30 - boot_1d.gate_40)/boot_1d.gate_40*100\n",
    "\n",
    "# bootstrap % 차이를 시각화 한다. \n",
    "ax = boot_1d['difference'].plot(kind='density') #AB 두그룹간에 평균 차이 정도가 빈도별로 얼마나 분포하는지 \n",
    "ax.set_title('Difference of % in 1-day retention between A & B group')\n",
    "\n",
    "# gate가 레벨30에 있을 때 1-day retention이 7-day retention 보다 더 클 확률을 계산 \n",
    "print('gate(장벽)가 레벨30에 있을 때 1-day retention이 gate(장벽)가 레벨40에 있을 때 보다 더 클 확률:',(boot_1d['difference'] > 0).mean()*100,'%')\n",
    "\n",
    "# 수치가 높은 부분 강조\n",
    "ax.vlines([1, 2], 0, 1, linestyles='dashed', colors='red')"
   ]
  },
  {
   "cell_type": "markdown",
   "metadata": {
    "colab_type": "text",
    "id": "lHwLy_Mlyw_E"
   },
   "source": [
    "* 위 도표에서 가장 가능성이 높은 % 차이는 약 1%-2%이며 분포의 95%는 0% 이상이며 레벨 30의 gate를 선호한다고 할 수 있다.\n",
    "\n",
    "\n",
    "* Bootstrap 분석에 따르면 gate가 레벨 30에있을 때 1-day retention 이 더 높을 가능성이 높다.\n",
    "\n",
    "\n",
    "* 그러나 위에서 살펴봤듯이, 대부분의 유저들은 하루정도만 플레이했다. 그러므로 다수의 플레이어들이 레벨 30까지 도달하지 못했을 가능성을 염두해야 한다.\n",
    "\n",
    "\n",
    "* 즉, 대다수의 유저들은 gate가 30에 있는지 여부에 따라 retention이 영향받지 않았을 가능성이 크다.\n",
    "\n",
    "\n",
    "* **그러므로 7-day retention도 확인을 해야 한다.** 왜냐하면 일주일 동안 플레이 한 후에는 플레이어가 레벨 30과 40에 도달할 가능성이 늘어나기 때문이다."
   ]
  },
  {
   "cell_type": "code",
   "execution_count": 183,
   "metadata": {
    "ExecuteTime": {
     "end_time": "2021-06-08T12:20:04.695138Z",
     "start_time": "2021-06-08T12:20:04.666068Z"
    },
    "colab": {
     "base_uri": "https://localhost:8080/",
     "height": 87
    },
    "colab_type": "code",
    "id": "urihBwG5x7BO",
    "outputId": "57722593-1577-4648-dee6-57f04d3aecdb"
   },
   "outputs": [
    {
     "data": {
      "text/plain": [
       "version\n",
       "gate_30    0.190183\n",
       "gate_40    0.182000\n",
       "Name: retention_7, dtype: float64"
      ]
     },
     "execution_count": 183,
     "metadata": {},
     "output_type": "execute_result"
    }
   ],
   "source": [
    "data2.groupby('version')['retention_7'].sum() / data2.groupby('version')['retention_7'].count()"
   ]
  },
  {
   "cell_type": "markdown",
   "metadata": {
    "colab_type": "text",
    "id": "-HDJGqXq2ru3"
   },
   "source": [
    "* 1일 retention과 마찬가지로, gate가 30 레벨(19.0 %)에 있는 경우보다 gate 레벨이 40(18.2 %)인 경우 7일 retention이 낮다.\n",
    "* 이 차이는 1 일 retention보다 차이가 더 큰데, 아마도 더 많은 플레이어가 첫 번째 gate를 열어볼 시간이 있었기 때문일 것 \n",
    "* 전체 7일 retention은 전체 1일 retention보다 낮다. 설치 후 하루보다 설치 후 일주일에 게임을하는 사람이 더 적기 때문 \n",
    "* 이전과 마찬가지로 부트 스트랩 분석을 사용하여 AB 그룹간에 차이가 있는지 확인해봅시다."
   ]
  },
  {
   "cell_type": "code",
   "execution_count": 184,
   "metadata": {
    "ExecuteTime": {
     "end_time": "2021-06-08T12:20:11.552567Z",
     "start_time": "2021-06-08T12:20:04.696137Z"
    },
    "colab": {
     "base_uri": "https://localhost:8080/",
     "height": 298
    },
    "colab_type": "code",
    "id": "ti6DDCIh2YF2",
    "outputId": "9dc86787-d013-4014-9fb4-452c0558976a"
   },
   "outputs": [
    {
     "name": "stderr",
     "output_type": "stream",
     "text": [
      "100%|████████████████████████████████████████████████████████████████████████████████| 500/500 [00:06<00:00, 73.09it/s]\n"
     ]
    }
   ],
   "source": [
    "# 각각의 AB그룹에 대해 bootstrapp된 means 값의 리스트를 만듭니다.\n",
    "boot_7d = []\n",
    "for i in tqdm(range(500)):\n",
    "    boot_mean = data2.sample(frac=1,replace=True).groupby('version')['retention_7'].mean()\n",
    "    boot_7d.append(boot_mean)"
   ]
  },
  {
   "cell_type": "code",
   "execution_count": 185,
   "metadata": {
    "ExecuteTime": {
     "end_time": "2021-06-08T12:20:11.839633Z",
     "start_time": "2021-06-08T12:20:11.554485Z"
    },
    "colab": {
     "base_uri": "https://localhost:8080/",
     "height": 298
    },
    "colab_type": "code",
    "id": "ti6DDCIh2YF2",
    "outputId": "9dc86787-d013-4014-9fb4-452c0558976a"
   },
   "outputs": [
    {
     "name": "stdout",
     "output_type": "stream",
     "text": [
      "gate(장벽)가 레벨30에 있을 때 7-day retention이 gate(장벽)가 레벨40에 있을 때 보다 더 클 확률: 100.0 %\n"
     ]
    },
    {
     "data": {
      "text/plain": [
       "<matplotlib.collections.LineCollection at 0x16ea3f69ee0>"
      ]
     },
     "execution_count": 185,
     "metadata": {},
     "output_type": "execute_result"
    },
    {
     "data": {
      "image/png": "[encoded data removed]",
      "text/plain": [
       "<Figure size 432x288 with 1 Axes>"
      ]
     },
     "metadata": {
      "needs_background": "light"
     },
     "output_type": "display_data"
    }
   ],
   "source": [
    " \n",
    "# list를 data2Frame으로 변환한다. \n",
    "boot_7d = pd.DataFrame(boot_7d)\n",
    "\n",
    "# 두 AB 그룹간의 % 차이 평균 컬럼을 추가한다.\n",
    "boot_7d['difference'] = (boot_7d.gate_30 - boot_7d.gate_40)/boot_7d.gate_40*100\n",
    "\n",
    "# bootstrap % 차이를 시각화 한다.\n",
    "ax = boot_7d['difference'].plot(kind='density')\n",
    "ax.set_title('Difference of % in 7-day retention between A & B group')\n",
    "\n",
    "# gate가 레벨30에 있을 때 7-day retention이 더 클 확률을 계산한다. \n",
    "print('gate(장벽)가 레벨30에 있을 때 7-day retention이 gate(장벽)가 레벨40에 있을 때 보다 더 클 확률:',(boot_7d['difference'] > 0).mean()*100,'%')\n",
    "\n",
    "# 수치가 높은 부분 강조\n",
    "ax.vlines([3, 6], 0, 0.3, linestyles='dashed', colors='red')"
   ]
  },
  {
   "cell_type": "markdown",
   "metadata": {
    "colab_type": "text",
    "id": "TLUnTaQ230js"
   },
   "source": [
    "* 부트 스트랩 결과는 gate가 레벨 40에있을 때보 다 레벨 30에있을 때 7일 retention이 더 높다는 강력한 증거가 된다.\n",
    "  (gate(장벽)가 레벨30에 있을 때 7-day retention이 더 클 확률이 100%이므로)\n",
    "\n",
    "\n",
    "* 즉, **retention을 늘리기 위해서 gate를 레벨 30에서 레벨 40으로 이동해서는 안된다**"
   ]
  },
  {
   "cell_type": "markdown",
   "metadata": {},
   "source": [
    "# 통계적 기법으로 검증"
   ]
  },
  {
   "cell_type": "markdown",
   "metadata": {
    "colab_type": "text",
    "id": "xnbJo5zPqbXz"
   },
   "source": [
    "## T-test"
   ]
  },
  {
   "cell_type": "markdown",
   "metadata": {},
   "source": [
    "gate가 30인 데이터를 분석하기 위해 별도 테이블 생성"
   ]
  },
  {
   "cell_type": "code",
   "execution_count": 195,
   "metadata": {
    "ExecuteTime": {
     "end_time": "2021-06-08T12:29:04.079637Z",
     "start_time": "2021-06-08T12:29:04.058722Z"
    },
    "colab": {
     "base_uri": "https://localhost:8080/",
     "height": 213
    },
    "colab_type": "code",
    "id": "AhOdaRUXg2EC",
    "outputId": "d01320ae-b409-48b9-8308-42560711ece1"
   },
   "outputs": [
    {
     "name": "stdout",
     "output_type": "stream",
     "text": [
      "(44699, 5)\n"
     ]
    },
    {
     "data": {
      "text/html": [
       "<div>\n",
       "<style scoped>\n",
       "    .dataframe tbody tr th:only-of-type {\n",
       "        vertical-align: middle;\n",
       "    }\n",
       "\n",
       "    .dataframe tbody tr th {\n",
       "        vertical-align: top;\n",
       "    }\n",
       "\n",
       "    .dataframe thead th {\n",
       "        text-align: right;\n",
       "    }\n",
       "</style>\n",
       "<table border=\"1\" class=\"dataframe\">\n",
       "  <thead>\n",
       "    <tr style=\"text-align: right;\">\n",
       "      <th></th>\n",
       "      <th>userid</th>\n",
       "      <th>version</th>\n",
       "      <th>sum_gamerounds</th>\n",
       "      <th>retention_1</th>\n",
       "      <th>retention_7</th>\n",
       "    </tr>\n",
       "  </thead>\n",
       "  <tbody>\n",
       "    <tr>\n",
       "      <th>90179</th>\n",
       "      <td>9998576</td>\n",
       "      <td>gate_30</td>\n",
       "      <td>14</td>\n",
       "      <td>True</td>\n",
       "      <td>False</td>\n",
       "    </tr>\n",
       "    <tr>\n",
       "      <th>90180</th>\n",
       "      <td>9998623</td>\n",
       "      <td>gate_30</td>\n",
       "      <td>7</td>\n",
       "      <td>False</td>\n",
       "      <td>False</td>\n",
       "    </tr>\n",
       "    <tr>\n",
       "      <th>90182</th>\n",
       "      <td>9999178</td>\n",
       "      <td>gate_30</td>\n",
       "      <td>21</td>\n",
       "      <td>True</td>\n",
       "      <td>False</td>\n",
       "    </tr>\n",
       "    <tr>\n",
       "      <th>90183</th>\n",
       "      <td>9999349</td>\n",
       "      <td>gate_30</td>\n",
       "      <td>10</td>\n",
       "      <td>False</td>\n",
       "      <td>False</td>\n",
       "    </tr>\n",
       "    <tr>\n",
       "      <th>90186</th>\n",
       "      <td>9999710</td>\n",
       "      <td>gate_30</td>\n",
       "      <td>28</td>\n",
       "      <td>True</td>\n",
       "      <td>False</td>\n",
       "    </tr>\n",
       "  </tbody>\n",
       "</table>\n",
       "</div>"
      ],
      "text/plain": [
       "        userid  version  sum_gamerounds  retention_1  retention_7\n",
       "90179  9998576  gate_30              14         True        False\n",
       "90180  9998623  gate_30               7        False        False\n",
       "90182  9999178  gate_30              21         True        False\n",
       "90183  9999349  gate_30              10        False        False\n",
       "90186  9999710  gate_30              28         True        False"
      ]
     },
     "execution_count": 195,
     "metadata": {},
     "output_type": "execute_result"
    }
   ],
   "source": [
    "data_gate_30 = data2[data2[\"version\"] == \"gate_30\"] \n",
    "\n",
    "print(data_gate_30.shape)\n",
    "\n",
    "data_gate_30.tail()"
   ]
  },
  {
   "cell_type": "code",
   "execution_count": 196,
   "metadata": {
    "ExecuteTime": {
     "end_time": "2021-06-08T12:30:00.680558Z",
     "start_time": "2021-06-08T12:30:00.658647Z"
    },
    "colab": {
     "base_uri": "https://localhost:8080/",
     "height": 213
    },
    "colab_type": "code",
    "id": "4DA4RZfFg3NH",
    "outputId": "c304921c-61f2-4f0f-f705-2c6756b2b59c"
   },
   "outputs": [
    {
     "name": "stdout",
     "output_type": "stream",
     "text": [
      "(45489, 5)\n"
     ]
    },
    {
     "data": {
      "text/html": [
       "<div>\n",
       "<style scoped>\n",
       "    .dataframe tbody tr th:only-of-type {\n",
       "        vertical-align: middle;\n",
       "    }\n",
       "\n",
       "    .dataframe tbody tr th {\n",
       "        vertical-align: top;\n",
       "    }\n",
       "\n",
       "    .dataframe thead th {\n",
       "        text-align: right;\n",
       "    }\n",
       "</style>\n",
       "<table border=\"1\" class=\"dataframe\">\n",
       "  <thead>\n",
       "    <tr style=\"text-align: right;\">\n",
       "      <th></th>\n",
       "      <th>userid</th>\n",
       "      <th>version</th>\n",
       "      <th>sum_gamerounds</th>\n",
       "      <th>retention_1</th>\n",
       "      <th>retention_7</th>\n",
       "    </tr>\n",
       "  </thead>\n",
       "  <tbody>\n",
       "    <tr>\n",
       "      <th>90181</th>\n",
       "      <td>9998733</td>\n",
       "      <td>gate_40</td>\n",
       "      <td>10</td>\n",
       "      <td>True</td>\n",
       "      <td>False</td>\n",
       "    </tr>\n",
       "    <tr>\n",
       "      <th>90184</th>\n",
       "      <td>9999441</td>\n",
       "      <td>gate_40</td>\n",
       "      <td>97</td>\n",
       "      <td>True</td>\n",
       "      <td>False</td>\n",
       "    </tr>\n",
       "    <tr>\n",
       "      <th>90185</th>\n",
       "      <td>9999479</td>\n",
       "      <td>gate_40</td>\n",
       "      <td>30</td>\n",
       "      <td>False</td>\n",
       "      <td>False</td>\n",
       "    </tr>\n",
       "    <tr>\n",
       "      <th>90187</th>\n",
       "      <td>9999768</td>\n",
       "      <td>gate_40</td>\n",
       "      <td>51</td>\n",
       "      <td>True</td>\n",
       "      <td>False</td>\n",
       "    </tr>\n",
       "    <tr>\n",
       "      <th>90188</th>\n",
       "      <td>9999861</td>\n",
       "      <td>gate_40</td>\n",
       "      <td>16</td>\n",
       "      <td>False</td>\n",
       "      <td>False</td>\n",
       "    </tr>\n",
       "  </tbody>\n",
       "</table>\n",
       "</div>"
      ],
      "text/plain": [
       "        userid  version  sum_gamerounds  retention_1  retention_7\n",
       "90181  9998733  gate_40              10         True        False\n",
       "90184  9999441  gate_40              97         True        False\n",
       "90185  9999479  gate_40              30        False        False\n",
       "90187  9999768  gate_40              51         True        False\n",
       "90188  9999861  gate_40              16        False        False"
      ]
     },
     "execution_count": 196,
     "metadata": {},
     "output_type": "execute_result"
    }
   ],
   "source": [
    "data_gate_40 = data2[data2[\"version\"] == \"gate_40\"] \n",
    "\n",
    "print(data_gate_40.shape)\n",
    "\n",
    "data_gate_40.tail()"
   ]
  },
  {
   "cell_type": "markdown",
   "metadata": {},
   "source": [
    "T-test 를 하는이유?\n",
    "\n",
    "- 위의 분석에서 A, B 두 그룹이 다르다고 결과가 나왔기 때문에 실제로 통계적으로도 두 그룹이 다른 데이터 인지 검증하기 위함"
   ]
  },
  {
   "cell_type": "code",
   "execution_count": 204,
   "metadata": {
    "ExecuteTime": {
     "end_time": "2021-06-08T12:39:20.480274Z",
     "start_time": "2021-06-08T12:39:20.469304Z"
    },
    "colab": {
     "base_uri": "https://localhost:8080/",
     "height": 34
    },
    "colab_type": "code",
    "id": "ka4B-lMGdXnn",
    "outputId": "8445c660-194a-435d-e32f-90ed3cedb8fa"
   },
   "outputs": [
    {
     "data": {
      "text/plain": [
       "Ttest_indResult(statistic=1.7871153372992439, pvalue=0.07392220630182521)"
      ]
     },
     "execution_count": 204,
     "metadata": {},
     "output_type": "execute_result"
    }
   ],
   "source": [
    "from scipy import stats\n",
    "\n",
    "#독립표본 T-검정 (2 Sample T-Test)\n",
    "\n",
    "# 1 day retention 데이터로 T test\n",
    "\n",
    "t_TestResult = stats.ttest_ind(data_gate_30['retention_1'], data_gate_40['retention_1'])\n",
    "\n",
    "t_TestResultDiffVar = stats.ttest_ind(data_gate_30['retention_1'], data_gate_40['retention_1'], equal_var=False)\n",
    "\n",
    "t_TestResult "
   ]
  },
  {
   "cell_type": "code",
   "execution_count": 199,
   "metadata": {
    "ExecuteTime": {
     "end_time": "2021-06-08T12:34:32.413301Z",
     "start_time": "2021-06-08T12:34:32.402332Z"
    },
    "colab": {
     "base_uri": "https://localhost:8080/",
     "height": 34
    },
    "colab_type": "code",
    "id": "OO9dcuO_iNNh",
    "outputId": "30652a18-e493-4331-88ae-6b595c94a8e7"
   },
   "outputs": [
    {
     "data": {
      "text/plain": [
       "Ttest_indResult(statistic=3.1575495965685936, pvalue=0.0015915357297854773)"
      ]
     },
     "execution_count": 199,
     "metadata": {},
     "output_type": "execute_result"
    }
   ],
   "source": [
    "t_TestResult2 = stats.ttest_ind(data_gate_30['retention_7'], data_gate_40['retention_7'])\n",
    "\n",
    "t_TestResultDiffVar2 = stats.ttest_ind(data_gate_30['retention_7'], data_gate_40['retention_7'], equal_var=False)\n",
    "\n",
    "t_TestResult2"
   ]
  },
  {
   "cell_type": "markdown",
   "metadata": {
    "colab_type": "text",
    "id": "Fc1_e0m2j-WL"
   },
   "source": [
    "##### T Score\n",
    "\n",
    "* Ttest_indResult의 statistics 부분이 t-score\n",
    "\n",
    "\n",
    "- t-score가 크면 **[두 그룹이 다르다]**는 것을 의미\n",
    "\n",
    "\n",
    "- t-score가 작으면 **[두 그룹이 비슷하다]**는 것을 의미\n",
    "\n",
    "##### P-values\n",
    "- p-value는 5%수준에서 0.05  \n",
    "\n",
    "\n",
    "- p-values는 **작을 수록 좋다.** \n",
    "\n",
    "\n",
    "- p-value가 유의미한 범주안에 있다면, 이는 데이터가 우연히 발생한 것이 아니라는 것을 의미한다. \n",
    "\n",
    "\n",
    "- e.g) p-value가 0.01 이라는 것은 결과가 우연히 나올 확률이 1%에 불과하다는 것\n",
    "\n",
    "\n",
    "- 통계학적으로 p-value가 0.05 (5%) 수준이면 신뢰할 수 있는 결과로 판단하고, '통계적으로 유의하다' 고 표현 한다.\n",
    "\n",
    "\n",
    "\n",
    "[T-test 참고링크](https://www.statisticshowto.data2sciencecentral.com/probability-and-statistics/t-test/)"
   ]
  },
  {
   "cell_type": "markdown",
   "metadata": {},
   "source": [
    "## T-test 결과 해석"
   ]
  },
  {
   "cell_type": "markdown",
   "metadata": {},
   "source": [
    "**[retention_1]**\n",
    "\n",
    "* retention_1 데이터로 T-test를 한 결과 p-value가 0.073 (>0.05) 로 유의하지 않다.\n",
    "\n",
    "\n",
    "* 즉, 위의 분석에서 retention1에서 gate30일때의 결과와 gate40일때의 결과가 차이가 난다고 했을때, 이 차이가 A/B test에 의해 발생한 것이라 볼 수는 없다는 의미이다.\n",
    "\n",
    "**[retention_7]**\n",
    "\n",
    "\n",
    "* retention_7 데이터로 T-test를 한 결과 p-value가 0.001 (<0.05) 로 유의하다.\n",
    "\n",
    "\n",
    "* 즉, retention_7에서 발생한 gate30 집단과 gate40집단의 A/B test를 통해 발견된 차이는 우연히 발생한 일이 아니다. (확률적으로 일어난 것이다.)  => 두 그룹간에 차이가 있는 것이 맞다.\n",
    "\n",
    "**[결론]**\n",
    "\n",
    "**retention_7 을 기준으로 볼때 gate는 30 levl에 있는 것 보다는 40 level에 있는 것이 고객 retnetion을 위해 더 좋은 선택이 될 것이다.**\n",
    "\n",
    "\n",
    "하지만 위에서 진행한 T-test는 고객 retention이 발생했다 =1, 발생하지 않았다 = 0 이라는 가정하에 분석을 한 것이다.\n",
    "\n",
    "실제 분석에 사용한 데이터는 1,0의 이진분류가 아닌 '범주형' 데이터 이다.  그러므로 통계적으로 적합한 분석방법은 되지 못한다.\n",
    "\n",
    "\n"
   ]
  },
  {
   "cell_type": "markdown",
   "metadata": {},
   "source": []
  },
  {
   "cell_type": "markdown",
   "metadata": {},
   "source": [
    "**[ 마케팅에서 A/B test에 대한 T-검정을 사용할 수 있는 예시 ]**\n",
    "\n",
    "어떤 회사가 연예인 모델 A를 새로 선발하여 광고를 게시하였을때, **A가 모델로 선발되기 이전에 해당 기업의 performance**와 **A가 모델로 선발된 이후의 performance**를 비교하고자 할때"
   ]
  },
  {
   "cell_type": "markdown",
   "metadata": {
    "colab_type": "text",
    "id": "foePjPbOXJ_M"
   },
   "source": [
    "## chi-square\n",
    "\n",
    "* 카이제곱검정은 어떤 범주형 확률변수  𝑋 가 다른 범주형 확률변수  𝑌 와 독립인지 상관관계를 가지는가를 검증하는데도 사용된다.\n",
    "\n",
    "\n",
    "* 카이제곱검정을 독립을 확인하는데 사용하면 카이제곱 독립검정이라 한다.\n",
    "\n",
    "\n",
    "* 카이제곱 독립검정의 귀무가설 : 만약 두 확률변수가 독립이라면  𝑋=0 일 때의  𝑌 분포와  𝑋=1 일 때의  𝑌 분포가 같아야 한다. \n",
    "\n",
    "\n",
    "* 이번 분석데이터에 적용해서 보자면 : **\"gate가 30일때와 gate가 40일때 모두 Y(retention)의 분포가 같다.\"**"
   ]
  },
  {
   "cell_type": "markdown",
   "metadata": {
    "colab_type": "text",
    "id": "hdrQoWts3iWL"
   },
   "source": [
    "* 따라서 표본 집합이 같은 확률분포에서 나왔다는 것을 귀무가설로 하는 카이제곱검정을 하여 채택된다면 두 확률변수는 독립이다.\n",
    "\n",
    "\n",
    "* 만약 카이제곱 독립검정이 기각된다면(p-value > 0.05라면) 두 확률변수는 상관관계가 있는 것 이다.\n",
    "\n",
    "\n",
    "* 다시말해 카이제곱검정 결과가 기각된다면 gate가 30일때와 gate가 40일때 retention의 값이 다르다는 것 이다.\n",
    "\n",
    "\n",
    "* 𝑋 의 값에 따른 각각의  𝑌 분포가 2차원 표(contingency table)의 형태로 주어지면 독립인 경우의 분포와 실제 y 표본본포의 차이를 검정통계량으로 계산한다. \n",
    "\n",
    "\n",
    "* 이 값이 충분히 크다면  𝑋 와  𝑌 는 상관관계가 있다. "
   ]
  },
  {
   "cell_type": "code",
   "execution_count": 209,
   "metadata": {
    "ExecuteTime": {
     "end_time": "2021-06-08T13:02:50.662329Z",
     "start_time": "2021-06-08T13:02:50.643348Z"
    },
    "colab": {
     "base_uri": "https://localhost:8080/",
     "height": 136
    },
    "colab_type": "code",
    "id": "02c1ICvj0_Om",
    "outputId": "9fe2ae8c-6597-4310-d38d-7ce958b79c28"
   },
   "outputs": [
    {
     "data": {
      "text/html": [
       "<div>\n",
       "<style scoped>\n",
       "    .dataframe tbody tr th:only-of-type {\n",
       "        vertical-align: middle;\n",
       "    }\n",
       "\n",
       "    .dataframe tbody tr th {\n",
       "        vertical-align: top;\n",
       "    }\n",
       "\n",
       "    .dataframe thead th {\n",
       "        text-align: right;\n",
       "    }\n",
       "</style>\n",
       "<table border=\"1\" class=\"dataframe\">\n",
       "  <thead>\n",
       "    <tr style=\"text-align: right;\">\n",
       "      <th></th>\n",
       "      <th>userid</th>\n",
       "      <th>sum_gamerounds</th>\n",
       "      <th>retention_1</th>\n",
       "      <th>retention_7</th>\n",
       "    </tr>\n",
       "    <tr>\n",
       "      <th>version</th>\n",
       "      <th></th>\n",
       "      <th></th>\n",
       "      <th></th>\n",
       "      <th></th>\n",
       "    </tr>\n",
       "  </thead>\n",
       "  <tbody>\n",
       "    <tr>\n",
       "      <th>gate_30</th>\n",
       "      <td>222937707836</td>\n",
       "      <td>2294941</td>\n",
       "      <td>20034</td>\n",
       "      <td>8501</td>\n",
       "    </tr>\n",
       "    <tr>\n",
       "      <th>gate_40</th>\n",
       "      <td>227857702576</td>\n",
       "      <td>2333530</td>\n",
       "      <td>20119</td>\n",
       "      <td>8279</td>\n",
       "    </tr>\n",
       "  </tbody>\n",
       "</table>\n",
       "</div>"
      ],
      "text/plain": [
       "               userid  sum_gamerounds  retention_1  retention_7\n",
       "version                                                        \n",
       "gate_30  222937707836         2294941        20034         8501\n",
       "gate_40  227857702576         2333530        20119         8279"
      ]
     },
     "execution_count": 209,
     "metadata": {},
     "output_type": "execute_result"
    }
   ],
   "source": [
    "# 분할표를 만들기 위해 버전별로 생존자의 수 합계를 구한다. \n",
    "data2.groupby(\"version\").sum()"
   ]
  },
  {
   "cell_type": "code",
   "execution_count": 210,
   "metadata": {
    "ExecuteTime": {
     "end_time": "2021-06-08T13:02:50.889436Z",
     "start_time": "2021-06-08T13:02:50.869460Z"
    },
    "colab": {
     "base_uri": "https://localhost:8080/",
     "height": 136
    },
    "colab_type": "code",
    "id": "u6xOANI5nESJ",
    "outputId": "8f196d9e-6de4-4fe6-dd4f-465ed6260735"
   },
   "outputs": [
    {
     "data": {
      "text/html": [
       "<div>\n",
       "<style scoped>\n",
       "    .dataframe tbody tr th:only-of-type {\n",
       "        vertical-align: middle;\n",
       "    }\n",
       "\n",
       "    .dataframe tbody tr th {\n",
       "        vertical-align: top;\n",
       "    }\n",
       "\n",
       "    .dataframe thead th {\n",
       "        text-align: right;\n",
       "    }\n",
       "</style>\n",
       "<table border=\"1\" class=\"dataframe\">\n",
       "  <thead>\n",
       "    <tr style=\"text-align: right;\">\n",
       "      <th></th>\n",
       "      <th>userid</th>\n",
       "      <th>sum_gamerounds</th>\n",
       "      <th>retention_1</th>\n",
       "      <th>retention_7</th>\n",
       "    </tr>\n",
       "    <tr>\n",
       "      <th>version</th>\n",
       "      <th></th>\n",
       "      <th></th>\n",
       "      <th></th>\n",
       "      <th></th>\n",
       "    </tr>\n",
       "  </thead>\n",
       "  <tbody>\n",
       "    <tr>\n",
       "      <th>gate_30</th>\n",
       "      <td>44699</td>\n",
       "      <td>44699</td>\n",
       "      <td>44699</td>\n",
       "      <td>44699</td>\n",
       "    </tr>\n",
       "    <tr>\n",
       "      <th>gate_40</th>\n",
       "      <td>45489</td>\n",
       "      <td>45489</td>\n",
       "      <td>45489</td>\n",
       "      <td>45489</td>\n",
       "    </tr>\n",
       "  </tbody>\n",
       "</table>\n",
       "</div>"
      ],
      "text/plain": [
       "         userid  sum_gamerounds  retention_1  retention_7\n",
       "version                                                  \n",
       "gate_30   44699           44699        44699        44699\n",
       "gate_40   45489           45489        45489        45489"
      ]
     },
     "execution_count": 210,
     "metadata": {},
     "output_type": "execute_result"
    }
   ],
   "source": [
    "#버전별 전체 유저의 수를 구한다. \n",
    "data2.groupby(\"version\").count()"
   ]
  },
  {
   "cell_type": "markdown",
   "metadata": {
    "colab_type": "text",
    "id": "gpawM4SknNxv"
   },
   "source": [
    "### 버전 별 분할표를 그리기\n",
    "\n",
    "\n",
    "||retention_1=False|retention_1=True|\n",
    "|------|---|---|\n",
    "|version=gate30|(44699-20034)|20034|\n",
    "| version=gate40|(45489-20119)|20119|\n",
    "\n",
    "\n",
    "\n",
    "||retention_7=False|retention_7=True|\n",
    "|------|---|---|\n",
    "|version=gate30|(44699-8501)|8501|\n",
    "| version=gate40|(45489-8279)|8279|\n",
    "\n"
   ]
  },
  {
   "cell_type": "markdown",
   "metadata": {},
   "source": [
    "## 카이제곱 검정 실행 및 결과 해석"
   ]
  },
  {
   "cell_type": "code",
   "execution_count": 211,
   "metadata": {
    "ExecuteTime": {
     "end_time": "2021-06-08T13:02:51.188363Z",
     "start_time": "2021-06-08T13:02:51.167391Z"
    },
    "colab": {
     "base_uri": "https://localhost:8080/",
     "height": 105
    },
    "colab_type": "code",
    "id": "06lxTLbI1VXr",
    "outputId": "2dd4d21d-1090-42de-f5ad-bf7a2a75174c"
   },
   "outputs": [
    {
     "data": {
      "text/plain": [
       "(3.1698355431707994,\n",
       " 0.07500999897705699,\n",
       " 1,\n",
       " array([[20252.35970417, 25236.64029583],\n",
       "        [19900.64029583, 24798.35970417]]))"
      ]
     },
     "execution_count": 211,
     "metadata": {},
     "output_type": "execute_result"
    }
   ],
   "source": [
    "import scipy as sp\n",
    "\n",
    "#observation when retention_1\n",
    "obs1 = np.array([[20119, (45489-20119)], [20034, (44699-20034)]])\n",
    "sp.stats.chi2_contingency(obs1)"
   ]
  },
  {
   "cell_type": "markdown",
   "metadata": {
    "colab_type": "text",
    "id": "vBZm8xBv4R_b"
   },
   "source": [
    "* 검정 결과 카이제곱 독립검정의 유의확률은 7.5% (0.075) 로 5% (0.05) 보다 크다. (귀무가설 채택)\n",
    "* 즉,  𝑋 와  𝑌 는 상관관계가 있다고 말할 수 없다."
   ]
  },
  {
   "cell_type": "code",
   "execution_count": 212,
   "metadata": {
    "ExecuteTime": {
     "end_time": "2021-06-08T13:02:52.976531Z",
     "start_time": "2021-06-08T13:02:52.968582Z"
    },
    "colab": {
     "base_uri": "https://localhost:8080/",
     "height": 105
    },
    "colab_type": "code",
    "id": "UESQ9ufV2uUw",
    "outputId": "619d076d-869e-4d62-d857-a0ea0ca9de6b"
   },
   "outputs": [
    {
     "data": {
      "text/plain": [
       "(9.915275528905669,\n",
       " 0.0016391259678654423,\n",
       " 1,\n",
       " array([[ 8316.50796115, 36382.49203885],\n",
       "        [ 8463.49203885, 37025.50796115]]))"
      ]
     },
     "execution_count": 212,
     "metadata": {},
     "output_type": "execute_result"
    }
   ],
   "source": [
    "#observation when retention_7\n",
    "obs7 = np.array([[8501, (44699-8501)], [8279, (45489-8279)]])\n",
    "sp.stats.chi2_contingency(obs7)"
   ]
  },
  {
   "cell_type": "markdown",
   "metadata": {
    "colab_type": "text",
    "id": "cJB9GtT14Zrq"
   },
   "source": [
    "* 카이제곱 독립검정의 유의확률은 0.1% (0.001) 로 5%(0.05) 보다 작다. (귀무가설 기각) \n",
    "\n",
    "\n",
    "* 즉,  𝑋 와  𝑌 는 상관관계가 있다고 말할 수 있다.\n",
    "\n",
    "\n",
    "* gate가 30에 있는지 40에 있는지 여부에 따라 7일 뒤 retention이 상관관계가 있는 것  \n",
    "\n",
    "\n",
    "* 7일 뒤 retention 유지를 위하여 gate는 30을 유지해야 한다. "
   ]
  },
  {
   "cell_type": "markdown",
   "metadata": {
    "colab_type": "text",
    "id": "4BTq16J0pLC3"
   },
   "source": [
    "### 결론\n",
    "* **gate는 30에 유지해야한다.**"
   ]
  },
  {
   "cell_type": "markdown",
   "metadata": {
    "colab_type": "text",
    "id": "4BTq16J0pLC3"
   },
   "source": [
    "# 실제 데이터로 해보면 좋을 것\n",
    "\n",
    "* 본 데이터에서는 retention만 주어져 있기에 한 가지를 주안점을 두어 분석 했다. \n",
    "\n",
    "\n",
    "* 하지만, 실제로는 retention 이외에 함께 고려해야 할 다양한 메트릭들을 고려해서 분석 진행 해볼 필요 있음\n",
    "\n",
    "\n",
    "* e.g) 앱내 구매, 게임 플레이 횟수, 친구초대로 인한 referrer 등   \n",
    "\n",
    "\n",
    "* 서비스 운영자, 기획자 차원에서 정말 중요한 메트릭을 정하고 그 것을 기준으로 테스트 결과를 평가하는 것이 중요한다. "
   ]
  }
 ],
 "metadata": {
  "colab": {
   "collapsed_sections": [],
   "name": "03 [ Retention ] ABtest.ipynb(lecture)_FIN",
   "provenance": []
  },
  "kernelspec": {
   "display_name": "Python 3",
   "language": "python",
   "name": "python3"
  },
  "language_info": {
   "codemirror_mode": {
    "name": "ipython",
    "version": 3
   },
   "file_extension": ".py",
   "mimetype": "text/x-python",
   "name": "python",
   "nbconvert_exporter": "python",
   "pygments_lexer": "ipython3",
   "version": "3.8.5"
  },
  "toc": {
   "base_numbering": 1,
   "nav_menu": {},
   "number_sections": true,
   "sideBar": true,
   "skip_h1_title": false,
   "title_cell": "Table of Contents",
   "title_sidebar": "Contents",
   "toc_cell": false,
   "toc_position": {},
   "toc_section_display": true,
   "toc_window_display": true
  },
  "varInspector": {
   "cols": {
    "lenName": 16,
    "lenType": 16,
    "lenVar": 40
   },
   "kernels_config": {
    "python": {
     "delete_cmd_postfix": "",
     "delete_cmd_prefix": "del ",
     "library": "var_list.py",
     "varRefreshCmd": "print(var_dic_list())"
    },
    "r": {
     "delete_cmd_postfix": ") ",
     "delete_cmd_prefix": "rm(",
     "library": "var_list.r",
     "varRefreshCmd": "cat(var_dic_list()) "
    }
   },
   "types_to_exclude": [
    "module",
    "function",
    "builtin_function_or_method",
    "instance",
    "_Feature"
   ],
   "window_display": false
  }
 },
 "nbformat": 4,
 "nbformat_minor": 1
}
