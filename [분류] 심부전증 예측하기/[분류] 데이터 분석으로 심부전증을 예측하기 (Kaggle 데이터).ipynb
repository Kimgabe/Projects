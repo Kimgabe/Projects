{
 "cells": [
  {
   "cell_type": "markdown",
   "metadata": {},
   "source": [
    "# 왜 심부전증 데이터를 골랐는가? 에 대하여 \n",
    "\n",
    "국비 지원으로 빅데이터 분석을 배우며 마지막에 딥러닝에 대해 배웠다.\n",
    "이때 이미지를 통해 폐질환 등을 분류해는 모델링에 대한 사례를 배웠는데 이때 생긴 궁금증이 있었다.\n",
    "\n",
    "\"이미지로 분류하는 것이 아니라, 의료관련 다양한 지표 데이터들을 활용해 머신러닝으로 질병을 예측/분류 할수는 없는 걸까?\"\n",
    "\n",
    "때마침 kaggle에서 심부전증환자를 예측하는데 활용할 수 있는 데이터를 발견해서 이를 통해 확인 해보고자 한다."
   ]
  },
  {
   "cell_type": "markdown",
   "metadata": {
    "id": "NqqLNJZjfi8U"
   },
   "source": [
    "# 주제 : 예측모델로 심부전증 여부 예측하기\n",
    "----------\n",
    "\n",
    "\n",
    "## 데이터 소개\n",
    "**Kaggle의 Heart Failure Prediction 데이터셋을 사용**\n",
    "\n",
    "---\n",
    "**컬럼설명**\n",
    "\n",
    "범주형 데이터\n",
    "\n",
    "anaemia: 환자의 빈혈증 여부 (0: 정상, 1: 빈혈)\n",
    "\n",
    "diabetes: 당뇨병 여부 (0: 정상, 1: 당뇨)\n",
    "\n",
    "high_blood_pressure: 고혈압 여부 (0: 정상, 1: 고혈압)\n",
    "\n",
    "sex: 성별 (0: 여성, 1: 남성)\n",
    "\n",
    "smoking: 흡연 여부 (0: 비흡연, 1: 흡연)\n",
    "\n",
    "DEATH_EVENT: 사망 여부 (0: 생존, 1: 사망)\n",
    "\n",
    "---\n",
    "\n",
    "수치형 데이터 \n",
    "\n",
    "age: 환자의 나이\n",
    "\n",
    "심부전 유병률은 60세 이상에서 급증하며 나이가 들수록 증가하는 것으로 알려졌다.\n",
    "\n",
    "\n",
    "time: 관찰 기간 (일)\n",
    "\n",
    "**creatinine_phosphokinase: 크레아틴키나제 검사 결과**\n",
    "1) CK (크레아틴키나제)는 심장, 뇌, 골격근, 및 다른 조직에서 발견되는 효소\n",
    "\n",
    "2) CK(크레아틴키나제) 농도는 근육 또는 심장 세포가 손상될 때에 올라간다.\n",
    "\n",
    "**ejection_fraction: 박출계수 (%)**\n",
    "1) 맥박을 통해 심장에서 박출 되거나 펌프하는 혈액의 %량\n",
    "\n",
    "2) 범주는 0-100%\n",
    "\n",
    "3) 의학적으로 박출계수가 50% 또는 더 높다면, 정상 %로 고려(치료 필요 없음)\n",
    "\n",
    "4) 박출계수가 50%보다 낮다면, 심장은 대부분 충분한 산소가 없다거나, 관상동맥으로 흐르는 혈액이 부족하다는 의미\n",
    "\n",
    "\n",
    "**platelets: 혈소판 수 (kiloplatelets/mL)**\n",
    "\n",
    "1) 성인의 경우 혈액 1마이크로 리터 안에 약 15~40만 개의 혈소판을 보유하고 있다.\n",
    "\n",
    "2)  혈소판의 수나 기능에 이상이 생기면 지혈 작용에 영향을 주어 출혈이 생길 수 있다.\n",
    "\n",
    "\n",
    "**serum_creatinine: 혈중 크레아틴 레벨 (mg/dL)**\n",
    "1) 크레아티닌은 근육에서 생성되는 노폐물 - 신장기능 평가의 주요 지표\n",
    "\n",
    "2) 혈중 크레아티닌 농도의 정상범위는 0.50~1.4 mg/dL\n",
    "\n",
    "\n",
    "\n",
    "**serum_sodium: 혈중 나트륨 레벨 (mEq/L)**\n",
    "1) 고나트륨혈증은 보통 혈중농도가 145mEq/L 이상인 경우를 말함\n",
    "\n",
    "2) 고나트륨혈증 발생기 심혈관계 이상 발생할 수 있음\n",
    "\n",
    "\n",
    "---\n",
    "\n",
    "- 데이터 출처: https://www.kaggle.com/andrewmvd/heart-failure-clinical-data"
   ]
  },
  {
   "cell_type": "markdown",
   "metadata": {
    "id": "ODJVmYvIP3x-"
   },
   "source": [
    "# Step 0. 의료 데이터셋에 대하여"
   ]
  },
  {
   "cell_type": "markdown",
   "metadata": {
    "id": "c0iKTnLNsraM"
   },
   "source": [
    "### 의료 데이터의 수집 관련 정책의 변화\n",
    "\n",
    "한국의 경우 한정\n",
    "\n",
    "2020.1월 데이터 3법 개정 이후 -> '가명정보' 사용이 가능해짐\n",
    "\n",
    "개인 식별이 가능한 정보를 비식별화( de-identification)을 하여 일반적으로 사용가능한 데이터로 변화시킨 것"
   ]
  },
  {
   "cell_type": "markdown",
   "metadata": {
    "id": "cxZwPnfms0-9"
   },
   "source": [
    "### 의료 데이터 분석의 현재\n",
    "\n",
    "해외 (덴마크, 일본, 영국, 미국 등) 의 경우 과거부터 의료데이터 분석을 시행해옴.\n",
    "\n",
    "단순하게는 병원 공실률 개선을 위한 분석 부터 넓게는 질병발생 가능성 예측 까지 넓은 범주에서 의료 관련 데이터 분석을 시행\n",
    "\n",
    "하지만, 한국의 경우 데이터 3법 개정 이후부터 의료 관련 데이터 분석이 활발해지고 있는 상황."
   ]
  },
  {
   "cell_type": "markdown",
   "metadata": {
    "id": "XEcB6i1os0y_"
   },
   "source": [
    "### Accuracy, Precision, 그리고 Recall 이 주요 판단 지표\n",
    "\n",
    "Accuracy : 예측결과(pred)와 실제 값(label)이 같은 개수 / 전체 데이터\n",
    "\n",
    "\n",
    "Precision(정밀도) : TP라고 예측했을때 실제로 TP일 확률 => [ TP/ (FP+TP) ] (FP 를 낮추는데 초점)\n",
    "\n",
    "\n",
    "Recall (재현율) : 실제값이 Positive인 데이터 중에서 예측결과(Pred)와 실제 값(label)이 일치한 데이터의 비율 => [TP / (FN+TP) ] (FN을 낮추는데 초점)\n",
    "\n",
    "---\n",
    "의료 데이터 분석에서는 **Recall**이 가장 중요한 지표. \n",
    "\n",
    "**Why?**\n",
    "\n",
    "**Recall이 중요한 지표인 경우 : 실제로 Positive한 것을 Negative로 '잘못' 판단했을때 그 영향력이 심각한 경우\n",
    "\n",
    "의료 데이터의 경우가 대표적인 예시\n",
    "\n",
    "실제 질병을 질병이 없다고 예측할 경우 그 잘못된 판단으로 **환자의 생명** 을 잃게 될 수 도 있기 때문.\n",
    "\n",
    "---\n",
    "\n",
    "그래서 실제 의료 분석은 여러단계를 거치면서 분석한다.\n",
    "\n",
    "1) 비교적 간단하지만 정확성은 떨어지는 테스트 \n",
    "\n",
    "2) 1)보다는 좀 더 복잡하지만 정확성은 좀 더 높은 테스트\n",
    "\n",
    "3) 2)보다는 좀 더 복잡하지만 정확성은 좀 더 높은 테스트\n",
    "\n",
    "와 같이 조금씩 더 복잡하면서 정확성이 더 높은 테스트를 순차적으로 시행\n",
    "\n",
    "\n",
    "e.g) MRI -> 혈액 검사 -> 조직검사\n",
    "\n",
    "---\n",
    "일반적으로 의료분석은 상대적으로 쉽게 얻을 수 있는 데이터들을 조합해서 차근 차근 분석 정확도를 높여가기 때문에 \n",
    "초반에는 Recall 이 높은 분석방법이 더 중요하다. 차후에 최종적으로는 Precision 과 Recall이 모두 높은 방법을 사용하는 것.\n",
    "\n",
    "---\n",
    "Recall을 100%로 만드는 것을 추구하면 Precision은 0에 가까워 진다.\n",
    "\n",
    "\n",
    "e.g) 무한대의 환자가 있다고 가정\n",
    "Recall을 100%로 만들려면 무한대의 모든 환자에게 병이 있다. (True) 라고 진단하면 된다.\n",
    "하지만 이 경우 Precision 을 측정하면 분모값이 환자수(무한대) 이기 때문에 0쪽으로 하락한다.\n",
    "\n",
    "그러므로, Recall은 95%이상을 추구하면서 Precision을 떨어지지 않도록 하는 것이 중요하다."
   ]
  },
  {
   "cell_type": "markdown",
   "metadata": {
    "id": "IRssoNrgP7So"
   },
   "source": [
    "# Step 1. 데이터셋 준비하기"
   ]
  },
  {
   "cell_type": "code",
   "execution_count": 1,
   "metadata": {
    "ExecuteTime": {
     "end_time": "2021-06-17T05:33:52.274508Z",
     "start_time": "2021-06-17T05:33:51.116808Z"
    },
    "executionInfo": {
     "elapsed": 1699,
     "status": "ok",
     "timestamp": 1610281706851,
     "user": {
      "displayName": "김패캠",
      "photoUrl": "",
      "userId": "06994282823286758918"
     },
     "user_tz": -540
    },
    "id": "g49RuFGrBvt7"
   },
   "outputs": [],
   "source": [
    "import pandas as pd\n",
    "import numpy as np\n",
    "import matplotlib.pyplot as plt\n",
    "import seaborn as sns\n",
    "\n",
    "# 컬럼 전체 확인 가능하도록 출력 범위 설정\n",
    "pd.set_option('display.max_columns', 500)\n",
    "pd.set_option('display.width', 1000)\n",
    "\n",
    "# 불필요한 경고 표시 생략\n",
    "import warnings\n",
    "warnings.filterwarnings(action = 'ignore')"
   ]
  },
  {
   "cell_type": "markdown",
   "metadata": {
    "id": "paInbv8Ys-Qy"
   },
   "source": [
    "##  Kaggle API 로 데이터 불러오기 및 셋팅\n"
   ]
  },
  {
   "cell_type": "code",
   "execution_count": 2,
   "metadata": {
    "ExecuteTime": {
     "end_time": "2021-06-17T05:33:52.320029Z",
     "start_time": "2021-06-17T05:33:52.275506Z"
    }
   },
   "outputs": [],
   "source": [
    "# 다운로드 패키지\n",
    "import opendatasets as od\n",
    "\n",
    "# os 명령 관련 패키지\n",
    "import os"
   ]
  },
  {
   "cell_type": "markdown",
   "metadata": {
    "ExecuteTime": {
     "end_time": "2021-06-17T04:48:16.922671Z",
     "start_time": "2021-06-17T04:48:13.263362Z"
    }
   },
   "source": [
    "\n",
    "#username = gabesoon\n",
    "\n",
    "\n",
    "#user key = f7dab1c856bc634fde741afaf75781ea\n",
    "\n",
    "od.download(\"https://www.kaggle.com/rashikrahmanpritom/heart-attack-analysis-prediction-dataset\")"
   ]
  },
  {
   "cell_type": "code",
   "execution_count": 3,
   "metadata": {
    "ExecuteTime": {
     "end_time": "2021-06-17T05:33:52.334952Z",
     "start_time": "2021-06-17T05:33:52.321955Z"
    }
   },
   "outputs": [
    {
     "data": {
      "text/plain": [
       "['.ipynb_checkpoints',\n",
       " 'heart-attack-analysis-prediction-dataset',\n",
       " 'heart_failure_clinical_records_dataset.csv',\n",
       " '[분류] 데이터 분석으로 심부전증을 예측하기 (Kaggle 데이터).ipynb']"
      ]
     },
     "execution_count": 3,
     "metadata": {},
     "output_type": "execute_result"
    }
   ],
   "source": [
    "os.listdir()"
   ]
  },
  {
   "cell_type": "markdown",
   "metadata": {
    "id": "aJ34SovLtFI8"
   },
   "source": [
    "## Pandas 라이브러리로 csv파일 읽어들이기\n"
   ]
  },
  {
   "cell_type": "code",
   "execution_count": 4,
   "metadata": {
    "ExecuteTime": {
     "end_time": "2021-06-17T05:33:52.349881Z",
     "start_time": "2021-06-17T05:33:52.336935Z"
    },
    "executionInfo": {
     "elapsed": 685,
     "status": "ok",
     "timestamp": 1610281940128,
     "user": {
      "displayName": "김패캠",
      "photoUrl": "",
      "userId": "06994282823286758918"
     },
     "user_tz": -540
    },
    "id": "RnJv-4YwCMSx"
   },
   "outputs": [],
   "source": [
    "# 데이터 로드\n",
    "df = pd.read_csv('heart_failure_clinical_records_dataset.csv')"
   ]
  },
  {
   "cell_type": "code",
   "execution_count": 5,
   "metadata": {
    "ExecuteTime": {
     "end_time": "2021-06-17T05:33:52.379800Z",
     "start_time": "2021-06-17T05:33:52.351876Z"
    },
    "id": "t42jo_h6SIfA"
   },
   "outputs": [
    {
     "name": "stdout",
     "output_type": "stream",
     "text": [
      "<class 'pandas.core.frame.DataFrame'>\n",
      "RangeIndex: 299 entries, 0 to 298\n",
      "Data columns (total 13 columns):\n",
      " #   Column                    Non-Null Count  Dtype  \n",
      "---  ------                    --------------  -----  \n",
      " 0   age                       299 non-null    float64\n",
      " 1   anaemia                   299 non-null    int64  \n",
      " 2   creatinine_phosphokinase  299 non-null    int64  \n",
      " 3   diabetes                  299 non-null    int64  \n",
      " 4   ejection_fraction         299 non-null    int64  \n",
      " 5   high_blood_pressure       299 non-null    int64  \n",
      " 6   platelets                 299 non-null    float64\n",
      " 7   serum_creatinine          299 non-null    float64\n",
      " 8   serum_sodium              299 non-null    int64  \n",
      " 9   sex                       299 non-null    int64  \n",
      " 10  smoking                   299 non-null    int64  \n",
      " 11  time                      299 non-null    int64  \n",
      " 12  DEATH_EVENT               299 non-null    int64  \n",
      "dtypes: float64(3), int64(10)\n",
      "memory usage: 30.5 KB\n",
      "None\n"
     ]
    },
    {
     "data": {
      "text/html": [
       "<div>\n",
       "<style scoped>\n",
       "    .dataframe tbody tr th:only-of-type {\n",
       "        vertical-align: middle;\n",
       "    }\n",
       "\n",
       "    .dataframe tbody tr th {\n",
       "        vertical-align: top;\n",
       "    }\n",
       "\n",
       "    .dataframe thead th {\n",
       "        text-align: right;\n",
       "    }\n",
       "</style>\n",
       "<table border=\"1\" class=\"dataframe\">\n",
       "  <thead>\n",
       "    <tr style=\"text-align: right;\">\n",
       "      <th></th>\n",
       "      <th>age</th>\n",
       "      <th>anaemia</th>\n",
       "      <th>creatinine_phosphokinase</th>\n",
       "      <th>diabetes</th>\n",
       "      <th>ejection_fraction</th>\n",
       "      <th>high_blood_pressure</th>\n",
       "      <th>platelets</th>\n",
       "      <th>serum_creatinine</th>\n",
       "      <th>serum_sodium</th>\n",
       "      <th>sex</th>\n",
       "      <th>smoking</th>\n",
       "      <th>time</th>\n",
       "      <th>DEATH_EVENT</th>\n",
       "    </tr>\n",
       "  </thead>\n",
       "  <tbody>\n",
       "    <tr>\n",
       "      <th>0</th>\n",
       "      <td>75.0</td>\n",
       "      <td>0</td>\n",
       "      <td>582</td>\n",
       "      <td>0</td>\n",
       "      <td>20</td>\n",
       "      <td>1</td>\n",
       "      <td>265000.00</td>\n",
       "      <td>1.9</td>\n",
       "      <td>130</td>\n",
       "      <td>1</td>\n",
       "      <td>0</td>\n",
       "      <td>4</td>\n",
       "      <td>1</td>\n",
       "    </tr>\n",
       "    <tr>\n",
       "      <th>1</th>\n",
       "      <td>55.0</td>\n",
       "      <td>0</td>\n",
       "      <td>7861</td>\n",
       "      <td>0</td>\n",
       "      <td>38</td>\n",
       "      <td>0</td>\n",
       "      <td>263358.03</td>\n",
       "      <td>1.1</td>\n",
       "      <td>136</td>\n",
       "      <td>1</td>\n",
       "      <td>0</td>\n",
       "      <td>6</td>\n",
       "      <td>1</td>\n",
       "    </tr>\n",
       "    <tr>\n",
       "      <th>2</th>\n",
       "      <td>65.0</td>\n",
       "      <td>0</td>\n",
       "      <td>146</td>\n",
       "      <td>0</td>\n",
       "      <td>20</td>\n",
       "      <td>0</td>\n",
       "      <td>162000.00</td>\n",
       "      <td>1.3</td>\n",
       "      <td>129</td>\n",
       "      <td>1</td>\n",
       "      <td>1</td>\n",
       "      <td>7</td>\n",
       "      <td>1</td>\n",
       "    </tr>\n",
       "    <tr>\n",
       "      <th>3</th>\n",
       "      <td>50.0</td>\n",
       "      <td>1</td>\n",
       "      <td>111</td>\n",
       "      <td>0</td>\n",
       "      <td>20</td>\n",
       "      <td>0</td>\n",
       "      <td>210000.00</td>\n",
       "      <td>1.9</td>\n",
       "      <td>137</td>\n",
       "      <td>1</td>\n",
       "      <td>0</td>\n",
       "      <td>7</td>\n",
       "      <td>1</td>\n",
       "    </tr>\n",
       "    <tr>\n",
       "      <th>4</th>\n",
       "      <td>65.0</td>\n",
       "      <td>1</td>\n",
       "      <td>160</td>\n",
       "      <td>1</td>\n",
       "      <td>20</td>\n",
       "      <td>0</td>\n",
       "      <td>327000.00</td>\n",
       "      <td>2.7</td>\n",
       "      <td>116</td>\n",
       "      <td>0</td>\n",
       "      <td>0</td>\n",
       "      <td>8</td>\n",
       "      <td>1</td>\n",
       "    </tr>\n",
       "  </tbody>\n",
       "</table>\n",
       "</div>"
      ],
      "text/plain": [
       "    age  anaemia  creatinine_phosphokinase  diabetes  ejection_fraction  high_blood_pressure  platelets  serum_creatinine  serum_sodium  sex  smoking  time  DEATH_EVENT\n",
       "0  75.0        0                       582         0                 20                    1  265000.00               1.9           130    1        0     4            1\n",
       "1  55.0        0                      7861         0                 38                    0  263358.03               1.1           136    1        0     6            1\n",
       "2  65.0        0                       146         0                 20                    0  162000.00               1.3           129    1        1     7            1\n",
       "3  50.0        1                       111         0                 20                    0  210000.00               1.9           137    1        0     7            1\n",
       "4  65.0        1                       160         1                 20                    0  327000.00               2.7           116    0        0     8            1"
      ]
     },
     "execution_count": 5,
     "metadata": {},
     "output_type": "execute_result"
    }
   ],
   "source": [
    "# 데이터 확인\n",
    "print(df.info())\n",
    "df.head()"
   ]
  },
  {
   "cell_type": "markdown",
   "metadata": {},
   "source": [
    "- 총 299명의 환자 데이터\n",
    "- Columns 는 13개\n",
    "- NaN값 있는 columns 없음\n",
    "______"
   ]
  },
  {
   "cell_type": "markdown",
   "metadata": {},
   "source": [
    "**범주형 데이터 : count 확인**\n",
    "\n",
    "- anaemia: 환자의 빈혈증 여부 (0: 정상, 1: 빈혈)\n",
    "- diabetes: 당뇨병 여부 (0: 정상, 1: 당뇨)\n",
    "- high_blood_pressure: 고혈압 여부 (0: 정상, 1: 고혈압)\n",
    "- sex: 성별 (0: 여성, 1: 남성)\n",
    "- smoking: 흡연 여부 (0: 비흡연, 1: 흡연)\n",
    "- DEATH_EVENT: 사망 여부 (0: 생존, 1: 사망)\n",
    "\n",
    "**수치형 데이터 : 전반적인 통계량 확인**\n",
    "\n",
    "- age: 환자의 나이\n",
    "- creatinine_phosphokinase: 크레아틴키나제 검사 결과\n",
    "- ejection_fraction: 박출계수 (%)\n",
    "- platelets: 혈소판 수 (kiloplatelets/mL)\n",
    "- serum_creatinine: 혈중 크레아틴 레벨 (mg/dL)\n",
    "- serum_sodium: 혈중 나트륨 레벨 (mEq/L)\n",
    "- time: 관찰 기간 (일)"
   ]
  },
  {
   "cell_type": "code",
   "execution_count": 6,
   "metadata": {
    "ExecuteTime": {
     "end_time": "2021-06-17T05:33:52.425678Z",
     "start_time": "2021-06-17T05:33:52.381797Z"
    }
   },
   "outputs": [
    {
     "data": {
      "text/html": [
       "<div>\n",
       "<style scoped>\n",
       "    .dataframe tbody tr th:only-of-type {\n",
       "        vertical-align: middle;\n",
       "    }\n",
       "\n",
       "    .dataframe tbody tr th {\n",
       "        vertical-align: top;\n",
       "    }\n",
       "\n",
       "    .dataframe thead th {\n",
       "        text-align: right;\n",
       "    }\n",
       "</style>\n",
       "<table border=\"1\" class=\"dataframe\">\n",
       "  <thead>\n",
       "    <tr style=\"text-align: right;\">\n",
       "      <th></th>\n",
       "      <th>age</th>\n",
       "      <th>anaemia</th>\n",
       "      <th>creatinine_phosphokinase</th>\n",
       "      <th>diabetes</th>\n",
       "      <th>ejection_fraction</th>\n",
       "      <th>high_blood_pressure</th>\n",
       "      <th>platelets</th>\n",
       "      <th>serum_creatinine</th>\n",
       "      <th>serum_sodium</th>\n",
       "      <th>sex</th>\n",
       "      <th>smoking</th>\n",
       "      <th>time</th>\n",
       "      <th>DEATH_EVENT</th>\n",
       "    </tr>\n",
       "  </thead>\n",
       "  <tbody>\n",
       "    <tr>\n",
       "      <th>count</th>\n",
       "      <td>299.000000</td>\n",
       "      <td>299.000000</td>\n",
       "      <td>299.000000</td>\n",
       "      <td>299.000000</td>\n",
       "      <td>299.000000</td>\n",
       "      <td>299.000000</td>\n",
       "      <td>299.000000</td>\n",
       "      <td>299.00000</td>\n",
       "      <td>299.000000</td>\n",
       "      <td>299.000000</td>\n",
       "      <td>299.00000</td>\n",
       "      <td>299.000000</td>\n",
       "      <td>299.00000</td>\n",
       "    </tr>\n",
       "    <tr>\n",
       "      <th>mean</th>\n",
       "      <td>60.833893</td>\n",
       "      <td>0.431438</td>\n",
       "      <td>581.839465</td>\n",
       "      <td>0.418060</td>\n",
       "      <td>38.083612</td>\n",
       "      <td>0.351171</td>\n",
       "      <td>263358.029264</td>\n",
       "      <td>1.39388</td>\n",
       "      <td>136.625418</td>\n",
       "      <td>0.648829</td>\n",
       "      <td>0.32107</td>\n",
       "      <td>130.260870</td>\n",
       "      <td>0.32107</td>\n",
       "    </tr>\n",
       "    <tr>\n",
       "      <th>std</th>\n",
       "      <td>11.894809</td>\n",
       "      <td>0.496107</td>\n",
       "      <td>970.287881</td>\n",
       "      <td>0.494067</td>\n",
       "      <td>11.834841</td>\n",
       "      <td>0.478136</td>\n",
       "      <td>97804.236869</td>\n",
       "      <td>1.03451</td>\n",
       "      <td>4.412477</td>\n",
       "      <td>0.478136</td>\n",
       "      <td>0.46767</td>\n",
       "      <td>77.614208</td>\n",
       "      <td>0.46767</td>\n",
       "    </tr>\n",
       "    <tr>\n",
       "      <th>min</th>\n",
       "      <td>40.000000</td>\n",
       "      <td>0.000000</td>\n",
       "      <td>23.000000</td>\n",
       "      <td>0.000000</td>\n",
       "      <td>14.000000</td>\n",
       "      <td>0.000000</td>\n",
       "      <td>25100.000000</td>\n",
       "      <td>0.50000</td>\n",
       "      <td>113.000000</td>\n",
       "      <td>0.000000</td>\n",
       "      <td>0.00000</td>\n",
       "      <td>4.000000</td>\n",
       "      <td>0.00000</td>\n",
       "    </tr>\n",
       "    <tr>\n",
       "      <th>25%</th>\n",
       "      <td>51.000000</td>\n",
       "      <td>0.000000</td>\n",
       "      <td>116.500000</td>\n",
       "      <td>0.000000</td>\n",
       "      <td>30.000000</td>\n",
       "      <td>0.000000</td>\n",
       "      <td>212500.000000</td>\n",
       "      <td>0.90000</td>\n",
       "      <td>134.000000</td>\n",
       "      <td>0.000000</td>\n",
       "      <td>0.00000</td>\n",
       "      <td>73.000000</td>\n",
       "      <td>0.00000</td>\n",
       "    </tr>\n",
       "    <tr>\n",
       "      <th>50%</th>\n",
       "      <td>60.000000</td>\n",
       "      <td>0.000000</td>\n",
       "      <td>250.000000</td>\n",
       "      <td>0.000000</td>\n",
       "      <td>38.000000</td>\n",
       "      <td>0.000000</td>\n",
       "      <td>262000.000000</td>\n",
       "      <td>1.10000</td>\n",
       "      <td>137.000000</td>\n",
       "      <td>1.000000</td>\n",
       "      <td>0.00000</td>\n",
       "      <td>115.000000</td>\n",
       "      <td>0.00000</td>\n",
       "    </tr>\n",
       "    <tr>\n",
       "      <th>75%</th>\n",
       "      <td>70.000000</td>\n",
       "      <td>1.000000</td>\n",
       "      <td>582.000000</td>\n",
       "      <td>1.000000</td>\n",
       "      <td>45.000000</td>\n",
       "      <td>1.000000</td>\n",
       "      <td>303500.000000</td>\n",
       "      <td>1.40000</td>\n",
       "      <td>140.000000</td>\n",
       "      <td>1.000000</td>\n",
       "      <td>1.00000</td>\n",
       "      <td>203.000000</td>\n",
       "      <td>1.00000</td>\n",
       "    </tr>\n",
       "    <tr>\n",
       "      <th>max</th>\n",
       "      <td>95.000000</td>\n",
       "      <td>1.000000</td>\n",
       "      <td>7861.000000</td>\n",
       "      <td>1.000000</td>\n",
       "      <td>80.000000</td>\n",
       "      <td>1.000000</td>\n",
       "      <td>850000.000000</td>\n",
       "      <td>9.40000</td>\n",
       "      <td>148.000000</td>\n",
       "      <td>1.000000</td>\n",
       "      <td>1.00000</td>\n",
       "      <td>285.000000</td>\n",
       "      <td>1.00000</td>\n",
       "    </tr>\n",
       "  </tbody>\n",
       "</table>\n",
       "</div>"
      ],
      "text/plain": [
       "              age     anaemia  creatinine_phosphokinase    diabetes  ejection_fraction  high_blood_pressure      platelets  serum_creatinine  serum_sodium         sex    smoking        time  DEATH_EVENT\n",
       "count  299.000000  299.000000                299.000000  299.000000         299.000000           299.000000     299.000000         299.00000    299.000000  299.000000  299.00000  299.000000    299.00000\n",
       "mean    60.833893    0.431438                581.839465    0.418060          38.083612             0.351171  263358.029264           1.39388    136.625418    0.648829    0.32107  130.260870      0.32107\n",
       "std     11.894809    0.496107                970.287881    0.494067          11.834841             0.478136   97804.236869           1.03451      4.412477    0.478136    0.46767   77.614208      0.46767\n",
       "min     40.000000    0.000000                 23.000000    0.000000          14.000000             0.000000   25100.000000           0.50000    113.000000    0.000000    0.00000    4.000000      0.00000\n",
       "25%     51.000000    0.000000                116.500000    0.000000          30.000000             0.000000  212500.000000           0.90000    134.000000    0.000000    0.00000   73.000000      0.00000\n",
       "50%     60.000000    0.000000                250.000000    0.000000          38.000000             0.000000  262000.000000           1.10000    137.000000    1.000000    0.00000  115.000000      0.00000\n",
       "75%     70.000000    1.000000                582.000000    1.000000          45.000000             1.000000  303500.000000           1.40000    140.000000    1.000000    1.00000  203.000000      1.00000\n",
       "max     95.000000    1.000000               7861.000000    1.000000          80.000000             1.000000  850000.000000           9.40000    148.000000    1.000000    1.00000  285.000000      1.00000"
      ]
     },
     "execution_count": 6,
     "metadata": {},
     "output_type": "execute_result"
    }
   ],
   "source": [
    "df.describe()"
   ]
  },
  {
   "cell_type": "markdown",
   "metadata": {},
   "source": [
    "1) 환자의 나이 분포는 40~95세 사이이고, 평균 연령은 60.83이다.\n",
    "\n",
    "2) (0,1) 로된 범주형 데이터의 평균값을 보면 대부분 0.35~0.64 범주안에 있다 = 특별하게 불균형한 데이터는 없는 것으로 보인다.\n",
    "\n",
    "(대부분의 데이터가 6:4 정도의 비율) - 용인 가능한 수준 \n",
    "\n",
    "단, 사망자 데이터는 0.32로 1/3이 생존이라 다소 불균형이다.\n",
    "\n",
    "3) creatinine_phosphokinase 의 경우 min값은 23, 50%값은 250, 75%값은 582인데, max값은 7861로 이상치일 것으로 보인다. (제외 해야할 수도 있다.)"
   ]
  },
  {
   "cell_type": "markdown",
   "metadata": {
    "id": "9L3BNVM7tHN5"
   },
   "source": [
    "# Step 2. EDA 및 데이터 기초 통계 분석\n"
   ]
  },
  {
   "cell_type": "markdown",
   "metadata": {},
   "source": [
    "## 수치형 데이터별 Histogram - 데이터 빈도 with DEATH_EVENT"
   ]
  },
  {
   "cell_type": "markdown",
   "metadata": {
    "id": "HGHvPwkNtXgj"
   },
   "source": [
    "### 연령대별 사망수 분포"
   ]
  },
  {
   "cell_type": "code",
   "execution_count": 7,
   "metadata": {
    "ExecuteTime": {
     "end_time": "2021-06-17T05:33:52.754969Z",
     "start_time": "2021-06-17T05:33:52.426675Z"
    },
    "colab": {
     "base_uri": "https://localhost:8080/",
     "height": 296
    },
    "executionInfo": {
     "elapsed": 1081,
     "status": "ok",
     "timestamp": 1610282734334,
     "user": {
      "displayName": "김패캠",
      "photoUrl": "",
      "userId": "06994282823286758918"
     },
     "user_tz": -540
    },
    "id": "GZXSBFPyDh6R",
    "outputId": "8197df4e-1c17-4a34-9828-f78d03fc77a9"
   },
   "outputs": [
    {
     "data": {
      "text/plain": [
       "<AxesSubplot:xlabel='age', ylabel='Count'>"
      ]
     },
     "execution_count": 7,
     "metadata": {},
     "output_type": "execute_result"
    },
    {
     "data": {
      "image/png": "[encoded data removed]",
      "text/plain": [
       "<Figure size 432x288 with 1 Axes>"
      ]
     },
     "metadata": {
      "needs_background": "light"
     },
     "output_type": "display_data"
    }
   ],
   "source": [
    "# seaborn의 histplot, jointplot, pairplot을 이용\n",
    "# kde = 히스토그램 분포를 곡선으로 표현\n",
    "# gray = 1 이지만 0과 겹친 데이터\n",
    "\n",
    "sns.histplot(x='age', data=df, hue='DEATH_EVENT', kde=True)"
   ]
  },
  {
   "cell_type": "markdown",
   "metadata": {},
   "source": [
    "- age 데이터는 longtail 형태의 데이터(앞쪽 데이터의 빈도가 높고 뒤로 갈수록 빈도가 낮아지는 형태)"
   ]
  },
  {
   "cell_type": "markdown",
   "metadata": {},
   "source": [
    "### 크레아틴키나제 검사 결과 (3000이하인 것만) "
   ]
  },
  {
   "cell_type": "markdown",
   "metadata": {},
   "source": [
    "creatinine_phosphokinase: 크레아틴키나제 검사 결과\n",
    "\n",
    "1) CK (크레아틴키나제)는 심장, 뇌, 골격근, 및 다른 조직에서 발견되는 효소\n",
    "\n",
    "2) CK(크레아틴키나제) 농도는 근육 또는 심장 세포가 손상될 때에 올라간다.\n",
    "\n",
    "---\n",
    "\n",
    "- creatinine_phosphokinase 는 describe()로 보았을때 **outlier가 존재하는** 데이터였다.\n",
    "- 실제로 값이 3000 이상인 경우 데이터의 count가 낮아서 전체 데이터를 시각화할 경우 데이터를 크게 보기가 어려웠다.\n",
    "- 빈도수가 많은 데이터를 살피기 위해 값이 **3000이하 인 데이터**들만 추려서 시각화 하였다."
   ]
  },
  {
   "cell_type": "code",
   "execution_count": 8,
   "metadata": {
    "ExecuteTime": {
     "end_time": "2021-06-17T05:33:53.084230Z",
     "start_time": "2021-06-17T05:33:52.757932Z"
    },
    "colab": {
     "base_uri": "https://localhost:8080/",
     "height": 297
    },
    "executionInfo": {
     "elapsed": 717,
     "status": "ok",
     "timestamp": 1610283024106,
     "user": {
      "displayName": "김패캠",
      "photoUrl": "",
      "userId": "06994282823286758918"
     },
     "user_tz": -540
    },
    "id": "oyfWViGNVOze",
    "outputId": "490c2a30-5550-43e0-94bf-6d299cf4b48d"
   },
   "outputs": [
    {
     "data": {
      "text/plain": [
       "<AxesSubplot:xlabel='creatinine_phosphokinase', ylabel='Count'>"
      ]
     },
     "execution_count": 8,
     "metadata": {},
     "output_type": "execute_result"
    },
    {
     "data": {
      "image/png": "[encoded data removed]",
      "text/plain": [
       "<Figure size 432x288 with 1 Axes>"
      ]
     },
     "metadata": {
      "needs_background": "light"
     },
     "output_type": "display_data"
    }
   ],
   "source": [
    "a = df.loc[df['creatinine_phosphokinase'] < 3000]\n",
    "\n",
    "sns.histplot(x= 'creatinine_phosphokinase', data=a, hue='DEATH_EVENT', kde=True)"
   ]
  },
  {
   "cell_type": "markdown",
   "metadata": {},
   "source": [
    "### ejection_fraction: 박출계수 (%) - 히스토그램"
   ]
  },
  {
   "cell_type": "code",
   "execution_count": 9,
   "metadata": {
    "ExecuteTime": {
     "end_time": "2021-06-17T05:33:53.383506Z",
     "start_time": "2021-06-17T05:33:53.086199Z"
    },
    "colab": {
     "base_uri": "https://localhost:8080/",
     "height": 300
    },
    "executionInfo": {
     "elapsed": 1160,
     "status": "ok",
     "timestamp": 1610283129067,
     "user": {
      "displayName": "김패캠",
      "photoUrl": "",
      "userId": "06994282823286758918"
     },
     "user_tz": -540
    },
    "id": "uVBAc0L4WUNJ",
    "outputId": "c71f9916-d6f5-4151-e940-b393a9e9ac5a"
   },
   "outputs": [
    {
     "data": {
      "text/plain": [
       "<AxesSubplot:xlabel='ejection_fraction', ylabel='Count'>"
      ]
     },
     "execution_count": 9,
     "metadata": {},
     "output_type": "execute_result"
    },
    {
     "data": {
      "image/png": "[encoded data removed]",
      "text/plain": [
       "<Figure size 432x288 with 1 Axes>"
      ]
     },
     "metadata": {
      "needs_background": "light"
     },
     "output_type": "display_data"
    }
   ],
   "source": [
    "# bins 조절로 빈자리가 없도록 조절\n",
    "sns.histplot(x='ejection_fraction', data=df, bins=13, hue='DEATH_EVENT', kde=True)"
   ]
  },
  {
   "cell_type": "markdown",
   "metadata": {},
   "source": [
    "ejection_fraction: 박출계수 (%)\n",
    "\n",
    "1) 맥박을 통해 심장에서 박출 되거나 펌프하는 혈액의 %량\n",
    "\n",
    "2) 범주는 0-100%\n",
    "\n",
    "3) 의학적으로 박출계수가 50% 또는 더 높다면, 정상 %로 고려(치료 필요 없음)\n",
    "\n",
    "4) 박출계수가 50%보다 낮다면, 심장은 대부분 충분한 산소가 없다거나, 관상동맥으로 흐르는 혈액이 부족하다는 의미\n",
    "\n",
    "---\n",
    "\n",
    "- 전반적으로 ejection_fraction이 낮은 사람의 사망수가 높고, 높은 사람은 사망수가 낮은 경향을 보인다.(도메인 지식과 동일)\n",
    "\n",
    "- 사망자수와 반비례 형태의 관계를 보이고, 각 빈도 별로 사망자수의 비율에 차이는 있지만 사망수는 전반적으로 높게 분포되어 있어 사망 여부 판별에 중요한 데이터로 사용할 수 있을 것으로 예상된다.\n",
    "\n",
    "- 특히 Precision을 높이기 위한 데이터로는 유용할 것이다.(사망한 경우자체가 많음-> TP증가 -> FP 낮아짐 -> Precision 낮아짐)\n",
    "\n",
    "- 다만 Recall을 높이는데는 크게 유용한 데이터는 아닐 것이다.\n"
   ]
  },
  {
   "cell_type": "markdown",
   "metadata": {},
   "source": [
    "### 관찰일수(time) - 히스토그램"
   ]
  },
  {
   "cell_type": "code",
   "execution_count": 10,
   "metadata": {
    "ExecuteTime": {
     "end_time": "2021-06-17T05:33:53.667746Z",
     "start_time": "2021-06-17T05:33:53.384503Z"
    }
   },
   "outputs": [
    {
     "data": {
      "text/plain": [
       "<AxesSubplot:xlabel='time', ylabel='Count'>"
      ]
     },
     "execution_count": 10,
     "metadata": {},
     "output_type": "execute_result"
    },
    {
     "data": {
      "image/png": "[encoded data removed]",
      "text/plain": [
       "<Figure size 432x288 with 1 Axes>"
      ]
     },
     "metadata": {
      "needs_background": "light"
     },
     "output_type": "display_data"
    }
   ],
   "source": [
    "sns.histplot(x='time', data=df, hue='DEATH_EVENT', kde=True)"
   ]
  },
  {
   "cell_type": "markdown",
   "metadata": {},
   "source": [
    "- 관찰기간(time)에 대한 데이터가 초반에 많이 몰려있고, 관찰기간이 긴 데이터일 수록 분포가 떨어진다. (Gamma distribution)\n",
    "- 생존데이터의 경우 '쌍봉 형태' 이다. 생존자에 대한 대부분의 데이터가 2곳에 집약되어 있는 것.\n",
    "\n",
    "- 사망자가 발생하면 관찰기간(time)의 값이 더 높아질수가 없는 구조이다.\n",
    "- 그러므로 **time 데이터는 제외하고 학습을 진행하는 것**이 바람직 하다."
   ]
  },
  {
   "cell_type": "markdown",
   "metadata": {},
   "source": [
    "### ejection_fraction: 박출계수 (%) - Boxplot"
   ]
  },
  {
   "cell_type": "code",
   "execution_count": 11,
   "metadata": {
    "ExecuteTime": {
     "end_time": "2021-06-17T05:33:53.817374Z",
     "start_time": "2021-06-17T05:33:53.669741Z"
    },
    "colab": {
     "base_uri": "https://localhost:8080/",
     "height": 297
    },
    "executionInfo": {
     "elapsed": 734,
     "status": "ok",
     "timestamp": 1610283431845,
     "user": {
      "displayName": "김패캠",
      "photoUrl": "",
      "userId": "06994282823286758918"
     },
     "user_tz": -540
    },
    "id": "TqXkwW8JDxhH",
    "outputId": "2322c094-0f5d-42b7-fc4b-15f25adbbb56"
   },
   "outputs": [
    {
     "data": {
      "text/plain": [
       "<AxesSubplot:xlabel='DEATH_EVENT', ylabel='ejection_fraction'>"
      ]
     },
     "execution_count": 11,
     "metadata": {},
     "output_type": "execute_result"
    },
    {
     "data": {
      "image/png": "[encoded data removed]",
      "text/plain": [
       "<Figure size 432x288 with 1 Axes>"
      ]
     },
     "metadata": {
      "needs_background": "light"
     },
     "output_type": "display_data"
    }
   ],
   "source": [
    "# seaborn의 Boxplot 계열(boxplot(), violinplot(), swarmplot())을 사용\n",
    "\n",
    "# ejection_fraction: 박출계수 (%)\n",
    "sns.boxplot(x='DEATH_EVENT', y='ejection_fraction', data=df)"
   ]
  },
  {
   "cell_type": "markdown",
   "metadata": {},
   "source": [
    "[도메인 지식]\n",
    "- ejection_fraction이 50%보다 낮다면, 심장은 대부분 충분한 산소가 없다거나, 관상동맥으로 흐르는 혈액이 부족하다는 의미이다.\n",
    "---\n",
    "[Boxplot 분석]\n",
    "- 생존자의 ejection_fraction 평균은 약 40이다.\n",
    "- 사망자의 ejection_fraction 평균은 약 30 이다.\n",
    "---\n",
    "\n",
    "- ejection_fraction은 도메인 지식 만큼은 아니겠지만, 사망자와 생존자간의 평균 차이가 상당하므로 사망자수 와의 상관성이 있는 주요 지표일 것으로 예상된다."
   ]
  },
  {
   "cell_type": "markdown",
   "metadata": {},
   "source": [
    "### 혈소판 수 (kiloplatelets/mL)"
   ]
  },
  {
   "cell_type": "code",
   "execution_count": 12,
   "metadata": {
    "ExecuteTime": {
     "end_time": "2021-06-17T05:33:54.161567Z",
     "start_time": "2021-06-17T05:33:53.818377Z"
    },
    "colab": {
     "base_uri": "https://localhost:8080/",
     "height": 296
    },
    "executionInfo": {
     "elapsed": 974,
     "status": "ok",
     "timestamp": 1610283211152,
     "user": {
      "displayName": "김패캠",
      "photoUrl": "",
      "userId": "06994282823286758918"
     },
     "user_tz": -540
    },
    "id": "aCbih7WXW1dW",
    "outputId": "afc237ce-ad02-427e-f549-a000aee2048b"
   },
   "outputs": [
    {
     "data": {
      "text/plain": [
       "<AxesSubplot:xlabel='platelets', ylabel='Count'>"
      ]
     },
     "execution_count": 12,
     "metadata": {},
     "output_type": "execute_result"
    },
    {
     "data": {
      "image/png": "[encoded data removed]",
      "text/plain": [
       "<Figure size 432x288 with 1 Axes>"
      ]
     },
     "metadata": {
      "needs_background": "light"
     },
     "output_type": "display_data"
    }
   ],
   "source": [
    "sns.histplot(x='platelets', data=df, hue='DEATH_EVENT')"
   ]
  },
  {
   "cell_type": "markdown",
   "metadata": {},
   "source": [
    "platelets: 혈소판 수 (kiloplatelets/mL)\n",
    "\n",
    "1) 성인의 경우 혈액 1마이크로 리터 안에 약 15~40만 개의 혈소판을 보유하고 있다.\n",
    "\n",
    "2) 혈소판의 수나 기능에 이상이 생기면 지혈 작용에 영향을 주어 출혈이 생길 수 있다.\n",
    "\n",
    "- 혈소판 수의 데이터와 사망자수 간의 연관성이 보이지 않는다."
   ]
  },
  {
   "cell_type": "markdown",
   "metadata": {},
   "source": [
    "### 관찰 기간 (일)"
   ]
  },
  {
   "cell_type": "code",
   "execution_count": 13,
   "metadata": {
    "ExecuteTime": {
     "end_time": "2021-06-17T05:33:54.445807Z",
     "start_time": "2021-06-17T05:33:54.163561Z"
    },
    "colab": {
     "base_uri": "https://localhost:8080/",
     "height": 296
    },
    "executionInfo": {
     "elapsed": 1101,
     "status": "ok",
     "timestamp": 1610284933285,
     "user": {
      "displayName": "김패캠",
      "photoUrl": "",
      "userId": "06994282823286758918"
     },
     "user_tz": -540
    },
    "id": "s-wVYS5Rdcx0",
    "outputId": "7d8ab210-8241-4555-f656-8ee962a6f07b"
   },
   "outputs": [
    {
     "data": {
      "text/plain": [
       "<AxesSubplot:xlabel='time', ylabel='Count'>"
      ]
     },
     "execution_count": 13,
     "metadata": {},
     "output_type": "execute_result"
    },
    {
     "data": {
      "image/png": "[encoded data removed]",
      "text/plain": [
       "<Figure size 432x288 with 1 Axes>"
      ]
     },
     "metadata": {
      "needs_background": "light"
     },
     "output_type": "display_data"
    }
   ],
   "source": [
    "sns.histplot(x='time', data=df, hue='DEATH_EVENT', kde=True)"
   ]
  },
  {
   "cell_type": "markdown",
   "metadata": {},
   "source": [
    "- 전반적으로 볼때, 관찰 기간이 짧을때 사망자수가 많지만 관찰 기간이 길어질 수록 사망자수가 적어지는 경향이 있다.\n",
    "- 다만, 관찰 기간이 중간치일때는 사망자수의 분포가 균일하다.\n",
    "- 그러므로 관찰 기간이 사망자수를 예측하는데 결정적인 지표라고 하기는 어렵다."
   ]
  },
  {
   "cell_type": "markdown",
   "metadata": {},
   "source": [
    "## 수치형 데이터별 Jointplot "
   ]
  },
  {
   "cell_type": "markdown",
   "metadata": {},
   "source": [
    "### [혈소판 수 (kiloplatelets/mL) x 크레아틴키나제 검사 결과] X 사망자 수 \n",
    "\n",
    "creatinine_phosphokinase: 크레아틴키나제 검사 결과\n",
    "\n",
    "1) CK (크레아틴키나제)는 심장, 뇌, 골격근, 및 다른 조직에서 발견되는 효소\n",
    "\n",
    "2) CK(크레아틴키나제) 농도는 근육 또는 심장 세포가 손상될 때에 올라간다."
   ]
  },
  {
   "cell_type": "code",
   "execution_count": 14,
   "metadata": {
    "ExecuteTime": {
     "end_time": "2021-06-17T05:33:55.179062Z",
     "start_time": "2021-06-17T05:33:54.446804Z"
    },
    "colab": {
     "base_uri": "https://localhost:8080/",
     "height": 469
    },
    "executionInfo": {
     "elapsed": 1706,
     "status": "ok",
     "timestamp": 1610283339361,
     "user": {
      "displayName": "김패캠",
      "photoUrl": "",
      "userId": "06994282823286758918"
     },
     "user_tz": -540
    },
    "id": "KMYzBh3sXAg9",
    "outputId": "566a1a10-95a1-4dd9-871f-79f5695918fc"
   },
   "outputs": [
    {
     "data": {
      "text/plain": [
       "<seaborn.axisgrid.JointGrid at 0x25f98f20340>"
      ]
     },
     "execution_count": 14,
     "metadata": {},
     "output_type": "execute_result"
    },
    {
     "data": {
      "image/png": "[encoded data removed]",
      "text/plain": [
       "<Figure size 432x432 with 3 Axes>"
      ]
     },
     "metadata": {
      "needs_background": "light"
     },
     "output_type": "display_data"
    }
   ],
   "source": [
    "#sns.jointplot(x='platelets', y='creatinine_phosphokinase', hue='DEATH_EVENT', data=df, alpha=0.4)\n",
    "sns.jointplot(x='platelets', y='creatinine_phosphokinase',data=df, kind='kde', hue='DEATH_EVENT')"
   ]
  },
  {
   "cell_type": "markdown",
   "metadata": {},
   "source": [
    "### [박출계수 (%) x 혈중 나트륨 레벨 (mEq/L)] X 사망자 수 "
   ]
  },
  {
   "cell_type": "code",
   "execution_count": 15,
   "metadata": {
    "ExecuteTime": {
     "end_time": "2021-06-17T05:33:55.657753Z",
     "start_time": "2021-06-17T05:33:55.180031Z"
    },
    "colab": {
     "base_uri": "https://localhost:8080/",
     "height": 458
    },
    "executionInfo": {
     "elapsed": 1614,
     "status": "ok",
     "timestamp": 1610285160148,
     "user": {
      "displayName": "김패캠",
      "photoUrl": "",
      "userId": "06994282823286758918"
     },
     "user_tz": -540
    },
    "id": "HyWqyHUBeOng",
    "outputId": "4c01f2ed-1234-4f54-f705-1e4cc1015784"
   },
   "outputs": [
    {
     "data": {
      "text/plain": [
       "<seaborn.axisgrid.JointGrid at 0x25f99039490>"
      ]
     },
     "execution_count": 15,
     "metadata": {},
     "output_type": "execute_result"
    },
    {
     "data": {
      "image/png": "[encoded data removed]",
      "text/plain": [
       "<Figure size 432x432 with 3 Axes>"
      ]
     },
     "metadata": {
      "needs_background": "light"
     },
     "output_type": "display_data"
    }
   ],
   "source": [
    "sns.jointplot(x='ejection_fraction', y='serum_creatinine', data=df, hue='DEATH_EVENT')"
   ]
  },
  {
   "cell_type": "markdown",
   "metadata": {
    "id": "KywGh9sjtYl9"
   },
   "source": [
    "## 범주형 데이터별 Boxplot"
   ]
  },
  {
   "cell_type": "markdown",
   "metadata": {},
   "source": [
    "### 흡연자여부 별 박출계수"
   ]
  },
  {
   "cell_type": "code",
   "execution_count": 16,
   "metadata": {
    "ExecuteTime": {
     "end_time": "2021-06-17T05:33:55.822339Z",
     "start_time": "2021-06-17T05:33:55.660746Z"
    },
    "colab": {
     "base_uri": "https://localhost:8080/",
     "height": 296
    },
    "executionInfo": {
     "elapsed": 868,
     "status": "ok",
     "timestamp": 1610283543031,
     "user": {
      "displayName": "김패캠",
      "photoUrl": "",
      "userId": "06994282823286758918"
     },
     "user_tz": -540
    },
    "id": "B_OhSuQNYJUA",
    "outputId": "1810fcdf-5e74-4805-d3b4-c8f9bd625513"
   },
   "outputs": [
    {
     "data": {
      "text/plain": [
       "<AxesSubplot:xlabel='smoking', ylabel='ejection_fraction'>"
      ]
     },
     "execution_count": 16,
     "metadata": {},
     "output_type": "execute_result"
    },
    {
     "data": {
      "image/png": "[encoded data removed]",
      "text/plain": [
       "<Figure size 432x288 with 1 Axes>"
      ]
     },
     "metadata": {
      "needs_background": "light"
     },
     "output_type": "display_data"
    }
   ],
   "source": [
    "sns.boxplot(x='smoking', y='ejection_fraction', data=df)"
   ]
  },
  {
   "cell_type": "markdown",
   "metadata": {},
   "source": [
    "[도메인 지식]\n",
    "- ejection_fraction이 50%보다 낮다면, 심장은 대부분 충분한 산소가 없다거나, 관상동맥으로 흐르는 혈액이 부족하다는 의미이다.\n",
    "---\n",
    "\n",
    "[Boxplot 분석]\n",
    "- 흡연자와 비흡연자간 데이터의 평균은 큰 차이가 없다.\n",
    "- 흡연자의 경우 ejection_fraction 값의 범위가 좁다. \n",
    "- 흡연자의 ejection_fraction 최고치가 더 낮다. \n",
    "- 흡연자의 ejection_fraction 평균은 30 중반이다.\n",
    "- 비흡연자의 ejection_fraction 평균은 30 후반이다.\n",
    "---\n",
    "\n",
    "- 흡연자의 ejection_fraction 평균은 정상치 아래이므로 심장에 문제가 있을 가능성이 있다고 예상할 수 있다.\n",
    "- 즉, 흡연여부는 심부전증에 간접적으로 유의미한 데이터일 가능성이 높다.\n",
    "- 다만 이 데이터에서는 비흡연자의 ejection_fraction도 평균이 40 아래이므로 도메인 지식만큼 심부전 발생여부와 강력한 연관성을 보이지 않을 가능성이 크다."
   ]
  },
  {
   "cell_type": "markdown",
   "metadata": {},
   "source": [
    "### 흡연여부 별 사망자수 x 혈소판 수 (kiloplatelets/mL)"
   ]
  },
  {
   "cell_type": "code",
   "execution_count": 17,
   "metadata": {
    "ExecuteTime": {
     "end_time": "2021-06-17T05:33:56.181466Z",
     "start_time": "2021-06-17T05:33:55.823312Z"
    },
    "colab": {
     "base_uri": "https://localhost:8080/",
     "height": 352
    },
    "executionInfo": {
     "elapsed": 1120,
     "status": "ok",
     "timestamp": 1610283788063,
     "user": {
      "displayName": "김패캠",
      "photoUrl": "",
      "userId": "06994282823286758918"
     },
     "user_tz": -540
    },
    "id": "-AsqzPjgYyqj",
    "outputId": "b5ffbdb3-37eb-40c0-91c8-8ab8bdb3d1d9"
   },
   "outputs": [
    {
     "data": {
      "text/plain": [
       "<AxesSubplot:xlabel='DEATH_EVENT', ylabel='platelets'>"
      ]
     },
     "execution_count": 17,
     "metadata": {},
     "output_type": "execute_result"
    },
    {
     "data": {
      "image/png": "[encoded data removed]",
      "text/plain": [
       "<Figure size 432x288 with 1 Axes>"
      ]
     },
     "metadata": {
      "needs_background": "light"
     },
     "output_type": "display_data"
    }
   ],
   "source": [
    "sns.swarmplot(x='DEATH_EVENT', y='platelets', hue='smoking', data=df)"
   ]
  },
  {
   "cell_type": "markdown",
   "metadata": {
    "id": "GD18QuastZy8"
   },
   "source": [
    "# Step 3. 데이터 전처리\n"
   ]
  },
  {
   "cell_type": "markdown",
   "metadata": {
    "id": "Dev2yLeMta85"
   },
   "source": [
    "## 데이터 표준화\n"
   ]
  },
  {
   "cell_type": "code",
   "execution_count": 18,
   "metadata": {
    "ExecuteTime": {
     "end_time": "2021-06-17T05:33:56.765009Z",
     "start_time": "2021-06-17T05:33:56.183461Z"
    },
    "executionInfo": {
     "elapsed": 707,
     "status": "ok",
     "timestamp": 1610283912869,
     "user": {
      "displayName": "김패캠",
      "photoUrl": "",
      "userId": "06994282823286758918"
     },
     "user_tz": -540
    },
    "id": "8P7qVd6yEk3v"
   },
   "outputs": [],
   "source": [
    "from sklearn.preprocessing import StandardScaler"
   ]
  },
  {
   "cell_type": "code",
   "execution_count": 19,
   "metadata": {
    "ExecuteTime": {
     "end_time": "2021-06-17T05:33:56.779991Z",
     "start_time": "2021-06-17T05:33:56.767036Z"
    },
    "colab": {
     "base_uri": "https://localhost:8080/"
    },
    "executionInfo": {
     "elapsed": 616,
     "status": "ok",
     "timestamp": 1610283923014,
     "user": {
      "displayName": "김패캠",
      "photoUrl": "",
      "userId": "06994282823286758918"
     },
     "user_tz": -540
    },
    "id": "FLhFcx2pZqVv",
    "outputId": "474b936e-02e0-4d74-91eb-b0a47fb45763"
   },
   "outputs": [
    {
     "data": {
      "text/plain": [
       "Index(['age', 'anaemia', 'creatinine_phosphokinase', 'diabetes', 'ejection_fraction', 'high_blood_pressure', 'platelets', 'serum_creatinine', 'serum_sodium', 'sex', 'smoking', 'time', 'DEATH_EVENT'], dtype='object')"
      ]
     },
     "execution_count": 19,
     "metadata": {},
     "output_type": "execute_result"
    }
   ],
   "source": [
    "# 형태별 데이터 분류를 위해 columns 확인 - 복사해서 사용\n",
    "df.columns"
   ]
  },
  {
   "cell_type": "code",
   "execution_count": 20,
   "metadata": {
    "ExecuteTime": {
     "end_time": "2021-06-17T05:33:56.794929Z",
     "start_time": "2021-06-17T05:33:56.781989Z"
    },
    "executionInfo": {
     "elapsed": 611,
     "status": "ok",
     "timestamp": 1610285030112,
     "user": {
      "displayName": "김패캠",
      "photoUrl": "",
      "userId": "06994282823286758918"
     },
     "user_tz": -540
    },
    "id": "wZUdkt0lEndT"
   },
   "outputs": [],
   "source": [
    "# 수치형 입력 데이터, 범주형 입력 데이터, 출력 데이터로 구분하기\n",
    "\n",
    "#범주형\n",
    "X_num = df[['age', 'creatinine_phosphokinase','ejection_fraction', 'platelets','serum_creatinine', 'serum_sodium']]\n",
    "\n",
    "#수치형\n",
    "X_cat = df[['anaemia', 'diabetes', 'high_blood_pressure', 'sex', 'smoking']]\n",
    "\n",
    "#출력 (label)\n",
    "y = df['DEATH_EVENT']"
   ]
  },
  {
   "cell_type": "code",
   "execution_count": 21,
   "metadata": {
    "ExecuteTime": {
     "end_time": "2021-06-17T05:33:56.809888Z",
     "start_time": "2021-06-17T05:33:56.796924Z"
    },
    "executionInfo": {
     "elapsed": 457,
     "status": "ok",
     "timestamp": 1610285030379,
     "user": {
      "displayName": "김패캠",
      "photoUrl": "",
      "userId": "06994282823286758918"
     },
     "user_tz": -540
    },
    "id": "W3EO22NCE3wG"
   },
   "outputs": [],
   "source": [
    "# 수치형 입력 데이터를 표준화 & 입력 데이터 통합\n",
    "scaler = StandardScaler()\n",
    "scaler.fit(X_num)\n",
    "X_scaled = scaler.transform(X_num)\n",
    "X_scaled = pd.DataFrame(data=X_scaled, index=X_num.index, columns=X_num.columns)\n",
    "\n",
    "# 결과 통합\n",
    "X = pd.concat([X_scaled, X_cat], axis=1)"
   ]
  },
  {
   "cell_type": "code",
   "execution_count": 22,
   "metadata": {
    "ExecuteTime": {
     "end_time": "2021-06-17T05:33:56.839838Z",
     "start_time": "2021-06-17T05:33:56.810886Z"
    },
    "colab": {
     "base_uri": "https://localhost:8080/",
     "height": 224
    },
    "executionInfo": {
     "elapsed": 845,
     "status": "ok",
     "timestamp": 1610285031151,
     "user": {
      "displayName": "김패캠",
      "photoUrl": "",
      "userId": "06994282823286758918"
     },
     "user_tz": -540
    },
    "id": "pcnE4CCPa1xJ",
    "outputId": "d1240f4e-1989-489f-d773-a22370c6fa67",
    "scrolled": true
   },
   "outputs": [
    {
     "data": {
      "text/html": [
       "<div>\n",
       "<style scoped>\n",
       "    .dataframe tbody tr th:only-of-type {\n",
       "        vertical-align: middle;\n",
       "    }\n",
       "\n",
       "    .dataframe tbody tr th {\n",
       "        vertical-align: top;\n",
       "    }\n",
       "\n",
       "    .dataframe thead th {\n",
       "        text-align: right;\n",
       "    }\n",
       "</style>\n",
       "<table border=\"1\" class=\"dataframe\">\n",
       "  <thead>\n",
       "    <tr style=\"text-align: right;\">\n",
       "      <th></th>\n",
       "      <th>age</th>\n",
       "      <th>creatinine_phosphokinase</th>\n",
       "      <th>ejection_fraction</th>\n",
       "      <th>platelets</th>\n",
       "      <th>serum_creatinine</th>\n",
       "      <th>serum_sodium</th>\n",
       "      <th>anaemia</th>\n",
       "      <th>diabetes</th>\n",
       "      <th>high_blood_pressure</th>\n",
       "      <th>sex</th>\n",
       "      <th>smoking</th>\n",
       "    </tr>\n",
       "  </thead>\n",
       "  <tbody>\n",
       "    <tr>\n",
       "      <th>0</th>\n",
       "      <td>1.192945</td>\n",
       "      <td>0.000166</td>\n",
       "      <td>-1.530560</td>\n",
       "      <td>1.681648e-02</td>\n",
       "      <td>0.490057</td>\n",
       "      <td>-1.504036</td>\n",
       "      <td>0</td>\n",
       "      <td>0</td>\n",
       "      <td>1</td>\n",
       "      <td>1</td>\n",
       "      <td>0</td>\n",
       "    </tr>\n",
       "    <tr>\n",
       "      <th>1</th>\n",
       "      <td>-0.491279</td>\n",
       "      <td>7.514640</td>\n",
       "      <td>-0.007077</td>\n",
       "      <td>7.535660e-09</td>\n",
       "      <td>-0.284552</td>\n",
       "      <td>-0.141976</td>\n",
       "      <td>0</td>\n",
       "      <td>0</td>\n",
       "      <td>0</td>\n",
       "      <td>1</td>\n",
       "      <td>0</td>\n",
       "    </tr>\n",
       "    <tr>\n",
       "      <th>2</th>\n",
       "      <td>0.350833</td>\n",
       "      <td>-0.449939</td>\n",
       "      <td>-1.530560</td>\n",
       "      <td>-1.038073e+00</td>\n",
       "      <td>-0.090900</td>\n",
       "      <td>-1.731046</td>\n",
       "      <td>0</td>\n",
       "      <td>0</td>\n",
       "      <td>0</td>\n",
       "      <td>1</td>\n",
       "      <td>1</td>\n",
       "    </tr>\n",
       "    <tr>\n",
       "      <th>3</th>\n",
       "      <td>-0.912335</td>\n",
       "      <td>-0.486071</td>\n",
       "      <td>-1.530560</td>\n",
       "      <td>-5.464741e-01</td>\n",
       "      <td>0.490057</td>\n",
       "      <td>0.085034</td>\n",
       "      <td>1</td>\n",
       "      <td>0</td>\n",
       "      <td>0</td>\n",
       "      <td>1</td>\n",
       "      <td>0</td>\n",
       "    </tr>\n",
       "    <tr>\n",
       "      <th>4</th>\n",
       "      <td>0.350833</td>\n",
       "      <td>-0.435486</td>\n",
       "      <td>-1.530560</td>\n",
       "      <td>6.517986e-01</td>\n",
       "      <td>1.264666</td>\n",
       "      <td>-4.682176</td>\n",
       "      <td>1</td>\n",
       "      <td>1</td>\n",
       "      <td>0</td>\n",
       "      <td>0</td>\n",
       "      <td>0</td>\n",
       "    </tr>\n",
       "  </tbody>\n",
       "</table>\n",
       "</div>"
      ],
      "text/plain": [
       "        age  creatinine_phosphokinase  ejection_fraction     platelets  serum_creatinine  serum_sodium  anaemia  diabetes  high_blood_pressure  sex  smoking\n",
       "0  1.192945                  0.000166          -1.530560  1.681648e-02          0.490057     -1.504036        0         0                    1    1        0\n",
       "1 -0.491279                  7.514640          -0.007077  7.535660e-09         -0.284552     -0.141976        0         0                    0    1        0\n",
       "2  0.350833                 -0.449939          -1.530560 -1.038073e+00         -0.090900     -1.731046        0         0                    0    1        1\n",
       "3 -0.912335                 -0.486071          -1.530560 -5.464741e-01          0.490057      0.085034        1         0                    0    1        0\n",
       "4  0.350833                 -0.435486          -1.530560  6.517986e-01          1.264666     -4.682176        1         1                    0    0        0"
      ]
     },
     "execution_count": 22,
     "metadata": {},
     "output_type": "execute_result"
    }
   ],
   "source": [
    "X.head()"
   ]
  },
  {
   "cell_type": "markdown",
   "metadata": {
    "id": "x93Tb6lptcA2"
   },
   "source": [
    "## Train / Test Split"
   ]
  },
  {
   "cell_type": "code",
   "execution_count": 23,
   "metadata": {
    "ExecuteTime": {
     "end_time": "2021-06-17T05:33:56.884834Z",
     "start_time": "2021-06-17T05:33:56.843797Z"
    },
    "executionInfo": {
     "elapsed": 408,
     "status": "ok",
     "timestamp": 1610285031535,
     "user": {
      "displayName": "김패캠",
      "photoUrl": "",
      "userId": "06994282823286758918"
     },
     "user_tz": -540
    },
    "id": "C9kMQI8SEche"
   },
   "outputs": [],
   "source": [
    "from sklearn.model_selection import train_test_split"
   ]
  },
  {
   "cell_type": "code",
   "execution_count": 24,
   "metadata": {
    "ExecuteTime": {
     "end_time": "2021-06-17T05:33:56.899795Z",
     "start_time": "2021-06-17T05:33:56.887798Z"
    },
    "executionInfo": {
     "elapsed": 699,
     "status": "ok",
     "timestamp": 1610285032467,
     "user": {
      "displayName": "김패캠",
      "photoUrl": "",
      "userId": "06994282823286758918"
     },
     "user_tz": -540
    },
    "id": "F07QjOFwFNEw"
   },
   "outputs": [],
   "source": [
    "# 학습 / 테스트용 데이터 분리 (7:3)\n",
    "# 시간 순서 상관이 없으므로 shuffle=True 기본으로 사용\n",
    "\n",
    "X_train, X_test, y_train, y_test = train_test_split(X, y, test_size=0.3, random_state=1) "
   ]
  },
  {
   "cell_type": "markdown",
   "metadata": {
    "id": "DTqb-HqPtc4I"
   },
   "source": [
    "# Step 4. Classification 모델 학습\n"
   ]
  },
  {
   "cell_type": "markdown",
   "metadata": {},
   "source": [
    "## Logistic Regression 으로 기본적인 분류 분석 진행"
   ]
  },
  {
   "cell_type": "markdown",
   "metadata": {
    "id": "Ckexl202tmZI"
   },
   "source": [
    "### Logistic Regression 모델 생성 & 학습\n"
   ]
  },
  {
   "cell_type": "code",
   "execution_count": 25,
   "metadata": {
    "ExecuteTime": {
     "end_time": "2021-06-17T05:33:56.959686Z",
     "start_time": "2021-06-17T05:33:56.901790Z"
    },
    "executionInfo": {
     "elapsed": 632,
     "status": "ok",
     "timestamp": 1610285033869,
     "user": {
      "displayName": "김패캠",
      "photoUrl": "",
      "userId": "06994282823286758918"
     },
     "user_tz": -540
    },
    "id": "2Wt_0AdNFfbN"
   },
   "outputs": [],
   "source": [
    "from sklearn.linear_model import LogisticRegression"
   ]
  },
  {
   "cell_type": "code",
   "execution_count": 26,
   "metadata": {
    "ExecuteTime": {
     "end_time": "2021-06-17T05:33:56.974565Z",
     "start_time": "2021-06-17T05:33:56.960603Z"
    },
    "colab": {
     "base_uri": "https://localhost:8080/"
    },
    "executionInfo": {
     "elapsed": 777,
     "status": "ok",
     "timestamp": 1610285034537,
     "user": {
      "displayName": "김패캠",
      "photoUrl": "",
      "userId": "06994282823286758918"
     },
     "user_tz": -540
    },
    "id": "1lM57a_8Fdbh",
    "outputId": "92c7c2ca-11e8-4cbc-e8f5-dcfbcdcca14e"
   },
   "outputs": [
    {
     "data": {
      "text/plain": [
       "LogisticRegression(max_iter=1000)"
      ]
     },
     "execution_count": 26,
     "metadata": {},
     "output_type": "execute_result"
    }
   ],
   "source": [
    "# 모델 생성\n",
    "# max_iter : Gradient Descent 수행 횟수\n",
    "model_lr = LogisticRegression(max_iter=1000)\n",
    "\n",
    "# 모델 학습\n",
    "model_lr.fit(X_train, y_train)"
   ]
  },
  {
   "cell_type": "markdown",
   "metadata": {
    "id": "APOI7Hc9tnvr"
   },
   "source": [
    "### 모델 결과 평가1\n"
   ]
  },
  {
   "cell_type": "code",
   "execution_count": 27,
   "metadata": {
    "ExecuteTime": {
     "end_time": "2021-06-17T05:33:56.989525Z",
     "start_time": "2021-06-17T05:33:56.975563Z"
    }
   },
   "outputs": [],
   "source": [
    "from sklearn.metrics import accuracy_score, precision_score , recall_score , confusion_matrix\n",
    "\n",
    "def get_eval(y_test , pred):\n",
    "    confusion = confusion_matrix( y_test, pred)\n",
    "    accuracy = accuracy_score(y_test , pred)\n",
    "    precision = precision_score(y_test , pred)\n",
    "    recall = recall_score(y_test , pred)\n",
    "    print('오차 행렬')\n",
    "    print(confusion)\n",
    "    print('정확도: {0:.2f}, 정밀도: {1:.2f}, 재현율: {2:.2f}'.format(accuracy , precision ,recall))"
   ]
  },
  {
   "cell_type": "code",
   "execution_count": 28,
   "metadata": {
    "ExecuteTime": {
     "end_time": "2021-06-17T05:33:57.004485Z",
     "start_time": "2021-06-17T05:33:56.991520Z"
    },
    "executionInfo": {
     "elapsed": 958,
     "status": "ok",
     "timestamp": 1610285035569,
     "user": {
      "displayName": "김패캠",
      "photoUrl": "",
      "userId": "06994282823286758918"
     },
     "user_tz": -540
    },
    "id": "2lIoyMjFFrif"
   },
   "outputs": [],
   "source": [
    "from sklearn.metrics import classification_report"
   ]
  },
  {
   "cell_type": "code",
   "execution_count": 29,
   "metadata": {
    "ExecuteTime": {
     "end_time": "2021-06-17T05:33:57.019445Z",
     "start_time": "2021-06-17T05:33:57.005482Z"
    },
    "colab": {
     "base_uri": "https://localhost:8080/"
    },
    "executionInfo": {
     "elapsed": 648,
     "status": "ok",
     "timestamp": 1610285035569,
     "user": {
      "displayName": "김패캠",
      "photoUrl": "",
      "userId": "06994282823286758918"
     },
     "user_tz": -540
    },
    "id": "1dD9JnN-FnpC",
    "outputId": "b8c01e4f-80f1-484c-de73-6e94156a5312"
   },
   "outputs": [
    {
     "name": "stdout",
     "output_type": "stream",
     "text": [
      "              precision    recall  f1-score   support\n",
      "\n",
      "           0       0.78      0.92      0.84        64\n",
      "           1       0.64      0.35      0.45        26\n",
      "\n",
      "    accuracy                           0.76        90\n",
      "   macro avg       0.71      0.63      0.65        90\n",
      "weighted avg       0.74      0.76      0.73        90\n",
      "\n"
     ]
    }
   ],
   "source": [
    "# 예측값 pred에 할당\n",
    "pred = model_lr.predict(X_test)\n",
    "\n",
    "# 결과 출력\n",
    "print(classification_report(y_test, pred))"
   ]
  },
  {
   "cell_type": "code",
   "execution_count": 30,
   "metadata": {
    "ExecuteTime": {
     "end_time": "2021-06-17T05:33:57.034405Z",
     "start_time": "2021-06-17T05:33:57.020441Z"
    },
    "scrolled": true
   },
   "outputs": [
    {
     "name": "stdout",
     "output_type": "stream",
     "text": [
      "오차 행렬\n",
      "[[59  5]\n",
      " [17  9]]\n",
      "정확도: 0.76, 정밀도: 0.64, 재현율: 0.35\n"
     ]
    }
   ],
   "source": [
    "get_eval(y_test,pred)"
   ]
  },
  {
   "cell_type": "markdown",
   "metadata": {
    "id": "xTRTOLTNto3h"
   },
   "source": [
    "## Step5. 앙상블로 머신러닐 결과 향상 시키기\n"
   ]
  },
  {
   "cell_type": "markdown",
   "metadata": {},
   "source": [
    "### XGBoost 모델 생성&학습"
   ]
  },
  {
   "cell_type": "code",
   "execution_count": 31,
   "metadata": {
    "ExecuteTime": {
     "end_time": "2021-06-17T05:33:57.064328Z",
     "start_time": "2021-06-17T05:33:57.035403Z"
    },
    "executionInfo": {
     "elapsed": 517,
     "status": "ok",
     "timestamp": 1610285036511,
     "user": {
      "displayName": "김패캠",
      "photoUrl": "",
      "userId": "06994282823286758918"
     },
     "user_tz": -540
    },
    "id": "ow28ZRL4F7D5"
   },
   "outputs": [],
   "source": [
    "from xgboost import XGBClassifier"
   ]
  },
  {
   "cell_type": "code",
   "execution_count": 32,
   "metadata": {
    "ExecuteTime": {
     "end_time": "2021-06-17T05:33:57.169044Z",
     "start_time": "2021-06-17T05:33:57.066320Z"
    },
    "colab": {
     "base_uri": "https://localhost:8080/"
    },
    "executionInfo": {
     "elapsed": 785,
     "status": "ok",
     "timestamp": 1610285037209,
     "user": {
      "displayName": "김패캠",
      "photoUrl": "",
      "userId": "06994282823286758918"
     },
     "user_tz": -540
    },
    "id": "LSSNqFUrGM6R",
    "outputId": "c5d6d5f8-d391-4ad6-ba0c-e14ba100843b"
   },
   "outputs": [
    {
     "name": "stdout",
     "output_type": "stream",
     "text": [
      "[14:33:57] WARNING: C:/Users/Administrator/workspace/xgboost-win64_release_1.4.0/src/learner.cc:1095: Starting in XGBoost 1.3.0, the default evaluation metric used with the objective 'binary:logistic' was changed from 'error' to 'logloss'. Explicitly set eval_metric if you'd like to restore the old behavior.\n"
     ]
    },
    {
     "data": {
      "text/plain": [
       "XGBClassifier(base_score=0.5, booster='gbtree', colsample_bylevel=1,\n",
       "              colsample_bynode=1, colsample_bytree=1, gamma=0, gpu_id=-1,\n",
       "              importance_type='gain', interaction_constraints='',\n",
       "              learning_rate=0.300000012, max_delta_step=0, max_depth=6,\n",
       "              min_child_weight=1, missing=nan, monotone_constraints='()',\n",
       "              n_estimators=100, n_jobs=6, num_parallel_tree=1, random_state=0,\n",
       "              reg_alpha=0, reg_lambda=1, scale_pos_weight=1, subsample=1,\n",
       "              tree_method='exact', validate_parameters=1, verbosity=None)"
      ]
     },
     "execution_count": 32,
     "metadata": {},
     "output_type": "execute_result"
    }
   ],
   "source": [
    "# 모델 생성\n",
    "model_xgb = XGBClassifier()\n",
    "\n",
    "# 모델 학습\n",
    "model_xgb.fit(X_train, y_train)"
   ]
  },
  {
   "cell_type": "markdown",
   "metadata": {
    "id": "kAisZoSEtp35"
   },
   "source": [
    "### 모델 학습 결과 평가2"
   ]
  },
  {
   "cell_type": "code",
   "execution_count": 33,
   "metadata": {
    "ExecuteTime": {
     "end_time": "2021-06-17T05:33:57.184004Z",
     "start_time": "2021-06-17T05:33:57.170042Z"
    },
    "colab": {
     "base_uri": "https://localhost:8080/"
    },
    "executionInfo": {
     "elapsed": 654,
     "status": "ok",
     "timestamp": 1610285038598,
     "user": {
      "displayName": "김패캠",
      "photoUrl": "",
      "userId": "06994282823286758918"
     },
     "user_tz": -540
    },
    "id": "WLnyYNJwGRgd",
    "outputId": "f3f41d69-0f57-4c13-a363-cd80a3110103"
   },
   "outputs": [
    {
     "name": "stdout",
     "output_type": "stream",
     "text": [
      "              precision    recall  f1-score   support\n",
      "\n",
      "           0       0.81      0.88      0.84        64\n",
      "           1       0.62      0.50      0.55        26\n",
      "\n",
      "    accuracy                           0.77        90\n",
      "   macro avg       0.72      0.69      0.70        90\n",
      "weighted avg       0.76      0.77      0.76        90\n",
      "\n"
     ]
    }
   ],
   "source": [
    "# 예측\n",
    "pred = model_xgb.predict(X_test)\n",
    "\n",
    "# 결과 출력\n",
    "print(classification_report(y_test, pred))"
   ]
  },
  {
   "cell_type": "markdown",
   "metadata": {},
   "source": [
    "- Precision과 Recall은 정확도를 측정하는 관점이 서로 다르다.\n",
    "- 때문에 어느 하나가 높다고 무조건 좋은 결과라 할 수 없다.\n",
    "- 이 둘을 모두 고려한 값이 f1-score 이다. (Precision & Recall의 조화평균)"
   ]
  },
  {
   "cell_type": "code",
   "execution_count": 34,
   "metadata": {
    "ExecuteTime": {
     "end_time": "2021-06-17T05:33:57.198965Z",
     "start_time": "2021-06-17T05:33:57.185002Z"
    }
   },
   "outputs": [
    {
     "name": "stdout",
     "output_type": "stream",
     "text": [
      "오차 행렬\n",
      "[[56  8]\n",
      " [13 13]]\n",
      "정확도: 0.77, 정밀도: 0.62, 재현율: 0.50\n"
     ]
    }
   ],
   "source": [
    "get_eval(y_test,pred)"
   ]
  },
  {
   "cell_type": "markdown",
   "metadata": {},
   "source": [
    "# Step 6. 분석결과에서 Insight 찾기"
   ]
  },
  {
   "cell_type": "markdown",
   "metadata": {
    "id": "3A7Ghq67tqsM"
   },
   "source": [
    "##  Feature importance 확인하기\n"
   ]
  },
  {
   "cell_type": "code",
   "execution_count": 35,
   "metadata": {
    "ExecuteTime": {
     "end_time": "2021-06-17T05:33:57.468274Z",
     "start_time": "2021-06-17T05:33:57.200960Z"
    },
    "colab": {
     "base_uri": "https://localhost:8080/",
     "height": 385
    },
    "executionInfo": {
     "elapsed": 764,
     "status": "ok",
     "timestamp": 1610285039555,
     "user": {
      "displayName": "김패캠",
      "photoUrl": "",
      "userId": "06994282823286758918"
     },
     "user_tz": -540
    },
    "id": "1Fo6x7b7GU1W",
    "outputId": "2d481dc5-b30c-4fa8-855c-278b55356870"
   },
   "outputs": [
    {
     "data": {
      "image/png": "[encoded data removed]",
      "text/plain": [
       "<Figure size 432x288 with 1 Axes>"
      ]
     },
     "metadata": {
      "needs_background": "light"
     },
     "output_type": "display_data"
    }
   ],
   "source": [
    "plt.barh(X.columns, model_xgb.feature_importances_) # 가로 출력 (barh)\n",
    "\n",
    "plt.show()"
   ]
  },
  {
   "cell_type": "markdown",
   "metadata": {},
   "source": [
    "- serum_creatinine이 가장 중요한 요소이다.\n",
    "- ejection_fraction 이 두번째로 중요한 요소이다.\n",
    "- age가 세번째로 중요한 요소이다.\n",
    "\n",
    "즉 심부전증 예측을 위해 위의 3 요소를 중점적으로 살펴 보는 것이 중요하다."
   ]
  },
  {
   "cell_type": "code",
   "execution_count": 36,
   "metadata": {
    "ExecuteTime": {
     "end_time": "2021-06-17T05:33:57.932732Z",
     "start_time": "2021-06-17T05:33:57.469242Z"
    }
   },
   "outputs": [
    {
     "data": {
      "text/plain": [
       "<seaborn.axisgrid.JointGrid at 0x25f9abd48b0>"
      ]
     },
     "execution_count": 36,
     "metadata": {},
     "output_type": "execute_result"
    },
    {
     "data": {
      "image/png": "[encoded data removed]",
      "text/plain": [
       "<Figure size 432x432 with 3 Axes>"
      ]
     },
     "metadata": {
      "needs_background": "light"
     },
     "output_type": "display_data"
    }
   ],
   "source": [
    "sns.jointplot(x='ejection_fraction', y='serum_creatinine', data=df, hue='DEATH_EVENT')"
   ]
  },
  {
   "cell_type": "markdown",
   "metadata": {},
   "source": [
    "- 주요 변수로 판별된 2개의 feature에서 발생한 DEATH_EVENT가 서로 구분이 잘 된다. \n",
    "- 이 데이터들을 기반으로 심부전증 여부를 판별하게 된다면 분류를 잘 할 수 있을 것으로 예상 된다."
   ]
  },
  {
   "cell_type": "markdown",
   "metadata": {
    "id": "7icVVlSwtr53"
   },
   "source": [
    "## Step6 두개의 모델 학습 결과 심화 분석\n"
   ]
  },
  {
   "cell_type": "markdown",
   "metadata": {
    "id": "LmaEIOOItvJa"
   },
   "source": [
    "### Precision-Recall 커브 확인 - 주로 불균형한 데이터르 평가할때 사용"
   ]
  },
  {
   "cell_type": "code",
   "execution_count": 37,
   "metadata": {
    "ExecuteTime": {
     "end_time": "2021-06-17T05:33:57.947913Z",
     "start_time": "2021-06-17T05:33:57.933701Z"
    },
    "executionInfo": {
     "elapsed": 649,
     "status": "ok",
     "timestamp": 1610285264658,
     "user": {
      "displayName": "김패캠",
      "photoUrl": "",
      "userId": "06994282823286758918"
     },
     "user_tz": -540
    },
    "id": "nmgLWL84Gji6"
   },
   "outputs": [],
   "source": [
    "from sklearn.metrics import plot_precision_recall_curve"
   ]
  },
  {
   "cell_type": "code",
   "execution_count": 38,
   "metadata": {
    "ExecuteTime": {
     "end_time": "2021-06-17T05:33:58.172288Z",
     "start_time": "2021-06-17T05:33:57.949882Z"
    },
    "colab": {
     "base_uri": "https://localhost:8080/",
     "height": 296
    },
    "executionInfo": {
     "elapsed": 660,
     "status": "ok",
     "timestamp": 1610285381809,
     "user": {
      "displayName": "김패캠",
      "photoUrl": "",
      "userId": "06994282823286758918"
     },
     "user_tz": -540
    },
    "id": "BUIXk9RNGnRa",
    "outputId": "2a22934d-e8b0-4148-ab88-ed1088e9a3e7"
   },
   "outputs": [
    {
     "data": {
      "text/plain": [
       "<sklearn.metrics._plot.precision_recall_curve.PrecisionRecallDisplay at 0x25f9ad915e0>"
      ]
     },
     "execution_count": 38,
     "metadata": {},
     "output_type": "execute_result"
    },
    {
     "data": {
      "image/png": "[encoded data removed]",
      "text/plain": [
       "<Figure size 432x288 with 1 Axes>"
      ]
     },
     "metadata": {
      "needs_background": "light"
     },
     "output_type": "display_data"
    }
   ],
   "source": [
    "# 두 모델의 Precision-Recall 커브를 한번에 그리기\n",
    "fig = plt.figure() #기본 figure 생성\n",
    "\n",
    "ax = fig.gca() #여러개의 x를 사용해 하나의 캔버스에 그리기 위해 사용\n",
    "\n",
    "plot_precision_recall_curve(model_lr, X_test, y_test, ax=ax)\n",
    "plot_precision_recall_curve(model_xgb, X_test, y_test, ax=ax)"
   ]
  },
  {
   "cell_type": "markdown",
   "metadata": {},
   "source": [
    "- 2개의 그래프를 비교하였을때 위쪽에 위치한 것이 더 정확도가 높은 모델이란 뜻이다.\n",
    "- 전반적으로 XGBClassifier이 더 높은 성능을 보여주고 있다."
   ]
  },
  {
   "cell_type": "markdown",
   "metadata": {
    "id": "5yIbQKjktuwg"
   },
   "source": [
    "### ROC 커브 확인하기 - 주로 균형인 데이터를 평가할때 사용"
   ]
  },
  {
   "cell_type": "code",
   "execution_count": 39,
   "metadata": {
    "ExecuteTime": {
     "end_time": "2021-06-17T05:33:58.187344Z",
     "start_time": "2021-06-17T05:33:58.174283Z"
    },
    "executionInfo": {
     "elapsed": 660,
     "status": "ok",
     "timestamp": 1610285503408,
     "user": {
      "displayName": "김패캠",
      "photoUrl": "",
      "userId": "06994282823286758918"
     },
     "user_tz": -540
    },
    "id": "kZKXWpKOGmXf"
   },
   "outputs": [],
   "source": [
    "from sklearn.metrics import plot_roc_curve"
   ]
  },
  {
   "cell_type": "code",
   "execution_count": 40,
   "metadata": {
    "ExecuteTime": {
     "end_time": "2021-06-17T05:33:58.396600Z",
     "start_time": "2021-06-17T05:33:58.189339Z"
    },
    "colab": {
     "base_uri": "https://localhost:8080/",
     "height": 296
    },
    "executionInfo": {
     "elapsed": 943,
     "status": "ok",
     "timestamp": 1610285504311,
     "user": {
      "displayName": "김패캠",
      "photoUrl": "",
      "userId": "06994282823286758918"
     },
     "user_tz": -540
    },
    "id": "3bY4SZZ4HBdN",
    "outputId": "74f74c59-4f3c-4a62-ca10-012cb78c8310"
   },
   "outputs": [
    {
     "data": {
      "text/plain": [
       "<sklearn.metrics._plot.roc_curve.RocCurveDisplay at 0x25f9adff4f0>"
      ]
     },
     "execution_count": 40,
     "metadata": {},
     "output_type": "execute_result"
    },
    {
     "data": {
      "image/png": "[encoded data removed]",
      "text/plain": [
       "<Figure size 432x288 with 1 Axes>"
      ]
     },
     "metadata": {
      "needs_background": "light"
     },
     "output_type": "display_data"
    }
   ],
   "source": [
    "# 두 모델의 ROC 커브를 한번에 그리기\n",
    "fig = plt.figure()\n",
    "ax = fig.gca()\n",
    "plot_roc_curve(model_lr, X_test, y_test, ax=ax)\n",
    "plot_roc_curve(model_xgb, X_test, y_test, ax=ax)"
   ]
  },
  {
   "cell_type": "markdown",
   "metadata": {
    "id": "2e-QHSTrftNY"
   },
   "source": [
    "- TP(True Positive) rate가 낮을때 얼마나 빨리 1에 가까워 지는지로 평가\n",
    "- AUC (Area Under Curve) : 그래프 아래의 영역의 넓이 값\n",
    "- 전반적으로 LogisticRegression이 더 높은 성능을 보여주고 있다.\n",
    "---"
   ]
  },
  {
   "cell_type": "markdown",
   "metadata": {},
   "source": [
    "# 결론"
   ]
  },
  {
   "cell_type": "markdown",
   "metadata": {},
   "source": [
    "- 주어진 데이터를 기반으로 보았을때 심부전증 예측에 중요한 요소는 serum_creatinine(혈중 크레아틴 레벨), ejection_fraction(박출계수), 그리고 age이다.\n",
    "\n",
    "- 실제로 도메인 지식과 비교봤을때 크레아틴 레벨이나, 박출계수는 심부전을 측정하는데 중요한 지표이다.\n",
    "\n",
    "\n",
    "\n",
    "- **그러므로 Classification을 적용한 데이터 분석으로 심부전증을 예측할 수 있음을 확인했다.**"
   ]
  }
 ],
 "metadata": {
  "colab": {
   "collapsed_sections": [
    "cxZwPnfms0-9"
   ],
   "name": "1-1. 데이터 분석으로 심부전증을 예방할 수 있을까 (Typed)",
   "provenance": [
    {
     "file_id": "1j79f83Q3TPyjwsbNx2fy_Dt-J37MVNvZ",
     "timestamp": 1605597047726
    },
    {
     "file_id": "1QiLPv5TzBrE7Lb-X4fMq7KHePTq0Em2L",
     "timestamp": 1605593695308
    },
    {
     "file_id": "1Ot6dlC7E_dqo8XOgyTA03SKSqFcvkCdO",
     "timestamp": 1605087778098
    },
    {
     "file_id": "1cS2OjWOehEb97E7763rQ_LrzQIK34Kd-",
     "timestamp": 1604921871166
    },
    {
     "file_id": "1g7SaVjG6EvBPvIH4ADG2RA3qN8v521d1",
     "timestamp": 1604886286018
    }
   ]
  },
  "kernelspec": {
   "display_name": "Python 3",
   "language": "python",
   "name": "python3"
  },
  "language_info": {
   "codemirror_mode": {
    "name": "ipython",
    "version": 3
   },
   "file_extension": ".py",
   "mimetype": "text/x-python",
   "name": "python",
   "nbconvert_exporter": "python",
   "pygments_lexer": "ipython3",
   "version": "3.8.5"
  },
  "toc": {
   "base_numbering": 1,
   "nav_menu": {},
   "number_sections": true,
   "sideBar": true,
   "skip_h1_title": false,
   "title_cell": "Table of Contents",
   "title_sidebar": "Contents",
   "toc_cell": false,
   "toc_position": {
    "height": "calc(100% - 180px)",
    "left": "10px",
    "top": "150px",
    "width": "348.722px"
   },
   "toc_section_display": true,
   "toc_window_display": true
  },
  "varInspector": {
   "cols": {
    "lenName": 16,
    "lenType": 16,
    "lenVar": 40
   },
   "kernels_config": {
    "python": {
     "delete_cmd_postfix": "",
     "delete_cmd_prefix": "del ",
     "library": "var_list.py",
     "varRefreshCmd": "print(var_dic_list())"
    },
    "r": {
     "delete_cmd_postfix": ") ",
     "delete_cmd_prefix": "rm(",
     "library": "var_list.r",
     "varRefreshCmd": "cat(var_dic_list()) "
    }
   },
   "types_to_exclude": [
    "module",
    "function",
    "builtin_function_or_method",
    "instance",
    "_Feature"
   ],
   "window_display": false
  }
 },
 "nbformat": 4,
 "nbformat_minor": 1
}
